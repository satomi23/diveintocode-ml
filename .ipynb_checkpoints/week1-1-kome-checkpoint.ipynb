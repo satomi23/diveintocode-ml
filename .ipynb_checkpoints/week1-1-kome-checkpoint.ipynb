{
 "cells": [
  {
   "cell_type": "markdown",
   "metadata": {},
   "source": [
    "# Week1 授業課題2 曽呂利新左衛門問題"
   ]
  },
  {
   "cell_type": "markdown",
   "metadata": {},
   "source": [
    "## 【問題1】100日目の米粒の数"
   ]
  },
  {
   "cell_type": "markdown",
   "metadata": {},
   "source": [
    "**1日目から100日目までの「その日にもらう米の数」と「その日までに累計で貰う米の数」**"
   ]
  },
  {
   "cell_type": "code",
   "execution_count": 93,
   "metadata": {},
   "outputs": [
    {
     "name": "stdout",
     "output_type": "stream",
     "text": [
      "100日目にもらう米の数は633825300114114700748351602688粒です\n",
      "100日目までにもらう米の数は1267650600228229401496703205375粒です\n"
     ]
    }
   ],
   "source": [
    "kome= 1\n",
    "kome_list =[]\n",
    "total_kome_list =[]\n",
    "kome_list.append(kome)\n",
    "total_kome_list.append(kome)\n",
    "\n",
    "for i in range(100):\n",
    "    kome *=2\n",
    "    kome_list.append(kome)\n",
    "    total_kome_list.append(sum(kome_list))\n",
    "#print(kome_list)\n",
    "#print(total_kome_list)\n",
    "print(\"100日目にもらう米の数は{}粒です\".format(kome_list[-2]))\n",
    "print(\"100日目までにもらう米の数は{}粒です\".format(total_kome_list[-2]))"
   ]
  },
  {
   "cell_type": "markdown",
   "metadata": {},
   "source": [
    "**推移を折れ線グラフで表現（縦軸が米の数、横軸が日数）**"
   ]
  },
  {
   "cell_type": "code",
   "execution_count": 18,
   "metadata": {},
   "outputs": [
    {
     "data": {
      "image/png": "[encoded data removed]",
      "text/plain": [
       "<Figure size 432x288 with 1 Axes>"
      ]
     },
     "metadata": {
      "needs_background": "light"
     },
     "output_type": "display_data"
    }
   ],
   "source": [
    "import matplotlib.pyplot as plt\n",
    "%matplotlib inline\n",
    "\n",
    "plt.title(\"total_kome\")\n",
    "plt.xlabel(\"day\")\n",
    "plt.ylabel(\"nun\")\n",
    "plt.plot(kome_list) # 「リスト名」のところにリストの変数名を入れる\n",
    "plt.show()"
   ]
  },
  {
   "cell_type": "code",
   "execution_count": 19,
   "metadata": {
    "scrolled": false
   },
   "outputs": [
    {
     "data": {
      "image/png": "[encoded data removed]",
      "text/plain": [
       "<Figure size 432x288 with 1 Axes>"
      ]
     },
     "metadata": {
      "needs_background": "light"
     },
     "output_type": "display_data"
    }
   ],
   "source": [
    "plt.title(\"total_kome\")\n",
    "plt.xlabel(\"day\")\n",
    "plt.ylabel(\"nun\")\n",
    "plt.plot(total_kome_list) # 「リスト名」のところにリストの変数名を入れる\n",
    "plt.show()"
   ]
  },
  {
   "cell_type": "markdown",
   "metadata": {},
   "source": [
    "## 【問題2】100日目以外の米粒の数\n",
    "**日数を引数とした 関数 を作成**"
   ]
  },
  {
   "cell_type": "code",
   "execution_count": 28,
   "metadata": {},
   "outputs": [],
   "source": [
    "def compute_sorori_shinzaemon(day=100):\n",
    "    list_n_grains = []\n",
    "    list_total_grains = []\n",
    "    kome=1\n",
    "    list_n_grains.append(kome)\n",
    "    list_total_grains.append(kome)\n",
    "    \n",
    "    for i in range(day):\n",
    "        kome *= 2\n",
    "        list_n_grains.append(kome)  \n",
    "        list_total_grains.append(sum(list_n_grains))\n",
    "    \n",
    "    return list_n_grains, list_total_grains\n",
    "list_n_grains, list_total_grains = compute_sorori_shinzaemon(day=100)"
   ]
  },
  {
   "cell_type": "code",
   "execution_count": 27,
   "metadata": {},
   "outputs": [],
   "source": [
    "#compute_sorori_shinzaemon()"
   ]
  },
  {
   "cell_type": "markdown",
   "metadata": {},
   "source": [
    "## 【問題3】何人が何日生活できる米か\n",
    "この米があれば何人が何日生活できるか計算する関数を作成してください。コースを受講する期間に貰える米粒で、このクラスにいる人数であれば、何日間生活できるかを出力。\n",
    "\n",
    "**一日に必要な米**\n",
    "以下より\n",
    "http://www.komenet.jp/_qa/chawanippai/chawan_ippai02.html\n",
    "\n",
    "茶碗1杯の米粒の量  → 3250粒  \n",
    "一日三食で一食につき茶碗1杯のご飯を食べるとし一日に必要な米粒の量を  \n",
    "→3250粒*3 = 9750 とする\n",
    "\n",
    "**クラスの人数**  \n",
    "11人\n",
    "\n",
    "**授業の期間**  \n",
    "10月1日〜1月31日までの123日\n",
    "\n",
    "**引数**  \n",
    "人数　num_people\n",
    "米もらう日数　day\n",
    "\n",
    "**変数**  \n",
    "その日もらえる米の数　list_n_kome\n",
    "トータルでもらえる米の数のリスト　list_total_kome  \n",
    "生活できる日数　live_days\n",
    "米　kome"
   ]
  },
  {
   "cell_type": "code",
   "execution_count": 94,
   "metadata": {},
   "outputs": [],
   "source": [
    "def compute_live_kome(day=100,num_people=11,class_days=123,one_day_kome =9750):\n",
    "    list_n_kome= []\n",
    "    list_total_kome= []\n",
    "    kome=1\n",
    "    list_n_kome.append(kome)\n",
    "    list_total_kome.append(kome)\n",
    "    live_days =1\n",
    "    num_peoplee = num_people\n",
    "    \n",
    "    for i in range(day):\n",
    "        kome *= 2\n",
    "        list_n_kome.append(kome)  \n",
    "        list_total_kome.append(sum(list_n_kome))\n",
    "    live_days = list_total_kome[-2]/(num_peoplee*one_day_kome*class_days)\n",
    "    print(\"{}人が{}日間でもらえる米の量{}粒で生活できる日数は{}日間です\"\n",
    "          .format(num_peoplee,day,list_total_kome[-2],live_days))"
   ]
  },
  {
   "cell_type": "code",
   "execution_count": 96,
   "metadata": {},
   "outputs": [
    {
     "name": "stdout",
     "output_type": "stream",
     "text": [
      "11人が100日間でもらえる米の量1267650600228229401496703205375粒で生活できる日数は9.609419525295957e+22日間です\n"
     ]
    }
   ],
   "source": [
    "compute_live_kome()"
   ]
  },
  {
   "cell_type": "code",
   "execution_count": 69,
   "metadata": {},
   "outputs": [
    {
     "name": "stdout",
     "output_type": "stream",
     "text": [
      "9750\n"
     ]
    }
   ],
   "source": [
    "    #return list_n_kome,list_total_kome,num_peoplee,live_days\n",
    "    #list_n_kome,list_total_kome,num_peoplee,day,live_days= compute_live_kome(day=100)"
   ]
  },
  {
   "cell_type": "code",
   "execution_count": 89,
   "metadata": {},
   "outputs": [
    {
     "name": "stdout",
     "output_type": "stream",
     "text": [
      "2.7640545133158255e+35\n"
     ]
    }
   ],
   "source": [
    "print(2535301200456458802993406410751/11*123*9750)"
   ]
  },
  {
   "cell_type": "code",
   "execution_count": 91,
   "metadata": {},
   "outputs": [
    {
     "name": "stdout",
     "output_type": "stream",
     "text": [
      "13191750\n"
     ]
    }
   ],
   "source": [
    "print(11*123*9750)"
   ]
  },
  {
   "cell_type": "code",
   "execution_count": 92,
   "metadata": {},
   "outputs": [
    {
     "name": "stdout",
     "output_type": "stream",
     "text": [
      "1.9218839050591913e+23\n"
     ]
    }
   ],
   "source": [
    "print(2535301200456458802993406410751/13191750)"
   ]
  }
 ],
 "metadata": {
  "kernelspec": {
   "display_name": "Python 3",
   "language": "python",
   "name": "python3"
  },
  "language_info": {
   "codemirror_mode": {
    "name": "ipython",
    "version": 3
   },
   "file_extension": ".py",
   "mimetype": "text/x-python",
   "name": "python",
   "nbconvert_exporter": "python",
   "pygments_lexer": "ipython3",
   "version": "3.7.3"
  }
 },
 "nbformat": 4,
 "nbformat_minor": 2
}
