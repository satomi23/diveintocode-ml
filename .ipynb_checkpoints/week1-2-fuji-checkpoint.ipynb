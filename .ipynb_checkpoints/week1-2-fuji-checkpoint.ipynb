{
 "cells": [
  {
   "cell_type": "markdown",
   "metadata": {},
   "source": [
    "# Week1 授業課題2 何回折ったら富士山を超えるか問題"
   ]
  },
  {
   "cell_type": "markdown",
   "metadata": {},
   "source": [
    "## 【問題1】富士山を超える最小の折る回数\n",
    "**厚さが「富士山(3776m)」を超えるのは何回紙を折った時か**"
   ]
  },
  {
   "cell_type": "markdown",
   "metadata": {},
   "source": [
    "THICKNESS = 0.00008\n",
    "fuji_high = 3776\n",
    "paper_high = THICKNESS\n",
    "num = 0\n",
    "\n",
    "while paper_high <= fuji_high:\n",
    "    paper_high *= 2\n",
    "    num += 1\n",
    "else:\n",
    "    print(\"富士山を超える最小のおる回数は： {}回です\".format(num))"
   ]
  },
  {
   "cell_type": "markdown",
   "metadata": {},
   "source": [
    "## 【問題2】任意の厚さに対応した関数を作成\n",
    "**距離を入力すると、何回折った時に超えるかを出力する関数**"
   ]
  },
  {
   "cell_type": "code",
   "execution_count": 27,
   "metadata": {},
   "outputs": [],
   "source": [
    "def compute_num(something_high=3776,thickness=0.00008):\n",
    "    \n",
    "    high = thickness\n",
    "    num = 0\n",
    "\n",
    "    while high <= something_high:\n",
    "        high *= 2\n",
    "        num += 1\n",
    "    else:\n",
    "        print(\"指定したものを超える最小のおる回数は： {}回です\".format(num))\n",
    "        return num\n",
    "    num = compute_num()"
   ]
  },
  {
   "cell_type": "code",
   "execution_count": 28,
   "metadata": {},
   "outputs": [
    {
     "name": "stdout",
     "output_type": "stream",
     "text": [
      "指定したものを超える最小のおる回数は： 26回です\n"
     ]
    },
    {
     "data": {
      "text/plain": [
       "26"
      ]
     },
     "execution_count": 28,
     "metadata": {},
     "output_type": "execute_result"
    }
   ],
   "source": [
    "compute_num()"
   ]
  },
  {
   "cell_type": "markdown",
   "metadata": {},
   "source": [
    "## 「最も近い太陽以外の恒星」に到達するには紙を何回折る必要があるか\n",
    "**最も近い太陽以外の恒星**  \n",
    "最も近い太陽以外の恒星はプロキシマ・ケンタウリ　4.243光年 =　4.01419e+16m\n",
    "以下参照\n",
    "https://ja.wikipedia.org/wiki/%E6%9C%80%E3%82%82%E8%BF%91%E3%81%84%E3%83%BB%E9%81%A0%E3%81%84%E5%A4%A9%E4%BD%93%E3%81%AE%E4%B8%80%E8%A6%A7"
   ]
  },
  {
   "cell_type": "code",
   "execution_count": 29,
   "metadata": {},
   "outputs": [
    {
     "name": "stdout",
     "output_type": "stream",
     "text": [
      "指定したものを超える最小のおる回数は： 69回です\n"
     ]
    },
    {
     "data": {
      "text/plain": [
       "69"
      ]
     },
     "execution_count": 29,
     "metadata": {},
     "output_type": "execute_result"
    }
   ],
   "source": [
    "compute_num(4.01419e+16,)"
   ]
  },
  {
   "cell_type": "markdown",
   "metadata": {},
   "source": [
    "## 【問題3】必要な紙の長さ"
   ]
  },
  {
   "cell_type": "markdown",
   "metadata": {},
   "source": [
    "**以下に届くために厚さ t0の紙をn回折るために必要な紙の長さを求める**  \n",
    "月までの長さ　＝　384,400,000m  \n",
    "富士山　＝　3776m  \n",
    "最も近い太陽以外の恒星= 4.01419e+16m"
   ]
  },
  {
   "cell_type": "code",
   "execution_count": 69,
   "metadata": {},
   "outputs": [],
   "source": [
    "import math\n",
    "\n",
    "#必要な紙の長さを計算する関数を作成\n",
    "#引数　something_high 紙を折って届けたいものの長さ、thickness　紙の厚さ\n",
    "\n",
    "def compute_paper_thickeness(something_high=3776,thickness=0.00008):\n",
    "    num_a = compute_num(something_high,thickness) \n",
    "    lengh_of_paper = math.pi*thickness/6*(2**num_a+4)*(2**num_a-1)                                        \n",
    "    print(\"必要な紙の長さは： {}mです\"\n",
    "              .format(lengh_of_paper))"
   ]
  },
  {
   "cell_type": "markdown",
   "metadata": {},
   "source": [
    "**①関数を利用し月に届く回数をおるための紙の長さを計算**"
   ]
  },
  {
   "cell_type": "code",
   "execution_count": 71,
   "metadata": {},
   "outputs": [
    {
     "name": "stdout",
     "output_type": "stream",
     "text": [
      "指定したものを超える最小のおる回数は： 43回です\n",
      "必要な紙の長さは： 3.240919444170781e+21mです\n"
     ]
    }
   ],
   "source": [
    "compute_paper_thickeness(384400000,)"
   ]
  },
  {
   "cell_type": "markdown",
   "metadata": {},
   "source": [
    "**②関数を利用し富士山に届く回数をおるための紙の長さを計算**"
   ]
  },
  {
   "cell_type": "code",
   "execution_count": 72,
   "metadata": {},
   "outputs": [
    {
     "name": "stdout",
     "output_type": "stream",
     "text": [
      "指定したものを超える最小のおる回数は： 26回です\n",
      "必要な紙の長さは： 188646348487.24017mです\n"
     ]
    }
   ],
   "source": [
    "compute_paper_thickeness(3776,)"
   ]
  },
  {
   "cell_type": "markdown",
   "metadata": {},
   "source": [
    "**③関数を利用し最も近い太陽以外の恒星に届く回数をおるための紙の長さを計算**"
   ]
  },
  {
   "cell_type": "code",
   "execution_count": 73,
   "metadata": {},
   "outputs": [
    {
     "name": "stdout",
     "output_type": "stream",
     "text": [
      "指定したものを超える最小のおる回数は： 69回です\n",
      "必要な紙の長さは： 1.4595803601100348e+37mです\n"
     ]
    }
   ],
   "source": [
    "compute_paper_thickeness(4.01419e+16,)"
   ]
  }
 ],
 "metadata": {
  "kernelspec": {
   "display_name": "Python 3",
   "language": "python",
   "name": "python3"
  },
  "language_info": {
   "codemirror_mode": {
    "name": "ipython",
    "version": 3
   },
   "file_extension": ".py",
   "mimetype": "text/x-python",
   "name": "python",
   "nbconvert_exporter": "python",
   "pygments_lexer": "ipython3",
   "version": "3.7.3"
  }
 },
 "nbformat": 4,
 "nbformat_minor": 2
}
