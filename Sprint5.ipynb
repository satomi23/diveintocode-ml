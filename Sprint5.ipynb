{
 "cells": [
  {
   "cell_type": "markdown",
   "metadata": {},
   "source": [
    "# Sprint5課題　機械学習スクラッチSVM"
   ]
  },
  {
   "cell_type": "markdown",
   "metadata": {},
   "source": [
    "## BF:データセット用意"
   ]
  },
  {
   "cell_type": "code",
   "execution_count": 335,
   "metadata": {},
   "outputs": [],
   "source": [
    "##アイリスのデータセット\n",
    "from sklearn.datasets import load_iris\n",
    "a = load_iris()\n",
    "import pandas as pd\n",
    "X_i = pd.DataFrame(a.data,columns=[\"sepal_length\",\"sepal_width\",\"petal_length\",\"petal_width\"])\n",
    "y_i = pd.DataFrame(a.target,columns=[\"Species\"])\n",
    "\n",
    "df = pd.concat([X_i,y_i],axis=1)\n",
    "df_12 =df[df['Species'].isin([1,2])]\n",
    "\n",
    "X_i =df_12.drop(\"Species\", axis=1).values\n",
    "X_i = X_i[:,:2]\n",
    "y_i = df_12.Species.values"
   ]
  },
  {
   "cell_type": "code",
   "execution_count": 340,
   "metadata": {},
   "outputs": [
    {
     "name": "stdout",
     "output_type": "stream",
     "text": [
      "[ 1  1  1  1  1  1  1  1  1  1  1  1  1  1  1  1  1  1  1  1  1  1  1  1\n",
      "  1  1  1  1  1  1  1  1  1  1  1  1  1  1  1  1  1  1  1  1  1  1  1  1\n",
      "  1  1 -1 -1 -1 -1 -1 -1 -1 -1 -1 -1 -1 -1 -1 -1 -1 -1 -1 -1 -1 -1 -1 -1\n",
      " -1 -1 -1 -1 -1 -1 -1 -1 -1 -1 -1 -1 -1 -1 -1 -1 -1 -1 -1 -1 -1 -1 -1 -1\n",
      " -1 -1 -1 -1]\n"
     ]
    }
   ],
   "source": [
    "print(y_i)\n",
    "y_i[y_i==2]= -1"
   ]
  },
  {
   "cell_type": "code",
   "execution_count": 355,
   "metadata": {},
   "outputs": [],
   "source": [
    "#アイリス\n",
    "X_train_i, X_test_i, y_train_i, y_test_i = train_test_split(X_i,y_i,test_size=0.25,shuffle = True)"
   ]
  },
  {
   "cell_type": "code",
   "execution_count": 432,
   "metadata": {},
   "outputs": [],
   "source": [
    "#データセット調整\n",
    "sepal_length =  df_12.iloc[:,0]\n",
    "spetal_width = df_12.iloc[:,1]\n",
    "petal_length = df_12.iloc[:,2]\n",
    "petal_width =  df_12.iloc[:,3]\n",
    "\n",
    "sp_pe_len = pd.concat([sepal_length,petal_length],axis=1)\n",
    "sp_pe_len_i =sp_pe_len.values\n",
    "\n",
    "#display(sp_pe_len)"
   ]
  },
  {
   "cell_type": "code",
   "execution_count": 197,
   "metadata": {},
   "outputs": [],
   "source": [
    "##シンプルデータセット1作成コード\n",
    "import numpy as np\n",
    "\n",
    "np.random.seed(seed=0)\n",
    "n_samples = 500\n",
    "f0 = [-1, 2]\n",
    "f1 = [2, -1]\n",
    "cov = [[1.0,0.8], [0.8, 1.0]]\n",
    "\n",
    "f0 = np.random.multivariate_normal(f0, cov, int(n_samples/2))\n",
    "f1 = np.random.multivariate_normal(f1, cov, int(n_samples/2))\n",
    "\n",
    "X = np.concatenate((f0, f1))\n",
    "y = np.concatenate((np.ones((int(n_samples/2))), np.ones((int(n_samples/2))) *(-1))).astype(np.int)\n",
    "\n",
    "random_index = np.random.permutation(np.arange(n_samples))\n",
    "X = X[random_index]\n",
    "y = y[random_index]"
   ]
  },
  {
   "cell_type": "code",
   "execution_count": null,
   "metadata": {},
   "outputs": [],
   "source": [
    "#シンプルデータ1\n",
    "from sklearn.model_selection import train_test_split\n",
    "X_train, X_test, y_train, y_test = train_test_split(X,y,test_size=0.25,shuffle = True)"
   ]
  },
  {
   "cell_type": "code",
   "execution_count": 315,
   "metadata": {},
   "outputs": [],
   "source": [
    "#シンプルデータセット2\n",
    "X_2 = np.array([[-0.44699 , -2.8073  ],[-1.4621  , -2.4586  ],\n",
    "       [ 0.10645 ,  1.9242  ],[-3.5944  , -4.0112  ],\n",
    "       [-0.9888  ,  4.5718  ],[-3.1625  , -3.9606  ],\n",
    "       [ 0.56421 ,  0.72888 ],[-0.60216 ,  8.4636  ],\n",
    "       [-0.61251 , -0.75345 ],[-0.73535 , -2.2718  ],\n",
    "       [-0.80647 , -2.2135  ],[ 0.86291 ,  2.3946  ],\n",
    "       [-3.1108  ,  0.15394 ],[-2.9362  ,  2.5462  ],\n",
    "       [-0.57242 , -2.9915  ],[ 1.4771  ,  3.4896  ],\n",
    "       [ 0.58619 ,  0.37158 ],[ 0.6017  ,  4.3439  ],\n",
    "       [-2.1086  ,  8.3428  ],[-4.1013  , -4.353   ],\n",
    "       [-1.9948  , -1.3927  ],[ 0.35084 , -0.031994],\n",
    "       [ 0.96765 ,  7.8929  ],[-1.281   , 15.6824  ],\n",
    "       [ 0.96765 , 10.083   ],[ 1.3763  ,  1.3347  ],\n",
    "       [-2.234   , -2.5323  ],[-2.9452  , -1.8219  ],\n",
    "       [ 0.14654 , -0.28733 ],[ 0.5461  ,  5.8245  ],\n",
    "       [-0.65259 ,  9.3444  ],[ 0.59912 ,  5.3524  ],\n",
    "       [ 0.50214 , -0.31818 ],[-3.0603  , -3.6461  ],\n",
    "       [-6.6797  ,  0.67661 ],[-2.353   , -0.72261 ],\n",
    "       [ 1.1319  ,  2.4023  ],[-0.12243 ,  9.0162  ],\n",
    "       [-2.5677  , 13.1779  ],[ 0.057313,  5.4681  ]])\n",
    "#y_2 = np.array([0, 0, 0, 0, 0, 0, 0, 0, 0, 0, 0, 0, 0, 0, 0, 0, 0, 0, 0, 0, 1, 1,1, 1, 1, 1, 1, 1, 1, 1, 1, 1, 1, 1, 1, 1, 1, 1, 1, 1])\n",
    "y_2 = np.array([-1, -1, -1, -1, -1, -1, -1, -1, -1, -1, -1, -1, -1, -1, -1, -1, -1, -1, -1, -1, 1, 1,1, 1, 1, 1, 1, 1, 1, 1, 1, 1, 1, 1, 1, 1, 1, 1, 1, 1])"
   ]
  },
  {
   "cell_type": "code",
   "execution_count": 421,
   "metadata": {},
   "outputs": [
    {
     "name": "stdout",
     "output_type": "stream",
     "text": [
      "[-1 -1 -1  1  1  1  1  1 -1  1 -1 -1 -1 -1  1  1 -1 -1 -1  1 -1  1  1  1\n",
      " -1  1 -1  1 -1 -1]\n",
      "[ 1  1 -1  1 -1  1 -1  1  1 -1]\n"
     ]
    }
   ],
   "source": [
    "print(y_train_2)\n",
    "print(y_test_2)"
   ]
  },
  {
   "cell_type": "code",
   "execution_count": 316,
   "metadata": {},
   "outputs": [],
   "source": [
    "#シンプルデータ2\n",
    "X_train_2, X_test_2, y_train_2, y_test_2 = train_test_split(X_2,y_2,test_size=0.25,shuffle = True)"
   ]
  },
  {
   "cell_type": "markdown",
   "metadata": {},
   "source": [
    "## 【問題1】SVM分類器のクラスを作成する"
   ]
  },
  {
   "cell_type": "code",
   "execution_count": 6,
   "metadata": {},
   "outputs": [],
   "source": [
    "import numpy"
   ]
  },
  {
   "cell_type": "code",
   "execution_count": 300,
   "metadata": {
    "code_folding": []
   },
   "outputs": [],
   "source": [
    "class ScratchSVMClassifier():\n",
    "        \n",
    "    def __init__(self, num_iter, lr):\n",
    "        # ハイパーパラメータを属性として記録\n",
    "        self.iter = num_iter\n",
    "        self.lr = lr\n",
    "     \n",
    "    def _kanel(self,X):\n",
    "        Xk = np.dot(X,X.T)\n",
    "        return Xk\n",
    "\n",
    "\n",
    "    def _lamda(self,X):\n",
    "        sm_n = X.shape[0]\n",
    "        self.lamda = np.random.randn(sm_n)\n",
    "        return self.lamda\n",
    "\n",
    "\n",
    "    def _new_lamda(self,X,y):\n",
    "        y_r=np.reshape(y,(y.shape[0],1))\n",
    "        \n",
    "        y_ij = np.dot(y_r,y_r.T)\n",
    "        X_ij = self._kanel(X)\n",
    "        \n",
    "        Xy_amad = X_ij*y_ij\n",
    "        Xy_sum = (self.lamda*Xy_amad).sum(1)\n",
    "        self.lamda +=  self.lr*(1-Xy_sum)\n",
    "        #0以下は0にする\n",
    "        self.lamda[self.lamda<=0]= 0\n",
    "        \n",
    "        return self.lamda\n",
    "       \n",
    "    def fit(self, X, y, X_val=None, y_val=None):\n",
    "        #predictで利用するXとyをselfで\n",
    "        self.X_train = X\n",
    "        self.y_train = y\n",
    "        \n",
    "        self.lamda = self._lamda(X)\n",
    "        \n",
    "        for i in range(self.iter):\n",
    "            self.lamda=self._new_lamda(X,y)            \n",
    "        return  self.lamda\n",
    "    \n",
    "    def predict(self,X):\n",
    "        index = self.lamda > 0.00001\n",
    "        #サポートベクトルのXとyとる\n",
    "        sb_X = self.X_train[index]\n",
    "        sb_y = self.y_train[index]\n",
    "        #計算\n",
    "        xxx = np.dot(X,sb_X.T)\n",
    "        #リシェーぷ\n",
    "        yyy_r=np.reshape(sb_y,(sb_y.shape[0],1))\n",
    "        yyy = lamda*yyy_r\n",
    "        #計算\n",
    "        y_pre = np.dot(xxx,yyy).sum(1)\n",
    "\n",
    "        #予測値「-1」or「1」を返す\n",
    "        n_p = y_pre.shape[0]\n",
    "        y_pre_k = np.arange(n_p)\n",
    "\n",
    "        for i in range(n_p):\n",
    "            if y_pre[i] > 0:\n",
    "                np.put(y_pre_k,[i],[1])\n",
    "            else:\n",
    "                np.put(y_pre_k,[i],[-1])\n",
    "        return y_pre_k"
   ]
  },
  {
   "cell_type": "markdown",
   "metadata": {},
   "source": [
    "メモ：X_train, X_test, y_train, y_test"
   ]
  },
  {
   "cell_type": "code",
   "execution_count": 301,
   "metadata": {},
   "outputs": [],
   "source": [
    "svm = ScratchSVMClassifier(num_iter=1000, lr=0.00001)"
   ]
  },
  {
   "cell_type": "code",
   "execution_count": 279,
   "metadata": {},
   "outputs": [],
   "source": [
    "lam = svm.fit(X,y)"
   ]
  },
  {
   "cell_type": "code",
   "execution_count": 231,
   "metadata": {},
   "outputs": [],
   "source": [
    "#print(lam)"
   ]
  },
  {
   "cell_type": "code",
   "execution_count": 165,
   "metadata": {},
   "outputs": [],
   "source": [
    "#print(lam)"
   ]
  },
  {
   "cell_type": "code",
   "execution_count": 189,
   "metadata": {},
   "outputs": [],
   "source": [
    "y_pre_k = svm.predict(X_t)"
   ]
  },
  {
   "cell_type": "code",
   "execution_count": 378,
   "metadata": {},
   "outputs": [],
   "source": [
    "#print(y_pre)\n",
    "#print(y_pre_k)"
   ]
  },
  {
   "cell_type": "code",
   "execution_count": 379,
   "metadata": {},
   "outputs": [],
   "source": [
    "#print(y_t)"
   ]
  },
  {
   "cell_type": "markdown",
   "metadata": {},
   "source": [
    "#### 利用データ"
   ]
  },
  {
   "cell_type": "code",
   "execution_count": null,
   "metadata": {},
   "outputs": [],
   "source": [
    "X = X_train\n",
    "y = y_train\n",
    "X_t = X_test\n",
    "y_t = y_test\n",
    "#print(y)"
   ]
  },
  {
   "cell_type": "markdown",
   "metadata": {},
   "source": [
    "### 途中計算分割"
   ]
  },
  {
   "cell_type": "code",
   "execution_count": null,
   "metadata": {},
   "outputs": [],
   "source": [
    "X_train, X_test, y_train, y_test"
   ]
  },
  {
   "cell_type": "code",
   "execution_count": 107,
   "metadata": {
    "code_folding": []
   },
   "outputs": [],
   "source": [
    "#初期ラムダ\n",
    "lamda = np.random.randn(375)\n",
    "#X_train, X_test, y_train, y_test = train_test_split(X,y,test_size=0.25,shuffle = True)"
   ]
  },
  {
   "cell_type": "code",
   "execution_count": 102,
   "metadata": {
    "code_folding": []
   },
   "outputs": [],
   "source": [
    "#Xのdot積\n",
    "X_ij = np.dot(X,X.T)\n",
    "#yのdot積\n",
    "y_r=np.reshape(y,(y.shape[0],1))\n",
    "y_ij = np.dot(y_r,y_r.T)"
   ]
  },
  {
   "cell_type": "code",
   "execution_count": 108,
   "metadata": {
    "code_folding": []
   },
   "outputs": [],
   "source": [
    "#yxのアマダーる積\n",
    "Xy_amad = X_ij*y_ij\n",
    "#ラムダをかけてsum\n",
    "Xy_sum = (lamda*Xy_amad).sum(1)"
   ]
  },
  {
   "cell_type": "code",
   "execution_count": 110,
   "metadata": {},
   "outputs": [],
   "source": [
    "#ラムダに新しいラムダかける\n",
    "lamda +=  0.0001*(1-Xy_sum)  "
   ]
  },
  {
   "cell_type": "code",
   "execution_count": 217,
   "metadata": {},
   "outputs": [],
   "source": [
    "lamda = lam\n",
    "X = X_train\n",
    "y = y_train\n",
    "X_t = X_test"
   ]
  },
  {
   "cell_type": "code",
   "execution_count": 218,
   "metadata": {},
   "outputs": [
    {
     "name": "stdout",
     "output_type": "stream",
     "text": [
      "(125,)\n",
      "(125,)\n"
     ]
    }
   ],
   "source": [
    "#予測\n",
    "#まずインデックスとる\n",
    "index = lamda > 0.00001\n",
    "#サポートベクトルのXとyとる\n",
    "sb_X = X[index]\n",
    "sb_y = y[index]\n",
    "#計算\n",
    "xxx = np.dot(X_t,sb_X.T)\n",
    "#リシェーぷ\n",
    "yyy_r=np.reshape(sb_y,(sb_y.shape[0],1))\n",
    "yyy = lamda*yyy_r\n",
    "#計算\n",
    "yyyyy = np.dot(xxx,yyy).sum(1)\n",
    "print(yyyyy.shape)\n",
    "print(y_t.shape)"
   ]
  },
  {
   "cell_type": "markdown",
   "metadata": {},
   "source": [
    "## 【問題3】指標値の算出"
   ]
  },
  {
   "cell_type": "code",
   "execution_count": 219,
   "metadata": {},
   "outputs": [],
   "source": [
    "from sklearn.metrics import accuracy_score\n",
    "from sklearn.metrics import precision_score\n",
    "from sklearn.metrics import recall_score\n",
    "from sklearn.metrics import f1_score\n",
    "from sklearn.metrics import confusion_matrix"
   ]
  },
  {
   "cell_type": "markdown",
   "metadata": {},
   "source": [
    "### シンプルデータ1"
   ]
  },
  {
   "cell_type": "code",
   "execution_count": 302,
   "metadata": {},
   "outputs": [],
   "source": [
    "lam_1 = svm.fit(X_train,y_train)"
   ]
  },
  {
   "cell_type": "code",
   "execution_count": 303,
   "metadata": {},
   "outputs": [],
   "source": [
    "y_pre_1 = svm.predict(X_test)"
   ]
  },
  {
   "cell_type": "code",
   "execution_count": 304,
   "metadata": {},
   "outputs": [
    {
     "name": "stdout",
     "output_type": "stream",
     "text": [
      "1.0\n",
      "1.0\n",
      "1.0\n",
      "1.0\n",
      "[[66  0]\n",
      " [ 0 59]]\n"
     ]
    }
   ],
   "source": [
    "#シンプルデータ1\n",
    "print(accuracy_score(y_test, y_pre_1))\n",
    "print(precision_score(y_test, y_pre_1))\n",
    "print(recall_score(y_test, y_pre_1))\n",
    "print(f1_score(y_test, y_pre_1))\n",
    "print(confusion_matrix(y_test, y_pre_1))"
   ]
  },
  {
   "cell_type": "markdown",
   "metadata": {},
   "source": [
    "### シンプルデータ2"
   ]
  },
  {
   "cell_type": "code",
   "execution_count": 317,
   "metadata": {},
   "outputs": [],
   "source": [
    "lam_2 = svm.fit(X_train_2,y_train_2)"
   ]
  },
  {
   "cell_type": "code",
   "execution_count": 318,
   "metadata": {},
   "outputs": [],
   "source": [
    "y_pre_2 = svm.predict(X_test_2)"
   ]
  },
  {
   "cell_type": "code",
   "execution_count": 319,
   "metadata": {},
   "outputs": [
    {
     "name": "stdout",
     "output_type": "stream",
     "text": [
      "[ 1 -1 -1 -1  1  1 -1 -1  1 -1]\n",
      "[ 1  1 -1  1 -1  1 -1  1  1 -1]\n"
     ]
    }
   ],
   "source": [
    "print(y_pre_2)\n",
    "print(y_test_2)"
   ]
  },
  {
   "cell_type": "code",
   "execution_count": 320,
   "metadata": {},
   "outputs": [
    {
     "name": "stdout",
     "output_type": "stream",
     "text": [
      "0.6\n",
      "0.75\n",
      "0.5\n",
      "0.6\n",
      "[[3 1]\n",
      " [3 3]]\n"
     ]
    }
   ],
   "source": [
    "#シンプルデータ2\n",
    "print(accuracy_score(y_test_2, y_pre_2))\n",
    "print(precision_score(y_test_2, y_pre_2))\n",
    "print(recall_score(y_test_2, y_pre_2))\n",
    "print(f1_score(y_test_2, y_pre_2))\n",
    "print(confusion_matrix(y_test_2, y_pre_2))"
   ]
  },
  {
   "cell_type": "markdown",
   "metadata": {},
   "source": [
    "### アイリスデータ"
   ]
  },
  {
   "cell_type": "code",
   "execution_count": 403,
   "metadata": {},
   "outputs": [],
   "source": [
    "lam_ir = svm.fit(X_train_i,y_train_i)"
   ]
  },
  {
   "cell_type": "code",
   "execution_count": 412,
   "metadata": {},
   "outputs": [],
   "source": [
    "y_pre_ir = svm.predict(X_test_i)"
   ]
  },
  {
   "cell_type": "code",
   "execution_count": 413,
   "metadata": {},
   "outputs": [
    {
     "name": "stdout",
     "output_type": "stream",
     "text": [
      "[-1 -1 -1  1  1  1 -1  1  1  1  1 -1  1 -1  1  1 -1  1  1 -1 -1 -1 -1  1\n",
      " -1]\n",
      "[-1 -1 -1 -1 -1 -1 -1 -1 -1 -1 -1 -1 -1 -1 -1 -1 -1 -1 -1 -1 -1 -1 -1 -1\n",
      " -1]\n"
     ]
    }
   ],
   "source": [
    "print(y_test_i)\n",
    "print(y_pre_ir)"
   ]
  },
  {
   "cell_type": "code",
   "execution_count": 414,
   "metadata": {},
   "outputs": [
    {
     "name": "stdout",
     "output_type": "stream",
     "text": [
      "0.48\n",
      "0.0\n",
      "0.0\n",
      "0.0\n",
      "[[12  0]\n",
      " [13  0]]\n"
     ]
    },
    {
     "name": "stderr",
     "output_type": "stream",
     "text": [
      "//anaconda3/lib/python3.7/site-packages/sklearn/metrics/classification.py:1437: UndefinedMetricWarning: Precision is ill-defined and being set to 0.0 due to no predicted samples.\n",
      "  'precision', 'predicted', average, warn_for)\n",
      "//anaconda3/lib/python3.7/site-packages/sklearn/metrics/classification.py:1437: UndefinedMetricWarning: F-score is ill-defined and being set to 0.0 due to no predicted samples.\n",
      "  'precision', 'predicted', average, warn_for)\n"
     ]
    }
   ],
   "source": [
    "#アイリスデータ2\n",
    "print(accuracy_score(y_test_i, y_pre_ir))\n",
    "print(precision_score(y_test_i, y_pre_ir))\n",
    "print(recall_score(y_test_i, y_pre_ir))\n",
    "print(f1_score(y_test_i, y_pre_ir))\n",
    "print(confusion_matrix(y_test_i, y_pre_ir))"
   ]
  },
  {
   "cell_type": "markdown",
   "metadata": {},
   "source": [
    "## 【問題4】決定領域の可視化"
   ]
  },
  {
   "cell_type": "code",
   "execution_count": 237,
   "metadata": {},
   "outputs": [],
   "source": [
    "import matplotlib.pyplot as plt"
   ]
  },
  {
   "cell_type": "code",
   "execution_count": 280,
   "metadata": {
    "code_folding": []
   },
   "outputs": [],
   "source": [
    "from matplotlib.colors import ListedColormap\n",
    "import matplotlib.patches as mpatches\n",
    "\n",
    "def decision_region(X, y, model, step=0.01, title='decision region', xlabel='xlabel', ylabel='ylabel', target_names=['versicolor', 'virginica']):\n",
    "    \"\"\"\n",
    "    2値分類を2次元の特徴量で学習したモデルの決定領域を描く。\n",
    "    背景の色が学習したモデルによる推定値から描画される。\n",
    "    散布図の点は訓練データまたは検証データである。\n",
    "\n",
    "    Parameters\n",
    "    ----------------\n",
    "    X : ndarray, shape(n_samples, 2)\n",
    "        特徴量\n",
    "    y : ndarray, shape(n_samples,)\n",
    "        ラベル\n",
    "    model : object\n",
    "        学習したモデルのインスンタスを入れる\n",
    "    step : float, (default : 0.1)\n",
    "        推定値を計算する間隔を設定する\n",
    "    title : str\n",
    "        グラフのタイトルの文章を与える\n",
    "    xlabel, ylabel : str\n",
    "        軸ラベルの文章を与える\n",
    "    target_names= : list of str\n",
    "        凡例の一覧を与える\n",
    "    \"\"\"\n",
    "    # setting\n",
    "    scatter_color = ['red', 'blue']\n",
    "    contourf_color = ['pink', 'skyblue']\n",
    "    n_class = 2\n",
    "\n",
    "    # pred\n",
    "    mesh_f0, mesh_f1  = np.meshgrid(np.arange(np.min(X[:,0])-0.5, np.max(X[:,0])+0.5, step), np.arange(np.min(X[:,1])-0.5, np.max(X[:,1])+0.5, step))\n",
    "    mesh = np.c_[np.ravel(mesh_f0),np.ravel(mesh_f1)]\n",
    "    y_pred = model.predict(mesh).reshape(mesh_f0.shape)\n",
    "    \n",
    "    # plot\n",
    "    plt.title(title)\n",
    "    plt.xlabel(xlabel)\n",
    "    plt.ylabel(ylabel)\n",
    "    plt.contourf(mesh_f0, mesh_f1, y_pred, n_class-1, cmap=ListedColormap(contourf_color))\n",
    "    plt.contour(mesh_f0, mesh_f1, y_pred, n_class-1, colors='y', linewidths=3, alpha=0.5)\n",
    "    for i, target in enumerate(set(y)):\n",
    "        plt.scatter(X[y==target][:, 0], X[y==target][:, 1], s=80, color=scatter_color[i], label=target_names[i], marker='o')\n",
    "    patches = [mpatches.Patch(color=scatter_color[i], label=target_names[i]) for i in range(n_class)]\n",
    "    plt.legend(handles=patches)\n",
    "    plt.legend()\n",
    "    plt.scatter(sb_X[:, 0],sb_X[:, 1],color='y',marker='o')\n",
    "    plt.show()"
   ]
  },
  {
   "cell_type": "code",
   "execution_count": 389,
   "metadata": {
    "code_folding": []
   },
   "outputs": [],
   "source": [
    "from matplotlib.colors import ListedColormap\n",
    "import matplotlib.patches as mpatches\n",
    "\n",
    "def decision_region_2(X, y, model, step=0.01, title='decision region', xlabel='xlabel', ylabel='ylabel', target_names=['a', 'b']):\n",
    "    \"\"\"\n",
    "    2値分類を2次元の特徴量で学習したモデルの決定領域を描く。\n",
    "    背景の色が学習したモデルによる推定値から描画される。\n",
    "    散布図の点は訓練データまたは検証データである。\n",
    "\n",
    "    Parameters\n",
    "    ----------------\n",
    "    X : ndarray, shape(n_samples, 2)\n",
    "        特徴量\n",
    "    y : ndarray, shape(n_samples,)\n",
    "        ラベル\n",
    "    model : object\n",
    "        学習したモデルのインスンタスを入れる\n",
    "    step : float, (default : 0.1)\n",
    "        推定値を計算する間隔を設定する\n",
    "    title : str\n",
    "        グラフのタイトルの文章を与える\n",
    "    xlabel, ylabel : str\n",
    "        軸ラベルの文章を与える\n",
    "    target_names= : list of str\n",
    "        凡例の一覧を与える\n",
    "    \"\"\"\n",
    "    # setting\n",
    "    scatter_color = ['red', 'blue']\n",
    "    contourf_color = ['pink', 'skyblue']\n",
    "    n_class = 2\n",
    "    \n",
    "    # pred\n",
    "    mesh_f0, mesh_f1  = np.meshgrid(np.arange(np.min(X[:,0])-0.5, np.max(X[:,0])+0.5, step), np.arange(np.min(X[:,1])-0.5, np.max(X[:,1])+0.5, step))\n",
    "    mesh = np.c_[np.ravel(mesh_f0),np.ravel(mesh_f1)]\n",
    "    y_pred = model.predict(mesh).reshape(mesh_f0.shape)\n",
    "    \n",
    "    # plot\n",
    "    plt.title(title)\n",
    "    plt.xlabel(xlabel)\n",
    "    plt.ylabel(ylabel)\n",
    "    plt.contourf(mesh_f0, mesh_f1, y_pred, n_class-1, cmap=ListedColormap(contourf_color))\n",
    "    plt.contour(mesh_f0, mesh_f1, y_pred, n_class-1, colors='y', linewidths=3, alpha=0.5)\n",
    "    for i, target in enumerate(set(y)):\n",
    "        plt.scatter(X[y==target][:, 0], X[y==target][:, 1], s=80, color=scatter_color[i], label=target_names[i], marker='o')\n",
    "    patches = [mpatches.Patch(color=scatter_color[i], label=target_names[i]) for i in range(n_class)]\n",
    "    plt.legend(handles=patches)\n",
    "    plt.legend()\n",
    "    plt.scatter(sb_X[:, 0],sb_X[:, 1],color='y',marker='o')\n",
    "    plt.show()"
   ]
  },
  {
   "cell_type": "markdown",
   "metadata": {},
   "source": [
    "### インスタンス化"
   ]
  },
  {
   "cell_type": "code",
   "execution_count": 395,
   "metadata": {},
   "outputs": [],
   "source": [
    "svm = ScratchSVMClassifier(num_iter=1000, lr=0.00001)"
   ]
  },
  {
   "cell_type": "markdown",
   "metadata": {},
   "source": [
    "### シンプルデータ1"
   ]
  },
  {
   "cell_type": "code",
   "execution_count": 396,
   "metadata": {},
   "outputs": [],
   "source": [
    "#fit\n",
    "lamda_1 = svm.fit(X_train,y_train)\n",
    "#サポートベクトルのXとる\n",
    "index = lamda_1 > 0.00001\n",
    "sb_X = X_train[index]"
   ]
  },
  {
   "cell_type": "code",
   "execution_count": 397,
   "metadata": {},
   "outputs": [
    {
     "data": {
      "image/png": "[encoded data removed]",
      "text/plain": [
       "<Figure size 432x288 with 1 Axes>"
      ]
     },
     "metadata": {
      "needs_background": "light"
     },
     "output_type": "display_data"
    }
   ],
   "source": [
    "decision_region_2(X=X_train, y=y_train, model=svm)"
   ]
  },
  {
   "cell_type": "markdown",
   "metadata": {},
   "source": [
    "### シンプルデータ2"
   ]
  },
  {
   "cell_type": "code",
   "execution_count": 399,
   "metadata": {},
   "outputs": [],
   "source": [
    "#fit\n",
    "lamda_2 = svm.fit(X_train_2,y_train_2)\n",
    "#サポートベクトルのXとる\n",
    "index = lamda_2 > 0.00001\n",
    "sb_X = X_train_2[index]"
   ]
  },
  {
   "cell_type": "code",
   "execution_count": 400,
   "metadata": {},
   "outputs": [
    {
     "data": {
      "image/png": "[encoded data removed]",
      "text/plain": [
       "<Figure size 432x288 with 1 Axes>"
      ]
     },
     "metadata": {
      "needs_background": "light"
     },
     "output_type": "display_data"
    }
   ],
   "source": [
    "decision_region_2(X=X_train_2, y=y_train_2, model=svm)"
   ]
  },
  {
   "cell_type": "markdown",
   "metadata": {},
   "source": [
    "### アイリスデータ"
   ]
  },
  {
   "cell_type": "code",
   "execution_count": null,
   "metadata": {},
   "outputs": [],
   "source": [
    "X_train_i, X_test_i, y_train_i, y_test_i "
   ]
  },
  {
   "cell_type": "code",
   "execution_count": 401,
   "metadata": {},
   "outputs": [],
   "source": [
    "#fit\n",
    "lamda_i = svm.fit(X_train_i,y_train_i)\n",
    "#サポートベクトルのXとる\n",
    "index = lamda_i > 0.00001\n",
    "sb_X = X_train_i[index]"
   ]
  },
  {
   "cell_type": "code",
   "execution_count": 373,
   "metadata": {},
   "outputs": [
    {
     "name": "stdout",
     "output_type": "stream",
     "text": [
      "[0.10209316 1.51494753 0.12929506 0.2151824  0.09207847 0.47726777\n",
      " 0.69909529 0.63751122 1.24774973 0.58312125 1.84407717 1.56781649\n",
      " 0.14662036 0.10050593 0.13390839 0.13266978 0.3121455  0.11253314\n",
      " 0.09185158 1.28685421 0.74877886 0.12446644 0.13604451 0.11411707\n",
      " 0.43564881 0.38989928 0.12189974 0.27053577 0.36803194 0.13963452\n",
      " 0.11583251 0.135147   0.13211339 0.1017822  1.37820367 1.64027601\n",
      " 0.13873701 0.5805529  0.08500881 0.12750005 0.12468173 0.13245449\n",
      " 1.88127711 0.74791463 0.23459116 0.13211339 0.1371573  0.10885937\n",
      " 0.10425993 0.11044958 0.1380548  0.10553768 0.10847274 0.55250524\n",
      " 0.08921987 0.10607464 0.12985146 0.13468008 0.11852502 0.10456609\n",
      " 0.628908   0.11570669 1.34490653 0.13288507 0.12245614 0.13266978\n",
      " 0.11841053 1.87506487 0.76117085 0.12997727 0.09907536 0.68547026\n",
      " 0.09478545 0.93778141 0.1032127 ]\n"
     ]
    }
   ],
   "source": [
    "#print(lamda_i)"
   ]
  },
  {
   "cell_type": "code",
   "execution_count": 402,
   "metadata": {},
   "outputs": [
    {
     "name": "stderr",
     "output_type": "stream",
     "text": [
      "//anaconda3/lib/python3.7/site-packages/ipykernel_launcher.py:42: UserWarning: No contour levels were found within the data range.\n"
     ]
    },
    {
     "data": {
      "image/png": "[encoded data removed]",
      "text/plain": [
       "<Figure size 432x288 with 1 Axes>"
      ]
     },
     "metadata": {
      "needs_background": "light"
     },
     "output_type": "display_data"
    }
   ],
   "source": [
    "decision_region_2(X=X_train_i, y=y_train_i, model=svm)"
   ]
  },
  {
   "cell_type": "code",
   "execution_count": 223,
   "metadata": {},
   "outputs": [],
   "source": [
    "step=0.01"
   ]
  },
  {
   "cell_type": "code",
   "execution_count": 224,
   "metadata": {},
   "outputs": [],
   "source": [
    "mesh_f0, mesh_f1  = np.meshgrid(np.arange(np.min(X[:,0])-0.5, \n",
    "                                          np.max(X[:,0])+0.5, step), np.arange(np.min(X[:,1])-0.5, np.max(X[:,1])+0.5, step))\n"
   ]
  },
  {
   "cell_type": "code",
   "execution_count": 225,
   "metadata": {},
   "outputs": [],
   "source": [
    "mesh = np.c_[np.ravel(mesh_f0),np.ravel(mesh_f1)]"
   ]
  },
  {
   "cell_type": "code",
   "execution_count": 230,
   "metadata": {},
   "outputs": [
    {
     "name": "stdout",
     "output_type": "stream",
     "text": [
      "[[-4.03448569 -4.1307311 ]\n",
      " [-4.02448569 -4.1307311 ]\n",
      " [-4.01448569 -4.1307311 ]\n",
      " ...\n",
      " [ 5.28551431  5.2092689 ]\n",
      " [ 5.29551431  5.2092689 ]\n",
      " [ 5.30551431  5.2092689 ]]\n",
      "[ 1  1  1  1 -1 -1  1  1  1  1 -1  1  1  1 -1 -1  1  1  1 -1 -1  1 -1 -1\n",
      "  1  1  1  1 -1  1  1  1 -1  1  1 -1  1  1 -1  1  1  1 -1  1 -1  1 -1 -1\n",
      "  1  1 -1  1 -1 -1 -1  1  1 -1 -1  1 -1  1  1  1 -1 -1 -1 -1 -1  1  1 -1\n",
      "  1  1  1  1  1  1 -1  1 -1  1  1 -1  1  1  1 -1 -1 -1 -1 -1  1 -1 -1 -1\n",
      " -1  1 -1 -1  1 -1  1 -1 -1  1 -1 -1 -1 -1  1  1  1 -1 -1  1  1 -1 -1 -1\n",
      " -1  1 -1  1 -1]\n"
     ]
    }
   ],
   "source": [
    "print(mesh)\n",
    "y_pred = svm.predict(mesh)\n",
    "print(y_pred)"
   ]
  },
  {
   "cell_type": "code",
   "execution_count": 192,
   "metadata": {},
   "outputs": [
    {
     "data": {
      "image/png": "[encoded data removed]",
      "text/plain": [
       "<Figure size 432x432 with 1 Axes>"
      ]
     },
     "metadata": {
      "needs_background": "light"
     },
     "output_type": "display_data"
    }
   ],
   "source": [
    "        seq = numpy.arange(-3, 3, 0.02)\n",
    "        pyplot.figure(figsize = (6, 6))\n",
    "        pyplot.xlim(-3, 3)\n",
    "        pyplot.ylim(-3, 3)\n",
    "        #pyplot.plot(seq, -(w[0] * seq + b) / w[1], 'k-')\n",
    "        pyplot.plot(X[y ==  1,0], X[y ==  1,1], 'ro')\n",
    "        pyplot.plot(X[y == -1,0], X[y == -1,1], 'bo')\n",
    "        pyplot.plot(X[y == -1,0], X[y == -1,1], 'bo')\n",
    "        \n",
    "        pyplot.savefig('graph.png')\n",
    "        pyplot.show()"
   ]
  },
  {
   "cell_type": "code",
   "execution_count": 200,
   "metadata": {},
   "outputs": [],
   "source": [
    "lam[lam<=0]= 0"
   ]
  },
  {
   "cell_type": "code",
   "execution_count": 283,
   "metadata": {},
   "outputs": [],
   "source": [
    "#print(lam)"
   ]
  },
  {
   "cell_type": "code",
   "execution_count": null,
   "metadata": {},
   "outputs": [],
   "source": [
    "1-np.dot("
   ]
  },
  {
   "cell_type": "code",
   "execution_count": null,
   "metadata": {},
   "outputs": [],
   "source": [
    "a[a<=0]= 0"
   ]
  },
  {
   "cell_type": "markdown",
   "metadata": {},
   "source": [
    "## 【問題5】時間の計測"
   ]
  },
  {
   "cell_type": "code",
   "execution_count": 284,
   "metadata": {},
   "outputs": [
    {
     "name": "stdout",
     "output_type": "stream",
     "text": [
      "time : 1.415602207183838s\n"
     ]
    }
   ],
   "source": [
    "import time\n",
    "t0 = time.time()\n",
    "# 何らかの処理\n",
    "lam = svm.fit(X,y)\n",
    "t1 = time.time()\n",
    "print('time : {}s'.format(t1-t0))"
   ]
  },
  {
   "cell_type": "markdown",
   "metadata": {},
   "source": [
    "## 【問題6】ロジスティック回帰とSVM"
   ]
  },
  {
   "cell_type": "markdown",
   "metadata": {},
   "source": [
    "・境界線で分類することは同じ  \n",
    "・分類の方法が複数考えられなかったり、分類した際にラベルの違うデータの距離が  \n",
    "そもそも開いている場合(境界線からのデータの距離が遠い)は同じような結果が出るのではと思う。  \n",
    "・ただし、分類するデータ同士が近い場所にあったり、境界線の引き方が複数考えられる場合は、SVMでサポートベクトルを利用した境界線を引けるSVMの方が精度が高くなりそうと感じた。"
   ]
  },
  {
   "cell_type": "markdown",
   "metadata": {},
   "source": [
    "## 試行錯誤"
   ]
  },
  {
   "cell_type": "markdown",
   "metadata": {},
   "source": [
    "### インスタンス化"
   ]
  },
  {
   "cell_type": "code",
   "execution_count": 415,
   "metadata": {},
   "outputs": [],
   "source": [
    "#デフォルト　svm = ScratchSVMClassifier(num_iter=1000, lr=0.00001)\n",
    "#学習回数を1000→100000に\n",
    "svm_s = ScratchSVMClassifier(num_iter=100000, lr=0.00001)"
   ]
  },
  {
   "cell_type": "code",
   "execution_count": 416,
   "metadata": {},
   "outputs": [],
   "source": [
    "#fit シンプルデータ1\n",
    "lamda_1 = svm_s.fit(X_train,y_train)\n",
    "#サポートベクトルのXとる\n",
    "index = lamda_1 > 0.00001\n",
    "sb_X = X_train[index]"
   ]
  },
  {
   "cell_type": "code",
   "execution_count": 417,
   "metadata": {},
   "outputs": [
    {
     "data": {
      "image/png": "[encoded data removed]",
      "text/plain": [
       "<Figure size 432x288 with 1 Axes>"
      ]
     },
     "metadata": {
      "needs_background": "light"
     },
     "output_type": "display_data"
    }
   ],
   "source": [
    "#サンプルデータ1では、学習回数を増やすと良さそうな感じになった\n",
    "decision_region_2(X=X_train, y=y_train, model=svm_s)"
   ]
  },
  {
   "cell_type": "code",
   "execution_count": 418,
   "metadata": {},
   "outputs": [],
   "source": [
    "#fit\n",
    "lamda_2s = svm_s.fit(X_train_2,y_train_2)\n",
    "#サポートベクトルのXとる\n",
    "index = lamda_2s > 0.00001\n",
    "sb_X = X_train_2[index]"
   ]
  },
  {
   "cell_type": "code",
   "execution_count": 420,
   "metadata": {},
   "outputs": [
    {
     "data": {
      "image/png": "[encoded data removed]",
      "text/plain": [
       "<Figure size 432x288 with 1 Axes>"
      ]
     },
     "metadata": {
      "needs_background": "light"
     },
     "output_type": "display_data"
    }
   ],
   "source": [
    "#サンプルデータ2はそうでもなさそう。というか全てがサポートベクトルになってしまった\n",
    "decision_region_2(X=X_train_2, y=y_train_2, model=svm_s)"
   ]
  },
  {
   "cell_type": "code",
   "execution_count": 438,
   "metadata": {},
   "outputs": [
    {
     "data": {
      "image/png": "[encoded data removed]",
      "text/plain": [
       "<Figure size 432x288 with 1 Axes>"
      ]
     },
     "metadata": {
      "needs_background": "light"
     },
     "output_type": "display_data"
    }
   ],
   "source": [
    "#普通に散布図描いてみる　→そもそもデータの問題？ とりあえずアイリス\n",
    "#X_train_i, X_test_i, y_train_i, y_test_i \n",
    "#綺麗に分かれそうな2変数に変更して実施してみたい\n",
    "#sp_pe_len_iで\n",
    "pyplot.plot(X_train_i_sp[y_train_i_sp == 1][:, 0], X_train_i_sp[y_train_i_sp == 1][:, 1], 'ro')\n",
    "pyplot.plot(X_train_i_sp[y_train_i_sp == -1][:, 0], X_train_i_sp[y_train_i_sp == -1][:, 1], 'bo')\n",
    "\n",
    "\n",
    "        #pyplot.plot(X[y == -1,0], X[y == -1,1], 'bo')\n",
    "        #pyplot.plot(X[y == -1,0], X[y == -1,1], 'bo')\n",
    "        \n",
    "        #pyplot.savefig('graph.png')\n",
    "pyplot.show()"
   ]
  },
  {
   "cell_type": "code",
   "execution_count": 437,
   "metadata": {},
   "outputs": [],
   "source": [
    "#sp_pe_len_iとy_i利用\n",
    "X_train_i_sp, X_test_i_sp, y_train_i_sp, y_test_i_sp = train_test_split(sp_pe_len_i,y_i,test_size=0.25,shuffle = True)"
   ]
  },
  {
   "cell_type": "code",
   "execution_count": 448,
   "metadata": {},
   "outputs": [],
   "source": [
    "#fit\n",
    "lamda_ir_sp = svm_s.fit(X_train_i_sp,y_train_i_sp)\n",
    "#サポートベクトルのXとる\n",
    "index_ir_sp = lamda_ir_sp > 0.00001\n",
    "sb_X = X_train_i_sp[index_ir_sp]"
   ]
  },
  {
   "cell_type": "code",
   "execution_count": 449,
   "metadata": {},
   "outputs": [
    {
     "name": "stderr",
     "output_type": "stream",
     "text": [
      "//anaconda3/lib/python3.7/site-packages/ipykernel_launcher.py:42: UserWarning: No contour levels were found within the data range.\n"
     ]
    },
    {
     "data": {
      "image/png": "[encoded data removed]",
      "text/plain": [
       "<Figure size 432x288 with 1 Axes>"
      ]
     },
     "metadata": {
      "needs_background": "light"
     },
     "output_type": "display_data"
    }
   ],
   "source": [
    "#線がなぜか引けないけども。。。サポートベクトルの数は少なくなったので良くなっている気はする\n",
    "#No contour levels were found within the data range.のワーニング\n",
    "#データ範囲内に等高線レベルは見つかりませんでした。\n",
    "decision_region_2(X=X_train_i_sp, y=y_train_i_sp, model=svm_s)"
   ]
  },
  {
   "cell_type": "code",
   "execution_count": 451,
   "metadata": {},
   "outputs": [],
   "source": [
    "y_pre_ir_s = svm_s.predict(X_test_i_sp)"
   ]
  },
  {
   "cell_type": "code",
   "execution_count": 452,
   "metadata": {},
   "outputs": [
    {
     "name": "stdout",
     "output_type": "stream",
     "text": [
      "[-1 -1 -1 -1 -1 -1 -1 -1 -1 -1 -1 -1 -1 -1 -1 -1 -1 -1 -1 -1 -1 -1 -1 -1\n",
      " -1]\n"
     ]
    }
   ],
   "source": [
    "#予測しても全てが-1に・・・\n",
    "print(y_pre_ir_s)"
   ]
  },
  {
   "cell_type": "code",
   "execution_count": 453,
   "metadata": {},
   "outputs": [
    {
     "name": "stdout",
     "output_type": "stream",
     "text": [
      "[0.         0.62258645 0.80260143 0.         0.         0.\n",
      " 1.60029312 0.00611896 0.         0.         1.05617975 0.\n",
      " 0.         0.         0.         0.         0.72010775 0.36869601\n",
      " 0.         0.12182925 0.         0.88349294 0.         0.\n",
      " 1.08251157 0.         0.         0.94119659 2.21928437 0.88654122\n",
      " 0.03344578 0.88117008 0.13633643 1.82254152 1.20157563 1.98002222\n",
      " 0.         0.         0.46267914 0.         0.         0.\n",
      " 1.39653834 0.38567495 0.         0.19329473 0.64007973 0.\n",
      " 0.         2.01747631 0.         0.42662929 0.         0.\n",
      " 0.87442587 0.43911432 0.         0.08558824 0.         0.\n",
      " 0.         0.89873474 1.19697177 0.38567495 0.74048397 0.11014412\n",
      " 0.         1.47354252 2.26514778 0.57780253 0.         1.05364904\n",
      " 2.29624923 0.46758363 0.65423326]\n"
     ]
    }
   ],
   "source": [
    "print(lamda_ir_sp)"
   ]
  },
  {
   "cell_type": "code",
   "execution_count": 454,
   "metadata": {},
   "outputs": [],
   "source": [
    "#学習回数を1000→100000に 学習率0.000001に\n",
    "svm_s_i = ScratchSVMClassifier(num_iter=100000, lr=0.000001)"
   ]
  },
  {
   "cell_type": "code",
   "execution_count": 455,
   "metadata": {},
   "outputs": [],
   "source": [
    "#fit\n",
    "lamda_ir_sp_i = svm_s_i.fit(X_train_i_sp,y_train_i_sp)\n",
    "#サポートベクトルのXとる\n",
    "index_ir_sp_i = lamda_ir_sp_i > 0.00001\n",
    "sb_X = X_train_i_sp[index_ir_sp_i]"
   ]
  },
  {
   "cell_type": "code",
   "execution_count": 456,
   "metadata": {},
   "outputs": [
    {
     "name": "stderr",
     "output_type": "stream",
     "text": [
      "//anaconda3/lib/python3.7/site-packages/ipykernel_launcher.py:42: UserWarning: No contour levels were found within the data range.\n"
     ]
    },
    {
     "data": {
      "image/png": "[encoded data removed]",
      "text/plain": [
       "<Figure size 432x288 with 1 Axes>"
      ]
     },
     "metadata": {
      "needs_background": "light"
     },
     "output_type": "display_data"
    }
   ],
   "source": [
    "#線も引けないし、サポートベクトルも増えて悪くなっていそう\n",
    "decision_region_2(X=X_train_i_sp, y=y_train_i_sp, model=svm_s_i)"
   ]
  },
  {
   "cell_type": "markdown",
   "metadata": {},
   "source": [
    "#### 「ScratchSVMClassifier_s」プログラム改修用コード"
   ]
  },
  {
   "cell_type": "code",
   "execution_count": null,
   "metadata": {
    "code_folding": [
     0
    ]
   },
   "outputs": [],
   "source": [
    "class ScratchSVMClassifier_s():\n",
    "        \n",
    "    def __init__(self, num_iter, lr):\n",
    "        # ハイパーパラメータを属性として記録\n",
    "        self.iter = num_iter\n",
    "        self.lr = lr\n",
    "     \n",
    "    def _kanel(self,X):\n",
    "        Xk = np.dot(X,X.T)\n",
    "        return Xk\n",
    "\n",
    "\n",
    "    def _lamda(self,X):\n",
    "        sm_n = X.shape[0]\n",
    "        self.lamda = np.random.randn(sm_n)\n",
    "        return self.lamda\n",
    "\n",
    "\n",
    "    def _new_lamda(self,X,y):\n",
    "        y_r=np.reshape(y,(y.shape[0],1))\n",
    "        \n",
    "        y_ij = np.dot(y_r,y_r.T)\n",
    "        X_ij = self._kanel(X)\n",
    "        \n",
    "        Xy_amad = X_ij*y_ij\n",
    "        Xy_sum = (self.lamda*Xy_amad).sum(1)\n",
    "        self.lamda +=  self.lr*(1-Xy_sum)\n",
    "        #0以下は0にする\n",
    "        self.lamda[self.lamda<=0]= 0\n",
    "        \n",
    "        return self.lamda\n",
    "       \n",
    "    def fit(self, X, y, X_val=None, y_val=None):\n",
    "        #predictで利用するXとyをselfで\n",
    "        self.X_train = X\n",
    "        self.y_train = y\n",
    "        \n",
    "        self.lamda = self._lamda(X)\n",
    "        \n",
    "        for i in range(self.iter):\n",
    "            self.lamda=self._new_lamda(X,y)            \n",
    "        return  self.lamda\n",
    "    \n",
    "    def predict(self,X):\n",
    "        index = self.lamda > 0.00001\n",
    "        #サポートベクトルのXとyとる\n",
    "        sb_X = self.X_train[index]\n",
    "        sb_y = self.y_train[index]\n",
    "        #計算\n",
    "        xxx = np.dot(X,sb_X.T)\n",
    "        #リシェーぷ\n",
    "        yyy_r=np.reshape(sb_y,(sb_y.shape[0],1))\n",
    "        yyy = lamda*yyy_r\n",
    "        #計算\n",
    "        y_pre = np.dot(xxx,yyy).sum(1)\n",
    "\n",
    "        #予測値「-1」or「1」を返す\n",
    "        n_p = y_pre.shape[0]\n",
    "        y_pre_k = np.arange(n_p)\n",
    "\n",
    "        for i in range(n_p):\n",
    "            if y_pre[i] > 0:\n",
    "                np.put(y_pre_k,[i],[1])\n",
    "            else:\n",
    "                np.put(y_pre_k,[i],[-1])\n",
    "        return y_pre_k"
   ]
  }
 ],
 "metadata": {
  "kernelspec": {
   "display_name": "Python 3",
   "language": "python",
   "name": "python3"
  },
  "language_info": {
   "codemirror_mode": {
    "name": "ipython",
    "version": 3
   },
   "file_extension": ".py",
   "mimetype": "text/x-python",
   "name": "python",
   "nbconvert_exporter": "python",
   "pygments_lexer": "ipython3",
   "version": "3.7.3"
  },
  "toc": {
   "base_numbering": 1,
   "nav_menu": {},
   "number_sections": true,
   "sideBar": true,
   "skip_h1_title": false,
   "title_cell": "Table of Contents",
   "title_sidebar": "Contents",
   "toc_cell": false,
   "toc_position": {
    "height": "calc(100% - 180px)",
    "left": "10px",
    "top": "150px",
    "width": "264.390625px"
   },
   "toc_section_display": true,
   "toc_window_display": true
  },
  "varInspector": {
   "cols": {
    "lenName": 16,
    "lenType": 16,
    "lenVar": 40
   },
   "kernels_config": {
    "python": {
     "delete_cmd_postfix": "",
     "delete_cmd_prefix": "del ",
     "library": "var_list.py",
     "varRefreshCmd": "print(var_dic_list())"
    },
    "r": {
     "delete_cmd_postfix": ") ",
     "delete_cmd_prefix": "rm(",
     "library": "var_list.r",
     "varRefreshCmd": "cat(var_dic_list()) "
    }
   },
   "oldHeight": 499,
   "position": {
    "height": "521px",
    "left": "612px",
    "right": "20px",
    "top": "293px",
    "width": "520px"
   },
   "types_to_exclude": [
    "module",
    "function",
    "builtin_function_or_method",
    "instance",
    "_Feature"
   ],
   "varInspector_section_display": "block",
   "window_display": false
  }
 },
 "nbformat": 4,
 "nbformat_minor": 2
}
