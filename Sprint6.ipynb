{
 "cells": [
  {
   "cell_type": "markdown",
   "metadata": {},
   "source": [
    "# Sprint6課題　機械学習スクラッチ"
   ]
  },
  {
   "cell_type": "markdown",
   "metadata": {},
   "source": [
    "### インポート"
   ]
  },
  {
   "cell_type": "code",
   "execution_count": 219,
   "metadata": {},
   "outputs": [],
   "source": [
    "import numpy as np\n",
    "from sklearn.model_selection import train_test_split\n",
    "import matplotlib.pyplot as plt"
   ]
  },
  {
   "cell_type": "code",
   "execution_count": 418,
   "metadata": {},
   "outputs": [],
   "source": [
    "from sklearn.metrics import accuracy_score\n",
    "from sklearn.metrics import precision_score\n",
    "from sklearn.metrics import recall_score\n",
    "from sklearn.metrics import f1_score\n",
    "from sklearn.metrics import confusion_matrix"
   ]
  },
  {
   "cell_type": "code",
   "execution_count": 425,
   "metadata": {},
   "outputs": [],
   "source": [
    "from matplotlib.colors import ListedColormap\n",
    "import matplotlib.patches as mpatches"
   ]
  },
  {
   "cell_type": "markdown",
   "metadata": {},
   "source": [
    "### データセット"
   ]
  },
  {
   "cell_type": "code",
   "execution_count": 2,
   "metadata": {},
   "outputs": [],
   "source": [
    "##シンプルデータセット1作成コード\n",
    "np.random.seed(seed=0)\n",
    "n_samples = 500\n",
    "f0 = [-1, 2]\n",
    "f1 = [2, -1]\n",
    "cov = [[1.0,0.8], [0.8, 1.0]]\n",
    "\n",
    "f0 = np.random.multivariate_normal(f0, cov, int(n_samples/2))\n",
    "f1 = np.random.multivariate_normal(f1, cov, int(n_samples/2))\n",
    "\n",
    "X = np.concatenate((f0, f1))\n",
    "y = np.concatenate((np.ones((int(n_samples/2))), np.ones((int(n_samples/2))) *(-1))).astype(np.int)\n",
    "\n",
    "random_index = np.random.permutation(np.arange(n_samples))\n",
    "X = X[random_index]\n",
    "y = y[random_index]"
   ]
  },
  {
   "cell_type": "code",
   "execution_count": 102,
   "metadata": {},
   "outputs": [],
   "source": [
    "##アイリスのデータセット\n",
    "from sklearn.datasets import load_iris\n",
    "a = load_iris()\n",
    "import pandas as pd\n",
    "X_i = pd.DataFrame(a.data,columns=[\"sepal_length\",\"sepal_width\",\"petal_length\",\"petal_width\"])\n",
    "y_i = pd.DataFrame(a.target,columns=[\"Species\"])\n",
    "\n",
    "df = pd.concat([X_i,y_i],axis=1)\n",
    "df_12 =df[df['Species'].isin([1,2])]\n",
    "\n",
    "X_i =df_12.drop(\"Species\", axis=1).values\n",
    "X_i = X_i[:,:2]\n",
    "y_i = df_12.Species.values"
   ]
  },
  {
   "cell_type": "code",
   "execution_count": 231,
   "metadata": {},
   "outputs": [],
   "source": [
    "#アイリス\n",
    "#X_train_i, X_test_i, y_train_i, y_test_i = train_test_split(X_i,y_i,test_size=0.25,shuffle = True)\n",
    "X_train_i, X_test_i, y_train_i, y_test_i = train_test_split(sp_pe_len_i,y_i,test_size=0.25,shuffle = True)"
   ]
  },
  {
   "cell_type": "code",
   "execution_count": 217,
   "metadata": {},
   "outputs": [
    {
     "name": "stdout",
     "output_type": "stream",
     "text": [
      "[1 2 2 1 2 2 2 1 1 1 1 1 2 2 2 2 2 2 1 2 2 1 2 2 1 2 1 2 2 1 1 2 1 2 2 1 2\n",
      " 1 1 1 1 1 1 2 1 2 2 1 1 1 2 2 1 1 2 1 2 2 1 2 1 2 2 1 2 1 2 1 2 2 2 1 1 2\n",
      " 1]\n"
     ]
    }
   ],
   "source": [
    "print(y_train_i)"
   ]
  },
  {
   "cell_type": "code",
   "execution_count": 232,
   "metadata": {},
   "outputs": [
    {
     "data": {
      "image/png": "[encoded data removed]",
      "text/plain": [
       "<Figure size 432x288 with 1 Axes>"
      ]
     },
     "metadata": {
      "needs_background": "light"
     },
     "output_type": "display_data"
    }
   ],
   "source": [
    "plt.plot(X_train_i[y_train_i == 1][:, 0], X_train_i[y_train_i == 1][:, 1], 'ro')\n",
    "plt.plot(X_train_i[y_train_i == 2][:, 0], X_train_i[y_train_i == 2][:, 1], 'bo')\n",
    "plt.show()"
   ]
  },
  {
   "cell_type": "code",
   "execution_count": 230,
   "metadata": {},
   "outputs": [],
   "source": [
    "#データセット調整\n",
    "sepal_length =  df_12.iloc[:,0]\n",
    "spetal_width = df_12.iloc[:,1]\n",
    "petal_length = df_12.iloc[:,2]\n",
    "petal_width =  df_12.iloc[:,3]\n",
    "\n",
    "sp_pe_len = pd.concat([sepal_length,petal_length],axis=1)\n",
    "sp_pe_len_i =sp_pe_len.values"
   ]
  },
  {
   "cell_type": "markdown",
   "metadata": {},
   "source": [
    "## 【問題1】ジニ不純度を求める関数"
   ]
  },
  {
   "cell_type": "code",
   "execution_count": 6,
   "metadata": {},
   "outputs": [],
   "source": [
    "#クラスを変数に入れる\n",
    "a = 1\n",
    "b = -1"
   ]
  },
  {
   "cell_type": "code",
   "execution_count": 3,
   "metadata": {},
   "outputs": [],
   "source": [
    "#yの総数を抽出\n",
    "y_len = len(y)"
   ]
  },
  {
   "cell_type": "code",
   "execution_count": 8,
   "metadata": {},
   "outputs": [],
   "source": [
    "#クラスaの総数抽出\n",
    "y_a_len = len(y[y==a])\n",
    "#クラスbの総数抽出\n",
    "y_b_len = len(y[y==b])"
   ]
  },
  {
   "cell_type": "code",
   "execution_count": 9,
   "metadata": {},
   "outputs": [],
   "source": [
    "#ジニ計数算出\n",
    "jini = 1-(((y_a_len/y_len)**2)+((y_b_len/y_len)**2))"
   ]
  },
  {
   "cell_type": "code",
   "execution_count": 10,
   "metadata": {},
   "outputs": [
    {
     "name": "stdout",
     "output_type": "stream",
     "text": [
      "0.5\n"
     ]
    }
   ],
   "source": [
    "print(jini)"
   ]
  },
  {
   "cell_type": "code",
   "execution_count": 12,
   "metadata": {},
   "outputs": [],
   "source": [
    "#Yのユニークな値を取得してみる\n",
    "uni = np.unique(y)"
   ]
  },
  {
   "cell_type": "code",
   "execution_count": 14,
   "metadata": {},
   "outputs": [
    {
     "name": "stdout",
     "output_type": "stream",
     "text": [
      "-1\n"
     ]
    }
   ],
   "source": [
    "#Yのユニークな値を取得してからクラスを変数に入れてみる\n",
    "aa = y[uni[0]]\n",
    "print(aa)"
   ]
  },
  {
   "cell_type": "code",
   "execution_count": 35,
   "metadata": {},
   "outputs": [],
   "source": [
    "#クラス1:サンプル数15, クラス2:サンプル数15, クラス3:サンプル数15 → ジニ不純度0.667\n",
    "y_2 = np.array([-1, -1, -1, -1, -1, -1, -1, -1, -1, -1, -1, -1, -1, -1, -1, 1, 1,1, 1, 1, 1, 1, 1, 1, 1, 1, 1, 1, 1, 1,0,0,0,0,0,0,0,0,0,0,0,0,0,0,0])"
   ]
  },
  {
   "cell_type": "code",
   "execution_count": 38,
   "metadata": {},
   "outputs": [
    {
     "name": "stdout",
     "output_type": "stream",
     "text": [
      "[-1  0  1]\n",
      "-1\n"
     ]
    }
   ],
   "source": [
    "#クラスのの数を取ってくる\n",
    "y_2_uni = np.unique(y_2)\n",
    "print(y_2_uni)\n",
    "print(y_2_uni[0])"
   ]
  },
  {
   "cell_type": "code",
   "execution_count": 42,
   "metadata": {},
   "outputs": [],
   "source": [
    "#クラスの数のリストを作る\n",
    "y_class_num = np.arange(len(y_2_uni))\n",
    "np.put(y_pre_k,[i],[1])"
   ]
  },
  {
   "cell_type": "code",
   "execution_count": 46,
   "metadata": {},
   "outputs": [],
   "source": [
    "#要素ごとに集計する\n",
    "for i in range(len(y_2_uni)):\n",
    "    np.put(y_class_num,[i],len(y_2[y_2==y_2_uni[i]]))"
   ]
  },
  {
   "cell_type": "code",
   "execution_count": 47,
   "metadata": {},
   "outputs": [
    {
     "name": "stdout",
     "output_type": "stream",
     "text": [
      "[15 15 15]\n"
     ]
    }
   ],
   "source": [
    "print(y_class_num)"
   ]
  },
  {
   "cell_type": "code",
   "execution_count": 45,
   "metadata": {},
   "outputs": [
    {
     "data": {
      "text/plain": [
       "15"
      ]
     },
     "execution_count": 45,
     "metadata": {},
     "output_type": "execute_result"
    }
   ],
   "source": [
    "#要素で集約のために外だし\n",
    "len(y_2[y_2==y_2_uni[0]])"
   ]
  },
  {
   "cell_type": "code",
   "execution_count": 48,
   "metadata": {},
   "outputs": [],
   "source": [
    "#総数\n",
    "y_2_len = len(y_2)"
   ]
  },
  {
   "cell_type": "code",
   "execution_count": 68,
   "metadata": {},
   "outputs": [],
   "source": [
    "#jinini初期化\n",
    "jinini = 0"
   ]
  },
  {
   "cell_type": "code",
   "execution_count": 70,
   "metadata": {},
   "outputs": [],
   "source": [
    "#求めた総数の各要素のジニ係数を出す\n",
    "#ジニ計数算出\n",
    "#jini = 1-(((y_a_len/y_len)**2)+((y_b_len/y_len)**2))\n",
    "\n",
    "#for i in range(3):\n",
    "for i in range(len(y_class_num)):\n",
    "    jinini += (len(y_2[y_2==y_2_uni[i]])/y_2_len)**2\n",
    "jinini =1-jinini"
   ]
  },
  {
   "cell_type": "code",
   "execution_count": 73,
   "metadata": {},
   "outputs": [],
   "source": [
    "jinini =1-jinini"
   ]
  },
  {
   "cell_type": "code",
   "execution_count": 74,
   "metadata": {},
   "outputs": [
    {
     "name": "stdout",
     "output_type": "stream",
     "text": [
      "0.6666666666666667\n"
     ]
    }
   ],
   "source": [
    "print(jinini)"
   ]
  },
  {
   "cell_type": "code",
   "execution_count": 56,
   "metadata": {},
   "outputs": [
    {
     "data": {
      "text/plain": [
       "15"
      ]
     },
     "execution_count": 56,
     "metadata": {},
     "output_type": "execute_result"
    }
   ],
   "source": [
    "len(y_2[y_2==y_2_uni[i]])\n",
    "#/y_2_len"
   ]
  },
  {
   "cell_type": "code",
   "execution_count": 61,
   "metadata": {},
   "outputs": [
    {
     "data": {
      "text/plain": [
       "0.3333333333333333"
      ]
     },
     "execution_count": 61,
     "metadata": {},
     "output_type": "execute_result"
    }
   ],
   "source": [
    "(15/45)\n",
    "#**2*3"
   ]
  },
  {
   "cell_type": "code",
   "execution_count": 62,
   "metadata": {},
   "outputs": [
    {
     "data": {
      "text/plain": [
       "0.1111111111111111"
      ]
     },
     "execution_count": 62,
     "metadata": {},
     "output_type": "execute_result"
    }
   ],
   "source": [
    "(len(y_2[y_2==y_2_uni[0]])/y_2_len)**2"
   ]
  },
  {
   "cell_type": "markdown",
   "metadata": {},
   "source": [
    "#### ジニ計数の関数作成"
   ]
  },
  {
   "cell_type": "code",
   "execution_count": 75,
   "metadata": {},
   "outputs": [],
   "source": [
    "def jini(y):\n",
    "    #jini初期化\n",
    "    jini = 0\n",
    "    #総数\n",
    "    y_len = len(y)\n",
    "    #クラスの数取得\n",
    "    y_uni = np.unique(y)\n",
    "    \n",
    "    for i in range(len(y_uni)):\n",
    "        jini += (len(y[y==y_uni[i]])/y_len)**2\n",
    "    jini =1-jini\n",
    "    \n",
    "    return jini"
   ]
  },
  {
   "cell_type": "code",
   "execution_count": 76,
   "metadata": {},
   "outputs": [
    {
     "data": {
      "text/plain": [
       "0.6666666666666667"
      ]
     },
     "execution_count": 76,
     "metadata": {},
     "output_type": "execute_result"
    }
   ],
   "source": [
    "jini(y_2)"
   ]
  },
  {
   "cell_type": "code",
   "execution_count": 77,
   "metadata": {},
   "outputs": [
    {
     "data": {
      "text/plain": [
       "0.5"
      ]
     },
     "execution_count": 77,
     "metadata": {},
     "output_type": "execute_result"
    }
   ],
   "source": [
    "jini(y)"
   ]
  },
  {
   "cell_type": "markdown",
   "metadata": {},
   "source": [
    "## 【問題2】情報利得を求める関数"
   ]
  },
  {
   "cell_type": "markdown",
   "metadata": {},
   "source": [
    "#### 検証データ作成"
   ]
  },
  {
   "cell_type": "code",
   "execution_count": 85,
   "metadata": {},
   "outputs": [],
   "source": [
    "oya_a = np.zeros(30)\n",
    "oya_b = np.ones(35)"
   ]
  },
  {
   "cell_type": "code",
   "execution_count": 86,
   "metadata": {},
   "outputs": [],
   "source": [
    "y_oya=np.hstack((oya_a,oya_b))"
   ]
  },
  {
   "cell_type": "code",
   "execution_count": 87,
   "metadata": {},
   "outputs": [],
   "source": [
    "left_a = np.zeros(10)\n",
    "left_b = np.ones(30)"
   ]
  },
  {
   "cell_type": "code",
   "execution_count": 88,
   "metadata": {},
   "outputs": [],
   "source": [
    "y_left = np.hstack((left_a,left_b))"
   ]
  },
  {
   "cell_type": "code",
   "execution_count": 91,
   "metadata": {},
   "outputs": [],
   "source": [
    "rigth_a = np.zeros(20)\n",
    "rigth_b = np.ones(5)"
   ]
  },
  {
   "cell_type": "code",
   "execution_count": 92,
   "metadata": {},
   "outputs": [],
   "source": [
    "y_rigth = np.hstack((rigth_a,rigth_b))"
   ]
  },
  {
   "cell_type": "code",
   "execution_count": 97,
   "metadata": {},
   "outputs": [],
   "source": [
    "#親、左、右の総数算出\n",
    "y_oya_len = len(y_oya)\n",
    "y_left_len = len(y_left)\n",
    "y_rigth_len = len(y_rigth)"
   ]
  },
  {
   "cell_type": "markdown",
   "metadata": {},
   "source": [
    "#### 検証データで実証"
   ]
  },
  {
   "cell_type": "code",
   "execution_count": 93,
   "metadata": {},
   "outputs": [],
   "source": [
    "#親のジニ計数\n",
    "jini_oya = jini(y_oya)"
   ]
  },
  {
   "cell_type": "code",
   "execution_count": 94,
   "metadata": {},
   "outputs": [],
   "source": [
    "#左のジニ計数\n",
    "jini_left = jini(y_left)"
   ]
  },
  {
   "cell_type": "code",
   "execution_count": 95,
   "metadata": {},
   "outputs": [],
   "source": [
    "#右のジニ計数\n",
    "jini_rigth = jini(y_rigth)"
   ]
  },
  {
   "cell_type": "code",
   "execution_count": 98,
   "metadata": {},
   "outputs": [],
   "source": [
    "#サンプルの情報利得\n",
    "I= jini_oya-y_left_len/y_oya_len*jini_left-y_rigth_len/y_oya_len*jini_rigth"
   ]
  },
  {
   "cell_type": "code",
   "execution_count": 99,
   "metadata": {},
   "outputs": [
    {
     "name": "stdout",
     "output_type": "stream",
     "text": [
      "0.14319526627218937\n"
     ]
    }
   ],
   "source": [
    "print(I)"
   ]
  },
  {
   "cell_type": "markdown",
   "metadata": {},
   "source": [
    "#### 関数化"
   ]
  },
  {
   "cell_type": "code",
   "execution_count": 100,
   "metadata": {},
   "outputs": [],
   "source": [
    "def jyouhou(y_oya,y_left,y_rigth):\n",
    "    #それぞれの数算出\n",
    "    y_oya_len = len(y_oya)\n",
    "    y_left_len = len(y_left)\n",
    "    y_rigth_len = len(y_rigth)\n",
    "    #jini関数を利用してそれぞれのジニ計数算出\n",
    "    jini_oya = jini(y_oya)\n",
    "    jini_left = jini(y_left)\n",
    "    jini_rigth = jini(y_rigth)\n",
    "    #情報利得算出\n",
    "    j_r= jini_oya-y_left_len/y_oya_len*jini_left-y_rigth_len/y_oya_len*jini_rigth\n",
    "    return j_r"
   ]
  },
  {
   "cell_type": "code",
   "execution_count": 101,
   "metadata": {},
   "outputs": [
    {
     "data": {
      "text/plain": [
       "0.14319526627218937"
      ]
     },
     "execution_count": 101,
     "metadata": {},
     "output_type": "execute_result"
    }
   ],
   "source": [
    "jyouhou(y_oya,y_left,y_rigth)"
   ]
  },
  {
   "cell_type": "markdown",
   "metadata": {},
   "source": [
    "## 【問題3】深さ1の決定木分類器クラスの作成"
   ]
  },
  {
   "cell_type": "markdown",
   "metadata": {},
   "source": [
    "### クラス作成"
   ]
  },
  {
   "cell_type": "code",
   "execution_count": 438,
   "metadata": {
    "code_folding": []
   },
   "outputs": [],
   "source": [
    "class ScratchDecesionTreeClassifier():\n",
    "    \n",
    "    def __init__(self):\n",
    "        # ハイパーパラメータを属性として記録\n",
    "        #self.iter = num_iter\n",
    "        #self.lr = lr\n",
    "        #self.bias = bias\n",
    "        #self.verbose = verbose\n",
    "        # 損失を記録する配列を用意\n",
    "        #self.loss = np.zeros(self.iter)\n",
    "        #self.val_loss = np.zeros(self.iter)\n",
    "        pass\n",
    "\n",
    "    def _jini(self,y):\n",
    "        jini = 0\n",
    "        #総数\n",
    "        y_len = len(y)\n",
    "        #yのクラスの数\n",
    "        y_uni = np.unique(y)\n",
    "        \n",
    "        for i in range(len(y_uni)):\n",
    "            jini += (len(y[y==y_uni[i]])/y_len)**2\n",
    "        jini =1-jini\n",
    "        return jini\n",
    "    \n",
    "    def _jyouhou(self,y_oya,y_left,y_rigth):\n",
    "        #それぞれの数算出\n",
    "        y_oya_len = len(y_oya)\n",
    "        y_left_len = len(y_left)\n",
    "        y_rigth_len = len(y_rigth)\n",
    "        #jini関数を利用してそれぞれのジニ計数算出\n",
    "        jini_oya = self._jini(y_oya)\n",
    "        jini_left = self._jini(y_left)\n",
    "        jini_rigth = self._jini(y_rigth)\n",
    "        #情報利得算出\n",
    "        j_r= jini_oya-y_left_len/y_oya_len*jini_left-y_rigth_len/y_oya_len*jini_rigth\n",
    "        return j_r\n",
    "    \n",
    "    def _jyouhou_list(self,X,y):\n",
    "        #情報利得を格納するリスト作る\n",
    "        #リスト初期化\n",
    "        X_jini_list = []\n",
    "        \n",
    "        #縦と横に繰り返す\n",
    "        for k in range(self.X_train_i_hen):\n",
    "            for i in range(self.X_train_i_len):\n",
    "                #右と仮定し\n",
    "                m = np.hstack((y[X[:,k] > X[i,k]],y[X[:,k] == X[i,k]]))\n",
    "                #左と仮定しyを出す\n",
    "                n = y[X[:,k]<X[i,k]]  \n",
    "                j= self._jyouhou(y,m,n)\n",
    "                X_jini_list.append(j)\n",
    "                print(j)\n",
    "                \n",
    "        return X_jini_list\n",
    "\n",
    "    def _jyouhou_list_get(self,X_jini_list):\n",
    "        \n",
    "        #情報利得のリストの変形\n",
    "        #リストをまず各特徴量ごとに区切って、転置しXの配列に合わせる\n",
    "        bb = np.reshape(X_jini_list,[self.X_train_i_hen,self.X_train_i_len])\n",
    "        cc = bb.T\n",
    "        \n",
    "        #配列から最大値をとる\n",
    "        max_cc = np.where(cc == np.amax(cc))        \n",
    "        #Xの最大値の配列の1つを取ってくる\n",
    "        max_cc_one = max_cc[0][0], max_cc[1][0]\n",
    "        \n",
    "        return max_cc_one\n",
    "    \n",
    "    \n",
    "    def _get_class_and_border(self,X,y,X_max_hai_one):\n",
    "        \n",
    "        #Xの閾値の値取得\n",
    "        X_border = X[X_max_hai_one]\n",
    "        #閾値以上の条件を作る\n",
    "        y_left = X[:,X_max_hai_one[1]] > X_border\n",
    "        #閾値以上のXとyを入れる\n",
    "        X_leff = X[y_left==True]\n",
    "        Y_leff = X[y_left==True]\n",
    "        #print(X_leff)\n",
    "        #閾値以上のY＝0を出す\n",
    "        #閾値以上のクラスをカウントして多数決\n",
    "        Y0_left = len(Y_leff[Y_leff==self.y_uni[0]])\n",
    "        Y1_left = len(Y_leff[Y_leff==self.y_uni[1]])\n",
    "        \n",
    "        #どちらのラベルかを確認する\n",
    "        if Y0_left>Y1_left:\n",
    "            left_class = self.y_uni[0]\n",
    "            right_class = self.y_uni[1]\n",
    "        else:\n",
    "            left_class = self.y_uni[1]\n",
    "            right_class = self.y_uni[0]\n",
    "        \n",
    "        return left_class,right_class,X_border\n",
    "\n",
    "    \n",
    "    def fit(self, X, y):\n",
    "        #この3つセルフいらない？\n",
    "        #まずサンプル数の長さ\n",
    "        self.X_train_i_len = len(X)\n",
    "        #変数の数をとる\n",
    "        self.X_train_i_hen = X.shape[1]\n",
    "        #クラスの数取得\n",
    "        self.y_uni = np.unique(y)\n",
    "\n",
    "        #情報利得の関数でリスト取得\n",
    "        X_jini_list = self._jyouhou_list(X,y)\n",
    "        \n",
    "        #情報利得の関数で最大値のXの配列を取得(:,:)のタプル\n",
    "        self.X_max_hai_one = self._jyouhou_list_get(X_jini_list)\n",
    "        \n",
    "        #クラスとXのボーダー取得\n",
    "        self.left_class,self.right_class,self.X_border = self._get_class_and_border(X,y,self.X_max_hai_one)        \n",
    "                  \n",
    "        return self.left_class,self.right_class,self.X_border,X_jini_list,self.X_max_hai_one\n",
    "    \n",
    "    def predict(self,X):\n",
    "        #予測\n",
    "        y_test_left = X[:,self.X_max_hai_one[1]] > self.X_border\n",
    "        #条件で値変換\n",
    "        y_pred = np.where(y_test_left==True,self.left_class,self.right_class)\n",
    "        return y_pred"
   ]
  },
  {
   "cell_type": "code",
   "execution_count": null,
   "metadata": {},
   "outputs": [],
   "source": [
    "                #確認用\n",
    "                print(\"m\",m)\n",
    "                print(\"n\",n)\n",
    "                print(\"j\",j) \n",
    "                print(\"X_jini_list\",X_jini_list)\n",
    "                print(\"i\",i)\n",
    "                print(\"k\",k)"
   ]
  },
  {
   "cell_type": "markdown",
   "metadata": {},
   "source": [
    "###  インスタンス化\n",
    " "
   ]
  },
  {
   "cell_type": "code",
   "execution_count": 439,
   "metadata": {},
   "outputs": [],
   "source": [
    "sdt = ScratchDecesionTreeClassifier()"
   ]
  },
  {
   "cell_type": "code",
   "execution_count": 448,
   "metadata": {},
   "outputs": [
    {
     "name": "stdout",
     "output_type": "stream",
     "text": [
      "0.07488547008546997\n",
      "0.06479999999999991\n",
      "0.08871435654721642\n",
      "0.10084952753339838\n",
      "0.05220226082161557\n",
      "0.08871435654721642\n",
      "0.09689546388493742\n",
      "0.07849267139479887\n",
      "0.06637575757575737\n",
      "0.006577777777777627\n",
      "0.09709905946118275\n",
      "0.06417777777777772\n",
      "0.050669488536154994\n",
      "0.07849267139479887\n",
      "0.07849267139479887\n",
      "0.06417777777777772\n",
      "0.10084952753339838\n",
      "0.10084952753339838\n",
      "0.05220226082161557\n",
      "0.07849267139479887\n",
      "0.04232657004830909\n",
      "0.08871435654721642\n",
      "0.09689546388493742\n",
      "0.04267205387205367\n",
      "0.07849267139479887\n",
      "0.09709905946118275\n",
      "0.020281481481481234\n",
      "0.09689546388493742\n",
      "0.020281481481481234\n",
      "0.07775943562610219\n",
      "0.07775943562610219\n",
      "0.0727150813344361\n",
      "0.013434920634920515\n",
      "0.027422848200312766\n",
      "0.09689546388493742\n",
      "0.0837673202614378\n",
      "0.013434920634920515\n",
      "0.06257777777777773\n",
      "0.006577777777777627\n",
      "0.002503703703703456\n",
      "0.013434920634920515\n",
      "0.06257777777777773\n",
      "0.09709905946118275\n",
      "0.03476825396825384\n",
      "0.06637575757575737\n",
      "0.06257777777777773\n",
      "0.06637575757575737\n",
      "0.09689546388493742\n",
      "0.013434920634920515\n",
      "0.007422848200312766\n",
      "0.06417777777777772\n",
      "0.10084952753339838\n",
      "0.06257777777777773\n",
      "0.04267205387205367\n",
      "0.06257777777777773\n",
      "0.04267205387205367\n",
      "0.04267205387205367\n",
      "0.0727150813344361\n",
      "0.006577777777777627\n",
      "0.10084952753339838\n",
      "0.05220226082161557\n",
      "0.07775943562610219\n",
      "0.08871435654721642\n",
      "0.055668686868686645\n",
      "0.0837673202614378\n",
      "0.07849267139479887\n",
      "0.09709905946118275\n",
      "0.0837673202614378\n",
      "0.06417777777777772\n",
      "0.06479999999999991\n",
      "0.0837673202614378\n",
      "0.05220226082161557\n",
      "0.10084952753339838\n",
      "0.0\n",
      "0.09689546388493742\n",
      "0.07488547008546997\n",
      "0.3565922077922077\n",
      "0.03667301587301569\n",
      "0.2582784580498865\n",
      "0.1741968253968253\n",
      "0.3177987080103358\n",
      "0.2642677473826409\n",
      "0.3527133870712817\n",
      "0.06637575757575737\n",
      "0.027422848200312766\n",
      "0.1741968253968253\n",
      "0.20204947589098515\n",
      "0.21777777777777765\n",
      "0.2642677473826409\n",
      "0.2642677473826409\n",
      "0.3177987080103358\n",
      "0.20204947589098515\n",
      "0.1741968253968253\n",
      "0.014066362252663389\n",
      "0.1651492063492062\n",
      "0.03476825396825384\n",
      "0.07898803418803402\n",
      "0.1651492063492062\n",
      "0.10765304659498193\n",
      "0.04464541062801913\n",
      "0.13923314500941597\n",
      "0.006577777777777627\n",
      "0.06637575757575737\n",
      "0.01333576864535746\n",
      "0.10765304659498193\n",
      "0.3565922077922077\n",
      "0.2290614379084966\n",
      "0.04464541062801913\n",
      "0.020281481481481234\n",
      "0.15048582375478914\n",
      "0.3565922077922077\n",
      "0.04464541062801913\n",
      "0.11171438979963555\n",
      "0.006938138138137984\n",
      "0.0\n",
      "0.02892519561815321\n",
      "0.09271534391534375\n",
      "0.2290614379084966\n",
      "0.0501071895424835\n",
      "0.0501071895424835\n",
      "0.2642677473826409\n",
      "0.09271534391534375\n",
      "0.3527133870712817\n",
      "0.15048582375478914\n",
      "0.1741968253968253\n",
      "0.2737999999999998\n",
      "0.1651492063492062\n",
      "0.1651492063492062\n",
      "0.07898803418803402\n",
      "0.3131296668260799\n",
      "0.3527133870712817\n",
      "0.1741968253968253\n",
      "0.11171438979963555\n",
      "0.014066362252663389\n",
      "0.2582784580498865\n",
      "0.07898803418803402\n",
      "0.3177987080103358\n",
      "0.3177987080103358\n",
      "0.2642677473826409\n",
      "0.04464541062801913\n",
      "0.21777777777777765\n",
      "0.3565922077922077\n",
      "0.3131296668260799\n",
      "0.21777777777777765\n",
      "0.20204947589098515\n",
      "0.3177987080103358\n",
      "0.10765304659498193\n",
      "0.1651492063492062\n",
      "0.1741968253968253\n",
      "0.3527133870712817\n"
     ]
    }
   ],
   "source": [
    "a,b,c,d,e = sdt.fit(X_train_i,y_train_i)"
   ]
  },
  {
   "cell_type": "code",
   "execution_count": 441,
   "metadata": {},
   "outputs": [
    {
     "name": "stdout",
     "output_type": "stream",
     "text": [
      "2\n",
      "1\n",
      "4.8\n",
      "[0.07488547008546997, 0.06479999999999991, 0.08871435654721642, 0.10084952753339838, 0.05220226082161557, 0.08871435654721642, 0.09689546388493742, 0.07849267139479887, 0.06637575757575737, 0.006577777777777627, 0.09709905946118275, 0.06417777777777772, 0.050669488536154994, 0.07849267139479887, 0.07849267139479887, 0.06417777777777772, 0.10084952753339838, 0.10084952753339838, 0.05220226082161557, 0.07849267139479887, 0.04232657004830909, 0.08871435654721642, 0.09689546388493742, 0.04267205387205367, 0.07849267139479887, 0.09709905946118275, 0.020281481481481234, 0.09689546388493742, 0.020281481481481234, 0.07775943562610219, 0.07775943562610219, 0.0727150813344361, 0.013434920634920515, 0.027422848200312766, 0.09689546388493742, 0.0837673202614378, 0.013434920634920515, 0.06257777777777773, 0.006577777777777627, 0.002503703703703456, 0.013434920634920515, 0.06257777777777773, 0.09709905946118275, 0.03476825396825384, 0.06637575757575737, 0.06257777777777773, 0.06637575757575737, 0.09689546388493742, 0.013434920634920515, 0.007422848200312766, 0.06417777777777772, 0.10084952753339838, 0.06257777777777773, 0.04267205387205367, 0.06257777777777773, 0.04267205387205367, 0.04267205387205367, 0.0727150813344361, 0.006577777777777627, 0.10084952753339838, 0.05220226082161557, 0.07775943562610219, 0.08871435654721642, 0.055668686868686645, 0.0837673202614378, 0.07849267139479887, 0.09709905946118275, 0.0837673202614378, 0.06417777777777772, 0.06479999999999991, 0.0837673202614378, 0.05220226082161557, 0.10084952753339838, 0.0, 0.09689546388493742, 0.07488547008546997, 0.3565922077922077, 0.03667301587301569, 0.2582784580498865, 0.1741968253968253, 0.3177987080103358, 0.2642677473826409, 0.3527133870712817, 0.06637575757575737, 0.027422848200312766, 0.1741968253968253, 0.20204947589098515, 0.21777777777777765, 0.2642677473826409, 0.2642677473826409, 0.3177987080103358, 0.20204947589098515, 0.1741968253968253, 0.014066362252663389, 0.1651492063492062, 0.03476825396825384, 0.07898803418803402, 0.1651492063492062, 0.10765304659498193, 0.04464541062801913, 0.13923314500941597, 0.006577777777777627, 0.06637575757575737, 0.01333576864535746, 0.10765304659498193, 0.3565922077922077, 0.2290614379084966, 0.04464541062801913, 0.020281481481481234, 0.15048582375478914, 0.3565922077922077, 0.04464541062801913, 0.11171438979963555, 0.006938138138137984, 0.0, 0.02892519561815321, 0.09271534391534375, 0.2290614379084966, 0.0501071895424835, 0.0501071895424835, 0.2642677473826409, 0.09271534391534375, 0.3527133870712817, 0.15048582375478914, 0.1741968253968253, 0.2737999999999998, 0.1651492063492062, 0.1651492063492062, 0.07898803418803402, 0.3131296668260799, 0.3527133870712817, 0.1741968253968253, 0.11171438979963555, 0.014066362252663389, 0.2582784580498865, 0.07898803418803402, 0.3177987080103358, 0.3177987080103358, 0.2642677473826409, 0.04464541062801913, 0.21777777777777765, 0.3565922077922077, 0.3131296668260799, 0.21777777777777765, 0.20204947589098515, 0.3177987080103358, 0.10765304659498193, 0.1651492063492062, 0.1741968253968253, 0.3527133870712817]\n",
      "(1, 1)\n"
     ]
    }
   ],
   "source": [
    "print(a)\n",
    "print(b)\n",
    "print(c)\n",
    "print(d)\n",
    "print(e)"
   ]
  },
  {
   "cell_type": "code",
   "execution_count": 442,
   "metadata": {},
   "outputs": [],
   "source": [
    "ypre = sdt.predict(X_test_i)"
   ]
  },
  {
   "cell_type": "code",
   "execution_count": 443,
   "metadata": {},
   "outputs": [
    {
     "name": "stdout",
     "output_type": "stream",
     "text": [
      "[1 1 1 2 1 1 2 2 1 1 1 2 2 2 1 2 1 2 2 2 1 2 1 2 2]\n",
      "[1 1 1 2 1 1 1 2 1 1 1 2 2 2 1 2 1 2 2 2 1 2 1 2 2]\n"
     ]
    }
   ],
   "source": [
    "print(ypre)\n",
    "print(y_test_i)"
   ]
  },
  {
   "cell_type": "code",
   "execution_count": 105,
   "metadata": {},
   "outputs": [],
   "source": [
    "#アイリス\n",
    "#X_train_i, X_test_i, y_train_i, y_test_i "
   ]
  },
  {
   "cell_type": "code",
   "execution_count": 108,
   "metadata": {},
   "outputs": [
    {
     "name": "stdout",
     "output_type": "stream",
     "text": [
      "6.0\n"
     ]
    }
   ],
   "source": [
    "#X[0,1]の値を閾値にしてyの数を特定してみる\n",
    "#print(X_train_i)\n",
    "print(X_train_i[1,0])"
   ]
  },
  {
   "cell_type": "code",
   "execution_count": 124,
   "metadata": {},
   "outputs": [
    {
     "name": "stdout",
     "output_type": "stream",
     "text": [
      "[2 2 2 2 2 2 1 2 1 1 2 2 2 1 1 1 2 2 1 2 2 2 2 2 1 2 2 1 2 1 2 2 1 1 1 1 2\n",
      " 1 2 2 2 2 1 2 2 2 2 2 1 1 1 2 1]\n"
     ]
    }
   ],
   "source": [
    "#右と仮定しyを出す\n",
    "#X_train_i[1,0]が条件\n",
    "m = np.hstack((y_train_i[X_train_i[:,0] > X_train_i[1,0]],y_train_i[X_train_i[:,0] == X_train_i[1,0]]))\n",
    "#左と仮定しyを出す\n",
    "n = y_train_i[X_train_i[:,0]<X_train_i[1,0]]\n",
    "#\n",
    "print(m)"
   ]
  },
  {
   "cell_type": "code",
   "execution_count": 125,
   "metadata": {},
   "outputs": [
    {
     "name": "stdout",
     "output_type": "stream",
     "text": [
      "75\n",
      "75\n",
      "53\n",
      "22\n"
     ]
    }
   ],
   "source": [
    "#ちゃんと分けられているのか確認\n",
    "print(len(y_train_i))\n",
    "print(len(X_train_i))\n",
    "print(len(m))\n",
    "print(len(n))"
   ]
  },
  {
   "cell_type": "code",
   "execution_count": 128,
   "metadata": {},
   "outputs": [
    {
     "name": "stdout",
     "output_type": "stream",
     "text": [
      "7.9\n"
     ]
    }
   ],
   "source": [
    "#配列から最大値をとる\n",
    "print(np.amax(X_train_i))"
   ]
  },
  {
   "cell_type": "markdown",
   "metadata": {},
   "source": [
    "### 個別計算：情報利得のリスト取得"
   ]
  },
  {
   "cell_type": "code",
   "execution_count": 162,
   "metadata": {},
   "outputs": [
    {
     "name": "stdout",
     "output_type": "stream",
     "text": [
      "2\n"
     ]
    }
   ],
   "source": [
    "#変数の数をとる\n",
    "X_train_i_hen = X_train_i.shape[1]\n",
    "print(X_train_i_hen)"
   ]
  },
  {
   "cell_type": "code",
   "execution_count": 413,
   "metadata": {
    "code_folding": []
   },
   "outputs": [
    {
     "name": "stdout",
     "output_type": "stream",
     "text": [
      "m [2 2 2 2 2 2 2 2 2 2]\n",
      "n [1 1 2 1 2 1 2 1 2 1 1 1 2 2 1 1 2 1 2 1 1 1 2 1 1 2 1 1 2 1 2 1 1 1 2 2 1\n",
      " 2 1 1 2 2 2 1 1 2 1 2 1 2 1 2 2 1 1 1 2 2 1 2 1 1 2 2 1]\n",
      "j 0.07488547008546997\n",
      "X_jini_list [0.07488547008546997]\n",
      "i 0\n",
      "k 0\n",
      "m [2 2 2 2 2 2 2 2 2 2 2 2 1 1 2]\n",
      "n [1 2 1 2 1 2 1 2 1 1 1 2 2 1 1 2 1 2 1 1 1 2 1 1 1 1 2 1 2 1 1 1 2 2 1 2 1\n",
      " 1 2 2 2 1 1 2 1 1 2 1 2 2 1 1 2 2 1 1 1 2 2 1]\n",
      "j 0.06479999999999991\n",
      "X_jini_list [0.07488547008546997, 0.06479999999999991]\n",
      "i 1\n",
      "k 0\n",
      "m [2 1 2 1 2 2 2 1 2 1 1 1 2 2 1 2 2 2 1 1 2 2 2 1 1 2 2 1 2 2 2 2 2 2 1 2 2\n",
      " 2 2 2 1 2 2 2 1 1 1 2 2 1 2 1 2 1 1 2 1 2]\n",
      "n [1 1 1 1 1 1 1 1 1 1 1 2 1 1 1 1 2]\n",
      "j 0.08871435654721642\n",
      "X_jini_list [0.07488547008546997, 0.06479999999999991, 0.08871435654721642]\n",
      "i 2\n",
      "k 0\n",
      "m [2 1 2 2 2 1 2 2 2 2 2 2 2 2 2 2 1 2 2 2 1 2 1 1 2 2 2 1 2 2 2]\n",
      "n [1 1 2 1 2 1 1 1 1 2 1 2 1 1 1 2 1 1 1 1 2 1 1 1 1 2 2 1 1 1 2 1 1 1 2 2 1\n",
      " 1 2 2 1 1 2 1]\n",
      "j 0.10084952753339838\n",
      "X_jini_list [0.07488547008546997, 0.06479999999999991, 0.08871435654721642, 0.10084952753339838]\n",
      "i 3\n",
      "k 0\n",
      "m [2 1 1 2 2 1 2 2 2 1 2 1 1 1 2 2 1 2 2 1 2 1 1 2 2 2 1 1 2 2 1 2 2 2 2 2 2\n",
      " 1 2 2 2 2 2 1 2 2 2 2 1 1 1 2 2 1 2 1 2 1 1 1 1 1]\n",
      "n [1 1 1 1 1 1 1 1 1 2 1 1 2]\n",
      "j 0.05220226082161557\n",
      "X_jini_list [0.07488547008546997, 0.06479999999999991, 0.08871435654721642, 0.10084952753339838, 0.05220226082161557]\n",
      "i 4\n",
      "k 0\n",
      "m [2 1 2 1 2 2 2 1 2 1 1 1 2 2 1 2 2 2 1 1 2 2 2 1 1 2 2 1 2 2 2 2 2 2 1 2 2\n",
      " 2 2 2 1 2 2 2 1 1 1 2 2 1 2 1 2 1 1 2 1 2]\n",
      "n [1 1 1 1 1 1 1 1 1 1 1 2 1 1 1 1 2]\n",
      "j 0.08871435654721642\n",
      "X_jini_list [0.07488547008546997, 0.06479999999999991, 0.08871435654721642, 0.10084952753339838, 0.05220226082161557, 0.08871435654721642]\n",
      "i 5\n",
      "k 0\n",
      "m [2 1 2 2 2 2 1 2 2 1 2 2 2 2 2 2 2 2 2 1 2 2 2 2 1 2 2 1 1 2 2 1 2 2 1 2 1]\n",
      "n [1 1 2 2 1 1 1 1 2 1 1 1 1 1 1 1 2 1 1 1 1 2 1 1 1 2 1 1 1 2 2 1 1 2 2 1 1\n",
      " 2]\n",
      "j 0.09689546388493742\n",
      "X_jini_list [0.07488547008546997, 0.06479999999999991, 0.08871435654721642, 0.10084952753339838, 0.05220226082161557, 0.08871435654721642, 0.09689546388493742]\n",
      "i 6\n",
      "k 0\n",
      "m [2 1 2 1 2 2 1 2 1 2 2 1 2 2 1 2 2 2 2 2 1 2 2 2 2 2 1 2 2 2 2 2 1 2 2 1 2\n",
      " 1 2 2 1 2 1 1 2 1 1]\n",
      "n [1 1 2 1 1 1 1 1 1 2 1 1 1 1 1 1 1 2 1 1 1 2 2 1 2 1 1 2]\n",
      "j 0.07849267139479887\n",
      "X_jini_list [0.07488547008546997, 0.06479999999999991, 0.08871435654721642, 0.10084952753339838, 0.05220226082161557, 0.08871435654721642, 0.09689546388493742, 0.07849267139479887]\n",
      "i 7\n",
      "k 0\n",
      "m [2 2 2 2 2 2 2 2 2]\n",
      "n [2 1 1 2 1 2 1 2 1 2 1 1 1 2 2 1 1 2 1 2 1 1 1 2 1 1 2 1 1 2 1 2 1 1 1 2 2\n",
      " 1 2 1 1 2 2 2 1 1 2 1 2 1 2 1 2 2 1 1 1 2 2 1 2 1 1 2 2 1]\n",
      "j 0.06637575757575737\n",
      "X_jini_list [0.07488547008546997, 0.06479999999999991, 0.08871435654721642, 0.10084952753339838, 0.05220226082161557, 0.08871435654721642, 0.09689546388493742, 0.07849267139479887, 0.06637575757575737]\n",
      "i 8\n",
      "k 0\n",
      "m [2]\n",
      "n [2 1 1 2 1 2 1 2 2 1 2 1 1 1 2 2 1 1 2 2 1 2 1 1 1 2 2 2 1 1 2 1 2 1 2 1 2\n",
      " 1 1 1 2 2 2 2 1 2 2 1 1 2 2 2 1 1 2 1 2 1 2 1 2 2 1 1 1 2 2 1 2 1 1 2 2 1]\n",
      "j 0.006577777777777627\n",
      "X_jini_list [0.07488547008546997, 0.06479999999999991, 0.08871435654721642, 0.10084952753339838, 0.05220226082161557, 0.08871435654721642, 0.09689546388493742, 0.07849267139479887, 0.06637575757575737, 0.006577777777777627]\n",
      "i 9\n",
      "k 0\n",
      "m [2 1 2 1 2 2 2 1 2 2 1 2 2 2 2 2 2 2 1 2 2 2 2 1 2 2 2 2 2 1 2 2 1 1 2 2 1\n",
      " 1 1 2 2]\n",
      "n [1 1 2 2 1 1 1 2 1 1 1 1 1 1 2 1 1 1 1 1 1 1 2 1 1 1 2 2 1 1 2 1 1 2]\n",
      "j 0.09709905946118275\n",
      "X_jini_list [0.07488547008546997, 0.06479999999999991, 0.08871435654721642, 0.10084952753339838, 0.05220226082161557, 0.08871435654721642, 0.09689546388493742, 0.07849267139479887, 0.06637575757575737, 0.006577777777777627, 0.09709905946118275]\n",
      "i 10\n",
      "k 0\n",
      "m [2 1 2 2 1 2 2 2 2 2 2 2 2 2 1 2 2 1 2 1 2 2 2 2 1]\n",
      "n [1 2 1 2 1 2 1 1 1 2 1 1 2 1 2 1 1 1 2 1 1 1 1 2 1 1 1 1 2 2 1 1 2 1 2 1 1\n",
      " 2 1 2 2 1 1 2 2 1 1 2 2 1]\n",
      "j 0.06417777777777772\n",
      "X_jini_list [0.07488547008546997, 0.06479999999999991, 0.08871435654721642, 0.10084952753339838, 0.05220226082161557, 0.08871435654721642, 0.09689546388493742, 0.07849267139479887, 0.06637575757575737, 0.006577777777777627, 0.09709905946118275, 0.06417777777777772]\n",
      "i 11\n",
      "k 0\n",
      "m [2 1 2 2 2 2 2 2 2 2 2 2 2 1 2 2 1 2 1 2 1]\n",
      "n [1 2 1 2 1 2 1 2 1 1 2 2 1 1 2 1 2 1 1 1 2 1 1 1 1 2 1 1 1 1 2 2 1 1 2 2 1\n",
      " 2 1 1 2 1 2 2 1 1 2 2 1 1 1 2 2 1]\n",
      "j 0.050669488536154994\n",
      "X_jini_list [0.07488547008546997, 0.06479999999999991, 0.08871435654721642, 0.10084952753339838, 0.05220226082161557, 0.08871435654721642, 0.09689546388493742, 0.07849267139479887, 0.06637575757575737, 0.006577777777777627, 0.09709905946118275, 0.06417777777777772, 0.050669488536154994]\n",
      "i 12\n",
      "k 0\n",
      "m [2 1 2 1 2 2 1 2 1 2 2 1 2 2 1 2 2 2 2 2 1 2 2 2 2 2 1 2 2 2 2 2 1 2 2 1 2\n",
      " 1 2 2 1 2 1 1 2 1 1]\n",
      "n [1 1 2 1 1 1 1 1 1 2 1 1 1 1 1 1 1 2 1 1 1 2 2 1 2 1 1 2]\n",
      "j 0.07849267139479887\n",
      "X_jini_list [0.07488547008546997, 0.06479999999999991, 0.08871435654721642, 0.10084952753339838, 0.05220226082161557, 0.08871435654721642, 0.09689546388493742, 0.07849267139479887, 0.06637575757575737, 0.006577777777777627, 0.09709905946118275, 0.06417777777777772, 0.050669488536154994, 0.07849267139479887]\n",
      "i 13\n",
      "k 0\n",
      "m [2 1 2 1 2 2 1 2 1 2 2 1 2 2 1 2 2 2 2 2 1 2 2 2 2 2 1 2 2 2 2 2 1 2 2 1 2\n",
      " 1 2 2 1 2 1 1 2 1 1]\n",
      "n [1 1 2 1 1 1 1 1 1 2 1 1 1 1 1 1 1 2 1 1 1 2 2 1 2 1 1 2]\n",
      "j 0.07849267139479887\n",
      "X_jini_list [0.07488547008546997, 0.06479999999999991, 0.08871435654721642, 0.10084952753339838, 0.05220226082161557, 0.08871435654721642, 0.09689546388493742, 0.07849267139479887, 0.06637575757575737, 0.006577777777777627, 0.09709905946118275, 0.06417777777777772, 0.050669488536154994, 0.07849267139479887, 0.07849267139479887]\n",
      "i 14\n",
      "k 0\n",
      "m [2 1 2 2 1 2 2 2 2 2 2 2 2 2 1 2 2 1 2 1 2 2 2 2 1]\n",
      "n [1 2 1 2 1 2 1 1 1 2 1 1 2 1 2 1 1 1 2 1 1 1 1 2 1 1 1 1 2 2 1 1 2 1 2 1 1\n",
      " 2 1 2 2 1 1 2 2 1 1 2 2 1]\n",
      "j 0.06417777777777772\n",
      "X_jini_list [0.07488547008546997, 0.06479999999999991, 0.08871435654721642, 0.10084952753339838, 0.05220226082161557, 0.08871435654721642, 0.09689546388493742, 0.07849267139479887, 0.06637575757575737, 0.006577777777777627, 0.09709905946118275, 0.06417777777777772, 0.050669488536154994, 0.07849267139479887, 0.07849267139479887, 0.06417777777777772]\n",
      "i 15\n",
      "k 0\n",
      "m [2 1 2 2 2 1 2 2 2 2 2 2 2 2 2 2 1 2 2 2 1 2 1 1 2 2 2 1 2 2 2]\n",
      "n [1 1 2 1 2 1 1 1 1 2 1 2 1 1 1 2 1 1 1 1 2 1 1 1 1 2 2 1 1 1 2 1 1 1 2 2 1\n",
      " 1 2 2 1 1 2 1]\n",
      "j 0.10084952753339838\n",
      "X_jini_list [0.07488547008546997, 0.06479999999999991, 0.08871435654721642, 0.10084952753339838, 0.05220226082161557, 0.08871435654721642, 0.09689546388493742, 0.07849267139479887, 0.06637575757575737, 0.006577777777777627, 0.09709905946118275, 0.06417777777777772, 0.050669488536154994, 0.07849267139479887, 0.07849267139479887, 0.06417777777777772, 0.10084952753339838]\n",
      "i 16\n",
      "k 0\n",
      "m [2 1 2 2 2 1 2 2 2 2 2 2 2 2 2 2 1 2 2 2 1 2 1 1 2 2 2 1 2 2 2]\n",
      "n [1 1 2 1 2 1 1 1 1 2 1 2 1 1 1 2 1 1 1 1 2 1 1 1 1 2 2 1 1 1 2 1 1 1 2 2 1\n",
      " 1 2 2 1 1 2 1]\n",
      "j 0.10084952753339838\n",
      "X_jini_list [0.07488547008546997, 0.06479999999999991, 0.08871435654721642, 0.10084952753339838, 0.05220226082161557, 0.08871435654721642, 0.09689546388493742, 0.07849267139479887, 0.06637575757575737, 0.006577777777777627, 0.09709905946118275, 0.06417777777777772, 0.050669488536154994, 0.07849267139479887, 0.07849267139479887, 0.06417777777777772, 0.10084952753339838, 0.10084952753339838]\n",
      "i 17\n",
      "k 0\n",
      "m [2 1 1 2 2 1 2 2 2 1 2 1 1 1 2 2 1 2 2 1 2 1 1 2 2 2 1 1 2 2 1 2 2 2 2 2 2\n",
      " 1 2 2 2 2 2 1 2 2 2 2 1 1 1 2 2 1 2 1 2 1 1 1 1 1]\n",
      "n [1 1 1 1 1 1 1 1 1 2 1 1 2]\n",
      "j 0.05220226082161557\n",
      "X_jini_list [0.07488547008546997, 0.06479999999999991, 0.08871435654721642, 0.10084952753339838, 0.05220226082161557, 0.08871435654721642, 0.09689546388493742, 0.07849267139479887, 0.06637575757575737, 0.006577777777777627, 0.09709905946118275, 0.06417777777777772, 0.050669488536154994, 0.07849267139479887, 0.07849267139479887, 0.06417777777777772, 0.10084952753339838, 0.10084952753339838, 0.05220226082161557]\n",
      "i 18\n",
      "k 0\n",
      "m [2 1 2 1 2 2 1 2 1 2 2 1 2 2 1 2 2 2 2 2 1 2 2 2 2 2 1 2 2 2 2 2 1 2 2 1 2\n",
      " 1 2 2 1 2 1 1 2 1 1]\n",
      "n [1 1 2 1 1 1 1 1 1 2 1 1 1 1 1 1 1 2 1 1 1 2 2 1 2 1 1 2]\n",
      "j 0.07849267139479887\n",
      "X_jini_list [0.07488547008546997, 0.06479999999999991, 0.08871435654721642, 0.10084952753339838, 0.05220226082161557, 0.08871435654721642, 0.09689546388493742, 0.07849267139479887, 0.06637575757575737, 0.006577777777777627, 0.09709905946118275, 0.06417777777777772, 0.050669488536154994, 0.07849267139479887, 0.07849267139479887, 0.06417777777777772, 0.10084952753339838, 0.10084952753339838, 0.05220226082161557, 0.07849267139479887]\n",
      "i 19\n",
      "k 0\n",
      "m [2 2 2 2 2 2]\n",
      "n [2 1 1 2 1 2 1 2 2 1 2 1 1 1 2 2 1 1 2 1 2 1 1 1 2 1 1 2 1 1 2 1 2 1 1 1 2\n",
      " 2 2 1 2 2 1 1 2 2 2 1 1 2 1 2 1 2 1 2 2 1 1 1 2 2 1 2 1 1 2 2 1]\n",
      "j 0.04232657004830909\n",
      "X_jini_list [0.07488547008546997, 0.06479999999999991, 0.08871435654721642, 0.10084952753339838, 0.05220226082161557, 0.08871435654721642, 0.09689546388493742, 0.07849267139479887, 0.06637575757575737, 0.006577777777777627, 0.09709905946118275, 0.06417777777777772, 0.050669488536154994, 0.07849267139479887, 0.07849267139479887, 0.06417777777777772, 0.10084952753339838, 0.10084952753339838, 0.05220226082161557, 0.07849267139479887, 0.04232657004830909]\n",
      "i 20\n",
      "k 0\n",
      "m [2 1 2 1 2 2 2 1 2 1 1 1 2 2 1 2 2 2 1 1 2 2 2 1 1 2 2 1 2 2 2 2 2 2 1 2 2\n",
      " 2 2 2 1 2 2 2 1 1 1 2 2 1 2 1 2 1 1 2 1 2]\n",
      "n [1 1 1 1 1 1 1 1 1 1 1 2 1 1 1 1 2]\n",
      "j 0.08871435654721642\n",
      "X_jini_list [0.07488547008546997, 0.06479999999999991, 0.08871435654721642, 0.10084952753339838, 0.05220226082161557, 0.08871435654721642, 0.09689546388493742, 0.07849267139479887, 0.06637575757575737, 0.006577777777777627, 0.09709905946118275, 0.06417777777777772, 0.050669488536154994, 0.07849267139479887, 0.07849267139479887, 0.06417777777777772, 0.10084952753339838, 0.10084952753339838, 0.05220226082161557, 0.07849267139479887, 0.04232657004830909, 0.08871435654721642]\n",
      "i 21\n",
      "k 0\n",
      "m [2 1 2 2 2 2 1 2 2 1 2 2 2 2 2 2 2 2 2 1 2 2 2 2 1 2 2 1 1 2 2 1 2 2 1 2 1]\n",
      "n [1 1 2 2 1 1 1 1 2 1 1 1 1 1 1 1 2 1 1 1 1 2 1 1 1 2 1 1 1 2 2 1 1 2 2 1 1\n",
      " 2]\n",
      "j 0.09689546388493742\n",
      "X_jini_list [0.07488547008546997, 0.06479999999999991, 0.08871435654721642, 0.10084952753339838, 0.05220226082161557, 0.08871435654721642, 0.09689546388493742, 0.07849267139479887, 0.06637575757575737, 0.006577777777777627, 0.09709905946118275, 0.06417777777777772, 0.050669488536154994, 0.07849267139479887, 0.07849267139479887, 0.06417777777777772, 0.10084952753339838, 0.10084952753339838, 0.05220226082161557, 0.07849267139479887, 0.04232657004830909, 0.08871435654721642, 0.09689546388493742]\n",
      "i 22\n",
      "k 0\n",
      "m [2 1 1 2 1 2 1 2 2 2 1 2 1 1 1 2 2 1 1 2 2 1 2 1 1 2 2 2 1 1 2 2 1 2 2 2 2\n",
      " 2 2 1 2 2 2 2 2 1 2 2 1 2 2 1 1 1 2 2 1 2 1 1 2 1 1 1 2 1]\n",
      "n [1 1 1 1 1 1 1 1 2]\n",
      "j 0.04267205387205367\n",
      "X_jini_list [0.07488547008546997, 0.06479999999999991, 0.08871435654721642, 0.10084952753339838, 0.05220226082161557, 0.08871435654721642, 0.09689546388493742, 0.07849267139479887, 0.06637575757575737, 0.006577777777777627, 0.09709905946118275, 0.06417777777777772, 0.050669488536154994, 0.07849267139479887, 0.07849267139479887, 0.06417777777777772, 0.10084952753339838, 0.10084952753339838, 0.05220226082161557, 0.07849267139479887, 0.04232657004830909, 0.08871435654721642, 0.09689546388493742, 0.04267205387205367]\n",
      "i 23\n",
      "k 0\n",
      "m [2 1 2 1 2 2 1 2 1 2 2 1 2 2 1 2 2 2 2 2 1 2 2 2 2 2 1 2 2 2 2 2 1 2 2 1 2\n",
      " 1 2 2 1 2 1 1 2 1 1]\n",
      "n [1 1 2 1 1 1 1 1 1 2 1 1 1 1 1 1 1 2 1 1 1 2 2 1 2 1 1 2]\n",
      "j 0.07849267139479887\n",
      "X_jini_list [0.07488547008546997, 0.06479999999999991, 0.08871435654721642, 0.10084952753339838, 0.05220226082161557, 0.08871435654721642, 0.09689546388493742, 0.07849267139479887, 0.06637575757575737, 0.006577777777777627, 0.09709905946118275, 0.06417777777777772, 0.050669488536154994, 0.07849267139479887, 0.07849267139479887, 0.06417777777777772, 0.10084952753339838, 0.10084952753339838, 0.05220226082161557, 0.07849267139479887, 0.04232657004830909, 0.08871435654721642, 0.09689546388493742, 0.04267205387205367, 0.07849267139479887]\n",
      "i 24\n",
      "k 0\n",
      "m [2 1 2 1 2 2 2 1 2 2 1 2 2 2 2 2 2 2 1 2 2 2 2 1 2 2 2 2 2 1 2 2 1 1 2 2 1\n",
      " 1 1 2 2]\n",
      "n [1 1 2 2 1 1 1 2 1 1 1 1 1 1 2 1 1 1 1 1 1 1 2 1 1 1 2 2 1 1 2 1 1 2]\n",
      "j 0.09709905946118275\n",
      "X_jini_list [0.07488547008546997, 0.06479999999999991, 0.08871435654721642, 0.10084952753339838, 0.05220226082161557, 0.08871435654721642, 0.09689546388493742, 0.07849267139479887, 0.06637575757575737, 0.006577777777777627, 0.09709905946118275, 0.06417777777777772, 0.050669488536154994, 0.07849267139479887, 0.07849267139479887, 0.06417777777777772, 0.10084952753339838, 0.10084952753339838, 0.05220226082161557, 0.07849267139479887, 0.04232657004830909, 0.08871435654721642, 0.09689546388493742, 0.04267205387205367, 0.07849267139479887, 0.09709905946118275]\n",
      "i 25\n",
      "k 0\n",
      "m [2 2 2]\n",
      "n [2 1 1 2 1 2 1 2 2 1 2 1 1 1 2 2 1 1 2 2 1 2 1 1 1 2 1 1 2 1 2 1 2 1 2 1 1\n",
      " 1 2 2 2 2 1 2 2 1 1 2 2 2 1 1 2 1 2 1 2 1 2 2 1 1 1 2 2 1 2 1 1 2 2 1]\n",
      "j 0.020281481481481234\n",
      "X_jini_list [0.07488547008546997, 0.06479999999999991, 0.08871435654721642, 0.10084952753339838, 0.05220226082161557, 0.08871435654721642, 0.09689546388493742, 0.07849267139479887, 0.06637575757575737, 0.006577777777777627, 0.09709905946118275, 0.06417777777777772, 0.050669488536154994, 0.07849267139479887, 0.07849267139479887, 0.06417777777777772, 0.10084952753339838, 0.10084952753339838, 0.05220226082161557, 0.07849267139479887, 0.04232657004830909, 0.08871435654721642, 0.09689546388493742, 0.04267205387205367, 0.07849267139479887, 0.09709905946118275, 0.020281481481481234]\n",
      "i 26\n",
      "k 0\n",
      "m [2 1 2 2 2 2 1 2 2 1 2 2 2 2 2 2 2 2 2 1 2 2 2 2 1 2 2 1 1 2 2 1 2 2 1 2 1]\n",
      "n [1 1 2 2 1 1 1 1 2 1 1 1 1 1 1 1 2 1 1 1 1 2 1 1 1 2 1 1 1 2 2 1 1 2 2 1 1\n",
      " 2]\n",
      "j 0.09689546388493742\n",
      "X_jini_list [0.07488547008546997, 0.06479999999999991, 0.08871435654721642, 0.10084952753339838, 0.05220226082161557, 0.08871435654721642, 0.09689546388493742, 0.07849267139479887, 0.06637575757575737, 0.006577777777777627, 0.09709905946118275, 0.06417777777777772, 0.050669488536154994, 0.07849267139479887, 0.07849267139479887, 0.06417777777777772, 0.10084952753339838, 0.10084952753339838, 0.05220226082161557, 0.07849267139479887, 0.04232657004830909, 0.08871435654721642, 0.09689546388493742, 0.04267205387205367, 0.07849267139479887, 0.09709905946118275, 0.020281481481481234, 0.09689546388493742]\n",
      "i 27\n",
      "k 0\n",
      "m [2 2 2]\n",
      "n [2 1 1 2 1 2 1 2 2 1 2 1 1 1 2 2 1 1 2 2 1 2 1 1 1 2 1 1 2 1 2 1 2 1 2 1 1\n",
      " 1 2 2 2 2 1 2 2 1 1 2 2 2 1 1 2 1 2 1 2 1 2 2 1 1 1 2 2 1 2 1 1 2 2 1]\n",
      "j 0.020281481481481234\n",
      "X_jini_list [0.07488547008546997, 0.06479999999999991, 0.08871435654721642, 0.10084952753339838, 0.05220226082161557, 0.08871435654721642, 0.09689546388493742, 0.07849267139479887, 0.06637575757575737, 0.006577777777777627, 0.09709905946118275, 0.06417777777777772, 0.050669488536154994, 0.07849267139479887, 0.07849267139479887, 0.06417777777777772, 0.10084952753339838, 0.10084952753339838, 0.05220226082161557, 0.07849267139479887, 0.04232657004830909, 0.08871435654721642, 0.09689546388493742, 0.04267205387205367, 0.07849267139479887, 0.09709905946118275, 0.020281481481481234, 0.09689546388493742, 0.020281481481481234]\n",
      "i 28\n",
      "k 0\n",
      "m [2 1 2 1 2 2 2 1 2 1 1 1 2 2 1 2 2 2 1 1 2 2 2 2 2 1 2 2 2 2 2 2 1 2 2 2 2\n",
      " 2 1 2 2 1 1 1 2 2 1 2 1 2 1 1 1 2]\n",
      "n [1 1 2 1 1 1 1 1 1 1 1 1 1 1 2 1 1 1 2 1 2]\n",
      "j 0.07775943562610219\n",
      "X_jini_list [0.07488547008546997, 0.06479999999999991, 0.08871435654721642, 0.10084952753339838, 0.05220226082161557, 0.08871435654721642, 0.09689546388493742, 0.07849267139479887, 0.06637575757575737, 0.006577777777777627, 0.09709905946118275, 0.06417777777777772, 0.050669488536154994, 0.07849267139479887, 0.07849267139479887, 0.06417777777777772, 0.10084952753339838, 0.10084952753339838, 0.05220226082161557, 0.07849267139479887, 0.04232657004830909, 0.08871435654721642, 0.09689546388493742, 0.04267205387205367, 0.07849267139479887, 0.09709905946118275, 0.020281481481481234, 0.09689546388493742, 0.020281481481481234, 0.07775943562610219]\n",
      "i 29\n",
      "k 0\n",
      "m [2 1 2 1 2 2 2 1 2 1 1 1 2 2 1 2 2 2 1 1 2 2 2 2 2 1 2 2 2 2 2 2 1 2 2 2 2\n",
      " 2 1 2 2 1 1 1 2 2 1 2 1 2 1 1 1 2]\n",
      "n [1 1 2 1 1 1 1 1 1 1 1 1 1 1 2 1 1 1 2 1 2]\n",
      "j 0.07775943562610219\n",
      "X_jini_list [0.07488547008546997, 0.06479999999999991, 0.08871435654721642, 0.10084952753339838, 0.05220226082161557, 0.08871435654721642, 0.09689546388493742, 0.07849267139479887, 0.06637575757575737, 0.006577777777777627, 0.09709905946118275, 0.06417777777777772, 0.050669488536154994, 0.07849267139479887, 0.07849267139479887, 0.06417777777777772, 0.10084952753339838, 0.10084952753339838, 0.05220226082161557, 0.07849267139479887, 0.04232657004830909, 0.08871435654721642, 0.09689546388493742, 0.04267205387205367, 0.07849267139479887, 0.09709905946118275, 0.020281481481481234, 0.09689546388493742, 0.020281481481481234, 0.07775943562610219, 0.07775943562610219]\n",
      "i 30\n",
      "k 0\n",
      "m [2 2 2 2 2 2 2 2 2 2 1 2 2]\n",
      "n [1 1 2 1 2 1 2 1 2 1 1 1 2 2 1 1 2 1 2 1 1 1 2 1 1 1 1 2 1 2 1 1 1 2 2 1 2\n",
      " 1 1 2 2 2 1 1 2 1 1 2 1 2 2 1 1 2 2 1 2 1 1 2 2 1]\n",
      "j 0.0727150813344361\n",
      "X_jini_list [0.07488547008546997, 0.06479999999999991, 0.08871435654721642, 0.10084952753339838, 0.05220226082161557, 0.08871435654721642, 0.09689546388493742, 0.07849267139479887, 0.06637575757575737, 0.006577777777777627, 0.09709905946118275, 0.06417777777777772, 0.050669488536154994, 0.07849267139479887, 0.07849267139479887, 0.06417777777777772, 0.10084952753339838, 0.10084952753339838, 0.05220226082161557, 0.07849267139479887, 0.04232657004830909, 0.08871435654721642, 0.09689546388493742, 0.04267205387205367, 0.07849267139479887, 0.09709905946118275, 0.020281481481481234, 0.09689546388493742, 0.020281481481481234, 0.07775943562610219, 0.07775943562610219, 0.0727150813344361]\n",
      "i 31\n",
      "k 0\n",
      "m [2 1 1 2 1 2 1 2 2 2 1 2 1 1 1 2 2 1 1 2 2 1 2 1 1 1 2 2 2 1 1 2 2 1 2 2 2\n",
      " 2 2 2 1 2 2 2 2 2 1 1 2 1 2 2 1 2 2 1 1 1 2 2 1 2 1 1 2 1 1 1 1 1]\n",
      "n [1 1 1 1 2]\n",
      "j 0.013434920634920515\n",
      "X_jini_list [0.07488547008546997, 0.06479999999999991, 0.08871435654721642, 0.10084952753339838, 0.05220226082161557, 0.08871435654721642, 0.09689546388493742, 0.07849267139479887, 0.06637575757575737, 0.006577777777777627, 0.09709905946118275, 0.06417777777777772, 0.050669488536154994, 0.07849267139479887, 0.07849267139479887, 0.06417777777777772, 0.10084952753339838, 0.10084952753339838, 0.05220226082161557, 0.07849267139479887, 0.04232657004830909, 0.08871435654721642, 0.09689546388493742, 0.04267205387205367, 0.07849267139479887, 0.09709905946118275, 0.020281481481481234, 0.09689546388493742, 0.020281481481481234, 0.07775943562610219, 0.07775943562610219, 0.0727150813344361, 0.013434920634920515]\n",
      "i 32\n",
      "k 0\n",
      "m [2 2 2 2]\n",
      "n [2 1 1 2 1 2 1 2 2 1 2 1 1 1 2 2 1 1 2 2 1 2 1 1 1 2 1 1 2 1 1 2 1 2 1 1 1\n",
      " 2 2 2 2 1 2 2 1 1 2 2 2 1 1 2 1 2 1 2 1 2 2 1 1 1 2 2 1 2 1 1 2 2 1]\n",
      "j 0.027422848200312766\n",
      "X_jini_list [0.07488547008546997, 0.06479999999999991, 0.08871435654721642, 0.10084952753339838, 0.05220226082161557, 0.08871435654721642, 0.09689546388493742, 0.07849267139479887, 0.06637575757575737, 0.006577777777777627, 0.09709905946118275, 0.06417777777777772, 0.050669488536154994, 0.07849267139479887, 0.07849267139479887, 0.06417777777777772, 0.10084952753339838, 0.10084952753339838, 0.05220226082161557, 0.07849267139479887, 0.04232657004830909, 0.08871435654721642, 0.09689546388493742, 0.04267205387205367, 0.07849267139479887, 0.09709905946118275, 0.020281481481481234, 0.09689546388493742, 0.020281481481481234, 0.07775943562610219, 0.07775943562610219, 0.0727150813344361, 0.013434920634920515, 0.027422848200312766]\n",
      "i 33\n",
      "k 0\n",
      "m [2 1 2 2 2 2 1 2 2 1 2 2 2 2 2 2 2 2 2 1 2 2 2 2 1 2 2 1 1 2 2 1 2 2 1 2 1]\n",
      "n [1 1 2 2 1 1 1 1 2 1 1 1 1 1 1 1 2 1 1 1 1 2 1 1 1 2 1 1 1 2 2 1 1 2 2 1 1\n",
      " 2]\n",
      "j 0.09689546388493742\n",
      "X_jini_list [0.07488547008546997, 0.06479999999999991, 0.08871435654721642, 0.10084952753339838, 0.05220226082161557, 0.08871435654721642, 0.09689546388493742, 0.07849267139479887, 0.06637575757575737, 0.006577777777777627, 0.09709905946118275, 0.06417777777777772, 0.050669488536154994, 0.07849267139479887, 0.07849267139479887, 0.06417777777777772, 0.10084952753339838, 0.10084952753339838, 0.05220226082161557, 0.07849267139479887, 0.04232657004830909, 0.08871435654721642, 0.09689546388493742, 0.04267205387205367, 0.07849267139479887, 0.09709905946118275, 0.020281481481481234, 0.09689546388493742, 0.020281481481481234, 0.07775943562610219, 0.07775943562610219, 0.0727150813344361, 0.013434920634920515, 0.027422848200312766, 0.09689546388493742]\n",
      "i 34\n",
      "k 0\n",
      "m [2 1 2 1 2 2 2 1 2 1 1 1 2 2 1 2 2 2 1 1 2 2 2 2 2 1 2 2 2 2 2 1 2 2 2 2 2\n",
      " 1 2 2 1 1 2 1 2 2 1 2 1 2 1]\n",
      "n [1 1 2 1 1 1 1 1 1 1 1 1 1 1 1 1 2 1 1 1 2 2 1 2]\n",
      "j 0.0837673202614378\n",
      "X_jini_list [0.07488547008546997, 0.06479999999999991, 0.08871435654721642, 0.10084952753339838, 0.05220226082161557, 0.08871435654721642, 0.09689546388493742, 0.07849267139479887, 0.06637575757575737, 0.006577777777777627, 0.09709905946118275, 0.06417777777777772, 0.050669488536154994, 0.07849267139479887, 0.07849267139479887, 0.06417777777777772, 0.10084952753339838, 0.10084952753339838, 0.05220226082161557, 0.07849267139479887, 0.04232657004830909, 0.08871435654721642, 0.09689546388493742, 0.04267205387205367, 0.07849267139479887, 0.09709905946118275, 0.020281481481481234, 0.09689546388493742, 0.020281481481481234, 0.07775943562610219, 0.07775943562610219, 0.0727150813344361, 0.013434920634920515, 0.027422848200312766, 0.09689546388493742, 0.0837673202614378]\n",
      "i 35\n",
      "k 0\n",
      "m [2 1 1 2 1 2 1 2 2 2 1 2 1 1 1 2 2 1 1 2 2 1 2 1 1 1 2 2 2 1 1 2 2 1 2 2 2\n",
      " 2 2 2 1 2 2 2 2 2 1 1 2 1 2 2 1 2 2 1 1 1 2 2 1 2 1 1 2 1 1 1 1 1]\n",
      "n [1 1 1 1 2]\n",
      "j 0.013434920634920515\n",
      "X_jini_list [0.07488547008546997, 0.06479999999999991, 0.08871435654721642, 0.10084952753339838, 0.05220226082161557, 0.08871435654721642, 0.09689546388493742, 0.07849267139479887, 0.06637575757575737, 0.006577777777777627, 0.09709905946118275, 0.06417777777777772, 0.050669488536154994, 0.07849267139479887, 0.07849267139479887, 0.06417777777777772, 0.10084952753339838, 0.10084952753339838, 0.05220226082161557, 0.07849267139479887, 0.04232657004830909, 0.08871435654721642, 0.09689546388493742, 0.04267205387205367, 0.07849267139479887, 0.09709905946118275, 0.020281481481481234, 0.09689546388493742, 0.020281481481481234, 0.07775943562610219, 0.07775943562610219, 0.0727150813344361, 0.013434920634920515, 0.027422848200312766, 0.09689546388493742, 0.0837673202614378, 0.013434920634920515]\n",
      "i 36\n",
      "k 0\n",
      "m [2 1 2 2 2 2 2 2 2 2 2 2 2 1 2 2 2 1 2 1]\n",
      "n [1 2 1 2 1 2 1 2 1 1 1 2 2 1 1 2 1 2 1 1 1 2 1 1 1 1 2 1 1 1 1 2 2 1 1 2 2\n",
      " 1 2 1 1 2 1 2 2 1 1 2 2 1 1 1 2 2 1]\n",
      "j 0.06257777777777773\n",
      "X_jini_list [0.07488547008546997, 0.06479999999999991, 0.08871435654721642, 0.10084952753339838, 0.05220226082161557, 0.08871435654721642, 0.09689546388493742, 0.07849267139479887, 0.06637575757575737, 0.006577777777777627, 0.09709905946118275, 0.06417777777777772, 0.050669488536154994, 0.07849267139479887, 0.07849267139479887, 0.06417777777777772, 0.10084952753339838, 0.10084952753339838, 0.05220226082161557, 0.07849267139479887, 0.04232657004830909, 0.08871435654721642, 0.09689546388493742, 0.04267205387205367, 0.07849267139479887, 0.09709905946118275, 0.020281481481481234, 0.09689546388493742, 0.020281481481481234, 0.07775943562610219, 0.07775943562610219, 0.0727150813344361, 0.013434920634920515, 0.027422848200312766, 0.09689546388493742, 0.0837673202614378, 0.013434920634920515, 0.06257777777777773]\n",
      "i 37\n",
      "k 0\n",
      "m [2 1 1 2 1 2 1 2 2 2 1 2 1 1 1 2 2 1 1 2 2 1 2 1 1 1 2 2 2 1 1 2 1 2 1 2 1\n",
      " 2 1 1 2 2 2 2 1 2 2 1 1 2 2 2 1 1 2 1 2 2 1 2 2 1 1 1 2 2 1 2 1 1 2 1 1 1]\n",
      "n [2]\n",
      "j 0.006577777777777627\n",
      "X_jini_list [0.07488547008546997, 0.06479999999999991, 0.08871435654721642, 0.10084952753339838, 0.05220226082161557, 0.08871435654721642, 0.09689546388493742, 0.07849267139479887, 0.06637575757575737, 0.006577777777777627, 0.09709905946118275, 0.06417777777777772, 0.050669488536154994, 0.07849267139479887, 0.07849267139479887, 0.06417777777777772, 0.10084952753339838, 0.10084952753339838, 0.05220226082161557, 0.07849267139479887, 0.04232657004830909, 0.08871435654721642, 0.09689546388493742, 0.04267205387205367, 0.07849267139479887, 0.09709905946118275, 0.020281481481481234, 0.09689546388493742, 0.020281481481481234, 0.07775943562610219, 0.07775943562610219, 0.0727150813344361, 0.013434920634920515, 0.027422848200312766, 0.09689546388493742, 0.0837673202614378, 0.013434920634920515, 0.06257777777777773, 0.006577777777777627]\n",
      "i 38\n",
      "k 0\n",
      "m [2 1 1 2 1 2 1 2 2 2 1 2 1 1 1 2 2 1 1 2 2 1 2 1 1 1 2 2 2 1 1 2 1 2 1 2 1\n",
      " 2 1 2 2 2 2 1 2 2 1 1 2 2 2 1 1 2 1 2 2 1 2 2 1 1 1 2 2 1 2 1 1 2 1 1]\n",
      "n [1 1 2]\n",
      "j 0.002503703703703456\n",
      "X_jini_list [0.07488547008546997, 0.06479999999999991, 0.08871435654721642, 0.10084952753339838, 0.05220226082161557, 0.08871435654721642, 0.09689546388493742, 0.07849267139479887, 0.06637575757575737, 0.006577777777777627, 0.09709905946118275, 0.06417777777777772, 0.050669488536154994, 0.07849267139479887, 0.07849267139479887, 0.06417777777777772, 0.10084952753339838, 0.10084952753339838, 0.05220226082161557, 0.07849267139479887, 0.04232657004830909, 0.08871435654721642, 0.09689546388493742, 0.04267205387205367, 0.07849267139479887, 0.09709905946118275, 0.020281481481481234, 0.09689546388493742, 0.020281481481481234, 0.07775943562610219, 0.07775943562610219, 0.0727150813344361, 0.013434920634920515, 0.027422848200312766, 0.09689546388493742, 0.0837673202614378, 0.013434920634920515, 0.06257777777777773, 0.006577777777777627, 0.002503703703703456]\n",
      "i 39\n",
      "k 0\n",
      "m [2 1 1 2 1 2 1 2 2 2 1 2 1 1 1 2 2 1 1 2 2 1 2 1 1 1 2 2 2 1 1 2 2 1 2 2 2\n",
      " 2 2 2 1 2 2 2 2 2 1 1 2 1 2 2 1 2 2 1 1 1 2 2 1 2 1 1 2 1 1 1 1 1]\n",
      "n [1 1 1 1 2]\n",
      "j 0.013434920634920515\n",
      "X_jini_list [0.07488547008546997, 0.06479999999999991, 0.08871435654721642, 0.10084952753339838, 0.05220226082161557, 0.08871435654721642, 0.09689546388493742, 0.07849267139479887, 0.06637575757575737, 0.006577777777777627, 0.09709905946118275, 0.06417777777777772, 0.050669488536154994, 0.07849267139479887, 0.07849267139479887, 0.06417777777777772, 0.10084952753339838, 0.10084952753339838, 0.05220226082161557, 0.07849267139479887, 0.04232657004830909, 0.08871435654721642, 0.09689546388493742, 0.04267205387205367, 0.07849267139479887, 0.09709905946118275, 0.020281481481481234, 0.09689546388493742, 0.020281481481481234, 0.07775943562610219, 0.07775943562610219, 0.0727150813344361, 0.013434920634920515, 0.027422848200312766, 0.09689546388493742, 0.0837673202614378, 0.013434920634920515, 0.06257777777777773, 0.006577777777777627, 0.002503703703703456, 0.013434920634920515]\n",
      "i 40\n",
      "k 0\n",
      "m [2 1 2 2 2 2 2 2 2 2 2 2 2 1 2 2 2 1 2 1]\n",
      "n [1 2 1 2 1 2 1 2 1 1 1 2 2 1 1 2 1 2 1 1 1 2 1 1 1 1 2 1 1 1 1 2 2 1 1 2 2\n",
      " 1 2 1 1 2 1 2 2 1 1 2 2 1 1 1 2 2 1]\n",
      "j 0.06257777777777773\n",
      "X_jini_list [0.07488547008546997, 0.06479999999999991, 0.08871435654721642, 0.10084952753339838, 0.05220226082161557, 0.08871435654721642, 0.09689546388493742, 0.07849267139479887, 0.06637575757575737, 0.006577777777777627, 0.09709905946118275, 0.06417777777777772, 0.050669488536154994, 0.07849267139479887, 0.07849267139479887, 0.06417777777777772, 0.10084952753339838, 0.10084952753339838, 0.05220226082161557, 0.07849267139479887, 0.04232657004830909, 0.08871435654721642, 0.09689546388493742, 0.04267205387205367, 0.07849267139479887, 0.09709905946118275, 0.020281481481481234, 0.09689546388493742, 0.020281481481481234, 0.07775943562610219, 0.07775943562610219, 0.0727150813344361, 0.013434920634920515, 0.027422848200312766, 0.09689546388493742, 0.0837673202614378, 0.013434920634920515, 0.06257777777777773, 0.006577777777777627, 0.002503703703703456, 0.013434920634920515, 0.06257777777777773]\n",
      "i 41\n",
      "k 0\n",
      "m [2 1 2 1 2 2 2 1 2 2 1 2 2 2 2 2 2 2 1 2 2 2 2 1 2 2 2 2 2 1 2 2 1 1 2 2 1\n",
      " 1 1 2 2]\n",
      "n [1 1 2 2 1 1 1 2 1 1 1 1 1 1 2 1 1 1 1 1 1 1 2 1 1 1 2 2 1 1 2 1 1 2]\n",
      "j 0.09709905946118275\n",
      "X_jini_list [0.07488547008546997, 0.06479999999999991, 0.08871435654721642, 0.10084952753339838, 0.05220226082161557, 0.08871435654721642, 0.09689546388493742, 0.07849267139479887, 0.06637575757575737, 0.006577777777777627, 0.09709905946118275, 0.06417777777777772, 0.050669488536154994, 0.07849267139479887, 0.07849267139479887, 0.06417777777777772, 0.10084952753339838, 0.10084952753339838, 0.05220226082161557, 0.07849267139479887, 0.04232657004830909, 0.08871435654721642, 0.09689546388493742, 0.04267205387205367, 0.07849267139479887, 0.09709905946118275, 0.020281481481481234, 0.09689546388493742, 0.020281481481481234, 0.07775943562610219, 0.07775943562610219, 0.0727150813344361, 0.013434920634920515, 0.027422848200312766, 0.09689546388493742, 0.0837673202614378, 0.013434920634920515, 0.06257777777777773, 0.006577777777777627, 0.002503703703703456, 0.013434920634920515, 0.06257777777777773, 0.09709905946118275]\n",
      "i 42\n",
      "k 0\n",
      "m [2 2 2 2 2]\n",
      "n [2 1 1 2 1 2 1 2 2 1 2 1 1 1 2 2 1 1 2 2 1 2 1 1 1 2 1 1 2 1 1 2 1 2 1 1 1\n",
      " 2 2 2 1 2 2 1 1 2 2 2 1 1 2 1 2 1 2 1 2 2 1 1 1 2 2 1 2 1 1 2 2 1]\n",
      "j 0.03476825396825384\n",
      "X_jini_list [0.07488547008546997, 0.06479999999999991, 0.08871435654721642, 0.10084952753339838, 0.05220226082161557, 0.08871435654721642, 0.09689546388493742, 0.07849267139479887, 0.06637575757575737, 0.006577777777777627, 0.09709905946118275, 0.06417777777777772, 0.050669488536154994, 0.07849267139479887, 0.07849267139479887, 0.06417777777777772, 0.10084952753339838, 0.10084952753339838, 0.05220226082161557, 0.07849267139479887, 0.04232657004830909, 0.08871435654721642, 0.09689546388493742, 0.04267205387205367, 0.07849267139479887, 0.09709905946118275, 0.020281481481481234, 0.09689546388493742, 0.020281481481481234, 0.07775943562610219, 0.07775943562610219, 0.0727150813344361, 0.013434920634920515, 0.027422848200312766, 0.09689546388493742, 0.0837673202614378, 0.013434920634920515, 0.06257777777777773, 0.006577777777777627, 0.002503703703703456, 0.013434920634920515, 0.06257777777777773, 0.09709905946118275, 0.03476825396825384]\n",
      "i 43\n",
      "k 0\n",
      "m [2 2 2 2 2 2 2 2 2]\n",
      "n [2 1 1 2 1 2 1 2 1 2 1 1 1 2 2 1 1 2 1 2 1 1 1 2 1 1 2 1 1 2 1 2 1 1 1 2 2\n",
      " 1 2 1 1 2 2 2 1 1 2 1 2 1 2 1 2 2 1 1 1 2 2 1 2 1 1 2 2 1]\n",
      "j 0.06637575757575737\n",
      "X_jini_list [0.07488547008546997, 0.06479999999999991, 0.08871435654721642, 0.10084952753339838, 0.05220226082161557, 0.08871435654721642, 0.09689546388493742, 0.07849267139479887, 0.06637575757575737, 0.006577777777777627, 0.09709905946118275, 0.06417777777777772, 0.050669488536154994, 0.07849267139479887, 0.07849267139479887, 0.06417777777777772, 0.10084952753339838, 0.10084952753339838, 0.05220226082161557, 0.07849267139479887, 0.04232657004830909, 0.08871435654721642, 0.09689546388493742, 0.04267205387205367, 0.07849267139479887, 0.09709905946118275, 0.020281481481481234, 0.09689546388493742, 0.020281481481481234, 0.07775943562610219, 0.07775943562610219, 0.0727150813344361, 0.013434920634920515, 0.027422848200312766, 0.09689546388493742, 0.0837673202614378, 0.013434920634920515, 0.06257777777777773, 0.006577777777777627, 0.002503703703703456, 0.013434920634920515, 0.06257777777777773, 0.09709905946118275, 0.03476825396825384, 0.06637575757575737]\n",
      "i 44\n",
      "k 0\n",
      "m [2 1 2 2 2 2 2 2 2 2 2 2 2 1 2 2 2 1 2 1]\n",
      "n [1 2 1 2 1 2 1 2 1 1 1 2 2 1 1 2 1 2 1 1 1 2 1 1 1 1 2 1 1 1 1 2 2 1 1 2 2\n",
      " 1 2 1 1 2 1 2 2 1 1 2 2 1 1 1 2 2 1]\n",
      "j 0.06257777777777773\n",
      "X_jini_list [0.07488547008546997, 0.06479999999999991, 0.08871435654721642, 0.10084952753339838, 0.05220226082161557, 0.08871435654721642, 0.09689546388493742, 0.07849267139479887, 0.06637575757575737, 0.006577777777777627, 0.09709905946118275, 0.06417777777777772, 0.050669488536154994, 0.07849267139479887, 0.07849267139479887, 0.06417777777777772, 0.10084952753339838, 0.10084952753339838, 0.05220226082161557, 0.07849267139479887, 0.04232657004830909, 0.08871435654721642, 0.09689546388493742, 0.04267205387205367, 0.07849267139479887, 0.09709905946118275, 0.020281481481481234, 0.09689546388493742, 0.020281481481481234, 0.07775943562610219, 0.07775943562610219, 0.0727150813344361, 0.013434920634920515, 0.027422848200312766, 0.09689546388493742, 0.0837673202614378, 0.013434920634920515, 0.06257777777777773, 0.006577777777777627, 0.002503703703703456, 0.013434920634920515, 0.06257777777777773, 0.09709905946118275, 0.03476825396825384, 0.06637575757575737, 0.06257777777777773]\n",
      "i 45\n",
      "k 0\n",
      "m [2 2 2 2 2 2 2 2 2]\n",
      "n [2 1 1 2 1 2 1 2 1 2 1 1 1 2 2 1 1 2 1 2 1 1 1 2 1 1 2 1 1 2 1 2 1 1 1 2 2\n",
      " 1 2 1 1 2 2 2 1 1 2 1 2 1 2 1 2 2 1 1 1 2 2 1 2 1 1 2 2 1]\n",
      "j 0.06637575757575737\n",
      "X_jini_list [0.07488547008546997, 0.06479999999999991, 0.08871435654721642, 0.10084952753339838, 0.05220226082161557, 0.08871435654721642, 0.09689546388493742, 0.07849267139479887, 0.06637575757575737, 0.006577777777777627, 0.09709905946118275, 0.06417777777777772, 0.050669488536154994, 0.07849267139479887, 0.07849267139479887, 0.06417777777777772, 0.10084952753339838, 0.10084952753339838, 0.05220226082161557, 0.07849267139479887, 0.04232657004830909, 0.08871435654721642, 0.09689546388493742, 0.04267205387205367, 0.07849267139479887, 0.09709905946118275, 0.020281481481481234, 0.09689546388493742, 0.020281481481481234, 0.07775943562610219, 0.07775943562610219, 0.0727150813344361, 0.013434920634920515, 0.027422848200312766, 0.09689546388493742, 0.0837673202614378, 0.013434920634920515, 0.06257777777777773, 0.006577777777777627, 0.002503703703703456, 0.013434920634920515, 0.06257777777777773, 0.09709905946118275, 0.03476825396825384, 0.06637575757575737, 0.06257777777777773, 0.06637575757575737]\n",
      "i 46\n",
      "k 0\n",
      "m [2 1 2 2 2 2 1 2 2 1 2 2 2 2 2 2 2 2 2 1 2 2 2 2 1 2 2 1 1 2 2 1 2 2 1 2 1]\n",
      "n [1 1 2 2 1 1 1 1 2 1 1 1 1 1 1 1 2 1 1 1 1 2 1 1 1 2 1 1 1 2 2 1 1 2 2 1 1\n",
      " 2]\n",
      "j 0.09689546388493742\n",
      "X_jini_list [0.07488547008546997, 0.06479999999999991, 0.08871435654721642, 0.10084952753339838, 0.05220226082161557, 0.08871435654721642, 0.09689546388493742, 0.07849267139479887, 0.06637575757575737, 0.006577777777777627, 0.09709905946118275, 0.06417777777777772, 0.050669488536154994, 0.07849267139479887, 0.07849267139479887, 0.06417777777777772, 0.10084952753339838, 0.10084952753339838, 0.05220226082161557, 0.07849267139479887, 0.04232657004830909, 0.08871435654721642, 0.09689546388493742, 0.04267205387205367, 0.07849267139479887, 0.09709905946118275, 0.020281481481481234, 0.09689546388493742, 0.020281481481481234, 0.07775943562610219, 0.07775943562610219, 0.0727150813344361, 0.013434920634920515, 0.027422848200312766, 0.09689546388493742, 0.0837673202614378, 0.013434920634920515, 0.06257777777777773, 0.006577777777777627, 0.002503703703703456, 0.013434920634920515, 0.06257777777777773, 0.09709905946118275, 0.03476825396825384, 0.06637575757575737, 0.06257777777777773, 0.06637575757575737, 0.09689546388493742]\n",
      "i 47\n",
      "k 0\n",
      "m [2 1 1 2 1 2 1 2 2 2 1 2 1 1 1 2 2 1 1 2 2 1 2 1 1 1 2 2 2 1 1 2 2 1 2 2 2\n",
      " 2 2 2 1 2 2 2 2 2 1 1 2 1 2 2 1 2 2 1 1 1 2 2 1 2 1 1 2 1 1 1 1 1]\n",
      "n [1 1 1 1 2]\n",
      "j 0.013434920634920515\n",
      "X_jini_list [0.07488547008546997, 0.06479999999999991, 0.08871435654721642, 0.10084952753339838, 0.05220226082161557, 0.08871435654721642, 0.09689546388493742, 0.07849267139479887, 0.06637575757575737, 0.006577777777777627, 0.09709905946118275, 0.06417777777777772, 0.050669488536154994, 0.07849267139479887, 0.07849267139479887, 0.06417777777777772, 0.10084952753339838, 0.10084952753339838, 0.05220226082161557, 0.07849267139479887, 0.04232657004830909, 0.08871435654721642, 0.09689546388493742, 0.04267205387205367, 0.07849267139479887, 0.09709905946118275, 0.020281481481481234, 0.09689546388493742, 0.020281481481481234, 0.07775943562610219, 0.07775943562610219, 0.0727150813344361, 0.013434920634920515, 0.027422848200312766, 0.09689546388493742, 0.0837673202614378, 0.013434920634920515, 0.06257777777777773, 0.006577777777777627, 0.002503703703703456, 0.013434920634920515, 0.06257777777777773, 0.09709905946118275, 0.03476825396825384, 0.06637575757575737, 0.06257777777777773, 0.06637575757575737, 0.09689546388493742, 0.013434920634920515]\n",
      "i 48\n",
      "k 0\n",
      "m [2 1 1 2 1 2 1 2 2 2 1 2 1 1 1 2 2 1 1 2 2 1 2 1 1 1 2 2 2 1 1 2 1 2 1 2 1\n",
      " 2 1 2 2 2 2 1 2 2 1 2 2 2 1 1 2 1 2 2 1 2 2 1 1 1 2 2 1 2 1 1 2 1 1]\n",
      "n [1 1 1 2]\n",
      "j 0.007422848200312766\n",
      "X_jini_list [0.07488547008546997, 0.06479999999999991, 0.08871435654721642, 0.10084952753339838, 0.05220226082161557, 0.08871435654721642, 0.09689546388493742, 0.07849267139479887, 0.06637575757575737, 0.006577777777777627, 0.09709905946118275, 0.06417777777777772, 0.050669488536154994, 0.07849267139479887, 0.07849267139479887, 0.06417777777777772, 0.10084952753339838, 0.10084952753339838, 0.05220226082161557, 0.07849267139479887, 0.04232657004830909, 0.08871435654721642, 0.09689546388493742, 0.04267205387205367, 0.07849267139479887, 0.09709905946118275, 0.020281481481481234, 0.09689546388493742, 0.020281481481481234, 0.07775943562610219, 0.07775943562610219, 0.0727150813344361, 0.013434920634920515, 0.027422848200312766, 0.09689546388493742, 0.0837673202614378, 0.013434920634920515, 0.06257777777777773, 0.006577777777777627, 0.002503703703703456, 0.013434920634920515, 0.06257777777777773, 0.09709905946118275, 0.03476825396825384, 0.06637575757575737, 0.06257777777777773, 0.06637575757575737, 0.09689546388493742, 0.013434920634920515, 0.007422848200312766]\n",
      "i 49\n",
      "k 0\n",
      "m [2 1 2 2 1 2 2 2 2 2 2 2 2 2 1 2 2 1 2 1 2 2 2 2 1]\n",
      "n [1 2 1 2 1 2 1 1 1 2 1 1 2 1 2 1 1 1 2 1 1 1 1 2 1 1 1 1 2 2 1 1 2 1 2 1 1\n",
      " 2 1 2 2 1 1 2 2 1 1 2 2 1]\n",
      "j 0.06417777777777772\n",
      "X_jini_list [0.07488547008546997, 0.06479999999999991, 0.08871435654721642, 0.10084952753339838, 0.05220226082161557, 0.08871435654721642, 0.09689546388493742, 0.07849267139479887, 0.06637575757575737, 0.006577777777777627, 0.09709905946118275, 0.06417777777777772, 0.050669488536154994, 0.07849267139479887, 0.07849267139479887, 0.06417777777777772, 0.10084952753339838, 0.10084952753339838, 0.05220226082161557, 0.07849267139479887, 0.04232657004830909, 0.08871435654721642, 0.09689546388493742, 0.04267205387205367, 0.07849267139479887, 0.09709905946118275, 0.020281481481481234, 0.09689546388493742, 0.020281481481481234, 0.07775943562610219, 0.07775943562610219, 0.0727150813344361, 0.013434920634920515, 0.027422848200312766, 0.09689546388493742, 0.0837673202614378, 0.013434920634920515, 0.06257777777777773, 0.006577777777777627, 0.002503703703703456, 0.013434920634920515, 0.06257777777777773, 0.09709905946118275, 0.03476825396825384, 0.06637575757575737, 0.06257777777777773, 0.06637575757575737, 0.09689546388493742, 0.013434920634920515, 0.007422848200312766, 0.06417777777777772]\n",
      "i 50\n",
      "k 0\n",
      "m [2 1 2 2 2 1 2 2 2 2 2 2 2 2 2 2 1 2 2 2 1 2 1 1 2 2 2 1 2 2 2]\n",
      "n [1 1 2 1 2 1 1 1 1 2 1 2 1 1 1 2 1 1 1 1 2 1 1 1 1 2 2 1 1 1 2 1 1 1 2 2 1\n",
      " 1 2 2 1 1 2 1]\n",
      "j 0.10084952753339838\n",
      "X_jini_list [0.07488547008546997, 0.06479999999999991, 0.08871435654721642, 0.10084952753339838, 0.05220226082161557, 0.08871435654721642, 0.09689546388493742, 0.07849267139479887, 0.06637575757575737, 0.006577777777777627, 0.09709905946118275, 0.06417777777777772, 0.050669488536154994, 0.07849267139479887, 0.07849267139479887, 0.06417777777777772, 0.10084952753339838, 0.10084952753339838, 0.05220226082161557, 0.07849267139479887, 0.04232657004830909, 0.08871435654721642, 0.09689546388493742, 0.04267205387205367, 0.07849267139479887, 0.09709905946118275, 0.020281481481481234, 0.09689546388493742, 0.020281481481481234, 0.07775943562610219, 0.07775943562610219, 0.0727150813344361, 0.013434920634920515, 0.027422848200312766, 0.09689546388493742, 0.0837673202614378, 0.013434920634920515, 0.06257777777777773, 0.006577777777777627, 0.002503703703703456, 0.013434920634920515, 0.06257777777777773, 0.09709905946118275, 0.03476825396825384, 0.06637575757575737, 0.06257777777777773, 0.06637575757575737, 0.09689546388493742, 0.013434920634920515, 0.007422848200312766, 0.06417777777777772, 0.10084952753339838]\n",
      "i 51\n",
      "k 0\n",
      "m [2 1 2 2 2 2 2 2 2 2 2 2 2 1 2 2 2 1 2 1]\n",
      "n [1 2 1 2 1 2 1 2 1 1 1 2 2 1 1 2 1 2 1 1 1 2 1 1 1 1 2 1 1 1 1 2 2 1 1 2 2\n",
      " 1 2 1 1 2 1 2 2 1 1 2 2 1 1 1 2 2 1]\n",
      "j 0.06257777777777773\n",
      "X_jini_list [0.07488547008546997, 0.06479999999999991, 0.08871435654721642, 0.10084952753339838, 0.05220226082161557, 0.08871435654721642, 0.09689546388493742, 0.07849267139479887, 0.06637575757575737, 0.006577777777777627, 0.09709905946118275, 0.06417777777777772, 0.050669488536154994, 0.07849267139479887, 0.07849267139479887, 0.06417777777777772, 0.10084952753339838, 0.10084952753339838, 0.05220226082161557, 0.07849267139479887, 0.04232657004830909, 0.08871435654721642, 0.09689546388493742, 0.04267205387205367, 0.07849267139479887, 0.09709905946118275, 0.020281481481481234, 0.09689546388493742, 0.020281481481481234, 0.07775943562610219, 0.07775943562610219, 0.0727150813344361, 0.013434920634920515, 0.027422848200312766, 0.09689546388493742, 0.0837673202614378, 0.013434920634920515, 0.06257777777777773, 0.006577777777777627, 0.002503703703703456, 0.013434920634920515, 0.06257777777777773, 0.09709905946118275, 0.03476825396825384, 0.06637575757575737, 0.06257777777777773, 0.06637575757575737, 0.09689546388493742, 0.013434920634920515, 0.007422848200312766, 0.06417777777777772, 0.10084952753339838, 0.06257777777777773]\n",
      "i 52\n",
      "k 0\n",
      "m [2 1 1 2 1 2 1 2 2 2 1 2 1 1 1 2 2 1 1 2 2 1 2 1 1 2 2 2 1 1 2 2 1 2 2 2 2\n",
      " 2 2 1 2 2 2 2 2 1 2 2 1 2 2 1 1 1 2 2 1 2 1 1 2 1 1 1 2 1]\n",
      "n [1 1 1 1 1 1 1 1 2]\n",
      "j 0.04267205387205367\n",
      "X_jini_list [0.07488547008546997, 0.06479999999999991, 0.08871435654721642, 0.10084952753339838, 0.05220226082161557, 0.08871435654721642, 0.09689546388493742, 0.07849267139479887, 0.06637575757575737, 0.006577777777777627, 0.09709905946118275, 0.06417777777777772, 0.050669488536154994, 0.07849267139479887, 0.07849267139479887, 0.06417777777777772, 0.10084952753339838, 0.10084952753339838, 0.05220226082161557, 0.07849267139479887, 0.04232657004830909, 0.08871435654721642, 0.09689546388493742, 0.04267205387205367, 0.07849267139479887, 0.09709905946118275, 0.020281481481481234, 0.09689546388493742, 0.020281481481481234, 0.07775943562610219, 0.07775943562610219, 0.0727150813344361, 0.013434920634920515, 0.027422848200312766, 0.09689546388493742, 0.0837673202614378, 0.013434920634920515, 0.06257777777777773, 0.006577777777777627, 0.002503703703703456, 0.013434920634920515, 0.06257777777777773, 0.09709905946118275, 0.03476825396825384, 0.06637575757575737, 0.06257777777777773, 0.06637575757575737, 0.09689546388493742, 0.013434920634920515, 0.007422848200312766, 0.06417777777777772, 0.10084952753339838, 0.06257777777777773, 0.04267205387205367]\n",
      "i 53\n",
      "k 0\n",
      "m [2 1 2 2 2 2 2 2 2 2 2 2 2 1 2 2 2 1 2 1]\n",
      "n [1 2 1 2 1 2 1 2 1 1 1 2 2 1 1 2 1 2 1 1 1 2 1 1 1 1 2 1 1 1 1 2 2 1 1 2 2\n",
      " 1 2 1 1 2 1 2 2 1 1 2 2 1 1 1 2 2 1]\n",
      "j 0.06257777777777773\n",
      "X_jini_list [0.07488547008546997, 0.06479999999999991, 0.08871435654721642, 0.10084952753339838, 0.05220226082161557, 0.08871435654721642, 0.09689546388493742, 0.07849267139479887, 0.06637575757575737, 0.006577777777777627, 0.09709905946118275, 0.06417777777777772, 0.050669488536154994, 0.07849267139479887, 0.07849267139479887, 0.06417777777777772, 0.10084952753339838, 0.10084952753339838, 0.05220226082161557, 0.07849267139479887, 0.04232657004830909, 0.08871435654721642, 0.09689546388493742, 0.04267205387205367, 0.07849267139479887, 0.09709905946118275, 0.020281481481481234, 0.09689546388493742, 0.020281481481481234, 0.07775943562610219, 0.07775943562610219, 0.0727150813344361, 0.013434920634920515, 0.027422848200312766, 0.09689546388493742, 0.0837673202614378, 0.013434920634920515, 0.06257777777777773, 0.006577777777777627, 0.002503703703703456, 0.013434920634920515, 0.06257777777777773, 0.09709905946118275, 0.03476825396825384, 0.06637575757575737, 0.06257777777777773, 0.06637575757575737, 0.09689546388493742, 0.013434920634920515, 0.007422848200312766, 0.06417777777777772, 0.10084952753339838, 0.06257777777777773, 0.04267205387205367, 0.06257777777777773]\n",
      "i 54\n",
      "k 0\n",
      "m [2 1 1 2 1 2 1 2 2 2 1 2 1 1 1 2 2 1 1 2 2 1 2 1 1 2 2 2 1 1 2 2 1 2 2 2 2\n",
      " 2 2 1 2 2 2 2 2 1 2 2 1 2 2 1 1 1 2 2 1 2 1 1 2 1 1 1 2 1]\n",
      "n [1 1 1 1 1 1 1 1 2]\n",
      "j 0.04267205387205367\n",
      "X_jini_list [0.07488547008546997, 0.06479999999999991, 0.08871435654721642, 0.10084952753339838, 0.05220226082161557, 0.08871435654721642, 0.09689546388493742, 0.07849267139479887, 0.06637575757575737, 0.006577777777777627, 0.09709905946118275, 0.06417777777777772, 0.050669488536154994, 0.07849267139479887, 0.07849267139479887, 0.06417777777777772, 0.10084952753339838, 0.10084952753339838, 0.05220226082161557, 0.07849267139479887, 0.04232657004830909, 0.08871435654721642, 0.09689546388493742, 0.04267205387205367, 0.07849267139479887, 0.09709905946118275, 0.020281481481481234, 0.09689546388493742, 0.020281481481481234, 0.07775943562610219, 0.07775943562610219, 0.0727150813344361, 0.013434920634920515, 0.027422848200312766, 0.09689546388493742, 0.0837673202614378, 0.013434920634920515, 0.06257777777777773, 0.006577777777777627, 0.002503703703703456, 0.013434920634920515, 0.06257777777777773, 0.09709905946118275, 0.03476825396825384, 0.06637575757575737, 0.06257777777777773, 0.06637575757575737, 0.09689546388493742, 0.013434920634920515, 0.007422848200312766, 0.06417777777777772, 0.10084952753339838, 0.06257777777777773, 0.04267205387205367, 0.06257777777777773, 0.04267205387205367]\n",
      "i 55\n",
      "k 0\n",
      "m [2 1 1 2 1 2 1 2 2 2 1 2 1 1 1 2 2 1 1 2 2 1 2 1 1 2 2 2 1 1 2 2 1 2 2 2 2\n",
      " 2 2 1 2 2 2 2 2 1 2 2 1 2 2 1 1 1 2 2 1 2 1 1 2 1 1 1 2 1]\n",
      "n [1 1 1 1 1 1 1 1 2]\n",
      "j 0.04267205387205367\n",
      "X_jini_list [0.07488547008546997, 0.06479999999999991, 0.08871435654721642, 0.10084952753339838, 0.05220226082161557, 0.08871435654721642, 0.09689546388493742, 0.07849267139479887, 0.06637575757575737, 0.006577777777777627, 0.09709905946118275, 0.06417777777777772, 0.050669488536154994, 0.07849267139479887, 0.07849267139479887, 0.06417777777777772, 0.10084952753339838, 0.10084952753339838, 0.05220226082161557, 0.07849267139479887, 0.04232657004830909, 0.08871435654721642, 0.09689546388493742, 0.04267205387205367, 0.07849267139479887, 0.09709905946118275, 0.020281481481481234, 0.09689546388493742, 0.020281481481481234, 0.07775943562610219, 0.07775943562610219, 0.0727150813344361, 0.013434920634920515, 0.027422848200312766, 0.09689546388493742, 0.0837673202614378, 0.013434920634920515, 0.06257777777777773, 0.006577777777777627, 0.002503703703703456, 0.013434920634920515, 0.06257777777777773, 0.09709905946118275, 0.03476825396825384, 0.06637575757575737, 0.06257777777777773, 0.06637575757575737, 0.09689546388493742, 0.013434920634920515, 0.007422848200312766, 0.06417777777777772, 0.10084952753339838, 0.06257777777777773, 0.04267205387205367, 0.06257777777777773, 0.04267205387205367, 0.04267205387205367]\n",
      "i 56\n",
      "k 0\n",
      "m [2 2 2 2 2 2 2 2 2 2 1 2 2]\n",
      "n [1 1 2 1 2 1 2 1 2 1 1 1 2 2 1 1 2 1 2 1 1 1 2 1 1 1 1 2 1 2 1 1 1 2 2 1 2\n",
      " 1 1 2 2 2 1 1 2 1 1 2 1 2 2 1 1 2 2 1 2 1 1 2 2 1]\n",
      "j 0.0727150813344361\n",
      "X_jini_list [0.07488547008546997, 0.06479999999999991, 0.08871435654721642, 0.10084952753339838, 0.05220226082161557, 0.08871435654721642, 0.09689546388493742, 0.07849267139479887, 0.06637575757575737, 0.006577777777777627, 0.09709905946118275, 0.06417777777777772, 0.050669488536154994, 0.07849267139479887, 0.07849267139479887, 0.06417777777777772, 0.10084952753339838, 0.10084952753339838, 0.05220226082161557, 0.07849267139479887, 0.04232657004830909, 0.08871435654721642, 0.09689546388493742, 0.04267205387205367, 0.07849267139479887, 0.09709905946118275, 0.020281481481481234, 0.09689546388493742, 0.020281481481481234, 0.07775943562610219, 0.07775943562610219, 0.0727150813344361, 0.013434920634920515, 0.027422848200312766, 0.09689546388493742, 0.0837673202614378, 0.013434920634920515, 0.06257777777777773, 0.006577777777777627, 0.002503703703703456, 0.013434920634920515, 0.06257777777777773, 0.09709905946118275, 0.03476825396825384, 0.06637575757575737, 0.06257777777777773, 0.06637575757575737, 0.09689546388493742, 0.013434920634920515, 0.007422848200312766, 0.06417777777777772, 0.10084952753339838, 0.06257777777777773, 0.04267205387205367, 0.06257777777777773, 0.04267205387205367, 0.04267205387205367, 0.0727150813344361]\n",
      "i 57\n",
      "k 0\n",
      "m [2 1 1 2 1 2 1 2 2 2 1 2 1 1 1 2 2 1 1 2 2 1 2 1 1 1 2 2 2 1 1 2 1 2 1 2 1\n",
      " 2 1 1 2 2 2 2 1 2 2 1 1 2 2 2 1 1 2 1 2 2 1 2 2 1 1 1 2 2 1 2 1 1 2 1 1 1]\n",
      "n [2]\n",
      "j 0.006577777777777627\n",
      "X_jini_list [0.07488547008546997, 0.06479999999999991, 0.08871435654721642, 0.10084952753339838, 0.05220226082161557, 0.08871435654721642, 0.09689546388493742, 0.07849267139479887, 0.06637575757575737, 0.006577777777777627, 0.09709905946118275, 0.06417777777777772, 0.050669488536154994, 0.07849267139479887, 0.07849267139479887, 0.06417777777777772, 0.10084952753339838, 0.10084952753339838, 0.05220226082161557, 0.07849267139479887, 0.04232657004830909, 0.08871435654721642, 0.09689546388493742, 0.04267205387205367, 0.07849267139479887, 0.09709905946118275, 0.020281481481481234, 0.09689546388493742, 0.020281481481481234, 0.07775943562610219, 0.07775943562610219, 0.0727150813344361, 0.013434920634920515, 0.027422848200312766, 0.09689546388493742, 0.0837673202614378, 0.013434920634920515, 0.06257777777777773, 0.006577777777777627, 0.002503703703703456, 0.013434920634920515, 0.06257777777777773, 0.09709905946118275, 0.03476825396825384, 0.06637575757575737, 0.06257777777777773, 0.06637575757575737, 0.09689546388493742, 0.013434920634920515, 0.007422848200312766, 0.06417777777777772, 0.10084952753339838, 0.06257777777777773, 0.04267205387205367, 0.06257777777777773, 0.04267205387205367, 0.04267205387205367, 0.0727150813344361, 0.006577777777777627]\n",
      "i 58\n",
      "k 0\n",
      "m [2 1 2 2 2 1 2 2 2 2 2 2 2 2 2 2 1 2 2 2 1 2 1 1 2 2 2 1 2 2 2]\n",
      "n [1 1 2 1 2 1 1 1 1 2 1 2 1 1 1 2 1 1 1 1 2 1 1 1 1 2 2 1 1 1 2 1 1 1 2 2 1\n",
      " 1 2 2 1 1 2 1]\n",
      "j 0.10084952753339838\n",
      "X_jini_list [0.07488547008546997, 0.06479999999999991, 0.08871435654721642, 0.10084952753339838, 0.05220226082161557, 0.08871435654721642, 0.09689546388493742, 0.07849267139479887, 0.06637575757575737, 0.006577777777777627, 0.09709905946118275, 0.06417777777777772, 0.050669488536154994, 0.07849267139479887, 0.07849267139479887, 0.06417777777777772, 0.10084952753339838, 0.10084952753339838, 0.05220226082161557, 0.07849267139479887, 0.04232657004830909, 0.08871435654721642, 0.09689546388493742, 0.04267205387205367, 0.07849267139479887, 0.09709905946118275, 0.020281481481481234, 0.09689546388493742, 0.020281481481481234, 0.07775943562610219, 0.07775943562610219, 0.0727150813344361, 0.013434920634920515, 0.027422848200312766, 0.09689546388493742, 0.0837673202614378, 0.013434920634920515, 0.06257777777777773, 0.006577777777777627, 0.002503703703703456, 0.013434920634920515, 0.06257777777777773, 0.09709905946118275, 0.03476825396825384, 0.06637575757575737, 0.06257777777777773, 0.06637575757575737, 0.09689546388493742, 0.013434920634920515, 0.007422848200312766, 0.06417777777777772, 0.10084952753339838, 0.06257777777777773, 0.04267205387205367, 0.06257777777777773, 0.04267205387205367, 0.04267205387205367, 0.0727150813344361, 0.006577777777777627, 0.10084952753339838]\n",
      "i 59\n",
      "k 0\n",
      "m [2 1 1 2 2 1 2 2 2 1 2 1 1 1 2 2 1 2 2 1 2 1 1 2 2 2 1 1 2 2 1 2 2 2 2 2 2\n",
      " 1 2 2 2 2 2 1 2 2 2 2 1 1 1 2 2 1 2 1 2 1 1 1 1 1]\n",
      "n [1 1 1 1 1 1 1 1 1 2 1 1 2]\n",
      "j 0.05220226082161557\n",
      "X_jini_list [0.07488547008546997, 0.06479999999999991, 0.08871435654721642, 0.10084952753339838, 0.05220226082161557, 0.08871435654721642, 0.09689546388493742, 0.07849267139479887, 0.06637575757575737, 0.006577777777777627, 0.09709905946118275, 0.06417777777777772, 0.050669488536154994, 0.07849267139479887, 0.07849267139479887, 0.06417777777777772, 0.10084952753339838, 0.10084952753339838, 0.05220226082161557, 0.07849267139479887, 0.04232657004830909, 0.08871435654721642, 0.09689546388493742, 0.04267205387205367, 0.07849267139479887, 0.09709905946118275, 0.020281481481481234, 0.09689546388493742, 0.020281481481481234, 0.07775943562610219, 0.07775943562610219, 0.0727150813344361, 0.013434920634920515, 0.027422848200312766, 0.09689546388493742, 0.0837673202614378, 0.013434920634920515, 0.06257777777777773, 0.006577777777777627, 0.002503703703703456, 0.013434920634920515, 0.06257777777777773, 0.09709905946118275, 0.03476825396825384, 0.06637575757575737, 0.06257777777777773, 0.06637575757575737, 0.09689546388493742, 0.013434920634920515, 0.007422848200312766, 0.06417777777777772, 0.10084952753339838, 0.06257777777777773, 0.04267205387205367, 0.06257777777777773, 0.04267205387205367, 0.04267205387205367, 0.0727150813344361, 0.006577777777777627, 0.10084952753339838, 0.05220226082161557]\n",
      "i 60\n",
      "k 0\n",
      "m [2 1 2 1 2 2 2 1 2 1 1 1 2 2 1 2 2 2 1 1 2 2 2 2 2 1 2 2 2 2 2 2 1 2 2 2 2\n",
      " 2 1 2 2 1 1 1 2 2 1 2 1 2 1 1 1 2]\n",
      "n [1 1 2 1 1 1 1 1 1 1 1 1 1 1 2 1 1 1 2 1 2]\n",
      "j 0.07775943562610219\n",
      "X_jini_list [0.07488547008546997, 0.06479999999999991, 0.08871435654721642, 0.10084952753339838, 0.05220226082161557, 0.08871435654721642, 0.09689546388493742, 0.07849267139479887, 0.06637575757575737, 0.006577777777777627, 0.09709905946118275, 0.06417777777777772, 0.050669488536154994, 0.07849267139479887, 0.07849267139479887, 0.06417777777777772, 0.10084952753339838, 0.10084952753339838, 0.05220226082161557, 0.07849267139479887, 0.04232657004830909, 0.08871435654721642, 0.09689546388493742, 0.04267205387205367, 0.07849267139479887, 0.09709905946118275, 0.020281481481481234, 0.09689546388493742, 0.020281481481481234, 0.07775943562610219, 0.07775943562610219, 0.0727150813344361, 0.013434920634920515, 0.027422848200312766, 0.09689546388493742, 0.0837673202614378, 0.013434920634920515, 0.06257777777777773, 0.006577777777777627, 0.002503703703703456, 0.013434920634920515, 0.06257777777777773, 0.09709905946118275, 0.03476825396825384, 0.06637575757575737, 0.06257777777777773, 0.06637575757575737, 0.09689546388493742, 0.013434920634920515, 0.007422848200312766, 0.06417777777777772, 0.10084952753339838, 0.06257777777777773, 0.04267205387205367, 0.06257777777777773, 0.04267205387205367, 0.04267205387205367, 0.0727150813344361, 0.006577777777777627, 0.10084952753339838, 0.05220226082161557, 0.07775943562610219]\n",
      "i 61\n",
      "k 0\n",
      "m [2 1 2 1 2 2 2 1 2 1 1 1 2 2 1 2 2 2 1 1 2 2 2 1 1 2 2 1 2 2 2 2 2 2 1 2 2\n",
      " 2 2 2 1 2 2 2 1 1 1 2 2 1 2 1 2 1 1 2 1 2]\n",
      "n [1 1 1 1 1 1 1 1 1 1 1 2 1 1 1 1 2]\n",
      "j 0.08871435654721642\n",
      "X_jini_list [0.07488547008546997, 0.06479999999999991, 0.08871435654721642, 0.10084952753339838, 0.05220226082161557, 0.08871435654721642, 0.09689546388493742, 0.07849267139479887, 0.06637575757575737, 0.006577777777777627, 0.09709905946118275, 0.06417777777777772, 0.050669488536154994, 0.07849267139479887, 0.07849267139479887, 0.06417777777777772, 0.10084952753339838, 0.10084952753339838, 0.05220226082161557, 0.07849267139479887, 0.04232657004830909, 0.08871435654721642, 0.09689546388493742, 0.04267205387205367, 0.07849267139479887, 0.09709905946118275, 0.020281481481481234, 0.09689546388493742, 0.020281481481481234, 0.07775943562610219, 0.07775943562610219, 0.0727150813344361, 0.013434920634920515, 0.027422848200312766, 0.09689546388493742, 0.0837673202614378, 0.013434920634920515, 0.06257777777777773, 0.006577777777777627, 0.002503703703703456, 0.013434920634920515, 0.06257777777777773, 0.09709905946118275, 0.03476825396825384, 0.06637575757575737, 0.06257777777777773, 0.06637575757575737, 0.09689546388493742, 0.013434920634920515, 0.007422848200312766, 0.06417777777777772, 0.10084952753339838, 0.06257777777777773, 0.04267205387205367, 0.06257777777777773, 0.04267205387205367, 0.04267205387205367, 0.0727150813344361, 0.006577777777777627, 0.10084952753339838, 0.05220226082161557, 0.07775943562610219, 0.08871435654721642]\n",
      "i 62\n",
      "k 0\n",
      "m [2 2 2 2 2 2 2 2 2 2 1]\n",
      "n [1 1 2 1 2 1 2 1 2 1 1 1 2 2 1 1 2 1 2 1 1 1 2 1 1 2 1 1 2 1 2 1 1 1 2 2 1\n",
      " 2 1 1 2 2 2 1 1 2 1 2 1 2 1 2 2 1 1 2 2 1 2 1 1 2 2 1]\n",
      "j 0.055668686868686645\n",
      "X_jini_list [0.07488547008546997, 0.06479999999999991, 0.08871435654721642, 0.10084952753339838, 0.05220226082161557, 0.08871435654721642, 0.09689546388493742, 0.07849267139479887, 0.06637575757575737, 0.006577777777777627, 0.09709905946118275, 0.06417777777777772, 0.050669488536154994, 0.07849267139479887, 0.07849267139479887, 0.06417777777777772, 0.10084952753339838, 0.10084952753339838, 0.05220226082161557, 0.07849267139479887, 0.04232657004830909, 0.08871435654721642, 0.09689546388493742, 0.04267205387205367, 0.07849267139479887, 0.09709905946118275, 0.020281481481481234, 0.09689546388493742, 0.020281481481481234, 0.07775943562610219, 0.07775943562610219, 0.0727150813344361, 0.013434920634920515, 0.027422848200312766, 0.09689546388493742, 0.0837673202614378, 0.013434920634920515, 0.06257777777777773, 0.006577777777777627, 0.002503703703703456, 0.013434920634920515, 0.06257777777777773, 0.09709905946118275, 0.03476825396825384, 0.06637575757575737, 0.06257777777777773, 0.06637575757575737, 0.09689546388493742, 0.013434920634920515, 0.007422848200312766, 0.06417777777777772, 0.10084952753339838, 0.06257777777777773, 0.04267205387205367, 0.06257777777777773, 0.04267205387205367, 0.04267205387205367, 0.0727150813344361, 0.006577777777777627, 0.10084952753339838, 0.05220226082161557, 0.07775943562610219, 0.08871435654721642, 0.055668686868686645]\n",
      "i 63\n",
      "k 0\n",
      "m [2 1 2 1 2 2 2 1 2 1 1 1 2 2 1 2 2 2 1 1 2 2 2 2 2 1 2 2 2 2 2 1 2 2 2 2 2\n",
      " 1 2 2 1 1 2 1 2 2 1 2 1 2 1]\n",
      "n [1 1 2 1 1 1 1 1 1 1 1 1 1 1 1 1 2 1 1 1 2 2 1 2]\n",
      "j 0.0837673202614378\n",
      "X_jini_list [0.07488547008546997, 0.06479999999999991, 0.08871435654721642, 0.10084952753339838, 0.05220226082161557, 0.08871435654721642, 0.09689546388493742, 0.07849267139479887, 0.06637575757575737, 0.006577777777777627, 0.09709905946118275, 0.06417777777777772, 0.050669488536154994, 0.07849267139479887, 0.07849267139479887, 0.06417777777777772, 0.10084952753339838, 0.10084952753339838, 0.05220226082161557, 0.07849267139479887, 0.04232657004830909, 0.08871435654721642, 0.09689546388493742, 0.04267205387205367, 0.07849267139479887, 0.09709905946118275, 0.020281481481481234, 0.09689546388493742, 0.020281481481481234, 0.07775943562610219, 0.07775943562610219, 0.0727150813344361, 0.013434920634920515, 0.027422848200312766, 0.09689546388493742, 0.0837673202614378, 0.013434920634920515, 0.06257777777777773, 0.006577777777777627, 0.002503703703703456, 0.013434920634920515, 0.06257777777777773, 0.09709905946118275, 0.03476825396825384, 0.06637575757575737, 0.06257777777777773, 0.06637575757575737, 0.09689546388493742, 0.013434920634920515, 0.007422848200312766, 0.06417777777777772, 0.10084952753339838, 0.06257777777777773, 0.04267205387205367, 0.06257777777777773, 0.04267205387205367, 0.04267205387205367, 0.0727150813344361, 0.006577777777777627, 0.10084952753339838, 0.05220226082161557, 0.07775943562610219, 0.08871435654721642, 0.055668686868686645, 0.0837673202614378]\n",
      "i 64\n",
      "k 0\n",
      "m [2 1 2 1 2 2 1 2 1 2 2 1 2 2 1 2 2 2 2 2 1 2 2 2 2 2 1 2 2 2 2 2 1 2 2 1 2\n",
      " 1 2 2 1 2 1 1 2 1 1]\n",
      "n [1 1 2 1 1 1 1 1 1 2 1 1 1 1 1 1 1 2 1 1 1 2 2 1 2 1 1 2]\n",
      "j 0.07849267139479887\n",
      "X_jini_list [0.07488547008546997, 0.06479999999999991, 0.08871435654721642, 0.10084952753339838, 0.05220226082161557, 0.08871435654721642, 0.09689546388493742, 0.07849267139479887, 0.06637575757575737, 0.006577777777777627, 0.09709905946118275, 0.06417777777777772, 0.050669488536154994, 0.07849267139479887, 0.07849267139479887, 0.06417777777777772, 0.10084952753339838, 0.10084952753339838, 0.05220226082161557, 0.07849267139479887, 0.04232657004830909, 0.08871435654721642, 0.09689546388493742, 0.04267205387205367, 0.07849267139479887, 0.09709905946118275, 0.020281481481481234, 0.09689546388493742, 0.020281481481481234, 0.07775943562610219, 0.07775943562610219, 0.0727150813344361, 0.013434920634920515, 0.027422848200312766, 0.09689546388493742, 0.0837673202614378, 0.013434920634920515, 0.06257777777777773, 0.006577777777777627, 0.002503703703703456, 0.013434920634920515, 0.06257777777777773, 0.09709905946118275, 0.03476825396825384, 0.06637575757575737, 0.06257777777777773, 0.06637575757575737, 0.09689546388493742, 0.013434920634920515, 0.007422848200312766, 0.06417777777777772, 0.10084952753339838, 0.06257777777777773, 0.04267205387205367, 0.06257777777777773, 0.04267205387205367, 0.04267205387205367, 0.0727150813344361, 0.006577777777777627, 0.10084952753339838, 0.05220226082161557, 0.07775943562610219, 0.08871435654721642, 0.055668686868686645, 0.0837673202614378, 0.07849267139479887]\n",
      "i 65\n",
      "k 0\n",
      "m [2 1 2 1 2 2 2 1 2 2 1 2 2 2 2 2 2 2 1 2 2 2 2 1 2 2 2 2 2 1 2 2 1 1 2 2 1\n",
      " 1 1 2 2]\n",
      "n [1 1 2 2 1 1 1 2 1 1 1 1 1 1 2 1 1 1 1 1 1 1 2 1 1 1 2 2 1 1 2 1 1 2]\n",
      "j 0.09709905946118275\n",
      "X_jini_list [0.07488547008546997, 0.06479999999999991, 0.08871435654721642, 0.10084952753339838, 0.05220226082161557, 0.08871435654721642, 0.09689546388493742, 0.07849267139479887, 0.06637575757575737, 0.006577777777777627, 0.09709905946118275, 0.06417777777777772, 0.050669488536154994, 0.07849267139479887, 0.07849267139479887, 0.06417777777777772, 0.10084952753339838, 0.10084952753339838, 0.05220226082161557, 0.07849267139479887, 0.04232657004830909, 0.08871435654721642, 0.09689546388493742, 0.04267205387205367, 0.07849267139479887, 0.09709905946118275, 0.020281481481481234, 0.09689546388493742, 0.020281481481481234, 0.07775943562610219, 0.07775943562610219, 0.0727150813344361, 0.013434920634920515, 0.027422848200312766, 0.09689546388493742, 0.0837673202614378, 0.013434920634920515, 0.06257777777777773, 0.006577777777777627, 0.002503703703703456, 0.013434920634920515, 0.06257777777777773, 0.09709905946118275, 0.03476825396825384, 0.06637575757575737, 0.06257777777777773, 0.06637575757575737, 0.09689546388493742, 0.013434920634920515, 0.007422848200312766, 0.06417777777777772, 0.10084952753339838, 0.06257777777777773, 0.04267205387205367, 0.06257777777777773, 0.04267205387205367, 0.04267205387205367, 0.0727150813344361, 0.006577777777777627, 0.10084952753339838, 0.05220226082161557, 0.07775943562610219, 0.08871435654721642, 0.055668686868686645, 0.0837673202614378, 0.07849267139479887, 0.09709905946118275]\n",
      "i 66\n",
      "k 0\n",
      "m [2 1 2 1 2 2 2 1 2 1 1 1 2 2 1 2 2 2 1 1 2 2 2 2 2 1 2 2 2 2 2 1 2 2 2 2 2\n",
      " 1 2 2 1 1 2 1 2 2 1 2 1 2 1]\n",
      "n [1 1 2 1 1 1 1 1 1 1 1 1 1 1 1 1 2 1 1 1 2 2 1 2]\n",
      "j 0.0837673202614378\n",
      "X_jini_list [0.07488547008546997, 0.06479999999999991, 0.08871435654721642, 0.10084952753339838, 0.05220226082161557, 0.08871435654721642, 0.09689546388493742, 0.07849267139479887, 0.06637575757575737, 0.006577777777777627, 0.09709905946118275, 0.06417777777777772, 0.050669488536154994, 0.07849267139479887, 0.07849267139479887, 0.06417777777777772, 0.10084952753339838, 0.10084952753339838, 0.05220226082161557, 0.07849267139479887, 0.04232657004830909, 0.08871435654721642, 0.09689546388493742, 0.04267205387205367, 0.07849267139479887, 0.09709905946118275, 0.020281481481481234, 0.09689546388493742, 0.020281481481481234, 0.07775943562610219, 0.07775943562610219, 0.0727150813344361, 0.013434920634920515, 0.027422848200312766, 0.09689546388493742, 0.0837673202614378, 0.013434920634920515, 0.06257777777777773, 0.006577777777777627, 0.002503703703703456, 0.013434920634920515, 0.06257777777777773, 0.09709905946118275, 0.03476825396825384, 0.06637575757575737, 0.06257777777777773, 0.06637575757575737, 0.09689546388493742, 0.013434920634920515, 0.007422848200312766, 0.06417777777777772, 0.10084952753339838, 0.06257777777777773, 0.04267205387205367, 0.06257777777777773, 0.04267205387205367, 0.04267205387205367, 0.0727150813344361, 0.006577777777777627, 0.10084952753339838, 0.05220226082161557, 0.07775943562610219, 0.08871435654721642, 0.055668686868686645, 0.0837673202614378, 0.07849267139479887, 0.09709905946118275, 0.0837673202614378]\n",
      "i 67\n",
      "k 0\n",
      "m [2 1 2 2 1 2 2 2 2 2 2 2 2 2 1 2 2 1 2 1 2 2 2 2 1]\n",
      "n [1 2 1 2 1 2 1 1 1 2 1 1 2 1 2 1 1 1 2 1 1 1 1 2 1 1 1 1 2 2 1 1 2 1 2 1 1\n",
      " 2 1 2 2 1 1 2 2 1 1 2 2 1]\n",
      "j 0.06417777777777772\n",
      "X_jini_list [0.07488547008546997, 0.06479999999999991, 0.08871435654721642, 0.10084952753339838, 0.05220226082161557, 0.08871435654721642, 0.09689546388493742, 0.07849267139479887, 0.06637575757575737, 0.006577777777777627, 0.09709905946118275, 0.06417777777777772, 0.050669488536154994, 0.07849267139479887, 0.07849267139479887, 0.06417777777777772, 0.10084952753339838, 0.10084952753339838, 0.05220226082161557, 0.07849267139479887, 0.04232657004830909, 0.08871435654721642, 0.09689546388493742, 0.04267205387205367, 0.07849267139479887, 0.09709905946118275, 0.020281481481481234, 0.09689546388493742, 0.020281481481481234, 0.07775943562610219, 0.07775943562610219, 0.0727150813344361, 0.013434920634920515, 0.027422848200312766, 0.09689546388493742, 0.0837673202614378, 0.013434920634920515, 0.06257777777777773, 0.006577777777777627, 0.002503703703703456, 0.013434920634920515, 0.06257777777777773, 0.09709905946118275, 0.03476825396825384, 0.06637575757575737, 0.06257777777777773, 0.06637575757575737, 0.09689546388493742, 0.013434920634920515, 0.007422848200312766, 0.06417777777777772, 0.10084952753339838, 0.06257777777777773, 0.04267205387205367, 0.06257777777777773, 0.04267205387205367, 0.04267205387205367, 0.0727150813344361, 0.006577777777777627, 0.10084952753339838, 0.05220226082161557, 0.07775943562610219, 0.08871435654721642, 0.055668686868686645, 0.0837673202614378, 0.07849267139479887, 0.09709905946118275, 0.0837673202614378, 0.06417777777777772]\n",
      "i 68\n",
      "k 0\n",
      "m [2 2 2 2 2 2 2 2 2 2 2 2 1 1 2]\n",
      "n [1 2 1 2 1 2 1 2 1 1 1 2 2 1 1 2 1 2 1 1 1 2 1 1 1 1 2 1 2 1 1 1 2 2 1 2 1\n",
      " 1 2 2 2 1 1 2 1 1 2 1 2 2 1 1 2 2 1 1 1 2 2 1]\n",
      "j 0.06479999999999991\n",
      "X_jini_list [0.07488547008546997, 0.06479999999999991, 0.08871435654721642, 0.10084952753339838, 0.05220226082161557, 0.08871435654721642, 0.09689546388493742, 0.07849267139479887, 0.06637575757575737, 0.006577777777777627, 0.09709905946118275, 0.06417777777777772, 0.050669488536154994, 0.07849267139479887, 0.07849267139479887, 0.06417777777777772, 0.10084952753339838, 0.10084952753339838, 0.05220226082161557, 0.07849267139479887, 0.04232657004830909, 0.08871435654721642, 0.09689546388493742, 0.04267205387205367, 0.07849267139479887, 0.09709905946118275, 0.020281481481481234, 0.09689546388493742, 0.020281481481481234, 0.07775943562610219, 0.07775943562610219, 0.0727150813344361, 0.013434920634920515, 0.027422848200312766, 0.09689546388493742, 0.0837673202614378, 0.013434920634920515, 0.06257777777777773, 0.006577777777777627, 0.002503703703703456, 0.013434920634920515, 0.06257777777777773, 0.09709905946118275, 0.03476825396825384, 0.06637575757575737, 0.06257777777777773, 0.06637575757575737, 0.09689546388493742, 0.013434920634920515, 0.007422848200312766, 0.06417777777777772, 0.10084952753339838, 0.06257777777777773, 0.04267205387205367, 0.06257777777777773, 0.04267205387205367, 0.04267205387205367, 0.0727150813344361, 0.006577777777777627, 0.10084952753339838, 0.05220226082161557, 0.07775943562610219, 0.08871435654721642, 0.055668686868686645, 0.0837673202614378, 0.07849267139479887, 0.09709905946118275, 0.0837673202614378, 0.06417777777777772, 0.06479999999999991]\n",
      "i 69\n",
      "k 0\n",
      "m [2 1 2 1 2 2 2 1 2 1 1 1 2 2 1 2 2 2 1 1 2 2 2 2 2 1 2 2 2 2 2 1 2 2 2 2 2\n",
      " 1 2 2 1 1 2 1 2 2 1 2 1 2 1]\n",
      "n [1 1 2 1 1 1 1 1 1 1 1 1 1 1 1 1 2 1 1 1 2 2 1 2]\n",
      "j 0.0837673202614378\n",
      "X_jini_list [0.07488547008546997, 0.06479999999999991, 0.08871435654721642, 0.10084952753339838, 0.05220226082161557, 0.08871435654721642, 0.09689546388493742, 0.07849267139479887, 0.06637575757575737, 0.006577777777777627, 0.09709905946118275, 0.06417777777777772, 0.050669488536154994, 0.07849267139479887, 0.07849267139479887, 0.06417777777777772, 0.10084952753339838, 0.10084952753339838, 0.05220226082161557, 0.07849267139479887, 0.04232657004830909, 0.08871435654721642, 0.09689546388493742, 0.04267205387205367, 0.07849267139479887, 0.09709905946118275, 0.020281481481481234, 0.09689546388493742, 0.020281481481481234, 0.07775943562610219, 0.07775943562610219, 0.0727150813344361, 0.013434920634920515, 0.027422848200312766, 0.09689546388493742, 0.0837673202614378, 0.013434920634920515, 0.06257777777777773, 0.006577777777777627, 0.002503703703703456, 0.013434920634920515, 0.06257777777777773, 0.09709905946118275, 0.03476825396825384, 0.06637575757575737, 0.06257777777777773, 0.06637575757575737, 0.09689546388493742, 0.013434920634920515, 0.007422848200312766, 0.06417777777777772, 0.10084952753339838, 0.06257777777777773, 0.04267205387205367, 0.06257777777777773, 0.04267205387205367, 0.04267205387205367, 0.0727150813344361, 0.006577777777777627, 0.10084952753339838, 0.05220226082161557, 0.07775943562610219, 0.08871435654721642, 0.055668686868686645, 0.0837673202614378, 0.07849267139479887, 0.09709905946118275, 0.0837673202614378, 0.06417777777777772, 0.06479999999999991, 0.0837673202614378]\n",
      "i 70\n",
      "k 0\n",
      "m [2 1 1 2 2 1 2 2 2 1 2 1 1 1 2 2 1 2 2 1 2 1 1 2 2 2 1 1 2 2 1 2 2 2 2 2 2\n",
      " 1 2 2 2 2 2 1 2 2 2 2 1 1 1 2 2 1 2 1 2 1 1 1 1 1]\n",
      "n [1 1 1 1 1 1 1 1 1 2 1 1 2]\n",
      "j 0.05220226082161557\n",
      "X_jini_list [0.07488547008546997, 0.06479999999999991, 0.08871435654721642, 0.10084952753339838, 0.05220226082161557, 0.08871435654721642, 0.09689546388493742, 0.07849267139479887, 0.06637575757575737, 0.006577777777777627, 0.09709905946118275, 0.06417777777777772, 0.050669488536154994, 0.07849267139479887, 0.07849267139479887, 0.06417777777777772, 0.10084952753339838, 0.10084952753339838, 0.05220226082161557, 0.07849267139479887, 0.04232657004830909, 0.08871435654721642, 0.09689546388493742, 0.04267205387205367, 0.07849267139479887, 0.09709905946118275, 0.020281481481481234, 0.09689546388493742, 0.020281481481481234, 0.07775943562610219, 0.07775943562610219, 0.0727150813344361, 0.013434920634920515, 0.027422848200312766, 0.09689546388493742, 0.0837673202614378, 0.013434920634920515, 0.06257777777777773, 0.006577777777777627, 0.002503703703703456, 0.013434920634920515, 0.06257777777777773, 0.09709905946118275, 0.03476825396825384, 0.06637575757575737, 0.06257777777777773, 0.06637575757575737, 0.09689546388493742, 0.013434920634920515, 0.007422848200312766, 0.06417777777777772, 0.10084952753339838, 0.06257777777777773, 0.04267205387205367, 0.06257777777777773, 0.04267205387205367, 0.04267205387205367, 0.0727150813344361, 0.006577777777777627, 0.10084952753339838, 0.05220226082161557, 0.07775943562610219, 0.08871435654721642, 0.055668686868686645, 0.0837673202614378, 0.07849267139479887, 0.09709905946118275, 0.0837673202614378, 0.06417777777777772, 0.06479999999999991, 0.0837673202614378, 0.05220226082161557]\n",
      "i 71\n",
      "k 0\n",
      "m [2 1 2 2 2 1 2 2 2 2 2 2 2 2 2 2 1 2 2 2 1 2 1 1 2 2 2 1 2 2 2]\n",
      "n [1 1 2 1 2 1 1 1 1 2 1 2 1 1 1 2 1 1 1 1 2 1 1 1 1 2 2 1 1 1 2 1 1 1 2 2 1\n",
      " 1 2 2 1 1 2 1]\n",
      "j 0.10084952753339838\n",
      "X_jini_list [0.07488547008546997, 0.06479999999999991, 0.08871435654721642, 0.10084952753339838, 0.05220226082161557, 0.08871435654721642, 0.09689546388493742, 0.07849267139479887, 0.06637575757575737, 0.006577777777777627, 0.09709905946118275, 0.06417777777777772, 0.050669488536154994, 0.07849267139479887, 0.07849267139479887, 0.06417777777777772, 0.10084952753339838, 0.10084952753339838, 0.05220226082161557, 0.07849267139479887, 0.04232657004830909, 0.08871435654721642, 0.09689546388493742, 0.04267205387205367, 0.07849267139479887, 0.09709905946118275, 0.020281481481481234, 0.09689546388493742, 0.020281481481481234, 0.07775943562610219, 0.07775943562610219, 0.0727150813344361, 0.013434920634920515, 0.027422848200312766, 0.09689546388493742, 0.0837673202614378, 0.013434920634920515, 0.06257777777777773, 0.006577777777777627, 0.002503703703703456, 0.013434920634920515, 0.06257777777777773, 0.09709905946118275, 0.03476825396825384, 0.06637575757575737, 0.06257777777777773, 0.06637575757575737, 0.09689546388493742, 0.013434920634920515, 0.007422848200312766, 0.06417777777777772, 0.10084952753339838, 0.06257777777777773, 0.04267205387205367, 0.06257777777777773, 0.04267205387205367, 0.04267205387205367, 0.0727150813344361, 0.006577777777777627, 0.10084952753339838, 0.05220226082161557, 0.07775943562610219, 0.08871435654721642, 0.055668686868686645, 0.0837673202614378, 0.07849267139479887, 0.09709905946118275, 0.0837673202614378, 0.06417777777777772, 0.06479999999999991, 0.0837673202614378, 0.05220226082161557, 0.10084952753339838]\n",
      "i 72\n",
      "k 0\n",
      "m [2 1 1 2 1 2 1 2 2 2 1 2 1 1 1 2 2 1 1 2 2 1 2 1 1 1 2 2 2 1 1 2 1 2 1 2 1\n",
      " 2 1 1 1 2 2 2 2 1 2 2 1 1 2 2 2 1 1 2 1 2 1 2 1 2 2 1 1 1 2 2 1 2 1 1 2 1\n",
      " 2]\n",
      "n []\n",
      "j 0.0\n",
      "X_jini_list [0.07488547008546997, 0.06479999999999991, 0.08871435654721642, 0.10084952753339838, 0.05220226082161557, 0.08871435654721642, 0.09689546388493742, 0.07849267139479887, 0.06637575757575737, 0.006577777777777627, 0.09709905946118275, 0.06417777777777772, 0.050669488536154994, 0.07849267139479887, 0.07849267139479887, 0.06417777777777772, 0.10084952753339838, 0.10084952753339838, 0.05220226082161557, 0.07849267139479887, 0.04232657004830909, 0.08871435654721642, 0.09689546388493742, 0.04267205387205367, 0.07849267139479887, 0.09709905946118275, 0.020281481481481234, 0.09689546388493742, 0.020281481481481234, 0.07775943562610219, 0.07775943562610219, 0.0727150813344361, 0.013434920634920515, 0.027422848200312766, 0.09689546388493742, 0.0837673202614378, 0.013434920634920515, 0.06257777777777773, 0.006577777777777627, 0.002503703703703456, 0.013434920634920515, 0.06257777777777773, 0.09709905946118275, 0.03476825396825384, 0.06637575757575737, 0.06257777777777773, 0.06637575757575737, 0.09689546388493742, 0.013434920634920515, 0.007422848200312766, 0.06417777777777772, 0.10084952753339838, 0.06257777777777773, 0.04267205387205367, 0.06257777777777773, 0.04267205387205367, 0.04267205387205367, 0.0727150813344361, 0.006577777777777627, 0.10084952753339838, 0.05220226082161557, 0.07775943562610219, 0.08871435654721642, 0.055668686868686645, 0.0837673202614378, 0.07849267139479887, 0.09709905946118275, 0.0837673202614378, 0.06417777777777772, 0.06479999999999991, 0.0837673202614378, 0.05220226082161557, 0.10084952753339838, 0.0]\n",
      "i 73\n",
      "k 0\n",
      "m [2 1 2 2 2 2 1 2 2 1 2 2 2 2 2 2 2 2 2 1 2 2 2 2 1 2 2 1 1 2 2 1 2 2 1 2 1]\n",
      "n [1 1 2 2 1 1 1 1 2 1 1 1 1 1 1 1 2 1 1 1 1 2 1 1 1 2 1 1 1 2 2 1 1 2 2 1 1\n",
      " 2]\n",
      "j 0.09689546388493742\n",
      "X_jini_list [0.07488547008546997, 0.06479999999999991, 0.08871435654721642, 0.10084952753339838, 0.05220226082161557, 0.08871435654721642, 0.09689546388493742, 0.07849267139479887, 0.06637575757575737, 0.006577777777777627, 0.09709905946118275, 0.06417777777777772, 0.050669488536154994, 0.07849267139479887, 0.07849267139479887, 0.06417777777777772, 0.10084952753339838, 0.10084952753339838, 0.05220226082161557, 0.07849267139479887, 0.04232657004830909, 0.08871435654721642, 0.09689546388493742, 0.04267205387205367, 0.07849267139479887, 0.09709905946118275, 0.020281481481481234, 0.09689546388493742, 0.020281481481481234, 0.07775943562610219, 0.07775943562610219, 0.0727150813344361, 0.013434920634920515, 0.027422848200312766, 0.09689546388493742, 0.0837673202614378, 0.013434920634920515, 0.06257777777777773, 0.006577777777777627, 0.002503703703703456, 0.013434920634920515, 0.06257777777777773, 0.09709905946118275, 0.03476825396825384, 0.06637575757575737, 0.06257777777777773, 0.06637575757575737, 0.09689546388493742, 0.013434920634920515, 0.007422848200312766, 0.06417777777777772, 0.10084952753339838, 0.06257777777777773, 0.04267205387205367, 0.06257777777777773, 0.04267205387205367, 0.04267205387205367, 0.0727150813344361, 0.006577777777777627, 0.10084952753339838, 0.05220226082161557, 0.07775943562610219, 0.08871435654721642, 0.055668686868686645, 0.0837673202614378, 0.07849267139479887, 0.09709905946118275, 0.0837673202614378, 0.06417777777777772, 0.06479999999999991, 0.0837673202614378, 0.05220226082161557, 0.10084952753339838, 0.0, 0.09689546388493742]\n",
      "i 74\n",
      "k 0\n",
      "m [2 2 2 2 2 2 2 2 2 2]\n",
      "n [1 1 2 1 2 1 2 1 2 1 1 1 2 2 1 1 2 1 2 1 1 1 1 1 2 1 1 2 1 2 1 1 1 2 2 1 2\n",
      " 2 1 1 2 2 2 1 1 2 1 2 1 2 1 2 2 1 1 1 2 2 1 2 1 1 2 2 1]\n",
      "j 0.07488547008546997\n",
      "X_jini_list [0.07488547008546997, 0.06479999999999991, 0.08871435654721642, 0.10084952753339838, 0.05220226082161557, 0.08871435654721642, 0.09689546388493742, 0.07849267139479887, 0.06637575757575737, 0.006577777777777627, 0.09709905946118275, 0.06417777777777772, 0.050669488536154994, 0.07849267139479887, 0.07849267139479887, 0.06417777777777772, 0.10084952753339838, 0.10084952753339838, 0.05220226082161557, 0.07849267139479887, 0.04232657004830909, 0.08871435654721642, 0.09689546388493742, 0.04267205387205367, 0.07849267139479887, 0.09709905946118275, 0.020281481481481234, 0.09689546388493742, 0.020281481481481234, 0.07775943562610219, 0.07775943562610219, 0.0727150813344361, 0.013434920634920515, 0.027422848200312766, 0.09689546388493742, 0.0837673202614378, 0.013434920634920515, 0.06257777777777773, 0.006577777777777627, 0.002503703703703456, 0.013434920634920515, 0.06257777777777773, 0.09709905946118275, 0.03476825396825384, 0.06637575757575737, 0.06257777777777773, 0.06637575757575737, 0.09689546388493742, 0.013434920634920515, 0.007422848200312766, 0.06417777777777772, 0.10084952753339838, 0.06257777777777773, 0.04267205387205367, 0.06257777777777773, 0.04267205387205367, 0.04267205387205367, 0.0727150813344361, 0.006577777777777627, 0.10084952753339838, 0.05220226082161557, 0.07775943562610219, 0.08871435654721642, 0.055668686868686645, 0.0837673202614378, 0.07849267139479887, 0.09709905946118275, 0.0837673202614378, 0.06417777777777772, 0.06479999999999991, 0.0837673202614378, 0.05220226082161557, 0.10084952753339838, 0.0, 0.09689546388493742, 0.07488547008546997]\n",
      "i 0\n",
      "k 1\n",
      "m [2 2 2 2 2 2 2 2 2 2 2 2 2 2 2 2 2 2 2 2 2 2 2 2 2 2 2 1 2 2 2 2 2 2 2 1 2\n",
      " 1 1 1 2 2]\n",
      "n [1 1 1 1 1 1 1 1 1 1 1 1 1 1 1 1 1 1 1 1 1 1 1 1 1 1 1 1 1 1 1 1 2]\n",
      "j 0.3565922077922077\n",
      "X_jini_list [0.07488547008546997, 0.06479999999999991, 0.08871435654721642, 0.10084952753339838, 0.05220226082161557, 0.08871435654721642, 0.09689546388493742, 0.07849267139479887, 0.06637575757575737, 0.006577777777777627, 0.09709905946118275, 0.06417777777777772, 0.050669488536154994, 0.07849267139479887, 0.07849267139479887, 0.06417777777777772, 0.10084952753339838, 0.10084952753339838, 0.05220226082161557, 0.07849267139479887, 0.04232657004830909, 0.08871435654721642, 0.09689546388493742, 0.04267205387205367, 0.07849267139479887, 0.09709905946118275, 0.020281481481481234, 0.09689546388493742, 0.020281481481481234, 0.07775943562610219, 0.07775943562610219, 0.0727150813344361, 0.013434920634920515, 0.027422848200312766, 0.09689546388493742, 0.0837673202614378, 0.013434920634920515, 0.06257777777777773, 0.006577777777777627, 0.002503703703703456, 0.013434920634920515, 0.06257777777777773, 0.09709905946118275, 0.03476825396825384, 0.06637575757575737, 0.06257777777777773, 0.06637575757575737, 0.09689546388493742, 0.013434920634920515, 0.007422848200312766, 0.06417777777777772, 0.10084952753339838, 0.06257777777777773, 0.04267205387205367, 0.06257777777777773, 0.04267205387205367, 0.04267205387205367, 0.0727150813344361, 0.006577777777777627, 0.10084952753339838, 0.05220226082161557, 0.07775943562610219, 0.08871435654721642, 0.055668686868686645, 0.0837673202614378, 0.07849267139479887, 0.09709905946118275, 0.0837673202614378, 0.06417777777777772, 0.06479999999999991, 0.0837673202614378, 0.05220226082161557, 0.10084952753339838, 0.0, 0.09689546388493742, 0.07488547008546997, 0.3565922077922077]\n",
      "i 1\n",
      "k 1\n",
      "m [2 1 2 1 2 1 2 2 2 1 2 1 1 1 2 2 1 2 2 1 2 1 1 1 2 2 2 1 1 2 1 2 1 2 1 2 2\n",
      " 2 2 2 1 2 2 1 1 2 2 2 1 1 2 1 2 2 1 2 2 1 1 1 2 2 1 2 1 1 2 2 1 1]\n",
      "n [1 1 1 1 1]\n",
      "j 0.03667301587301569\n",
      "X_jini_list [0.07488547008546997, 0.06479999999999991, 0.08871435654721642, 0.10084952753339838, 0.05220226082161557, 0.08871435654721642, 0.09689546388493742, 0.07849267139479887, 0.06637575757575737, 0.006577777777777627, 0.09709905946118275, 0.06417777777777772, 0.050669488536154994, 0.07849267139479887, 0.07849267139479887, 0.06417777777777772, 0.10084952753339838, 0.10084952753339838, 0.05220226082161557, 0.07849267139479887, 0.04232657004830909, 0.08871435654721642, 0.09689546388493742, 0.04267205387205367, 0.07849267139479887, 0.09709905946118275, 0.020281481481481234, 0.09689546388493742, 0.020281481481481234, 0.07775943562610219, 0.07775943562610219, 0.0727150813344361, 0.013434920634920515, 0.027422848200312766, 0.09689546388493742, 0.0837673202614378, 0.013434920634920515, 0.06257777777777773, 0.006577777777777627, 0.002503703703703456, 0.013434920634920515, 0.06257777777777773, 0.09709905946118275, 0.03476825396825384, 0.06637575757575737, 0.06257777777777773, 0.06637575757575737, 0.09689546388493742, 0.013434920634920515, 0.007422848200312766, 0.06417777777777772, 0.10084952753339838, 0.06257777777777773, 0.04267205387205367, 0.06257777777777773, 0.04267205387205367, 0.04267205387205367, 0.0727150813344361, 0.006577777777777627, 0.10084952753339838, 0.05220226082161557, 0.07775943562610219, 0.08871435654721642, 0.055668686868686645, 0.0837673202614378, 0.07849267139479887, 0.09709905946118275, 0.0837673202614378, 0.06417777777777772, 0.06479999999999991, 0.0837673202614378, 0.05220226082161557, 0.10084952753339838, 0.0, 0.09689546388493742, 0.07488547008546997, 0.3565922077922077, 0.03667301587301569]\n",
      "i 2\n",
      "k 1\n",
      "m [2 2 2 2 2 2 2 2 2 2 2 2 2 2 2 2 2 2 2 2 2 2 2 2 2 2]\n",
      "n [1 1 1 2 1 2 1 1 1 1 2 1 1 1 1 1 1 1 1 1 1 2 1 1 1 1 1 2 1 1 2 1 1 2 1 1 1\n",
      " 2 2 1 1 1 2 2 1 1 1 2 1]\n",
      "j 0.2582784580498865\n",
      "X_jini_list [0.07488547008546997, 0.06479999999999991, 0.08871435654721642, 0.10084952753339838, 0.05220226082161557, 0.08871435654721642, 0.09689546388493742, 0.07849267139479887, 0.06637575757575737, 0.006577777777777627, 0.09709905946118275, 0.06417777777777772, 0.050669488536154994, 0.07849267139479887, 0.07849267139479887, 0.06417777777777772, 0.10084952753339838, 0.10084952753339838, 0.05220226082161557, 0.07849267139479887, 0.04232657004830909, 0.08871435654721642, 0.09689546388493742, 0.04267205387205367, 0.07849267139479887, 0.09709905946118275, 0.020281481481481234, 0.09689546388493742, 0.020281481481481234, 0.07775943562610219, 0.07775943562610219, 0.0727150813344361, 0.013434920634920515, 0.027422848200312766, 0.09689546388493742, 0.0837673202614378, 0.013434920634920515, 0.06257777777777773, 0.006577777777777627, 0.002503703703703456, 0.013434920634920515, 0.06257777777777773, 0.09709905946118275, 0.03476825396825384, 0.06637575757575737, 0.06257777777777773, 0.06637575757575737, 0.09689546388493742, 0.013434920634920515, 0.007422848200312766, 0.06417777777777772, 0.10084952753339838, 0.06257777777777773, 0.04267205387205367, 0.06257777777777773, 0.04267205387205367, 0.04267205387205367, 0.0727150813344361, 0.006577777777777627, 0.10084952753339838, 0.05220226082161557, 0.07775943562610219, 0.08871435654721642, 0.055668686868686645, 0.0837673202614378, 0.07849267139479887, 0.09709905946118275, 0.0837673202614378, 0.06417777777777772, 0.06479999999999991, 0.0837673202614378, 0.05220226082161557, 0.10084952753339838, 0.0, 0.09689546388493742, 0.07488547008546997, 0.3565922077922077, 0.03667301587301569, 0.2582784580498865]\n",
      "i 3\n",
      "k 1\n",
      "m [2 1 2 2 1 2 2 2 2 1 1 1 2 2 2 2 2 2 2 2 1 2 2 2 2 2 2 2 2 1 2 2 2 2 2 1 2\n",
      " 2 2 2 2 1 1 2 2 1 2 1 2 1 1 1 1 1 1 2]\n",
      "n [1 1 1 1 1 1 1 1 1 1 1 1 1 1 1 1 1 1 1]\n",
      "j 0.1741968253968253\n",
      "X_jini_list [0.07488547008546997, 0.06479999999999991, 0.08871435654721642, 0.10084952753339838, 0.05220226082161557, 0.08871435654721642, 0.09689546388493742, 0.07849267139479887, 0.06637575757575737, 0.006577777777777627, 0.09709905946118275, 0.06417777777777772, 0.050669488536154994, 0.07849267139479887, 0.07849267139479887, 0.06417777777777772, 0.10084952753339838, 0.10084952753339838, 0.05220226082161557, 0.07849267139479887, 0.04232657004830909, 0.08871435654721642, 0.09689546388493742, 0.04267205387205367, 0.07849267139479887, 0.09709905946118275, 0.020281481481481234, 0.09689546388493742, 0.020281481481481234, 0.07775943562610219, 0.07775943562610219, 0.0727150813344361, 0.013434920634920515, 0.027422848200312766, 0.09689546388493742, 0.0837673202614378, 0.013434920634920515, 0.06257777777777773, 0.006577777777777627, 0.002503703703703456, 0.013434920634920515, 0.06257777777777773, 0.09709905946118275, 0.03476825396825384, 0.06637575757575737, 0.06257777777777773, 0.06637575757575737, 0.09689546388493742, 0.013434920634920515, 0.007422848200312766, 0.06417777777777772, 0.10084952753339838, 0.06257777777777773, 0.04267205387205367, 0.06257777777777773, 0.04267205387205367, 0.04267205387205367, 0.0727150813344361, 0.006577777777777627, 0.10084952753339838, 0.05220226082161557, 0.07775943562610219, 0.08871435654721642, 0.055668686868686645, 0.0837673202614378, 0.07849267139479887, 0.09709905946118275, 0.0837673202614378, 0.06417777777777772, 0.06479999999999991, 0.0837673202614378, 0.05220226082161557, 0.10084952753339838, 0.0, 0.09689546388493742, 0.07488547008546997, 0.3565922077922077, 0.03667301587301569, 0.2582784580498865, 0.1741968253968253]\n",
      "i 4\n",
      "k 1\n",
      "m [2 2 2 2 2 2 2 2 2 2 2 2 2 2 2 2 2 2 2 2 2 2 2 2 2 2 2 2 2 2 2 1]\n",
      "n [1 1 1 1 2 1 1 1 1 1 1 1 1 1 1 1 1 1 1 2 1 1 1 1 1 2 1 1 1 1 2 1 1 1 1 1 1\n",
      " 2 2 1 1 2 1]\n",
      "j 0.3177987080103358\n",
      "X_jini_list [0.07488547008546997, 0.06479999999999991, 0.08871435654721642, 0.10084952753339838, 0.05220226082161557, 0.08871435654721642, 0.09689546388493742, 0.07849267139479887, 0.06637575757575737, 0.006577777777777627, 0.09709905946118275, 0.06417777777777772, 0.050669488536154994, 0.07849267139479887, 0.07849267139479887, 0.06417777777777772, 0.10084952753339838, 0.10084952753339838, 0.05220226082161557, 0.07849267139479887, 0.04232657004830909, 0.08871435654721642, 0.09689546388493742, 0.04267205387205367, 0.07849267139479887, 0.09709905946118275, 0.020281481481481234, 0.09689546388493742, 0.020281481481481234, 0.07775943562610219, 0.07775943562610219, 0.0727150813344361, 0.013434920634920515, 0.027422848200312766, 0.09689546388493742, 0.0837673202614378, 0.013434920634920515, 0.06257777777777773, 0.006577777777777627, 0.002503703703703456, 0.013434920634920515, 0.06257777777777773, 0.09709905946118275, 0.03476825396825384, 0.06637575757575737, 0.06257777777777773, 0.06637575757575737, 0.09689546388493742, 0.013434920634920515, 0.007422848200312766, 0.06417777777777772, 0.10084952753339838, 0.06257777777777773, 0.04267205387205367, 0.06257777777777773, 0.04267205387205367, 0.04267205387205367, 0.0727150813344361, 0.006577777777777627, 0.10084952753339838, 0.05220226082161557, 0.07775943562610219, 0.08871435654721642, 0.055668686868686645, 0.0837673202614378, 0.07849267139479887, 0.09709905946118275, 0.0837673202614378, 0.06417777777777772, 0.06479999999999991, 0.0837673202614378, 0.05220226082161557, 0.10084952753339838, 0.0, 0.09689546388493742, 0.07488547008546997, 0.3565922077922077, 0.03667301587301569, 0.2582784580498865, 0.1741968253968253, 0.3177987080103358]\n",
      "i 5\n",
      "k 1\n",
      "m [2 1 2 2 2 2 2 2 2 2 2 2 2 2 2 2 1 2 2 2 2 2 2 2 2 2 2 2 2 2 1 2 2 2 2 2 2\n",
      " 2 2 1 2 1 1 1 1 1 1]\n",
      "n [1 1 1 1 1 1 1 1 1 1 1 1 1 1 1 1 1 1 1 1 1 1 1 1 1 1 1 2]\n",
      "j 0.2642677473826409\n",
      "X_jini_list [0.07488547008546997, 0.06479999999999991, 0.08871435654721642, 0.10084952753339838, 0.05220226082161557, 0.08871435654721642, 0.09689546388493742, 0.07849267139479887, 0.06637575757575737, 0.006577777777777627, 0.09709905946118275, 0.06417777777777772, 0.050669488536154994, 0.07849267139479887, 0.07849267139479887, 0.06417777777777772, 0.10084952753339838, 0.10084952753339838, 0.05220226082161557, 0.07849267139479887, 0.04232657004830909, 0.08871435654721642, 0.09689546388493742, 0.04267205387205367, 0.07849267139479887, 0.09709905946118275, 0.020281481481481234, 0.09689546388493742, 0.020281481481481234, 0.07775943562610219, 0.07775943562610219, 0.0727150813344361, 0.013434920634920515, 0.027422848200312766, 0.09689546388493742, 0.0837673202614378, 0.013434920634920515, 0.06257777777777773, 0.006577777777777627, 0.002503703703703456, 0.013434920634920515, 0.06257777777777773, 0.09709905946118275, 0.03476825396825384, 0.06637575757575737, 0.06257777777777773, 0.06637575757575737, 0.09689546388493742, 0.013434920634920515, 0.007422848200312766, 0.06417777777777772, 0.10084952753339838, 0.06257777777777773, 0.04267205387205367, 0.06257777777777773, 0.04267205387205367, 0.04267205387205367, 0.0727150813344361, 0.006577777777777627, 0.10084952753339838, 0.05220226082161557, 0.07775943562610219, 0.08871435654721642, 0.055668686868686645, 0.0837673202614378, 0.07849267139479887, 0.09709905946118275, 0.0837673202614378, 0.06417777777777772, 0.06479999999999991, 0.0837673202614378, 0.05220226082161557, 0.10084952753339838, 0.0, 0.09689546388493742, 0.07488547008546997, 0.3565922077922077, 0.03667301587301569, 0.2582784580498865, 0.1741968253968253, 0.3177987080103358, 0.2642677473826409]\n",
      "i 6\n",
      "k 1\n",
      "m [2 2 2 2 2 2 2 2 2 2 2 2 2 2 2 2 2 2 2 2 2 2 2 2 2 1 2 2 2 2 2 2 1 2 2 2 2\n",
      " 1]\n",
      "n [1 1 1 1 1 1 1 1 1 1 1 1 1 1 1 1 1 1 2 1 1 1 1 1 1 1 1 1 1 1 1 1 1 2 1 1 2]\n",
      "j 0.3527133870712817\n",
      "X_jini_list [0.07488547008546997, 0.06479999999999991, 0.08871435654721642, 0.10084952753339838, 0.05220226082161557, 0.08871435654721642, 0.09689546388493742, 0.07849267139479887, 0.06637575757575737, 0.006577777777777627, 0.09709905946118275, 0.06417777777777772, 0.050669488536154994, 0.07849267139479887, 0.07849267139479887, 0.06417777777777772, 0.10084952753339838, 0.10084952753339838, 0.05220226082161557, 0.07849267139479887, 0.04232657004830909, 0.08871435654721642, 0.09689546388493742, 0.04267205387205367, 0.07849267139479887, 0.09709905946118275, 0.020281481481481234, 0.09689546388493742, 0.020281481481481234, 0.07775943562610219, 0.07775943562610219, 0.0727150813344361, 0.013434920634920515, 0.027422848200312766, 0.09689546388493742, 0.0837673202614378, 0.013434920634920515, 0.06257777777777773, 0.006577777777777627, 0.002503703703703456, 0.013434920634920515, 0.06257777777777773, 0.09709905946118275, 0.03476825396825384, 0.06637575757575737, 0.06257777777777773, 0.06637575757575737, 0.09689546388493742, 0.013434920634920515, 0.007422848200312766, 0.06417777777777772, 0.10084952753339838, 0.06257777777777773, 0.04267205387205367, 0.06257777777777773, 0.04267205387205367, 0.04267205387205367, 0.0727150813344361, 0.006577777777777627, 0.10084952753339838, 0.05220226082161557, 0.07775943562610219, 0.08871435654721642, 0.055668686868686645, 0.0837673202614378, 0.07849267139479887, 0.09709905946118275, 0.0837673202614378, 0.06417777777777772, 0.06479999999999991, 0.0837673202614378, 0.05220226082161557, 0.10084952753339838, 0.0, 0.09689546388493742, 0.07488547008546997, 0.3565922077922077, 0.03667301587301569, 0.2582784580498865, 0.1741968253968253, 0.3177987080103358, 0.2642677473826409, 0.3527133870712817]\n",
      "i 7\n",
      "k 1\n",
      "m [2 2 2 2 2 2 2 2 2]\n",
      "n [2 1 1 2 1 2 1 2 1 2 1 1 1 2 2 1 1 2 1 2 1 1 1 1 1 2 1 1 2 1 2 1 1 1 2 2 1\n",
      " 2 2 1 1 2 2 2 1 1 2 1 2 1 2 1 2 2 1 1 1 2 2 1 2 1 1 2 2 1]\n",
      "j 0.06637575757575737\n",
      "X_jini_list [0.07488547008546997, 0.06479999999999991, 0.08871435654721642, 0.10084952753339838, 0.05220226082161557, 0.08871435654721642, 0.09689546388493742, 0.07849267139479887, 0.06637575757575737, 0.006577777777777627, 0.09709905946118275, 0.06417777777777772, 0.050669488536154994, 0.07849267139479887, 0.07849267139479887, 0.06417777777777772, 0.10084952753339838, 0.10084952753339838, 0.05220226082161557, 0.07849267139479887, 0.04232657004830909, 0.08871435654721642, 0.09689546388493742, 0.04267205387205367, 0.07849267139479887, 0.09709905946118275, 0.020281481481481234, 0.09689546388493742, 0.020281481481481234, 0.07775943562610219, 0.07775943562610219, 0.0727150813344361, 0.013434920634920515, 0.027422848200312766, 0.09689546388493742, 0.0837673202614378, 0.013434920634920515, 0.06257777777777773, 0.006577777777777627, 0.002503703703703456, 0.013434920634920515, 0.06257777777777773, 0.09709905946118275, 0.03476825396825384, 0.06637575757575737, 0.06257777777777773, 0.06637575757575737, 0.09689546388493742, 0.013434920634920515, 0.007422848200312766, 0.06417777777777772, 0.10084952753339838, 0.06257777777777773, 0.04267205387205367, 0.06257777777777773, 0.04267205387205367, 0.04267205387205367, 0.0727150813344361, 0.006577777777777627, 0.10084952753339838, 0.05220226082161557, 0.07775943562610219, 0.08871435654721642, 0.055668686868686645, 0.0837673202614378, 0.07849267139479887, 0.09709905946118275, 0.0837673202614378, 0.06417777777777772, 0.06479999999999991, 0.0837673202614378, 0.05220226082161557, 0.10084952753339838, 0.0, 0.09689546388493742, 0.07488547008546997, 0.3565922077922077, 0.03667301587301569, 0.2582784580498865, 0.1741968253968253, 0.3177987080103358, 0.2642677473826409, 0.3527133870712817, 0.06637575757575737]\n",
      "i 8\n",
      "k 1\n",
      "m [2 2 2 2]\n",
      "n [2 1 1 2 1 2 1 2 2 1 2 1 1 1 2 2 1 1 2 2 1 2 1 1 1 2 1 1 2 1 1 2 1 2 1 1 1\n",
      " 2 2 2 2 1 2 2 1 1 2 2 2 1 1 2 1 2 1 2 1 2 2 1 1 1 2 2 1 2 1 1 2 2 1]\n",
      "j 0.027422848200312766\n",
      "X_jini_list [0.07488547008546997, 0.06479999999999991, 0.08871435654721642, 0.10084952753339838, 0.05220226082161557, 0.08871435654721642, 0.09689546388493742, 0.07849267139479887, 0.06637575757575737, 0.006577777777777627, 0.09709905946118275, 0.06417777777777772, 0.050669488536154994, 0.07849267139479887, 0.07849267139479887, 0.06417777777777772, 0.10084952753339838, 0.10084952753339838, 0.05220226082161557, 0.07849267139479887, 0.04232657004830909, 0.08871435654721642, 0.09689546388493742, 0.04267205387205367, 0.07849267139479887, 0.09709905946118275, 0.020281481481481234, 0.09689546388493742, 0.020281481481481234, 0.07775943562610219, 0.07775943562610219, 0.0727150813344361, 0.013434920634920515, 0.027422848200312766, 0.09689546388493742, 0.0837673202614378, 0.013434920634920515, 0.06257777777777773, 0.006577777777777627, 0.002503703703703456, 0.013434920634920515, 0.06257777777777773, 0.09709905946118275, 0.03476825396825384, 0.06637575757575737, 0.06257777777777773, 0.06637575757575737, 0.09689546388493742, 0.013434920634920515, 0.007422848200312766, 0.06417777777777772, 0.10084952753339838, 0.06257777777777773, 0.04267205387205367, 0.06257777777777773, 0.04267205387205367, 0.04267205387205367, 0.0727150813344361, 0.006577777777777627, 0.10084952753339838, 0.05220226082161557, 0.07775943562610219, 0.08871435654721642, 0.055668686868686645, 0.0837673202614378, 0.07849267139479887, 0.09709905946118275, 0.0837673202614378, 0.06417777777777772, 0.06479999999999991, 0.0837673202614378, 0.05220226082161557, 0.10084952753339838, 0.0, 0.09689546388493742, 0.07488547008546997, 0.3565922077922077, 0.03667301587301569, 0.2582784580498865, 0.1741968253968253, 0.3177987080103358, 0.2642677473826409, 0.3527133870712817, 0.06637575757575737, 0.027422848200312766]\n",
      "i 9\n",
      "k 1\n",
      "m [2 1 2 2 1 2 2 2 2 1 1 1 2 2 2 2 2 2 2 2 1 2 2 2 2 2 2 2 2 1 2 2 2 2 2 1 2\n",
      " 2 2 2 2 1 1 2 2 1 2 1 2 1 1 1 1 1 1 2]\n",
      "n [1 1 1 1 1 1 1 1 1 1 1 1 1 1 1 1 1 1 1]\n",
      "j 0.1741968253968253\n",
      "X_jini_list [0.07488547008546997, 0.06479999999999991, 0.08871435654721642, 0.10084952753339838, 0.05220226082161557, 0.08871435654721642, 0.09689546388493742, 0.07849267139479887, 0.06637575757575737, 0.006577777777777627, 0.09709905946118275, 0.06417777777777772, 0.050669488536154994, 0.07849267139479887, 0.07849267139479887, 0.06417777777777772, 0.10084952753339838, 0.10084952753339838, 0.05220226082161557, 0.07849267139479887, 0.04232657004830909, 0.08871435654721642, 0.09689546388493742, 0.04267205387205367, 0.07849267139479887, 0.09709905946118275, 0.020281481481481234, 0.09689546388493742, 0.020281481481481234, 0.07775943562610219, 0.07775943562610219, 0.0727150813344361, 0.013434920634920515, 0.027422848200312766, 0.09689546388493742, 0.0837673202614378, 0.013434920634920515, 0.06257777777777773, 0.006577777777777627, 0.002503703703703456, 0.013434920634920515, 0.06257777777777773, 0.09709905946118275, 0.03476825396825384, 0.06637575757575737, 0.06257777777777773, 0.06637575757575737, 0.09689546388493742, 0.013434920634920515, 0.007422848200312766, 0.06417777777777772, 0.10084952753339838, 0.06257777777777773, 0.04267205387205367, 0.06257777777777773, 0.04267205387205367, 0.04267205387205367, 0.0727150813344361, 0.006577777777777627, 0.10084952753339838, 0.05220226082161557, 0.07775943562610219, 0.08871435654721642, 0.055668686868686645, 0.0837673202614378, 0.07849267139479887, 0.09709905946118275, 0.0837673202614378, 0.06417777777777772, 0.06479999999999991, 0.0837673202614378, 0.05220226082161557, 0.10084952753339838, 0.0, 0.09689546388493742, 0.07488547008546997, 0.3565922077922077, 0.03667301587301569, 0.2582784580498865, 0.1741968253968253, 0.3177987080103358, 0.2642677473826409, 0.3527133870712817, 0.06637575757575737, 0.027422848200312766, 0.1741968253968253]\n",
      "i 10\n",
      "k 1\n",
      "m [2 2 2 2 2 2 2 2 2 2 2 2 2 2 2 2 2 2 2 2 2 2]\n",
      "n [1 1 2 1 2 1 2 1 1 1 1 2 1 1 1 1 1 1 1 1 2 1 1 2 1 1 1 1 2 1 2 1 1 2 1 1 2\n",
      " 1 1 2 1 2 2 1 1 1 2 2 1 1 1 2 1]\n",
      "j 0.20204947589098515\n",
      "X_jini_list [0.07488547008546997, 0.06479999999999991, 0.08871435654721642, 0.10084952753339838, 0.05220226082161557, 0.08871435654721642, 0.09689546388493742, 0.07849267139479887, 0.06637575757575737, 0.006577777777777627, 0.09709905946118275, 0.06417777777777772, 0.050669488536154994, 0.07849267139479887, 0.07849267139479887, 0.06417777777777772, 0.10084952753339838, 0.10084952753339838, 0.05220226082161557, 0.07849267139479887, 0.04232657004830909, 0.08871435654721642, 0.09689546388493742, 0.04267205387205367, 0.07849267139479887, 0.09709905946118275, 0.020281481481481234, 0.09689546388493742, 0.020281481481481234, 0.07775943562610219, 0.07775943562610219, 0.0727150813344361, 0.013434920634920515, 0.027422848200312766, 0.09689546388493742, 0.0837673202614378, 0.013434920634920515, 0.06257777777777773, 0.006577777777777627, 0.002503703703703456, 0.013434920634920515, 0.06257777777777773, 0.09709905946118275, 0.03476825396825384, 0.06637575757575737, 0.06257777777777773, 0.06637575757575737, 0.09689546388493742, 0.013434920634920515, 0.007422848200312766, 0.06417777777777772, 0.10084952753339838, 0.06257777777777773, 0.04267205387205367, 0.06257777777777773, 0.04267205387205367, 0.04267205387205367, 0.0727150813344361, 0.006577777777777627, 0.10084952753339838, 0.05220226082161557, 0.07775943562610219, 0.08871435654721642, 0.055668686868686645, 0.0837673202614378, 0.07849267139479887, 0.09709905946118275, 0.0837673202614378, 0.06417777777777772, 0.06479999999999991, 0.0837673202614378, 0.05220226082161557, 0.10084952753339838, 0.0, 0.09689546388493742, 0.07488547008546997, 0.3565922077922077, 0.03667301587301569, 0.2582784580498865, 0.1741968253968253, 0.3177987080103358, 0.2642677473826409, 0.3527133870712817, 0.06637575757575737, 0.027422848200312766, 0.1741968253968253, 0.20204947589098515]\n",
      "i 11\n",
      "k 1\n",
      "m [2 1 2 2 1 2 2 2 2 1 1 2 2 2 2 2 2 2 2 1 2 2 2 2 2 2 2 2 1 2 2 2 2 2 1 2 2\n",
      " 2 2 2 1 2 2 2 1 2 1 1 1 1]\n",
      "n [1 1 1 1 1 1 1 1 1 1 1 1 1 1 1 1 1 1 1 1 1 1 1 1 2]\n",
      "j 0.21777777777777765\n",
      "X_jini_list [0.07488547008546997, 0.06479999999999991, 0.08871435654721642, 0.10084952753339838, 0.05220226082161557, 0.08871435654721642, 0.09689546388493742, 0.07849267139479887, 0.06637575757575737, 0.006577777777777627, 0.09709905946118275, 0.06417777777777772, 0.050669488536154994, 0.07849267139479887, 0.07849267139479887, 0.06417777777777772, 0.10084952753339838, 0.10084952753339838, 0.05220226082161557, 0.07849267139479887, 0.04232657004830909, 0.08871435654721642, 0.09689546388493742, 0.04267205387205367, 0.07849267139479887, 0.09709905946118275, 0.020281481481481234, 0.09689546388493742, 0.020281481481481234, 0.07775943562610219, 0.07775943562610219, 0.0727150813344361, 0.013434920634920515, 0.027422848200312766, 0.09689546388493742, 0.0837673202614378, 0.013434920634920515, 0.06257777777777773, 0.006577777777777627, 0.002503703703703456, 0.013434920634920515, 0.06257777777777773, 0.09709905946118275, 0.03476825396825384, 0.06637575757575737, 0.06257777777777773, 0.06637575757575737, 0.09689546388493742, 0.013434920634920515, 0.007422848200312766, 0.06417777777777772, 0.10084952753339838, 0.06257777777777773, 0.04267205387205367, 0.06257777777777773, 0.04267205387205367, 0.04267205387205367, 0.0727150813344361, 0.006577777777777627, 0.10084952753339838, 0.05220226082161557, 0.07775943562610219, 0.08871435654721642, 0.055668686868686645, 0.0837673202614378, 0.07849267139479887, 0.09709905946118275, 0.0837673202614378, 0.06417777777777772, 0.06479999999999991, 0.0837673202614378, 0.05220226082161557, 0.10084952753339838, 0.0, 0.09689546388493742, 0.07488547008546997, 0.3565922077922077, 0.03667301587301569, 0.2582784580498865, 0.1741968253968253, 0.3177987080103358, 0.2642677473826409, 0.3527133870712817, 0.06637575757575737, 0.027422848200312766, 0.1741968253968253, 0.20204947589098515, 0.21777777777777765]\n",
      "i 12\n",
      "k 1\n",
      "m [2 1 2 2 2 2 2 2 2 2 2 2 2 2 2 2 1 2 2 2 2 2 2 2 2 2 2 2 2 2 1 2 2 2 2 2 2\n",
      " 2 2 1 2 1 1 1 1 1 1]\n",
      "n [1 1 1 1 1 1 1 1 1 1 1 1 1 1 1 1 1 1 1 1 1 1 1 1 1 1 1 2]\n",
      "j 0.2642677473826409\n",
      "X_jini_list [0.07488547008546997, 0.06479999999999991, 0.08871435654721642, 0.10084952753339838, 0.05220226082161557, 0.08871435654721642, 0.09689546388493742, 0.07849267139479887, 0.06637575757575737, 0.006577777777777627, 0.09709905946118275, 0.06417777777777772, 0.050669488536154994, 0.07849267139479887, 0.07849267139479887, 0.06417777777777772, 0.10084952753339838, 0.10084952753339838, 0.05220226082161557, 0.07849267139479887, 0.04232657004830909, 0.08871435654721642, 0.09689546388493742, 0.04267205387205367, 0.07849267139479887, 0.09709905946118275, 0.020281481481481234, 0.09689546388493742, 0.020281481481481234, 0.07775943562610219, 0.07775943562610219, 0.0727150813344361, 0.013434920634920515, 0.027422848200312766, 0.09689546388493742, 0.0837673202614378, 0.013434920634920515, 0.06257777777777773, 0.006577777777777627, 0.002503703703703456, 0.013434920634920515, 0.06257777777777773, 0.09709905946118275, 0.03476825396825384, 0.06637575757575737, 0.06257777777777773, 0.06637575757575737, 0.09689546388493742, 0.013434920634920515, 0.007422848200312766, 0.06417777777777772, 0.10084952753339838, 0.06257777777777773, 0.04267205387205367, 0.06257777777777773, 0.04267205387205367, 0.04267205387205367, 0.0727150813344361, 0.006577777777777627, 0.10084952753339838, 0.05220226082161557, 0.07775943562610219, 0.08871435654721642, 0.055668686868686645, 0.0837673202614378, 0.07849267139479887, 0.09709905946118275, 0.0837673202614378, 0.06417777777777772, 0.06479999999999991, 0.0837673202614378, 0.05220226082161557, 0.10084952753339838, 0.0, 0.09689546388493742, 0.07488547008546997, 0.3565922077922077, 0.03667301587301569, 0.2582784580498865, 0.1741968253968253, 0.3177987080103358, 0.2642677473826409, 0.3527133870712817, 0.06637575757575737, 0.027422848200312766, 0.1741968253968253, 0.20204947589098515, 0.21777777777777765, 0.2642677473826409]\n",
      "i 13\n",
      "k 1\n",
      "m [2 1 2 2 2 2 2 2 2 2 2 2 2 2 2 2 1 2 2 2 2 2 2 2 2 2 2 2 2 2 1 2 2 2 2 2 2\n",
      " 2 2 1 2 1 1 1 1 1 1]\n",
      "n [1 1 1 1 1 1 1 1 1 1 1 1 1 1 1 1 1 1 1 1 1 1 1 1 1 1 1 2]\n",
      "j 0.2642677473826409\n",
      "X_jini_list [0.07488547008546997, 0.06479999999999991, 0.08871435654721642, 0.10084952753339838, 0.05220226082161557, 0.08871435654721642, 0.09689546388493742, 0.07849267139479887, 0.06637575757575737, 0.006577777777777627, 0.09709905946118275, 0.06417777777777772, 0.050669488536154994, 0.07849267139479887, 0.07849267139479887, 0.06417777777777772, 0.10084952753339838, 0.10084952753339838, 0.05220226082161557, 0.07849267139479887, 0.04232657004830909, 0.08871435654721642, 0.09689546388493742, 0.04267205387205367, 0.07849267139479887, 0.09709905946118275, 0.020281481481481234, 0.09689546388493742, 0.020281481481481234, 0.07775943562610219, 0.07775943562610219, 0.0727150813344361, 0.013434920634920515, 0.027422848200312766, 0.09689546388493742, 0.0837673202614378, 0.013434920634920515, 0.06257777777777773, 0.006577777777777627, 0.002503703703703456, 0.013434920634920515, 0.06257777777777773, 0.09709905946118275, 0.03476825396825384, 0.06637575757575737, 0.06257777777777773, 0.06637575757575737, 0.09689546388493742, 0.013434920634920515, 0.007422848200312766, 0.06417777777777772, 0.10084952753339838, 0.06257777777777773, 0.04267205387205367, 0.06257777777777773, 0.04267205387205367, 0.04267205387205367, 0.0727150813344361, 0.006577777777777627, 0.10084952753339838, 0.05220226082161557, 0.07775943562610219, 0.08871435654721642, 0.055668686868686645, 0.0837673202614378, 0.07849267139479887, 0.09709905946118275, 0.0837673202614378, 0.06417777777777772, 0.06479999999999991, 0.0837673202614378, 0.05220226082161557, 0.10084952753339838, 0.0, 0.09689546388493742, 0.07488547008546997, 0.3565922077922077, 0.03667301587301569, 0.2582784580498865, 0.1741968253968253, 0.3177987080103358, 0.2642677473826409, 0.3527133870712817, 0.06637575757575737, 0.027422848200312766, 0.1741968253968253, 0.20204947589098515, 0.21777777777777765, 0.2642677473826409, 0.2642677473826409]\n",
      "i 14\n",
      "k 1\n",
      "m [2 2 2 2 2 2 2 2 2 2 2 2 2 2 2 2 2 2 2 2 2 2 2 2 2 2 2 2 2 2 2 1]\n",
      "n [1 1 1 1 2 1 1 1 1 1 1 1 1 1 1 1 1 1 1 2 1 1 1 1 1 2 1 1 1 1 2 1 1 1 1 1 1\n",
      " 2 2 1 1 2 1]\n",
      "j 0.3177987080103358\n",
      "X_jini_list [0.07488547008546997, 0.06479999999999991, 0.08871435654721642, 0.10084952753339838, 0.05220226082161557, 0.08871435654721642, 0.09689546388493742, 0.07849267139479887, 0.06637575757575737, 0.006577777777777627, 0.09709905946118275, 0.06417777777777772, 0.050669488536154994, 0.07849267139479887, 0.07849267139479887, 0.06417777777777772, 0.10084952753339838, 0.10084952753339838, 0.05220226082161557, 0.07849267139479887, 0.04232657004830909, 0.08871435654721642, 0.09689546388493742, 0.04267205387205367, 0.07849267139479887, 0.09709905946118275, 0.020281481481481234, 0.09689546388493742, 0.020281481481481234, 0.07775943562610219, 0.07775943562610219, 0.0727150813344361, 0.013434920634920515, 0.027422848200312766, 0.09689546388493742, 0.0837673202614378, 0.013434920634920515, 0.06257777777777773, 0.006577777777777627, 0.002503703703703456, 0.013434920634920515, 0.06257777777777773, 0.09709905946118275, 0.03476825396825384, 0.06637575757575737, 0.06257777777777773, 0.06637575757575737, 0.09689546388493742, 0.013434920634920515, 0.007422848200312766, 0.06417777777777772, 0.10084952753339838, 0.06257777777777773, 0.04267205387205367, 0.06257777777777773, 0.04267205387205367, 0.04267205387205367, 0.0727150813344361, 0.006577777777777627, 0.10084952753339838, 0.05220226082161557, 0.07775943562610219, 0.08871435654721642, 0.055668686868686645, 0.0837673202614378, 0.07849267139479887, 0.09709905946118275, 0.0837673202614378, 0.06417777777777772, 0.06479999999999991, 0.0837673202614378, 0.05220226082161557, 0.10084952753339838, 0.0, 0.09689546388493742, 0.07488547008546997, 0.3565922077922077, 0.03667301587301569, 0.2582784580498865, 0.1741968253968253, 0.3177987080103358, 0.2642677473826409, 0.3527133870712817, 0.06637575757575737, 0.027422848200312766, 0.1741968253968253, 0.20204947589098515, 0.21777777777777765, 0.2642677473826409, 0.2642677473826409, 0.3177987080103358]\n",
      "i 15\n",
      "k 1\n",
      "m [2 2 2 2 2 2 2 2 2 2 2 2 2 2 2 2 2 2 2 2 2 2]\n",
      "n [1 1 2 1 2 1 2 1 1 1 1 2 1 1 1 1 1 1 1 1 2 1 1 2 1 1 1 1 2 1 2 1 1 2 1 1 2\n",
      " 1 1 2 1 2 2 1 1 1 2 2 1 1 1 2 1]\n",
      "j 0.20204947589098515\n",
      "X_jini_list [0.07488547008546997, 0.06479999999999991, 0.08871435654721642, 0.10084952753339838, 0.05220226082161557, 0.08871435654721642, 0.09689546388493742, 0.07849267139479887, 0.06637575757575737, 0.006577777777777627, 0.09709905946118275, 0.06417777777777772, 0.050669488536154994, 0.07849267139479887, 0.07849267139479887, 0.06417777777777772, 0.10084952753339838, 0.10084952753339838, 0.05220226082161557, 0.07849267139479887, 0.04232657004830909, 0.08871435654721642, 0.09689546388493742, 0.04267205387205367, 0.07849267139479887, 0.09709905946118275, 0.020281481481481234, 0.09689546388493742, 0.020281481481481234, 0.07775943562610219, 0.07775943562610219, 0.0727150813344361, 0.013434920634920515, 0.027422848200312766, 0.09689546388493742, 0.0837673202614378, 0.013434920634920515, 0.06257777777777773, 0.006577777777777627, 0.002503703703703456, 0.013434920634920515, 0.06257777777777773, 0.09709905946118275, 0.03476825396825384, 0.06637575757575737, 0.06257777777777773, 0.06637575757575737, 0.09689546388493742, 0.013434920634920515, 0.007422848200312766, 0.06417777777777772, 0.10084952753339838, 0.06257777777777773, 0.04267205387205367, 0.06257777777777773, 0.04267205387205367, 0.04267205387205367, 0.0727150813344361, 0.006577777777777627, 0.10084952753339838, 0.05220226082161557, 0.07775943562610219, 0.08871435654721642, 0.055668686868686645, 0.0837673202614378, 0.07849267139479887, 0.09709905946118275, 0.0837673202614378, 0.06417777777777772, 0.06479999999999991, 0.0837673202614378, 0.05220226082161557, 0.10084952753339838, 0.0, 0.09689546388493742, 0.07488547008546997, 0.3565922077922077, 0.03667301587301569, 0.2582784580498865, 0.1741968253968253, 0.3177987080103358, 0.2642677473826409, 0.3527133870712817, 0.06637575757575737, 0.027422848200312766, 0.1741968253968253, 0.20204947589098515, 0.21777777777777765, 0.2642677473826409, 0.2642677473826409, 0.3177987080103358, 0.20204947589098515]\n",
      "i 16\n",
      "k 1\n",
      "m [2 1 2 2 1 2 2 2 2 1 1 1 2 2 2 2 2 2 2 2 1 2 2 2 2 2 2 2 2 1 2 2 2 2 2 1 2\n",
      " 2 2 2 2 1 1 2 2 1 2 1 2 1 1 1 1 1 1 2]\n",
      "n [1 1 1 1 1 1 1 1 1 1 1 1 1 1 1 1 1 1 1]\n",
      "j 0.1741968253968253\n",
      "X_jini_list [0.07488547008546997, 0.06479999999999991, 0.08871435654721642, 0.10084952753339838, 0.05220226082161557, 0.08871435654721642, 0.09689546388493742, 0.07849267139479887, 0.06637575757575737, 0.006577777777777627, 0.09709905946118275, 0.06417777777777772, 0.050669488536154994, 0.07849267139479887, 0.07849267139479887, 0.06417777777777772, 0.10084952753339838, 0.10084952753339838, 0.05220226082161557, 0.07849267139479887, 0.04232657004830909, 0.08871435654721642, 0.09689546388493742, 0.04267205387205367, 0.07849267139479887, 0.09709905946118275, 0.020281481481481234, 0.09689546388493742, 0.020281481481481234, 0.07775943562610219, 0.07775943562610219, 0.0727150813344361, 0.013434920634920515, 0.027422848200312766, 0.09689546388493742, 0.0837673202614378, 0.013434920634920515, 0.06257777777777773, 0.006577777777777627, 0.002503703703703456, 0.013434920634920515, 0.06257777777777773, 0.09709905946118275, 0.03476825396825384, 0.06637575757575737, 0.06257777777777773, 0.06637575757575737, 0.09689546388493742, 0.013434920634920515, 0.007422848200312766, 0.06417777777777772, 0.10084952753339838, 0.06257777777777773, 0.04267205387205367, 0.06257777777777773, 0.04267205387205367, 0.04267205387205367, 0.0727150813344361, 0.006577777777777627, 0.10084952753339838, 0.05220226082161557, 0.07775943562610219, 0.08871435654721642, 0.055668686868686645, 0.0837673202614378, 0.07849267139479887, 0.09709905946118275, 0.0837673202614378, 0.06417777777777772, 0.06479999999999991, 0.0837673202614378, 0.05220226082161557, 0.10084952753339838, 0.0, 0.09689546388493742, 0.07488547008546997, 0.3565922077922077, 0.03667301587301569, 0.2582784580498865, 0.1741968253968253, 0.3177987080103358, 0.2642677473826409, 0.3527133870712817, 0.06637575757575737, 0.027422848200312766, 0.1741968253968253, 0.20204947589098515, 0.21777777777777765, 0.2642677473826409, 0.2642677473826409, 0.3177987080103358, 0.20204947589098515, 0.1741968253968253]\n",
      "i 17\n",
      "k 1\n",
      "m [2 1 1 2 1 2 1 2 2 2 1 2 1 1 1 2 2 1 2 2 1 2 1 1 1 2 2 2 1 1 2 1 2 1 2 1 2\n",
      " 1 2 2 2 2 1 2 2 1 1 2 2 2 1 1 2 1 2 2 1 2 2 1 1 1 2 2 1 2 1 1 2 2 1 1 1]\n",
      "n [1 1]\n",
      "j 0.014066362252663389\n",
      "X_jini_list [0.07488547008546997, 0.06479999999999991, 0.08871435654721642, 0.10084952753339838, 0.05220226082161557, 0.08871435654721642, 0.09689546388493742, 0.07849267139479887, 0.06637575757575737, 0.006577777777777627, 0.09709905946118275, 0.06417777777777772, 0.050669488536154994, 0.07849267139479887, 0.07849267139479887, 0.06417777777777772, 0.10084952753339838, 0.10084952753339838, 0.05220226082161557, 0.07849267139479887, 0.04232657004830909, 0.08871435654721642, 0.09689546388493742, 0.04267205387205367, 0.07849267139479887, 0.09709905946118275, 0.020281481481481234, 0.09689546388493742, 0.020281481481481234, 0.07775943562610219, 0.07775943562610219, 0.0727150813344361, 0.013434920634920515, 0.027422848200312766, 0.09689546388493742, 0.0837673202614378, 0.013434920634920515, 0.06257777777777773, 0.006577777777777627, 0.002503703703703456, 0.013434920634920515, 0.06257777777777773, 0.09709905946118275, 0.03476825396825384, 0.06637575757575737, 0.06257777777777773, 0.06637575757575737, 0.09689546388493742, 0.013434920634920515, 0.007422848200312766, 0.06417777777777772, 0.10084952753339838, 0.06257777777777773, 0.04267205387205367, 0.06257777777777773, 0.04267205387205367, 0.04267205387205367, 0.0727150813344361, 0.006577777777777627, 0.10084952753339838, 0.05220226082161557, 0.07775943562610219, 0.08871435654721642, 0.055668686868686645, 0.0837673202614378, 0.07849267139479887, 0.09709905946118275, 0.0837673202614378, 0.06417777777777772, 0.06479999999999991, 0.0837673202614378, 0.05220226082161557, 0.10084952753339838, 0.0, 0.09689546388493742, 0.07488547008546997, 0.3565922077922077, 0.03667301587301569, 0.2582784580498865, 0.1741968253968253, 0.3177987080103358, 0.2642677473826409, 0.3527133870712817, 0.06637575757575737, 0.027422848200312766, 0.1741968253968253, 0.20204947589098515, 0.21777777777777765, 0.2642677473826409, 0.2642677473826409, 0.3177987080103358, 0.20204947589098515, 0.1741968253968253, 0.014066362252663389]\n",
      "i 18\n",
      "k 1\n",
      "m [2 2 2 2 2 2 2 2 2 2 2 2 2 2 2 2 2 2 2]\n",
      "n [1 1 2 1 2 1 2 1 2 1 1 1 2 2 1 1 1 1 1 1 1 1 2 1 1 2 1 1 1 1 2 1 2 1 1 2 1\n",
      " 1 2 1 1 2 1 2 2 1 1 1 2 2 1 2 1 1 2 1]\n",
      "j 0.1651492063492062\n",
      "X_jini_list [0.07488547008546997, 0.06479999999999991, 0.08871435654721642, 0.10084952753339838, 0.05220226082161557, 0.08871435654721642, 0.09689546388493742, 0.07849267139479887, 0.06637575757575737, 0.006577777777777627, 0.09709905946118275, 0.06417777777777772, 0.050669488536154994, 0.07849267139479887, 0.07849267139479887, 0.06417777777777772, 0.10084952753339838, 0.10084952753339838, 0.05220226082161557, 0.07849267139479887, 0.04232657004830909, 0.08871435654721642, 0.09689546388493742, 0.04267205387205367, 0.07849267139479887, 0.09709905946118275, 0.020281481481481234, 0.09689546388493742, 0.020281481481481234, 0.07775943562610219, 0.07775943562610219, 0.0727150813344361, 0.013434920634920515, 0.027422848200312766, 0.09689546388493742, 0.0837673202614378, 0.013434920634920515, 0.06257777777777773, 0.006577777777777627, 0.002503703703703456, 0.013434920634920515, 0.06257777777777773, 0.09709905946118275, 0.03476825396825384, 0.06637575757575737, 0.06257777777777773, 0.06637575757575737, 0.09689546388493742, 0.013434920634920515, 0.007422848200312766, 0.06417777777777772, 0.10084952753339838, 0.06257777777777773, 0.04267205387205367, 0.06257777777777773, 0.04267205387205367, 0.04267205387205367, 0.0727150813344361, 0.006577777777777627, 0.10084952753339838, 0.05220226082161557, 0.07775943562610219, 0.08871435654721642, 0.055668686868686645, 0.0837673202614378, 0.07849267139479887, 0.09709905946118275, 0.0837673202614378, 0.06417777777777772, 0.06479999999999991, 0.0837673202614378, 0.05220226082161557, 0.10084952753339838, 0.0, 0.09689546388493742, 0.07488547008546997, 0.3565922077922077, 0.03667301587301569, 0.2582784580498865, 0.1741968253968253, 0.3177987080103358, 0.2642677473826409, 0.3527133870712817, 0.06637575757575737, 0.027422848200312766, 0.1741968253968253, 0.20204947589098515, 0.21777777777777765, 0.2642677473826409, 0.2642677473826409, 0.3177987080103358, 0.20204947589098515, 0.1741968253968253, 0.014066362252663389, 0.1651492063492062]\n",
      "i 19\n",
      "k 1\n",
      "m [2 2 2 2 2]\n",
      "n [2 1 1 2 1 2 1 2 2 1 2 1 1 1 2 2 1 1 2 1 2 1 1 1 2 1 1 2 1 1 2 1 2 1 1 1 2\n",
      " 2 2 2 1 2 2 1 1 2 2 2 1 1 2 1 2 1 2 1 2 2 1 1 1 2 2 1 2 1 1 2 2 1]\n",
      "j 0.03476825396825384\n",
      "X_jini_list [0.07488547008546997, 0.06479999999999991, 0.08871435654721642, 0.10084952753339838, 0.05220226082161557, 0.08871435654721642, 0.09689546388493742, 0.07849267139479887, 0.06637575757575737, 0.006577777777777627, 0.09709905946118275, 0.06417777777777772, 0.050669488536154994, 0.07849267139479887, 0.07849267139479887, 0.06417777777777772, 0.10084952753339838, 0.10084952753339838, 0.05220226082161557, 0.07849267139479887, 0.04232657004830909, 0.08871435654721642, 0.09689546388493742, 0.04267205387205367, 0.07849267139479887, 0.09709905946118275, 0.020281481481481234, 0.09689546388493742, 0.020281481481481234, 0.07775943562610219, 0.07775943562610219, 0.0727150813344361, 0.013434920634920515, 0.027422848200312766, 0.09689546388493742, 0.0837673202614378, 0.013434920634920515, 0.06257777777777773, 0.006577777777777627, 0.002503703703703456, 0.013434920634920515, 0.06257777777777773, 0.09709905946118275, 0.03476825396825384, 0.06637575757575737, 0.06257777777777773, 0.06637575757575737, 0.09689546388493742, 0.013434920634920515, 0.007422848200312766, 0.06417777777777772, 0.10084952753339838, 0.06257777777777773, 0.04267205387205367, 0.06257777777777773, 0.04267205387205367, 0.04267205387205367, 0.0727150813344361, 0.006577777777777627, 0.10084952753339838, 0.05220226082161557, 0.07775943562610219, 0.08871435654721642, 0.055668686868686645, 0.0837673202614378, 0.07849267139479887, 0.09709905946118275, 0.0837673202614378, 0.06417777777777772, 0.06479999999999991, 0.0837673202614378, 0.05220226082161557, 0.10084952753339838, 0.0, 0.09689546388493742, 0.07488547008546997, 0.3565922077922077, 0.03667301587301569, 0.2582784580498865, 0.1741968253968253, 0.3177987080103358, 0.2642677473826409, 0.3527133870712817, 0.06637575757575737, 0.027422848200312766, 0.1741968253968253, 0.20204947589098515, 0.21777777777777765, 0.2642677473826409, 0.2642677473826409, 0.3177987080103358, 0.20204947589098515, 0.1741968253968253, 0.014066362252663389, 0.1651492063492062, 0.03476825396825384]\n",
      "i 20\n",
      "k 1\n",
      "m [2 1 2 1 2 1 2 2 2 1 2 1 1 1 2 2 1 2 2 2 1 1 2 2 2 1 1 2 2 1 2 2 2 2 2 2 1\n",
      " 2 2 1 1 2 2 2 1 2 1 2 2 2 2 1 1 2 2 1 2 1 1 2 2 1 1 1 1]\n",
      "n [1 1 1 1 1 1 1 1 1 1]\n",
      "j 0.07898803418803402\n",
      "X_jini_list [0.07488547008546997, 0.06479999999999991, 0.08871435654721642, 0.10084952753339838, 0.05220226082161557, 0.08871435654721642, 0.09689546388493742, 0.07849267139479887, 0.06637575757575737, 0.006577777777777627, 0.09709905946118275, 0.06417777777777772, 0.050669488536154994, 0.07849267139479887, 0.07849267139479887, 0.06417777777777772, 0.10084952753339838, 0.10084952753339838, 0.05220226082161557, 0.07849267139479887, 0.04232657004830909, 0.08871435654721642, 0.09689546388493742, 0.04267205387205367, 0.07849267139479887, 0.09709905946118275, 0.020281481481481234, 0.09689546388493742, 0.020281481481481234, 0.07775943562610219, 0.07775943562610219, 0.0727150813344361, 0.013434920634920515, 0.027422848200312766, 0.09689546388493742, 0.0837673202614378, 0.013434920634920515, 0.06257777777777773, 0.006577777777777627, 0.002503703703703456, 0.013434920634920515, 0.06257777777777773, 0.09709905946118275, 0.03476825396825384, 0.06637575757575737, 0.06257777777777773, 0.06637575757575737, 0.09689546388493742, 0.013434920634920515, 0.007422848200312766, 0.06417777777777772, 0.10084952753339838, 0.06257777777777773, 0.04267205387205367, 0.06257777777777773, 0.04267205387205367, 0.04267205387205367, 0.0727150813344361, 0.006577777777777627, 0.10084952753339838, 0.05220226082161557, 0.07775943562610219, 0.08871435654721642, 0.055668686868686645, 0.0837673202614378, 0.07849267139479887, 0.09709905946118275, 0.0837673202614378, 0.06417777777777772, 0.06479999999999991, 0.0837673202614378, 0.05220226082161557, 0.10084952753339838, 0.0, 0.09689546388493742, 0.07488547008546997, 0.3565922077922077, 0.03667301587301569, 0.2582784580498865, 0.1741968253968253, 0.3177987080103358, 0.2642677473826409, 0.3527133870712817, 0.06637575757575737, 0.027422848200312766, 0.1741968253968253, 0.20204947589098515, 0.21777777777777765, 0.2642677473826409, 0.2642677473826409, 0.3177987080103358, 0.20204947589098515, 0.1741968253968253, 0.014066362252663389, 0.1651492063492062, 0.03476825396825384, 0.07898803418803402]\n",
      "i 21\n",
      "k 1\n",
      "m [2 2 2 2 2 2 2 2 2 2 2 2 2 2 2 2 2 2 2]\n",
      "n [1 1 2 1 2 1 2 1 2 1 1 1 2 2 1 1 1 1 1 1 1 1 2 1 1 2 1 1 1 1 2 1 2 1 1 2 1\n",
      " 1 2 1 1 2 1 2 2 1 1 1 2 2 1 2 1 1 2 1]\n",
      "j 0.1651492063492062\n",
      "X_jini_list [0.07488547008546997, 0.06479999999999991, 0.08871435654721642, 0.10084952753339838, 0.05220226082161557, 0.08871435654721642, 0.09689546388493742, 0.07849267139479887, 0.06637575757575737, 0.006577777777777627, 0.09709905946118275, 0.06417777777777772, 0.050669488536154994, 0.07849267139479887, 0.07849267139479887, 0.06417777777777772, 0.10084952753339838, 0.10084952753339838, 0.05220226082161557, 0.07849267139479887, 0.04232657004830909, 0.08871435654721642, 0.09689546388493742, 0.04267205387205367, 0.07849267139479887, 0.09709905946118275, 0.020281481481481234, 0.09689546388493742, 0.020281481481481234, 0.07775943562610219, 0.07775943562610219, 0.0727150813344361, 0.013434920634920515, 0.027422848200312766, 0.09689546388493742, 0.0837673202614378, 0.013434920634920515, 0.06257777777777773, 0.006577777777777627, 0.002503703703703456, 0.013434920634920515, 0.06257777777777773, 0.09709905946118275, 0.03476825396825384, 0.06637575757575737, 0.06257777777777773, 0.06637575757575737, 0.09689546388493742, 0.013434920634920515, 0.007422848200312766, 0.06417777777777772, 0.10084952753339838, 0.06257777777777773, 0.04267205387205367, 0.06257777777777773, 0.04267205387205367, 0.04267205387205367, 0.0727150813344361, 0.006577777777777627, 0.10084952753339838, 0.05220226082161557, 0.07775943562610219, 0.08871435654721642, 0.055668686868686645, 0.0837673202614378, 0.07849267139479887, 0.09709905946118275, 0.0837673202614378, 0.06417777777777772, 0.06479999999999991, 0.0837673202614378, 0.05220226082161557, 0.10084952753339838, 0.0, 0.09689546388493742, 0.07488547008546997, 0.3565922077922077, 0.03667301587301569, 0.2582784580498865, 0.1741968253968253, 0.3177987080103358, 0.2642677473826409, 0.3527133870712817, 0.06637575757575737, 0.027422848200312766, 0.1741968253968253, 0.20204947589098515, 0.21777777777777765, 0.2642677473826409, 0.2642677473826409, 0.3177987080103358, 0.20204947589098515, 0.1741968253968253, 0.014066362252663389, 0.1651492063492062, 0.03476825396825384, 0.07898803418803402, 0.1651492063492062]\n",
      "i 22\n",
      "k 1\n",
      "m [2 1 2 1 2 1 2 2 2 1 2 1 1 1 2 2 1 2 2 2 1 2 2 2 1 2 2 1 2 2 2 2 2 2 1 2 2\n",
      " 1 1 2 2 2 1 2 1 2 2 2 2 1 1 2 2 1 2 1 2 2 1 1 1 1]\n",
      "n [1 1 1 1 1 1 1 1 1 1 1 1 1]\n",
      "j 0.10765304659498193\n",
      "X_jini_list [0.07488547008546997, 0.06479999999999991, 0.08871435654721642, 0.10084952753339838, 0.05220226082161557, 0.08871435654721642, 0.09689546388493742, 0.07849267139479887, 0.06637575757575737, 0.006577777777777627, 0.09709905946118275, 0.06417777777777772, 0.050669488536154994, 0.07849267139479887, 0.07849267139479887, 0.06417777777777772, 0.10084952753339838, 0.10084952753339838, 0.05220226082161557, 0.07849267139479887, 0.04232657004830909, 0.08871435654721642, 0.09689546388493742, 0.04267205387205367, 0.07849267139479887, 0.09709905946118275, 0.020281481481481234, 0.09689546388493742, 0.020281481481481234, 0.07775943562610219, 0.07775943562610219, 0.0727150813344361, 0.013434920634920515, 0.027422848200312766, 0.09689546388493742, 0.0837673202614378, 0.013434920634920515, 0.06257777777777773, 0.006577777777777627, 0.002503703703703456, 0.013434920634920515, 0.06257777777777773, 0.09709905946118275, 0.03476825396825384, 0.06637575757575737, 0.06257777777777773, 0.06637575757575737, 0.09689546388493742, 0.013434920634920515, 0.007422848200312766, 0.06417777777777772, 0.10084952753339838, 0.06257777777777773, 0.04267205387205367, 0.06257777777777773, 0.04267205387205367, 0.04267205387205367, 0.0727150813344361, 0.006577777777777627, 0.10084952753339838, 0.05220226082161557, 0.07775943562610219, 0.08871435654721642, 0.055668686868686645, 0.0837673202614378, 0.07849267139479887, 0.09709905946118275, 0.0837673202614378, 0.06417777777777772, 0.06479999999999991, 0.0837673202614378, 0.05220226082161557, 0.10084952753339838, 0.0, 0.09689546388493742, 0.07488547008546997, 0.3565922077922077, 0.03667301587301569, 0.2582784580498865, 0.1741968253968253, 0.3177987080103358, 0.2642677473826409, 0.3527133870712817, 0.06637575757575737, 0.027422848200312766, 0.1741968253968253, 0.20204947589098515, 0.21777777777777765, 0.2642677473826409, 0.2642677473826409, 0.3177987080103358, 0.20204947589098515, 0.1741968253968253, 0.014066362252663389, 0.1651492063492062, 0.03476825396825384, 0.07898803418803402, 0.1651492063492062, 0.10765304659498193]\n",
      "i 23\n",
      "k 1\n",
      "m [2 1 2 1 2 1 2 2 2 1 2 1 1 1 2 2 1 2 2 1 2 1 1 2 2 2 1 1 2 2 1 2 2 2 2 2 2\n",
      " 1 2 2 1 1 2 2 2 1 1 2 1 2 2 1 2 2 1 1 2 2 1 2 1 1 2 2 1 1 1 1 1]\n",
      "n [1 1 1 1 1 1]\n",
      "j 0.04464541062801913\n",
      "X_jini_list [0.07488547008546997, 0.06479999999999991, 0.08871435654721642, 0.10084952753339838, 0.05220226082161557, 0.08871435654721642, 0.09689546388493742, 0.07849267139479887, 0.06637575757575737, 0.006577777777777627, 0.09709905946118275, 0.06417777777777772, 0.050669488536154994, 0.07849267139479887, 0.07849267139479887, 0.06417777777777772, 0.10084952753339838, 0.10084952753339838, 0.05220226082161557, 0.07849267139479887, 0.04232657004830909, 0.08871435654721642, 0.09689546388493742, 0.04267205387205367, 0.07849267139479887, 0.09709905946118275, 0.020281481481481234, 0.09689546388493742, 0.020281481481481234, 0.07775943562610219, 0.07775943562610219, 0.0727150813344361, 0.013434920634920515, 0.027422848200312766, 0.09689546388493742, 0.0837673202614378, 0.013434920634920515, 0.06257777777777773, 0.006577777777777627, 0.002503703703703456, 0.013434920634920515, 0.06257777777777773, 0.09709905946118275, 0.03476825396825384, 0.06637575757575737, 0.06257777777777773, 0.06637575757575737, 0.09689546388493742, 0.013434920634920515, 0.007422848200312766, 0.06417777777777772, 0.10084952753339838, 0.06257777777777773, 0.04267205387205367, 0.06257777777777773, 0.04267205387205367, 0.04267205387205367, 0.0727150813344361, 0.006577777777777627, 0.10084952753339838, 0.05220226082161557, 0.07775943562610219, 0.08871435654721642, 0.055668686868686645, 0.0837673202614378, 0.07849267139479887, 0.09709905946118275, 0.0837673202614378, 0.06417777777777772, 0.06479999999999991, 0.0837673202614378, 0.05220226082161557, 0.10084952753339838, 0.0, 0.09689546388493742, 0.07488547008546997, 0.3565922077922077, 0.03667301587301569, 0.2582784580498865, 0.1741968253968253, 0.3177987080103358, 0.2642677473826409, 0.3527133870712817, 0.06637575757575737, 0.027422848200312766, 0.1741968253968253, 0.20204947589098515, 0.21777777777777765, 0.2642677473826409, 0.2642677473826409, 0.3177987080103358, 0.20204947589098515, 0.1741968253968253, 0.014066362252663389, 0.1651492063492062, 0.03476825396825384, 0.07898803418803402, 0.1651492063492062, 0.10765304659498193, 0.04464541062801913]\n",
      "i 24\n",
      "k 1\n",
      "m [2 1 2 1 2 1 2 2 2 1 2 1 1 1 2 2 1 2 2 2 2 2 2 1 2 2 1 2 2 2 2 2 2 1 2 2 1\n",
      " 1 2 2 2 1 2 1 2 2 2 2 1 1 2 2 1 2 1 2 2 1 1]\n",
      "n [1 1 1 1 1 1 1 1 1 1 1 1 1 1 1 1]\n",
      "j 0.13923314500941597\n",
      "X_jini_list [0.07488547008546997, 0.06479999999999991, 0.08871435654721642, 0.10084952753339838, 0.05220226082161557, 0.08871435654721642, 0.09689546388493742, 0.07849267139479887, 0.06637575757575737, 0.006577777777777627, 0.09709905946118275, 0.06417777777777772, 0.050669488536154994, 0.07849267139479887, 0.07849267139479887, 0.06417777777777772, 0.10084952753339838, 0.10084952753339838, 0.05220226082161557, 0.07849267139479887, 0.04232657004830909, 0.08871435654721642, 0.09689546388493742, 0.04267205387205367, 0.07849267139479887, 0.09709905946118275, 0.020281481481481234, 0.09689546388493742, 0.020281481481481234, 0.07775943562610219, 0.07775943562610219, 0.0727150813344361, 0.013434920634920515, 0.027422848200312766, 0.09689546388493742, 0.0837673202614378, 0.013434920634920515, 0.06257777777777773, 0.006577777777777627, 0.002503703703703456, 0.013434920634920515, 0.06257777777777773, 0.09709905946118275, 0.03476825396825384, 0.06637575757575737, 0.06257777777777773, 0.06637575757575737, 0.09689546388493742, 0.013434920634920515, 0.007422848200312766, 0.06417777777777772, 0.10084952753339838, 0.06257777777777773, 0.04267205387205367, 0.06257777777777773, 0.04267205387205367, 0.04267205387205367, 0.0727150813344361, 0.006577777777777627, 0.10084952753339838, 0.05220226082161557, 0.07775943562610219, 0.08871435654721642, 0.055668686868686645, 0.0837673202614378, 0.07849267139479887, 0.09709905946118275, 0.0837673202614378, 0.06417777777777772, 0.06479999999999991, 0.0837673202614378, 0.05220226082161557, 0.10084952753339838, 0.0, 0.09689546388493742, 0.07488547008546997, 0.3565922077922077, 0.03667301587301569, 0.2582784580498865, 0.1741968253968253, 0.3177987080103358, 0.2642677473826409, 0.3527133870712817, 0.06637575757575737, 0.027422848200312766, 0.1741968253968253, 0.20204947589098515, 0.21777777777777765, 0.2642677473826409, 0.2642677473826409, 0.3177987080103358, 0.20204947589098515, 0.1741968253968253, 0.014066362252663389, 0.1651492063492062, 0.03476825396825384, 0.07898803418803402, 0.1651492063492062, 0.10765304659498193, 0.04464541062801913, 0.13923314500941597]\n",
      "i 25\n",
      "k 1\n",
      "m [2]\n",
      "n [2 1 1 2 1 2 1 2 2 2 1 2 1 1 1 2 2 1 1 2 2 1 2 1 1 1 2 2 1 1 2 1 2 1 2 1 2\n",
      " 1 1 1 2 2 2 2 1 2 2 1 1 2 2 2 1 1 2 1 2 1 2 1 2 2 1 1 1 2 2 1 2 1 1 2 2 1]\n",
      "j 0.006577777777777627\n",
      "X_jini_list [0.07488547008546997, 0.06479999999999991, 0.08871435654721642, 0.10084952753339838, 0.05220226082161557, 0.08871435654721642, 0.09689546388493742, 0.07849267139479887, 0.06637575757575737, 0.006577777777777627, 0.09709905946118275, 0.06417777777777772, 0.050669488536154994, 0.07849267139479887, 0.07849267139479887, 0.06417777777777772, 0.10084952753339838, 0.10084952753339838, 0.05220226082161557, 0.07849267139479887, 0.04232657004830909, 0.08871435654721642, 0.09689546388493742, 0.04267205387205367, 0.07849267139479887, 0.09709905946118275, 0.020281481481481234, 0.09689546388493742, 0.020281481481481234, 0.07775943562610219, 0.07775943562610219, 0.0727150813344361, 0.013434920634920515, 0.027422848200312766, 0.09689546388493742, 0.0837673202614378, 0.013434920634920515, 0.06257777777777773, 0.006577777777777627, 0.002503703703703456, 0.013434920634920515, 0.06257777777777773, 0.09709905946118275, 0.03476825396825384, 0.06637575757575737, 0.06257777777777773, 0.06637575757575737, 0.09689546388493742, 0.013434920634920515, 0.007422848200312766, 0.06417777777777772, 0.10084952753339838, 0.06257777777777773, 0.04267205387205367, 0.06257777777777773, 0.04267205387205367, 0.04267205387205367, 0.0727150813344361, 0.006577777777777627, 0.10084952753339838, 0.05220226082161557, 0.07775943562610219, 0.08871435654721642, 0.055668686868686645, 0.0837673202614378, 0.07849267139479887, 0.09709905946118275, 0.0837673202614378, 0.06417777777777772, 0.06479999999999991, 0.0837673202614378, 0.05220226082161557, 0.10084952753339838, 0.0, 0.09689546388493742, 0.07488547008546997, 0.3565922077922077, 0.03667301587301569, 0.2582784580498865, 0.1741968253968253, 0.3177987080103358, 0.2642677473826409, 0.3527133870712817, 0.06637575757575737, 0.027422848200312766, 0.1741968253968253, 0.20204947589098515, 0.21777777777777765, 0.2642677473826409, 0.2642677473826409, 0.3177987080103358, 0.20204947589098515, 0.1741968253968253, 0.014066362252663389, 0.1651492063492062, 0.03476825396825384, 0.07898803418803402, 0.1651492063492062, 0.10765304659498193, 0.04464541062801913, 0.13923314500941597, 0.006577777777777627]\n",
      "i 26\n",
      "k 1\n",
      "m [2 2 2 2 2 2 2 2 2]\n",
      "n [2 1 1 2 1 2 1 2 1 2 1 1 1 2 2 1 1 2 1 2 1 1 1 1 1 2 1 1 2 1 2 1 1 1 2 2 1\n",
      " 2 2 1 1 2 2 2 1 1 2 1 2 1 2 1 2 2 1 1 1 2 2 1 2 1 1 2 2 1]\n",
      "j 0.06637575757575737\n",
      "X_jini_list [0.07488547008546997, 0.06479999999999991, 0.08871435654721642, 0.10084952753339838, 0.05220226082161557, 0.08871435654721642, 0.09689546388493742, 0.07849267139479887, 0.06637575757575737, 0.006577777777777627, 0.09709905946118275, 0.06417777777777772, 0.050669488536154994, 0.07849267139479887, 0.07849267139479887, 0.06417777777777772, 0.10084952753339838, 0.10084952753339838, 0.05220226082161557, 0.07849267139479887, 0.04232657004830909, 0.08871435654721642, 0.09689546388493742, 0.04267205387205367, 0.07849267139479887, 0.09709905946118275, 0.020281481481481234, 0.09689546388493742, 0.020281481481481234, 0.07775943562610219, 0.07775943562610219, 0.0727150813344361, 0.013434920634920515, 0.027422848200312766, 0.09689546388493742, 0.0837673202614378, 0.013434920634920515, 0.06257777777777773, 0.006577777777777627, 0.002503703703703456, 0.013434920634920515, 0.06257777777777773, 0.09709905946118275, 0.03476825396825384, 0.06637575757575737, 0.06257777777777773, 0.06637575757575737, 0.09689546388493742, 0.013434920634920515, 0.007422848200312766, 0.06417777777777772, 0.10084952753339838, 0.06257777777777773, 0.04267205387205367, 0.06257777777777773, 0.04267205387205367, 0.04267205387205367, 0.0727150813344361, 0.006577777777777627, 0.10084952753339838, 0.05220226082161557, 0.07775943562610219, 0.08871435654721642, 0.055668686868686645, 0.0837673202614378, 0.07849267139479887, 0.09709905946118275, 0.0837673202614378, 0.06417777777777772, 0.06479999999999991, 0.0837673202614378, 0.05220226082161557, 0.10084952753339838, 0.0, 0.09689546388493742, 0.07488547008546997, 0.3565922077922077, 0.03667301587301569, 0.2582784580498865, 0.1741968253968253, 0.3177987080103358, 0.2642677473826409, 0.3527133870712817, 0.06637575757575737, 0.027422848200312766, 0.1741968253968253, 0.20204947589098515, 0.21777777777777765, 0.2642677473826409, 0.2642677473826409, 0.3177987080103358, 0.20204947589098515, 0.1741968253968253, 0.014066362252663389, 0.1651492063492062, 0.03476825396825384, 0.07898803418803402, 0.1651492063492062, 0.10765304659498193, 0.04464541062801913, 0.13923314500941597, 0.006577777777777627, 0.06637575757575737]\n",
      "i 27\n",
      "k 1\n",
      "m [2 2]\n",
      "n [2 1 1 2 1 2 1 2 2 2 1 2 1 1 1 2 2 1 1 2 2 1 2 1 1 1 2 1 1 2 1 2 1 2 1 2 1\n",
      " 1 1 2 2 2 2 1 2 2 1 1 2 2 2 1 1 2 1 2 1 2 1 2 2 1 1 1 2 2 1 2 1 1 2 2 1]\n",
      "j 0.01333576864535746\n",
      "X_jini_list [0.07488547008546997, 0.06479999999999991, 0.08871435654721642, 0.10084952753339838, 0.05220226082161557, 0.08871435654721642, 0.09689546388493742, 0.07849267139479887, 0.06637575757575737, 0.006577777777777627, 0.09709905946118275, 0.06417777777777772, 0.050669488536154994, 0.07849267139479887, 0.07849267139479887, 0.06417777777777772, 0.10084952753339838, 0.10084952753339838, 0.05220226082161557, 0.07849267139479887, 0.04232657004830909, 0.08871435654721642, 0.09689546388493742, 0.04267205387205367, 0.07849267139479887, 0.09709905946118275, 0.020281481481481234, 0.09689546388493742, 0.020281481481481234, 0.07775943562610219, 0.07775943562610219, 0.0727150813344361, 0.013434920634920515, 0.027422848200312766, 0.09689546388493742, 0.0837673202614378, 0.013434920634920515, 0.06257777777777773, 0.006577777777777627, 0.002503703703703456, 0.013434920634920515, 0.06257777777777773, 0.09709905946118275, 0.03476825396825384, 0.06637575757575737, 0.06257777777777773, 0.06637575757575737, 0.09689546388493742, 0.013434920634920515, 0.007422848200312766, 0.06417777777777772, 0.10084952753339838, 0.06257777777777773, 0.04267205387205367, 0.06257777777777773, 0.04267205387205367, 0.04267205387205367, 0.0727150813344361, 0.006577777777777627, 0.10084952753339838, 0.05220226082161557, 0.07775943562610219, 0.08871435654721642, 0.055668686868686645, 0.0837673202614378, 0.07849267139479887, 0.09709905946118275, 0.0837673202614378, 0.06417777777777772, 0.06479999999999991, 0.0837673202614378, 0.05220226082161557, 0.10084952753339838, 0.0, 0.09689546388493742, 0.07488547008546997, 0.3565922077922077, 0.03667301587301569, 0.2582784580498865, 0.1741968253968253, 0.3177987080103358, 0.2642677473826409, 0.3527133870712817, 0.06637575757575737, 0.027422848200312766, 0.1741968253968253, 0.20204947589098515, 0.21777777777777765, 0.2642677473826409, 0.2642677473826409, 0.3177987080103358, 0.20204947589098515, 0.1741968253968253, 0.014066362252663389, 0.1651492063492062, 0.03476825396825384, 0.07898803418803402, 0.1651492063492062, 0.10765304659498193, 0.04464541062801913, 0.13923314500941597, 0.006577777777777627, 0.06637575757575737, 0.01333576864535746]\n",
      "i 28\n",
      "k 1\n",
      "m [2 1 2 1 2 1 2 2 2 1 2 1 1 1 2 2 1 2 2 2 1 2 2 2 1 2 2 1 2 2 2 2 2 2 1 2 2\n",
      " 1 1 2 2 2 1 2 1 2 2 2 2 1 1 2 2 1 2 1 2 2 1 1 1 1]\n",
      "n [1 1 1 1 1 1 1 1 1 1 1 1 1]\n",
      "j 0.10765304659498193\n",
      "X_jini_list [0.07488547008546997, 0.06479999999999991, 0.08871435654721642, 0.10084952753339838, 0.05220226082161557, 0.08871435654721642, 0.09689546388493742, 0.07849267139479887, 0.06637575757575737, 0.006577777777777627, 0.09709905946118275, 0.06417777777777772, 0.050669488536154994, 0.07849267139479887, 0.07849267139479887, 0.06417777777777772, 0.10084952753339838, 0.10084952753339838, 0.05220226082161557, 0.07849267139479887, 0.04232657004830909, 0.08871435654721642, 0.09689546388493742, 0.04267205387205367, 0.07849267139479887, 0.09709905946118275, 0.020281481481481234, 0.09689546388493742, 0.020281481481481234, 0.07775943562610219, 0.07775943562610219, 0.0727150813344361, 0.013434920634920515, 0.027422848200312766, 0.09689546388493742, 0.0837673202614378, 0.013434920634920515, 0.06257777777777773, 0.006577777777777627, 0.002503703703703456, 0.013434920634920515, 0.06257777777777773, 0.09709905946118275, 0.03476825396825384, 0.06637575757575737, 0.06257777777777773, 0.06637575757575737, 0.09689546388493742, 0.013434920634920515, 0.007422848200312766, 0.06417777777777772, 0.10084952753339838, 0.06257777777777773, 0.04267205387205367, 0.06257777777777773, 0.04267205387205367, 0.04267205387205367, 0.0727150813344361, 0.006577777777777627, 0.10084952753339838, 0.05220226082161557, 0.07775943562610219, 0.08871435654721642, 0.055668686868686645, 0.0837673202614378, 0.07849267139479887, 0.09709905946118275, 0.0837673202614378, 0.06417777777777772, 0.06479999999999991, 0.0837673202614378, 0.05220226082161557, 0.10084952753339838, 0.0, 0.09689546388493742, 0.07488547008546997, 0.3565922077922077, 0.03667301587301569, 0.2582784580498865, 0.1741968253968253, 0.3177987080103358, 0.2642677473826409, 0.3527133870712817, 0.06637575757575737, 0.027422848200312766, 0.1741968253968253, 0.20204947589098515, 0.21777777777777765, 0.2642677473826409, 0.2642677473826409, 0.3177987080103358, 0.20204947589098515, 0.1741968253968253, 0.014066362252663389, 0.1651492063492062, 0.03476825396825384, 0.07898803418803402, 0.1651492063492062, 0.10765304659498193, 0.04464541062801913, 0.13923314500941597, 0.006577777777777627, 0.06637575757575737, 0.01333576864535746, 0.10765304659498193]\n",
      "i 29\n",
      "k 1\n",
      "m [2 2 2 2 2 2 2 2 2 2 2 2 2 2 2 2 2 2 2 2 2 2 2 2 2 2 2 1 2 2 2 2 2 2 2 1 2\n",
      " 1 1 1 2 2]\n",
      "n [1 1 1 1 1 1 1 1 1 1 1 1 1 1 1 1 1 1 1 1 1 1 1 1 1 1 1 1 1 1 1 1 2]\n",
      "j 0.3565922077922077\n",
      "X_jini_list [0.07488547008546997, 0.06479999999999991, 0.08871435654721642, 0.10084952753339838, 0.05220226082161557, 0.08871435654721642, 0.09689546388493742, 0.07849267139479887, 0.06637575757575737, 0.006577777777777627, 0.09709905946118275, 0.06417777777777772, 0.050669488536154994, 0.07849267139479887, 0.07849267139479887, 0.06417777777777772, 0.10084952753339838, 0.10084952753339838, 0.05220226082161557, 0.07849267139479887, 0.04232657004830909, 0.08871435654721642, 0.09689546388493742, 0.04267205387205367, 0.07849267139479887, 0.09709905946118275, 0.020281481481481234, 0.09689546388493742, 0.020281481481481234, 0.07775943562610219, 0.07775943562610219, 0.0727150813344361, 0.013434920634920515, 0.027422848200312766, 0.09689546388493742, 0.0837673202614378, 0.013434920634920515, 0.06257777777777773, 0.006577777777777627, 0.002503703703703456, 0.013434920634920515, 0.06257777777777773, 0.09709905946118275, 0.03476825396825384, 0.06637575757575737, 0.06257777777777773, 0.06637575757575737, 0.09689546388493742, 0.013434920634920515, 0.007422848200312766, 0.06417777777777772, 0.10084952753339838, 0.06257777777777773, 0.04267205387205367, 0.06257777777777773, 0.04267205387205367, 0.04267205387205367, 0.0727150813344361, 0.006577777777777627, 0.10084952753339838, 0.05220226082161557, 0.07775943562610219, 0.08871435654721642, 0.055668686868686645, 0.0837673202614378, 0.07849267139479887, 0.09709905946118275, 0.0837673202614378, 0.06417777777777772, 0.06479999999999991, 0.0837673202614378, 0.05220226082161557, 0.10084952753339838, 0.0, 0.09689546388493742, 0.07488547008546997, 0.3565922077922077, 0.03667301587301569, 0.2582784580498865, 0.1741968253968253, 0.3177987080103358, 0.2642677473826409, 0.3527133870712817, 0.06637575757575737, 0.027422848200312766, 0.1741968253968253, 0.20204947589098515, 0.21777777777777765, 0.2642677473826409, 0.2642677473826409, 0.3177987080103358, 0.20204947589098515, 0.1741968253968253, 0.014066362252663389, 0.1651492063492062, 0.03476825396825384, 0.07898803418803402, 0.1651492063492062, 0.10765304659498193, 0.04464541062801913, 0.13923314500941597, 0.006577777777777627, 0.06637575757575737, 0.01333576864535746, 0.10765304659498193, 0.3565922077922077]\n",
      "i 30\n",
      "k 1\n",
      "m [2 2 2 2 2 2 2 2 2 2 2 2 2 2 2 2 2 2 2 2 2 2 2 2]\n",
      "n [1 1 2 1 2 1 2 1 1 1 1 2 1 1 1 1 1 1 1 1 1 1 2 1 1 1 1 1 2 1 1 2 1 1 2 1 1\n",
      " 2 1 2 2 1 1 1 2 2 1 1 1 2 1]\n",
      "j 0.2290614379084966\n",
      "X_jini_list [0.07488547008546997, 0.06479999999999991, 0.08871435654721642, 0.10084952753339838, 0.05220226082161557, 0.08871435654721642, 0.09689546388493742, 0.07849267139479887, 0.06637575757575737, 0.006577777777777627, 0.09709905946118275, 0.06417777777777772, 0.050669488536154994, 0.07849267139479887, 0.07849267139479887, 0.06417777777777772, 0.10084952753339838, 0.10084952753339838, 0.05220226082161557, 0.07849267139479887, 0.04232657004830909, 0.08871435654721642, 0.09689546388493742, 0.04267205387205367, 0.07849267139479887, 0.09709905946118275, 0.020281481481481234, 0.09689546388493742, 0.020281481481481234, 0.07775943562610219, 0.07775943562610219, 0.0727150813344361, 0.013434920634920515, 0.027422848200312766, 0.09689546388493742, 0.0837673202614378, 0.013434920634920515, 0.06257777777777773, 0.006577777777777627, 0.002503703703703456, 0.013434920634920515, 0.06257777777777773, 0.09709905946118275, 0.03476825396825384, 0.06637575757575737, 0.06257777777777773, 0.06637575757575737, 0.09689546388493742, 0.013434920634920515, 0.007422848200312766, 0.06417777777777772, 0.10084952753339838, 0.06257777777777773, 0.04267205387205367, 0.06257777777777773, 0.04267205387205367, 0.04267205387205367, 0.0727150813344361, 0.006577777777777627, 0.10084952753339838, 0.05220226082161557, 0.07775943562610219, 0.08871435654721642, 0.055668686868686645, 0.0837673202614378, 0.07849267139479887, 0.09709905946118275, 0.0837673202614378, 0.06417777777777772, 0.06479999999999991, 0.0837673202614378, 0.05220226082161557, 0.10084952753339838, 0.0, 0.09689546388493742, 0.07488547008546997, 0.3565922077922077, 0.03667301587301569, 0.2582784580498865, 0.1741968253968253, 0.3177987080103358, 0.2642677473826409, 0.3527133870712817, 0.06637575757575737, 0.027422848200312766, 0.1741968253968253, 0.20204947589098515, 0.21777777777777765, 0.2642677473826409, 0.2642677473826409, 0.3177987080103358, 0.20204947589098515, 0.1741968253968253, 0.014066362252663389, 0.1651492063492062, 0.03476825396825384, 0.07898803418803402, 0.1651492063492062, 0.10765304659498193, 0.04464541062801913, 0.13923314500941597, 0.006577777777777627, 0.06637575757575737, 0.01333576864535746, 0.10765304659498193, 0.3565922077922077, 0.2290614379084966]\n",
      "i 31\n",
      "k 1\n",
      "m [2 1 2 1 2 1 2 2 2 1 2 1 1 1 2 2 1 2 2 1 2 1 1 2 2 2 1 1 2 2 1 2 2 2 2 2 2\n",
      " 1 2 2 1 1 2 2 2 1 1 2 1 2 2 1 2 2 1 1 2 2 1 2 1 1 2 2 1 1 1 1 1]\n",
      "n [1 1 1 1 1 1]\n",
      "j 0.04464541062801913\n",
      "X_jini_list [0.07488547008546997, 0.06479999999999991, 0.08871435654721642, 0.10084952753339838, 0.05220226082161557, 0.08871435654721642, 0.09689546388493742, 0.07849267139479887, 0.06637575757575737, 0.006577777777777627, 0.09709905946118275, 0.06417777777777772, 0.050669488536154994, 0.07849267139479887, 0.07849267139479887, 0.06417777777777772, 0.10084952753339838, 0.10084952753339838, 0.05220226082161557, 0.07849267139479887, 0.04232657004830909, 0.08871435654721642, 0.09689546388493742, 0.04267205387205367, 0.07849267139479887, 0.09709905946118275, 0.020281481481481234, 0.09689546388493742, 0.020281481481481234, 0.07775943562610219, 0.07775943562610219, 0.0727150813344361, 0.013434920634920515, 0.027422848200312766, 0.09689546388493742, 0.0837673202614378, 0.013434920634920515, 0.06257777777777773, 0.006577777777777627, 0.002503703703703456, 0.013434920634920515, 0.06257777777777773, 0.09709905946118275, 0.03476825396825384, 0.06637575757575737, 0.06257777777777773, 0.06637575757575737, 0.09689546388493742, 0.013434920634920515, 0.007422848200312766, 0.06417777777777772, 0.10084952753339838, 0.06257777777777773, 0.04267205387205367, 0.06257777777777773, 0.04267205387205367, 0.04267205387205367, 0.0727150813344361, 0.006577777777777627, 0.10084952753339838, 0.05220226082161557, 0.07775943562610219, 0.08871435654721642, 0.055668686868686645, 0.0837673202614378, 0.07849267139479887, 0.09709905946118275, 0.0837673202614378, 0.06417777777777772, 0.06479999999999991, 0.0837673202614378, 0.05220226082161557, 0.10084952753339838, 0.0, 0.09689546388493742, 0.07488547008546997, 0.3565922077922077, 0.03667301587301569, 0.2582784580498865, 0.1741968253968253, 0.3177987080103358, 0.2642677473826409, 0.3527133870712817, 0.06637575757575737, 0.027422848200312766, 0.1741968253968253, 0.20204947589098515, 0.21777777777777765, 0.2642677473826409, 0.2642677473826409, 0.3177987080103358, 0.20204947589098515, 0.1741968253968253, 0.014066362252663389, 0.1651492063492062, 0.03476825396825384, 0.07898803418803402, 0.1651492063492062, 0.10765304659498193, 0.04464541062801913, 0.13923314500941597, 0.006577777777777627, 0.06637575757575737, 0.01333576864535746, 0.10765304659498193, 0.3565922077922077, 0.2290614379084966, 0.04464541062801913]\n",
      "i 32\n",
      "k 1\n",
      "m [2 2 2]\n",
      "n [2 1 1 2 1 2 1 2 2 2 1 2 1 1 1 2 2 1 1 2 2 1 2 1 1 1 2 1 1 2 1 1 2 1 2 1 1\n",
      " 1 2 2 2 2 1 2 2 1 1 2 2 2 1 1 2 1 2 1 2 1 2 2 1 1 1 2 2 1 2 1 1 2 2 1]\n",
      "j 0.020281481481481234\n",
      "X_jini_list [0.07488547008546997, 0.06479999999999991, 0.08871435654721642, 0.10084952753339838, 0.05220226082161557, 0.08871435654721642, 0.09689546388493742, 0.07849267139479887, 0.06637575757575737, 0.006577777777777627, 0.09709905946118275, 0.06417777777777772, 0.050669488536154994, 0.07849267139479887, 0.07849267139479887, 0.06417777777777772, 0.10084952753339838, 0.10084952753339838, 0.05220226082161557, 0.07849267139479887, 0.04232657004830909, 0.08871435654721642, 0.09689546388493742, 0.04267205387205367, 0.07849267139479887, 0.09709905946118275, 0.020281481481481234, 0.09689546388493742, 0.020281481481481234, 0.07775943562610219, 0.07775943562610219, 0.0727150813344361, 0.013434920634920515, 0.027422848200312766, 0.09689546388493742, 0.0837673202614378, 0.013434920634920515, 0.06257777777777773, 0.006577777777777627, 0.002503703703703456, 0.013434920634920515, 0.06257777777777773, 0.09709905946118275, 0.03476825396825384, 0.06637575757575737, 0.06257777777777773, 0.06637575757575737, 0.09689546388493742, 0.013434920634920515, 0.007422848200312766, 0.06417777777777772, 0.10084952753339838, 0.06257777777777773, 0.04267205387205367, 0.06257777777777773, 0.04267205387205367, 0.04267205387205367, 0.0727150813344361, 0.006577777777777627, 0.10084952753339838, 0.05220226082161557, 0.07775943562610219, 0.08871435654721642, 0.055668686868686645, 0.0837673202614378, 0.07849267139479887, 0.09709905946118275, 0.0837673202614378, 0.06417777777777772, 0.06479999999999991, 0.0837673202614378, 0.05220226082161557, 0.10084952753339838, 0.0, 0.09689546388493742, 0.07488547008546997, 0.3565922077922077, 0.03667301587301569, 0.2582784580498865, 0.1741968253968253, 0.3177987080103358, 0.2642677473826409, 0.3527133870712817, 0.06637575757575737, 0.027422848200312766, 0.1741968253968253, 0.20204947589098515, 0.21777777777777765, 0.2642677473826409, 0.2642677473826409, 0.3177987080103358, 0.20204947589098515, 0.1741968253968253, 0.014066362252663389, 0.1651492063492062, 0.03476825396825384, 0.07898803418803402, 0.1651492063492062, 0.10765304659498193, 0.04464541062801913, 0.13923314500941597, 0.006577777777777627, 0.06637575757575737, 0.01333576864535746, 0.10765304659498193, 0.3565922077922077, 0.2290614379084966, 0.04464541062801913, 0.020281481481481234]\n",
      "i 33\n",
      "k 1\n",
      "m [2 1 2 1 2 1 2 2 2 1 2 1 1 1 2 2 1 2 2 2 2 2 2 1 2 2 2 2 2 2 2 2 1 2 2 1 2\n",
      " 2 2 1 2 1 2 2 2 2 1 1 2 2 1 2 1 2 2 1 1 1]\n",
      "n [1 1 1 1 1 1 1 1 1 1 1 1 1 1 1 1 1]\n",
      "j 0.15048582375478914\n",
      "X_jini_list [0.07488547008546997, 0.06479999999999991, 0.08871435654721642, 0.10084952753339838, 0.05220226082161557, 0.08871435654721642, 0.09689546388493742, 0.07849267139479887, 0.06637575757575737, 0.006577777777777627, 0.09709905946118275, 0.06417777777777772, 0.050669488536154994, 0.07849267139479887, 0.07849267139479887, 0.06417777777777772, 0.10084952753339838, 0.10084952753339838, 0.05220226082161557, 0.07849267139479887, 0.04232657004830909, 0.08871435654721642, 0.09689546388493742, 0.04267205387205367, 0.07849267139479887, 0.09709905946118275, 0.020281481481481234, 0.09689546388493742, 0.020281481481481234, 0.07775943562610219, 0.07775943562610219, 0.0727150813344361, 0.013434920634920515, 0.027422848200312766, 0.09689546388493742, 0.0837673202614378, 0.013434920634920515, 0.06257777777777773, 0.006577777777777627, 0.002503703703703456, 0.013434920634920515, 0.06257777777777773, 0.09709905946118275, 0.03476825396825384, 0.06637575757575737, 0.06257777777777773, 0.06637575757575737, 0.09689546388493742, 0.013434920634920515, 0.007422848200312766, 0.06417777777777772, 0.10084952753339838, 0.06257777777777773, 0.04267205387205367, 0.06257777777777773, 0.04267205387205367, 0.04267205387205367, 0.0727150813344361, 0.006577777777777627, 0.10084952753339838, 0.05220226082161557, 0.07775943562610219, 0.08871435654721642, 0.055668686868686645, 0.0837673202614378, 0.07849267139479887, 0.09709905946118275, 0.0837673202614378, 0.06417777777777772, 0.06479999999999991, 0.0837673202614378, 0.05220226082161557, 0.10084952753339838, 0.0, 0.09689546388493742, 0.07488547008546997, 0.3565922077922077, 0.03667301587301569, 0.2582784580498865, 0.1741968253968253, 0.3177987080103358, 0.2642677473826409, 0.3527133870712817, 0.06637575757575737, 0.027422848200312766, 0.1741968253968253, 0.20204947589098515, 0.21777777777777765, 0.2642677473826409, 0.2642677473826409, 0.3177987080103358, 0.20204947589098515, 0.1741968253968253, 0.014066362252663389, 0.1651492063492062, 0.03476825396825384, 0.07898803418803402, 0.1651492063492062, 0.10765304659498193, 0.04464541062801913, 0.13923314500941597, 0.006577777777777627, 0.06637575757575737, 0.01333576864535746, 0.10765304659498193, 0.3565922077922077, 0.2290614379084966, 0.04464541062801913, 0.020281481481481234, 0.15048582375478914]\n",
      "i 34\n",
      "k 1\n",
      "m [2 2 2 2 2 2 2 2 2 2 2 2 2 2 2 2 2 2 2 2 2 2 2 2 2 2 2 1 2 2 2 2 2 2 2 1 2\n",
      " 1 1 1 2 2]\n",
      "n [1 1 1 1 1 1 1 1 1 1 1 1 1 1 1 1 1 1 1 1 1 1 1 1 1 1 1 1 1 1 1 1 2]\n",
      "j 0.3565922077922077\n",
      "X_jini_list [0.07488547008546997, 0.06479999999999991, 0.08871435654721642, 0.10084952753339838, 0.05220226082161557, 0.08871435654721642, 0.09689546388493742, 0.07849267139479887, 0.06637575757575737, 0.006577777777777627, 0.09709905946118275, 0.06417777777777772, 0.050669488536154994, 0.07849267139479887, 0.07849267139479887, 0.06417777777777772, 0.10084952753339838, 0.10084952753339838, 0.05220226082161557, 0.07849267139479887, 0.04232657004830909, 0.08871435654721642, 0.09689546388493742, 0.04267205387205367, 0.07849267139479887, 0.09709905946118275, 0.020281481481481234, 0.09689546388493742, 0.020281481481481234, 0.07775943562610219, 0.07775943562610219, 0.0727150813344361, 0.013434920634920515, 0.027422848200312766, 0.09689546388493742, 0.0837673202614378, 0.013434920634920515, 0.06257777777777773, 0.006577777777777627, 0.002503703703703456, 0.013434920634920515, 0.06257777777777773, 0.09709905946118275, 0.03476825396825384, 0.06637575757575737, 0.06257777777777773, 0.06637575757575737, 0.09689546388493742, 0.013434920634920515, 0.007422848200312766, 0.06417777777777772, 0.10084952753339838, 0.06257777777777773, 0.04267205387205367, 0.06257777777777773, 0.04267205387205367, 0.04267205387205367, 0.0727150813344361, 0.006577777777777627, 0.10084952753339838, 0.05220226082161557, 0.07775943562610219, 0.08871435654721642, 0.055668686868686645, 0.0837673202614378, 0.07849267139479887, 0.09709905946118275, 0.0837673202614378, 0.06417777777777772, 0.06479999999999991, 0.0837673202614378, 0.05220226082161557, 0.10084952753339838, 0.0, 0.09689546388493742, 0.07488547008546997, 0.3565922077922077, 0.03667301587301569, 0.2582784580498865, 0.1741968253968253, 0.3177987080103358, 0.2642677473826409, 0.3527133870712817, 0.06637575757575737, 0.027422848200312766, 0.1741968253968253, 0.20204947589098515, 0.21777777777777765, 0.2642677473826409, 0.2642677473826409, 0.3177987080103358, 0.20204947589098515, 0.1741968253968253, 0.014066362252663389, 0.1651492063492062, 0.03476825396825384, 0.07898803418803402, 0.1651492063492062, 0.10765304659498193, 0.04464541062801913, 0.13923314500941597, 0.006577777777777627, 0.06637575757575737, 0.01333576864535746, 0.10765304659498193, 0.3565922077922077, 0.2290614379084966, 0.04464541062801913, 0.020281481481481234, 0.15048582375478914, 0.3565922077922077]\n",
      "i 35\n",
      "k 1\n",
      "m [2 1 2 1 2 1 2 2 2 1 2 1 1 1 2 2 1 2 2 1 2 1 1 2 2 2 1 1 2 2 1 2 2 2 2 2 2\n",
      " 1 2 2 1 1 2 2 2 1 1 2 1 2 2 1 2 2 1 1 2 2 1 2 1 1 2 2 1 1 1 1 1]\n",
      "n [1 1 1 1 1 1]\n",
      "j 0.04464541062801913\n",
      "X_jini_list [0.07488547008546997, 0.06479999999999991, 0.08871435654721642, 0.10084952753339838, 0.05220226082161557, 0.08871435654721642, 0.09689546388493742, 0.07849267139479887, 0.06637575757575737, 0.006577777777777627, 0.09709905946118275, 0.06417777777777772, 0.050669488536154994, 0.07849267139479887, 0.07849267139479887, 0.06417777777777772, 0.10084952753339838, 0.10084952753339838, 0.05220226082161557, 0.07849267139479887, 0.04232657004830909, 0.08871435654721642, 0.09689546388493742, 0.04267205387205367, 0.07849267139479887, 0.09709905946118275, 0.020281481481481234, 0.09689546388493742, 0.020281481481481234, 0.07775943562610219, 0.07775943562610219, 0.0727150813344361, 0.013434920634920515, 0.027422848200312766, 0.09689546388493742, 0.0837673202614378, 0.013434920634920515, 0.06257777777777773, 0.006577777777777627, 0.002503703703703456, 0.013434920634920515, 0.06257777777777773, 0.09709905946118275, 0.03476825396825384, 0.06637575757575737, 0.06257777777777773, 0.06637575757575737, 0.09689546388493742, 0.013434920634920515, 0.007422848200312766, 0.06417777777777772, 0.10084952753339838, 0.06257777777777773, 0.04267205387205367, 0.06257777777777773, 0.04267205387205367, 0.04267205387205367, 0.0727150813344361, 0.006577777777777627, 0.10084952753339838, 0.05220226082161557, 0.07775943562610219, 0.08871435654721642, 0.055668686868686645, 0.0837673202614378, 0.07849267139479887, 0.09709905946118275, 0.0837673202614378, 0.06417777777777772, 0.06479999999999991, 0.0837673202614378, 0.05220226082161557, 0.10084952753339838, 0.0, 0.09689546388493742, 0.07488547008546997, 0.3565922077922077, 0.03667301587301569, 0.2582784580498865, 0.1741968253968253, 0.3177987080103358, 0.2642677473826409, 0.3527133870712817, 0.06637575757575737, 0.027422848200312766, 0.1741968253968253, 0.20204947589098515, 0.21777777777777765, 0.2642677473826409, 0.2642677473826409, 0.3177987080103358, 0.20204947589098515, 0.1741968253968253, 0.014066362252663389, 0.1651492063492062, 0.03476825396825384, 0.07898803418803402, 0.1651492063492062, 0.10765304659498193, 0.04464541062801913, 0.13923314500941597, 0.006577777777777627, 0.06637575757575737, 0.01333576864535746, 0.10765304659498193, 0.3565922077922077, 0.2290614379084966, 0.04464541062801913, 0.020281481481481234, 0.15048582375478914, 0.3565922077922077, 0.04464541062801913]\n",
      "i 36\n",
      "k 1\n",
      "m [2 2 2 2 2 2 2 2 2 2 2 2 2 2]\n",
      "n [1 1 2 1 2 1 2 1 2 1 1 1 2 2 1 1 2 1 2 1 1 1 1 1 2 1 1 2 1 1 1 1 2 1 2 1 1\n",
      " 2 2 2 1 1 2 1 1 2 1 2 2 1 1 1 2 2 1 2 1 1 2 2 1]\n",
      "j 0.11171438979963555\n",
      "X_jini_list [0.07488547008546997, 0.06479999999999991, 0.08871435654721642, 0.10084952753339838, 0.05220226082161557, 0.08871435654721642, 0.09689546388493742, 0.07849267139479887, 0.06637575757575737, 0.006577777777777627, 0.09709905946118275, 0.06417777777777772, 0.050669488536154994, 0.07849267139479887, 0.07849267139479887, 0.06417777777777772, 0.10084952753339838, 0.10084952753339838, 0.05220226082161557, 0.07849267139479887, 0.04232657004830909, 0.08871435654721642, 0.09689546388493742, 0.04267205387205367, 0.07849267139479887, 0.09709905946118275, 0.020281481481481234, 0.09689546388493742, 0.020281481481481234, 0.07775943562610219, 0.07775943562610219, 0.0727150813344361, 0.013434920634920515, 0.027422848200312766, 0.09689546388493742, 0.0837673202614378, 0.013434920634920515, 0.06257777777777773, 0.006577777777777627, 0.002503703703703456, 0.013434920634920515, 0.06257777777777773, 0.09709905946118275, 0.03476825396825384, 0.06637575757575737, 0.06257777777777773, 0.06637575757575737, 0.09689546388493742, 0.013434920634920515, 0.007422848200312766, 0.06417777777777772, 0.10084952753339838, 0.06257777777777773, 0.04267205387205367, 0.06257777777777773, 0.04267205387205367, 0.04267205387205367, 0.0727150813344361, 0.006577777777777627, 0.10084952753339838, 0.05220226082161557, 0.07775943562610219, 0.08871435654721642, 0.055668686868686645, 0.0837673202614378, 0.07849267139479887, 0.09709905946118275, 0.0837673202614378, 0.06417777777777772, 0.06479999999999991, 0.0837673202614378, 0.05220226082161557, 0.10084952753339838, 0.0, 0.09689546388493742, 0.07488547008546997, 0.3565922077922077, 0.03667301587301569, 0.2582784580498865, 0.1741968253968253, 0.3177987080103358, 0.2642677473826409, 0.3527133870712817, 0.06637575757575737, 0.027422848200312766, 0.1741968253968253, 0.20204947589098515, 0.21777777777777765, 0.2642677473826409, 0.2642677473826409, 0.3177987080103358, 0.20204947589098515, 0.1741968253968253, 0.014066362252663389, 0.1651492063492062, 0.03476825396825384, 0.07898803418803402, 0.1651492063492062, 0.10765304659498193, 0.04464541062801913, 0.13923314500941597, 0.006577777777777627, 0.06637575757575737, 0.01333576864535746, 0.10765304659498193, 0.3565922077922077, 0.2290614379084966, 0.04464541062801913, 0.020281481481481234, 0.15048582375478914, 0.3565922077922077, 0.04464541062801913, 0.11171438979963555]\n",
      "i 37\n",
      "k 1\n",
      "m [2 1 1 2 1 2 1 2 2 2 1 2 1 1 1 2 2 1 1 2 2 1 2 1 1 1 2 2 2 1 1 2 1 2 1 2 1\n",
      " 2 1 2 2 2 2 1 2 2 1 1 2 2 2 1 1 2 1 2 1 2 1 2 2 1 1 1 2 2 1 2 1 1 2 2 1 1]\n",
      "n [1]\n",
      "j 0.006938138138137984\n",
      "X_jini_list [0.07488547008546997, 0.06479999999999991, 0.08871435654721642, 0.10084952753339838, 0.05220226082161557, 0.08871435654721642, 0.09689546388493742, 0.07849267139479887, 0.06637575757575737, 0.006577777777777627, 0.09709905946118275, 0.06417777777777772, 0.050669488536154994, 0.07849267139479887, 0.07849267139479887, 0.06417777777777772, 0.10084952753339838, 0.10084952753339838, 0.05220226082161557, 0.07849267139479887, 0.04232657004830909, 0.08871435654721642, 0.09689546388493742, 0.04267205387205367, 0.07849267139479887, 0.09709905946118275, 0.020281481481481234, 0.09689546388493742, 0.020281481481481234, 0.07775943562610219, 0.07775943562610219, 0.0727150813344361, 0.013434920634920515, 0.027422848200312766, 0.09689546388493742, 0.0837673202614378, 0.013434920634920515, 0.06257777777777773, 0.006577777777777627, 0.002503703703703456, 0.013434920634920515, 0.06257777777777773, 0.09709905946118275, 0.03476825396825384, 0.06637575757575737, 0.06257777777777773, 0.06637575757575737, 0.09689546388493742, 0.013434920634920515, 0.007422848200312766, 0.06417777777777772, 0.10084952753339838, 0.06257777777777773, 0.04267205387205367, 0.06257777777777773, 0.04267205387205367, 0.04267205387205367, 0.0727150813344361, 0.006577777777777627, 0.10084952753339838, 0.05220226082161557, 0.07775943562610219, 0.08871435654721642, 0.055668686868686645, 0.0837673202614378, 0.07849267139479887, 0.09709905946118275, 0.0837673202614378, 0.06417777777777772, 0.06479999999999991, 0.0837673202614378, 0.05220226082161557, 0.10084952753339838, 0.0, 0.09689546388493742, 0.07488547008546997, 0.3565922077922077, 0.03667301587301569, 0.2582784580498865, 0.1741968253968253, 0.3177987080103358, 0.2642677473826409, 0.3527133870712817, 0.06637575757575737, 0.027422848200312766, 0.1741968253968253, 0.20204947589098515, 0.21777777777777765, 0.2642677473826409, 0.2642677473826409, 0.3177987080103358, 0.20204947589098515, 0.1741968253968253, 0.014066362252663389, 0.1651492063492062, 0.03476825396825384, 0.07898803418803402, 0.1651492063492062, 0.10765304659498193, 0.04464541062801913, 0.13923314500941597, 0.006577777777777627, 0.06637575757575737, 0.01333576864535746, 0.10765304659498193, 0.3565922077922077, 0.2290614379084966, 0.04464541062801913, 0.020281481481481234, 0.15048582375478914, 0.3565922077922077, 0.04464541062801913, 0.11171438979963555, 0.006938138138137984]\n",
      "i 38\n",
      "k 1\n",
      "m [2 1 1 2 1 2 1 2 2 2 1 2 1 1 1 2 2 1 1 2 2 1 2 1 1 1 2 2 2 1 1 2 1 2 1 2 1\n",
      " 2 1 1 2 2 2 2 1 2 2 1 1 2 2 2 1 1 2 1 2 1 2 1 2 2 1 1 1 2 2 1 2 1 1 2 2 1\n",
      " 1]\n",
      "n []\n",
      "j 0.0\n",
      "X_jini_list [0.07488547008546997, 0.06479999999999991, 0.08871435654721642, 0.10084952753339838, 0.05220226082161557, 0.08871435654721642, 0.09689546388493742, 0.07849267139479887, 0.06637575757575737, 0.006577777777777627, 0.09709905946118275, 0.06417777777777772, 0.050669488536154994, 0.07849267139479887, 0.07849267139479887, 0.06417777777777772, 0.10084952753339838, 0.10084952753339838, 0.05220226082161557, 0.07849267139479887, 0.04232657004830909, 0.08871435654721642, 0.09689546388493742, 0.04267205387205367, 0.07849267139479887, 0.09709905946118275, 0.020281481481481234, 0.09689546388493742, 0.020281481481481234, 0.07775943562610219, 0.07775943562610219, 0.0727150813344361, 0.013434920634920515, 0.027422848200312766, 0.09689546388493742, 0.0837673202614378, 0.013434920634920515, 0.06257777777777773, 0.006577777777777627, 0.002503703703703456, 0.013434920634920515, 0.06257777777777773, 0.09709905946118275, 0.03476825396825384, 0.06637575757575737, 0.06257777777777773, 0.06637575757575737, 0.09689546388493742, 0.013434920634920515, 0.007422848200312766, 0.06417777777777772, 0.10084952753339838, 0.06257777777777773, 0.04267205387205367, 0.06257777777777773, 0.04267205387205367, 0.04267205387205367, 0.0727150813344361, 0.006577777777777627, 0.10084952753339838, 0.05220226082161557, 0.07775943562610219, 0.08871435654721642, 0.055668686868686645, 0.0837673202614378, 0.07849267139479887, 0.09709905946118275, 0.0837673202614378, 0.06417777777777772, 0.06479999999999991, 0.0837673202614378, 0.05220226082161557, 0.10084952753339838, 0.0, 0.09689546388493742, 0.07488547008546997, 0.3565922077922077, 0.03667301587301569, 0.2582784580498865, 0.1741968253968253, 0.3177987080103358, 0.2642677473826409, 0.3527133870712817, 0.06637575757575737, 0.027422848200312766, 0.1741968253968253, 0.20204947589098515, 0.21777777777777765, 0.2642677473826409, 0.2642677473826409, 0.3177987080103358, 0.20204947589098515, 0.1741968253968253, 0.014066362252663389, 0.1651492063492062, 0.03476825396825384, 0.07898803418803402, 0.1651492063492062, 0.10765304659498193, 0.04464541062801913, 0.13923314500941597, 0.006577777777777627, 0.06637575757575737, 0.01333576864535746, 0.10765304659498193, 0.3565922077922077, 0.2290614379084966, 0.04464541062801913, 0.020281481481481234, 0.15048582375478914, 0.3565922077922077, 0.04464541062801913, 0.11171438979963555, 0.006938138138137984, 0.0]\n",
      "i 39\n",
      "k 1\n",
      "m [2 1 1 2 1 2 1 2 2 2 1 2 1 1 1 2 2 1 2 2 1 2 1 1 1 2 2 2 1 1 2 1 2 1 2 1 2\n",
      " 2 2 2 2 1 2 2 1 1 2 2 2 1 1 2 1 2 2 1 2 2 1 1 1 2 2 1 2 1 1 2 2 1 1]\n",
      "n [1 1 1 1]\n",
      "j 0.02892519561815321\n",
      "X_jini_list [0.07488547008546997, 0.06479999999999991, 0.08871435654721642, 0.10084952753339838, 0.05220226082161557, 0.08871435654721642, 0.09689546388493742, 0.07849267139479887, 0.06637575757575737, 0.006577777777777627, 0.09709905946118275, 0.06417777777777772, 0.050669488536154994, 0.07849267139479887, 0.07849267139479887, 0.06417777777777772, 0.10084952753339838, 0.10084952753339838, 0.05220226082161557, 0.07849267139479887, 0.04232657004830909, 0.08871435654721642, 0.09689546388493742, 0.04267205387205367, 0.07849267139479887, 0.09709905946118275, 0.020281481481481234, 0.09689546388493742, 0.020281481481481234, 0.07775943562610219, 0.07775943562610219, 0.0727150813344361, 0.013434920634920515, 0.027422848200312766, 0.09689546388493742, 0.0837673202614378, 0.013434920634920515, 0.06257777777777773, 0.006577777777777627, 0.002503703703703456, 0.013434920634920515, 0.06257777777777773, 0.09709905946118275, 0.03476825396825384, 0.06637575757575737, 0.06257777777777773, 0.06637575757575737, 0.09689546388493742, 0.013434920634920515, 0.007422848200312766, 0.06417777777777772, 0.10084952753339838, 0.06257777777777773, 0.04267205387205367, 0.06257777777777773, 0.04267205387205367, 0.04267205387205367, 0.0727150813344361, 0.006577777777777627, 0.10084952753339838, 0.05220226082161557, 0.07775943562610219, 0.08871435654721642, 0.055668686868686645, 0.0837673202614378, 0.07849267139479887, 0.09709905946118275, 0.0837673202614378, 0.06417777777777772, 0.06479999999999991, 0.0837673202614378, 0.05220226082161557, 0.10084952753339838, 0.0, 0.09689546388493742, 0.07488547008546997, 0.3565922077922077, 0.03667301587301569, 0.2582784580498865, 0.1741968253968253, 0.3177987080103358, 0.2642677473826409, 0.3527133870712817, 0.06637575757575737, 0.027422848200312766, 0.1741968253968253, 0.20204947589098515, 0.21777777777777765, 0.2642677473826409, 0.2642677473826409, 0.3177987080103358, 0.20204947589098515, 0.1741968253968253, 0.014066362252663389, 0.1651492063492062, 0.03476825396825384, 0.07898803418803402, 0.1651492063492062, 0.10765304659498193, 0.04464541062801913, 0.13923314500941597, 0.006577777777777627, 0.06637575757575737, 0.01333576864535746, 0.10765304659498193, 0.3565922077922077, 0.2290614379084966, 0.04464541062801913, 0.020281481481481234, 0.15048582375478914, 0.3565922077922077, 0.04464541062801913, 0.11171438979963555, 0.006938138138137984, 0.0, 0.02892519561815321]\n",
      "i 40\n",
      "k 1\n",
      "m [2 2 2 2 2 2 2 2 2 2 2 2]\n",
      "n [1 1 2 1 2 1 2 1 2 1 1 1 2 2 1 1 2 1 2 1 1 1 1 1 2 1 1 2 1 2 1 1 1 2 1 2 1\n",
      " 1 2 2 2 1 1 2 1 2 1 2 1 2 2 1 1 1 2 2 1 2 1 1 2 2 1]\n",
      "j 0.09271534391534375\n",
      "X_jini_list [0.07488547008546997, 0.06479999999999991, 0.08871435654721642, 0.10084952753339838, 0.05220226082161557, 0.08871435654721642, 0.09689546388493742, 0.07849267139479887, 0.06637575757575737, 0.006577777777777627, 0.09709905946118275, 0.06417777777777772, 0.050669488536154994, 0.07849267139479887, 0.07849267139479887, 0.06417777777777772, 0.10084952753339838, 0.10084952753339838, 0.05220226082161557, 0.07849267139479887, 0.04232657004830909, 0.08871435654721642, 0.09689546388493742, 0.04267205387205367, 0.07849267139479887, 0.09709905946118275, 0.020281481481481234, 0.09689546388493742, 0.020281481481481234, 0.07775943562610219, 0.07775943562610219, 0.0727150813344361, 0.013434920634920515, 0.027422848200312766, 0.09689546388493742, 0.0837673202614378, 0.013434920634920515, 0.06257777777777773, 0.006577777777777627, 0.002503703703703456, 0.013434920634920515, 0.06257777777777773, 0.09709905946118275, 0.03476825396825384, 0.06637575757575737, 0.06257777777777773, 0.06637575757575737, 0.09689546388493742, 0.013434920634920515, 0.007422848200312766, 0.06417777777777772, 0.10084952753339838, 0.06257777777777773, 0.04267205387205367, 0.06257777777777773, 0.04267205387205367, 0.04267205387205367, 0.0727150813344361, 0.006577777777777627, 0.10084952753339838, 0.05220226082161557, 0.07775943562610219, 0.08871435654721642, 0.055668686868686645, 0.0837673202614378, 0.07849267139479887, 0.09709905946118275, 0.0837673202614378, 0.06417777777777772, 0.06479999999999991, 0.0837673202614378, 0.05220226082161557, 0.10084952753339838, 0.0, 0.09689546388493742, 0.07488547008546997, 0.3565922077922077, 0.03667301587301569, 0.2582784580498865, 0.1741968253968253, 0.3177987080103358, 0.2642677473826409, 0.3527133870712817, 0.06637575757575737, 0.027422848200312766, 0.1741968253968253, 0.20204947589098515, 0.21777777777777765, 0.2642677473826409, 0.2642677473826409, 0.3177987080103358, 0.20204947589098515, 0.1741968253968253, 0.014066362252663389, 0.1651492063492062, 0.03476825396825384, 0.07898803418803402, 0.1651492063492062, 0.10765304659498193, 0.04464541062801913, 0.13923314500941597, 0.006577777777777627, 0.06637575757575737, 0.01333576864535746, 0.10765304659498193, 0.3565922077922077, 0.2290614379084966, 0.04464541062801913, 0.020281481481481234, 0.15048582375478914, 0.3565922077922077, 0.04464541062801913, 0.11171438979963555, 0.006938138138137984, 0.0, 0.02892519561815321, 0.09271534391534375]\n",
      "i 41\n",
      "k 1\n",
      "m [2 2 2 2 2 2 2 2 2 2 2 2 2 2 2 2 2 2 2 2 2 2 2 2]\n",
      "n [1 1 2 1 2 1 2 1 1 1 1 2 1 1 1 1 1 1 1 1 1 1 2 1 1 1 1 1 2 1 1 2 1 1 2 1 1\n",
      " 2 1 2 2 1 1 1 2 2 1 1 1 2 1]\n",
      "j 0.2290614379084966\n",
      "X_jini_list [0.07488547008546997, 0.06479999999999991, 0.08871435654721642, 0.10084952753339838, 0.05220226082161557, 0.08871435654721642, 0.09689546388493742, 0.07849267139479887, 0.06637575757575737, 0.006577777777777627, 0.09709905946118275, 0.06417777777777772, 0.050669488536154994, 0.07849267139479887, 0.07849267139479887, 0.06417777777777772, 0.10084952753339838, 0.10084952753339838, 0.05220226082161557, 0.07849267139479887, 0.04232657004830909, 0.08871435654721642, 0.09689546388493742, 0.04267205387205367, 0.07849267139479887, 0.09709905946118275, 0.020281481481481234, 0.09689546388493742, 0.020281481481481234, 0.07775943562610219, 0.07775943562610219, 0.0727150813344361, 0.013434920634920515, 0.027422848200312766, 0.09689546388493742, 0.0837673202614378, 0.013434920634920515, 0.06257777777777773, 0.006577777777777627, 0.002503703703703456, 0.013434920634920515, 0.06257777777777773, 0.09709905946118275, 0.03476825396825384, 0.06637575757575737, 0.06257777777777773, 0.06637575757575737, 0.09689546388493742, 0.013434920634920515, 0.007422848200312766, 0.06417777777777772, 0.10084952753339838, 0.06257777777777773, 0.04267205387205367, 0.06257777777777773, 0.04267205387205367, 0.04267205387205367, 0.0727150813344361, 0.006577777777777627, 0.10084952753339838, 0.05220226082161557, 0.07775943562610219, 0.08871435654721642, 0.055668686868686645, 0.0837673202614378, 0.07849267139479887, 0.09709905946118275, 0.0837673202614378, 0.06417777777777772, 0.06479999999999991, 0.0837673202614378, 0.05220226082161557, 0.10084952753339838, 0.0, 0.09689546388493742, 0.07488547008546997, 0.3565922077922077, 0.03667301587301569, 0.2582784580498865, 0.1741968253968253, 0.3177987080103358, 0.2642677473826409, 0.3527133870712817, 0.06637575757575737, 0.027422848200312766, 0.1741968253968253, 0.20204947589098515, 0.21777777777777765, 0.2642677473826409, 0.2642677473826409, 0.3177987080103358, 0.20204947589098515, 0.1741968253968253, 0.014066362252663389, 0.1651492063492062, 0.03476825396825384, 0.07898803418803402, 0.1651492063492062, 0.10765304659498193, 0.04464541062801913, 0.13923314500941597, 0.006577777777777627, 0.06637575757575737, 0.01333576864535746, 0.10765304659498193, 0.3565922077922077, 0.2290614379084966, 0.04464541062801913, 0.020281481481481234, 0.15048582375478914, 0.3565922077922077, 0.04464541062801913, 0.11171438979963555, 0.006938138138137984, 0.0, 0.02892519561815321, 0.09271534391534375, 0.2290614379084966]\n",
      "i 42\n",
      "k 1\n",
      "m [2 2 2 2 2 2 2]\n",
      "n [2 1 1 2 1 2 1 2 2 1 2 1 1 1 2 2 1 1 2 1 2 1 1 1 2 1 1 2 1 1 2 1 2 1 1 1 2\n",
      " 2 1 2 2 1 1 2 2 2 1 1 2 1 2 1 2 1 2 2 1 1 1 2 2 1 2 1 1 2 2 1]\n",
      "j 0.0501071895424835\n",
      "X_jini_list [0.07488547008546997, 0.06479999999999991, 0.08871435654721642, 0.10084952753339838, 0.05220226082161557, 0.08871435654721642, 0.09689546388493742, 0.07849267139479887, 0.06637575757575737, 0.006577777777777627, 0.09709905946118275, 0.06417777777777772, 0.050669488536154994, 0.07849267139479887, 0.07849267139479887, 0.06417777777777772, 0.10084952753339838, 0.10084952753339838, 0.05220226082161557, 0.07849267139479887, 0.04232657004830909, 0.08871435654721642, 0.09689546388493742, 0.04267205387205367, 0.07849267139479887, 0.09709905946118275, 0.020281481481481234, 0.09689546388493742, 0.020281481481481234, 0.07775943562610219, 0.07775943562610219, 0.0727150813344361, 0.013434920634920515, 0.027422848200312766, 0.09689546388493742, 0.0837673202614378, 0.013434920634920515, 0.06257777777777773, 0.006577777777777627, 0.002503703703703456, 0.013434920634920515, 0.06257777777777773, 0.09709905946118275, 0.03476825396825384, 0.06637575757575737, 0.06257777777777773, 0.06637575757575737, 0.09689546388493742, 0.013434920634920515, 0.007422848200312766, 0.06417777777777772, 0.10084952753339838, 0.06257777777777773, 0.04267205387205367, 0.06257777777777773, 0.04267205387205367, 0.04267205387205367, 0.0727150813344361, 0.006577777777777627, 0.10084952753339838, 0.05220226082161557, 0.07775943562610219, 0.08871435654721642, 0.055668686868686645, 0.0837673202614378, 0.07849267139479887, 0.09709905946118275, 0.0837673202614378, 0.06417777777777772, 0.06479999999999991, 0.0837673202614378, 0.05220226082161557, 0.10084952753339838, 0.0, 0.09689546388493742, 0.07488547008546997, 0.3565922077922077, 0.03667301587301569, 0.2582784580498865, 0.1741968253968253, 0.3177987080103358, 0.2642677473826409, 0.3527133870712817, 0.06637575757575737, 0.027422848200312766, 0.1741968253968253, 0.20204947589098515, 0.21777777777777765, 0.2642677473826409, 0.2642677473826409, 0.3177987080103358, 0.20204947589098515, 0.1741968253968253, 0.014066362252663389, 0.1651492063492062, 0.03476825396825384, 0.07898803418803402, 0.1651492063492062, 0.10765304659498193, 0.04464541062801913, 0.13923314500941597, 0.006577777777777627, 0.06637575757575737, 0.01333576864535746, 0.10765304659498193, 0.3565922077922077, 0.2290614379084966, 0.04464541062801913, 0.020281481481481234, 0.15048582375478914, 0.3565922077922077, 0.04464541062801913, 0.11171438979963555, 0.006938138138137984, 0.0, 0.02892519561815321, 0.09271534391534375, 0.2290614379084966, 0.0501071895424835]\n",
      "i 43\n",
      "k 1\n",
      "m [2 2 2 2 2 2 2]\n",
      "n [2 1 1 2 1 2 1 2 2 1 2 1 1 1 2 2 1 1 2 1 2 1 1 1 2 1 1 2 1 1 2 1 2 1 1 1 2\n",
      " 2 1 2 2 1 1 2 2 2 1 1 2 1 2 1 2 1 2 2 1 1 1 2 2 1 2 1 1 2 2 1]\n",
      "j 0.0501071895424835\n",
      "X_jini_list [0.07488547008546997, 0.06479999999999991, 0.08871435654721642, 0.10084952753339838, 0.05220226082161557, 0.08871435654721642, 0.09689546388493742, 0.07849267139479887, 0.06637575757575737, 0.006577777777777627, 0.09709905946118275, 0.06417777777777772, 0.050669488536154994, 0.07849267139479887, 0.07849267139479887, 0.06417777777777772, 0.10084952753339838, 0.10084952753339838, 0.05220226082161557, 0.07849267139479887, 0.04232657004830909, 0.08871435654721642, 0.09689546388493742, 0.04267205387205367, 0.07849267139479887, 0.09709905946118275, 0.020281481481481234, 0.09689546388493742, 0.020281481481481234, 0.07775943562610219, 0.07775943562610219, 0.0727150813344361, 0.013434920634920515, 0.027422848200312766, 0.09689546388493742, 0.0837673202614378, 0.013434920634920515, 0.06257777777777773, 0.006577777777777627, 0.002503703703703456, 0.013434920634920515, 0.06257777777777773, 0.09709905946118275, 0.03476825396825384, 0.06637575757575737, 0.06257777777777773, 0.06637575757575737, 0.09689546388493742, 0.013434920634920515, 0.007422848200312766, 0.06417777777777772, 0.10084952753339838, 0.06257777777777773, 0.04267205387205367, 0.06257777777777773, 0.04267205387205367, 0.04267205387205367, 0.0727150813344361, 0.006577777777777627, 0.10084952753339838, 0.05220226082161557, 0.07775943562610219, 0.08871435654721642, 0.055668686868686645, 0.0837673202614378, 0.07849267139479887, 0.09709905946118275, 0.0837673202614378, 0.06417777777777772, 0.06479999999999991, 0.0837673202614378, 0.05220226082161557, 0.10084952753339838, 0.0, 0.09689546388493742, 0.07488547008546997, 0.3565922077922077, 0.03667301587301569, 0.2582784580498865, 0.1741968253968253, 0.3177987080103358, 0.2642677473826409, 0.3527133870712817, 0.06637575757575737, 0.027422848200312766, 0.1741968253968253, 0.20204947589098515, 0.21777777777777765, 0.2642677473826409, 0.2642677473826409, 0.3177987080103358, 0.20204947589098515, 0.1741968253968253, 0.014066362252663389, 0.1651492063492062, 0.03476825396825384, 0.07898803418803402, 0.1651492063492062, 0.10765304659498193, 0.04464541062801913, 0.13923314500941597, 0.006577777777777627, 0.06637575757575737, 0.01333576864535746, 0.10765304659498193, 0.3565922077922077, 0.2290614379084966, 0.04464541062801913, 0.020281481481481234, 0.15048582375478914, 0.3565922077922077, 0.04464541062801913, 0.11171438979963555, 0.006938138138137984, 0.0, 0.02892519561815321, 0.09271534391534375, 0.2290614379084966, 0.0501071895424835, 0.0501071895424835]\n",
      "i 44\n",
      "k 1\n",
      "m [2 1 2 2 2 2 2 2 2 2 2 2 2 2 2 2 1 2 2 2 2 2 2 2 2 2 2 2 2 2 1 2 2 2 2 2 2\n",
      " 2 2 1 2 1 1 1 1 1 1]\n",
      "n [1 1 1 1 1 1 1 1 1 1 1 1 1 1 1 1 1 1 1 1 1 1 1 1 1 1 1 2]\n",
      "j 0.2642677473826409\n",
      "X_jini_list [0.07488547008546997, 0.06479999999999991, 0.08871435654721642, 0.10084952753339838, 0.05220226082161557, 0.08871435654721642, 0.09689546388493742, 0.07849267139479887, 0.06637575757575737, 0.006577777777777627, 0.09709905946118275, 0.06417777777777772, 0.050669488536154994, 0.07849267139479887, 0.07849267139479887, 0.06417777777777772, 0.10084952753339838, 0.10084952753339838, 0.05220226082161557, 0.07849267139479887, 0.04232657004830909, 0.08871435654721642, 0.09689546388493742, 0.04267205387205367, 0.07849267139479887, 0.09709905946118275, 0.020281481481481234, 0.09689546388493742, 0.020281481481481234, 0.07775943562610219, 0.07775943562610219, 0.0727150813344361, 0.013434920634920515, 0.027422848200312766, 0.09689546388493742, 0.0837673202614378, 0.013434920634920515, 0.06257777777777773, 0.006577777777777627, 0.002503703703703456, 0.013434920634920515, 0.06257777777777773, 0.09709905946118275, 0.03476825396825384, 0.06637575757575737, 0.06257777777777773, 0.06637575757575737, 0.09689546388493742, 0.013434920634920515, 0.007422848200312766, 0.06417777777777772, 0.10084952753339838, 0.06257777777777773, 0.04267205387205367, 0.06257777777777773, 0.04267205387205367, 0.04267205387205367, 0.0727150813344361, 0.006577777777777627, 0.10084952753339838, 0.05220226082161557, 0.07775943562610219, 0.08871435654721642, 0.055668686868686645, 0.0837673202614378, 0.07849267139479887, 0.09709905946118275, 0.0837673202614378, 0.06417777777777772, 0.06479999999999991, 0.0837673202614378, 0.05220226082161557, 0.10084952753339838, 0.0, 0.09689546388493742, 0.07488547008546997, 0.3565922077922077, 0.03667301587301569, 0.2582784580498865, 0.1741968253968253, 0.3177987080103358, 0.2642677473826409, 0.3527133870712817, 0.06637575757575737, 0.027422848200312766, 0.1741968253968253, 0.20204947589098515, 0.21777777777777765, 0.2642677473826409, 0.2642677473826409, 0.3177987080103358, 0.20204947589098515, 0.1741968253968253, 0.014066362252663389, 0.1651492063492062, 0.03476825396825384, 0.07898803418803402, 0.1651492063492062, 0.10765304659498193, 0.04464541062801913, 0.13923314500941597, 0.006577777777777627, 0.06637575757575737, 0.01333576864535746, 0.10765304659498193, 0.3565922077922077, 0.2290614379084966, 0.04464541062801913, 0.020281481481481234, 0.15048582375478914, 0.3565922077922077, 0.04464541062801913, 0.11171438979963555, 0.006938138138137984, 0.0, 0.02892519561815321, 0.09271534391534375, 0.2290614379084966, 0.0501071895424835, 0.0501071895424835, 0.2642677473826409]\n",
      "i 45\n",
      "k 1\n",
      "m [2 2 2 2 2 2 2 2 2 2 2 2]\n",
      "n [1 1 2 1 2 1 2 1 2 1 1 1 2 2 1 1 2 1 2 1 1 1 1 1 2 1 1 2 1 2 1 1 1 2 1 2 1\n",
      " 1 2 2 2 1 1 2 1 2 1 2 1 2 2 1 1 1 2 2 1 2 1 1 2 2 1]\n",
      "j 0.09271534391534375\n",
      "X_jini_list [0.07488547008546997, 0.06479999999999991, 0.08871435654721642, 0.10084952753339838, 0.05220226082161557, 0.08871435654721642, 0.09689546388493742, 0.07849267139479887, 0.06637575757575737, 0.006577777777777627, 0.09709905946118275, 0.06417777777777772, 0.050669488536154994, 0.07849267139479887, 0.07849267139479887, 0.06417777777777772, 0.10084952753339838, 0.10084952753339838, 0.05220226082161557, 0.07849267139479887, 0.04232657004830909, 0.08871435654721642, 0.09689546388493742, 0.04267205387205367, 0.07849267139479887, 0.09709905946118275, 0.020281481481481234, 0.09689546388493742, 0.020281481481481234, 0.07775943562610219, 0.07775943562610219, 0.0727150813344361, 0.013434920634920515, 0.027422848200312766, 0.09689546388493742, 0.0837673202614378, 0.013434920634920515, 0.06257777777777773, 0.006577777777777627, 0.002503703703703456, 0.013434920634920515, 0.06257777777777773, 0.09709905946118275, 0.03476825396825384, 0.06637575757575737, 0.06257777777777773, 0.06637575757575737, 0.09689546388493742, 0.013434920634920515, 0.007422848200312766, 0.06417777777777772, 0.10084952753339838, 0.06257777777777773, 0.04267205387205367, 0.06257777777777773, 0.04267205387205367, 0.04267205387205367, 0.0727150813344361, 0.006577777777777627, 0.10084952753339838, 0.05220226082161557, 0.07775943562610219, 0.08871435654721642, 0.055668686868686645, 0.0837673202614378, 0.07849267139479887, 0.09709905946118275, 0.0837673202614378, 0.06417777777777772, 0.06479999999999991, 0.0837673202614378, 0.05220226082161557, 0.10084952753339838, 0.0, 0.09689546388493742, 0.07488547008546997, 0.3565922077922077, 0.03667301587301569, 0.2582784580498865, 0.1741968253968253, 0.3177987080103358, 0.2642677473826409, 0.3527133870712817, 0.06637575757575737, 0.027422848200312766, 0.1741968253968253, 0.20204947589098515, 0.21777777777777765, 0.2642677473826409, 0.2642677473826409, 0.3177987080103358, 0.20204947589098515, 0.1741968253968253, 0.014066362252663389, 0.1651492063492062, 0.03476825396825384, 0.07898803418803402, 0.1651492063492062, 0.10765304659498193, 0.04464541062801913, 0.13923314500941597, 0.006577777777777627, 0.06637575757575737, 0.01333576864535746, 0.10765304659498193, 0.3565922077922077, 0.2290614379084966, 0.04464541062801913, 0.020281481481481234, 0.15048582375478914, 0.3565922077922077, 0.04464541062801913, 0.11171438979963555, 0.006938138138137984, 0.0, 0.02892519561815321, 0.09271534391534375, 0.2290614379084966, 0.0501071895424835, 0.0501071895424835, 0.2642677473826409, 0.09271534391534375]\n",
      "i 46\n",
      "k 1\n",
      "m [2 2 2 2 2 2 2 2 2 2 2 2 2 2 2 2 2 2 2 2 2 2 2 2 2 1 2 2 2 2 2 2 1 2 2 2 2\n",
      " 1]\n",
      "n [1 1 1 1 1 1 1 1 1 1 1 1 1 1 1 1 1 1 2 1 1 1 1 1 1 1 1 1 1 1 1 1 1 2 1 1 2]\n",
      "j 0.3527133870712817\n",
      "X_jini_list [0.07488547008546997, 0.06479999999999991, 0.08871435654721642, 0.10084952753339838, 0.05220226082161557, 0.08871435654721642, 0.09689546388493742, 0.07849267139479887, 0.06637575757575737, 0.006577777777777627, 0.09709905946118275, 0.06417777777777772, 0.050669488536154994, 0.07849267139479887, 0.07849267139479887, 0.06417777777777772, 0.10084952753339838, 0.10084952753339838, 0.05220226082161557, 0.07849267139479887, 0.04232657004830909, 0.08871435654721642, 0.09689546388493742, 0.04267205387205367, 0.07849267139479887, 0.09709905946118275, 0.020281481481481234, 0.09689546388493742, 0.020281481481481234, 0.07775943562610219, 0.07775943562610219, 0.0727150813344361, 0.013434920634920515, 0.027422848200312766, 0.09689546388493742, 0.0837673202614378, 0.013434920634920515, 0.06257777777777773, 0.006577777777777627, 0.002503703703703456, 0.013434920634920515, 0.06257777777777773, 0.09709905946118275, 0.03476825396825384, 0.06637575757575737, 0.06257777777777773, 0.06637575757575737, 0.09689546388493742, 0.013434920634920515, 0.007422848200312766, 0.06417777777777772, 0.10084952753339838, 0.06257777777777773, 0.04267205387205367, 0.06257777777777773, 0.04267205387205367, 0.04267205387205367, 0.0727150813344361, 0.006577777777777627, 0.10084952753339838, 0.05220226082161557, 0.07775943562610219, 0.08871435654721642, 0.055668686868686645, 0.0837673202614378, 0.07849267139479887, 0.09709905946118275, 0.0837673202614378, 0.06417777777777772, 0.06479999999999991, 0.0837673202614378, 0.05220226082161557, 0.10084952753339838, 0.0, 0.09689546388493742, 0.07488547008546997, 0.3565922077922077, 0.03667301587301569, 0.2582784580498865, 0.1741968253968253, 0.3177987080103358, 0.2642677473826409, 0.3527133870712817, 0.06637575757575737, 0.027422848200312766, 0.1741968253968253, 0.20204947589098515, 0.21777777777777765, 0.2642677473826409, 0.2642677473826409, 0.3177987080103358, 0.20204947589098515, 0.1741968253968253, 0.014066362252663389, 0.1651492063492062, 0.03476825396825384, 0.07898803418803402, 0.1651492063492062, 0.10765304659498193, 0.04464541062801913, 0.13923314500941597, 0.006577777777777627, 0.06637575757575737, 0.01333576864535746, 0.10765304659498193, 0.3565922077922077, 0.2290614379084966, 0.04464541062801913, 0.020281481481481234, 0.15048582375478914, 0.3565922077922077, 0.04464541062801913, 0.11171438979963555, 0.006938138138137984, 0.0, 0.02892519561815321, 0.09271534391534375, 0.2290614379084966, 0.0501071895424835, 0.0501071895424835, 0.2642677473826409, 0.09271534391534375, 0.3527133870712817]\n",
      "i 47\n",
      "k 1\n",
      "m [2 1 2 1 2 1 2 2 2 1 2 1 1 1 2 2 1 2 2 2 2 2 2 1 2 2 2 2 2 2 2 2 1 2 2 1 2\n",
      " 2 2 1 2 1 2 2 2 2 1 1 2 2 1 2 1 2 2 1 1 1]\n",
      "n [1 1 1 1 1 1 1 1 1 1 1 1 1 1 1 1 1]\n",
      "j 0.15048582375478914\n",
      "X_jini_list [0.07488547008546997, 0.06479999999999991, 0.08871435654721642, 0.10084952753339838, 0.05220226082161557, 0.08871435654721642, 0.09689546388493742, 0.07849267139479887, 0.06637575757575737, 0.006577777777777627, 0.09709905946118275, 0.06417777777777772, 0.050669488536154994, 0.07849267139479887, 0.07849267139479887, 0.06417777777777772, 0.10084952753339838, 0.10084952753339838, 0.05220226082161557, 0.07849267139479887, 0.04232657004830909, 0.08871435654721642, 0.09689546388493742, 0.04267205387205367, 0.07849267139479887, 0.09709905946118275, 0.020281481481481234, 0.09689546388493742, 0.020281481481481234, 0.07775943562610219, 0.07775943562610219, 0.0727150813344361, 0.013434920634920515, 0.027422848200312766, 0.09689546388493742, 0.0837673202614378, 0.013434920634920515, 0.06257777777777773, 0.006577777777777627, 0.002503703703703456, 0.013434920634920515, 0.06257777777777773, 0.09709905946118275, 0.03476825396825384, 0.06637575757575737, 0.06257777777777773, 0.06637575757575737, 0.09689546388493742, 0.013434920634920515, 0.007422848200312766, 0.06417777777777772, 0.10084952753339838, 0.06257777777777773, 0.04267205387205367, 0.06257777777777773, 0.04267205387205367, 0.04267205387205367, 0.0727150813344361, 0.006577777777777627, 0.10084952753339838, 0.05220226082161557, 0.07775943562610219, 0.08871435654721642, 0.055668686868686645, 0.0837673202614378, 0.07849267139479887, 0.09709905946118275, 0.0837673202614378, 0.06417777777777772, 0.06479999999999991, 0.0837673202614378, 0.05220226082161557, 0.10084952753339838, 0.0, 0.09689546388493742, 0.07488547008546997, 0.3565922077922077, 0.03667301587301569, 0.2582784580498865, 0.1741968253968253, 0.3177987080103358, 0.2642677473826409, 0.3527133870712817, 0.06637575757575737, 0.027422848200312766, 0.1741968253968253, 0.20204947589098515, 0.21777777777777765, 0.2642677473826409, 0.2642677473826409, 0.3177987080103358, 0.20204947589098515, 0.1741968253968253, 0.014066362252663389, 0.1651492063492062, 0.03476825396825384, 0.07898803418803402, 0.1651492063492062, 0.10765304659498193, 0.04464541062801913, 0.13923314500941597, 0.006577777777777627, 0.06637575757575737, 0.01333576864535746, 0.10765304659498193, 0.3565922077922077, 0.2290614379084966, 0.04464541062801913, 0.020281481481481234, 0.15048582375478914, 0.3565922077922077, 0.04464541062801913, 0.11171438979963555, 0.006938138138137984, 0.0, 0.02892519561815321, 0.09271534391534375, 0.2290614379084966, 0.0501071895424835, 0.0501071895424835, 0.2642677473826409, 0.09271534391534375, 0.3527133870712817, 0.15048582375478914]\n",
      "i 48\n",
      "k 1\n",
      "m [2 1 2 2 1 2 2 2 2 1 1 1 2 2 2 2 2 2 2 2 1 2 2 2 2 2 2 2 2 1 2 2 2 2 2 1 2\n",
      " 2 2 2 2 1 1 2 2 1 2 1 2 1 1 1 1 1 1 2]\n",
      "n [1 1 1 1 1 1 1 1 1 1 1 1 1 1 1 1 1 1 1]\n",
      "j 0.1741968253968253\n",
      "X_jini_list [0.07488547008546997, 0.06479999999999991, 0.08871435654721642, 0.10084952753339838, 0.05220226082161557, 0.08871435654721642, 0.09689546388493742, 0.07849267139479887, 0.06637575757575737, 0.006577777777777627, 0.09709905946118275, 0.06417777777777772, 0.050669488536154994, 0.07849267139479887, 0.07849267139479887, 0.06417777777777772, 0.10084952753339838, 0.10084952753339838, 0.05220226082161557, 0.07849267139479887, 0.04232657004830909, 0.08871435654721642, 0.09689546388493742, 0.04267205387205367, 0.07849267139479887, 0.09709905946118275, 0.020281481481481234, 0.09689546388493742, 0.020281481481481234, 0.07775943562610219, 0.07775943562610219, 0.0727150813344361, 0.013434920634920515, 0.027422848200312766, 0.09689546388493742, 0.0837673202614378, 0.013434920634920515, 0.06257777777777773, 0.006577777777777627, 0.002503703703703456, 0.013434920634920515, 0.06257777777777773, 0.09709905946118275, 0.03476825396825384, 0.06637575757575737, 0.06257777777777773, 0.06637575757575737, 0.09689546388493742, 0.013434920634920515, 0.007422848200312766, 0.06417777777777772, 0.10084952753339838, 0.06257777777777773, 0.04267205387205367, 0.06257777777777773, 0.04267205387205367, 0.04267205387205367, 0.0727150813344361, 0.006577777777777627, 0.10084952753339838, 0.05220226082161557, 0.07775943562610219, 0.08871435654721642, 0.055668686868686645, 0.0837673202614378, 0.07849267139479887, 0.09709905946118275, 0.0837673202614378, 0.06417777777777772, 0.06479999999999991, 0.0837673202614378, 0.05220226082161557, 0.10084952753339838, 0.0, 0.09689546388493742, 0.07488547008546997, 0.3565922077922077, 0.03667301587301569, 0.2582784580498865, 0.1741968253968253, 0.3177987080103358, 0.2642677473826409, 0.3527133870712817, 0.06637575757575737, 0.027422848200312766, 0.1741968253968253, 0.20204947589098515, 0.21777777777777765, 0.2642677473826409, 0.2642677473826409, 0.3177987080103358, 0.20204947589098515, 0.1741968253968253, 0.014066362252663389, 0.1651492063492062, 0.03476825396825384, 0.07898803418803402, 0.1651492063492062, 0.10765304659498193, 0.04464541062801913, 0.13923314500941597, 0.006577777777777627, 0.06637575757575737, 0.01333576864535746, 0.10765304659498193, 0.3565922077922077, 0.2290614379084966, 0.04464541062801913, 0.020281481481481234, 0.15048582375478914, 0.3565922077922077, 0.04464541062801913, 0.11171438979963555, 0.006938138138137984, 0.0, 0.02892519561815321, 0.09271534391534375, 0.2290614379084966, 0.0501071895424835, 0.0501071895424835, 0.2642677473826409, 0.09271534391534375, 0.3527133870712817, 0.15048582375478914, 0.1741968253968253]\n",
      "i 49\n",
      "k 1\n",
      "m [2 2 2 2 2 2 2 2 2 2 2 2 2 2 2 2 2 2 2 2 2 2 2 2 2 2 2]\n",
      "n [1 1 1 2 1 2 1 1 1 1 2 1 1 1 1 1 1 1 1 1 1 2 1 1 1 1 1 2 1 1 1 1 2 1 1 1 2\n",
      " 2 1 1 1 2 2 1 1 1 2 1]\n",
      "j 0.2737999999999998\n",
      "X_jini_list [0.07488547008546997, 0.06479999999999991, 0.08871435654721642, 0.10084952753339838, 0.05220226082161557, 0.08871435654721642, 0.09689546388493742, 0.07849267139479887, 0.06637575757575737, 0.006577777777777627, 0.09709905946118275, 0.06417777777777772, 0.050669488536154994, 0.07849267139479887, 0.07849267139479887, 0.06417777777777772, 0.10084952753339838, 0.10084952753339838, 0.05220226082161557, 0.07849267139479887, 0.04232657004830909, 0.08871435654721642, 0.09689546388493742, 0.04267205387205367, 0.07849267139479887, 0.09709905946118275, 0.020281481481481234, 0.09689546388493742, 0.020281481481481234, 0.07775943562610219, 0.07775943562610219, 0.0727150813344361, 0.013434920634920515, 0.027422848200312766, 0.09689546388493742, 0.0837673202614378, 0.013434920634920515, 0.06257777777777773, 0.006577777777777627, 0.002503703703703456, 0.013434920634920515, 0.06257777777777773, 0.09709905946118275, 0.03476825396825384, 0.06637575757575737, 0.06257777777777773, 0.06637575757575737, 0.09689546388493742, 0.013434920634920515, 0.007422848200312766, 0.06417777777777772, 0.10084952753339838, 0.06257777777777773, 0.04267205387205367, 0.06257777777777773, 0.04267205387205367, 0.04267205387205367, 0.0727150813344361, 0.006577777777777627, 0.10084952753339838, 0.05220226082161557, 0.07775943562610219, 0.08871435654721642, 0.055668686868686645, 0.0837673202614378, 0.07849267139479887, 0.09709905946118275, 0.0837673202614378, 0.06417777777777772, 0.06479999999999991, 0.0837673202614378, 0.05220226082161557, 0.10084952753339838, 0.0, 0.09689546388493742, 0.07488547008546997, 0.3565922077922077, 0.03667301587301569, 0.2582784580498865, 0.1741968253968253, 0.3177987080103358, 0.2642677473826409, 0.3527133870712817, 0.06637575757575737, 0.027422848200312766, 0.1741968253968253, 0.20204947589098515, 0.21777777777777765, 0.2642677473826409, 0.2642677473826409, 0.3177987080103358, 0.20204947589098515, 0.1741968253968253, 0.014066362252663389, 0.1651492063492062, 0.03476825396825384, 0.07898803418803402, 0.1651492063492062, 0.10765304659498193, 0.04464541062801913, 0.13923314500941597, 0.006577777777777627, 0.06637575757575737, 0.01333576864535746, 0.10765304659498193, 0.3565922077922077, 0.2290614379084966, 0.04464541062801913, 0.020281481481481234, 0.15048582375478914, 0.3565922077922077, 0.04464541062801913, 0.11171438979963555, 0.006938138138137984, 0.0, 0.02892519561815321, 0.09271534391534375, 0.2290614379084966, 0.0501071895424835, 0.0501071895424835, 0.2642677473826409, 0.09271534391534375, 0.3527133870712817, 0.15048582375478914, 0.1741968253968253, 0.2737999999999998]\n",
      "i 50\n",
      "k 1\n",
      "m [2 2 2 2 2 2 2 2 2 2 2 2 2 2 2 2 2 2 2]\n",
      "n [1 1 2 1 2 1 2 1 2 1 1 1 2 2 1 1 1 1 1 1 1 1 2 1 1 2 1 1 1 1 2 1 2 1 1 2 1\n",
      " 1 2 1 1 2 1 2 2 1 1 1 2 2 1 2 1 1 2 1]\n",
      "j 0.1651492063492062\n",
      "X_jini_list [0.07488547008546997, 0.06479999999999991, 0.08871435654721642, 0.10084952753339838, 0.05220226082161557, 0.08871435654721642, 0.09689546388493742, 0.07849267139479887, 0.06637575757575737, 0.006577777777777627, 0.09709905946118275, 0.06417777777777772, 0.050669488536154994, 0.07849267139479887, 0.07849267139479887, 0.06417777777777772, 0.10084952753339838, 0.10084952753339838, 0.05220226082161557, 0.07849267139479887, 0.04232657004830909, 0.08871435654721642, 0.09689546388493742, 0.04267205387205367, 0.07849267139479887, 0.09709905946118275, 0.020281481481481234, 0.09689546388493742, 0.020281481481481234, 0.07775943562610219, 0.07775943562610219, 0.0727150813344361, 0.013434920634920515, 0.027422848200312766, 0.09689546388493742, 0.0837673202614378, 0.013434920634920515, 0.06257777777777773, 0.006577777777777627, 0.002503703703703456, 0.013434920634920515, 0.06257777777777773, 0.09709905946118275, 0.03476825396825384, 0.06637575757575737, 0.06257777777777773, 0.06637575757575737, 0.09689546388493742, 0.013434920634920515, 0.007422848200312766, 0.06417777777777772, 0.10084952753339838, 0.06257777777777773, 0.04267205387205367, 0.06257777777777773, 0.04267205387205367, 0.04267205387205367, 0.0727150813344361, 0.006577777777777627, 0.10084952753339838, 0.05220226082161557, 0.07775943562610219, 0.08871435654721642, 0.055668686868686645, 0.0837673202614378, 0.07849267139479887, 0.09709905946118275, 0.0837673202614378, 0.06417777777777772, 0.06479999999999991, 0.0837673202614378, 0.05220226082161557, 0.10084952753339838, 0.0, 0.09689546388493742, 0.07488547008546997, 0.3565922077922077, 0.03667301587301569, 0.2582784580498865, 0.1741968253968253, 0.3177987080103358, 0.2642677473826409, 0.3527133870712817, 0.06637575757575737, 0.027422848200312766, 0.1741968253968253, 0.20204947589098515, 0.21777777777777765, 0.2642677473826409, 0.2642677473826409, 0.3177987080103358, 0.20204947589098515, 0.1741968253968253, 0.014066362252663389, 0.1651492063492062, 0.03476825396825384, 0.07898803418803402, 0.1651492063492062, 0.10765304659498193, 0.04464541062801913, 0.13923314500941597, 0.006577777777777627, 0.06637575757575737, 0.01333576864535746, 0.10765304659498193, 0.3565922077922077, 0.2290614379084966, 0.04464541062801913, 0.020281481481481234, 0.15048582375478914, 0.3565922077922077, 0.04464541062801913, 0.11171438979963555, 0.006938138138137984, 0.0, 0.02892519561815321, 0.09271534391534375, 0.2290614379084966, 0.0501071895424835, 0.0501071895424835, 0.2642677473826409, 0.09271534391534375, 0.3527133870712817, 0.15048582375478914, 0.1741968253968253, 0.2737999999999998, 0.1651492063492062]\n",
      "i 51\n",
      "k 1\n",
      "m [2 2 2 2 2 2 2 2 2 2 2 2 2 2 2 2 2 2 2]\n",
      "n [1 1 2 1 2 1 2 1 2 1 1 1 2 2 1 1 1 1 1 1 1 1 2 1 1 2 1 1 1 1 2 1 2 1 1 2 1\n",
      " 1 2 1 1 2 1 2 2 1 1 1 2 2 1 2 1 1 2 1]\n",
      "j 0.1651492063492062\n",
      "X_jini_list [0.07488547008546997, 0.06479999999999991, 0.08871435654721642, 0.10084952753339838, 0.05220226082161557, 0.08871435654721642, 0.09689546388493742, 0.07849267139479887, 0.06637575757575737, 0.006577777777777627, 0.09709905946118275, 0.06417777777777772, 0.050669488536154994, 0.07849267139479887, 0.07849267139479887, 0.06417777777777772, 0.10084952753339838, 0.10084952753339838, 0.05220226082161557, 0.07849267139479887, 0.04232657004830909, 0.08871435654721642, 0.09689546388493742, 0.04267205387205367, 0.07849267139479887, 0.09709905946118275, 0.020281481481481234, 0.09689546388493742, 0.020281481481481234, 0.07775943562610219, 0.07775943562610219, 0.0727150813344361, 0.013434920634920515, 0.027422848200312766, 0.09689546388493742, 0.0837673202614378, 0.013434920634920515, 0.06257777777777773, 0.006577777777777627, 0.002503703703703456, 0.013434920634920515, 0.06257777777777773, 0.09709905946118275, 0.03476825396825384, 0.06637575757575737, 0.06257777777777773, 0.06637575757575737, 0.09689546388493742, 0.013434920634920515, 0.007422848200312766, 0.06417777777777772, 0.10084952753339838, 0.06257777777777773, 0.04267205387205367, 0.06257777777777773, 0.04267205387205367, 0.04267205387205367, 0.0727150813344361, 0.006577777777777627, 0.10084952753339838, 0.05220226082161557, 0.07775943562610219, 0.08871435654721642, 0.055668686868686645, 0.0837673202614378, 0.07849267139479887, 0.09709905946118275, 0.0837673202614378, 0.06417777777777772, 0.06479999999999991, 0.0837673202614378, 0.05220226082161557, 0.10084952753339838, 0.0, 0.09689546388493742, 0.07488547008546997, 0.3565922077922077, 0.03667301587301569, 0.2582784580498865, 0.1741968253968253, 0.3177987080103358, 0.2642677473826409, 0.3527133870712817, 0.06637575757575737, 0.027422848200312766, 0.1741968253968253, 0.20204947589098515, 0.21777777777777765, 0.2642677473826409, 0.2642677473826409, 0.3177987080103358, 0.20204947589098515, 0.1741968253968253, 0.014066362252663389, 0.1651492063492062, 0.03476825396825384, 0.07898803418803402, 0.1651492063492062, 0.10765304659498193, 0.04464541062801913, 0.13923314500941597, 0.006577777777777627, 0.06637575757575737, 0.01333576864535746, 0.10765304659498193, 0.3565922077922077, 0.2290614379084966, 0.04464541062801913, 0.020281481481481234, 0.15048582375478914, 0.3565922077922077, 0.04464541062801913, 0.11171438979963555, 0.006938138138137984, 0.0, 0.02892519561815321, 0.09271534391534375, 0.2290614379084966, 0.0501071895424835, 0.0501071895424835, 0.2642677473826409, 0.09271534391534375, 0.3527133870712817, 0.15048582375478914, 0.1741968253968253, 0.2737999999999998, 0.1651492063492062, 0.1651492063492062]\n",
      "i 52\n",
      "k 1\n",
      "m [2 1 2 1 2 1 2 2 2 1 2 1 1 1 2 2 1 2 2 2 1 1 2 2 2 1 1 2 2 1 2 2 2 2 2 2 1\n",
      " 2 2 1 1 2 2 2 1 2 1 2 2 2 2 1 1 2 2 1 2 1 1 2 2 1 1 1 1]\n",
      "n [1 1 1 1 1 1 1 1 1 1]\n",
      "j 0.07898803418803402\n",
      "X_jini_list [0.07488547008546997, 0.06479999999999991, 0.08871435654721642, 0.10084952753339838, 0.05220226082161557, 0.08871435654721642, 0.09689546388493742, 0.07849267139479887, 0.06637575757575737, 0.006577777777777627, 0.09709905946118275, 0.06417777777777772, 0.050669488536154994, 0.07849267139479887, 0.07849267139479887, 0.06417777777777772, 0.10084952753339838, 0.10084952753339838, 0.05220226082161557, 0.07849267139479887, 0.04232657004830909, 0.08871435654721642, 0.09689546388493742, 0.04267205387205367, 0.07849267139479887, 0.09709905946118275, 0.020281481481481234, 0.09689546388493742, 0.020281481481481234, 0.07775943562610219, 0.07775943562610219, 0.0727150813344361, 0.013434920634920515, 0.027422848200312766, 0.09689546388493742, 0.0837673202614378, 0.013434920634920515, 0.06257777777777773, 0.006577777777777627, 0.002503703703703456, 0.013434920634920515, 0.06257777777777773, 0.09709905946118275, 0.03476825396825384, 0.06637575757575737, 0.06257777777777773, 0.06637575757575737, 0.09689546388493742, 0.013434920634920515, 0.007422848200312766, 0.06417777777777772, 0.10084952753339838, 0.06257777777777773, 0.04267205387205367, 0.06257777777777773, 0.04267205387205367, 0.04267205387205367, 0.0727150813344361, 0.006577777777777627, 0.10084952753339838, 0.05220226082161557, 0.07775943562610219, 0.08871435654721642, 0.055668686868686645, 0.0837673202614378, 0.07849267139479887, 0.09709905946118275, 0.0837673202614378, 0.06417777777777772, 0.06479999999999991, 0.0837673202614378, 0.05220226082161557, 0.10084952753339838, 0.0, 0.09689546388493742, 0.07488547008546997, 0.3565922077922077, 0.03667301587301569, 0.2582784580498865, 0.1741968253968253, 0.3177987080103358, 0.2642677473826409, 0.3527133870712817, 0.06637575757575737, 0.027422848200312766, 0.1741968253968253, 0.20204947589098515, 0.21777777777777765, 0.2642677473826409, 0.2642677473826409, 0.3177987080103358, 0.20204947589098515, 0.1741968253968253, 0.014066362252663389, 0.1651492063492062, 0.03476825396825384, 0.07898803418803402, 0.1651492063492062, 0.10765304659498193, 0.04464541062801913, 0.13923314500941597, 0.006577777777777627, 0.06637575757575737, 0.01333576864535746, 0.10765304659498193, 0.3565922077922077, 0.2290614379084966, 0.04464541062801913, 0.020281481481481234, 0.15048582375478914, 0.3565922077922077, 0.04464541062801913, 0.11171438979963555, 0.006938138138137984, 0.0, 0.02892519561815321, 0.09271534391534375, 0.2290614379084966, 0.0501071895424835, 0.0501071895424835, 0.2642677473826409, 0.09271534391534375, 0.3527133870712817, 0.15048582375478914, 0.1741968253968253, 0.2737999999999998, 0.1651492063492062, 0.1651492063492062, 0.07898803418803402]\n",
      "i 53\n",
      "k 1\n",
      "m [2 2 2 2 2 2 2 2 2 2 2 2 2 2 2 2 2 2 2 2 2 2 2 2 2 2 2 2 2 2 1 2 1 2]\n",
      "n [1 1 1 1 2 1 1 1 1 1 1 1 1 1 1 1 1 1 1 2 1 1 1 1 1 2 1 1 1 2 1 1 1 1 1 1 2\n",
      " 1 1 2 1]\n",
      "j 0.3131296668260799\n",
      "X_jini_list [0.07488547008546997, 0.06479999999999991, 0.08871435654721642, 0.10084952753339838, 0.05220226082161557, 0.08871435654721642, 0.09689546388493742, 0.07849267139479887, 0.06637575757575737, 0.006577777777777627, 0.09709905946118275, 0.06417777777777772, 0.050669488536154994, 0.07849267139479887, 0.07849267139479887, 0.06417777777777772, 0.10084952753339838, 0.10084952753339838, 0.05220226082161557, 0.07849267139479887, 0.04232657004830909, 0.08871435654721642, 0.09689546388493742, 0.04267205387205367, 0.07849267139479887, 0.09709905946118275, 0.020281481481481234, 0.09689546388493742, 0.020281481481481234, 0.07775943562610219, 0.07775943562610219, 0.0727150813344361, 0.013434920634920515, 0.027422848200312766, 0.09689546388493742, 0.0837673202614378, 0.013434920634920515, 0.06257777777777773, 0.006577777777777627, 0.002503703703703456, 0.013434920634920515, 0.06257777777777773, 0.09709905946118275, 0.03476825396825384, 0.06637575757575737, 0.06257777777777773, 0.06637575757575737, 0.09689546388493742, 0.013434920634920515, 0.007422848200312766, 0.06417777777777772, 0.10084952753339838, 0.06257777777777773, 0.04267205387205367, 0.06257777777777773, 0.04267205387205367, 0.04267205387205367, 0.0727150813344361, 0.006577777777777627, 0.10084952753339838, 0.05220226082161557, 0.07775943562610219, 0.08871435654721642, 0.055668686868686645, 0.0837673202614378, 0.07849267139479887, 0.09709905946118275, 0.0837673202614378, 0.06417777777777772, 0.06479999999999991, 0.0837673202614378, 0.05220226082161557, 0.10084952753339838, 0.0, 0.09689546388493742, 0.07488547008546997, 0.3565922077922077, 0.03667301587301569, 0.2582784580498865, 0.1741968253968253, 0.3177987080103358, 0.2642677473826409, 0.3527133870712817, 0.06637575757575737, 0.027422848200312766, 0.1741968253968253, 0.20204947589098515, 0.21777777777777765, 0.2642677473826409, 0.2642677473826409, 0.3177987080103358, 0.20204947589098515, 0.1741968253968253, 0.014066362252663389, 0.1651492063492062, 0.03476825396825384, 0.07898803418803402, 0.1651492063492062, 0.10765304659498193, 0.04464541062801913, 0.13923314500941597, 0.006577777777777627, 0.06637575757575737, 0.01333576864535746, 0.10765304659498193, 0.3565922077922077, 0.2290614379084966, 0.04464541062801913, 0.020281481481481234, 0.15048582375478914, 0.3565922077922077, 0.04464541062801913, 0.11171438979963555, 0.006938138138137984, 0.0, 0.02892519561815321, 0.09271534391534375, 0.2290614379084966, 0.0501071895424835, 0.0501071895424835, 0.2642677473826409, 0.09271534391534375, 0.3527133870712817, 0.15048582375478914, 0.1741968253968253, 0.2737999999999998, 0.1651492063492062, 0.1651492063492062, 0.07898803418803402, 0.3131296668260799]\n",
      "i 54\n",
      "k 1\n",
      "m [2 2 2 2 2 2 2 2 2 2 2 2 2 2 2 2 2 2 2 2 2 2 2 2 2 1 2 2 2 2 2 2 1 2 2 2 2\n",
      " 1]\n",
      "n [1 1 1 1 1 1 1 1 1 1 1 1 1 1 1 1 1 1 2 1 1 1 1 1 1 1 1 1 1 1 1 1 1 2 1 1 2]\n",
      "j 0.3527133870712817\n",
      "X_jini_list [0.07488547008546997, 0.06479999999999991, 0.08871435654721642, 0.10084952753339838, 0.05220226082161557, 0.08871435654721642, 0.09689546388493742, 0.07849267139479887, 0.06637575757575737, 0.006577777777777627, 0.09709905946118275, 0.06417777777777772, 0.050669488536154994, 0.07849267139479887, 0.07849267139479887, 0.06417777777777772, 0.10084952753339838, 0.10084952753339838, 0.05220226082161557, 0.07849267139479887, 0.04232657004830909, 0.08871435654721642, 0.09689546388493742, 0.04267205387205367, 0.07849267139479887, 0.09709905946118275, 0.020281481481481234, 0.09689546388493742, 0.020281481481481234, 0.07775943562610219, 0.07775943562610219, 0.0727150813344361, 0.013434920634920515, 0.027422848200312766, 0.09689546388493742, 0.0837673202614378, 0.013434920634920515, 0.06257777777777773, 0.006577777777777627, 0.002503703703703456, 0.013434920634920515, 0.06257777777777773, 0.09709905946118275, 0.03476825396825384, 0.06637575757575737, 0.06257777777777773, 0.06637575757575737, 0.09689546388493742, 0.013434920634920515, 0.007422848200312766, 0.06417777777777772, 0.10084952753339838, 0.06257777777777773, 0.04267205387205367, 0.06257777777777773, 0.04267205387205367, 0.04267205387205367, 0.0727150813344361, 0.006577777777777627, 0.10084952753339838, 0.05220226082161557, 0.07775943562610219, 0.08871435654721642, 0.055668686868686645, 0.0837673202614378, 0.07849267139479887, 0.09709905946118275, 0.0837673202614378, 0.06417777777777772, 0.06479999999999991, 0.0837673202614378, 0.05220226082161557, 0.10084952753339838, 0.0, 0.09689546388493742, 0.07488547008546997, 0.3565922077922077, 0.03667301587301569, 0.2582784580498865, 0.1741968253968253, 0.3177987080103358, 0.2642677473826409, 0.3527133870712817, 0.06637575757575737, 0.027422848200312766, 0.1741968253968253, 0.20204947589098515, 0.21777777777777765, 0.2642677473826409, 0.2642677473826409, 0.3177987080103358, 0.20204947589098515, 0.1741968253968253, 0.014066362252663389, 0.1651492063492062, 0.03476825396825384, 0.07898803418803402, 0.1651492063492062, 0.10765304659498193, 0.04464541062801913, 0.13923314500941597, 0.006577777777777627, 0.06637575757575737, 0.01333576864535746, 0.10765304659498193, 0.3565922077922077, 0.2290614379084966, 0.04464541062801913, 0.020281481481481234, 0.15048582375478914, 0.3565922077922077, 0.04464541062801913, 0.11171438979963555, 0.006938138138137984, 0.0, 0.02892519561815321, 0.09271534391534375, 0.2290614379084966, 0.0501071895424835, 0.0501071895424835, 0.2642677473826409, 0.09271534391534375, 0.3527133870712817, 0.15048582375478914, 0.1741968253968253, 0.2737999999999998, 0.1651492063492062, 0.1651492063492062, 0.07898803418803402, 0.3131296668260799, 0.3527133870712817]\n",
      "i 55\n",
      "k 1\n",
      "m [2 1 2 2 1 2 2 2 2 1 1 1 2 2 2 2 2 2 2 2 1 2 2 2 2 2 2 2 2 1 2 2 2 2 2 1 2\n",
      " 2 2 2 2 1 1 2 2 1 2 1 2 1 1 1 1 1 1 2]\n",
      "n [1 1 1 1 1 1 1 1 1 1 1 1 1 1 1 1 1 1 1]\n",
      "j 0.1741968253968253\n",
      "X_jini_list [0.07488547008546997, 0.06479999999999991, 0.08871435654721642, 0.10084952753339838, 0.05220226082161557, 0.08871435654721642, 0.09689546388493742, 0.07849267139479887, 0.06637575757575737, 0.006577777777777627, 0.09709905946118275, 0.06417777777777772, 0.050669488536154994, 0.07849267139479887, 0.07849267139479887, 0.06417777777777772, 0.10084952753339838, 0.10084952753339838, 0.05220226082161557, 0.07849267139479887, 0.04232657004830909, 0.08871435654721642, 0.09689546388493742, 0.04267205387205367, 0.07849267139479887, 0.09709905946118275, 0.020281481481481234, 0.09689546388493742, 0.020281481481481234, 0.07775943562610219, 0.07775943562610219, 0.0727150813344361, 0.013434920634920515, 0.027422848200312766, 0.09689546388493742, 0.0837673202614378, 0.013434920634920515, 0.06257777777777773, 0.006577777777777627, 0.002503703703703456, 0.013434920634920515, 0.06257777777777773, 0.09709905946118275, 0.03476825396825384, 0.06637575757575737, 0.06257777777777773, 0.06637575757575737, 0.09689546388493742, 0.013434920634920515, 0.007422848200312766, 0.06417777777777772, 0.10084952753339838, 0.06257777777777773, 0.04267205387205367, 0.06257777777777773, 0.04267205387205367, 0.04267205387205367, 0.0727150813344361, 0.006577777777777627, 0.10084952753339838, 0.05220226082161557, 0.07775943562610219, 0.08871435654721642, 0.055668686868686645, 0.0837673202614378, 0.07849267139479887, 0.09709905946118275, 0.0837673202614378, 0.06417777777777772, 0.06479999999999991, 0.0837673202614378, 0.05220226082161557, 0.10084952753339838, 0.0, 0.09689546388493742, 0.07488547008546997, 0.3565922077922077, 0.03667301587301569, 0.2582784580498865, 0.1741968253968253, 0.3177987080103358, 0.2642677473826409, 0.3527133870712817, 0.06637575757575737, 0.027422848200312766, 0.1741968253968253, 0.20204947589098515, 0.21777777777777765, 0.2642677473826409, 0.2642677473826409, 0.3177987080103358, 0.20204947589098515, 0.1741968253968253, 0.014066362252663389, 0.1651492063492062, 0.03476825396825384, 0.07898803418803402, 0.1651492063492062, 0.10765304659498193, 0.04464541062801913, 0.13923314500941597, 0.006577777777777627, 0.06637575757575737, 0.01333576864535746, 0.10765304659498193, 0.3565922077922077, 0.2290614379084966, 0.04464541062801913, 0.020281481481481234, 0.15048582375478914, 0.3565922077922077, 0.04464541062801913, 0.11171438979963555, 0.006938138138137984, 0.0, 0.02892519561815321, 0.09271534391534375, 0.2290614379084966, 0.0501071895424835, 0.0501071895424835, 0.2642677473826409, 0.09271534391534375, 0.3527133870712817, 0.15048582375478914, 0.1741968253968253, 0.2737999999999998, 0.1651492063492062, 0.1651492063492062, 0.07898803418803402, 0.3131296668260799, 0.3527133870712817, 0.1741968253968253]\n",
      "i 56\n",
      "k 1\n",
      "m [2 2 2 2 2 2 2 2 2 2 2 2 2 2]\n",
      "n [1 1 2 1 2 1 2 1 2 1 1 1 2 2 1 1 2 1 2 1 1 1 1 1 2 1 1 2 1 1 1 1 2 1 2 1 1\n",
      " 2 2 2 1 1 2 1 1 2 1 2 2 1 1 1 2 2 1 2 1 1 2 2 1]\n",
      "j 0.11171438979963555\n",
      "X_jini_list [0.07488547008546997, 0.06479999999999991, 0.08871435654721642, 0.10084952753339838, 0.05220226082161557, 0.08871435654721642, 0.09689546388493742, 0.07849267139479887, 0.06637575757575737, 0.006577777777777627, 0.09709905946118275, 0.06417777777777772, 0.050669488536154994, 0.07849267139479887, 0.07849267139479887, 0.06417777777777772, 0.10084952753339838, 0.10084952753339838, 0.05220226082161557, 0.07849267139479887, 0.04232657004830909, 0.08871435654721642, 0.09689546388493742, 0.04267205387205367, 0.07849267139479887, 0.09709905946118275, 0.020281481481481234, 0.09689546388493742, 0.020281481481481234, 0.07775943562610219, 0.07775943562610219, 0.0727150813344361, 0.013434920634920515, 0.027422848200312766, 0.09689546388493742, 0.0837673202614378, 0.013434920634920515, 0.06257777777777773, 0.006577777777777627, 0.002503703703703456, 0.013434920634920515, 0.06257777777777773, 0.09709905946118275, 0.03476825396825384, 0.06637575757575737, 0.06257777777777773, 0.06637575757575737, 0.09689546388493742, 0.013434920634920515, 0.007422848200312766, 0.06417777777777772, 0.10084952753339838, 0.06257777777777773, 0.04267205387205367, 0.06257777777777773, 0.04267205387205367, 0.04267205387205367, 0.0727150813344361, 0.006577777777777627, 0.10084952753339838, 0.05220226082161557, 0.07775943562610219, 0.08871435654721642, 0.055668686868686645, 0.0837673202614378, 0.07849267139479887, 0.09709905946118275, 0.0837673202614378, 0.06417777777777772, 0.06479999999999991, 0.0837673202614378, 0.05220226082161557, 0.10084952753339838, 0.0, 0.09689546388493742, 0.07488547008546997, 0.3565922077922077, 0.03667301587301569, 0.2582784580498865, 0.1741968253968253, 0.3177987080103358, 0.2642677473826409, 0.3527133870712817, 0.06637575757575737, 0.027422848200312766, 0.1741968253968253, 0.20204947589098515, 0.21777777777777765, 0.2642677473826409, 0.2642677473826409, 0.3177987080103358, 0.20204947589098515, 0.1741968253968253, 0.014066362252663389, 0.1651492063492062, 0.03476825396825384, 0.07898803418803402, 0.1651492063492062, 0.10765304659498193, 0.04464541062801913, 0.13923314500941597, 0.006577777777777627, 0.06637575757575737, 0.01333576864535746, 0.10765304659498193, 0.3565922077922077, 0.2290614379084966, 0.04464541062801913, 0.020281481481481234, 0.15048582375478914, 0.3565922077922077, 0.04464541062801913, 0.11171438979963555, 0.006938138138137984, 0.0, 0.02892519561815321, 0.09271534391534375, 0.2290614379084966, 0.0501071895424835, 0.0501071895424835, 0.2642677473826409, 0.09271534391534375, 0.3527133870712817, 0.15048582375478914, 0.1741968253968253, 0.2737999999999998, 0.1651492063492062, 0.1651492063492062, 0.07898803418803402, 0.3131296668260799, 0.3527133870712817, 0.1741968253968253, 0.11171438979963555]\n",
      "i 57\n",
      "k 1\n",
      "m [2 1 1 2 1 2 1 2 2 2 1 2 1 1 1 2 2 1 2 2 1 2 1 1 1 2 2 2 1 1 2 1 2 1 2 1 2\n",
      " 1 2 2 2 2 1 2 2 1 1 2 2 2 1 1 2 1 2 2 1 2 2 1 1 1 2 2 1 2 1 1 2 2 1 1 1]\n",
      "n [1 1]\n",
      "j 0.014066362252663389\n",
      "X_jini_list [0.07488547008546997, 0.06479999999999991, 0.08871435654721642, 0.10084952753339838, 0.05220226082161557, 0.08871435654721642, 0.09689546388493742, 0.07849267139479887, 0.06637575757575737, 0.006577777777777627, 0.09709905946118275, 0.06417777777777772, 0.050669488536154994, 0.07849267139479887, 0.07849267139479887, 0.06417777777777772, 0.10084952753339838, 0.10084952753339838, 0.05220226082161557, 0.07849267139479887, 0.04232657004830909, 0.08871435654721642, 0.09689546388493742, 0.04267205387205367, 0.07849267139479887, 0.09709905946118275, 0.020281481481481234, 0.09689546388493742, 0.020281481481481234, 0.07775943562610219, 0.07775943562610219, 0.0727150813344361, 0.013434920634920515, 0.027422848200312766, 0.09689546388493742, 0.0837673202614378, 0.013434920634920515, 0.06257777777777773, 0.006577777777777627, 0.002503703703703456, 0.013434920634920515, 0.06257777777777773, 0.09709905946118275, 0.03476825396825384, 0.06637575757575737, 0.06257777777777773, 0.06637575757575737, 0.09689546388493742, 0.013434920634920515, 0.007422848200312766, 0.06417777777777772, 0.10084952753339838, 0.06257777777777773, 0.04267205387205367, 0.06257777777777773, 0.04267205387205367, 0.04267205387205367, 0.0727150813344361, 0.006577777777777627, 0.10084952753339838, 0.05220226082161557, 0.07775943562610219, 0.08871435654721642, 0.055668686868686645, 0.0837673202614378, 0.07849267139479887, 0.09709905946118275, 0.0837673202614378, 0.06417777777777772, 0.06479999999999991, 0.0837673202614378, 0.05220226082161557, 0.10084952753339838, 0.0, 0.09689546388493742, 0.07488547008546997, 0.3565922077922077, 0.03667301587301569, 0.2582784580498865, 0.1741968253968253, 0.3177987080103358, 0.2642677473826409, 0.3527133870712817, 0.06637575757575737, 0.027422848200312766, 0.1741968253968253, 0.20204947589098515, 0.21777777777777765, 0.2642677473826409, 0.2642677473826409, 0.3177987080103358, 0.20204947589098515, 0.1741968253968253, 0.014066362252663389, 0.1651492063492062, 0.03476825396825384, 0.07898803418803402, 0.1651492063492062, 0.10765304659498193, 0.04464541062801913, 0.13923314500941597, 0.006577777777777627, 0.06637575757575737, 0.01333576864535746, 0.10765304659498193, 0.3565922077922077, 0.2290614379084966, 0.04464541062801913, 0.020281481481481234, 0.15048582375478914, 0.3565922077922077, 0.04464541062801913, 0.11171438979963555, 0.006938138138137984, 0.0, 0.02892519561815321, 0.09271534391534375, 0.2290614379084966, 0.0501071895424835, 0.0501071895424835, 0.2642677473826409, 0.09271534391534375, 0.3527133870712817, 0.15048582375478914, 0.1741968253968253, 0.2737999999999998, 0.1651492063492062, 0.1651492063492062, 0.07898803418803402, 0.3131296668260799, 0.3527133870712817, 0.1741968253968253, 0.11171438979963555, 0.014066362252663389]\n",
      "i 58\n",
      "k 1\n",
      "m [2 2 2 2 2 2 2 2 2 2 2 2 2 2 2 2 2 2 2 2 2 2 2 2 2 2]\n",
      "n [1 1 1 2 1 2 1 1 1 1 2 1 1 1 1 1 1 1 1 1 1 2 1 1 1 1 1 2 1 1 2 1 1 2 1 1 1\n",
      " 2 2 1 1 1 2 2 1 1 1 2 1]\n",
      "j 0.2582784580498865\n",
      "X_jini_list [0.07488547008546997, 0.06479999999999991, 0.08871435654721642, 0.10084952753339838, 0.05220226082161557, 0.08871435654721642, 0.09689546388493742, 0.07849267139479887, 0.06637575757575737, 0.006577777777777627, 0.09709905946118275, 0.06417777777777772, 0.050669488536154994, 0.07849267139479887, 0.07849267139479887, 0.06417777777777772, 0.10084952753339838, 0.10084952753339838, 0.05220226082161557, 0.07849267139479887, 0.04232657004830909, 0.08871435654721642, 0.09689546388493742, 0.04267205387205367, 0.07849267139479887, 0.09709905946118275, 0.020281481481481234, 0.09689546388493742, 0.020281481481481234, 0.07775943562610219, 0.07775943562610219, 0.0727150813344361, 0.013434920634920515, 0.027422848200312766, 0.09689546388493742, 0.0837673202614378, 0.013434920634920515, 0.06257777777777773, 0.006577777777777627, 0.002503703703703456, 0.013434920634920515, 0.06257777777777773, 0.09709905946118275, 0.03476825396825384, 0.06637575757575737, 0.06257777777777773, 0.06637575757575737, 0.09689546388493742, 0.013434920634920515, 0.007422848200312766, 0.06417777777777772, 0.10084952753339838, 0.06257777777777773, 0.04267205387205367, 0.06257777777777773, 0.04267205387205367, 0.04267205387205367, 0.0727150813344361, 0.006577777777777627, 0.10084952753339838, 0.05220226082161557, 0.07775943562610219, 0.08871435654721642, 0.055668686868686645, 0.0837673202614378, 0.07849267139479887, 0.09709905946118275, 0.0837673202614378, 0.06417777777777772, 0.06479999999999991, 0.0837673202614378, 0.05220226082161557, 0.10084952753339838, 0.0, 0.09689546388493742, 0.07488547008546997, 0.3565922077922077, 0.03667301587301569, 0.2582784580498865, 0.1741968253968253, 0.3177987080103358, 0.2642677473826409, 0.3527133870712817, 0.06637575757575737, 0.027422848200312766, 0.1741968253968253, 0.20204947589098515, 0.21777777777777765, 0.2642677473826409, 0.2642677473826409, 0.3177987080103358, 0.20204947589098515, 0.1741968253968253, 0.014066362252663389, 0.1651492063492062, 0.03476825396825384, 0.07898803418803402, 0.1651492063492062, 0.10765304659498193, 0.04464541062801913, 0.13923314500941597, 0.006577777777777627, 0.06637575757575737, 0.01333576864535746, 0.10765304659498193, 0.3565922077922077, 0.2290614379084966, 0.04464541062801913, 0.020281481481481234, 0.15048582375478914, 0.3565922077922077, 0.04464541062801913, 0.11171438979963555, 0.006938138138137984, 0.0, 0.02892519561815321, 0.09271534391534375, 0.2290614379084966, 0.0501071895424835, 0.0501071895424835, 0.2642677473826409, 0.09271534391534375, 0.3527133870712817, 0.15048582375478914, 0.1741968253968253, 0.2737999999999998, 0.1651492063492062, 0.1651492063492062, 0.07898803418803402, 0.3131296668260799, 0.3527133870712817, 0.1741968253968253, 0.11171438979963555, 0.014066362252663389, 0.2582784580498865]\n",
      "i 59\n",
      "k 1\n",
      "m [2 1 2 1 2 1 2 2 2 1 2 1 1 1 2 2 1 2 2 2 1 1 2 2 2 1 1 2 2 1 2 2 2 2 2 2 1\n",
      " 2 2 1 1 2 2 2 1 2 1 2 2 2 2 1 1 2 2 1 2 1 1 2 2 1 1 1 1]\n",
      "n [1 1 1 1 1 1 1 1 1 1]\n",
      "j 0.07898803418803402\n",
      "X_jini_list [0.07488547008546997, 0.06479999999999991, 0.08871435654721642, 0.10084952753339838, 0.05220226082161557, 0.08871435654721642, 0.09689546388493742, 0.07849267139479887, 0.06637575757575737, 0.006577777777777627, 0.09709905946118275, 0.06417777777777772, 0.050669488536154994, 0.07849267139479887, 0.07849267139479887, 0.06417777777777772, 0.10084952753339838, 0.10084952753339838, 0.05220226082161557, 0.07849267139479887, 0.04232657004830909, 0.08871435654721642, 0.09689546388493742, 0.04267205387205367, 0.07849267139479887, 0.09709905946118275, 0.020281481481481234, 0.09689546388493742, 0.020281481481481234, 0.07775943562610219, 0.07775943562610219, 0.0727150813344361, 0.013434920634920515, 0.027422848200312766, 0.09689546388493742, 0.0837673202614378, 0.013434920634920515, 0.06257777777777773, 0.006577777777777627, 0.002503703703703456, 0.013434920634920515, 0.06257777777777773, 0.09709905946118275, 0.03476825396825384, 0.06637575757575737, 0.06257777777777773, 0.06637575757575737, 0.09689546388493742, 0.013434920634920515, 0.007422848200312766, 0.06417777777777772, 0.10084952753339838, 0.06257777777777773, 0.04267205387205367, 0.06257777777777773, 0.04267205387205367, 0.04267205387205367, 0.0727150813344361, 0.006577777777777627, 0.10084952753339838, 0.05220226082161557, 0.07775943562610219, 0.08871435654721642, 0.055668686868686645, 0.0837673202614378, 0.07849267139479887, 0.09709905946118275, 0.0837673202614378, 0.06417777777777772, 0.06479999999999991, 0.0837673202614378, 0.05220226082161557, 0.10084952753339838, 0.0, 0.09689546388493742, 0.07488547008546997, 0.3565922077922077, 0.03667301587301569, 0.2582784580498865, 0.1741968253968253, 0.3177987080103358, 0.2642677473826409, 0.3527133870712817, 0.06637575757575737, 0.027422848200312766, 0.1741968253968253, 0.20204947589098515, 0.21777777777777765, 0.2642677473826409, 0.2642677473826409, 0.3177987080103358, 0.20204947589098515, 0.1741968253968253, 0.014066362252663389, 0.1651492063492062, 0.03476825396825384, 0.07898803418803402, 0.1651492063492062, 0.10765304659498193, 0.04464541062801913, 0.13923314500941597, 0.006577777777777627, 0.06637575757575737, 0.01333576864535746, 0.10765304659498193, 0.3565922077922077, 0.2290614379084966, 0.04464541062801913, 0.020281481481481234, 0.15048582375478914, 0.3565922077922077, 0.04464541062801913, 0.11171438979963555, 0.006938138138137984, 0.0, 0.02892519561815321, 0.09271534391534375, 0.2290614379084966, 0.0501071895424835, 0.0501071895424835, 0.2642677473826409, 0.09271534391534375, 0.3527133870712817, 0.15048582375478914, 0.1741968253968253, 0.2737999999999998, 0.1651492063492062, 0.1651492063492062, 0.07898803418803402, 0.3131296668260799, 0.3527133870712817, 0.1741968253968253, 0.11171438979963555, 0.014066362252663389, 0.2582784580498865, 0.07898803418803402]\n",
      "i 60\n",
      "k 1\n",
      "m [2 2 2 2 2 2 2 2 2 2 2 2 2 2 2 2 2 2 2 2 2 2 2 2 2 2 2 2 2 2 2 1]\n",
      "n [1 1 1 1 2 1 1 1 1 1 1 1 1 1 1 1 1 1 1 2 1 1 1 1 1 2 1 1 1 1 2 1 1 1 1 1 1\n",
      " 2 2 1 1 2 1]\n",
      "j 0.3177987080103358\n",
      "X_jini_list [0.07488547008546997, 0.06479999999999991, 0.08871435654721642, 0.10084952753339838, 0.05220226082161557, 0.08871435654721642, 0.09689546388493742, 0.07849267139479887, 0.06637575757575737, 0.006577777777777627, 0.09709905946118275, 0.06417777777777772, 0.050669488536154994, 0.07849267139479887, 0.07849267139479887, 0.06417777777777772, 0.10084952753339838, 0.10084952753339838, 0.05220226082161557, 0.07849267139479887, 0.04232657004830909, 0.08871435654721642, 0.09689546388493742, 0.04267205387205367, 0.07849267139479887, 0.09709905946118275, 0.020281481481481234, 0.09689546388493742, 0.020281481481481234, 0.07775943562610219, 0.07775943562610219, 0.0727150813344361, 0.013434920634920515, 0.027422848200312766, 0.09689546388493742, 0.0837673202614378, 0.013434920634920515, 0.06257777777777773, 0.006577777777777627, 0.002503703703703456, 0.013434920634920515, 0.06257777777777773, 0.09709905946118275, 0.03476825396825384, 0.06637575757575737, 0.06257777777777773, 0.06637575757575737, 0.09689546388493742, 0.013434920634920515, 0.007422848200312766, 0.06417777777777772, 0.10084952753339838, 0.06257777777777773, 0.04267205387205367, 0.06257777777777773, 0.04267205387205367, 0.04267205387205367, 0.0727150813344361, 0.006577777777777627, 0.10084952753339838, 0.05220226082161557, 0.07775943562610219, 0.08871435654721642, 0.055668686868686645, 0.0837673202614378, 0.07849267139479887, 0.09709905946118275, 0.0837673202614378, 0.06417777777777772, 0.06479999999999991, 0.0837673202614378, 0.05220226082161557, 0.10084952753339838, 0.0, 0.09689546388493742, 0.07488547008546997, 0.3565922077922077, 0.03667301587301569, 0.2582784580498865, 0.1741968253968253, 0.3177987080103358, 0.2642677473826409, 0.3527133870712817, 0.06637575757575737, 0.027422848200312766, 0.1741968253968253, 0.20204947589098515, 0.21777777777777765, 0.2642677473826409, 0.2642677473826409, 0.3177987080103358, 0.20204947589098515, 0.1741968253968253, 0.014066362252663389, 0.1651492063492062, 0.03476825396825384, 0.07898803418803402, 0.1651492063492062, 0.10765304659498193, 0.04464541062801913, 0.13923314500941597, 0.006577777777777627, 0.06637575757575737, 0.01333576864535746, 0.10765304659498193, 0.3565922077922077, 0.2290614379084966, 0.04464541062801913, 0.020281481481481234, 0.15048582375478914, 0.3565922077922077, 0.04464541062801913, 0.11171438979963555, 0.006938138138137984, 0.0, 0.02892519561815321, 0.09271534391534375, 0.2290614379084966, 0.0501071895424835, 0.0501071895424835, 0.2642677473826409, 0.09271534391534375, 0.3527133870712817, 0.15048582375478914, 0.1741968253968253, 0.2737999999999998, 0.1651492063492062, 0.1651492063492062, 0.07898803418803402, 0.3131296668260799, 0.3527133870712817, 0.1741968253968253, 0.11171438979963555, 0.014066362252663389, 0.2582784580498865, 0.07898803418803402, 0.3177987080103358]\n",
      "i 61\n",
      "k 1\n",
      "m [2 2 2 2 2 2 2 2 2 2 2 2 2 2 2 2 2 2 2 2 2 2 2 2 2 2 2 2 2 2 2 1]\n",
      "n [1 1 1 1 2 1 1 1 1 1 1 1 1 1 1 1 1 1 1 2 1 1 1 1 1 2 1 1 1 1 2 1 1 1 1 1 1\n",
      " 2 2 1 1 2 1]\n",
      "j 0.3177987080103358\n",
      "X_jini_list [0.07488547008546997, 0.06479999999999991, 0.08871435654721642, 0.10084952753339838, 0.05220226082161557, 0.08871435654721642, 0.09689546388493742, 0.07849267139479887, 0.06637575757575737, 0.006577777777777627, 0.09709905946118275, 0.06417777777777772, 0.050669488536154994, 0.07849267139479887, 0.07849267139479887, 0.06417777777777772, 0.10084952753339838, 0.10084952753339838, 0.05220226082161557, 0.07849267139479887, 0.04232657004830909, 0.08871435654721642, 0.09689546388493742, 0.04267205387205367, 0.07849267139479887, 0.09709905946118275, 0.020281481481481234, 0.09689546388493742, 0.020281481481481234, 0.07775943562610219, 0.07775943562610219, 0.0727150813344361, 0.013434920634920515, 0.027422848200312766, 0.09689546388493742, 0.0837673202614378, 0.013434920634920515, 0.06257777777777773, 0.006577777777777627, 0.002503703703703456, 0.013434920634920515, 0.06257777777777773, 0.09709905946118275, 0.03476825396825384, 0.06637575757575737, 0.06257777777777773, 0.06637575757575737, 0.09689546388493742, 0.013434920634920515, 0.007422848200312766, 0.06417777777777772, 0.10084952753339838, 0.06257777777777773, 0.04267205387205367, 0.06257777777777773, 0.04267205387205367, 0.04267205387205367, 0.0727150813344361, 0.006577777777777627, 0.10084952753339838, 0.05220226082161557, 0.07775943562610219, 0.08871435654721642, 0.055668686868686645, 0.0837673202614378, 0.07849267139479887, 0.09709905946118275, 0.0837673202614378, 0.06417777777777772, 0.06479999999999991, 0.0837673202614378, 0.05220226082161557, 0.10084952753339838, 0.0, 0.09689546388493742, 0.07488547008546997, 0.3565922077922077, 0.03667301587301569, 0.2582784580498865, 0.1741968253968253, 0.3177987080103358, 0.2642677473826409, 0.3527133870712817, 0.06637575757575737, 0.027422848200312766, 0.1741968253968253, 0.20204947589098515, 0.21777777777777765, 0.2642677473826409, 0.2642677473826409, 0.3177987080103358, 0.20204947589098515, 0.1741968253968253, 0.014066362252663389, 0.1651492063492062, 0.03476825396825384, 0.07898803418803402, 0.1651492063492062, 0.10765304659498193, 0.04464541062801913, 0.13923314500941597, 0.006577777777777627, 0.06637575757575737, 0.01333576864535746, 0.10765304659498193, 0.3565922077922077, 0.2290614379084966, 0.04464541062801913, 0.020281481481481234, 0.15048582375478914, 0.3565922077922077, 0.04464541062801913, 0.11171438979963555, 0.006938138138137984, 0.0, 0.02892519561815321, 0.09271534391534375, 0.2290614379084966, 0.0501071895424835, 0.0501071895424835, 0.2642677473826409, 0.09271534391534375, 0.3527133870712817, 0.15048582375478914, 0.1741968253968253, 0.2737999999999998, 0.1651492063492062, 0.1651492063492062, 0.07898803418803402, 0.3131296668260799, 0.3527133870712817, 0.1741968253968253, 0.11171438979963555, 0.014066362252663389, 0.2582784580498865, 0.07898803418803402, 0.3177987080103358, 0.3177987080103358]\n",
      "i 62\n",
      "k 1\n",
      "m [2 1 2 2 2 2 2 2 2 2 2 2 2 2 2 2 1 2 2 2 2 2 2 2 2 2 2 2 2 2 1 2 2 2 2 2 2\n",
      " 2 2 1 2 1 1 1 1 1 1]\n",
      "n [1 1 1 1 1 1 1 1 1 1 1 1 1 1 1 1 1 1 1 1 1 1 1 1 1 1 1 2]\n",
      "j 0.2642677473826409\n",
      "X_jini_list [0.07488547008546997, 0.06479999999999991, 0.08871435654721642, 0.10084952753339838, 0.05220226082161557, 0.08871435654721642, 0.09689546388493742, 0.07849267139479887, 0.06637575757575737, 0.006577777777777627, 0.09709905946118275, 0.06417777777777772, 0.050669488536154994, 0.07849267139479887, 0.07849267139479887, 0.06417777777777772, 0.10084952753339838, 0.10084952753339838, 0.05220226082161557, 0.07849267139479887, 0.04232657004830909, 0.08871435654721642, 0.09689546388493742, 0.04267205387205367, 0.07849267139479887, 0.09709905946118275, 0.020281481481481234, 0.09689546388493742, 0.020281481481481234, 0.07775943562610219, 0.07775943562610219, 0.0727150813344361, 0.013434920634920515, 0.027422848200312766, 0.09689546388493742, 0.0837673202614378, 0.013434920634920515, 0.06257777777777773, 0.006577777777777627, 0.002503703703703456, 0.013434920634920515, 0.06257777777777773, 0.09709905946118275, 0.03476825396825384, 0.06637575757575737, 0.06257777777777773, 0.06637575757575737, 0.09689546388493742, 0.013434920634920515, 0.007422848200312766, 0.06417777777777772, 0.10084952753339838, 0.06257777777777773, 0.04267205387205367, 0.06257777777777773, 0.04267205387205367, 0.04267205387205367, 0.0727150813344361, 0.006577777777777627, 0.10084952753339838, 0.05220226082161557, 0.07775943562610219, 0.08871435654721642, 0.055668686868686645, 0.0837673202614378, 0.07849267139479887, 0.09709905946118275, 0.0837673202614378, 0.06417777777777772, 0.06479999999999991, 0.0837673202614378, 0.05220226082161557, 0.10084952753339838, 0.0, 0.09689546388493742, 0.07488547008546997, 0.3565922077922077, 0.03667301587301569, 0.2582784580498865, 0.1741968253968253, 0.3177987080103358, 0.2642677473826409, 0.3527133870712817, 0.06637575757575737, 0.027422848200312766, 0.1741968253968253, 0.20204947589098515, 0.21777777777777765, 0.2642677473826409, 0.2642677473826409, 0.3177987080103358, 0.20204947589098515, 0.1741968253968253, 0.014066362252663389, 0.1651492063492062, 0.03476825396825384, 0.07898803418803402, 0.1651492063492062, 0.10765304659498193, 0.04464541062801913, 0.13923314500941597, 0.006577777777777627, 0.06637575757575737, 0.01333576864535746, 0.10765304659498193, 0.3565922077922077, 0.2290614379084966, 0.04464541062801913, 0.020281481481481234, 0.15048582375478914, 0.3565922077922077, 0.04464541062801913, 0.11171438979963555, 0.006938138138137984, 0.0, 0.02892519561815321, 0.09271534391534375, 0.2290614379084966, 0.0501071895424835, 0.0501071895424835, 0.2642677473826409, 0.09271534391534375, 0.3527133870712817, 0.15048582375478914, 0.1741968253968253, 0.2737999999999998, 0.1651492063492062, 0.1651492063492062, 0.07898803418803402, 0.3131296668260799, 0.3527133870712817, 0.1741968253968253, 0.11171438979963555, 0.014066362252663389, 0.2582784580498865, 0.07898803418803402, 0.3177987080103358, 0.3177987080103358, 0.2642677473826409]\n",
      "i 63\n",
      "k 1\n",
      "m [2 1 2 1 2 1 2 2 2 1 2 1 1 1 2 2 1 2 2 1 2 1 1 2 2 2 1 1 2 2 1 2 2 2 2 2 2\n",
      " 1 2 2 1 1 2 2 2 1 1 2 1 2 2 1 2 2 1 1 2 2 1 2 1 1 2 2 1 1 1 1 1]\n",
      "n [1 1 1 1 1 1]\n",
      "j 0.04464541062801913\n",
      "X_jini_list [0.07488547008546997, 0.06479999999999991, 0.08871435654721642, 0.10084952753339838, 0.05220226082161557, 0.08871435654721642, 0.09689546388493742, 0.07849267139479887, 0.06637575757575737, 0.006577777777777627, 0.09709905946118275, 0.06417777777777772, 0.050669488536154994, 0.07849267139479887, 0.07849267139479887, 0.06417777777777772, 0.10084952753339838, 0.10084952753339838, 0.05220226082161557, 0.07849267139479887, 0.04232657004830909, 0.08871435654721642, 0.09689546388493742, 0.04267205387205367, 0.07849267139479887, 0.09709905946118275, 0.020281481481481234, 0.09689546388493742, 0.020281481481481234, 0.07775943562610219, 0.07775943562610219, 0.0727150813344361, 0.013434920634920515, 0.027422848200312766, 0.09689546388493742, 0.0837673202614378, 0.013434920634920515, 0.06257777777777773, 0.006577777777777627, 0.002503703703703456, 0.013434920634920515, 0.06257777777777773, 0.09709905946118275, 0.03476825396825384, 0.06637575757575737, 0.06257777777777773, 0.06637575757575737, 0.09689546388493742, 0.013434920634920515, 0.007422848200312766, 0.06417777777777772, 0.10084952753339838, 0.06257777777777773, 0.04267205387205367, 0.06257777777777773, 0.04267205387205367, 0.04267205387205367, 0.0727150813344361, 0.006577777777777627, 0.10084952753339838, 0.05220226082161557, 0.07775943562610219, 0.08871435654721642, 0.055668686868686645, 0.0837673202614378, 0.07849267139479887, 0.09709905946118275, 0.0837673202614378, 0.06417777777777772, 0.06479999999999991, 0.0837673202614378, 0.05220226082161557, 0.10084952753339838, 0.0, 0.09689546388493742, 0.07488547008546997, 0.3565922077922077, 0.03667301587301569, 0.2582784580498865, 0.1741968253968253, 0.3177987080103358, 0.2642677473826409, 0.3527133870712817, 0.06637575757575737, 0.027422848200312766, 0.1741968253968253, 0.20204947589098515, 0.21777777777777765, 0.2642677473826409, 0.2642677473826409, 0.3177987080103358, 0.20204947589098515, 0.1741968253968253, 0.014066362252663389, 0.1651492063492062, 0.03476825396825384, 0.07898803418803402, 0.1651492063492062, 0.10765304659498193, 0.04464541062801913, 0.13923314500941597, 0.006577777777777627, 0.06637575757575737, 0.01333576864535746, 0.10765304659498193, 0.3565922077922077, 0.2290614379084966, 0.04464541062801913, 0.020281481481481234, 0.15048582375478914, 0.3565922077922077, 0.04464541062801913, 0.11171438979963555, 0.006938138138137984, 0.0, 0.02892519561815321, 0.09271534391534375, 0.2290614379084966, 0.0501071895424835, 0.0501071895424835, 0.2642677473826409, 0.09271534391534375, 0.3527133870712817, 0.15048582375478914, 0.1741968253968253, 0.2737999999999998, 0.1651492063492062, 0.1651492063492062, 0.07898803418803402, 0.3131296668260799, 0.3527133870712817, 0.1741968253968253, 0.11171438979963555, 0.014066362252663389, 0.2582784580498865, 0.07898803418803402, 0.3177987080103358, 0.3177987080103358, 0.2642677473826409, 0.04464541062801913]\n",
      "i 64\n",
      "k 1\n",
      "m [2 1 2 2 1 2 2 2 2 1 1 2 2 2 2 2 2 2 2 1 2 2 2 2 2 2 2 2 1 2 2 2 2 2 1 2 2\n",
      " 2 2 2 1 2 2 2 1 2 1 1 1 1]\n",
      "n [1 1 1 1 1 1 1 1 1 1 1 1 1 1 1 1 1 1 1 1 1 1 1 1 2]\n",
      "j 0.21777777777777765\n",
      "X_jini_list [0.07488547008546997, 0.06479999999999991, 0.08871435654721642, 0.10084952753339838, 0.05220226082161557, 0.08871435654721642, 0.09689546388493742, 0.07849267139479887, 0.06637575757575737, 0.006577777777777627, 0.09709905946118275, 0.06417777777777772, 0.050669488536154994, 0.07849267139479887, 0.07849267139479887, 0.06417777777777772, 0.10084952753339838, 0.10084952753339838, 0.05220226082161557, 0.07849267139479887, 0.04232657004830909, 0.08871435654721642, 0.09689546388493742, 0.04267205387205367, 0.07849267139479887, 0.09709905946118275, 0.020281481481481234, 0.09689546388493742, 0.020281481481481234, 0.07775943562610219, 0.07775943562610219, 0.0727150813344361, 0.013434920634920515, 0.027422848200312766, 0.09689546388493742, 0.0837673202614378, 0.013434920634920515, 0.06257777777777773, 0.006577777777777627, 0.002503703703703456, 0.013434920634920515, 0.06257777777777773, 0.09709905946118275, 0.03476825396825384, 0.06637575757575737, 0.06257777777777773, 0.06637575757575737, 0.09689546388493742, 0.013434920634920515, 0.007422848200312766, 0.06417777777777772, 0.10084952753339838, 0.06257777777777773, 0.04267205387205367, 0.06257777777777773, 0.04267205387205367, 0.04267205387205367, 0.0727150813344361, 0.006577777777777627, 0.10084952753339838, 0.05220226082161557, 0.07775943562610219, 0.08871435654721642, 0.055668686868686645, 0.0837673202614378, 0.07849267139479887, 0.09709905946118275, 0.0837673202614378, 0.06417777777777772, 0.06479999999999991, 0.0837673202614378, 0.05220226082161557, 0.10084952753339838, 0.0, 0.09689546388493742, 0.07488547008546997, 0.3565922077922077, 0.03667301587301569, 0.2582784580498865, 0.1741968253968253, 0.3177987080103358, 0.2642677473826409, 0.3527133870712817, 0.06637575757575737, 0.027422848200312766, 0.1741968253968253, 0.20204947589098515, 0.21777777777777765, 0.2642677473826409, 0.2642677473826409, 0.3177987080103358, 0.20204947589098515, 0.1741968253968253, 0.014066362252663389, 0.1651492063492062, 0.03476825396825384, 0.07898803418803402, 0.1651492063492062, 0.10765304659498193, 0.04464541062801913, 0.13923314500941597, 0.006577777777777627, 0.06637575757575737, 0.01333576864535746, 0.10765304659498193, 0.3565922077922077, 0.2290614379084966, 0.04464541062801913, 0.020281481481481234, 0.15048582375478914, 0.3565922077922077, 0.04464541062801913, 0.11171438979963555, 0.006938138138137984, 0.0, 0.02892519561815321, 0.09271534391534375, 0.2290614379084966, 0.0501071895424835, 0.0501071895424835, 0.2642677473826409, 0.09271534391534375, 0.3527133870712817, 0.15048582375478914, 0.1741968253968253, 0.2737999999999998, 0.1651492063492062, 0.1651492063492062, 0.07898803418803402, 0.3131296668260799, 0.3527133870712817, 0.1741968253968253, 0.11171438979963555, 0.014066362252663389, 0.2582784580498865, 0.07898803418803402, 0.3177987080103358, 0.3177987080103358, 0.2642677473826409, 0.04464541062801913, 0.21777777777777765]\n",
      "i 65\n",
      "k 1\n",
      "m [2 2 2 2 2 2 2 2 2 2 2 2 2 2 2 2 2 2 2 2 2 2 2 2 2 2 2 1 2 2 2 2 2 2 2 1 2\n",
      " 1 1 1 2 2]\n",
      "n [1 1 1 1 1 1 1 1 1 1 1 1 1 1 1 1 1 1 1 1 1 1 1 1 1 1 1 1 1 1 1 1 2]\n",
      "j 0.3565922077922077\n",
      "X_jini_list [0.07488547008546997, 0.06479999999999991, 0.08871435654721642, 0.10084952753339838, 0.05220226082161557, 0.08871435654721642, 0.09689546388493742, 0.07849267139479887, 0.06637575757575737, 0.006577777777777627, 0.09709905946118275, 0.06417777777777772, 0.050669488536154994, 0.07849267139479887, 0.07849267139479887, 0.06417777777777772, 0.10084952753339838, 0.10084952753339838, 0.05220226082161557, 0.07849267139479887, 0.04232657004830909, 0.08871435654721642, 0.09689546388493742, 0.04267205387205367, 0.07849267139479887, 0.09709905946118275, 0.020281481481481234, 0.09689546388493742, 0.020281481481481234, 0.07775943562610219, 0.07775943562610219, 0.0727150813344361, 0.013434920634920515, 0.027422848200312766, 0.09689546388493742, 0.0837673202614378, 0.013434920634920515, 0.06257777777777773, 0.006577777777777627, 0.002503703703703456, 0.013434920634920515, 0.06257777777777773, 0.09709905946118275, 0.03476825396825384, 0.06637575757575737, 0.06257777777777773, 0.06637575757575737, 0.09689546388493742, 0.013434920634920515, 0.007422848200312766, 0.06417777777777772, 0.10084952753339838, 0.06257777777777773, 0.04267205387205367, 0.06257777777777773, 0.04267205387205367, 0.04267205387205367, 0.0727150813344361, 0.006577777777777627, 0.10084952753339838, 0.05220226082161557, 0.07775943562610219, 0.08871435654721642, 0.055668686868686645, 0.0837673202614378, 0.07849267139479887, 0.09709905946118275, 0.0837673202614378, 0.06417777777777772, 0.06479999999999991, 0.0837673202614378, 0.05220226082161557, 0.10084952753339838, 0.0, 0.09689546388493742, 0.07488547008546997, 0.3565922077922077, 0.03667301587301569, 0.2582784580498865, 0.1741968253968253, 0.3177987080103358, 0.2642677473826409, 0.3527133870712817, 0.06637575757575737, 0.027422848200312766, 0.1741968253968253, 0.20204947589098515, 0.21777777777777765, 0.2642677473826409, 0.2642677473826409, 0.3177987080103358, 0.20204947589098515, 0.1741968253968253, 0.014066362252663389, 0.1651492063492062, 0.03476825396825384, 0.07898803418803402, 0.1651492063492062, 0.10765304659498193, 0.04464541062801913, 0.13923314500941597, 0.006577777777777627, 0.06637575757575737, 0.01333576864535746, 0.10765304659498193, 0.3565922077922077, 0.2290614379084966, 0.04464541062801913, 0.020281481481481234, 0.15048582375478914, 0.3565922077922077, 0.04464541062801913, 0.11171438979963555, 0.006938138138137984, 0.0, 0.02892519561815321, 0.09271534391534375, 0.2290614379084966, 0.0501071895424835, 0.0501071895424835, 0.2642677473826409, 0.09271534391534375, 0.3527133870712817, 0.15048582375478914, 0.1741968253968253, 0.2737999999999998, 0.1651492063492062, 0.1651492063492062, 0.07898803418803402, 0.3131296668260799, 0.3527133870712817, 0.1741968253968253, 0.11171438979963555, 0.014066362252663389, 0.2582784580498865, 0.07898803418803402, 0.3177987080103358, 0.3177987080103358, 0.2642677473826409, 0.04464541062801913, 0.21777777777777765, 0.3565922077922077]\n",
      "i 66\n",
      "k 1\n",
      "m [2 2 2 2 2 2 2 2 2 2 2 2 2 2 2 2 2 2 2 2 2 2 2 2 2 2 2 2 2 2 1 2 1 2]\n",
      "n [1 1 1 1 2 1 1 1 1 1 1 1 1 1 1 1 1 1 1 2 1 1 1 1 1 2 1 1 1 2 1 1 1 1 1 1 2\n",
      " 1 1 2 1]\n",
      "j 0.3131296668260799\n",
      "X_jini_list [0.07488547008546997, 0.06479999999999991, 0.08871435654721642, 0.10084952753339838, 0.05220226082161557, 0.08871435654721642, 0.09689546388493742, 0.07849267139479887, 0.06637575757575737, 0.006577777777777627, 0.09709905946118275, 0.06417777777777772, 0.050669488536154994, 0.07849267139479887, 0.07849267139479887, 0.06417777777777772, 0.10084952753339838, 0.10084952753339838, 0.05220226082161557, 0.07849267139479887, 0.04232657004830909, 0.08871435654721642, 0.09689546388493742, 0.04267205387205367, 0.07849267139479887, 0.09709905946118275, 0.020281481481481234, 0.09689546388493742, 0.020281481481481234, 0.07775943562610219, 0.07775943562610219, 0.0727150813344361, 0.013434920634920515, 0.027422848200312766, 0.09689546388493742, 0.0837673202614378, 0.013434920634920515, 0.06257777777777773, 0.006577777777777627, 0.002503703703703456, 0.013434920634920515, 0.06257777777777773, 0.09709905946118275, 0.03476825396825384, 0.06637575757575737, 0.06257777777777773, 0.06637575757575737, 0.09689546388493742, 0.013434920634920515, 0.007422848200312766, 0.06417777777777772, 0.10084952753339838, 0.06257777777777773, 0.04267205387205367, 0.06257777777777773, 0.04267205387205367, 0.04267205387205367, 0.0727150813344361, 0.006577777777777627, 0.10084952753339838, 0.05220226082161557, 0.07775943562610219, 0.08871435654721642, 0.055668686868686645, 0.0837673202614378, 0.07849267139479887, 0.09709905946118275, 0.0837673202614378, 0.06417777777777772, 0.06479999999999991, 0.0837673202614378, 0.05220226082161557, 0.10084952753339838, 0.0, 0.09689546388493742, 0.07488547008546997, 0.3565922077922077, 0.03667301587301569, 0.2582784580498865, 0.1741968253968253, 0.3177987080103358, 0.2642677473826409, 0.3527133870712817, 0.06637575757575737, 0.027422848200312766, 0.1741968253968253, 0.20204947589098515, 0.21777777777777765, 0.2642677473826409, 0.2642677473826409, 0.3177987080103358, 0.20204947589098515, 0.1741968253968253, 0.014066362252663389, 0.1651492063492062, 0.03476825396825384, 0.07898803418803402, 0.1651492063492062, 0.10765304659498193, 0.04464541062801913, 0.13923314500941597, 0.006577777777777627, 0.06637575757575737, 0.01333576864535746, 0.10765304659498193, 0.3565922077922077, 0.2290614379084966, 0.04464541062801913, 0.020281481481481234, 0.15048582375478914, 0.3565922077922077, 0.04464541062801913, 0.11171438979963555, 0.006938138138137984, 0.0, 0.02892519561815321, 0.09271534391534375, 0.2290614379084966, 0.0501071895424835, 0.0501071895424835, 0.2642677473826409, 0.09271534391534375, 0.3527133870712817, 0.15048582375478914, 0.1741968253968253, 0.2737999999999998, 0.1651492063492062, 0.1651492063492062, 0.07898803418803402, 0.3131296668260799, 0.3527133870712817, 0.1741968253968253, 0.11171438979963555, 0.014066362252663389, 0.2582784580498865, 0.07898803418803402, 0.3177987080103358, 0.3177987080103358, 0.2642677473826409, 0.04464541062801913, 0.21777777777777765, 0.3565922077922077, 0.3131296668260799]\n",
      "i 67\n",
      "k 1\n",
      "m [2 1 2 2 1 2 2 2 2 1 1 2 2 2 2 2 2 2 2 1 2 2 2 2 2 2 2 2 1 2 2 2 2 2 1 2 2\n",
      " 2 2 2 1 2 2 2 1 2 1 1 1 1]\n",
      "n [1 1 1 1 1 1 1 1 1 1 1 1 1 1 1 1 1 1 1 1 1 1 1 1 2]\n",
      "j 0.21777777777777765\n",
      "X_jini_list [0.07488547008546997, 0.06479999999999991, 0.08871435654721642, 0.10084952753339838, 0.05220226082161557, 0.08871435654721642, 0.09689546388493742, 0.07849267139479887, 0.06637575757575737, 0.006577777777777627, 0.09709905946118275, 0.06417777777777772, 0.050669488536154994, 0.07849267139479887, 0.07849267139479887, 0.06417777777777772, 0.10084952753339838, 0.10084952753339838, 0.05220226082161557, 0.07849267139479887, 0.04232657004830909, 0.08871435654721642, 0.09689546388493742, 0.04267205387205367, 0.07849267139479887, 0.09709905946118275, 0.020281481481481234, 0.09689546388493742, 0.020281481481481234, 0.07775943562610219, 0.07775943562610219, 0.0727150813344361, 0.013434920634920515, 0.027422848200312766, 0.09689546388493742, 0.0837673202614378, 0.013434920634920515, 0.06257777777777773, 0.006577777777777627, 0.002503703703703456, 0.013434920634920515, 0.06257777777777773, 0.09709905946118275, 0.03476825396825384, 0.06637575757575737, 0.06257777777777773, 0.06637575757575737, 0.09689546388493742, 0.013434920634920515, 0.007422848200312766, 0.06417777777777772, 0.10084952753339838, 0.06257777777777773, 0.04267205387205367, 0.06257777777777773, 0.04267205387205367, 0.04267205387205367, 0.0727150813344361, 0.006577777777777627, 0.10084952753339838, 0.05220226082161557, 0.07775943562610219, 0.08871435654721642, 0.055668686868686645, 0.0837673202614378, 0.07849267139479887, 0.09709905946118275, 0.0837673202614378, 0.06417777777777772, 0.06479999999999991, 0.0837673202614378, 0.05220226082161557, 0.10084952753339838, 0.0, 0.09689546388493742, 0.07488547008546997, 0.3565922077922077, 0.03667301587301569, 0.2582784580498865, 0.1741968253968253, 0.3177987080103358, 0.2642677473826409, 0.3527133870712817, 0.06637575757575737, 0.027422848200312766, 0.1741968253968253, 0.20204947589098515, 0.21777777777777765, 0.2642677473826409, 0.2642677473826409, 0.3177987080103358, 0.20204947589098515, 0.1741968253968253, 0.014066362252663389, 0.1651492063492062, 0.03476825396825384, 0.07898803418803402, 0.1651492063492062, 0.10765304659498193, 0.04464541062801913, 0.13923314500941597, 0.006577777777777627, 0.06637575757575737, 0.01333576864535746, 0.10765304659498193, 0.3565922077922077, 0.2290614379084966, 0.04464541062801913, 0.020281481481481234, 0.15048582375478914, 0.3565922077922077, 0.04464541062801913, 0.11171438979963555, 0.006938138138137984, 0.0, 0.02892519561815321, 0.09271534391534375, 0.2290614379084966, 0.0501071895424835, 0.0501071895424835, 0.2642677473826409, 0.09271534391534375, 0.3527133870712817, 0.15048582375478914, 0.1741968253968253, 0.2737999999999998, 0.1651492063492062, 0.1651492063492062, 0.07898803418803402, 0.3131296668260799, 0.3527133870712817, 0.1741968253968253, 0.11171438979963555, 0.014066362252663389, 0.2582784580498865, 0.07898803418803402, 0.3177987080103358, 0.3177987080103358, 0.2642677473826409, 0.04464541062801913, 0.21777777777777765, 0.3565922077922077, 0.3131296668260799, 0.21777777777777765]\n",
      "i 68\n",
      "k 1\n",
      "m [2 2 2 2 2 2 2 2 2 2 2 2 2 2 2 2 2 2 2 2 2 2]\n",
      "n [1 1 2 1 2 1 2 1 1 1 1 2 1 1 1 1 1 1 1 1 2 1 1 2 1 1 1 1 2 1 2 1 1 2 1 1 2\n",
      " 1 1 2 1 2 2 1 1 1 2 2 1 1 1 2 1]\n",
      "j 0.20204947589098515\n",
      "X_jini_list [0.07488547008546997, 0.06479999999999991, 0.08871435654721642, 0.10084952753339838, 0.05220226082161557, 0.08871435654721642, 0.09689546388493742, 0.07849267139479887, 0.06637575757575737, 0.006577777777777627, 0.09709905946118275, 0.06417777777777772, 0.050669488536154994, 0.07849267139479887, 0.07849267139479887, 0.06417777777777772, 0.10084952753339838, 0.10084952753339838, 0.05220226082161557, 0.07849267139479887, 0.04232657004830909, 0.08871435654721642, 0.09689546388493742, 0.04267205387205367, 0.07849267139479887, 0.09709905946118275, 0.020281481481481234, 0.09689546388493742, 0.020281481481481234, 0.07775943562610219, 0.07775943562610219, 0.0727150813344361, 0.013434920634920515, 0.027422848200312766, 0.09689546388493742, 0.0837673202614378, 0.013434920634920515, 0.06257777777777773, 0.006577777777777627, 0.002503703703703456, 0.013434920634920515, 0.06257777777777773, 0.09709905946118275, 0.03476825396825384, 0.06637575757575737, 0.06257777777777773, 0.06637575757575737, 0.09689546388493742, 0.013434920634920515, 0.007422848200312766, 0.06417777777777772, 0.10084952753339838, 0.06257777777777773, 0.04267205387205367, 0.06257777777777773, 0.04267205387205367, 0.04267205387205367, 0.0727150813344361, 0.006577777777777627, 0.10084952753339838, 0.05220226082161557, 0.07775943562610219, 0.08871435654721642, 0.055668686868686645, 0.0837673202614378, 0.07849267139479887, 0.09709905946118275, 0.0837673202614378, 0.06417777777777772, 0.06479999999999991, 0.0837673202614378, 0.05220226082161557, 0.10084952753339838, 0.0, 0.09689546388493742, 0.07488547008546997, 0.3565922077922077, 0.03667301587301569, 0.2582784580498865, 0.1741968253968253, 0.3177987080103358, 0.2642677473826409, 0.3527133870712817, 0.06637575757575737, 0.027422848200312766, 0.1741968253968253, 0.20204947589098515, 0.21777777777777765, 0.2642677473826409, 0.2642677473826409, 0.3177987080103358, 0.20204947589098515, 0.1741968253968253, 0.014066362252663389, 0.1651492063492062, 0.03476825396825384, 0.07898803418803402, 0.1651492063492062, 0.10765304659498193, 0.04464541062801913, 0.13923314500941597, 0.006577777777777627, 0.06637575757575737, 0.01333576864535746, 0.10765304659498193, 0.3565922077922077, 0.2290614379084966, 0.04464541062801913, 0.020281481481481234, 0.15048582375478914, 0.3565922077922077, 0.04464541062801913, 0.11171438979963555, 0.006938138138137984, 0.0, 0.02892519561815321, 0.09271534391534375, 0.2290614379084966, 0.0501071895424835, 0.0501071895424835, 0.2642677473826409, 0.09271534391534375, 0.3527133870712817, 0.15048582375478914, 0.1741968253968253, 0.2737999999999998, 0.1651492063492062, 0.1651492063492062, 0.07898803418803402, 0.3131296668260799, 0.3527133870712817, 0.1741968253968253, 0.11171438979963555, 0.014066362252663389, 0.2582784580498865, 0.07898803418803402, 0.3177987080103358, 0.3177987080103358, 0.2642677473826409, 0.04464541062801913, 0.21777777777777765, 0.3565922077922077, 0.3131296668260799, 0.21777777777777765, 0.20204947589098515]\n",
      "i 69\n",
      "k 1\n",
      "m [2 2 2 2 2 2 2 2 2 2 2 2 2 2 2 2 2 2 2 2 2 2 2 2 2 2 2 2 2 2 2 1]\n",
      "n [1 1 1 1 2 1 1 1 1 1 1 1 1 1 1 1 1 1 1 2 1 1 1 1 1 2 1 1 1 1 2 1 1 1 1 1 1\n",
      " 2 2 1 1 2 1]\n",
      "j 0.3177987080103358\n",
      "X_jini_list [0.07488547008546997, 0.06479999999999991, 0.08871435654721642, 0.10084952753339838, 0.05220226082161557, 0.08871435654721642, 0.09689546388493742, 0.07849267139479887, 0.06637575757575737, 0.006577777777777627, 0.09709905946118275, 0.06417777777777772, 0.050669488536154994, 0.07849267139479887, 0.07849267139479887, 0.06417777777777772, 0.10084952753339838, 0.10084952753339838, 0.05220226082161557, 0.07849267139479887, 0.04232657004830909, 0.08871435654721642, 0.09689546388493742, 0.04267205387205367, 0.07849267139479887, 0.09709905946118275, 0.020281481481481234, 0.09689546388493742, 0.020281481481481234, 0.07775943562610219, 0.07775943562610219, 0.0727150813344361, 0.013434920634920515, 0.027422848200312766, 0.09689546388493742, 0.0837673202614378, 0.013434920634920515, 0.06257777777777773, 0.006577777777777627, 0.002503703703703456, 0.013434920634920515, 0.06257777777777773, 0.09709905946118275, 0.03476825396825384, 0.06637575757575737, 0.06257777777777773, 0.06637575757575737, 0.09689546388493742, 0.013434920634920515, 0.007422848200312766, 0.06417777777777772, 0.10084952753339838, 0.06257777777777773, 0.04267205387205367, 0.06257777777777773, 0.04267205387205367, 0.04267205387205367, 0.0727150813344361, 0.006577777777777627, 0.10084952753339838, 0.05220226082161557, 0.07775943562610219, 0.08871435654721642, 0.055668686868686645, 0.0837673202614378, 0.07849267139479887, 0.09709905946118275, 0.0837673202614378, 0.06417777777777772, 0.06479999999999991, 0.0837673202614378, 0.05220226082161557, 0.10084952753339838, 0.0, 0.09689546388493742, 0.07488547008546997, 0.3565922077922077, 0.03667301587301569, 0.2582784580498865, 0.1741968253968253, 0.3177987080103358, 0.2642677473826409, 0.3527133870712817, 0.06637575757575737, 0.027422848200312766, 0.1741968253968253, 0.20204947589098515, 0.21777777777777765, 0.2642677473826409, 0.2642677473826409, 0.3177987080103358, 0.20204947589098515, 0.1741968253968253, 0.014066362252663389, 0.1651492063492062, 0.03476825396825384, 0.07898803418803402, 0.1651492063492062, 0.10765304659498193, 0.04464541062801913, 0.13923314500941597, 0.006577777777777627, 0.06637575757575737, 0.01333576864535746, 0.10765304659498193, 0.3565922077922077, 0.2290614379084966, 0.04464541062801913, 0.020281481481481234, 0.15048582375478914, 0.3565922077922077, 0.04464541062801913, 0.11171438979963555, 0.006938138138137984, 0.0, 0.02892519561815321, 0.09271534391534375, 0.2290614379084966, 0.0501071895424835, 0.0501071895424835, 0.2642677473826409, 0.09271534391534375, 0.3527133870712817, 0.15048582375478914, 0.1741968253968253, 0.2737999999999998, 0.1651492063492062, 0.1651492063492062, 0.07898803418803402, 0.3131296668260799, 0.3527133870712817, 0.1741968253968253, 0.11171438979963555, 0.014066362252663389, 0.2582784580498865, 0.07898803418803402, 0.3177987080103358, 0.3177987080103358, 0.2642677473826409, 0.04464541062801913, 0.21777777777777765, 0.3565922077922077, 0.3131296668260799, 0.21777777777777765, 0.20204947589098515, 0.3177987080103358]\n",
      "i 70\n",
      "k 1\n",
      "m [2 1 2 1 2 1 2 2 2 1 2 1 1 1 2 2 1 2 2 2 1 2 2 2 1 2 2 1 2 2 2 2 2 2 1 2 2\n",
      " 1 1 2 2 2 1 2 1 2 2 2 2 1 1 2 2 1 2 1 2 2 1 1 1 1]\n",
      "n [1 1 1 1 1 1 1 1 1 1 1 1 1]\n",
      "j 0.10765304659498193\n",
      "X_jini_list [0.07488547008546997, 0.06479999999999991, 0.08871435654721642, 0.10084952753339838, 0.05220226082161557, 0.08871435654721642, 0.09689546388493742, 0.07849267139479887, 0.06637575757575737, 0.006577777777777627, 0.09709905946118275, 0.06417777777777772, 0.050669488536154994, 0.07849267139479887, 0.07849267139479887, 0.06417777777777772, 0.10084952753339838, 0.10084952753339838, 0.05220226082161557, 0.07849267139479887, 0.04232657004830909, 0.08871435654721642, 0.09689546388493742, 0.04267205387205367, 0.07849267139479887, 0.09709905946118275, 0.020281481481481234, 0.09689546388493742, 0.020281481481481234, 0.07775943562610219, 0.07775943562610219, 0.0727150813344361, 0.013434920634920515, 0.027422848200312766, 0.09689546388493742, 0.0837673202614378, 0.013434920634920515, 0.06257777777777773, 0.006577777777777627, 0.002503703703703456, 0.013434920634920515, 0.06257777777777773, 0.09709905946118275, 0.03476825396825384, 0.06637575757575737, 0.06257777777777773, 0.06637575757575737, 0.09689546388493742, 0.013434920634920515, 0.007422848200312766, 0.06417777777777772, 0.10084952753339838, 0.06257777777777773, 0.04267205387205367, 0.06257777777777773, 0.04267205387205367, 0.04267205387205367, 0.0727150813344361, 0.006577777777777627, 0.10084952753339838, 0.05220226082161557, 0.07775943562610219, 0.08871435654721642, 0.055668686868686645, 0.0837673202614378, 0.07849267139479887, 0.09709905946118275, 0.0837673202614378, 0.06417777777777772, 0.06479999999999991, 0.0837673202614378, 0.05220226082161557, 0.10084952753339838, 0.0, 0.09689546388493742, 0.07488547008546997, 0.3565922077922077, 0.03667301587301569, 0.2582784580498865, 0.1741968253968253, 0.3177987080103358, 0.2642677473826409, 0.3527133870712817, 0.06637575757575737, 0.027422848200312766, 0.1741968253968253, 0.20204947589098515, 0.21777777777777765, 0.2642677473826409, 0.2642677473826409, 0.3177987080103358, 0.20204947589098515, 0.1741968253968253, 0.014066362252663389, 0.1651492063492062, 0.03476825396825384, 0.07898803418803402, 0.1651492063492062, 0.10765304659498193, 0.04464541062801913, 0.13923314500941597, 0.006577777777777627, 0.06637575757575737, 0.01333576864535746, 0.10765304659498193, 0.3565922077922077, 0.2290614379084966, 0.04464541062801913, 0.020281481481481234, 0.15048582375478914, 0.3565922077922077, 0.04464541062801913, 0.11171438979963555, 0.006938138138137984, 0.0, 0.02892519561815321, 0.09271534391534375, 0.2290614379084966, 0.0501071895424835, 0.0501071895424835, 0.2642677473826409, 0.09271534391534375, 0.3527133870712817, 0.15048582375478914, 0.1741968253968253, 0.2737999999999998, 0.1651492063492062, 0.1651492063492062, 0.07898803418803402, 0.3131296668260799, 0.3527133870712817, 0.1741968253968253, 0.11171438979963555, 0.014066362252663389, 0.2582784580498865, 0.07898803418803402, 0.3177987080103358, 0.3177987080103358, 0.2642677473826409, 0.04464541062801913, 0.21777777777777765, 0.3565922077922077, 0.3131296668260799, 0.21777777777777765, 0.20204947589098515, 0.3177987080103358, 0.10765304659498193]\n",
      "i 71\n",
      "k 1\n",
      "m [2 2 2 2 2 2 2 2 2 2 2 2 2 2 2 2 2 2 2]\n",
      "n [1 1 2 1 2 1 2 1 2 1 1 1 2 2 1 1 1 1 1 1 1 1 2 1 1 2 1 1 1 1 2 1 2 1 1 2 1\n",
      " 1 2 1 1 2 1 2 2 1 1 1 2 2 1 2 1 1 2 1]\n",
      "j 0.1651492063492062\n",
      "X_jini_list [0.07488547008546997, 0.06479999999999991, 0.08871435654721642, 0.10084952753339838, 0.05220226082161557, 0.08871435654721642, 0.09689546388493742, 0.07849267139479887, 0.06637575757575737, 0.006577777777777627, 0.09709905946118275, 0.06417777777777772, 0.050669488536154994, 0.07849267139479887, 0.07849267139479887, 0.06417777777777772, 0.10084952753339838, 0.10084952753339838, 0.05220226082161557, 0.07849267139479887, 0.04232657004830909, 0.08871435654721642, 0.09689546388493742, 0.04267205387205367, 0.07849267139479887, 0.09709905946118275, 0.020281481481481234, 0.09689546388493742, 0.020281481481481234, 0.07775943562610219, 0.07775943562610219, 0.0727150813344361, 0.013434920634920515, 0.027422848200312766, 0.09689546388493742, 0.0837673202614378, 0.013434920634920515, 0.06257777777777773, 0.006577777777777627, 0.002503703703703456, 0.013434920634920515, 0.06257777777777773, 0.09709905946118275, 0.03476825396825384, 0.06637575757575737, 0.06257777777777773, 0.06637575757575737, 0.09689546388493742, 0.013434920634920515, 0.007422848200312766, 0.06417777777777772, 0.10084952753339838, 0.06257777777777773, 0.04267205387205367, 0.06257777777777773, 0.04267205387205367, 0.04267205387205367, 0.0727150813344361, 0.006577777777777627, 0.10084952753339838, 0.05220226082161557, 0.07775943562610219, 0.08871435654721642, 0.055668686868686645, 0.0837673202614378, 0.07849267139479887, 0.09709905946118275, 0.0837673202614378, 0.06417777777777772, 0.06479999999999991, 0.0837673202614378, 0.05220226082161557, 0.10084952753339838, 0.0, 0.09689546388493742, 0.07488547008546997, 0.3565922077922077, 0.03667301587301569, 0.2582784580498865, 0.1741968253968253, 0.3177987080103358, 0.2642677473826409, 0.3527133870712817, 0.06637575757575737, 0.027422848200312766, 0.1741968253968253, 0.20204947589098515, 0.21777777777777765, 0.2642677473826409, 0.2642677473826409, 0.3177987080103358, 0.20204947589098515, 0.1741968253968253, 0.014066362252663389, 0.1651492063492062, 0.03476825396825384, 0.07898803418803402, 0.1651492063492062, 0.10765304659498193, 0.04464541062801913, 0.13923314500941597, 0.006577777777777627, 0.06637575757575737, 0.01333576864535746, 0.10765304659498193, 0.3565922077922077, 0.2290614379084966, 0.04464541062801913, 0.020281481481481234, 0.15048582375478914, 0.3565922077922077, 0.04464541062801913, 0.11171438979963555, 0.006938138138137984, 0.0, 0.02892519561815321, 0.09271534391534375, 0.2290614379084966, 0.0501071895424835, 0.0501071895424835, 0.2642677473826409, 0.09271534391534375, 0.3527133870712817, 0.15048582375478914, 0.1741968253968253, 0.2737999999999998, 0.1651492063492062, 0.1651492063492062, 0.07898803418803402, 0.3131296668260799, 0.3527133870712817, 0.1741968253968253, 0.11171438979963555, 0.014066362252663389, 0.2582784580498865, 0.07898803418803402, 0.3177987080103358, 0.3177987080103358, 0.2642677473826409, 0.04464541062801913, 0.21777777777777765, 0.3565922077922077, 0.3131296668260799, 0.21777777777777765, 0.20204947589098515, 0.3177987080103358, 0.10765304659498193, 0.1651492063492062]\n",
      "i 72\n",
      "k 1\n",
      "m [2 1 2 2 1 2 2 2 2 1 1 1 2 2 2 2 2 2 2 2 1 2 2 2 2 2 2 2 2 1 2 2 2 2 2 1 2\n",
      " 2 2 2 2 1 1 2 2 1 2 1 2 1 1 1 1 1 1 2]\n",
      "n [1 1 1 1 1 1 1 1 1 1 1 1 1 1 1 1 1 1 1]\n",
      "j 0.1741968253968253\n",
      "X_jini_list [0.07488547008546997, 0.06479999999999991, 0.08871435654721642, 0.10084952753339838, 0.05220226082161557, 0.08871435654721642, 0.09689546388493742, 0.07849267139479887, 0.06637575757575737, 0.006577777777777627, 0.09709905946118275, 0.06417777777777772, 0.050669488536154994, 0.07849267139479887, 0.07849267139479887, 0.06417777777777772, 0.10084952753339838, 0.10084952753339838, 0.05220226082161557, 0.07849267139479887, 0.04232657004830909, 0.08871435654721642, 0.09689546388493742, 0.04267205387205367, 0.07849267139479887, 0.09709905946118275, 0.020281481481481234, 0.09689546388493742, 0.020281481481481234, 0.07775943562610219, 0.07775943562610219, 0.0727150813344361, 0.013434920634920515, 0.027422848200312766, 0.09689546388493742, 0.0837673202614378, 0.013434920634920515, 0.06257777777777773, 0.006577777777777627, 0.002503703703703456, 0.013434920634920515, 0.06257777777777773, 0.09709905946118275, 0.03476825396825384, 0.06637575757575737, 0.06257777777777773, 0.06637575757575737, 0.09689546388493742, 0.013434920634920515, 0.007422848200312766, 0.06417777777777772, 0.10084952753339838, 0.06257777777777773, 0.04267205387205367, 0.06257777777777773, 0.04267205387205367, 0.04267205387205367, 0.0727150813344361, 0.006577777777777627, 0.10084952753339838, 0.05220226082161557, 0.07775943562610219, 0.08871435654721642, 0.055668686868686645, 0.0837673202614378, 0.07849267139479887, 0.09709905946118275, 0.0837673202614378, 0.06417777777777772, 0.06479999999999991, 0.0837673202614378, 0.05220226082161557, 0.10084952753339838, 0.0, 0.09689546388493742, 0.07488547008546997, 0.3565922077922077, 0.03667301587301569, 0.2582784580498865, 0.1741968253968253, 0.3177987080103358, 0.2642677473826409, 0.3527133870712817, 0.06637575757575737, 0.027422848200312766, 0.1741968253968253, 0.20204947589098515, 0.21777777777777765, 0.2642677473826409, 0.2642677473826409, 0.3177987080103358, 0.20204947589098515, 0.1741968253968253, 0.014066362252663389, 0.1651492063492062, 0.03476825396825384, 0.07898803418803402, 0.1651492063492062, 0.10765304659498193, 0.04464541062801913, 0.13923314500941597, 0.006577777777777627, 0.06637575757575737, 0.01333576864535746, 0.10765304659498193, 0.3565922077922077, 0.2290614379084966, 0.04464541062801913, 0.020281481481481234, 0.15048582375478914, 0.3565922077922077, 0.04464541062801913, 0.11171438979963555, 0.006938138138137984, 0.0, 0.02892519561815321, 0.09271534391534375, 0.2290614379084966, 0.0501071895424835, 0.0501071895424835, 0.2642677473826409, 0.09271534391534375, 0.3527133870712817, 0.15048582375478914, 0.1741968253968253, 0.2737999999999998, 0.1651492063492062, 0.1651492063492062, 0.07898803418803402, 0.3131296668260799, 0.3527133870712817, 0.1741968253968253, 0.11171438979963555, 0.014066362252663389, 0.2582784580498865, 0.07898803418803402, 0.3177987080103358, 0.3177987080103358, 0.2642677473826409, 0.04464541062801913, 0.21777777777777765, 0.3565922077922077, 0.3131296668260799, 0.21777777777777765, 0.20204947589098515, 0.3177987080103358, 0.10765304659498193, 0.1651492063492062, 0.1741968253968253]\n",
      "i 73\n",
      "k 1\n",
      "m [2 2 2 2 2 2 2 2 2 2 2 2 2 2 2 2 2 2 2 2 2 2 2 2 2 1 2 2 2 2 2 2 1 2 2 2 2\n",
      " 1]\n",
      "n [1 1 1 1 1 1 1 1 1 1 1 1 1 1 1 1 1 1 2 1 1 1 1 1 1 1 1 1 1 1 1 1 1 2 1 1 2]\n",
      "j 0.3527133870712817\n",
      "X_jini_list [0.07488547008546997, 0.06479999999999991, 0.08871435654721642, 0.10084952753339838, 0.05220226082161557, 0.08871435654721642, 0.09689546388493742, 0.07849267139479887, 0.06637575757575737, 0.006577777777777627, 0.09709905946118275, 0.06417777777777772, 0.050669488536154994, 0.07849267139479887, 0.07849267139479887, 0.06417777777777772, 0.10084952753339838, 0.10084952753339838, 0.05220226082161557, 0.07849267139479887, 0.04232657004830909, 0.08871435654721642, 0.09689546388493742, 0.04267205387205367, 0.07849267139479887, 0.09709905946118275, 0.020281481481481234, 0.09689546388493742, 0.020281481481481234, 0.07775943562610219, 0.07775943562610219, 0.0727150813344361, 0.013434920634920515, 0.027422848200312766, 0.09689546388493742, 0.0837673202614378, 0.013434920634920515, 0.06257777777777773, 0.006577777777777627, 0.002503703703703456, 0.013434920634920515, 0.06257777777777773, 0.09709905946118275, 0.03476825396825384, 0.06637575757575737, 0.06257777777777773, 0.06637575757575737, 0.09689546388493742, 0.013434920634920515, 0.007422848200312766, 0.06417777777777772, 0.10084952753339838, 0.06257777777777773, 0.04267205387205367, 0.06257777777777773, 0.04267205387205367, 0.04267205387205367, 0.0727150813344361, 0.006577777777777627, 0.10084952753339838, 0.05220226082161557, 0.07775943562610219, 0.08871435654721642, 0.055668686868686645, 0.0837673202614378, 0.07849267139479887, 0.09709905946118275, 0.0837673202614378, 0.06417777777777772, 0.06479999999999991, 0.0837673202614378, 0.05220226082161557, 0.10084952753339838, 0.0, 0.09689546388493742, 0.07488547008546997, 0.3565922077922077, 0.03667301587301569, 0.2582784580498865, 0.1741968253968253, 0.3177987080103358, 0.2642677473826409, 0.3527133870712817, 0.06637575757575737, 0.027422848200312766, 0.1741968253968253, 0.20204947589098515, 0.21777777777777765, 0.2642677473826409, 0.2642677473826409, 0.3177987080103358, 0.20204947589098515, 0.1741968253968253, 0.014066362252663389, 0.1651492063492062, 0.03476825396825384, 0.07898803418803402, 0.1651492063492062, 0.10765304659498193, 0.04464541062801913, 0.13923314500941597, 0.006577777777777627, 0.06637575757575737, 0.01333576864535746, 0.10765304659498193, 0.3565922077922077, 0.2290614379084966, 0.04464541062801913, 0.020281481481481234, 0.15048582375478914, 0.3565922077922077, 0.04464541062801913, 0.11171438979963555, 0.006938138138137984, 0.0, 0.02892519561815321, 0.09271534391534375, 0.2290614379084966, 0.0501071895424835, 0.0501071895424835, 0.2642677473826409, 0.09271534391534375, 0.3527133870712817, 0.15048582375478914, 0.1741968253968253, 0.2737999999999998, 0.1651492063492062, 0.1651492063492062, 0.07898803418803402, 0.3131296668260799, 0.3527133870712817, 0.1741968253968253, 0.11171438979963555, 0.014066362252663389, 0.2582784580498865, 0.07898803418803402, 0.3177987080103358, 0.3177987080103358, 0.2642677473826409, 0.04464541062801913, 0.21777777777777765, 0.3565922077922077, 0.3131296668260799, 0.21777777777777765, 0.20204947589098515, 0.3177987080103358, 0.10765304659498193, 0.1651492063492062, 0.1741968253968253, 0.3527133870712817]\n",
      "i 74\n",
      "k 1\n"
     ]
    }
   ],
   "source": [
    "#まずサンプル数とる\n",
    "X_train_i_len = len(X_train_i)\n",
    "#リスト初期化\n",
    "X_jini_list = []\n",
    "#縦と横に繰り返す\n",
    "for k in range(X_train_i_hen):\n",
    "    for i in range(X_train_i_len):\n",
    "        m = np.hstack((y_train_i[X_train_i[:,k] > X_train_i[i,k]],y_train_i[X_train_i[:,k] == X_train_i[i,k]]))\n",
    "        #左と仮定しyを出す\n",
    "        n = y_train_i[X_train_i[:,k]<X_train_i[i,k]]  \n",
    "        print(\"m\",m)\n",
    "        print(\"n\",n)\n",
    "        j= jyouhou(y_train_i,m,n)\n",
    "        print(\"j\",j) \n",
    "        #けたが落ちる・・・\n",
    "        #j *= 100000\n",
    "        #print(\"j100\",j)\n",
    "        X_jini_list.append(j)\n",
    "        #np.put(Xcop,[i,k] ,[j])\n",
    "        #print(\"Xcop\",Xcop)\n",
    "        print(\"X_jini_list\",X_jini_list)\n",
    "        print(\"i\",i)\n",
    "        print(\"k\",k)"
   ]
  },
  {
   "cell_type": "code",
   "execution_count": null,
   "metadata": {},
   "outputs": [],
   "source": [
    "c = np.reshape(X_jini_list,[3,30])"
   ]
  },
  {
   "cell_type": "markdown",
   "metadata": {},
   "source": [
    "### 情報利得のリストをXの配列にして最大値とる"
   ]
  },
  {
   "cell_type": "code",
   "execution_count": 286,
   "metadata": {},
   "outputs": [],
   "source": [
    "a = np.arange(90)\n",
    "#print(a)\n",
    "b = np.reshape(a,[3,30])\n",
    "bb = np.reshape(X_jini_list,[X_train_i_hen,X_train_i_len])\n",
    "#print(b)\n",
    "#print(b.T)"
   ]
  },
  {
   "cell_type": "code",
   "execution_count": 447,
   "metadata": {},
   "outputs": [],
   "source": [
    "#リストをまず各特徴量ごとに区切って、転置しXの配列に合わせる\n",
    "#bb = np.reshape(X_jini_list,[X_train_i_hen,X_train_i_len])\n",
    "#print(bb)\n",
    "#cc = bb.T\n",
    "#print(cc)\n",
    "#print(d)"
   ]
  },
  {
   "cell_type": "code",
   "execution_count": 415,
   "metadata": {},
   "outputs": [
    {
     "name": "stdout",
     "output_type": "stream",
     "text": [
      "0.3565922077922077\n",
      "(array([ 1, 30, 35, 66]), array([1, 1, 1, 1]))\n"
     ]
    }
   ],
   "source": [
    "#配列から最大値をとる\n",
    "print(np.amax(cc))\n",
    "#max_cc=np.amax(cc)\n",
    "max_cc = np.where(cc == np.amax(cc))\n",
    "#np.where(max_cc)\n",
    "print(max_cc)"
   ]
  },
  {
   "cell_type": "code",
   "execution_count": 416,
   "metadata": {},
   "outputs": [
    {
     "name": "stdout",
     "output_type": "stream",
     "text": [
      "(1, 1)\n"
     ]
    }
   ],
   "source": [
    "#配列を取ってくる\n",
    "max_cc_one = max_cc[0][0], max_cc[1][0]\n",
    "print(max_cc_one)"
   ]
  },
  {
   "cell_type": "code",
   "execution_count": 417,
   "metadata": {},
   "outputs": [
    {
     "name": "stdout",
     "output_type": "stream",
     "text": [
      "(1, 1)\n"
     ]
    }
   ],
   "source": [
    "#配列をとる（鈴木さんアドバイス)（速度早いやり方)\n",
    "#この取り方だと、情報利得のリストをXに合わせる必要がなさそう\n",
    "tmp = np.argmax(cc)\n",
    "tmp = tmp //cc.shape[1], tmp%cc.shape[1]\n",
    "print(tmp)"
   ]
  },
  {
   "cell_type": "code",
   "execution_count": 272,
   "metadata": {},
   "outputs": [
    {
     "data": {
      "text/plain": [
       "array([0, 1, 0, 1, 1, 1, 1, 1, 0, 1, 1, 1, 1, 1, 1, 1, 1, 1, 0, 1, 0, 0,\n",
       "       1, 1, 0, 1, 0, 0, 0, 1, 1, 1, 1, 0, 1, 1, 1, 1, 1, 0, 1, 1, 1, 1,\n",
       "       0, 1, 1, 1, 1, 1, 1, 1, 1, 1, 1, 1, 1, 1, 1, 1, 1, 1, 1, 1, 0, 1,\n",
       "       1, 1, 1, 1, 1, 1, 1, 1, 1])"
      ]
     },
     "execution_count": 272,
     "metadata": {},
     "output_type": "execute_result"
    }
   ],
   "source": [
    "np.argmax(cc, axis=1)"
   ]
  },
  {
   "cell_type": "code",
   "execution_count": 270,
   "metadata": {},
   "outputs": [
    {
     "data": {
      "text/plain": [
       "0.3565922077922077"
      ]
     },
     "execution_count": 270,
     "metadata": {},
     "output_type": "execute_result"
    }
   ],
   "source": [
    "cc.max()"
   ]
  },
  {
   "cell_type": "code",
   "execution_count": 289,
   "metadata": {},
   "outputs": [
    {
     "data": {
      "text/plain": [
       "4.8"
      ]
     },
     "execution_count": 289,
     "metadata": {},
     "output_type": "execute_result"
    }
   ],
   "source": [
    "#取得した配列からXの閾値をとる\n",
    "X_train_i[tmp]\n",
    "X_train_i[max_cc_one]"
   ]
  },
  {
   "cell_type": "code",
   "execution_count": 261,
   "metadata": {},
   "outputs": [
    {
     "data": {
      "text/plain": [
       "array([[0, 1, 2],\n",
       "       [3, 4, 5]])"
      ]
     },
     "execution_count": 261,
     "metadata": {},
     "output_type": "execute_result"
    }
   ],
   "source": [
    "np.arange(6).reshape(2,3) >= 4"
   ]
  },
  {
   "cell_type": "code",
   "execution_count": 257,
   "metadata": {},
   "outputs": [
    {
     "name": "stdout",
     "output_type": "stream",
     "text": [
      "[ 1 30 35 66]\n"
     ]
    }
   ],
   "source": [
    "print(max_cc[0])"
   ]
  },
  {
   "cell_type": "code",
   "execution_count": 238,
   "metadata": {},
   "outputs": [
    {
     "name": "stdout",
     "output_type": "stream",
     "text": [
      "[4.8 4.8 4.8 4.8]\n"
     ]
    }
   ],
   "source": [
    "#情報・・の最大値のXをとる\n",
    "sb_X = X_train_i[max_cc]\n",
    "print(sb_X)"
   ]
  },
  {
   "cell_type": "code",
   "execution_count": 245,
   "metadata": {},
   "outputs": [
    {
     "data": {
      "text/plain": [
       "(array([ 1, 30, 35, 66]), array([1, 1, 1, 1]))"
      ]
     },
     "execution_count": 245,
     "metadata": {},
     "output_type": "execute_result"
    }
   ],
   "source": [
    "#print(X_train_i)\n",
    "#print(X_train_i[39,:])\n",
    "np.where(X_train_i == 4.8)"
   ]
  },
  {
   "cell_type": "code",
   "execution_count": 246,
   "metadata": {},
   "outputs": [
    {
     "data": {
      "image/png": "[encoded data removed]",
      "text/plain": [
       "<Figure size 432x288 with 1 Axes>"
      ]
     },
     "metadata": {
      "needs_background": "light"
     },
     "output_type": "display_data"
    }
   ],
   "source": [
    "#トレインデータ\n",
    "plt.plot(X_train_i[y_train_i == 1][:, 0], X_train_i[y_train_i == 1][:, 1], 'ro')\n",
    "plt.plot(X_train_i[y_train_i == 2][:, 0], X_train_i[y_train_i == 2][:, 1], 'bo')\n",
    "plt.show()"
   ]
  },
  {
   "cell_type": "code",
   "execution_count": 284,
   "metadata": {},
   "outputs": [
    {
     "data": {
      "image/png": "[encoded data removed]",
      "text/plain": [
       "<Figure size 432x288 with 1 Axes>"
      ]
     },
     "metadata": {
      "needs_background": "light"
     },
     "output_type": "display_data"
    }
   ],
   "source": [
    "#テストデータ\n",
    "plt.plot(X_test_i[y_test_i == 1][:, 0], X_test_i[y_test_i == 1][:, 1], 'ro')\n",
    "plt.plot(X_test_i[y_test_i == 2][:, 0], X_test_i[y_test_i == 2][:, 1], 'bo')\n",
    "plt.show()"
   ]
  },
  {
   "cell_type": "markdown",
   "metadata": {},
   "source": [
    "### わけた時のクラスを取得する"
   ]
  },
  {
   "cell_type": "code",
   "execution_count": 294,
   "metadata": {},
   "outputs": [
    {
     "name": "stdout",
     "output_type": "stream",
     "text": [
      "37\n"
     ]
    }
   ],
   "source": [
    "#予測のために、閾値でトレインデータを分けたときにどちらのラベルが多いのか多数決でラベルを決める\n",
    "\n",
    "#Yのクラスの数を取得\n",
    "y_uni = np.unique(y_train_i)\n",
    "\n",
    "#配列\n",
    "#tmp\n",
    "#閾値\n",
    "#X_train_i[tmp]\n",
    "\n",
    "#for i in range(len(y_uni)):\n",
    "a=len(y_train_i[y_train_i==y_uni[0]][X_train_i)\n",
    "print(a)"
   ]
  },
  {
   "cell_type": "code",
   "execution_count": 358,
   "metadata": {},
   "outputs": [
    {
     "name": "stdout",
     "output_type": "stream",
     "text": [
      "[1 1 1]\n",
      "[2 2 2 2 2 2 2 2 2 2 2 2 2 2 2 2 2 2 2 2 2 2 2 2 2 2 2 2 2 2 2 2 2 2 2]\n",
      "2\n",
      "1\n"
     ]
    }
   ],
   "source": [
    "#多数決の流れを一つずつ\n",
    "\n",
    "#閾値以上の条件を作る\n",
    "y_left = X_train_i[:,tmp[1]] > X_train_i[tmp]\n",
    "#閾値以上のXとyを入れる\n",
    "X_leff = X_train_i[y_left==True]\n",
    "Y_leff = y_train_i[y_left==True]\n",
    "#print(X_leff)\n",
    "#閾値以上のY＝0を出す\n",
    "print(Y_leff[Y_leff==y_uni[0]])\n",
    "print(Y_leff[Y_leff==y_uni[1]])\n",
    "#閾値以上のクラスをカウントして多数決\n",
    "Y0_left = len(Y_leff[Y_leff==y_uni[0]])\n",
    "Y1_left = len(Y_leff[Y_leff==y_uni[1]])\n",
    "\n",
    " #どちらのラベルかを決定する\n",
    "if Y0_left>Y1_left:\n",
    "    left_class = y_uni[0]\n",
    "    right_class = y_uni[1]\n",
    "else:\n",
    "    left_class = y_uni[1]\n",
    "    right_class = y_uni[0]\n",
    "    \n",
    "print(left_class)\n",
    "print(right_class)"
   ]
  },
  {
   "cell_type": "markdown",
   "metadata": {},
   "source": [
    "### 予測"
   ]
  },
  {
   "cell_type": "code",
   "execution_count": 363,
   "metadata": {},
   "outputs": [
    {
     "name": "stdout",
     "output_type": "stream",
     "text": [
      "[False False False  True False False  True  True False False False  True\n",
      "  True  True False  True False  True  True  True False  True False  True\n",
      "  True]\n"
     ]
    },
    {
     "data": {
      "text/plain": [
       "array([1, 1, 1, 2, 1, 1, 2, 2, 1, 1, 1, 2, 2, 2, 1, 2, 1, 2, 2, 2, 1, 2,\n",
       "       1, 2, 2])"
      ]
     },
     "execution_count": 363,
     "metadata": {},
     "output_type": "execute_result"
    }
   ],
   "source": [
    "#予測\n",
    "y_test_left = X_test_i[:,tmp[1]] > X_train_i[tmp]\n",
    "#Y_test_leff = y_test_i[y_test_left==True]\n",
    "print(y_test_left)\n",
    "\n",
    "#条件で値変換\n",
    "np.where(y_test_left==True,left_class,right_class)"
   ]
  },
  {
   "cell_type": "code",
   "execution_count": 393,
   "metadata": {},
   "outputs": [
    {
     "name": "stdout",
     "output_type": "stream",
     "text": [
      "[1 1 1 2 1 1 2 2 1 1 1 2 2 2 1 2 1 2 2 2 1 2 1 2 2]\n"
     ]
    }
   ],
   "source": [
    "y_pred = np.where(y_test_left==True,left_class,right_class)\n",
    "print(y_pred)"
   ]
  },
  {
   "cell_type": "code",
   "execution_count": 300,
   "metadata": {},
   "outputs": [
    {
     "data": {
      "text/plain": [
       "4.8"
      ]
     },
     "execution_count": 300,
     "metadata": {},
     "output_type": "execute_result"
    }
   ],
   "source": [
    "X_train_i[tmp]"
   ]
  },
  {
   "cell_type": "code",
   "execution_count": 356,
   "metadata": {},
   "outputs": [],
   "source": [
    "#X_train_i[:,tmp[1]] > X_train_i[tmp]"
   ]
  },
  {
   "cell_type": "code",
   "execution_count": 355,
   "metadata": {},
   "outputs": [],
   "source": [
    "#y_train_i[y_train_i==y_uni[0]],[X_train_i[:,tmp[1]] > X_train_i[tmp]]"
   ]
  },
  {
   "cell_type": "code",
   "execution_count": 350,
   "metadata": {},
   "outputs": [],
   "source": [
    "#print(X_train_i)"
   ]
  },
  {
   "cell_type": "code",
   "execution_count": 325,
   "metadata": {},
   "outputs": [],
   "source": [
    "#閾値以上のy０\n",
    "y_left_y0 = y_left[y_train_i==y_uni[0]]"
   ]
  },
  {
   "cell_type": "code",
   "execution_count": 331,
   "metadata": {},
   "outputs": [
    {
     "name": "stdout",
     "output_type": "stream",
     "text": [
      "[ True  True  True]\n"
     ]
    }
   ],
   "source": [
    "print(y_left_y0[y_left_y0==True])"
   ]
  },
  {
   "cell_type": "code",
   "execution_count": 326,
   "metadata": {},
   "outputs": [
    {
     "data": {
      "text/plain": [
       "37"
      ]
     },
     "execution_count": 326,
     "metadata": {},
     "output_type": "execute_result"
    }
   ],
   "source": [
    "#閾値以上のy０数\n",
    "len(y_left_y0)"
   ]
  },
  {
   "cell_type": "code",
   "execution_count": 333,
   "metadata": {},
   "outputs": [],
   "source": [
    "#一つで条件作りたかったが動かない\n",
    "#y_train_i[y_train_i==y_uni[0][X_train_i[:,tmp[1]] > X_train_i[tmp] == True]]"
   ]
  },
  {
   "cell_type": "markdown",
   "metadata": {},
   "source": [
    "### 動くものをキープ"
   ]
  },
  {
   "cell_type": "code",
   "execution_count": null,
   "metadata": {
    "code_folding": [
     0
    ]
   },
   "outputs": [],
   "source": [
    "class ScratchDecesionTreeClassifier_k():\n",
    "    \n",
    "    def __init__(self):\n",
    "        # ハイパーパラメータを属性として記録\n",
    "        #self.iter = num_iter\n",
    "        #self.lr = lr\n",
    "        #self.bias = bias\n",
    "        #self.verbose = verbose\n",
    "        # 損失を記録する配列を用意\n",
    "        #self.loss = np.zeros(self.iter)\n",
    "        #self.val_loss = np.zeros(self.iter)\n",
    "        pass\n",
    "\n",
    "    def _jini(self,y):\n",
    "        jini = 0\n",
    "        #総数\n",
    "        y_len = len(y)\n",
    "        #yのクラスの数\n",
    "        y_uni = np.unique(y)\n",
    "        \n",
    "        for i in range(len(y_uni)):\n",
    "            jini += (len(y[y==y_uni[i]])/y_len)**2\n",
    "            jini =1-jini\n",
    "        return jini\n",
    "    \n",
    "    def _jyouhou(self,y_oya,y_left,y_rigth):\n",
    "        #それぞれの数算出\n",
    "        y_oya_len = len(y_oya)\n",
    "        y_left_len = len(y_left)\n",
    "        y_rigth_len = len(y_rigth)\n",
    "        #jini関数を利用してそれぞれのジニ計数算出\n",
    "        jini_oya = self._jini(y_oya)\n",
    "        jini_left = self._jini(y_left)\n",
    "        jini_rigth = self._jini(y_rigth)\n",
    "        #情報利得算出\n",
    "        j_r= jini_oya-y_left_len/y_oya_len*jini_left-y_rigth_len/y_oya_len*jini_rigth\n",
    "        return j_r\n",
    "    \n",
    "    def _jyouhou_list(self,X,y):\n",
    "        #情報利得を格納するリスト作る\n",
    "        #リスト初期化\n",
    "        X_jini_list = []\n",
    "        \n",
    "        #縦と横に繰り返す\n",
    "        for k in range(self.X_train_i_hen):\n",
    "            for i in range(self.X_train_i_len):\n",
    "                #右と仮定し\n",
    "                m = np.hstack((y[X[:,k] > X[i,k]],y[X[:,k] == X[i,k]]))\n",
    "                #左と仮定しyを出す\n",
    "                n = y[X[:,k]<X[i,k]]  \n",
    "                j= self._jyouhou(y,m,n)\n",
    "                X_jini_list.append(j)\n",
    "                \n",
    "        return X_jini_list\n",
    "\n",
    "    def _jyouhou_list_get(self,X_jini_list):\n",
    "        \n",
    "        #情報利得のリストの変形\n",
    "        #リストをまず各特徴量ごとに区切って、転置しXの配列に合わせる\n",
    "        bb = np.reshape(X_jini_list,[self.X_train_i_hen,self.X_train_i_len])\n",
    "        cc = bb.T\n",
    "        \n",
    "        #配列から最大値をとる\n",
    "        max_cc = np.where(cc == np.amax(cc))        \n",
    "        #Xの最大値の配列の1つを取ってくる\n",
    "        max_cc_one = max_cc[0][0], max_cc[1][0]\n",
    "        \n",
    "        return max_cc_one\n",
    "    \n",
    "    \n",
    "    def _get_class_and_border(self,X,y,X_max_hai_one):\n",
    "        \n",
    "        #Xの閾値の値取得\n",
    "        X_border = X[X_max_hai_one]\n",
    "        #閾値以上の条件を作る\n",
    "        y_left = X[:,X_max_hai_one[1]] > X_border\n",
    "        #閾値以上のXとyを入れる\n",
    "        X_leff = X[y_left==True]\n",
    "        Y_leff = X[y_left==True]\n",
    "        #print(X_leff)\n",
    "        #閾値以上のY＝0を出す\n",
    "        #閾値以上のクラスをカウントして多数決\n",
    "        Y0_left = len(Y_leff[Y_leff==self.y_uni[0]])\n",
    "        Y1_left = len(Y_leff[Y_leff==self.y_uni[1]])\n",
    "        \n",
    "        #どちらのラベルかを確認する\n",
    "        if Y0_left>Y1_left:\n",
    "            left_class = self.y_uni[0]\n",
    "            right_class = self.y_uni[1]\n",
    "        else:\n",
    "            left_class = self.y_uni[1]\n",
    "            right_class = self.y_uni[0]\n",
    "        \n",
    "        return left_class,right_class,X_border\n",
    "\n",
    "    \n",
    "    def fit(self, X, y):\n",
    "        #この3つセルフいらない？\n",
    "        #まずサンプル数の長さ\n",
    "        self.X_train_i_len = len(X)\n",
    "        #変数の数をとる\n",
    "        self.X_train_i_hen = X.shape[1]\n",
    "        #クラスの数取得\n",
    "        self.y_uni = np.unique(y)\n",
    "\n",
    "        #情報利得の関数でリスト取得\n",
    "        X_jini_list = self._jyouhou_list(X,y)\n",
    "        \n",
    "        #情報利得の関数で最大値のXの配列を取得(:,:)のタプル\n",
    "        self.X_max_hai_one = self._jyouhou_list_get(X_jini_list)\n",
    "        \n",
    "        #クラスとXのボーダー取得\n",
    "        self.left_class,self.right_class,self.X_border = self._get_class_and_border(X,y,self.X_max_hai_one)        \n",
    "                  \n",
    "        return self.left_class,self.right_class,self.X_border,X_jini_list,self.X_max_hai_one\n",
    "    \n",
    "    def predict(self,X):\n",
    "        #予測\n",
    "        y_test_left = X[:,self.X_max_hai_one[1]] > self.X_border\n",
    "        #条件で値変換\n",
    "        y_pred = np.where(y_test_left==True,self.left_class,self.right_class)\n",
    "        return y_pred"
   ]
  },
  {
   "cell_type": "markdown",
   "metadata": {},
   "source": [
    "## 【問題6】指標値の算出"
   ]
  },
  {
   "cell_type": "code",
   "execution_count": 444,
   "metadata": {},
   "outputs": [
    {
     "name": "stdout",
     "output_type": "stream",
     "text": [
      "0.96\n",
      "1.0\n",
      "0.9230769230769231\n",
      "0.9600000000000001\n",
      "[[12  1]\n",
      " [ 0 12]]\n"
     ]
    }
   ],
   "source": [
    "#アイリスデータ2\n",
    "print(accuracy_score(y_test_i, ypre))\n",
    "print(precision_score(y_test_i, ypre))\n",
    "print(recall_score(y_test_i, ypre))\n",
    "print(f1_score(y_test_i, ypre))\n",
    "print(confusion_matrix(y_test_i, ypre))"
   ]
  },
  {
   "cell_type": "markdown",
   "metadata": {},
   "source": [
    "## 【問題7】決定領域の可視化"
   ]
  },
  {
   "cell_type": "code",
   "execution_count": 428,
   "metadata": {
    "code_folding": [
     0
    ]
   },
   "outputs": [],
   "source": [
    "def decision_region(X, y, model, step=0.01, title='decision region', xlabel='xlabel', ylabel='ylabel', target_names=['versicolor', 'virginica']):\n",
    "    \"\"\"\n",
    "    2値分類を2次元の特徴量で学習したモデルの決定領域を描く。\n",
    "    背景の色が学習したモデルによる推定値から描画される。\n",
    "    散布図の点は訓練データまたは検証データである。\n",
    "\n",
    "    Parameters\n",
    "    ----------------\n",
    "    X : ndarray, shape(n_samples, 2)\n",
    "        特徴量\n",
    "    y : ndarray, shape(n_samples,)\n",
    "        ラベル\n",
    "    model : object\n",
    "        学習したモデルのインスンタスを入れる\n",
    "    step : float, (default : 0.1)\n",
    "        推定値を計算する間隔を設定する\n",
    "    title : str\n",
    "        グラフのタイトルの文章を与える\n",
    "    xlabel, ylabel : str\n",
    "        軸ラベルの文章を与える\n",
    "    target_names= : list of str\n",
    "        凡例の一覧を与える\n",
    "    \"\"\"\n",
    "    # setting\n",
    "    scatter_color = ['red', 'blue']\n",
    "    contourf_color = ['pink', 'skyblue']\n",
    "    n_class = 2\n",
    "\n",
    "    # pred\n",
    "    mesh_f0, mesh_f1  = np.meshgrid(np.arange(np.min(X[:,0])-0.5, np.max(X[:,0])+0.5, step), np.arange(np.min(X[:,1])-0.5, np.max(X[:,1])+0.5, step))\n",
    "    mesh = np.c_[np.ravel(mesh_f0),np.ravel(mesh_f1)]\n",
    "    y_pred = model.predict(mesh).reshape(mesh_f0.shape)\n",
    "    \n",
    "    # plot\n",
    "    plt.title(title)\n",
    "    plt.xlabel(xlabel)\n",
    "    plt.ylabel(ylabel)\n",
    "    plt.contourf(mesh_f0, mesh_f1, y_pred, n_class-1, cmap=ListedColormap(contourf_color))\n",
    "    plt.contour(mesh_f0, mesh_f1, y_pred, n_class-1, colors='y', linewidths=3, alpha=0.5)\n",
    "    for i, target in enumerate(set(y)):\n",
    "        plt.scatter(X[y==target][:, 0], X[y==target][:, 1], s=80, color=scatter_color[i], label=target_names[i], marker='o')\n",
    "    patches = [mpatches.Patch(color=scatter_color[i], label=target_names[i]) for i in range(n_class)]\n",
    "    plt.legend(handles=patches)\n",
    "    plt.legend()\n",
    "    #plt.scatter(sb_X[:, 0],sb_X[:, 1],color='y',marker='o')\n",
    "    plt.show()"
   ]
  },
  {
   "cell_type": "code",
   "execution_count": 445,
   "metadata": {},
   "outputs": [
    {
     "data": {
      "image/png": "[encoded data removed]",
      "text/plain": [
       "<Figure size 432x288 with 1 Axes>"
      ]
     },
     "metadata": {
      "needs_background": "light"
     },
     "output_type": "display_data"
    }
   ],
   "source": [
    "decision_region(X=X_train_i, y=y_train_i, model=sdt)"
   ]
  },
  {
   "cell_type": "code",
   "execution_count": 446,
   "metadata": {},
   "outputs": [
    {
     "data": {
      "image/png": "[encoded data removed]",
      "text/plain": [
       "<Figure size 432x288 with 1 Axes>"
      ]
     },
     "metadata": {
      "needs_background": "light"
     },
     "output_type": "display_data"
    }
   ],
   "source": [
    "decision_region(X=X_test_i, y=y_test_i, model=sdt)"
   ]
  },
  {
   "cell_type": "markdown",
   "metadata": {},
   "source": [
    "## 【問題8】決定木の利用場面"
   ]
  },
  {
   "cell_type": "markdown",
   "metadata": {},
   "source": [
    "決定木が他の手法に比べて有効だと考えられるのはどういった場面か"
   ]
  },
  {
   "cell_type": "markdown",
   "metadata": {},
   "source": [
    "・ラベルごとのデータは固まっている(傾向がある)が、塊？偏り？が複数に渡る場合。  \n",
    "・ある特徴量の数値をもとに分類できる場合。  "
   ]
  }
 ],
 "metadata": {
  "kernelspec": {
   "display_name": "Python 3",
   "language": "python",
   "name": "python3"
  },
  "language_info": {
   "codemirror_mode": {
    "name": "ipython",
    "version": 3
   },
   "file_extension": ".py",
   "mimetype": "text/x-python",
   "name": "python",
   "nbconvert_exporter": "python",
   "pygments_lexer": "ipython3",
   "version": "3.7.3"
  },
  "toc": {
   "base_numbering": 1,
   "nav_menu": {},
   "number_sections": true,
   "sideBar": true,
   "skip_h1_title": false,
   "title_cell": "Table of Contents",
   "title_sidebar": "Contents",
   "toc_cell": false,
   "toc_position": {
    "height": "calc(100% - 180px)",
    "left": "10px",
    "top": "150px",
    "width": "223.390625px"
   },
   "toc_section_display": true,
   "toc_window_display": true
  },
  "varInspector": {
   "cols": {
    "lenName": 16,
    "lenType": 16,
    "lenVar": 40
   },
   "kernels_config": {
    "python": {
     "delete_cmd_postfix": "",
     "delete_cmd_prefix": "del ",
     "library": "var_list.py",
     "varRefreshCmd": "print(var_dic_list())"
    },
    "r": {
     "delete_cmd_postfix": ") ",
     "delete_cmd_prefix": "rm(",
     "library": "var_list.r",
     "varRefreshCmd": "cat(var_dic_list()) "
    }
   },
   "oldHeight": 508,
   "position": {
    "height": "40px",
    "left": "1013px",
    "right": "20px",
    "top": "543px",
    "width": "310px"
   },
   "types_to_exclude": [
    "module",
    "function",
    "builtin_function_or_method",
    "instance",
    "_Feature"
   ],
   "varInspector_section_display": "none",
   "window_display": true
  }
 },
 "nbformat": 4,
 "nbformat_minor": 2
}
