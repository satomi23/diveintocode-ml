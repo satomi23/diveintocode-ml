THICKNESS = 0.00008
# 問題1
THICKNESS = 0.00008
folded_thickness = THICKNESS*2**43
print("厚さ： {}メートル".format(folded_thickness))

# 問題2
print("厚さ： {:.2f}キロメートル".format(folded_thickness/1000))

# 問題3
THICKNESS = 0.00008
folded_thickness = 1

for i in range(43):
    folded_thickness = folded_thickness*2
folded_thicknesss = folded_thickness * THICKNESS
print("厚さ： {}メートル".format(folded_thicknesss))

# 問題4

# 問題5
THICKNESS = 0.00008
folded_thickness = 1
keika_list =[]
keika_list =[0.0008]

for i in range(43):
    folded_thickness = folded_thickness*2
    keika_list.append(folded_thickness * THICKNESS)
    print(keika_list)

# 問題6
plt.title("thickness of folded paper")
plt.xlabel("number of folds")
plt.ylabel("thickness[m]")
plt.plot(keika_list, color='r',ls=":",marker="p")
plt.show()
