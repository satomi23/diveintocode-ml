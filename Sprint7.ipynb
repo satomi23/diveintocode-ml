{
 "cells": [
  {
   "cell_type": "markdown",
   "metadata": {},
   "source": [
    "# Sprint7 機械学習 スクラッチ クラスタリング"
   ]
  },
  {
   "cell_type": "markdown",
   "metadata": {},
   "source": [
    "### BF データセット"
   ]
  },
  {
   "cell_type": "code",
   "execution_count": 1,
   "metadata": {},
   "outputs": [],
   "source": [
    "from sklearn.datasets import make_blobs\n",
    "X, _ = make_blobs(n_samples=100, n_features=2, centers=4, cluster_std=0.5, shuffle=True, random_state=0)"
   ]
  },
  {
   "cell_type": "markdown",
   "metadata": {},
   "source": [
    "### BFインポート"
   ]
  },
  {
   "cell_type": "code",
   "execution_count": 2,
   "metadata": {},
   "outputs": [],
   "source": [
    "import numpy as np"
   ]
  },
  {
   "cell_type": "code",
   "execution_count": 3,
   "metadata": {},
   "outputs": [],
   "source": [
    "import matplotlib.pyplot as plt"
   ]
  },
  {
   "cell_type": "code",
   "execution_count": 5,
   "metadata": {},
   "outputs": [
    {
     "name": "stdout",
     "output_type": "stream",
     "text": [
      "[[ 0.72086751  3.71347124]\n",
      " [-1.89468423  7.96898545]\n",
      " [ 1.35678894  4.36462484]\n",
      " [ 1.05374379  4.49286859]\n",
      " [ 1.59141542  4.90497725]\n",
      " [ 0.78260667  4.15263595]\n",
      " [-1.95751686  3.87291474]\n",
      " [-0.77354537  7.87923564]\n",
      " [ 0.12313498  5.27917503]\n",
      " [-1.43284669  7.71577043]\n",
      " [-0.92819001  7.02698199]\n",
      " [-1.74836345  7.06307447]\n",
      " [-1.26789718  7.25141327]\n",
      " [-0.98661744  7.74968685]\n",
      " [-0.81984047  7.50994722]\n",
      " [ 2.99684287  0.22378413]\n",
      " [ 1.46870582  1.86947425]\n",
      " [-0.33533163  3.390122  ]\n",
      " [-1.86407034  2.93379754]\n",
      " [ 2.62496786  0.28025075]\n",
      " [ 2.11114739  3.57660449]\n",
      " [-1.8219901   7.61654999]\n",
      " [-1.91186205  3.18750686]\n",
      " [ 2.28809874  0.12954182]\n",
      " [ 0.5285368   4.49723858]\n",
      " [-1.57613028  2.58614312]\n",
      " [-0.565433    3.65813966]\n",
      " [ 0.802314    4.38196181]\n",
      " [ 2.79939362  1.84560825]\n",
      " [ 2.64465731  0.80770124]\n",
      " [ 1.7190373   0.71788708]\n",
      " [-0.93564005  7.03443119]\n",
      " [ 2.14398059  0.69677319]\n",
      " [ 2.06051753  1.79059891]\n",
      " [-1.21986433  3.3789856 ]\n",
      " [ 1.13280393  3.87673946]\n",
      " [-1.497272    8.80022604]\n",
      " [ 1.85367905  1.5088862 ]\n",
      " [-0.1666378   8.50372399]\n",
      " [-1.89928142  2.50466299]\n",
      " [ 1.04829186  5.03092408]\n",
      " [-1.44356727  3.23539798]\n",
      " [-1.57006498  6.72375844]\n",
      " [-1.98331513  3.47639041]\n",
      " [-1.87418794  2.84306499]\n",
      " [-1.86097353  8.2576415 ]\n",
      " [ 1.61986895  0.60823883]\n",
      " [-1.84482705  3.25609891]\n",
      " [ 0.72144399  4.08475018]\n",
      " [ 0.5323772   3.31338909]\n",
      " [ 0.3498724   4.69253251]\n",
      " [ 1.89949126  0.92574633]\n",
      " [-1.2386086   2.81373288]\n",
      " [-1.74448079  3.84251413]\n",
      " [-0.96358605  2.37791651]\n",
      " [-1.26041884  7.46644456]\n",
      " [-0.8623605   8.24721209]\n",
      " [ 2.4198128   0.96215512]\n",
      " [ 2.23345072  1.25095024]\n",
      " [-0.65424088  7.99393132]\n",
      " [-1.42525273  7.14798437]\n",
      " [ 1.51989121  1.42488952]\n",
      " [ 2.11872357  1.09865834]\n",
      " [ 1.74265969  5.03846671]\n",
      " [ 1.42002502  1.38236201]\n",
      " [-0.69842598  8.16309188]\n",
      " [-2.18485772  2.68708996]\n",
      " [-1.32890066  2.37135151]\n",
      " [ 2.15940501  1.38598318]\n",
      " [ 1.19820169  4.47062449]\n",
      " [-1.7653772   8.17625727]\n",
      " [ 1.4726926   1.3480769 ]\n",
      " [ 0.92466065  4.50908658]\n",
      " [-1.47602203  7.8441996 ]\n",
      " [ 0.99914934  4.2101954 ]\n",
      " [ 1.40848818  3.93270482]\n",
      " [-0.59312453  3.37090459]\n",
      " [-1.6609057   3.31911046]\n",
      " [ 2.25643834  0.55525861]\n",
      " [ 1.24016835  1.12905479]\n",
      " [ 1.64869438  0.03452236]\n",
      " [-1.61803727  8.60696731]\n",
      " [-1.37778493  3.58107521]\n",
      " [ 0.16932115  4.19741719]\n",
      " [ 1.73810647  0.71629308]\n",
      " [-1.05327803  2.84037721]\n",
      " [ 1.60161834  0.92363636]\n",
      " [ 1.84845803  0.52393625]\n",
      " [ 1.72330962  4.2012082 ]\n",
      " [ 1.00952869  4.45502328]\n",
      " [ 0.96217896  4.51795326]\n",
      " [-1.33869125  2.36818187]\n",
      " [ 0.4519936   3.59377836]\n",
      " [-1.19075663  3.12161318]\n",
      " [-2.27253281  3.13757811]\n",
      " [-1.80044744  7.86154256]\n",
      " [-1.64996061  7.49068513]\n",
      " [-1.56102482  3.77455362]\n",
      " [-0.78782636  7.99482384]\n",
      " [-0.30022483  4.63059663]]\n"
     ]
    }
   ],
   "source": [
    "print(X)"
   ]
  },
  {
   "cell_type": "markdown",
   "metadata": {},
   "source": [
    "## 【問題1】中心点の初期値を決める"
   ]
  },
  {
   "cell_type": "markdown",
   "metadata": {},
   "source": [
    "### 本当にランダムに中心点きめる"
   ]
  },
  {
   "cell_type": "code",
   "execution_count": 6,
   "metadata": {},
   "outputs": [
    {
     "name": "stdout",
     "output_type": "stream",
     "text": [
      "[[ 0.72086751  3.71347124]\n",
      " [-1.89468423  7.96898545]\n",
      " [ 1.35678894  4.36462484]]\n"
     ]
    }
   ],
   "source": [
    "X_center\n",
    "print(X[:3,:])"
   ]
  },
  {
   "cell_type": "code",
   "execution_count": 7,
   "metadata": {},
   "outputs": [],
   "source": [
    "#配列の長さを変数に入れる\n",
    "X_len = len(X)"
   ]
  },
  {
   "cell_type": "code",
   "execution_count": 8,
   "metadata": {},
   "outputs": [],
   "source": [
    "#シード固定\n",
    "np.random.seed(9)"
   ]
  },
  {
   "cell_type": "code",
   "execution_count": 9,
   "metadata": {},
   "outputs": [],
   "source": [
    "#抽出する数をnumに入れる\n",
    "num = 3"
   ]
  },
  {
   "cell_type": "code",
   "execution_count": 31,
   "metadata": {},
   "outputs": [],
   "source": [
    "#重複なしでnumの数をXからランダムにインデックス番号取り出す\n",
    "X_center = np.random.choice(X[:,0], size =num, replace=False)\n",
    "#直接配列からとりたかったけども、1次元しか指定できなor配列の状態気にせずランダムに\n",
    "#抽出する方法しか見つけられなかったので、インデックスで取り出す\n",
    "X_center_index = np.random.choice(X_len, size =num, replace=False)"
   ]
  },
  {
   "cell_type": "code",
   "execution_count": 32,
   "metadata": {},
   "outputs": [
    {
     "name": "stdout",
     "output_type": "stream",
     "text": [
      "[ 0 29 80]\n",
      "4\n"
     ]
    }
   ],
   "source": [
    "print(X_center_index)\n",
    "print(len(new_center_list))"
   ]
  },
  {
   "cell_type": "code",
   "execution_count": 12,
   "metadata": {},
   "outputs": [
    {
     "data": {
      "text/plain": [
       "array([[ 1.40848818,  3.93270482],\n",
       "       [-1.57006498,  6.72375844],\n",
       "       [ 1.61986895,  0.60823883]])"
      ]
     },
     "execution_count": 12,
     "metadata": {},
     "output_type": "execute_result"
    }
   ],
   "source": [
    "#インデックスを利用して、Xの配列を取り出す\n",
    "X[X_center_index,:]"
   ]
  },
  {
   "cell_type": "code",
   "execution_count": 14,
   "metadata": {},
   "outputs": [],
   "source": [
    "#関数化\n",
    "def choice_center(X,num):\n",
    "    X_len = len(X)\n",
    "    X_center_index = np.random.choice(X_len, size =num, replace=False)\n",
    "    X_center = X[X_center_index,:]\n",
    "    return X_center"
   ]
  },
  {
   "cell_type": "code",
   "execution_count": 15,
   "metadata": {},
   "outputs": [],
   "source": [
    "new_center_list = choice_center(X,4)"
   ]
  },
  {
   "cell_type": "code",
   "execution_count": 16,
   "metadata": {},
   "outputs": [
    {
     "name": "stdout",
     "output_type": "stream",
     "text": [
      "[-1.61803727  8.60696731]\n"
     ]
    }
   ],
   "source": [
    "print(new_center_list[0])\n",
    "#print(center_list)"
   ]
  },
  {
   "cell_type": "markdown",
   "metadata": {},
   "source": [
    "### データを任意の数に分割してその中心(平均)の値を中心点にする"
   ]
  },
  {
   "cell_type": "code",
   "execution_count": 6,
   "metadata": {},
   "outputs": [],
   "source": [
    "#分けるを変数に入れる\n",
    "div_num = 4"
   ]
  },
  {
   "cell_type": "code",
   "execution_count": 7,
   "metadata": {},
   "outputs": [],
   "source": [
    "#a,b,c,d=np.array_split(X, div_num, 0)\n",
    "a = []\n",
    "a = np.array_split(X, div_num, 0)"
   ]
  },
  {
   "cell_type": "code",
   "execution_count": 8,
   "metadata": {},
   "outputs": [
    {
     "name": "stdout",
     "output_type": "stream",
     "text": [
      "[-3.83596127e-03  4.74602533e+00]\n"
     ]
    }
   ],
   "source": [
    "#分割したものの平均取る\n",
    "#print(a[0])\n",
    "print(np.mean(a[0],axis = 0))"
   ]
  },
  {
   "cell_type": "code",
   "execution_count": 9,
   "metadata": {},
   "outputs": [],
   "source": [
    "def choice_center_2 (X,div_num):\n",
    "    div_list = []\n",
    "    div_list = np.array_split(X, div_num, 0)\n",
    "    center_list = []\n",
    "    \n",
    "    for i in range(div_num):\n",
    "        center_list.append(np.mean(div_list[i],axis = 0))\n",
    "    return div_list,center_list"
   ]
  },
  {
   "cell_type": "code",
   "execution_count": 10,
   "metadata": {},
   "outputs": [],
   "source": [
    "c,center_list = choice_center_2(X,4)"
   ]
  },
  {
   "cell_type": "code",
   "execution_count": 11,
   "metadata": {},
   "outputs": [
    {
     "name": "stdout",
     "output_type": "stream",
     "text": [
      "[-3.83596127e-03  4.74602533e+00]\n"
     ]
    }
   ],
   "source": [
    "print(center_list[0])"
   ]
  },
  {
   "cell_type": "code",
   "execution_count": 12,
   "metadata": {},
   "outputs": [],
   "source": [
    "c,list_ss = choice_center_2(X,4)"
   ]
  },
  {
   "cell_type": "markdown",
   "metadata": {},
   "source": [
    "## 【問題2】SSEを求める関数の作成"
   ]
  },
  {
   "cell_type": "code",
   "execution_count": 37,
   "metadata": {},
   "outputs": [],
   "source": [
    "def sse(X,div_num,center):\n",
    "    sse_x = 0\n",
    "    for  j in range(X_len):\n",
    "        for i in range(div_num):\n",
    "            if class_list[j] == i:\n",
    "                sse_x += (X[j,:]-v[i])**2\n",
    "    return sse_x\n",
    "#rnkの0,1はどのようにクラス化して持たせるのか次第で追加"
   ]
  },
  {
   "cell_type": "code",
   "execution_count": 38,
   "metadata": {},
   "outputs": [
    {
     "ename": "IndexError",
     "evalue": "list index out of range",
     "output_type": "error",
     "traceback": [
      "\u001b[0;31m---------------------------------------------------------------------------\u001b[0m",
      "\u001b[0;31mIndexError\u001b[0m                                Traceback (most recent call last)",
      "\u001b[0;32m<ipython-input-38-3d7c4be4923d>\u001b[0m in \u001b[0;36m<module>\u001b[0;34m\u001b[0m\n\u001b[0;32m----> 1\u001b[0;31m \u001b[0msse\u001b[0m\u001b[0;34m(\u001b[0m\u001b[0mX\u001b[0m\u001b[0;34m,\u001b[0m\u001b[0;36m4\u001b[0m\u001b[0;34m,\u001b[0m\u001b[0mcenter_list\u001b[0m\u001b[0;34m)\u001b[0m\u001b[0;34m\u001b[0m\u001b[0;34m\u001b[0m\u001b[0m\n\u001b[0m",
      "\u001b[0;32m<ipython-input-37-527a588b9a2b>\u001b[0m in \u001b[0;36msse\u001b[0;34m(X, div_num, center)\u001b[0m\n\u001b[1;32m      3\u001b[0m     \u001b[0;32mfor\u001b[0m  \u001b[0mj\u001b[0m \u001b[0;32min\u001b[0m \u001b[0mrange\u001b[0m\u001b[0;34m(\u001b[0m\u001b[0mX_len\u001b[0m\u001b[0;34m)\u001b[0m\u001b[0;34m:\u001b[0m\u001b[0;34m\u001b[0m\u001b[0;34m\u001b[0m\u001b[0m\n\u001b[1;32m      4\u001b[0m         \u001b[0;32mfor\u001b[0m \u001b[0mi\u001b[0m \u001b[0;32min\u001b[0m \u001b[0mrange\u001b[0m\u001b[0;34m(\u001b[0m\u001b[0mdiv_num\u001b[0m\u001b[0;34m)\u001b[0m\u001b[0;34m:\u001b[0m\u001b[0;34m\u001b[0m\u001b[0;34m\u001b[0m\u001b[0m\n\u001b[0;32m----> 5\u001b[0;31m             \u001b[0;32mif\u001b[0m \u001b[0mclass_list\u001b[0m\u001b[0;34m[\u001b[0m\u001b[0mj\u001b[0m\u001b[0;34m]\u001b[0m \u001b[0;34m==\u001b[0m \u001b[0mi\u001b[0m\u001b[0;34m:\u001b[0m\u001b[0;34m\u001b[0m\u001b[0;34m\u001b[0m\u001b[0m\n\u001b[0m\u001b[1;32m      6\u001b[0m                 \u001b[0msse_x\u001b[0m \u001b[0;34m+=\u001b[0m \u001b[0;34m(\u001b[0m\u001b[0mX\u001b[0m\u001b[0;34m[\u001b[0m\u001b[0mj\u001b[0m\u001b[0;34m,\u001b[0m\u001b[0;34m:\u001b[0m\u001b[0;34m]\u001b[0m\u001b[0;34m-\u001b[0m\u001b[0mv\u001b[0m\u001b[0;34m[\u001b[0m\u001b[0mi\u001b[0m\u001b[0;34m]\u001b[0m\u001b[0;34m)\u001b[0m\u001b[0;34m**\u001b[0m\u001b[0;36m2\u001b[0m\u001b[0;34m\u001b[0m\u001b[0;34m\u001b[0m\u001b[0m\n\u001b[1;32m      7\u001b[0m     \u001b[0;32mreturn\u001b[0m \u001b[0msse_x\u001b[0m\u001b[0;34m\u001b[0m\u001b[0;34m\u001b[0m\u001b[0m\n",
      "\u001b[0;31mIndexError\u001b[0m: list index out of range"
     ]
    }
   ],
   "source": [
    "sse(X,4,center_list)"
   ]
  },
  {
   "cell_type": "markdown",
   "metadata": {},
   "source": [
    "## 【問題3】クラスタへの割り当て"
   ]
  },
  {
   "cell_type": "code",
   "execution_count": 129,
   "metadata": {},
   "outputs": [
    {
     "data": {
      "text/plain": [
       "6.042435505201955"
      ]
     },
     "execution_count": 129,
     "metadata": {},
     "output_type": "execute_result"
    }
   ],
   "source": [
    "np.linalg.norm((v[0],X[0,:]),ord=2)"
   ]
  },
  {
   "cell_type": "code",
   "execution_count": 127,
   "metadata": {},
   "outputs": [
    {
     "data": {
      "text/plain": [
       "1.2614924047197469"
      ]
     },
     "execution_count": 127,
     "metadata": {},
     "output_type": "execute_result"
    }
   ],
   "source": [
    "np.linalg.norm(cccc, ord=2)"
   ]
  },
  {
   "cell_type": "code",
   "execution_count": 121,
   "metadata": {},
   "outputs": [],
   "source": [
    "cccc = v[0]-X[0,:]"
   ]
  },
  {
   "cell_type": "code",
   "execution_count": 122,
   "metadata": {},
   "outputs": [
    {
     "name": "stdout",
     "output_type": "stream",
     "text": [
      "[-0.72470347  1.0325541 ]\n"
     ]
    }
   ],
   "source": [
    "print(cccc)"
   ]
  },
  {
   "cell_type": "markdown",
   "metadata": {},
   "source": [
    "#### ここから"
   ]
  },
  {
   "cell_type": "code",
   "execution_count": 26,
   "metadata": {},
   "outputs": [],
   "source": [
    "#分ける数を変数に入れる\n",
    "div_num = 4"
   ]
  },
  {
   "cell_type": "code",
   "execution_count": 27,
   "metadata": {},
   "outputs": [],
   "source": [
    "#配列の長さを変数に入れる\n",
    "X_len = len(X)"
   ]
  },
  {
   "cell_type": "code",
   "execution_count": 28,
   "metadata": {},
   "outputs": [
    {
     "ename": "NameError",
     "evalue": "name 'v' is not defined",
     "output_type": "error",
     "traceback": [
      "\u001b[0;31m---------------------------------------------------------------------------\u001b[0m",
      "\u001b[0;31mNameError\u001b[0m                                 Traceback (most recent call last)",
      "\u001b[0;32m<ipython-input-28-5b4a3c14ee53>\u001b[0m in \u001b[0;36m<module>\u001b[0;34m\u001b[0m\n\u001b[1;32m      7\u001b[0m     \u001b[0mcomp_x\u001b[0m \u001b[0;34m=\u001b[0m \u001b[0;34m[\u001b[0m\u001b[0;34m]\u001b[0m\u001b[0;34m\u001b[0m\u001b[0;34m\u001b[0m\u001b[0m\n\u001b[1;32m      8\u001b[0m     \u001b[0;32mfor\u001b[0m \u001b[0mi\u001b[0m \u001b[0;32min\u001b[0m \u001b[0mrange\u001b[0m\u001b[0;34m(\u001b[0m\u001b[0mdiv_num\u001b[0m\u001b[0;34m)\u001b[0m\u001b[0;34m:\u001b[0m\u001b[0;34m\u001b[0m\u001b[0;34m\u001b[0m\u001b[0m\n\u001b[0;32m----> 9\u001b[0;31m         \u001b[0mcomp_x\u001b[0m\u001b[0;34m.\u001b[0m\u001b[0mappend\u001b[0m\u001b[0;34m(\u001b[0m\u001b[0mnp\u001b[0m\u001b[0;34m.\u001b[0m\u001b[0mlinalg\u001b[0m\u001b[0;34m.\u001b[0m\u001b[0mnorm\u001b[0m\u001b[0;34m(\u001b[0m\u001b[0mv\u001b[0m\u001b[0;34m[\u001b[0m\u001b[0mi\u001b[0m\u001b[0;34m]\u001b[0m\u001b[0;34m-\u001b[0m\u001b[0mX\u001b[0m\u001b[0;34m[\u001b[0m\u001b[0mj\u001b[0m\u001b[0;34m,\u001b[0m\u001b[0;34m:\u001b[0m\u001b[0;34m]\u001b[0m\u001b[0;34m)\u001b[0m\u001b[0;34m)\u001b[0m\u001b[0;34m\u001b[0m\u001b[0;34m\u001b[0m\u001b[0m\n\u001b[0m\u001b[1;32m     10\u001b[0m     \u001b[0mclass_list\u001b[0m \u001b[0;34m.\u001b[0m\u001b[0mappend\u001b[0m\u001b[0;34m(\u001b[0m\u001b[0mnp\u001b[0m\u001b[0;34m.\u001b[0m\u001b[0margmin\u001b[0m\u001b[0;34m(\u001b[0m\u001b[0mcomp_x\u001b[0m\u001b[0;34m)\u001b[0m\u001b[0;34m)\u001b[0m\u001b[0;34m\u001b[0m\u001b[0;34m\u001b[0m\u001b[0m\n",
      "\u001b[0;31mNameError\u001b[0m: name 'v' is not defined"
     ]
    }
   ],
   "source": [
    "#Xの配列0行目と中心値の距離を全てだす\n",
    "#vが中心点\n",
    "comp_x = []\n",
    "class_list = []\n",
    "\n",
    "for j in range(X_len):\n",
    "    comp_x = []\n",
    "    for i in range(div_num):\n",
    "        comp_x.append(np.linalg.norm(v[i]-X[j,:]))   \n",
    "    class_list .append(np.argmin(comp_x))"
   ]
  },
  {
   "cell_type": "code",
   "execution_count": 150,
   "metadata": {},
   "outputs": [
    {
     "name": "stdout",
     "output_type": "stream",
     "text": [
      "0\n",
      "[2, 0, 2, 2, 0, 2, 3, 0, 0, 0, 0, 0, 0, 0, 0, 3, 3, 3, 3, 3, 2, 0, 3, 3, 2, 3, 3, 2, 1, 3, 3, 0, 3, 3, 3, 2, 0, 3, 0, 3, 0, 3, 0, 3, 3, 0, 3, 3, 2, 1, 0, 3, 3, 3, 3, 0, 0, 3, 3, 0, 0, 3, 3, 0, 3, 0, 3, 3, 3, 2, 0, 3, 2, 0, 2, 2, 3, 3, 3, 3, 3, 0, 3, 2, 3, 3, 3, 3, 2, 2, 2, 3, 1, 3, 3, 0, 0, 3, 0, 0]\n",
      "100\n"
     ]
    }
   ],
   "source": [
    "print(np.argmin(comp_x))\n",
    "#print(comp_x)\n",
    "print(class_list)\n",
    "print(len(class_list))"
   ]
  },
  {
   "cell_type": "code",
   "execution_count": null,
   "metadata": {},
   "outputs": [],
   "source": [
    "#分類したクラスをデータにstack\n",
    "class_list_re = np.reshape(class_list,[X_len,1])\n",
    "X_class = np.hstack((X,class_list_re))"
   ]
  },
  {
   "cell_type": "markdown",
   "metadata": {},
   "source": [
    "## 【問題4】中心点の移動"
   ]
  },
  {
   "cell_type": "code",
   "execution_count": 171,
   "metadata": {},
   "outputs": [
    {
     "name": "stdout",
     "output_type": "stream",
     "text": [
      "[]\n"
     ]
    }
   ],
   "source": [
    "print(X[X[:,0]==0.72086751])"
   ]
  },
  {
   "cell_type": "code",
   "execution_count": 175,
   "metadata": {},
   "outputs": [],
   "source": [
    "class_list_re = np.reshape(class_list,[100,1])"
   ]
  },
  {
   "cell_type": "code",
   "execution_count": 178,
   "metadata": {},
   "outputs": [
    {
     "name": "stdout",
     "output_type": "stream",
     "text": [
      "(100, 3)\n"
     ]
    }
   ],
   "source": [
    "X_class = np.hstack((X,class_list_re))\n",
    "print(X_class.shape)"
   ]
  },
  {
   "cell_type": "code",
   "execution_count": 347,
   "metadata": {},
   "outputs": [
    {
     "data": {
      "text/plain": [
       "array([[ 0.72086751,  3.71347124,  2.        ],\n",
       "       [-1.89468423,  7.96898545,  0.        ],\n",
       "       [ 1.35678894,  4.36462484,  2.        ],\n",
       "       [ 1.05374379,  4.49286859,  2.        ],\n",
       "       [ 1.59141542,  4.90497725,  0.        ],\n",
       "       [ 0.78260667,  4.15263595,  2.        ],\n",
       "       [-1.95751686,  3.87291474,  3.        ],\n",
       "       [-0.77354537,  7.87923564,  0.        ],\n",
       "       [ 0.12313498,  5.27917503,  0.        ],\n",
       "       [-1.43284669,  7.71577043,  0.        ],\n",
       "       [-0.92819001,  7.02698199,  0.        ],\n",
       "       [-1.74836345,  7.06307447,  0.        ],\n",
       "       [-1.26789718,  7.25141327,  0.        ],\n",
       "       [-0.98661744,  7.74968685,  0.        ],\n",
       "       [-0.81984047,  7.50994722,  0.        ],\n",
       "       [ 2.99684287,  0.22378413,  3.        ],\n",
       "       [ 1.46870582,  1.86947425,  3.        ],\n",
       "       [-0.33533163,  3.390122  ,  3.        ],\n",
       "       [-1.86407034,  2.93379754,  3.        ],\n",
       "       [ 2.62496786,  0.28025075,  3.        ],\n",
       "       [ 2.11114739,  3.57660449,  2.        ],\n",
       "       [-1.8219901 ,  7.61654999,  0.        ],\n",
       "       [-1.91186205,  3.18750686,  3.        ],\n",
       "       [ 2.28809874,  0.12954182,  3.        ],\n",
       "       [ 0.5285368 ,  4.49723858,  2.        ],\n",
       "       [-1.57613028,  2.58614312,  3.        ],\n",
       "       [-0.565433  ,  3.65813966,  3.        ],\n",
       "       [ 0.802314  ,  4.38196181,  2.        ],\n",
       "       [ 2.79939362,  1.84560825,  1.        ],\n",
       "       [ 2.64465731,  0.80770124,  3.        ],\n",
       "       [ 1.7190373 ,  0.71788708,  3.        ],\n",
       "       [-0.93564005,  7.03443119,  0.        ],\n",
       "       [ 2.14398059,  0.69677319,  3.        ],\n",
       "       [ 2.06051753,  1.79059891,  3.        ],\n",
       "       [-1.21986433,  3.3789856 ,  3.        ],\n",
       "       [ 1.13280393,  3.87673946,  2.        ],\n",
       "       [-1.497272  ,  8.80022604,  0.        ],\n",
       "       [ 1.85367905,  1.5088862 ,  3.        ],\n",
       "       [-0.1666378 ,  8.50372399,  0.        ],\n",
       "       [-1.89928142,  2.50466299,  3.        ],\n",
       "       [ 1.04829186,  5.03092408,  0.        ],\n",
       "       [-1.44356727,  3.23539798,  3.        ],\n",
       "       [-1.57006498,  6.72375844,  0.        ],\n",
       "       [-1.98331513,  3.47639041,  3.        ],\n",
       "       [-1.87418794,  2.84306499,  3.        ],\n",
       "       [-1.86097353,  8.2576415 ,  0.        ],\n",
       "       [ 1.61986895,  0.60823883,  3.        ],\n",
       "       [-1.84482705,  3.25609891,  3.        ],\n",
       "       [ 0.72144399,  4.08475018,  2.        ],\n",
       "       [ 0.5323772 ,  3.31338909,  1.        ],\n",
       "       [ 0.3498724 ,  4.69253251,  0.        ],\n",
       "       [ 1.89949126,  0.92574633,  3.        ],\n",
       "       [-1.2386086 ,  2.81373288,  3.        ],\n",
       "       [-1.74448079,  3.84251413,  3.        ],\n",
       "       [-0.96358605,  2.37791651,  3.        ],\n",
       "       [-1.26041884,  7.46644456,  0.        ],\n",
       "       [-0.8623605 ,  8.24721209,  0.        ],\n",
       "       [ 2.4198128 ,  0.96215512,  3.        ],\n",
       "       [ 2.23345072,  1.25095024,  3.        ],\n",
       "       [-0.65424088,  7.99393132,  0.        ],\n",
       "       [-1.42525273,  7.14798437,  0.        ],\n",
       "       [ 1.51989121,  1.42488952,  3.        ],\n",
       "       [ 2.11872357,  1.09865834,  3.        ],\n",
       "       [ 1.74265969,  5.03846671,  0.        ],\n",
       "       [ 1.42002502,  1.38236201,  3.        ],\n",
       "       [-0.69842598,  8.16309188,  0.        ],\n",
       "       [-2.18485772,  2.68708996,  3.        ],\n",
       "       [-1.32890066,  2.37135151,  3.        ],\n",
       "       [ 2.15940501,  1.38598318,  3.        ],\n",
       "       [ 1.19820169,  4.47062449,  2.        ],\n",
       "       [-1.7653772 ,  8.17625727,  0.        ],\n",
       "       [ 1.4726926 ,  1.3480769 ,  3.        ],\n",
       "       [ 0.92466065,  4.50908658,  2.        ],\n",
       "       [-1.47602203,  7.8441996 ,  0.        ],\n",
       "       [ 0.99914934,  4.2101954 ,  2.        ],\n",
       "       [ 1.40848818,  3.93270482,  2.        ],\n",
       "       [-0.59312453,  3.37090459,  3.        ],\n",
       "       [-1.6609057 ,  3.31911046,  3.        ],\n",
       "       [ 2.25643834,  0.55525861,  3.        ],\n",
       "       [ 1.24016835,  1.12905479,  3.        ],\n",
       "       [ 1.64869438,  0.03452236,  3.        ],\n",
       "       [-1.61803727,  8.60696731,  0.        ],\n",
       "       [-1.37778493,  3.58107521,  3.        ],\n",
       "       [ 0.16932115,  4.19741719,  2.        ],\n",
       "       [ 1.73810647,  0.71629308,  3.        ],\n",
       "       [-1.05327803,  2.84037721,  3.        ],\n",
       "       [ 1.60161834,  0.92363636,  3.        ],\n",
       "       [ 1.84845803,  0.52393625,  3.        ],\n",
       "       [ 1.72330962,  4.2012082 ,  2.        ],\n",
       "       [ 1.00952869,  4.45502328,  2.        ],\n",
       "       [ 0.96217896,  4.51795326,  2.        ],\n",
       "       [-1.33869125,  2.36818187,  3.        ],\n",
       "       [ 0.4519936 ,  3.59377836,  1.        ],\n",
       "       [-1.19075663,  3.12161318,  3.        ],\n",
       "       [-2.27253281,  3.13757811,  3.        ],\n",
       "       [-1.80044744,  7.86154256,  0.        ],\n",
       "       [-1.64996061,  7.49068513,  0.        ],\n",
       "       [-1.56102482,  3.77455362,  3.        ],\n",
       "       [-0.78782636,  7.99482384,  0.        ],\n",
       "       [-0.30022483,  4.63059663,  0.        ]])"
      ]
     },
     "execution_count": 347,
     "metadata": {},
     "output_type": "execute_result"
    }
   ],
   "source": [
    "X_class[:,:3]"
   ]
  },
  {
   "cell_type": "code",
   "execution_count": 195,
   "metadata": {},
   "outputs": [],
   "source": [
    "def move_center (X_class,div_num):\n",
    "    new_center_list = []\n",
    "    \n",
    "    for i in range(div_num):\n",
    "        new_center_list.append(np.mean(X_class[:,:2][X_class[:,2] == i],axis = 0))\n",
    "    return new_center_list"
   ]
  },
  {
   "cell_type": "code",
   "execution_count": 196,
   "metadata": {},
   "outputs": [
    {
     "data": {
      "text/plain": [
       "[array([-0.87573496,  7.21520125]),\n",
       " array([1.26125481, 2.9175919 ]),\n",
       " array([1.03559361, 4.2138299 ]),\n",
       " array([0.20435535, 2.04538538])]"
      ]
     },
     "execution_count": 196,
     "metadata": {},
     "output_type": "execute_result"
    }
   ],
   "source": [
    "move_center(X_class,4)"
   ]
  },
  {
   "cell_type": "markdown",
   "metadata": {},
   "source": [
    "## 【問題5】繰り返し"
   ]
  },
  {
   "cell_type": "markdown",
   "metadata": {},
   "source": [
    "### クラスで実装"
   ]
  },
  {
   "cell_type": "code",
   "execution_count": 276,
   "metadata": {
    "code_folding": [
     0
    ]
   },
   "outputs": [],
   "source": [
    "class ScratchKMeans_bk():\n",
    "    \"\"\"\n",
    "    K-meansのスクラッチ実装\n",
    "\n",
    "    Parameters\n",
    "    ----------\n",
    "    n_clusters : int\n",
    "      クラスタ数\n",
    "    n_init : int\n",
    "      中心点の初期値を何回変えて計算するか\n",
    "    max_iter : int\n",
    "      1回の計算で最大何イテレーションするか\n",
    "    tol : float\n",
    "      イテレーションを終了する基準となる中心点と重心の許容誤差\n",
    "    verbose : bool\n",
    "      学習過程を出力する場合はTrue\n",
    "    \"\"\"\n",
    "\n",
    "    def __init__(self, n_clusters, n_init, max_iter, tol, verbose=False):\n",
    "        # ハイパーパラメータを属性として記録\n",
    "        self.n_clusters = n_clusters\n",
    "        self.n_init = n_init\n",
    "        self.max_iter = max_iter\n",
    "        self.tol = tol\n",
    "        self.verbose = verbose\n",
    "        self.X_len = len(X)\n",
    "        \n",
    "        \n",
    "    def _choice_center_2 (self,X):\n",
    "        #最初の中心点決める\n",
    "        div_list = []\n",
    "        div_list = np.array_split(X, self.n_clusters, 0)\n",
    "        center_list = []\n",
    "        \n",
    "        for i in range(self.n_clusters):\n",
    "            center_list.append(np.mean(div_list[i],axis = 0))\n",
    "        return center_list    \n",
    "    \n",
    "    \n",
    "    def _class_div(self,X,center_list):\n",
    "        #クラスに分ける\n",
    "        comp_x = []\n",
    "        class_list = []\n",
    "        \n",
    "        for j in range(self.X_len):\n",
    "            comp_x = []\n",
    "            for i in range(self.n_clusters):\n",
    "                comp_x.append(np.linalg.norm(center_list[i]-X[j,:]))   \n",
    "            class_list .append(np.argmin(comp_x))\n",
    "\n",
    "        #クラスのリストをXデータにつける\n",
    "        class_list_re = np.reshape(class_list,[self.X_len,1])\n",
    "        X_class = np.hstack((X,class_list_re))\n",
    "        return X_class\n",
    "\n",
    "    def _move_center (self,X_class):\n",
    "        #中心を動かす\n",
    "        new_center_list = []\n",
    "        \n",
    "        for i in range(self.n_clusters):\n",
    "            new_center_list.append(np.mean(X_class[:,:2][X_class[:,2] == i],axis = 0))\n",
    "        return new_center_list\n",
    "    \n",
    "    def fit(self, X):\n",
    "        \"\"\"\n",
    "        K-meansによるクラスタリングを計算\n",
    "        Parameters\n",
    "        ----------\n",
    "        X : 次の形のndarray, shape (n_samples, n_features)\n",
    "            学習用データの特徴量\n",
    "        \"\"\"\n",
    "        center_list = self._choice_center_2(X)\n",
    "        \n",
    "        for i in range(self.max_iter):\n",
    "            X_class = self._class_div(X,center_list)\n",
    "            center_list = self._move_center(X_class)\n",
    "        return center_list\n",
    "\n",
    "        if self.verbose:\n",
    "            #verboseをTrueにした際は学習過程を出力\n",
    "            print()\n",
    "        pass\n",
    "\n",
    "    def predict(self, X):\n",
    "        \"\"\"\n",
    "        入力されたデータがどのクラスタに属するかを計算\n",
    "        \"\"\"\n",
    "\n",
    "        pass\n",
    "        return"
   ]
  },
  {
   "cell_type": "markdown",
   "metadata": {},
   "source": [
    "#### **↑とりあえず動くものキープ**"
   ]
  },
  {
   "cell_type": "code",
   "execution_count": 277,
   "metadata": {},
   "outputs": [],
   "source": [
    "SM= ScratchKMeans(n_clusters=4, n_init=1, max_iter=1000, tol=10, verbose=False)"
   ]
  },
  {
   "cell_type": "code",
   "execution_count": 278,
   "metadata": {},
   "outputs": [],
   "source": [
    "list_ss = SM.fit(X)"
   ]
  },
  {
   "cell_type": "code",
   "execution_count": 227,
   "metadata": {},
   "outputs": [
    {
     "name": "stdout",
     "output_type": "stream",
     "text": [
      "[array([-1.26811733,  7.76378266]), array([1.99186903, 0.96561071]), array([0.92578447, 4.32475792]), array([-1.47935679,  3.11716896])]\n"
     ]
    }
   ],
   "source": [
    "print(list_ss)"
   ]
  },
  {
   "cell_type": "code",
   "execution_count": 219,
   "metadata": {},
   "outputs": [
    {
     "name": "stdout",
     "output_type": "stream",
     "text": [
      "[array([-0.87573496,  7.21520125])]\n"
     ]
    }
   ],
   "source": [
    "print(new_center_list)"
   ]
  },
  {
   "cell_type": "code",
   "execution_count": 380,
   "metadata": {},
   "outputs": [
    {
     "data": {
      "image/png": "[encoded data removed]",
      "text/plain": [
       "<Figure size 432x288 with 1 Axes>"
      ]
     },
     "metadata": {
      "needs_background": "light"
     },
     "output_type": "display_data"
    }
   ],
   "source": [
    "plt.plot(X[:, 0], X[:, 1], 'bo')\n",
    "plt.plot(list_ss[0][0], list_ss[0][1], 'ro')\n",
    "plt.plot(list_ss[1][0], list_ss[1][1], 'ro')\n",
    "plt.plot(list_ss[2][0], list_ss[2][1], 'ro')\n",
    "plt.plot(list_ss[3][0], list_ss[3][1], 'ro')\n",
    "plt.show()"
   ]
  },
  {
   "cell_type": "code",
   "execution_count": 242,
   "metadata": {},
   "outputs": [],
   "source": [
    "comp_center_change = []\n",
    "for i in range(div_num):\n",
    "    comp_center_change.append(np.linalg.norm(center_list[i]-new_center_list[i]))   "
   ]
  },
  {
   "cell_type": "code",
   "execution_count": 243,
   "metadata": {},
   "outputs": [
    {
     "name": "stdout",
     "output_type": "stream",
     "text": [
      "[3.8561014884227744, 4.308935405723013, 2.9616313152235945, 1.7112393420745948]\n"
     ]
    }
   ],
   "source": [
    "print(comp_center_change)"
   ]
  },
  {
   "cell_type": "markdown",
   "metadata": {},
   "source": [
    "#### 中心点 と重心の差が指定した許容値以下になる。（雛形では引数tol）条件を追加"
   ]
  },
  {
   "cell_type": "code",
   "execution_count": 307,
   "metadata": {
    "code_folding": []
   },
   "outputs": [],
   "source": [
    "class ScratchKMeans_r():\n",
    "    \"\"\"\n",
    "    K-meansのスクラッチ実装\n",
    "\n",
    "    Parameters\n",
    "    ----------\n",
    "    n_clusters : int\n",
    "      クラスタ数\n",
    "    n_init : int\n",
    "      中心点の初期値を何回変えて計算するか\n",
    "    max_iter : int\n",
    "      1回の計算で最大何イテレーションするか\n",
    "    tol : float\n",
    "      イテレーションを終了する基準となる中心点と重心の許容誤差\n",
    "    verbose : bool\n",
    "      学習過程を出力する場合はTrue\n",
    "    \"\"\"\n",
    "\n",
    "    def __init__(self, n_clusters, n_init, max_iter, tol, verbose=False):\n",
    "        # ハイパーパラメータを属性として記録\n",
    "        self.n_clusters = n_clusters\n",
    "        self.n_init = n_init\n",
    "        self.max_iter = max_iter\n",
    "        self.tol = tol\n",
    "        self.verbose = verbose\n",
    "        self.X_len = len(X)\n",
    "        \n",
    "        \n",
    "    def _choice_center_2 (self,X):\n",
    "        #最初の中心点決める\n",
    "        div_list = []\n",
    "        div_list = np.array_split(X, self.n_clusters, 0)\n",
    "        center_list = []\n",
    "        \n",
    "        for i in range(self.n_clusters):\n",
    "            center_list.append(np.mean(div_list[i],axis = 0))\n",
    "        return center_list    \n",
    "    \n",
    "    def _class_div(self,X,center_list):\n",
    "        #クラスに分ける\n",
    "        comp_x = []\n",
    "        class_list = []\n",
    "        \n",
    "        for j in range(self.X_len):\n",
    "            comp_x = []\n",
    "            for i in range(self.n_clusters):\n",
    "                comp_x.append(np.linalg.norm(center_list[i]-X[j,:]))   \n",
    "            class_list .append(np.argmin(comp_x))\n",
    "\n",
    "        #クラスのリストをXデータにつける\n",
    "        class_list_re = np.reshape(class_list,[self.X_len,1])\n",
    "        X_class = np.hstack((X,class_list_re))\n",
    "        return X_class\n",
    "    \n",
    "    def _move_center (self,X_class,center_list):\n",
    "        #中心を動かす\n",
    "        new_center_list = []\n",
    "        comp_center_change = []\n",
    "        \n",
    "        for i in range(self.n_clusters):\n",
    "            new_center_list.append(np.mean(X_class[:,:2][X_class[:,2] == i],axis = 0))\n",
    "            #前回の中心点と比較\n",
    "            comp_center_change.append(np.linalg.norm(center_list[i]-new_center_list[i]))   \n",
    "            #print('comp_center_change',sum(comp_center_change))\n",
    "            sum_comp_center = sum(comp_center_change)\n",
    "                            \n",
    "        return new_center_list,sum_comp_center\n",
    "    \n",
    "    def fit(self, X):\n",
    "        \"\"\"\n",
    "        K-meansによるクラスタリングを計算\n",
    "        Parameters\n",
    "        ----------\n",
    "        X : 次の形のndarray, shape (n_samples, n_features)\n",
    "            学習用データの特徴量\n",
    "        \"\"\"\n",
    "        center_list = self._choice_center_2(X)\n",
    "        \n",
    "        for i in range(self.max_iter):\n",
    "            X_class = self._class_div(X,center_list)\n",
    "            center_list,sum_comp_center = self._move_center(X_class,center_list)\n",
    "            #print('self.tol',self.tol)\n",
    "            print('sum_comp_center',sum_comp_center)    \n",
    "            print('i',i)\n",
    "            if sum_comp_center <= self.tol:\n",
    "                break\n",
    "        return center_list\n",
    "\n",
    "        if self.verbose:\n",
    "            #verboseをTrueにした際は学習過程を出力\n",
    "            print()\n",
    "        pass\n",
    "\n",
    "    def predict(self, X):\n",
    "        \"\"\"\n",
    "        入力されたデータがどのクラスタに属するかを計算\n",
    "        \"\"\"\n",
    "\n",
    "        pass\n",
    "        return"
   ]
  },
  {
   "cell_type": "code",
   "execution_count": 312,
   "metadata": {},
   "outputs": [],
   "source": [
    "SM_r= ScratchKMeans_r(n_clusters=4, n_init=10, max_iter=10, tol=0, verbose=False)"
   ]
  },
  {
   "cell_type": "code",
   "execution_count": 313,
   "metadata": {},
   "outputs": [
    {
     "name": "stdout",
     "output_type": "stream",
     "text": [
      "sum_comp_center 6.552562280125037\n",
      "i 0\n",
      "sum_comp_center 3.1395403747321087\n",
      "i 1\n",
      "sum_comp_center 2.147819571759274\n",
      "i 2\n",
      "sum_comp_center 0.0\n",
      "i 3\n"
     ]
    }
   ],
   "source": [
    "list_ss = SM_r.fit(X)"
   ]
  },
  {
   "cell_type": "markdown",
   "metadata": {},
   "source": [
    "## 【問題6】異なる初期値で計算"
   ]
  },
  {
   "cell_type": "code",
   "execution_count": 325,
   "metadata": {
    "code_folding": [
     0
    ]
   },
   "outputs": [],
   "source": [
    "class ScratchKMeans_df():\n",
    "    \"\"\"\n",
    "    K-meansのスクラッチ実装\n",
    "\n",
    "    Parameters\n",
    "    ----------\n",
    "    n_clusters : int\n",
    "      クラスタ数\n",
    "    n_init : int\n",
    "      中心点の初期値を何回変えて計算するか\n",
    "    max_iter : int\n",
    "      1回の計算で最大何イテレーションするか\n",
    "    tol : float\n",
    "      イテレーションを終了する基準となる中心点と重心の許容誤差\n",
    "    verbose : bool\n",
    "      学習過程を出力する場合はTrue\n",
    "    \"\"\"\n",
    "\n",
    "    def __init__(self, n_clusters, n_init, max_iter, tol, verbose=False):\n",
    "        # ハイパーパラメータを属性として記録\n",
    "        self.n_clusters = n_clusters\n",
    "        self.n_init = n_init\n",
    "        self.max_iter = max_iter\n",
    "        self.tol = tol\n",
    "        self.verbose = verbose\n",
    "        self.X_len = len(X)\n",
    "    \n",
    "    def _choice_center(self,X):\n",
    "        X_center_index = np.random.choice(self.X_len, size =self.n_clusters, replace=False)\n",
    "        X_center = X[X_center_index,:]\n",
    "        return X_center\n",
    "        \n",
    "    def _choice_center_2 (self,X):\n",
    "        #最初の中心点決める\n",
    "        div_list = []\n",
    "        div_list = np.array_split(X, self.n_clusters, 0)\n",
    "        center_list = []\n",
    "        \n",
    "        for i in range(self.n_clusters):\n",
    "            center_list.append(np.mean(div_list[i],axis = 0))\n",
    "        return center_list    \n",
    "    \n",
    "    def _class_div(self,X,center_list):\n",
    "        #クラスに分ける\n",
    "        comp_x = []\n",
    "        class_list = []\n",
    "        \n",
    "        for j in range(self.X_len):\n",
    "            comp_x = []\n",
    "            for i in range(self.n_clusters):\n",
    "                comp_x.append(np.linalg.norm(center_list[i]-X[j,:]))   \n",
    "            class_list .append(np.argmin(comp_x))\n",
    "\n",
    "        #クラスのリストをXデータにつける\n",
    "        class_list_re = np.reshape(class_list,[self.X_len,1])\n",
    "        X_class = np.hstack((X,class_list_re))\n",
    "        return X_class\n",
    "    \n",
    "    def _move_center (self,X_class,center_list):\n",
    "        #中心を動かす\n",
    "        new_center_list = []\n",
    "        comp_center_change = []\n",
    "        \n",
    "        for i in range(self.n_clusters):\n",
    "            new_center_list.append(np.mean(X_class[:,:2][X_class[:,2] == i],axis = 0))\n",
    "            #前回の中心点と比較\n",
    "            comp_center_change.append(np.linalg.norm(center_list[i]-new_center_list[i]))   \n",
    "            #print('comp_center_change',sum(comp_center_change))\n",
    "            sum_comp_center = sum(comp_center_change)\n",
    "                            \n",
    "        return new_center_list,sum_comp_center\n",
    "    \n",
    "    def fit(self, X):\n",
    "        \"\"\"\n",
    "        K-meansによるクラスタリングを計算\n",
    "        Parameters\n",
    "        ----------\n",
    "        X : 次の形のndarray, shape (n_samples, n_features)\n",
    "            学習用データの特徴量\n",
    "        \"\"\"\n",
    "        center_list = self._choice_center(X)\n",
    "        \n",
    "        for i in range(self.max_iter):\n",
    "            X_class = self._class_div(X,center_list)\n",
    "            center_list,sum_comp_center = self._move_center(X_class,center_list)\n",
    "            #print('self.tol',self.tol)\n",
    "            print('sum_comp_center',sum_comp_center)    \n",
    "            print('i',i)\n",
    "            if sum_comp_center <= self.tol:\n",
    "                break\n",
    "        return center_list\n",
    "\n",
    "        if self.verbose:\n",
    "            #verboseをTrueにした際は学習過程を出力\n",
    "            print()\n",
    "        pass\n",
    "\n",
    "    def predict(self, X):\n",
    "        \"\"\"\n",
    "        入力されたデータがどのクラスタに属するかを計算\n",
    "        \"\"\"\n",
    "\n",
    "        pass\n",
    "        return"
   ]
  },
  {
   "cell_type": "code",
   "execution_count": 341,
   "metadata": {},
   "outputs": [],
   "source": [
    "SM_df= ScratchKMeans_df(n_clusters=4, n_init=10, max_iter=10, tol=-4, verbose=False)"
   ]
  },
  {
   "cell_type": "code",
   "execution_count": 342,
   "metadata": {},
   "outputs": [
    {
     "name": "stdout",
     "output_type": "stream",
     "text": [
      "sum_comp_center 3.6572626020787773\n",
      "i 0\n",
      "sum_comp_center 0.5564354482145144\n",
      "i 1\n",
      "sum_comp_center 0.10937876225544216\n",
      "i 2\n",
      "sum_comp_center 0.0\n",
      "i 3\n",
      "sum_comp_center 0.0\n",
      "i 4\n",
      "sum_comp_center 0.0\n",
      "i 5\n",
      "sum_comp_center 0.0\n",
      "i 6\n",
      "sum_comp_center 0.0\n",
      "i 7\n",
      "sum_comp_center 0.0\n",
      "i 8\n",
      "sum_comp_center 0.0\n",
      "i 9\n"
     ]
    }
   ],
   "source": [
    "list_ss = SM_df.fit(X)"
   ]
  },
  {
   "cell_type": "markdown",
   "metadata": {},
   "source": [
    "## 【問題7】推定"
   ]
  },
  {
   "cell_type": "code",
   "execution_count": 343,
   "metadata": {
    "code_folding": [
     0
    ]
   },
   "outputs": [],
   "source": [
    "class ScratchKMeans_pre():\n",
    "    \"\"\"\n",
    "    K-meansのスクラッチ実装\n",
    "\n",
    "    Parameters\n",
    "    ----------\n",
    "    n_clusters : int\n",
    "      クラスタ数\n",
    "    n_init : int\n",
    "      中心点の初期値を何回変えて計算するか\n",
    "    max_iter : int\n",
    "      1回の計算で最大何イテレーションするか\n",
    "    tol : float\n",
    "      イテレーションを終了する基準となる中心点と重心の許容誤差\n",
    "    verbose : bool\n",
    "      学習過程を出力する場合はTrue\n",
    "    \"\"\"\n",
    "\n",
    "    def __init__(self, n_clusters, n_init, max_iter, tol, verbose=False):\n",
    "        # ハイパーパラメータを属性として記録\n",
    "        self.n_clusters = n_clusters\n",
    "        self.n_init = n_init\n",
    "        self.max_iter = max_iter\n",
    "        self.tol = tol\n",
    "        self.verbose = verbose\n",
    "        self.X_len = len(X)\n",
    "    \n",
    "    def _choice_center(self,X):\n",
    "        X_center_index = np.random.choice(self.X_len, size =self.n_clusters, replace=False)\n",
    "        X_center = X[X_center_index,:]\n",
    "        return X_center\n",
    "        \n",
    "    def _choice_center_2 (self,X):\n",
    "        #最初の中心点決める\n",
    "        div_list = []\n",
    "        div_list = np.array_split(X, self.n_clusters, 0)\n",
    "        center_list = []\n",
    "        \n",
    "        for i in range(self.n_clusters):\n",
    "            center_list.append(np.mean(div_list[i],axis = 0))\n",
    "        return center_list    \n",
    "    \n",
    "    def _class_div(self,X,center_list):\n",
    "        #クラスに分ける\n",
    "        comp_x = []\n",
    "        class_list = []\n",
    "        \n",
    "        for j in range(self.X_len):\n",
    "            comp_x = []\n",
    "            for i in range(self.n_clusters):\n",
    "                comp_x.append(np.linalg.norm(center_list[i]-X[j,:]))   \n",
    "            class_list .append(np.argmin(comp_x))\n",
    "\n",
    "        #クラスのリストをXデータにつける\n",
    "        class_list_re = np.reshape(class_list,[self.X_len,1])\n",
    "        X_class = np.hstack((X,class_list_re))\n",
    "        return X_class\n",
    "    \n",
    "    def _move_center (self,X_class,center_list):\n",
    "        #中心を動かす\n",
    "        new_center_list = []\n",
    "        comp_center_change = []\n",
    "        \n",
    "        for i in range(self.n_clusters):\n",
    "            new_center_list.append(np.mean(X_class[:,:2][X_class[:,2] == i],axis = 0))\n",
    "            #前回の中心点と比較\n",
    "            comp_center_change.append(np.linalg.norm(center_list[i]-new_center_list[i]))   \n",
    "            #print('comp_center_change',sum(comp_center_change))\n",
    "            sum_comp_center = sum(comp_center_change)\n",
    "                            \n",
    "        return new_center_list,sum_comp_center\n",
    "    \n",
    "    def fit(self, X):\n",
    "        \"\"\"\n",
    "        K-meansによるクラスタリングを計算\n",
    "        Parameters\n",
    "        ----------\n",
    "        X : 次の形のndarray, shape (n_samples, n_features)\n",
    "            学習用データの特徴量\n",
    "        \"\"\"\n",
    "        \n",
    "        center_list = self._choice_center(X)\n",
    "        comp_center_first = []\n",
    "\n",
    "        for k in range(self.n_init):\n",
    "            center_list = self._choice_center(X)\n",
    "            for i in range(self.max_iter):\n",
    "                X_class = self._class_div(X,center_list)\n",
    "                center_list,sum_comp_center = self._move_center(X_class,center_list)\n",
    "\n",
    "                print('sum_comp_center',sum_comp_center)    \n",
    "                print('i',i)\n",
    "                if sum_comp_center <= self.tol:\n",
    "                    break\n",
    "            comp_center_first.append(center_list)\n",
    "            return center_list\n",
    "\n",
    "        if self.verbose:\n",
    "            #verboseをTrueにした際は学習過程を出力\n",
    "            print()\n",
    "        pass\n",
    "\n",
    "    def predict(self, X):\n",
    "        \"\"\"\n",
    "        入力されたデータがどのクラスタに属するかを計算\n",
    "        \"\"\"\n",
    "\n",
    "        pass\n",
    "        return"
   ]
  },
  {
   "cell_type": "code",
   "execution_count": 377,
   "metadata": {
    "code_folding": [
     0
    ]
   },
   "outputs": [],
   "source": [
    "class ScratchKMeans_pred():\n",
    "    \"\"\"\n",
    "    K-meansのスクラッチ実装\n",
    "\n",
    "    Parameters\n",
    "    ----------\n",
    "    n_clusters : int\n",
    "      クラスタ数\n",
    "    n_init : int\n",
    "      中心点の初期値を何回変えて計算するか\n",
    "    max_iter : int\n",
    "      1回の計算で最大何イテレーションするか\n",
    "    tol : float\n",
    "      イテレーションを終了する基準となる中心点と重心の許容誤差\n",
    "    verbose : bool\n",
    "      学習過程を出力する場合はTrue\n",
    "    \"\"\"\n",
    "\n",
    "    def __init__(self, n_clusters, n_init, max_iter, tol, verbose=False):\n",
    "        # ハイパーパラメータを属性として記録\n",
    "        self.n_clusters = n_clusters\n",
    "        self.n_init = n_init\n",
    "        self.max_iter = max_iter\n",
    "        self.tol = tol\n",
    "        self.verbose = verbose\n",
    "        self.X_len = len(X)\n",
    "    \n",
    "    def _choice_center(self,X):\n",
    "        X_center_index = np.random.choice(self.X_len, size =self.n_clusters, replace=False)\n",
    "        X_center = X[X_center_index,:]\n",
    "        return X_center\n",
    "        \n",
    "    def _choice_center_2 (self,X):\n",
    "        #最初の中心点決める\n",
    "        div_list = []\n",
    "        div_list = np.array_split(X, self.n_clusters, 0)\n",
    "        center_list = []\n",
    "        \n",
    "        for i in range(self.n_clusters):\n",
    "            center_list.append(np.mean(div_list[i],axis = 0))\n",
    "        return center_list    \n",
    "    \n",
    "    def _class_div(self,X,center_list):\n",
    "        #クラスに分ける\n",
    "        comp_x = []\n",
    "        class_list = []\n",
    "        \n",
    "        for j in range(self.X_len):\n",
    "            comp_x = []\n",
    "            for i in range(self.n_clusters):\n",
    "                comp_x.append(np.linalg.norm(center_list[i]-X[j,:]))   \n",
    "            class_list .append(np.argmin(comp_x))\n",
    "\n",
    "        #クラスのリストをXデータにつける\n",
    "        class_list_re = np.reshape(class_list,[self.X_len,1])\n",
    "        X_class = np.hstack((X,class_list_re))\n",
    "        return X_class\n",
    "    \n",
    "    def _move_center (self,X_class,center_list):\n",
    "        #中心を動かす\n",
    "        new_center_list = []\n",
    "        comp_center_change = []\n",
    "        \n",
    "        for i in range(self.n_clusters):\n",
    "            new_center_list.append(np.mean(X_class[:,:2][X_class[:,2] == i],axis = 0))\n",
    "            #前回の中心点と比較\n",
    "            comp_center_change.append(np.linalg.norm(center_list[i]-new_center_list[i]))   \n",
    "            #print('comp_center_change',sum(comp_center_change))\n",
    "            sum_comp_center = sum(comp_center_change)\n",
    "                            \n",
    "        return new_center_list,sum_comp_center\n",
    "    \n",
    "    def fit(self, X):\n",
    "        \"\"\"\n",
    "        K-meansによるクラスタリングを計算\n",
    "        Parameters\n",
    "        ----------\n",
    "        X : 次の形のndarray, shape (n_samples, n_features)\n",
    "            学習用データの特徴量\n",
    "        \"\"\"\n",
    "        center_list = self._choice_center(X)\n",
    "        \n",
    "        for i in range(self.max_iter):\n",
    "            X_class = self._class_div(X,center_list)\n",
    "            center_list,sum_comp_center = self._move_center(X_class,center_list)\n",
    "            #print('self.tol',self.tol)\n",
    "            print('sum_comp_center',sum_comp_center)    \n",
    "            print('i',i)\n",
    "            if sum_comp_center <= self.tol:\n",
    "                break\n",
    "        #self.center_list = center_list\n",
    "        return center_list,X_class\n",
    "\n",
    "        if self.verbose:\n",
    "            #verboseをTrueにした際は学習過程を出力\n",
    "            print()\n",
    "        pass\n",
    "\n",
    "    def predict(self, X):\n",
    "        \"\"\"\n",
    "        入力されたデータがどのクラスタに属するかを計算\n",
    "        \"\"\"\n",
    "        pred = self._class_div(X,self.center_list)\n",
    "\n",
    "        return pred"
   ]
  },
  {
   "cell_type": "code",
   "execution_count": 372,
   "metadata": {},
   "outputs": [],
   "source": [
    "SM_pre= ScratchKMeans_pred(n_clusters=4, n_init=1, max_iter=100, tol=-4, verbose=False)"
   ]
  },
  {
   "cell_type": "code",
   "execution_count": null,
   "metadata": {},
   "outputs": [],
   "source": [
    "list_ss,pred = SM_pre.fit(X)"
   ]
  },
  {
   "cell_type": "code",
   "execution_count": 374,
   "metadata": {},
   "outputs": [],
   "source": [
    "pred = SM_pre.predict(X)"
   ]
  },
  {
   "cell_type": "code",
   "execution_count": 381,
   "metadata": {},
   "outputs": [],
   "source": [
    "#print(pred)"
   ]
  },
  {
   "cell_type": "code",
   "execution_count": 379,
   "metadata": {},
   "outputs": [
    {
     "data": {
      "image/png": "[encoded data removed]",
      "text/plain": [
       "<Figure size 432x288 with 1 Axes>"
      ]
     },
     "metadata": {
      "needs_background": "light"
     },
     "output_type": "display_data"
    }
   ],
   "source": [
    "#plt.plot(X[:, 0], X[:, 1], 'bo')\n",
    "plt.plot(pred[:,0][X_class[:,2] == 0], pred[:,1][X_class[:,2] == 0], 'ro')\n",
    "plt.plot(pred[:,0][X_class[:,2] == 1], pred[:,1][X_class[:,2] == 1], 'bo')\n",
    "plt.plot(pred[:,0][X_class[:,2] == 2], pred[:,1][X_class[:,2] == 2], 'mo')\n",
    "plt.plot(pred[:,0][X_class[:,2] == 3], pred[:,1][X_class[:,2] == 3], 'yo')\n",
    "plt.show()"
   ]
  },
  {
   "cell_type": "markdown",
   "metadata": {},
   "source": [
    "## 【問題8】エルボー法の実装"
   ]
  },
  {
   "cell_type": "code",
   "execution_count": 14,
   "metadata": {},
   "outputs": [],
   "source": [
    "from sklearn.cluster import KMeans\n",
    "import pandas as pd\n",
    "import numpy as np\n",
    "import matplotlib.pyplot as plt\n",
    "\n",
    "max_cluster_num = 10\n",
    "\n",
    "sse = np.zeros((max_cluster_num,))     # Sum of Square Error（クラスタ内誤差平方和）\n",
    "se = np.zeros((max_cluster_num,))      # Sum of Error（クラスタ内誤差和）\n",
    "inertia = np.zeros((max_cluster_num,)) # scikit-learnにより自動計算するクラスタ内誤差平方和\n",
    "for i in range(max_cluster_num):\n",
    "    cluster_num = i + 1\n",
    "    kmeans = KMeans(n_clusters=cluster_num)\n",
    "    # 各データがどのクラスタに所属するか\n",
    "    pred = kmeans.fit_predict(X)\n",
    "    inertia[i] = kmeans.inertia_\n",
    "\n",
    "    # 各データが自身の所属するクラスタ中心からどれだけ離れているか調べる\n",
    "    transforms = kmeans.transform(X)    \n",
    "    distances = np.zeros((X.shape[0]))\n",
    "    for index in range(len(transforms)):\n",
    "        distances[index] = transforms[index,pred[index]]\n",
    "\n",
    "    se[i] = np.sum(distances)\n",
    "    sse[i] = np.sum(distances**2)"
   ]
  },
  {
   "cell_type": "code",
   "execution_count": 15,
   "metadata": {},
   "outputs": [
    {
     "data": {
      "image/png": "[encoded data removed]",
      "text/plain": [
       "<Figure size 432x288 with 1 Axes>"
      ]
     },
     "metadata": {
      "needs_background": "light"
     },
     "output_type": "display_data"
    }
   ],
   "source": [
    "\n",
    "plt.title('distance from cluster centroid (elbow curve)')\n",
    "plt.xlabel('number of cluster')\n",
    "plt.ylabel('sum of error')\n",
    "plt.plot(sse,label='sse')\n",
    "plt.plot(se,label='se')\n",
    "plt.plot(inertia,label='inertia')\n",
    "plt.legend()\n",
    "plt.show()"
   ]
  },
  {
   "cell_type": "markdown",
   "metadata": {},
   "source": [
    "#### 3か4クラスタに分けるのが良さそう"
   ]
  },
  {
   "cell_type": "markdown",
   "metadata": {},
   "source": [
    "## 【問題10】クラスタ数kの選択 "
   ]
  },
  {
   "cell_type": "code",
   "execution_count": 7,
   "metadata": {},
   "outputs": [],
   "source": [
    "import numpy as np\n",
    "import pandas as pd\n",
    "import missingno as msno\n",
    "import matplotlib.pyplot as plt\n",
    "import seaborn as sns\n",
    "\n",
    "path = '/Users/toyodasatomi/Downloads/Wholesale customers data.csv'\n",
    "data= pd.read_csv(path)"
   ]
  },
  {
   "cell_type": "code",
   "execution_count": 17,
   "metadata": {},
   "outputs": [
    {
     "data": {
      "text/html": [
       "<div>\n",
       "<style scoped>\n",
       "    .dataframe tbody tr th:only-of-type {\n",
       "        vertical-align: middle;\n",
       "    }\n",
       "\n",
       "    .dataframe tbody tr th {\n",
       "        vertical-align: top;\n",
       "    }\n",
       "\n",
       "    .dataframe thead th {\n",
       "        text-align: right;\n",
       "    }\n",
       "</style>\n",
       "<table border=\"1\" class=\"dataframe\">\n",
       "  <thead>\n",
       "    <tr style=\"text-align: right;\">\n",
       "      <th></th>\n",
       "      <th>Channel</th>\n",
       "      <th>Region</th>\n",
       "      <th>Fresh</th>\n",
       "      <th>Milk</th>\n",
       "      <th>Grocery</th>\n",
       "      <th>Frozen</th>\n",
       "      <th>Detergents_Paper</th>\n",
       "      <th>Delicassen</th>\n",
       "    </tr>\n",
       "  </thead>\n",
       "  <tbody>\n",
       "    <tr>\n",
       "      <th>0</th>\n",
       "      <td>2</td>\n",
       "      <td>3</td>\n",
       "      <td>12669</td>\n",
       "      <td>9656</td>\n",
       "      <td>7561</td>\n",
       "      <td>214</td>\n",
       "      <td>2674</td>\n",
       "      <td>1338</td>\n",
       "    </tr>\n",
       "    <tr>\n",
       "      <th>1</th>\n",
       "      <td>2</td>\n",
       "      <td>3</td>\n",
       "      <td>7057</td>\n",
       "      <td>9810</td>\n",
       "      <td>9568</td>\n",
       "      <td>1762</td>\n",
       "      <td>3293</td>\n",
       "      <td>1776</td>\n",
       "    </tr>\n",
       "    <tr>\n",
       "      <th>2</th>\n",
       "      <td>2</td>\n",
       "      <td>3</td>\n",
       "      <td>6353</td>\n",
       "      <td>8808</td>\n",
       "      <td>7684</td>\n",
       "      <td>2405</td>\n",
       "      <td>3516</td>\n",
       "      <td>7844</td>\n",
       "    </tr>\n",
       "    <tr>\n",
       "      <th>3</th>\n",
       "      <td>1</td>\n",
       "      <td>3</td>\n",
       "      <td>13265</td>\n",
       "      <td>1196</td>\n",
       "      <td>4221</td>\n",
       "      <td>6404</td>\n",
       "      <td>507</td>\n",
       "      <td>1788</td>\n",
       "    </tr>\n",
       "    <tr>\n",
       "      <th>4</th>\n",
       "      <td>2</td>\n",
       "      <td>3</td>\n",
       "      <td>22615</td>\n",
       "      <td>5410</td>\n",
       "      <td>7198</td>\n",
       "      <td>3915</td>\n",
       "      <td>1777</td>\n",
       "      <td>5185</td>\n",
       "    </tr>\n",
       "  </tbody>\n",
       "</table>\n",
       "</div>"
      ],
      "text/plain": [
       "   Channel  Region  Fresh  Milk  Grocery  Frozen  Detergents_Paper  Delicassen\n",
       "0        2       3  12669  9656     7561     214              2674        1338\n",
       "1        2       3   7057  9810     9568    1762              3293        1776\n",
       "2        2       3   6353  8808     7684    2405              3516        7844\n",
       "3        1       3  13265  1196     4221    6404               507        1788\n",
       "4        2       3  22615  5410     7198    3915              1777        5185"
      ]
     },
     "metadata": {},
     "output_type": "display_data"
    }
   ],
   "source": [
    "display(data.head())"
   ]
  },
  {
   "cell_type": "code",
   "execution_count": 18,
   "metadata": {},
   "outputs": [],
   "source": [
    "data = data.drop(\"Region\", axis=1)"
   ]
  },
  {
   "cell_type": "code",
   "execution_count": 19,
   "metadata": {},
   "outputs": [],
   "source": [
    "data = data.drop(\"Channel\", axis=1)"
   ]
  },
  {
   "cell_type": "code",
   "execution_count": 20,
   "metadata": {},
   "outputs": [
    {
     "data": {
      "text/html": [
       "<div>\n",
       "<style scoped>\n",
       "    .dataframe tbody tr th:only-of-type {\n",
       "        vertical-align: middle;\n",
       "    }\n",
       "\n",
       "    .dataframe tbody tr th {\n",
       "        vertical-align: top;\n",
       "    }\n",
       "\n",
       "    .dataframe thead th {\n",
       "        text-align: right;\n",
       "    }\n",
       "</style>\n",
       "<table border=\"1\" class=\"dataframe\">\n",
       "  <thead>\n",
       "    <tr style=\"text-align: right;\">\n",
       "      <th></th>\n",
       "      <th>Fresh</th>\n",
       "      <th>Milk</th>\n",
       "      <th>Grocery</th>\n",
       "      <th>Frozen</th>\n",
       "      <th>Detergents_Paper</th>\n",
       "      <th>Delicassen</th>\n",
       "    </tr>\n",
       "  </thead>\n",
       "  <tbody>\n",
       "    <tr>\n",
       "      <th>0</th>\n",
       "      <td>12669</td>\n",
       "      <td>9656</td>\n",
       "      <td>7561</td>\n",
       "      <td>214</td>\n",
       "      <td>2674</td>\n",
       "      <td>1338</td>\n",
       "    </tr>\n",
       "    <tr>\n",
       "      <th>1</th>\n",
       "      <td>7057</td>\n",
       "      <td>9810</td>\n",
       "      <td>9568</td>\n",
       "      <td>1762</td>\n",
       "      <td>3293</td>\n",
       "      <td>1776</td>\n",
       "    </tr>\n",
       "    <tr>\n",
       "      <th>2</th>\n",
       "      <td>6353</td>\n",
       "      <td>8808</td>\n",
       "      <td>7684</td>\n",
       "      <td>2405</td>\n",
       "      <td>3516</td>\n",
       "      <td>7844</td>\n",
       "    </tr>\n",
       "    <tr>\n",
       "      <th>3</th>\n",
       "      <td>13265</td>\n",
       "      <td>1196</td>\n",
       "      <td>4221</td>\n",
       "      <td>6404</td>\n",
       "      <td>507</td>\n",
       "      <td>1788</td>\n",
       "    </tr>\n",
       "    <tr>\n",
       "      <th>4</th>\n",
       "      <td>22615</td>\n",
       "      <td>5410</td>\n",
       "      <td>7198</td>\n",
       "      <td>3915</td>\n",
       "      <td>1777</td>\n",
       "      <td>5185</td>\n",
       "    </tr>\n",
       "  </tbody>\n",
       "</table>\n",
       "</div>"
      ],
      "text/plain": [
       "   Fresh  Milk  Grocery  Frozen  Detergents_Paper  Delicassen\n",
       "0  12669  9656     7561     214              2674        1338\n",
       "1   7057  9810     9568    1762              3293        1776\n",
       "2   6353  8808     7684    2405              3516        7844\n",
       "3  13265  1196     4221    6404               507        1788\n",
       "4  22615  5410     7198    3915              1777        5185"
      ]
     },
     "metadata": {},
     "output_type": "display_data"
    }
   ],
   "source": [
    "display(data.head())"
   ]
  },
  {
   "cell_type": "code",
   "execution_count": 8,
   "metadata": {},
   "outputs": [],
   "source": [
    "from sklearn.decomposition import PCA\n",
    "pca = PCA(n_components = 2)\n",
    "pca = pca.fit(data)\n",
    "data_pca = pca.transform(data)"
   ]
  },
  {
   "cell_type": "code",
   "execution_count": 22,
   "metadata": {
    "scrolled": true
   },
   "outputs": [
    {
     "name": "stdout",
     "output_type": "stream",
     "text": [
      "[0.45961362 0.86478588 0.93481597 0.97883941 0.99386152 1.        ]\n"
     ]
    },
    {
     "data": {
      "image/png": "[encoded data removed]",
      "text/plain": [
       "<Figure size 432x288 with 1 Axes>"
      ]
     },
     "metadata": {
      "needs_background": "light"
     },
     "output_type": "display_data"
    }
   ],
   "source": [
    "from sklearn.decomposition import PCA\n",
    "import matplotlib.pyplot as plt\n",
    "pca = PCA(n_components=None)\n",
    "pca = pca.fit(data)\n",
    "var_exp = pca.explained_variance_ratio_\n",
    "cum_var_exp = np.cumsum(var_exp)\n",
    "print(cum_var_exp)\n",
    "plt.bar(range(1,7), var_exp, alpha=0.5, align='center', label='individual explained variance')\n",
    "plt.step(range(1,7), cum_var_exp, where='mid', label='cumulative expalined variance')\n",
    "plt.ylabel('Explained variance ratio')\n",
    "plt.xlabel('Principal components')\n",
    "plt.hlines(0.7, 0, 6,  \"blue\", linestyles='dashed')\n",
    "plt.legend(loc='best')\n",
    "plt.grid()\n",
    "plt.show()"
   ]
  },
  {
   "cell_type": "code",
   "execution_count": 10,
   "metadata": {},
   "outputs": [],
   "source": [
    "from sklearn.cluster import KMeans\n",
    "import pandas as pd\n",
    "import numpy as np\n",
    "import matplotlib.pyplot as plt\n",
    "\n",
    "max_cluster_num = 10\n",
    "\n",
    "sse = np.zeros((max_cluster_num,))     # Sum of Square Error（クラスタ内誤差平方和）\n",
    "se = np.zeros((max_cluster_num,))      # Sum of Error（クラスタ内誤差和）\n",
    "inertia = np.zeros((max_cluster_num,)) # scikit-learnにより自動計算するクラスタ内誤差平方和\n",
    "for i in range(max_cluster_num):\n",
    "    cluster_num = i + 1\n",
    "    kmeans = KMeans(n_clusters=cluster_num)\n",
    "    # 各データがどのクラスタに所属するか\n",
    "    pred = kmeans.fit_predict(data_pca)\n",
    "    inertia[i] = kmeans.inertia_\n",
    "\n",
    "    # 各データが自身の所属するクラスタ中心からどれだけ離れているか調べる\n",
    "    transforms = kmeans.transform(data_pca)    \n",
    "    distances = np.zeros((data_pca.shape[0]))\n",
    "    for index in range(len(transforms)):\n",
    "        distances[index] = transforms[index,pred[index]]\n",
    "\n",
    "    se[i] = np.sum(distances)\n",
    "    sse[i] = np.sum(distances**2)"
   ]
  },
  {
   "cell_type": "code",
   "execution_count": 27,
   "metadata": {},
   "outputs": [
    {
     "data": {
      "image/png": "[encoded data removed]",
      "text/plain": [
       "<Figure size 432x288 with 1 Axes>"
      ]
     },
     "metadata": {
      "needs_background": "light"
     },
     "output_type": "display_data"
    }
   ],
   "source": [
    "plt.title('distance from cluster centroid (elbow curve)')\n",
    "plt.xlabel('number of cluster')\n",
    "plt.ylabel('sum of error')\n",
    "plt.plot(sse,label='sse')\n",
    "plt.plot(se,label='se')\n",
    "plt.plot(inertia,label='inertia')\n",
    "plt.legend()\n",
    "plt.show()"
   ]
  },
  {
   "cell_type": "markdown",
   "metadata": {},
   "source": [
    "#### 4クラスタくらいに分けるのが良さそう"
   ]
  },
  {
   "cell_type": "code",
   "execution_count": 11,
   "metadata": {},
   "outputs": [],
   "source": [
    "pred = KMeans(n_clusters=4).fit_predict(data_pca)"
   ]
  },
  {
   "cell_type": "code",
   "execution_count": 12,
   "metadata": {},
   "outputs": [
    {
     "name": "stdout",
     "output_type": "stream",
     "text": [
      "[1 1 1 1 0 1 1 1 1 2 2 1 0 2 0 1 2 1 1 1 1 1 0 2 0 1 1 1 2 0 1 1 1 0 1 2 0\n",
      " 2 2 0 0 1 2 2 1 2 2 3 1 2 1 1 0 2 0 1 2 2 1 1 1 3 1 2 1 3 1 1 1 1 1 2 1 1\n",
      " 1 1 1 2 1 1 1 2 2 1 1 3 3 0 1 0 1 1 2 1 2 1 1 1 1 1 2 2 1 0 1 1 2 2 1 2 1\n",
      " 2 1 1 1 1 1 1 1 1 1 1 1 1 0 0 1 1 1 0 1 1 1 1 1 1 1 1 1 1 1 0 0 1 1 2 1 1\n",
      " 1 0 1 1 1 1 1 2 2 1 1 2 2 1 1 2 1 2 1 1 1 1 2 2 1 2 1 2 0 1 1 1 1 0 2 0 1\n",
      " 1 1 1 2 2 1 1 1 2 1 1 0 2 1 1 2 2 0 1 1 2 1 1 1 2 1 3 1 1 2 2 2 1 2 1 1 2\n",
      " 1 1 1 1 1 1 1 1 1 1 0 1 1 1 1 1 1 0 0 0 1 1 1 2 1 1 1 1 1 2 1 0 1 0 1 1 0\n",
      " 0 1 1 1 1 2 2 2 1 2 1 1 1 1 0 1 1 0 1 1 1 1 1 0 0 0 0 1 1 1 0 1 1 1 2 1 1\n",
      " 1 1 1 1 1 2 1 2 2 2 2 1 1 2 1 0 2 1 1 2 1 1 1 2 1 1 1 1 0 0 1 1 1 1 1 2 1\n",
      " 3 1 0 1 1 1 1 1 2 1 2 1 1 2 0 1 2 1 2 1 2 1 1 1 2 1 1 1 1 1 1 1 1 1 1 1 1\n",
      " 0 1 1 1 1 1 2 0 1 1 0 1 0 1 2 1 1 1 1 1 1 1 1 0 1 1 2 1 1 1 1 0 0 0 1 1 0\n",
      " 2 1 1 1 1 2 1 1 1 2 1 2 1 2 1 0 1 1 1 2 0 1 1 2 1 1 1 1 0 0 2 1 1]\n",
      "[[ 6.50022120e+02  1.58551911e+03]\n",
      " [-4.42680498e+03  4.04245152e+03]\n",
      " [-4.84199871e+03  2.57876219e+03]\n",
      " [ 9.90346444e+02 -6.27980600e+03]\n",
      " [ 1.06579987e+04 -2.15972579e+03]\n",
      " [-2.76596159e+03 -9.59870712e+02]\n",
      " [-7.15550892e+02 -2.01300225e+03]\n",
      " [-4.47458367e+03  1.42949698e+03]\n",
      " [-6.71209539e+03 -2.20590917e+03]\n",
      " [-4.82363437e+03  1.34805592e+04]\n",
      " [-7.97482899e+03  5.71121893e+03]\n",
      " [ 3.63937822e+01 -6.03789639e+03]\n",
      " [ 1.99402020e+04  4.59128651e+03]\n",
      " [ 9.39669557e+03  5.91315706e+03]\n",
      " [ 1.26603704e+04  4.54194546e+03]\n",
      " [-2.99772589e+03 -6.09387931e+03]\n",
      " [-1.05895236e+04  6.58421595e+03]\n",
      " [-6.36709517e+03 -3.68071268e+03]\n",
      " [ 6.62382533e+03  1.25471955e+03]\n",
      " [-4.86153157e+03 -2.25592277e+02]\n",
      " [ 4.79424416e+03 -3.98879934e+03]\n",
      " [-7.24486683e+03 -7.34772327e+03]\n",
      " [ 1.92992657e+04 -6.93681067e+03]\n",
      " [ 1.99410882e+04  2.63126546e+04]\n",
      " [ 1.14930748e+04  6.17138653e+03]\n",
      " [ 3.30994467e+03 -1.16125673e+03]\n",
      " [-2.96863905e+03 -7.15886854e+03]\n",
      " [ 8.72160239e+02 -7.60388820e+03]\n",
      " [-4.89551899e+03  2.45523736e+04]\n",
      " [ 2.92610931e+04 -1.00833375e+04]\n",
      " [ 6.39414888e+03  3.76417320e+02]\n",
      " [-9.81327672e+03 -4.16283155e+03]\n",
      " [ 8.06135615e+03 -7.97699062e+03]\n",
      " [ 1.76054510e+04 -3.96357177e+03]\n",
      " [-1.15280156e+04 -6.04897826e+03]\n",
      " [-1.13155164e+04  3.97022693e+03]\n",
      " [ 1.72251668e+04 -5.19081923e+03]\n",
      " [ 3.69239104e+03  6.86458649e+03]\n",
      " [-6.05893888e+03  1.41223078e+04]\n",
      " [ 4.32230973e+04 -1.40035946e+04]\n",
      " [ 1.26572405e+04 -5.03503289e+03]\n",
      " [ 6.48440574e+03 -3.74775427e+03]\n",
      " [-1.04726388e+03  7.83146006e+03]\n",
      " [-9.96785365e+03  1.86487624e+04]\n",
      " [-2.46870964e+03  3.41766824e+03]\n",
      " [-3.85345842e+03  2.13741761e+04]\n",
      " [-7.07067863e+03  1.74094280e+04]\n",
      " [ 4.14113163e+04  6.57882979e+04]\n",
      " [-6.45598362e+02  3.32887016e+03]\n",
      " [-3.97964870e+03  2.87791942e+04]\n",
      " [-6.35452089e+03 -7.16528452e+03]\n",
      " [-9.22606332e+03 -1.18110996e+03]\n",
      " [ 2.72895210e+04 -5.80765124e+03]\n",
      " [-1.09146928e+04  7.38976247e+03]\n",
      " [ 1.39816443e+04 -9.50607389e+03]\n",
      " [-7.34350011e+03 -2.89573987e+03]\n",
      " [-3.81971921e+03  3.31916042e+04]\n",
      " [-6.28336929e+03  6.55739319e+03]\n",
      " [ 4.52703315e+02 -7.97548637e+03]\n",
      " [-6.21764093e+03  6.24920470e+02]\n",
      " [-4.22019178e+03 -6.91381739e+02]\n",
      " [ 3.03988407e+04  6.23693729e+04]\n",
      " [-3.99325128e+03  9.21025346e-01]\n",
      " [-1.43456580e+03  1.10064495e+04]\n",
      " [-7.82844704e+03 -5.78164161e+03]\n",
      " [-8.08740662e+03  4.59508391e+04]\n",
      " [-1.28068817e+04 -1.09757009e+03]\n",
      " [ 7.84317115e+03  4.65493833e+03]\n",
      " [-8.84830877e+03 -1.94231624e+03]\n",
      " [-4.76083262e+03 -7.07154645e+03]\n",
      " [ 5.00866285e+03 -7.25202733e+03]\n",
      " [ 7.62296608e+03  8.14447143e+03]\n",
      " [-7.00444666e+03 -4.30094476e+03]\n",
      " [ 8.43018240e+03 -1.44917797e+03]\n",
      " [-3.78921188e+03  1.80223212e+03]\n",
      " [ 7.33317056e+03 -1.05175081e+04]\n",
      " [-1.07207452e+04 -1.95560874e+03]\n",
      " [ 1.86785099e+03  2.26347159e+04]\n",
      " [-2.35045336e+03 -7.74830299e+03]\n",
      " [-1.10043108e+04 -4.01272116e+03]\n",
      " [-6.23853237e+03 -6.62574328e+03]\n",
      " [-1.12071329e+04  9.94487022e+03]\n",
      " [-1.30006308e+03  4.62118084e+03]\n",
      " [ 7.62349956e+03 -8.76209361e+03]\n",
      " [-1.01346192e+03 -3.35332314e+03]\n",
      " [ 1.36536773e+04  9.92267341e+04]\n",
      " [ 1.98784566e+04  5.84706246e+04]\n",
      " [ 3.18242468e+04 -3.53384400e+03]\n",
      " [-3.98289850e+03 -6.44332950e+03]\n",
      " [ 1.23883208e+04 -5.24215782e+03]\n",
      " [-1.61762380e+03 -8.54281897e+03]\n",
      " [ 8.79263419e+02 -6.74580159e+03]\n",
      " [ 1.52914229e+03  3.59615137e+04]\n",
      " [ 3.60522082e+03 -7.38078953e+03]\n",
      " [-5.77789751e+03  7.36493278e+03]\n",
      " [-1.26067595e+04 -2.42436797e+03]\n",
      " [-1.26134442e+04  1.54707519e+02]\n",
      " [-1.28783461e+04 -8.26252237e+03]\n",
      " [-1.27644405e+04 -8.21597016e+03]\n",
      " [-2.76908837e+03 -7.31599089e+03]\n",
      " [ 1.95053482e+02  6.23874394e+03]\n",
      " [-9.44412630e+03  1.15794485e+04]\n",
      " [-8.89133102e+03  1.75483801e+03]\n",
      " [ 4.51833111e+04 -6.06493606e+03]\n",
      " [ 1.00785262e+03 -6.09909491e+03]\n",
      " [ 2.35794465e+03 -6.87742847e+03]\n",
      " [-1.05187101e+04  5.06531842e+03]\n",
      " [-2.25408155e+03  1.03885340e+04]\n",
      " [-1.04156359e+04  1.65648538e+03]\n",
      " [-8.18109339e+03  2.21050139e+04]\n",
      " [-1.15961935e+03 -7.87301182e+03]\n",
      " [ 1.43040493e+03  1.13810823e+04]\n",
      " [ 7.15459749e+03 -7.44909177e+03]\n",
      " [ 1.61475402e+03 -7.66987431e+03]\n",
      " [ 4.88721946e+03 -8.66630367e+03]\n",
      " [-1.85604097e+03 -7.27728033e+03]\n",
      " [-1.79516192e+03 -6.09697171e+03]\n",
      " [-5.50708097e+03 -3.33057648e+03]\n",
      " [ 7.36578056e+03 -8.15714198e+03]\n",
      " [-4.34664414e+03 -6.82651863e+03]\n",
      " [ 4.09512305e+03 -7.41137736e+03]\n",
      " [-8.67185816e+03 -6.38921963e+03]\n",
      " [-1.13539573e+03 -9.86306972e+03]\n",
      " [-3.76597999e+02  2.92317195e+03]\n",
      " [ 2.29595480e+04 -9.51531284e+03]\n",
      " [ 6.44209590e+04 -1.00084615e+04]\n",
      " [ 6.91008428e+03 -8.73165797e+03]\n",
      " [ 9.33907742e+03  1.71940730e+03]\n",
      " [-1.20036026e+04 -9.67780624e+02]\n",
      " [ 2.84450714e+04 -1.16508526e+04]\n",
      " [-5.12194524e+03 -7.75009718e+03]\n",
      " [-1.12463089e+04 -8.47591665e+03]\n",
      " [ 1.59344617e+03 -7.17226343e+03]\n",
      " [-3.95553138e+03 -8.27800825e+03]\n",
      " [-5.73959608e+03 -6.97408069e+03]\n",
      " [-6.79514623e+03 -6.80569859e+03]\n",
      " [-6.68847669e+03  1.36082857e+03]\n",
      " [-8.86055795e+03  1.58758149e+03]\n",
      " [ 8.27634001e+02 -4.00200673e+03]\n",
      " [-7.20786515e+03 -4.02551218e+03]\n",
      " [ 5.23430737e+03 -2.52308150e+03]\n",
      " [ 1.82767276e+04 -1.28619967e+03]\n",
      " [ 2.45359645e+04 -2.97018132e+03]\n",
      " [-1.73781221e+03 -8.30772889e+03]\n",
      " [ 5.51917270e+03 -7.29230209e+03]\n",
      " [ 1.14362495e+04  2.45168563e+04]\n",
      " [-5.33076106e+03 -6.98140569e+03]\n",
      " [-3.67550707e+03 -5.63133593e+03]\n",
      " [-6.92797752e+03 -8.71153376e+03]\n",
      " [ 1.80979647e+04 -1.02330400e+04]\n",
      " [ 2.91347484e+03 -8.22100016e+03]\n",
      " [-1.14756349e+04 -5.51967836e+03]\n",
      " [ 5.76227035e+03 -7.72104391e+03]\n",
      " [-8.58625530e+03 -2.43688126e+03]\n",
      " [-1.28276259e+04 -8.75827340e+03]\n",
      " [-8.92622098e+03  1.56971475e+04]\n",
      " [-7.94875904e+03  7.46083314e+03]\n",
      " [ 4.74916151e+03 -7.93700897e+03]\n",
      " [-9.05209768e+03  3.14359544e+03]\n",
      " [-1.12539418e+04  9.29700244e+03]\n",
      " [-1.03047681e+04  4.39596977e+03]\n",
      " [-9.18497448e+02 -9.59654959e+03]\n",
      " [ 2.28455344e+03 -6.47617251e+03]\n",
      " [-4.20729824e+03  2.42164150e+04]\n",
      " [-6.53369902e+03  2.39130263e+03]\n",
      " [ 5.32807674e+03  1.38084147e+04]\n",
      " [-7.01047204e+03  3.12645931e+03]\n",
      " [-9.91935360e+03 -4.35537401e+03]\n",
      " [-7.40995742e+03 -8.44639606e+03]\n",
      " [-7.53945721e+03 -7.38240707e+03]\n",
      " [-1.11878402e+04  8.45076310e+03]\n",
      " [-8.45023898e+03  2.31945695e+04]\n",
      " [-1.13844089e+04 -3.45742227e+01]\n",
      " [-1.06888295e+04  1.38387005e+04]\n",
      " [-1.22335129e+04 -4.13432870e+03]\n",
      " [-9.39870792e+03  5.67093590e+03]\n",
      " [ 3.34799973e+04 -4.85130805e+03]\n",
      " [ 6.10809935e+02 -2.86405429e+03]\n",
      " [-1.35491892e+03 -2.56607744e+03]\n",
      " [-8.80526789e+03 -4.60116029e+03]\n",
      " [ 1.24201315e+02  3.74359612e+02]\n",
      " [ 1.03863425e+05  9.91034971e+03]\n",
      " [-1.10735900e+04  6.06658973e+03]\n",
      " [ 3.79176592e+04  2.73314502e+04]\n",
      " [-1.27319529e+04 -4.66430039e+03]\n",
      " [-4.28353536e+03 -5.53668476e+03]\n",
      " [-9.83643603e+03 -7.91208785e+03]\n",
      " [-8.57629614e+03  3.68778297e+03]\n",
      " [-3.56625439e+03  5.63268511e+03]\n",
      " [-1.03957072e+04  7.43684041e+03]\n",
      " [ 5.07655294e+03 -6.04962503e+03]\n",
      " [ 1.04045809e+02 -9.11928086e+03]\n",
      " [-7.65685276e+03 -6.87743315e+03]\n",
      " [-1.14633249e+04  1.05414508e+04]\n",
      " [-6.01806674e+03 -6.63461023e+03]\n",
      " [ 5.42520518e+03 -3.98453342e+03]\n",
      " [ 2.06597741e+04 -4.65635720e+03]\n",
      " [-9.35122532e+03  4.15182559e+03]\n",
      " [-7.88576114e+02 -3.59808907e+03]\n",
      " [-3.51264030e+03 -6.94601869e+03]\n",
      " [-6.85928950e+03  1.89552822e+04]\n",
      " [-5.26298019e+03  2.22290044e+04]\n",
      " [ 1.43621802e+04  1.96927763e+03]\n",
      " [-1.26073900e+04 -6.50020651e+03]\n",
      " [-1.08212315e+04 -4.53341621e+03]\n",
      " [-9.38122507e+03  1.85431804e+04]\n",
      " [-6.93444010e+03 -8.29539256e+03]\n",
      " [-9.61236348e+03 -1.12333427e+02]\n",
      " [-1.08333548e+04 -1.35076667e+03]\n",
      " [-5.36956181e+03  1.45146640e+04]\n",
      " [ 5.40038580e+03 -8.66013629e+03]\n",
      " [ 5.02818145e+03  4.19627682e+04]\n",
      " [-5.77669045e+03 -7.36724927e+03]\n",
      " [-8.74329394e+03  9.51804633e+02]\n",
      " [-9.51129084e+03  5.18698502e+03]\n",
      " [-8.13025591e+03  1.05383235e+04]\n",
      " [-6.75326341e+03  3.22521606e+04]\n",
      " [ 4.92697368e+03 -8.42873963e+03]\n",
      " [-1.10034733e+04  8.76246356e+03]\n",
      " [-8.91492468e+03 -8.03603573e+03]\n",
      " [ 1.46028266e+03 -8.90575181e+03]\n",
      " [-6.62750736e+03  4.12334392e+03]\n",
      " [-7.06259032e+03 -6.64838733e+03]\n",
      " [-9.16513667e+03 -3.54328147e+03]\n",
      " [-6.02277130e+03 -8.09423763e+03]\n",
      " [-2.82017463e+02 -5.06503144e+03]\n",
      " [ 8.47243982e+03 -3.14299123e+01]\n",
      " [-8.75823707e+03 -6.84678206e+03]\n",
      " [-1.14067994e+04 -6.56236608e+03]\n",
      " [-3.41768099e+03 -6.27167283e+03]\n",
      " [-1.71885063e+02 -2.35142382e+03]\n",
      " [-9.40189109e+03 -7.56667380e+01]\n",
      " [ 1.24947031e+04 -7.70385326e+03]\n",
      " [-1.15722627e+04 -3.69235650e+03]\n",
      " [ 3.15963157e+03 -6.03988898e+03]\n",
      " [-1.05231385e+04 -3.13914394e+03]\n",
      " [-4.37810749e+03 -6.90546406e+03]\n",
      " [ 6.08158124e+03 -8.46591895e+03]\n",
      " [-5.99461421e+03 -8.92853678e+03]\n",
      " [ 3.44067011e+04 -9.53113095e+03]\n",
      " [ 1.08945559e+04 -3.98293197e+03]\n",
      " [ 1.16586406e+04 -8.59153865e+03]\n",
      " [ 5.20240164e+03 -8.09543618e+03]\n",
      " [-1.52976667e+03 -3.56476225e+03]\n",
      " [-5.50543830e+03  4.00947396e+03]\n",
      " [-8.70809961e+03  8.06988822e+03]\n",
      " [-4.07266616e+03 -7.03728496e+03]\n",
      " [ 2.21632591e+02 -9.75795892e+03]\n",
      " [ 2.74921833e+03 -5.76755875e+03]\n",
      " [-4.04407792e+03 -5.94003725e+03]\n",
      " [-9.68339619e+03 -6.68002309e+03]\n",
      " [-1.35627638e+03  3.50687407e+04]\n",
      " [-5.19287084e+03 -4.94549118e+03]\n",
      " [ 1.75380113e+04  5.19235758e+03]\n",
      " [ 6.89687543e+01  3.59190785e+03]\n",
      " [ 1.80965145e+04 -1.09108780e+04]\n",
      " [-1.60872971e+03 -3.29854805e+03]\n",
      " [-4.03170772e+03 -6.05053594e+03]\n",
      " [ 4.31882517e+04 -1.07141052e+04]\n",
      " [ 4.00548148e+04 -6.19880651e+03]\n",
      " [-3.67837835e+03 -5.36199483e+03]\n",
      " [-4.52856233e+03 -8.37775810e+03]\n",
      " [ 9.70993886e+03 -9.23108665e+03]\n",
      " [-1.01467098e+04 -2.37678031e+03]\n",
      " [-1.02375320e+04  1.01147651e+04]\n",
      " [-2.20851859e+03  1.34524458e+04]\n",
      " [-9.87674689e+03  1.49971542e+04]\n",
      " [ 8.09488288e+03 -8.13339944e+03]\n",
      " [ 5.29289063e+02  1.15360780e+04]\n",
      " [ 1.89507913e+03 -9.41812649e+03]\n",
      " [-7.82730339e+03 -8.09630842e+03]\n",
      " [-1.04497945e+04 -5.15570001e+03]\n",
      " [-1.13780011e+04  7.47480788e+02]\n",
      " [ 2.38063881e+04 -1.00935709e+04]\n",
      " [-1.20828246e+04 -6.30785565e+03]\n",
      " [-1.24327030e+04 -7.85790325e+03]\n",
      " [ 1.55158437e+04 -4.37266421e+03]\n",
      " [-1.88821379e+03 -8.95861289e+03]\n",
      " [-6.21526797e+02 -6.90700965e+03]\n",
      " [ 5.12722225e+03  1.26220322e+03]\n",
      " [-9.45305837e+03 -5.74446008e+03]\n",
      " [ 2.55900019e+01 -7.95511871e+02]\n",
      " [ 3.61898335e+04 -8.60629696e+03]\n",
      " [ 1.39239476e+04 -8.27083295e+03]\n",
      " [ 5.66645626e+04 -4.28604559e+03]\n",
      " [ 2.63034809e+04 -1.00533449e+04]\n",
      " [-5.88530775e+03 -7.08141858e+03]\n",
      " [ 3.30236417e+03 -7.23303843e+03]\n",
      " [ 2.71181517e+03 -9.16403650e+03]\n",
      " [ 2.85964536e+04 -1.30623182e+04]\n",
      " [-1.02199065e+04 -5.55948232e+03]\n",
      " [-6.54700881e+03 -5.19726538e+03]\n",
      " [-9.39911006e+03 -3.94631950e+03]\n",
      " [-7.30104359e+03  8.19458871e+03]\n",
      " [ 8.21789532e+03 -4.74570388e+03]\n",
      " [-5.43484154e+03 -3.86972808e+03]\n",
      " [ 6.07942354e+03 -7.22377794e+03]\n",
      " [-4.51260961e+03 -1.36822790e+03]\n",
      " [-5.51584407e+03  2.09929565e+03]\n",
      " [-1.27393567e+04 -6.72904266e+03]\n",
      " [ 3.99129652e+03 -1.48894937e+03]\n",
      " [-5.20835356e+03  1.62305494e+04]\n",
      " [-9.34980572e+03  3.37621433e+03]\n",
      " [-9.61810945e+03  7.03720562e+03]\n",
      " [-1.07012330e+04  1.83784042e+04]\n",
      " [-1.10034614e+04  6.01641890e+03]\n",
      " [-3.92698770e+03  1.64046772e+04]\n",
      " [ 4.15657975e+03 -7.18375907e+03]\n",
      " [-6.22408064e+03 -6.64822086e+03]\n",
      " [-8.99780075e+03  1.46213306e+04]\n",
      " [-4.27524463e+03 -7.05614203e+03]\n",
      " [ 1.67395917e+04 -4.48171255e+03]\n",
      " [-9.65945829e+03  1.37650595e+04]\n",
      " [-2.95101269e+03 -7.58990370e+03]\n",
      " [-2.10214985e+03 -2.87006162e+03]\n",
      " [-9.15603645e+03  9.46653377e+03]\n",
      " [-5.72047193e+03 -7.17980907e+03]\n",
      " [-1.13026013e+04 -2.31226657e+03]\n",
      " [-1.06952441e+03 -5.78846810e+03]\n",
      " [ 3.87067646e+02  2.11243793e+04]\n",
      " [-1.10082911e+04 -5.23227158e+03]\n",
      " [-3.48628076e+03 -4.81165989e+03]\n",
      " [ 2.90617408e+03 -7.19761933e+03]\n",
      " [ 5.78910719e+02 -3.22005303e+02]\n",
      " [ 1.29261042e+04 -7.89432151e+03]\n",
      " [ 3.10071165e+04  6.27780043e+03]\n",
      " [-8.28140565e+03 -7.26435779e+03]\n",
      " [-1.26234112e+04 -7.09394845e+03]\n",
      " [ 4.84880482e+03 -6.94924524e+03]\n",
      " [-7.17886657e+03 -4.99315822e+03]\n",
      " [-2.75721936e+03 -5.02032985e+03]\n",
      " [ 1.14795196e+03  2.16806578e+04]\n",
      " [ 9.32637900e+03 -8.35579714e+03]\n",
      " [-5.19041796e+02  5.82410592e+04]\n",
      " [ 5.24374639e+03 -8.00522858e+03]\n",
      " [ 1.47993067e+04  1.54497209e+03]\n",
      " [ 5.96119405e+02 -8.48759502e+03]\n",
      " [-2.70572190e+03 -7.10931982e+03]\n",
      " [-1.05722995e+04 -3.53970069e+03]\n",
      " [-8.84587395e+03 -4.28327563e+03]\n",
      " [-1.19059306e+04  3.33095826e+03]\n",
      " [-9.57909055e+03  4.47914535e+03]\n",
      " [-1.20395478e+04  3.94397769e+02]\n",
      " [-9.23401543e+03  2.03288610e+04]\n",
      " [-9.87526218e+03 -7.14919244e+03]\n",
      " [-1.14091224e+04  1.72205581e+02]\n",
      " [-8.51907451e+03  8.75572252e+03]\n",
      " [ 1.53687361e+04  2.95980961e+03]\n",
      " [-9.46000198e+03 -5.97973019e+03]\n",
      " [-4.33464773e+03  1.82082793e+04]\n",
      " [-9.42739637e+03 -7.03351529e+03]\n",
      " [-9.30152621e+03  1.80325702e+04]\n",
      " [-1.25008372e+04 -7.12036451e+03]\n",
      " [-1.12346988e+04  1.38369119e+04]\n",
      " [ 2.42329917e+03 -4.11450007e+03]\n",
      " [-1.30199080e+04 -6.86195567e+03]\n",
      " [ 9.23959161e+03 -1.11223282e+04]\n",
      " [-1.19200106e+04  1.13274021e+04]\n",
      " [-9.14991717e+03  2.30339815e+03]\n",
      " [-1.17396021e+04 -4.14512141e+03]\n",
      " [ 6.71939219e+03 -7.84220330e+03]\n",
      " [-8.50218315e+03 -8.31550841e+03]\n",
      " [-1.09132898e+04 -6.26188183e+03]\n",
      " [-8.50860877e+03 -4.92634407e+03]\n",
      " [-1.05125203e+04 -7.30405003e+03]\n",
      " [-7.21736838e+03  1.75007645e+03]\n",
      " [-3.54671318e+03 -7.38128260e+03]\n",
      " [-9.68192159e+03 -8.25506963e+03]\n",
      " [ 8.99093001e+03 -8.80777729e+03]\n",
      " [-7.12811442e+03 -8.80368779e+03]\n",
      " [ 2.64251874e+04 -7.09718871e+03]\n",
      " [ 7.81188039e+03 -8.43837728e+03]\n",
      " [-8.64802465e+03 -5.63426471e+03]\n",
      " [ 2.90139385e+03 -7.58344352e+02]\n",
      " [-6.62486558e+03 -6.96141407e+03]\n",
      " [-7.41850096e+03 -7.66718678e+03]\n",
      " [-7.59403353e+03  7.34873095e+03]\n",
      " [ 2.52073705e+04 -9.37712119e+03]\n",
      " [-9.67813347e+03 -5.94444756e+03]\n",
      " [-8.21750573e+03  1.64147412e+03]\n",
      " [ 1.49838972e+04 -9.66009867e+03]\n",
      " [ 6.09389585e+03 -7.25101889e+03]\n",
      " [ 2.21777023e+04 -1.58216312e+03]\n",
      " [-1.06740098e+04 -5.59353958e+03]\n",
      " [ 1.46740807e+03  1.33706672e+04]\n",
      " [-1.42404739e+03 -8.31880426e+03]\n",
      " [-1.13101237e+04 -4.75817036e+03]\n",
      " [ 7.65659248e+03 -8.84446828e+03]\n",
      " [-3.44999313e+03 -8.50819419e+03]\n",
      " [-3.51935926e+03 -7.92041436e+03]\n",
      " [-9.05963420e+03 -7.50273277e+03]\n",
      " [-1.01382737e+04 -5.80232228e+03]\n",
      " [-1.20840217e+04 -3.90329973e+03]\n",
      " [ 1.20339199e+04 -5.00325024e+03]\n",
      " [-8.30716564e+02 -7.24323989e+03]\n",
      " [-3.38926533e+03 -7.97270059e+03]\n",
      " [-6.49503495e+03  5.31757357e+03]\n",
      " [-8.15906280e+02 -8.21118679e+03]\n",
      " [-1.29009253e+03 -9.17232150e+03]\n",
      " [-3.68194849e+03 -8.71211921e+03]\n",
      " [-8.32155338e+03 -7.85526943e+03]\n",
      " [ 1.56815238e+04 -8.86280729e+03]\n",
      " [ 1.34001559e+04 -5.39662267e+03]\n",
      " [ 1.31947418e+04 -2.21445102e+03]\n",
      " [ 5.65893887e+03 -5.51684405e+03]\n",
      " [-6.20419206e+03 -7.95435256e+03]\n",
      " [ 1.34840209e+04 -4.89961112e+03]\n",
      " [-3.14963665e+03  1.41297514e+04]\n",
      " [-4.27934023e+03 -1.85117068e+03]\n",
      " [-3.44980620e+03 -2.22402888e+03]\n",
      " [-6.12250341e+03 -4.22634364e+03]\n",
      " [-1.02559459e+04 -4.54795212e+03]\n",
      " [-1.21691539e+04  3.59245058e+03]\n",
      " [-4.71738896e+03 -1.65979907e+03]\n",
      " [-6.30463993e+03 -5.52045381e+03]\n",
      " [-4.18477145e+03  1.33446500e+03]\n",
      " [-7.02962150e+03  7.17239836e+03]\n",
      " [-7.06589914e+03  3.23176614e+03]\n",
      " [-1.06166251e+04  1.22267843e+04]\n",
      " [-4.02482564e+03 -5.50113168e+03]\n",
      " [-7.60786885e+03  6.08257063e+03]\n",
      " [ 4.59959854e+03  4.06671529e+01]\n",
      " [ 1.29448658e+04 -7.44387545e+03]\n",
      " [ 4.61822645e+03 -4.62808706e+03]\n",
      " [ 4.34926153e+03  1.30953430e+03]\n",
      " [ 4.34714309e+02 -6.98341553e+03]\n",
      " [ 1.94924340e+03  7.39521798e+03]\n",
      " [ 2.15526835e+04  4.48065158e+02]\n",
      " [-9.11042016e+03 -2.04019768e+03]\n",
      " [-4.44771291e+03 -5.96374585e+03]\n",
      " [-8.68316982e+03  5.81408576e+03]\n",
      " [-1.99737740e+03 -2.64660585e+03]\n",
      " [ 7.65137625e+03 -6.42303804e+03]\n",
      " [-1.07137382e+04 -6.05810978e+03]\n",
      " [ 3.98879821e+03 -1.63844522e+03]\n",
      " [ 2.01408485e+04  6.30687723e+03]\n",
      " [ 2.59122500e+04 -1.17576471e+04]\n",
      " [ 4.55511498e+03  2.62017586e+04]\n",
      " [-2.73437091e+03 -7.07077534e+03]\n",
      " [-1.03701253e+04 -6.16146492e+03]]\n"
     ]
    }
   ],
   "source": [
    "print(pred)\n",
    "print(data_pca)"
   ]
  },
  {
   "cell_type": "code",
   "execution_count": 35,
   "metadata": {},
   "outputs": [
    {
     "data": {
      "image/png": "[encoded data removed]",
      "text/plain": [
       "<Figure size 432x288 with 1 Axes>"
      ]
     },
     "metadata": {
      "needs_background": "light"
     },
     "output_type": "display_data"
    }
   ],
   "source": [
    "plt.plot(data_pca[:,0][pred == 0], data_pca[:,1][pred == 0], 'ro')\n",
    "plt.plot(data_pca[:,0][pred == 1], data_pca[:,1][pred == 1], 'bo')\n",
    "plt.plot(data_pca[:,0][pred == 2], data_pca[:,1][pred == 2], 'mo')\n",
    "plt.plot(data_pca[:,0][pred == 3], data_pca[:,1][pred == 3], 'yo')\n",
    "plt.show()"
   ]
  },
  {
   "cell_type": "code",
   "execution_count": 32,
   "metadata": {},
   "outputs": [
    {
     "data": {
      "image/png": "[encoded data removed]",
      "text/plain": [
       "<Figure size 432x288 with 1 Axes>"
      ]
     },
     "metadata": {
      "needs_background": "light"
     },
     "output_type": "display_data"
    }
   ],
   "source": [
    "plt.plot(data_pca[:, 0], data_pca[:, 1], 'bo')\n",
    "plt.show()"
   ]
  },
  {
   "cell_type": "markdown",
   "metadata": {},
   "source": [
    "## 【問題11】既知のグループとの比較"
   ]
  },
  {
   "cell_type": "markdown",
   "metadata": {},
   "source": [
    "#### 勉強のためsklearnを利用"
   ]
  },
  {
   "cell_type": "code",
   "execution_count": 3,
   "metadata": {},
   "outputs": [],
   "source": [
    "path = '/Users/toyodasatomi/Downloads/Wholesale customers data.csv'\n",
    "all_data= pd.read_csv(path)"
   ]
  },
  {
   "cell_type": "code",
   "execution_count": 56,
   "metadata": {},
   "outputs": [],
   "source": [
    "#display(all_data)"
   ]
  },
  {
   "cell_type": "code",
   "execution_count": 57,
   "metadata": {},
   "outputs": [],
   "source": [
    "#all_data.sort_values('Channel')"
   ]
  },
  {
   "cell_type": "code",
   "execution_count": 50,
   "metadata": {},
   "outputs": [],
   "source": [
    "chan = all_data['Channel']"
   ]
  },
  {
   "cell_type": "code",
   "execution_count": 54,
   "metadata": {},
   "outputs": [],
   "source": [
    "reg = all_data['Region']"
   ]
  },
  {
   "cell_type": "code",
   "execution_count": 53,
   "metadata": {},
   "outputs": [
    {
     "data": {
      "image/png": "[encoded data removed]",
      "text/plain": [
       "<Figure size 432x288 with 1 Axes>"
      ]
     },
     "metadata": {
      "needs_background": "light"
     },
     "output_type": "display_data"
    }
   ],
   "source": [
    "#all_data.plot.scatter(x='xdata', y='ydata')\n",
    "plt.plot(data_pca[:,0][chan == 1], data_pca[:,1][chan == 1], 'ro')\n",
    "plt.plot(data_pca[:,0][chan == 2], data_pca[:,1][chan == 2], 'bo')\n",
    "plt.plot(data_pca[:,0][chan == 3], data_pca[:,1][chan == 3], 'mo')\n",
    "plt.show()"
   ]
  },
  {
   "cell_type": "code",
   "execution_count": 55,
   "metadata": {},
   "outputs": [
    {
     "data": {
      "image/png": "[encoded data removed]",
      "text/plain": [
       "<Figure size 432x288 with 1 Axes>"
      ]
     },
     "metadata": {
      "needs_background": "light"
     },
     "output_type": "display_data"
    }
   ],
   "source": [
    "plt.plot(data_pca[:,0][reg == 1], data_pca[:,1][reg == 1], 'ro')\n",
    "plt.plot(data_pca[:,0][reg == 2], data_pca[:,1][reg == 2], 'bo')\n",
    "plt.plot(data_pca[:,0][reg == 3], data_pca[:,1][reg == 3], 'mo')\n",
    "plt.show()"
   ]
  },
  {
   "cell_type": "markdown",
   "metadata": {},
   "source": [
    "#### RegionとChannelはK-meansを利用したクラスタとは違い、かなり重なりが発生している"
   ]
  },
  {
   "cell_type": "markdown",
   "metadata": {},
   "source": [
    "## 【問題12】卸売業者にとって有益な情報"
   ]
  },
  {
   "cell_type": "code",
   "execution_count": 2,
   "metadata": {},
   "outputs": [],
   "source": [
    "import pandas as pd\n",
    "import numpy as np\n",
    "import matplotlib.pyplot as plt"
   ]
  },
  {
   "cell_type": "code",
   "execution_count": 5,
   "metadata": {},
   "outputs": [
    {
     "data": {
      "text/html": [
       "<div>\n",
       "<style scoped>\n",
       "    .dataframe tbody tr th:only-of-type {\n",
       "        vertical-align: middle;\n",
       "    }\n",
       "\n",
       "    .dataframe tbody tr th {\n",
       "        vertical-align: top;\n",
       "    }\n",
       "\n",
       "    .dataframe thead th {\n",
       "        text-align: right;\n",
       "    }\n",
       "</style>\n",
       "<table border=\"1\" class=\"dataframe\">\n",
       "  <thead>\n",
       "    <tr style=\"text-align: right;\">\n",
       "      <th></th>\n",
       "      <th>Channel</th>\n",
       "      <th>Region</th>\n",
       "      <th>Fresh</th>\n",
       "      <th>Milk</th>\n",
       "      <th>Grocery</th>\n",
       "      <th>Frozen</th>\n",
       "      <th>Detergents_Paper</th>\n",
       "      <th>Delicassen</th>\n",
       "    </tr>\n",
       "  </thead>\n",
       "  <tbody>\n",
       "    <tr>\n",
       "      <th>count</th>\n",
       "      <td>440.000000</td>\n",
       "      <td>440.000000</td>\n",
       "      <td>440.000000</td>\n",
       "      <td>440.000000</td>\n",
       "      <td>440.000000</td>\n",
       "      <td>440.000000</td>\n",
       "      <td>440.000000</td>\n",
       "      <td>440.000000</td>\n",
       "    </tr>\n",
       "    <tr>\n",
       "      <th>mean</th>\n",
       "      <td>1.322727</td>\n",
       "      <td>2.543182</td>\n",
       "      <td>12000.297727</td>\n",
       "      <td>5796.265909</td>\n",
       "      <td>7951.277273</td>\n",
       "      <td>3071.931818</td>\n",
       "      <td>2881.493182</td>\n",
       "      <td>1524.870455</td>\n",
       "    </tr>\n",
       "    <tr>\n",
       "      <th>std</th>\n",
       "      <td>0.468052</td>\n",
       "      <td>0.774272</td>\n",
       "      <td>12647.328865</td>\n",
       "      <td>7380.377175</td>\n",
       "      <td>9503.162829</td>\n",
       "      <td>4854.673333</td>\n",
       "      <td>4767.854448</td>\n",
       "      <td>2820.105937</td>\n",
       "    </tr>\n",
       "    <tr>\n",
       "      <th>min</th>\n",
       "      <td>1.000000</td>\n",
       "      <td>1.000000</td>\n",
       "      <td>3.000000</td>\n",
       "      <td>55.000000</td>\n",
       "      <td>3.000000</td>\n",
       "      <td>25.000000</td>\n",
       "      <td>3.000000</td>\n",
       "      <td>3.000000</td>\n",
       "    </tr>\n",
       "    <tr>\n",
       "      <th>25%</th>\n",
       "      <td>1.000000</td>\n",
       "      <td>2.000000</td>\n",
       "      <td>3127.750000</td>\n",
       "      <td>1533.000000</td>\n",
       "      <td>2153.000000</td>\n",
       "      <td>742.250000</td>\n",
       "      <td>256.750000</td>\n",
       "      <td>408.250000</td>\n",
       "    </tr>\n",
       "    <tr>\n",
       "      <th>50%</th>\n",
       "      <td>1.000000</td>\n",
       "      <td>3.000000</td>\n",
       "      <td>8504.000000</td>\n",
       "      <td>3627.000000</td>\n",
       "      <td>4755.500000</td>\n",
       "      <td>1526.000000</td>\n",
       "      <td>816.500000</td>\n",
       "      <td>965.500000</td>\n",
       "    </tr>\n",
       "    <tr>\n",
       "      <th>75%</th>\n",
       "      <td>2.000000</td>\n",
       "      <td>3.000000</td>\n",
       "      <td>16933.750000</td>\n",
       "      <td>7190.250000</td>\n",
       "      <td>10655.750000</td>\n",
       "      <td>3554.250000</td>\n",
       "      <td>3922.000000</td>\n",
       "      <td>1820.250000</td>\n",
       "    </tr>\n",
       "    <tr>\n",
       "      <th>max</th>\n",
       "      <td>2.000000</td>\n",
       "      <td>3.000000</td>\n",
       "      <td>112151.000000</td>\n",
       "      <td>73498.000000</td>\n",
       "      <td>92780.000000</td>\n",
       "      <td>60869.000000</td>\n",
       "      <td>40827.000000</td>\n",
       "      <td>47943.000000</td>\n",
       "    </tr>\n",
       "  </tbody>\n",
       "</table>\n",
       "</div>"
      ],
      "text/plain": [
       "          Channel      Region          Fresh          Milk       Grocery  \\\n",
       "count  440.000000  440.000000     440.000000    440.000000    440.000000   \n",
       "mean     1.322727    2.543182   12000.297727   5796.265909   7951.277273   \n",
       "std      0.468052    0.774272   12647.328865   7380.377175   9503.162829   \n",
       "min      1.000000    1.000000       3.000000     55.000000      3.000000   \n",
       "25%      1.000000    2.000000    3127.750000   1533.000000   2153.000000   \n",
       "50%      1.000000    3.000000    8504.000000   3627.000000   4755.500000   \n",
       "75%      2.000000    3.000000   16933.750000   7190.250000  10655.750000   \n",
       "max      2.000000    3.000000  112151.000000  73498.000000  92780.000000   \n",
       "\n",
       "             Frozen  Detergents_Paper    Delicassen  \n",
       "count    440.000000        440.000000    440.000000  \n",
       "mean    3071.931818       2881.493182   1524.870455  \n",
       "std     4854.673333       4767.854448   2820.105937  \n",
       "min       25.000000          3.000000      3.000000  \n",
       "25%      742.250000        256.750000    408.250000  \n",
       "50%     1526.000000        816.500000    965.500000  \n",
       "75%     3554.250000       3922.000000   1820.250000  \n",
       "max    60869.000000      40827.000000  47943.000000  "
      ]
     },
     "execution_count": 5,
     "metadata": {},
     "output_type": "execute_result"
    }
   ],
   "source": [
    "all_data.describe()"
   ]
  },
  {
   "cell_type": "markdown",
   "metadata": {},
   "source": [
    "#### もともとの"
   ]
  },
  {
   "cell_type": "code",
   "execution_count": 4,
   "metadata": {},
   "outputs": [],
   "source": [
    "df_Channel1 = all_data[all_data['Channel']==1].drop(['Channel'],axis=1)\n",
    "df_Channel2 = all_data[all_data['Channel']==2].drop(['Channel'],axis=1)"
   ]
  },
  {
   "cell_type": "code",
   "execution_count": 6,
   "metadata": {},
   "outputs": [],
   "source": [
    "df_Region1 = all_data[all_data['Region']==1].drop(['Region'],axis=1)\n",
    "df_Region2 = all_data[all_data['Region']==2].drop(['Region'],axis=1)\n",
    "df_Region3 = all_data[all_data['Region']==3].drop(['Region'],axis=1)"
   ]
  },
  {
   "cell_type": "markdown",
   "metadata": {},
   "source": [
    "#### 新しくクラスらリングしたもの"
   ]
  },
  {
   "cell_type": "code",
   "execution_count": 16,
   "metadata": {},
   "outputs": [],
   "source": [
    "pred0 = all_data[pred==0].drop(['Region','Channel'],axis=1)\n",
    "pred1 = all_data[pred==1].drop(['Region','Channel'],axis=1)\n",
    "pred2 = all_data[pred==2].drop(['Region','Channel'],axis=1)\n",
    "pred3 = all_data[pred==3].drop(['Region','Channel'],axis=1)"
   ]
  },
  {
   "cell_type": "markdown",
   "metadata": {},
   "source": [
    "#### それぞれを見てみる"
   ]
  },
  {
   "cell_type": "markdown",
   "metadata": {},
   "source": [
    "##### Fresh"
   ]
  },
  {
   "cell_type": "code",
   "execution_count": 18,
   "metadata": {},
   "outputs": [
    {
     "data": {
      "image/png": "[encoded data removed]",
      "text/plain": [
       "<Figure size 432x288 with 1 Axes>"
      ]
     },
     "metadata": {
      "needs_background": "light"
     },
     "output_type": "display_data"
    }
   ],
   "source": [
    "plt.hist([df_Channel1['Fresh'],df_Channel2['Fresh']],\n",
    "         bins=15, label=['Horeca','Retail'], color=['#FACC2E','#2E64FE'], range=(0,60000))\n",
    "plt.show()"
   ]
  },
  {
   "cell_type": "code",
   "execution_count": 19,
   "metadata": {},
   "outputs": [
    {
     "data": {
      "image/png": "[encoded data removed]",
      "text/plain": [
       "<Figure size 432x288 with 1 Axes>"
      ]
     },
     "metadata": {
      "needs_background": "light"
     },
     "output_type": "display_data"
    }
   ],
   "source": [
    "plt.hist([df_Region1['Fresh'],df_Region2['Fresh'],df_Region3['Fresh']],\n",
    "         bins=15, label=['Lisbon','Oporto','Other Region'], color=['#2EFE2E','#FE2E2E','#F7FE2E'], rwidth=100, range=(0,60000))\n",
    "plt.show()"
   ]
  },
  {
   "cell_type": "code",
   "execution_count": 21,
   "metadata": {},
   "outputs": [
    {
     "data": {
      "image/png": "[encoded data removed]",
      "text/plain": [
       "<Figure size 432x288 with 1 Axes>"
      ]
     },
     "metadata": {
      "needs_background": "light"
     },
     "output_type": "display_data"
    }
   ],
   "source": [
    "plt.hist([pred0['Fresh'],pred1['Fresh'],pred2['Fresh'],pred3['Fresh']],\n",
    "         bins=15, label=['Horeca','Lisbon','Oporto','Other Region'], color=['#FACC2E','#2EFE2E','#FE2E2E','#F7FE2E'], rwidth=100, range=(0,60000))\n",
    "plt.show()"
   ]
  },
  {
   "cell_type": "markdown",
   "metadata": {},
   "source": [
    "#### Channel,Reagionは特に何も傾向は見えないが、新クラスタの0クラスは額が大きい部分に分布していそう"
   ]
  },
  {
   "cell_type": "markdown",
   "metadata": {},
   "source": [
    "###### milk"
   ]
  },
  {
   "cell_type": "code",
   "execution_count": 24,
   "metadata": {},
   "outputs": [
    {
     "data": {
      "image/png": "[encoded data removed]",
      "text/plain": [
       "<Figure size 432x288 with 1 Axes>"
      ]
     },
     "metadata": {
      "needs_background": "light"
     },
     "output_type": "display_data"
    }
   ],
   "source": [
    "plt.hist([df_Channel1['Milk'],df_Channel2['Milk']],\n",
    "         bins=15, label=['Horeca','Retail'], color=['#FACC2E','#2E64FE'], range=(0,60000))\n",
    "plt.show()"
   ]
  },
  {
   "cell_type": "code",
   "execution_count": 23,
   "metadata": {},
   "outputs": [
    {
     "data": {
      "image/png": "[encoded data removed]",
      "text/plain": [
       "<Figure size 432x288 with 1 Axes>"
      ]
     },
     "metadata": {
      "needs_background": "light"
     },
     "output_type": "display_data"
    }
   ],
   "source": [
    "plt.hist([df_Region1['Milk'],df_Region2['Milk'],df_Region3['Milk']],\n",
    "         bins=15, label=['Lisbon','Oporto','Other Region'], color=['#2EFE2E','#FE2E2E','#F7FE2E'], rwidth=100, range=(0,60000))\n",
    "plt.show()"
   ]
  },
  {
   "cell_type": "code",
   "execution_count": 25,
   "metadata": {},
   "outputs": [
    {
     "data": {
      "image/png": "[encoded data removed]",
      "text/plain": [
       "<Figure size 432x288 with 1 Axes>"
      ]
     },
     "metadata": {
      "needs_background": "light"
     },
     "output_type": "display_data"
    }
   ],
   "source": [
    "plt.hist([pred0['Milk'],pred1['Milk'],pred2['Milk'],pred3['Milk']],\n",
    "         bins=15, color=['#FACC2E','#2EFE2E','#FE2E2E','#F7FE2E'], rwidth=100, range=(0,60000))\n",
    "plt.show()"
   ]
  },
  {
   "cell_type": "markdown",
   "metadata": {},
   "source": [
    "#### chanel2が価格が高い傾向にある。predが低い傾向がある"
   ]
  },
  {
   "cell_type": "markdown",
   "metadata": {},
   "source": [
    "##### Grocery"
   ]
  },
  {
   "cell_type": "code",
   "execution_count": 41,
   "metadata": {},
   "outputs": [
    {
     "data": {
      "image/png": "[encoded data removed]",
      "text/plain": [
       "<Figure size 432x288 with 1 Axes>"
      ]
     },
     "metadata": {
      "needs_background": "light"
     },
     "output_type": "display_data"
    }
   ],
   "source": [
    "plt.hist([df_Channel1['Grocery'],df_Channel2['Grocery']],\n",
    "         bins=15, label=['Horeca','Retail'], color=['#FACC2E','#2E64FE'], range=(0,60000))\n",
    "plt.show()"
   ]
  },
  {
   "cell_type": "code",
   "execution_count": 42,
   "metadata": {},
   "outputs": [
    {
     "data": {
      "image/png": "[encoded data removed]",
      "text/plain": [
       "<Figure size 432x288 with 1 Axes>"
      ]
     },
     "metadata": {
      "needs_background": "light"
     },
     "output_type": "display_data"
    }
   ],
   "source": [
    "plt.hist([df_Region1['Grocery'],df_Region2['Grocery'],df_Region3['Grocery']],\n",
    "         bins=15, label=['Lisbon','Oporto','Other Region'], color=['#2EFE2E','#FE2E2E','#F7FE2E'], rwidth=100, range=(0,60000))\n",
    "plt.show()"
   ]
  },
  {
   "cell_type": "code",
   "execution_count": 43,
   "metadata": {},
   "outputs": [
    {
     "data": {
      "image/png": "[encoded data removed]",
      "text/plain": [
       "<Figure size 432x288 with 1 Axes>"
      ]
     },
     "metadata": {
      "needs_background": "light"
     },
     "output_type": "display_data"
    }
   ],
   "source": [
    "plt.hist([pred0['Grocery'],pred1['Grocery'],pred2['Grocery'],pred3['Grocery']],\n",
    "         bins=15, color=['#FACC2E','#2EFE2E','#FE2E2E','#F7FE2E'], rwidth=100, range=(0,60000))\n",
    "plt.show()"
   ]
  },
  {
   "cell_type": "markdown",
   "metadata": {},
   "source": [
    "#### Channel2,Region3,pred2が価格が大きい傾向"
   ]
  },
  {
   "cell_type": "markdown",
   "metadata": {},
   "source": [
    "##### Frozen"
   ]
  },
  {
   "cell_type": "code",
   "execution_count": 44,
   "metadata": {},
   "outputs": [
    {
     "data": {
      "image/png": "[encoded data removed]",
      "text/plain": [
       "<Figure size 432x288 with 1 Axes>"
      ]
     },
     "metadata": {
      "needs_background": "light"
     },
     "output_type": "display_data"
    }
   ],
   "source": [
    "plt.hist([df_Channel1['Frozen'],df_Channel2['Frozen']],\n",
    "         bins=15, label=['Horeca','Retail'], color=['#FACC2E','#2E64FE'], range=(0,60000))\n",
    "plt.show()"
   ]
  },
  {
   "cell_type": "code",
   "execution_count": 45,
   "metadata": {},
   "outputs": [
    {
     "data": {
      "image/png": "[encoded data removed]",
      "text/plain": [
       "<Figure size 432x288 with 1 Axes>"
      ]
     },
     "metadata": {
      "needs_background": "light"
     },
     "output_type": "display_data"
    }
   ],
   "source": [
    "plt.hist([df_Region1['Frozen'],df_Region2['Frozen'],df_Region3['Frozen']],\n",
    "         bins=15, label=['Lisbon','Oporto','Other Region'], color=['#2EFE2E','#FE2E2E','#F7FE2E'], rwidth=100, range=(0,60000))\n",
    "plt.show()"
   ]
  },
  {
   "cell_type": "code",
   "execution_count": 46,
   "metadata": {},
   "outputs": [
    {
     "data": {
      "image/png": "[encoded data removed]",
      "text/plain": [
       "<Figure size 432x288 with 1 Axes>"
      ]
     },
     "metadata": {
      "needs_background": "light"
     },
     "output_type": "display_data"
    }
   ],
   "source": [
    "plt.hist([pred0['Frozen'],pred1['Frozen'],pred2['Frozen'],pred3['Frozen']],\n",
    "         bins=15, color=['#FACC2E','#2EFE2E','#FE2E2E','#F7FE2E'], rwidth=100, range=(0,60000))\n",
    "plt.show()"
   ]
  },
  {
   "cell_type": "markdown",
   "metadata": {},
   "source": [
    "#### Channel1が高い傾向、他はあまり傾向なし"
   ]
  },
  {
   "cell_type": "markdown",
   "metadata": {},
   "source": [
    "##### Detergents_Paper"
   ]
  },
  {
   "cell_type": "code",
   "execution_count": 47,
   "metadata": {},
   "outputs": [
    {
     "data": {
      "image/png": "[encoded data removed]",
      "text/plain": [
       "<Figure size 432x288 with 1 Axes>"
      ]
     },
     "metadata": {
      "needs_background": "light"
     },
     "output_type": "display_data"
    }
   ],
   "source": [
    "plt.hist([df_Channel1['Detergents_Paper'],df_Channel2['Detergents_Paper']],\n",
    "         bins=15, label=['Horeca','Retail'], color=['#FACC2E','#2E64FE'], range=(0,60000))\n",
    "plt.show()"
   ]
  },
  {
   "cell_type": "code",
   "execution_count": 48,
   "metadata": {},
   "outputs": [
    {
     "data": {
      "image/png": "[encoded data removed]",
      "text/plain": [
       "<Figure size 432x288 with 1 Axes>"
      ]
     },
     "metadata": {
      "needs_background": "light"
     },
     "output_type": "display_data"
    }
   ],
   "source": [
    "plt.hist([df_Region1['Detergents_Paper'],df_Region2['Detergents_Paper'],df_Region3['Detergents_Paper']],\n",
    "         bins=15, label=['Lisbon','Oporto','Other Region'], color=['#2EFE2E','#FE2E2E','#F7FE2E'], rwidth=100, range=(0,60000))\n",
    "plt.show()"
   ]
  },
  {
   "cell_type": "code",
   "execution_count": 49,
   "metadata": {},
   "outputs": [
    {
     "data": {
      "image/png": "[encoded data removed]",
      "text/plain": [
       "<Figure size 432x288 with 1 Axes>"
      ]
     },
     "metadata": {
      "needs_background": "light"
     },
     "output_type": "display_data"
    }
   ],
   "source": [
    "plt.hist([pred0['Detergents_Paper'],pred1['Detergents_Paper'],pred2['Detergents_Paper'],pred3['Detergents_Paper']],\n",
    "         bins=15, color=['#FACC2E','#2EFE2E','#FE2E2E','#F7FE2E'], rwidth=100, range=(0,60000))\n",
    "plt.show()"
   ]
  },
  {
   "cell_type": "markdown",
   "metadata": {},
   "source": [
    "#### 大きな傾向なし"
   ]
  },
  {
   "cell_type": "markdown",
   "metadata": {},
   "source": [
    "##### Delicatessen"
   ]
  },
  {
   "cell_type": "code",
   "execution_count": 38,
   "metadata": {},
   "outputs": [
    {
     "data": {
      "image/png": "[encoded data removed]",
      "text/plain": [
       "<Figure size 432x288 with 1 Axes>"
      ]
     },
     "metadata": {
      "needs_background": "light"
     },
     "output_type": "display_data"
    }
   ],
   "source": [
    "plt.hist([df_Channel1['Milk'],df_Channel2['Milk']],\n",
    "         bins=15, label=['Horeca','Retail'], color=['#FACC2E','#2E64FE'], range=(0,60000))\n",
    "plt.show()"
   ]
  },
  {
   "cell_type": "code",
   "execution_count": 39,
   "metadata": {},
   "outputs": [
    {
     "data": {
      "image/png": "[encoded data removed]",
      "text/plain": [
       "<Figure size 432x288 with 1 Axes>"
      ]
     },
     "metadata": {
      "needs_background": "light"
     },
     "output_type": "display_data"
    }
   ],
   "source": [
    "plt.hist([df_Region1['Milk'],df_Region2['Milk'],df_Region3['Milk']],\n",
    "         bins=15, label=['Lisbon','Oporto','Other Region'], color=['#2EFE2E','#FE2E2E','#F7FE2E'], rwidth=100, range=(0,60000))\n",
    "plt.show()"
   ]
  },
  {
   "cell_type": "code",
   "execution_count": 40,
   "metadata": {},
   "outputs": [
    {
     "data": {
      "image/png": "[encoded data removed]",
      "text/plain": [
       "<Figure size 432x288 with 1 Axes>"
      ]
     },
     "metadata": {
      "needs_background": "light"
     },
     "output_type": "display_data"
    }
   ],
   "source": [
    "plt.hist([pred0['Milk'],pred1['Milk'],pred2['Milk'],pred3['Milk']],\n",
    "         bins=15, color=['#FACC2E','#2EFE2E','#FE2E2E','#F7FE2E'], rwidth=100, range=(0,60000))\n",
    "plt.show()"
   ]
  },
  {
   "cell_type": "code",
   "execution_count": null,
   "metadata": {},
   "outputs": [],
   "source": []
  },
  {
   "cell_type": "code",
   "execution_count": 28,
   "metadata": {},
   "outputs": [
    {
     "data": {
      "text/html": [
       "<div>\n",
       "<style scoped>\n",
       "    .dataframe tbody tr th:only-of-type {\n",
       "        vertical-align: middle;\n",
       "    }\n",
       "\n",
       "    .dataframe tbody tr th {\n",
       "        vertical-align: top;\n",
       "    }\n",
       "\n",
       "    .dataframe thead th {\n",
       "        text-align: right;\n",
       "    }\n",
       "</style>\n",
       "<table border=\"1\" class=\"dataframe\">\n",
       "  <thead>\n",
       "    <tr style=\"text-align: right;\">\n",
       "      <th></th>\n",
       "      <th></th>\n",
       "      <th>Fresh</th>\n",
       "      <th>Milk</th>\n",
       "      <th>Grocery</th>\n",
       "      <th>Frozen</th>\n",
       "      <th>Detergents_Paper</th>\n",
       "      <th>Delicassen</th>\n",
       "    </tr>\n",
       "    <tr>\n",
       "      <th>Region</th>\n",
       "      <th>Channel</th>\n",
       "      <th></th>\n",
       "      <th></th>\n",
       "      <th></th>\n",
       "      <th></th>\n",
       "      <th></th>\n",
       "      <th></th>\n",
       "    </tr>\n",
       "  </thead>\n",
       "  <tbody>\n",
       "    <tr>\n",
       "      <th rowspan=\"2\" valign=\"top\">1</th>\n",
       "      <th>1</th>\n",
       "      <td>761233</td>\n",
       "      <td>228342</td>\n",
       "      <td>237542</td>\n",
       "      <td>184512</td>\n",
       "      <td>56081</td>\n",
       "      <td>70632</td>\n",
       "    </tr>\n",
       "    <tr>\n",
       "      <th>2</th>\n",
       "      <td>93600</td>\n",
       "      <td>194112</td>\n",
       "      <td>332495</td>\n",
       "      <td>46514</td>\n",
       "      <td>148055</td>\n",
       "      <td>33695</td>\n",
       "    </tr>\n",
       "    <tr>\n",
       "      <th rowspan=\"2\" valign=\"top\">2</th>\n",
       "      <th>1</th>\n",
       "      <td>326215</td>\n",
       "      <td>64519</td>\n",
       "      <td>123074</td>\n",
       "      <td>160861</td>\n",
       "      <td>13516</td>\n",
       "      <td>30965</td>\n",
       "    </tr>\n",
       "    <tr>\n",
       "      <th>2</th>\n",
       "      <td>138506</td>\n",
       "      <td>174625</td>\n",
       "      <td>310200</td>\n",
       "      <td>29271</td>\n",
       "      <td>159795</td>\n",
       "      <td>23541</td>\n",
       "    </tr>\n",
       "    <tr>\n",
       "      <th rowspan=\"2\" valign=\"top\">3</th>\n",
       "      <th>1</th>\n",
       "      <td>2928269</td>\n",
       "      <td>735753</td>\n",
       "      <td>820101</td>\n",
       "      <td>771606</td>\n",
       "      <td>165990</td>\n",
       "      <td>320358</td>\n",
       "    </tr>\n",
       "    <tr>\n",
       "      <th>2</th>\n",
       "      <td>1032308</td>\n",
       "      <td>1153006</td>\n",
       "      <td>1675150</td>\n",
       "      <td>158886</td>\n",
       "      <td>724420</td>\n",
       "      <td>191752</td>\n",
       "    </tr>\n",
       "  </tbody>\n",
       "</table>\n",
       "</div>"
      ],
      "text/plain": [
       "                  Fresh     Milk  Grocery  Frozen  Detergents_Paper  \\\n",
       "Region Channel                                                        \n",
       "1      1         761233   228342   237542  184512             56081   \n",
       "       2          93600   194112   332495   46514            148055   \n",
       "2      1         326215    64519   123074  160861             13516   \n",
       "       2         138506   174625   310200   29271            159795   \n",
       "3      1        2928269   735753   820101  771606            165990   \n",
       "       2        1032308  1153006  1675150  158886            724420   \n",
       "\n",
       "                Delicassen  \n",
       "Region Channel              \n",
       "1      1             70632  \n",
       "       2             33695  \n",
       "2      1             30965  \n",
       "       2             23541  \n",
       "3      1            320358  \n",
       "       2            191752  "
      ]
     },
     "execution_count": 28,
     "metadata": {},
     "output_type": "execute_result"
    }
   ],
   "source": [
    "all_data.groupby(['Region','Channel']).sum()"
   ]
  },
  {
   "cell_type": "code",
   "execution_count": null,
   "metadata": {},
   "outputs": [],
   "source": []
  }
 ],
 "metadata": {
  "kernelspec": {
   "display_name": "Python 3",
   "language": "python",
   "name": "python3"
  },
  "language_info": {
   "codemirror_mode": {
    "name": "ipython",
    "version": 3
   },
   "file_extension": ".py",
   "mimetype": "text/x-python",
   "name": "python",
   "nbconvert_exporter": "python",
   "pygments_lexer": "ipython3",
   "version": "3.7.3"
  },
  "toc": {
   "base_numbering": 1,
   "nav_menu": {},
   "number_sections": true,
   "sideBar": true,
   "skip_h1_title": false,
   "title_cell": "Table of Contents",
   "title_sidebar": "Contents",
   "toc_cell": false,
   "toc_position": {
    "height": "calc(100% - 180px)",
    "left": "10px",
    "top": "150px",
    "width": "225.984px"
   },
   "toc_section_display": true,
   "toc_window_display": false
  },
  "varInspector": {
   "cols": {
    "lenName": 16,
    "lenType": 16,
    "lenVar": 40
   },
   "kernels_config": {
    "python": {
     "delete_cmd_postfix": "",
     "delete_cmd_prefix": "del ",
     "library": "var_list.py",
     "varRefreshCmd": "print(var_dic_list())"
    },
    "r": {
     "delete_cmd_postfix": ") ",
     "delete_cmd_prefix": "rm(",
     "library": "var_list.r",
     "varRefreshCmd": "cat(var_dic_list()) "
    }
   },
   "position": {
    "height": "349.5220642089844px",
    "left": "26.32720375061035px",
    "right": "20px",
    "top": "205.9816131591797px",
    "width": "350px"
   },
   "types_to_exclude": [
    "module",
    "function",
    "builtin_function_or_method",
    "instance",
    "_Feature"
   ],
   "window_display": false
  }
 },
 "nbformat": 4,
 "nbformat_minor": 2
}
