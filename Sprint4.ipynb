{
 "cells": [
  {
   "cell_type": "markdown",
   "metadata": {},
   "source": [
    "# Sprint 機械学習スクラッチ　ロジスティック回帰"
   ]
  },
  {
   "cell_type": "markdown",
   "metadata": {},
   "source": [
    "## 【問題1】仮定関数"
   ]
  },
  {
   "cell_type": "code",
   "execution_count": 5,
   "metadata": {},
   "outputs": [],
   "source": [
    "import numpy as np\n",
    "import pandas as pd\n",
    "import missingno as msno\n",
    "import matplotlib.pyplot as plt\n",
    "import seaborn as sns1\n",
    "import random"
   ]
  },
  {
   "cell_type": "code",
   "execution_count": 6,
   "metadata": {},
   "outputs": [
    {
     "name": "stdout",
     "output_type": "stream",
     "text": [
      "(100,)\n"
     ]
    }
   ],
   "source": [
    "from sklearn.datasets import load_iris\n",
    "a = load_iris()\n",
    "#print(a)\n",
    "X = a.data[0:100]\n",
    "y = a.target[0:100,]\n",
    "#print(y[0:100])\n",
    "#print(X[0:100,])\n",
    "print(y.shape)"
   ]
  },
  {
   "cell_type": "code",
   "execution_count": 50,
   "metadata": {
    "code_folding": [
     0
    ]
   },
   "outputs": [],
   "source": [
    "def bias(X,bias='Ture'):\n",
    "    n0=X.shape[0]\n",
    "\n",
    "    if bias == 'Ture':\n",
    "        x_one = np.ones(n0)\n",
    "        x_one_x = np.vstack((x_one,X.T))\n",
    "        X2 = x_one_x.T\n",
    "    else:\n",
    "        x_zeros = np.zeros(n0)\n",
    "        x_zeros_x = np.vstack((x_zeros,X.T))\n",
    "        X2 = x_zeros_x.T\n",
    "        \n",
    "    return X2  "
   ]
  },
  {
   "cell_type": "code",
   "execution_count": 77,
   "metadata": {},
   "outputs": [],
   "source": [
    "X2=bias(X,bias='Ture')"
   ]
  },
  {
   "cell_type": "code",
   "execution_count": 99,
   "metadata": {
    "code_folding": [
     0
    ]
   },
   "outputs": [],
   "source": [
    "def _linear_hypothesis(X):\n",
    "    y1 = ceet@X2.T\n",
    "    #シグモイド追加\n",
    "    y_s = 1 / (1 + np.exp(-y1))\n",
    "    #y_pre = np.reshape(y_s, (y_s.shape[0],1))\n",
    "    return y_s"
   ]
  },
  {
   "cell_type": "code",
   "execution_count": 59,
   "metadata": {
    "code_folding": [
     0
    ]
   },
   "outputs": [],
   "source": [
    "def fit (X,y):\n",
    "    \n",
    "    X2= bias(X,bias='Ture')\n",
    "    \n",
    "    n1=X2.shape[1]\n",
    "    \n",
    "    #パラメータに乱数リスト作る    \n",
    "    ceet=np.full(n1,random.random())\n",
    "    \n",
    "    #式に当てはめる    \n",
    "    y_pre = _linear_hypothesis(X)\n",
    "    \n",
    "    return y,y_s"
   ]
  },
  {
   "cell_type": "code",
   "execution_count": 52,
   "metadata": {},
   "outputs": [],
   "source": [
    "def sigmoid(y):\n",
    "    y_s = 1 / (1 + np.exp(-y))\n",
    "    return y_s"
   ]
  },
  {
   "cell_type": "code",
   "execution_count": 70,
   "metadata": {},
   "outputs": [
    {
     "name": "stdout",
     "output_type": "stream",
     "text": [
      "0.0\n"
     ]
    }
   ],
   "source": [
    "Xb =bias(X,bias='FA')\n",
    "#print(Xb)\n",
    "print(Xb[0,0])"
   ]
  },
  {
   "cell_type": "code",
   "execution_count": 53,
   "metadata": {},
   "outputs": [],
   "source": [
    "a,aa = fit(X,y)"
   ]
  },
  {
   "cell_type": "code",
   "execution_count": 31,
   "metadata": {},
   "outputs": [],
   "source": [
    "#print(a)\n",
    "#print(aa)"
   ]
  },
  {
   "cell_type": "markdown",
   "metadata": {},
   "source": [
    "## 【問題2】最急降下法"
   ]
  },
  {
   "cell_type": "code",
   "execution_count": 73,
   "metadata": {},
   "outputs": [
    {
     "name": "stdout",
     "output_type": "stream",
     "text": [
      "5\n"
     ]
    }
   ],
   "source": [
    "#一旦XbがX0を「１」or「０」で埋めたもののしぇーぷ\n",
    "n1=Xb.shape[1]\n",
    "print(n1)"
   ]
  },
  {
   "cell_type": "code",
   "execution_count": 74,
   "metadata": {},
   "outputs": [],
   "source": [
    "ceet=np.full(n1,random.random())"
   ]
  },
  {
   "cell_type": "code",
   "execution_count": 98,
   "metadata": {},
   "outputs": [],
   "source": [
    "qqq = _linear_hypothesis(X)\n",
    "#print(qqq)"
   ]
  },
  {
   "cell_type": "code",
   "execution_count": 140,
   "metadata": {
    "code_folding": [
     0
    ]
   },
   "outputs": [],
   "source": [
    "def _gradient_descent(X, y):\n",
    "    \"\"\"\n",
    "    説明を記述\n",
    "    次のシータの値を求める\n",
    "    \n",
    "    \"\"\"\n",
    "    aaaa=0.001\n",
    "    s = _linear_hypothesis(X)\n",
    "    \n",
    "    #降下\n",
    "    p=(s-y)\n",
    "    \n",
    "    pr= np.reshape(p, (p.shape[0],1))\n",
    "    \n",
    "    yyy = np.multiply(pr,Xb)\n",
    "    sum_yyy = yyy.sum(0)\n",
    "    \n",
    "    sum_ave_yyy = sum_yyy/yyy.shape[1]\n",
    "\n",
    "    #ラムダ2\n",
    "    lam=2/yyy.shape[1]*ceet\n",
    "\n",
    "    #バイアス有無で足すか否かをかえる\n",
    "    #一旦XbがX0を「１」or「０」で埋めたものかける\n",
    "    sum_ave_yyy+(lam*Xb[0,0])\n",
    "    \n",
    "    hyp = aaaa*sum_ave_yyy\n",
    "    \n",
    "    \n",
    "    new_ceet = ceet-hyp\n",
    "    \n",
    "    \n",
    "        \n",
    "    pass\n",
    "    return new_ceet"
   ]
  },
  {
   "cell_type": "code",
   "execution_count": 89,
   "metadata": {},
   "outputs": [
    {
     "name": "stdout",
     "output_type": "stream",
     "text": [
      "[0 0 0 0 0 0 0 0 0 0 0 0 0 0 0 0 0 0 0 0 0 0 0 0 0 0 0 0 0 0 0 0 0 0 0 0 0\n",
      " 0 0 0 0 0 0 0 0 0 0 0 0 0 1 1 1 1 1 1 1 1 1 1 1 1 1 1 1 1 1 1 1 1 1 1 1 1\n",
      " 1 1 1 1 1 1 1 1 1 1 1 1 1 1 1 1 1 1 1 1 1 1 1 1 1 1]\n"
     ]
    }
   ],
   "source": [
    "print(y)"
   ]
  },
  {
   "cell_type": "code",
   "execution_count": 100,
   "metadata": {},
   "outputs": [
    {
     "name": "stdout",
     "output_type": "stream",
     "text": [
      "(100,)\n",
      "(100,)\n",
      "(100,)\n"
     ]
    }
   ],
   "source": [
    "s = _linear_hypothesis(X)\n",
    "print(s.shape)\n",
    "print(y.shape)\n",
    "p=s-y\n",
    "print(p.shape)"
   ]
  },
  {
   "cell_type": "code",
   "execution_count": 138,
   "metadata": {},
   "outputs": [
    {
     "name": "stdout",
     "output_type": "stream",
     "text": [
      "(100, 1)\n",
      "(100, 4)\n",
      "(100, 4)\n",
      "(100, 5)\n"
     ]
    }
   ],
   "source": [
    "pr= np.reshape(p, (p.shape[0],1))\n",
    "print(pr.shape)\n",
    "print(X.shape)\n",
    "yyy= np.multiply(pr,X)\n",
    "print(yyy.shape)\n",
    "#print(Xb[0,0])\n",
    "print(Xb.shape)"
   ]
  },
  {
   "cell_type": "code",
   "execution_count": 132,
   "metadata": {},
   "outputs": [
    {
     "name": "stdout",
     "output_type": "stream",
     "text": [
      "(4,)\n",
      "(4,)\n",
      "4\n",
      "[0.26547538 0.26547538 0.26547538 0.26547538 0.26547538]\n",
      "(5,)\n"
     ]
    }
   ],
   "source": [
    "#print(yyy)\n",
    "sum_yyy = yyy.sum(0)\n",
    "print(sum_yyy.shape)\n",
    "sum_ave_yyy = sum_yyy/yyy.shape[1]\n",
    "print(sum_ave_yyy.shape)\n",
    "\n",
    "lam=2/yyy.shape[1]*ceet\n",
    "\n",
    "print(yyy.shape[1])\n",
    "print(lam)\n",
    "print(lam.shape)\n",
    "\n",
    "#hyp = aaaa*sum_ave_yyy    \n",
    "#new_ceet = ceet-hyp"
   ]
  },
  {
   "cell_type": "code",
   "execution_count": 141,
   "metadata": {},
   "outputs": [
    {
     "data": {
      "text/plain": [
       "array([0.53095075, 0.48105475, 0.49677694, 0.51638741, 0.52850204])"
      ]
     },
     "execution_count": 141,
     "metadata": {},
     "output_type": "execute_result"
    }
   ],
   "source": [
    "_gradient_descent(X, y)"
   ]
  },
  {
   "cell_type": "markdown",
   "metadata": {},
   "source": [
    "## 【問題3】推定"
   ]
  },
  {
   "cell_type": "code",
   "execution_count": 1,
   "metadata": {
    "code_folding": [
     0
    ]
   },
   "outputs": [],
   "source": [
    "class ScratchLogisticRegression():\n",
    "    \"\"\"\n",
    "    ロジスティック回帰のスクラッチ実装\n",
    "\n",
    "    Parameters\n",
    "    ----------\n",
    "    num_iter : int\n",
    "      イテレーション数\n",
    "    lr : float\n",
    "      学習率\n",
    "    no_bias : bool\n",
    "      バイアス項を入れない場合はTrue\n",
    "    verbose : bool\n",
    "      学習過程を出力する場合はTrue\n",
    "\n",
    "    Attributes\n",
    "    ----------\n",
    "    self.coef_ : 次の形のndarray, shape (n_features,)\n",
    "      パラメータ\n",
    "    self.loss : 次の形のndarray, shape (self.iter,)\n",
    "      学習用データに対する損失の記録\n",
    "    self.val_loss : 次の形のndarray, shape (self.iter,)\n",
    "      検証用データに対する損失の記録\n",
    "\n",
    "    \"\"\"\n",
    "\n",
    "    def __init__(self, num_iter, lr, bias, verbose):\n",
    "        # ハイパーパラメータを属性として記録\n",
    "        self.iter = num_iter\n",
    "        self.lr = lr\n",
    "        self.bias = bias\n",
    "        self.verbose = verbose\n",
    "        # 損失を記録する配列を用意\n",
    "        self.loss = np.zeros(self.iter)\n",
    "        self.val_loss = np.zeros(self.iter)\n",
    "\n",
    "    def _bias(self,X,bias):\n",
    "        n0=X.shape[0]\n",
    "        if self.bias == 'Ture':\n",
    "            x_one = np.ones(n0)\n",
    "            x_one_x = np.vstack((x_one,X.T))\n",
    "            self.X2 = x_one_x.T\n",
    "        else:\n",
    "            x_zeros = np.zeros(n0)\n",
    "            x_zeros_x = np.vstack((x_zeros,X.T))\n",
    "            self.X2 = x_zeros_x.T        \n",
    "        return self.X2    \n",
    "        \n",
    "                \n",
    "    def _linear_hypothesis(self,X):\n",
    "        y1 = self.ceet@self.X2.T\n",
    "        self.y_sigmoi = 1 / (1 + np.exp(-y1))\n",
    "        #y = np.reshape(y1, (y1.shape[0],1))\n",
    "\n",
    "        return self.y_sigmoi\n",
    "    \n",
    "        \n",
    "    def _gradient_descent(self,X, y):\n",
    "        p=(self.y_sigmoi-y)\n",
    "        pr= np.reshape(p, (p.shape[0],1))\n",
    "    \n",
    "        yyy = np.multiply(pr,self.X2)\n",
    "        sum_yyy = yyy.sum(0)\n",
    "    \n",
    "        sum_ave_yyy = sum_yyy/yyy.shape[1]\n",
    "        lam=2/yyy.shape[1]*ceet\n",
    "        sum_ave_y_lam=sum_ave_yyy+(lam*self.X2[0,0])\n",
    "        \n",
    "        hyp = self.lr*sum_ave_y_lam\n",
    "    \n",
    "        self.ceet = self.ceet-hyp\n",
    "        return self.ceet        \n",
    "\n",
    "        \n",
    "    def fit(self, X, y, X_val=None, y_val=None):\n",
    "        \"\"\"\n",
    "        ロジスティック回帰を学習する。検証用データが入力された場合はそれに対する損失と精度もイテレーションごとに計算する。\n",
    "\n",
    "        Parameters\n",
    "        ----------\n",
    "        X : 次の形のndarray, shape (n_samples, n_features)\n",
    "            学習用データの特徴量\n",
    "        y : 次の形のndarray, shape (n_samples, )\n",
    "            学習用データの正解値\n",
    "        X_val : 次の形のndarray, shape (n_samples, n_features)\n",
    "            検証用データの特徴量\n",
    "        y_val : 次の形のndarray, shape (n_samples, )\n",
    "            検証用データの正解値\n",
    "        \"\"\"\n",
    "        \n",
    "        self.X2 = self._bias(X,self.bias)\n",
    "        self.ceet=np.full(n1,random.random())\n",
    "\n",
    "        if self.verbose == 'Ture':\n",
    "            for i in range(self.iter):\n",
    "                self.y_pre=self._linear_hypothesis(X)\n",
    "                self.ceet=self._gradient_descent(X,y)\n",
    "                #print(self.y_pre)\n",
    "        else:\n",
    "            for i in range(self.iter):\n",
    "                self.y_pre=self._linear_hypothesis(X)\n",
    "                self.ceet=self._gradient_descent(X,y)     \n",
    "            \n",
    "        return self.ceet\n",
    "\n",
    "        if self.verbose:\n",
    "            #verboseをTrueにした際は学習過程を出力\n",
    "            print()\n",
    "        pass\n",
    "\n",
    "\n",
    "    def predict(self, X):\n",
    "        \"\"\"\n",
    "        ロジスティック回帰を使いラベルを推定する。\n",
    "\n",
    "        Parameters\n",
    "        ----------\n",
    "        X : 次の形のndarray, shape (n_samples, n_features)\n",
    "            サンプル\n",
    "\n",
    "        Returns\n",
    "        -------\n",
    "            次の形のndarray, shape (n_samples, 1)\n",
    "            ロジスティック回帰による推定結果\n",
    "        \"\"\"\n",
    "        X2_pre = self._bias(X,self.bias)\n",
    "        y_prob_pre = self._linear_hypothesis(X2_pre)\n",
    "        n_p = y_prob_pre.shape[0]\n",
    "        y_pre_k = np.arange(n_p)\n",
    "\n",
    "        for i in range(n_p):\n",
    "            if y_prob_pre[i] > 0.5:\n",
    "                np.put(y_pre_k,[i],[1])\n",
    "            else:\n",
    "                np.put(y_pre_k,[i],[0])\n",
    "        return y_pre_k\n",
    "\n",
    "    def predict_proba(self, X):\n",
    "        \"\"\"\n",
    "        ロジスティック回帰を使い確率を推定する。\n",
    "\n",
    "        Parameters\n",
    "        ----------\n",
    "        X : 次の形のndarray, shape (n_samples, n_features)\n",
    "            サンプル\n",
    "\n",
    "        Returns\n",
    "        -------\n",
    "            次の形のndarray, shape (n_samples, 1)\n",
    "            ロジスティック回帰による推定結果\n",
    "        \"\"\"\n",
    "        X2_pre = self._bias(X,self.bias)\n",
    "        y_prob_pre = self._linear_hypothesis(X2_pre)\n",
    "\n",
    "        pass\n",
    "        return y_prob_pre"
   ]
  },
  {
   "cell_type": "code",
   "execution_count": 176,
   "metadata": {},
   "outputs": [],
   "source": [
    "sr = ScratchLogisticRegression(num_iter=1000, lr=0.001, bias='Ture', verbose=1)"
   ]
  },
  {
   "cell_type": "code",
   "execution_count": 152,
   "metadata": {},
   "outputs": [],
   "source": [
    "#print(X)\n",
    "#print(y)"
   ]
  },
  {
   "cell_type": "code",
   "execution_count": 177,
   "metadata": {},
   "outputs": [
    {
     "data": {
      "text/plain": [
       "array([ 0.29471403, -0.63643144, -1.11058683,  1.98362505,  1.32231234])"
      ]
     },
     "execution_count": 177,
     "metadata": {},
     "output_type": "execute_result"
    }
   ],
   "source": [
    "sr.fit(X,y)"
   ]
  },
  {
   "cell_type": "code",
   "execution_count": 178,
   "metadata": {},
   "outputs": [
    {
     "name": "stdout",
     "output_type": "stream",
     "text": [
      "[0.0219541  0.04253251 0.03207069 0.05542053 0.02095874 0.02732583\n",
      " 0.03786611 0.03156788 0.06387933 0.04074005 0.01778793 0.04319439\n",
      " 0.03982537 0.03048732 0.00551846 0.00887885 0.01254676 0.02498027\n",
      " 0.02221941 0.02189872 0.03621531 0.02776301 0.01233509 0.07025988\n",
      " 0.07566198 0.05836281 0.0492326  0.02504094 0.02299563 0.05667225\n",
      " 0.05926105 0.03187163 0.01142493 0.00793436 0.04623328 0.02195612\n",
      " 0.01407004 0.01959663 0.04768996 0.02967917 0.02190074 0.10450227\n",
      " 0.03855739 0.05693046 0.05347902 0.05126367 0.0233609  0.0412804\n",
      " 0.01893468 0.02900531 0.96953066 0.97281309 0.98468892 0.98003285\n",
      " 0.98457788 0.98526566 0.98302674 0.91521703 0.97627572 0.97272315\n",
      " 0.9591595  0.97132685 0.96407193 0.98745806 0.91451495 0.95957305\n",
      " 0.98672775 0.95521239 0.9919606  0.95870778 0.99251583 0.95056253\n",
      " 0.99457857 0.985409   0.96265316 0.96583177 0.98565599 0.99234657\n",
      " 0.98471085 0.88539364 0.95776089 0.94216889 0.9492008  0.99669737\n",
      " 0.98829546 0.97684557 0.98004875 0.98489936 0.96270207 0.97518987\n",
      " 0.98553625 0.98298727 0.96220901 0.91882453 0.97773766 0.96279131\n",
      " 0.97059042 0.96696936 0.84262166 0.96799332]\n"
     ]
    }
   ],
   "source": [
    "ppp=sr.predict_proba(X)\n",
    "print(ppp)"
   ]
  },
  {
   "cell_type": "code",
   "execution_count": 171,
   "metadata": {},
   "outputs": [
    {
     "name": "stdout",
     "output_type": "stream",
     "text": [
      "[ 0  1  2  3  4  5  6  7  8  9 10 11 12 13 14 15 16 17 18 19 20 21 22 23\n",
      " 24 25 26 27 28 29 30 31 32 33 34 35 36 37 38 39 40 41 42 43 44 45 46 47\n",
      " 48 49 50 51 52 53 54 55 56 57 58 59 60 61 62 63 64 65 66 67 68 69 70 71\n",
      " 72 73 74 75 76 77 78 79 80 81 82 83 84 85 86 87 88 89 90 91 92 93 94 95\n",
      " 96 97 98 99]\n"
     ]
    }
   ],
   "source": [
    "y_pre_k_t = np.arange(100)\n",
    "print(y_pre_k_t)"
   ]
  },
  {
   "cell_type": "code",
   "execution_count": 173,
   "metadata": {},
   "outputs": [],
   "source": [
    "np.put(y_pre_k_t,[3],[1])"
   ]
  },
  {
   "cell_type": "code",
   "execution_count": 174,
   "metadata": {},
   "outputs": [
    {
     "name": "stdout",
     "output_type": "stream",
     "text": [
      "[ 0  1  2  1  4  5  6  7  8  9 10 11 12 13 14 15 16 17 18 19 20 21 22 23\n",
      " 24 25 26 27 28 29 30 31 32 33 34 35 36 37 38 39 40 41 42 43 44 45 46 47\n",
      " 48 49 50 51 52 53 54 55 56 57 58 59 60 61 62 63 64 65 66 67 68 69 70 71\n",
      " 72 73 74 75 76 77 78 79 80 81 82 83 84 85 86 87 88 89 90 91 92 93 94 95\n",
      " 96 97 98 99]\n"
     ]
    }
   ],
   "source": [
    "print(y_pre_k_t)"
   ]
  },
  {
   "cell_type": "code",
   "execution_count": 180,
   "metadata": {},
   "outputs": [
    {
     "name": "stdout",
     "output_type": "stream",
     "text": [
      "[0 0 0 0 0 0 0 0 0 0 0 0 0 0 0 0 0 0 0 0 0 0 0 0 0 0 0 0 0 0 0 0 0 0 0 0 0\n",
      " 0 0 0 0 0 0 0 0 0 0 0 0 0 1 1 1 1 1 1 1 1 1 1 1 1 1 1 1 1 1 1 1 1 1 1 1 1\n",
      " 1 1 1 1 1 1 1 1 1 1 1 1 1 1 1 1 1 1 1 1 1 1 1 1 1 1]\n"
     ]
    }
   ],
   "source": [
    "llll=sr.predict(X)\n",
    "print(llll)"
   ]
  },
  {
   "cell_type": "code",
   "execution_count": 181,
   "metadata": {},
   "outputs": [],
   "source": [
    "srf = ScratchLogisticRegression(num_iter=1000, lr=0.001, bias='Fa', verbose=1)"
   ]
  },
  {
   "cell_type": "code",
   "execution_count": 182,
   "metadata": {},
   "outputs": [
    {
     "data": {
      "text/plain": [
       "array([ 0.43935028, -0.51682982, -1.18003329,  2.01071822,  1.16157817])"
      ]
     },
     "execution_count": 182,
     "metadata": {},
     "output_type": "execute_result"
    }
   ],
   "source": [
    "srf.fit(X,y)"
   ]
  },
  {
   "cell_type": "code",
   "execution_count": 183,
   "metadata": {
    "scrolled": true
   },
   "outputs": [
    {
     "name": "stdout",
     "output_type": "stream",
     "text": [
      "[0.02369231 0.04629834 0.03360306 0.05802376 0.02220575 0.02902456\n",
      " 0.03819705 0.033965   0.06606137 0.04485902 0.01967354 0.0455019\n",
      " 0.0435333  0.03123387 0.00622728 0.00940217 0.01319746 0.02653313\n",
      " 0.02500487 0.02285628 0.04099455 0.02871371 0.01233987 0.07371799\n",
      " 0.08015698 0.06447778 0.0514423  0.0274051  0.0252758  0.05976319\n",
      " 0.06360046 0.03481452 0.01220757 0.00856574 0.05010758 0.02377454\n",
      " 0.015884   0.02084813 0.04889721 0.03230946 0.02293568 0.11131255\n",
      " 0.03901891 0.05731501 0.05546384 0.05429985 0.02483158 0.04285213\n",
      " 0.02069546 0.03134245 0.97546156 0.97603214 0.98751492 0.98194804\n",
      " 0.98698027 0.98672175 0.98461356 0.919265   0.9806625  0.97325778\n",
      " 0.96284794 0.97335087 0.97089756 0.98903289 0.91925694 0.96618682\n",
      " 0.98733607 0.9616472  0.99324156 0.96356839 0.99273132 0.95673446\n",
      " 0.9954532  0.98772105 0.96851743 0.97131267 0.98855986 0.993474\n",
      " 0.9861773  0.89890125 0.96245045 0.94914541 0.95486845 0.99705917\n",
      " 0.98856548 0.97798273 0.98324036 0.98771612 0.96509678 0.97725222\n",
      " 0.98700876 0.98497279 0.96678797 0.92405222 0.97966229 0.96619903\n",
      " 0.97306545 0.97152107 0.84864017 0.9708006 ]\n"
     ]
    }
   ],
   "source": [
    "pppf=srf.predict_proba(X)\n",
    "print(pppf)"
   ]
  },
  {
   "cell_type": "markdown",
   "metadata": {},
   "source": [
    "## 【問題4】目的関数"
   ]
  },
  {
   "cell_type": "code",
   "execution_count": 110,
   "metadata": {},
   "outputs": [
    {
     "name": "stdout",
     "output_type": "stream",
     "text": [
      "(100, 4)\n",
      "(100,)\n"
     ]
    }
   ],
   "source": [
    "print(X.shape)\n",
    "print(y.shape)"
   ]
  },
  {
   "cell_type": "code",
   "execution_count": 34,
   "metadata": {},
   "outputs": [],
   "source": [
    "from sklearn.model_selection import train_test_split\n",
    "X_train, X_test, y_train, y_test = train_test_split(X,y,test_size=0.25,train_size=0.75,shuffle = True)\n"
   ]
  },
  {
   "cell_type": "code",
   "execution_count": 82,
   "metadata": {},
   "outputs": [
    {
     "name": "stdout",
     "output_type": "stream",
     "text": [
      "(75, 4)\n",
      "(75,)\n",
      "(25, 4)\n",
      "(25,)\n"
     ]
    }
   ],
   "source": [
    "print(X_train.shape)\n",
    "print(y_train.shape)\n",
    "print(X_test.shape)\n",
    "print(y_test.shape)"
   ]
  },
  {
   "cell_type": "markdown",
   "metadata": {},
   "source": [
    "#### テストデータの目的変数以外ちゃんと動くものキープ↓"
   ]
  },
  {
   "cell_type": "code",
   "execution_count": 113,
   "metadata": {
    "code_folding": [
     0
    ]
   },
   "outputs": [],
   "source": [
    "class ScratchLogisticRegression():\n",
    "    \"\"\"\n",
    "    ロジスティック回帰のスクラッチ実装\n",
    "\n",
    "    Parameters\n",
    "    ----------\n",
    "    num_iter : int\n",
    "      イテレーション数\n",
    "    lr : float\n",
    "      学習率\n",
    "    no_bias : bool\n",
    "      バイアス項を入れない場合はTrue\n",
    "    verbose : bool\n",
    "      学習過程を出力する場合はTrue\n",
    "\n",
    "    Attributes\n",
    "    ----------\n",
    "    self.coef_ : 次の形のndarray, shape (n_features,)\n",
    "      パラメータ\n",
    "    self.loss : 次の形のndarray, shape (self.iter,)\n",
    "      学習用データに対する損失の記録\n",
    "    self.val_loss : 次の形のndarray, shape (self.iter,)\n",
    "      検証用データに対する損失の記録\n",
    "\n",
    "    \"\"\"\n",
    "\n",
    "    def __init__(self, num_iter, lr, bias, verbose):\n",
    "        # ハイパーパラメータを属性として記録\n",
    "        self.iter = num_iter\n",
    "        self.lr = lr\n",
    "        self.bias = bias\n",
    "        self.verbose = verbose\n",
    "        # 損失を記録する配列を用意\n",
    "        self.loss = np.zeros(self.iter)\n",
    "        self.val_loss = np.zeros(self.iter)\n",
    "\n",
    "    def _bias(self,X,bias):\n",
    "        n0=X.shape[0]\n",
    "        if self.bias == 'Ture':\n",
    "            x_one = np.ones(n0)\n",
    "            x_one_x = np.vstack((x_one,X.T))\n",
    "            self.X2 = x_one_x.T\n",
    "        else:\n",
    "            x_zeros = np.zeros(n0)\n",
    "            x_zeros_x = np.vstack((x_zeros,X.T))\n",
    "            self.X2 = x_zeros_x.T        \n",
    "        return self.X2    \n",
    "        \n",
    "                \n",
    "    def _linear_hypothesis(self,X):\n",
    "        y1 = self.ceet@self.X2.T\n",
    "        self.y_sigmoi = 1 / (1 + np.exp(-y1))\n",
    "        #y = np.reshape(y1, (y1.shape[0],1))\n",
    "\n",
    "        return self.y_sigmoi\n",
    "    \n",
    "       \n",
    "    def _gradient_descent(self,X, y):\n",
    "        p=(self.y_sigmoi-y)\n",
    "        pr= np.reshape(p, (p.shape[0],1))\n",
    "    \n",
    "        yyy = np.multiply(pr,self.X2)\n",
    "        sum_yyy = yyy.sum(0)\n",
    "    \n",
    "        sum_ave_yyy = sum_yyy/yyy.shape[1]\n",
    "        lam=2/yyy.shape[1]*self.ceet\n",
    "        sum_ave_y_lam=sum_ave_yyy+(lam*self.X2[0,0])\n",
    "        \n",
    "        hyp = self.lr*sum_ave_y_lam\n",
    "    \n",
    "        self.ceet = self.ceet-hyp\n",
    "        return self.ceet        \n",
    "\n",
    "        \n",
    "    def fit(self, X, y, X_val=None, y_val=None):\n",
    "        \"\"\"\n",
    "        ロジスティック回帰を学習する。検証用データが入力された場合はそれに対する損失と精度もイテレーションごとに計算する。\n",
    "\n",
    "        Parameters\n",
    "        ----------\n",
    "        X : 次の形のndarray, shape (n_samples, n_features)\n",
    "            学習用データの特徴量\n",
    "        y : 次の形のndarray, shape (n_samples, )\n",
    "            学習用データの正解値\n",
    "        X_val : 次の形のndarray, shape (n_samples, n_features)\n",
    "            検証用データの特徴量\n",
    "        y_val : 次の形のndarray, shape (n_samples, )\n",
    "            検証用データの正解値\n",
    "        \"\"\"\n",
    "        \n",
    "        self.X2 = self._bias(X,self.bias)\n",
    "        n1 = self.X2.shape[1]\n",
    "        self.ceet=np.full(n1,random.random())\n",
    "\n",
    "        if self.verbose == 'Ture':\n",
    "            for i in range(self.iter):\n",
    "                self.y_pre=self._linear_hypothesis(X)\n",
    "                self.ceet=self._gradient_descent(X,y)\n",
    "                #print(self.y_pre)\n",
    "                #Trainデータの目的関数(損失関数)\n",
    "                m=self.y_pre.shape[0]\n",
    "                log = -y*np.log(self.y_pre)-(1-y)*np.log(1-self.y_pre)\n",
    "                lam=2/2*m*self.ceet\n",
    "                loss_lam = log.sum(0)+lam\n",
    "                loss = loss_lam/m\n",
    "                np.put(self.loss,[i],loss)\n",
    "                #print(self.loss)\n",
    "                                \n",
    "        else:\n",
    "            for i in range(self.iter):\n",
    "                self.y_pre=self._linear_hypothesis(X)\n",
    "                self.ceet=self._gradient_descent(X,y)     \n",
    "            \n",
    "        return self.ceet,self.loss\n",
    "\n",
    "    def predict(self, X):\n",
    "        \"\"\"\n",
    "        ロジスティック回帰を使いラベルを推定する。\n",
    "\n",
    "        Parameters\n",
    "        ----------\n",
    "        X : 次の形のndarray, shape (n_samples, n_features)\n",
    "            サンプル\n",
    "\n",
    "        Returns\n",
    "        -------\n",
    "            次の形のndarray, shape (n_samples, 1)\n",
    "            ロジスティック回帰による推定結果\n",
    "        \"\"\"\n",
    "        X2_pre = self._bias(X,self.bias)\n",
    "        y_prob_pre = self._linear_hypothesis(X2_pre)\n",
    "        n_p = y_prob_pre.shape[0]\n",
    "        y_pre_k = np.arange(n_p)\n",
    "\n",
    "        for i in range(n_p):\n",
    "            if y_prob_pre[i] > 0.5:\n",
    "                np.put(y_pre_k,[i],[1])\n",
    "            else:\n",
    "                np.put(y_pre_k,[i],[0])\n",
    "        return y_pre_k\n",
    "\n",
    "    def predict_proba(self, X):\n",
    "        \"\"\"\n",
    "        ロジスティック回帰を使い確率を推定する。\n",
    "\n",
    "        Parameters\n",
    "        ----------\n",
    "        X : 次の形のndarray, shape (n_samples, n_features)\n",
    "            サンプル\n",
    "\n",
    "        Returns\n",
    "        -------\n",
    "            次の形のndarray, shape (n_samples, 1)\n",
    "            ロジスティック回帰による推定結果\n",
    "        \"\"\"\n",
    "        X2_pre = self._bias(X,self.bias)\n",
    "        y_prob_pre = self._linear_hypothesis(X2_pre)\n",
    "\n",
    "        pass\n",
    "        return y_prob_pre"
   ]
  },
  {
   "cell_type": "code",
   "execution_count": 120,
   "metadata": {},
   "outputs": [],
   "source": [
    "sr = ScratchLogisticRegression(num_iter=1000, lr=0.001, bias='Ture', verbose='Ture')"
   ]
  },
  {
   "cell_type": "code",
   "execution_count": 127,
   "metadata": {},
   "outputs": [],
   "source": [
    "a,b=sr.fit(X_test,y_test)"
   ]
  },
  {
   "cell_type": "code",
   "execution_count": 129,
   "metadata": {},
   "outputs": [
    {
     "name": "stdout",
     "output_type": "stream",
     "text": [
      "[ 0.01936134 -0.25285454 -0.60912839  1.02274436  0.53077512]\n"
     ]
    }
   ],
   "source": [
    "print(a)\n",
    "#print(b)"
   ]
  },
  {
   "cell_type": "markdown",
   "metadata": {},
   "source": [
    "## 綺麗に書き直し→【最終】ScratchLogisticRegression_t"
   ]
  },
  {
   "cell_type": "markdown",
   "metadata": {},
   "source": [
    "#### 問1~4についても試行錯誤の結果で保存。最終でこちらに全て更新"
   ]
  },
  {
   "cell_type": "code",
   "execution_count": 162,
   "metadata": {
    "code_folding": [
     0
    ]
   },
   "outputs": [],
   "source": [
    "class ScratchLogisticRegression_t():\n",
    "    \"\"\"\n",
    "    ロジスティック回帰のスクラッチ実装\n",
    "\n",
    "    Parameters\n",
    "    ----------\n",
    "    num_iter : int\n",
    "      イテレーション数\n",
    "    lr : float\n",
    "      学習率\n",
    "    no_bias : bool\n",
    "      バイアス項を入れない場合はTrue\n",
    "    verbose : bool\n",
    "      学習過程を出力する場合はTrue\n",
    "\n",
    "    Attributes\n",
    "    ----------\n",
    "    self.coef_ : 次の形のndarray, shape (n_features,)\n",
    "      パラメータ\n",
    "    self.loss : 次の形のndarray, shape (self.iter,)\n",
    "      学習用データに対する損失の記録\n",
    "    self.val_loss : 次の形のndarray, shape (self.iter,)\n",
    "      検証用データに対する損失の記録\n",
    "\n",
    "    \"\"\"\n",
    "\n",
    "    def __init__(self, num_iter, lr, bias, verbose):\n",
    "        # ハイパーパラメータを属性として記録\n",
    "        self.iter = num_iter\n",
    "        self.lr = lr\n",
    "        self.bias = bias\n",
    "        self.verbose = verbose\n",
    "        # 損失を記録する配列を用意\n",
    "        self.loss = np.zeros(self.iter)\n",
    "        self.val_loss = np.zeros(self.iter)\n",
    "\n",
    "    def _bias(self,X,bias):\n",
    "        n0=X.shape[0]\n",
    "        if self.bias == 'Ture':\n",
    "            x_one = np.ones(n0)\n",
    "            x_one_x = np.vstack((x_one,X.T))\n",
    "            X2 = x_one_x.T\n",
    "        else:\n",
    "            x_zeros = np.zeros(n0)\n",
    "            x_zeros_x = np.vstack((x_zeros,X.T))\n",
    "            X2 = x_zeros_x.T        \n",
    "        return X2    \n",
    "        \n",
    "\n",
    "    def _linear_hypothesis(self,X):\n",
    "        y1 = self.ceet@X.T\n",
    "        y_sigmoi = 1 / (1 + np.exp(-y1))\n",
    "        #y = np.reshape(y1, (y1.shape[0],1))\n",
    "\n",
    "        return y_sigmoi\n",
    "    \n",
    "       \n",
    "    def _gradient_descent(self,X, y, y_sigmoi):\n",
    "        \n",
    "        p=(y_sigmoi-y)\n",
    "        #y_sigmoi,y：トレインデータのサンプル数\n",
    "        #Todo：y_sigmoiがバリデーションのサンプル数になってしまっている\n",
    "        pr= np.reshape(p, (p.shape[0],1))\n",
    "    \n",
    "        yyy = np.multiply(pr,self.X2)\n",
    "        sum_yyy = yyy.sum(0)\n",
    "    \n",
    "        sum_ave_yyy = sum_yyy/yyy.shape[1]\n",
    "        lam=2/yyy.shape[1]*self.ceet\n",
    "        sum_ave_y_lam=sum_ave_yyy+(lam*self.X2[0,0])\n",
    "        \n",
    "        hyp = self.lr*sum_ave_y_lam\n",
    "    \n",
    "        self.ceet = self.ceet-hyp\n",
    "        return self.ceet        \n",
    "                   \n",
    "    def fit(self, X, y, X_val=None, y_val=None):\n",
    "        \"\"\"\n",
    "        ロジスティック回帰を学習する。検証用データが入力された場合はそれに対する損失と精度もイテレーションごとに計算する。\n",
    "\n",
    "        Parameters\n",
    "        ----------\n",
    "        X : 次の形のndarray, shape (n_samples, n_features)\n",
    "            学習用データの特徴量\n",
    "        y : 次の形のndarray, shape (n_samples, )\n",
    "            学習用データの正解値\n",
    "        X_val : 次の形のndarray, shape (n_samples, n_features)\n",
    "            検証用データの特徴量\n",
    "        y_val : 次の形のndarray, shape (n_samples, )\n",
    "            検証用データの正解値\n",
    "        \"\"\"\n",
    "        \n",
    "        self.X2 = self._bias(X,self.bias)        \n",
    "        n1 = self.X2.shape[1]\n",
    "        self.ceet=np.full(n1,random.random())\n",
    "\n",
    "        if self.verbose == 'Ture':\n",
    "            self.X2_val = self._bias(X_val,self.bias)\n",
    "            n1_val = self.X2_val.shape[1]\n",
    "            self.ceet_val=np.full(n1_val,random.random())\n",
    "\n",
    "            for i in range(self.iter):\n",
    "                self.y_pre=self._linear_hypothesis(self.X2)\n",
    "                self.ceet=self._gradient_descent(X,y,self.y_pre)\n",
    "                ##print(self.y_pre)\n",
    "                ##Trainデータの目的関数(損失関数)\n",
    "                m=self.y_pre.shape[0]\n",
    "                log = -y*np.log(self.y_pre)-(1-y)*np.log(1-self.y_pre)\n",
    "                lam=2/2*m*self.ceet\n",
    "                loss_lam = log.sum(0)+lam\n",
    "                loss = loss_lam/m\n",
    "                np.put(self.loss,[i],loss)\n",
    "                #print(self.loss)\n",
    "                \n",
    "                #Testデータの目的関数(損失関数)\n",
    "                self.y_pre_val=self._linear_hypothesis(self.X2_val)\n",
    "\n",
    "                m_val=self.y_pre_val.shape[0]\n",
    "                log_val = -y_val*np.log(self.y_pre_val)-(1-y_val)*np.log(1-self.y_pre_val)\n",
    "                lam_val=2/2*m_val*self.ceet_val\n",
    "                loss_lam_val = log_val.sum(0)+lam_val\n",
    "                loss_val = loss_lam_val/m_val\n",
    "                np.put(self.val_loss,[i],loss_val)        \n",
    "                \n",
    "                #pp=(self.y_pre-y)**2\n",
    "                #sum_yyy = pp.sum(0)\n",
    "                #sum_ave_yyy = sum_yyy/(2*y.shape[0])\n",
    "                #np.put(self.loss,[i],sum_ave_yyy)\n",
    "                \n",
    "        else:\n",
    "            for i in range(self.iter):\n",
    "                self.y_pre=self._linear_hypothesis(self.X2)\n",
    "                self.ceet=self._gradient_descent(X,y,self.y_pre)\n",
    "        return self.ceet,self.loss,self.val_loss\n",
    "\n",
    "    def predict(self, X):\n",
    "        \"\"\"\n",
    "        ロジスティック回帰を使いラベルを推定する。\n",
    "\n",
    "        Parameters\n",
    "        ----------\n",
    "        X : 次の形のndarray, shape (n_samples, n_features)\n",
    "            サンプル\n",
    "\n",
    "        Returns\n",
    "        -------\n",
    "            次の形のndarray, shape (n_samples, 1)\n",
    "            ロジスティック回帰による推定結果\n",
    "        \"\"\"\n",
    "        X2_pre = self._bias(X,self.bias)\n",
    "        y_prob_pre = self._linear_hypothesis(X2_pre)\n",
    "        n_p = y_prob_pre.shape[0]\n",
    "        y_pre_k = np.arange(n_p)\n",
    "\n",
    "        for i in range(n_p):\n",
    "            if y_prob_pre[i] > 0.5:\n",
    "                np.put(y_pre_k,[i],[1])\n",
    "            else:\n",
    "                np.put(y_pre_k,[i],[0])\n",
    "        return y_pre_k\n",
    "\n",
    "    def predict_proba(self, X):\n",
    "        \"\"\"\n",
    "        ロジスティック回帰を使い確率を推定する。\n",
    "\n",
    "        Parameters\n",
    "        ----------\n",
    "        X : 次の形のndarray, shape (n_samples, n_features)\n",
    "            サンプル\n",
    "\n",
    "        Returns\n",
    "        -------\n",
    "            次の形のndarray, shape (n_samples, 1)\n",
    "            ロジスティック回帰による推定結果\n",
    "        \"\"\"\n",
    "        X2_pre = self._bias(X,self.bias)\n",
    "        y_prob_pre = self._linear_hypothesis(X2_pre)\n",
    "\n",
    "        pass\n",
    "        return y_prob_pre"
   ]
  },
  {
   "cell_type": "code",
   "execution_count": 194,
   "metadata": {},
   "outputs": [],
   "source": [
    "sr_t = ScratchLogisticRegression_t(num_iter=1000, lr=0.001, bias='Ture', verbose='Ture')"
   ]
  },
  {
   "cell_type": "code",
   "execution_count": 195,
   "metadata": {},
   "outputs": [],
   "source": [
    "a,b,c=sr_t.fit(X_train,y_train,X_test,y_test)\n",
    "#a,b,c=sr_t.fit(X_train,y_train)"
   ]
  },
  {
   "cell_type": "markdown",
   "metadata": {},
   "source": [
    "## 【問題6】学習と推定"
   ]
  },
  {
   "cell_type": "markdown",
   "metadata": {},
   "source": [
    "### スクラッチ実装での学習と推定"
   ]
  },
  {
   "cell_type": "code",
   "execution_count": null,
   "metadata": {},
   "outputs": [],
   "source": [
    "#2変数に変換\n",
    "X_train_2=X_train[:,0:2]\n",
    "X_test_2=X_test[:,0:2]"
   ]
  },
  {
   "cell_type": "code",
   "execution_count": 206,
   "metadata": {},
   "outputs": [],
   "source": [
    "a,b,c=sr_t.fit(X_train_2,y_train,X_test_2,y_test)"
   ]
  },
  {
   "cell_type": "code",
   "execution_count": 207,
   "metadata": {},
   "outputs": [],
   "source": [
    "ppp_b=sr_t.predict_proba(X_test_2)"
   ]
  },
  {
   "cell_type": "code",
   "execution_count": 208,
   "metadata": {},
   "outputs": [],
   "source": [
    "ppp=sr_t.predict(X_test_2)"
   ]
  },
  {
   "cell_type": "code",
   "execution_count": 209,
   "metadata": {},
   "outputs": [
    {
     "name": "stdout",
     "output_type": "stream",
     "text": [
      "[0.86858055 0.85050283 0.66220833 0.74973114 0.1952988  0.20947009\n",
      " 0.79252973 0.34751454 0.80213237 0.13674018 0.23030479 0.43338529\n",
      " 0.37493207 0.35397819 0.5543034  0.13674018 0.69545161 0.15576894\n",
      " 0.08428294 0.86100992 0.83004831 0.94245689 0.37493207 0.7443676\n",
      " 0.24673383]\n",
      "[1 1 1 1 0 0 1 0 1 0 0 0 0 0 1 0 1 0 0 1 1 1 0 1 0]\n"
     ]
    }
   ],
   "source": [
    "print(ppp_b)\n",
    "print(ppp)"
   ]
  },
  {
   "cell_type": "markdown",
   "metadata": {},
   "source": [
    "### sklearnでの学習と推定"
   ]
  },
  {
   "cell_type": "code",
   "execution_count": 211,
   "metadata": {},
   "outputs": [
    {
     "data": {
      "text/plain": [
       "1.0"
      ]
     },
     "execution_count": 211,
     "metadata": {},
     "output_type": "execute_result"
    }
   ],
   "source": [
    "#ロジスティック回帰\n",
    "from sklearn import linear_model\n",
    "#インスタンス化　引数でloss=\"log\" 他の引数はサンプル通り\n",
    "lg = linear_model.SGDClassifier(loss=\"log\",max_iter=1000, tol=1e-3)\n",
    "#訓練\n",
    "lg.fit(X_train_2,y_train)\n",
    "#予測\n",
    "y_pred = lg.predict(X_test_2)\n",
    "# スコア\n",
    "lg.score(X_test_2,y_test)"
   ]
  },
  {
   "cell_type": "markdown",
   "metadata": {},
   "source": [
    "### 両方の評価"
   ]
  },
  {
   "cell_type": "code",
   "execution_count": 212,
   "metadata": {},
   "outputs": [],
   "source": [
    "from sklearn.metrics import accuracy_score\n",
    "from sklearn.metrics import precision_score\n",
    "from sklearn.metrics import recall_score\n",
    "from sklearn.metrics import f1_score\n",
    "from sklearn.metrics import confusion_matrix"
   ]
  },
  {
   "cell_type": "code",
   "execution_count": 213,
   "metadata": {},
   "outputs": [
    {
     "name": "stdout",
     "output_type": "stream",
     "text": [
      "1.0\n",
      "1.0\n",
      "1.0\n",
      "1.0\n",
      "[[13  0]\n",
      " [ 0 12]]\n"
     ]
    }
   ],
   "source": [
    "# スクラッチ\n",
    "print(accuracy_score(y_test, ppp))\n",
    "print(precision_score(y_test, ppp))\n",
    "print(recall_score(y_test, ppp))\n",
    "print(f1_score(y_test, ppp))\n",
    "print(confusion_matrix(y_test, ppp))"
   ]
  },
  {
   "cell_type": "code",
   "execution_count": 214,
   "metadata": {},
   "outputs": [
    {
     "name": "stdout",
     "output_type": "stream",
     "text": [
      "1.0\n",
      "1.0\n",
      "1.0\n",
      "1.0\n",
      "[[13  0]\n",
      " [ 0 12]]\n"
     ]
    }
   ],
   "source": [
    "# sklearn\n",
    "print(accuracy_score(y_test, y_pred))\n",
    "print(precision_score(y_test, y_pred))\n",
    "print(recall_score(y_test, y_pred))\n",
    "print(f1_score(y_test, y_pred))\n",
    "print(confusion_matrix(y_test, y_pred))"
   ]
  },
  {
   "cell_type": "markdown",
   "metadata": {},
   "source": [
    "## 【問題7】学習曲線のプロット"
   ]
  },
  {
   "cell_type": "code",
   "execution_count": 170,
   "metadata": {},
   "outputs": [],
   "source": [
    "#print(a)\n",
    "#print(b)\n",
    "#print(c)"
   ]
  },
  {
   "cell_type": "code",
   "execution_count": 28,
   "metadata": {},
   "outputs": [
    {
     "name": "stdout",
     "output_type": "stream",
     "text": [
      "(1000,)\n"
     ]
    }
   ],
   "source": [
    "aaaa = np.arange(0,1000)\n",
    "print(aaaa.shape)"
   ]
  },
  {
   "cell_type": "code",
   "execution_count": 210,
   "metadata": {},
   "outputs": [
    {
     "data": {
      "image/png": "[encoded data removed]",
      "text/plain": [
       "<Figure size 432x288 with 1 Axes>"
      ]
     },
     "metadata": {
      "needs_background": "light"
     },
     "output_type": "display_data"
    }
   ],
   "source": [
    "#グラフ化\n",
    "plt.title(\"sonsitukansu\")\n",
    "plt.xlabel('kaisu')\n",
    "plt.ylabel('son')\n",
    "plt.grid()\n",
    "plt.plot(aaaa,b)\n",
    "plt.plot(aaaa,c)\n",
    "plt.show()"
   ]
  },
  {
   "cell_type": "markdown",
   "metadata": {},
   "source": [
    "## 【問題8】決定領域の可視化"
   ]
  },
  {
   "cell_type": "code",
   "execution_count": 191,
   "metadata": {
    "code_folding": [
     3
    ]
   },
   "outputs": [],
   "source": [
    "from matplotlib.colors import ListedColormap\n",
    "import matplotlib.patches as mpatches\n",
    "\n",
    "def decision_region(X, y, model, step=0.01, title='decision region', xlabel='xlabel', ylabel='ylabel', target_names=['versicolor', 'virginica']):\n",
    "    \"\"\"\n",
    "    2値分類を2次元の特徴量で学習したモデルの決定領域を描く。\n",
    "    背景の色が学習したモデルによる推定値から描画される。\n",
    "    散布図の点は訓練データまたは検証データである。\n",
    "\n",
    "    Parameters\n",
    "    ----------------\n",
    "    X : ndarray, shape(n_samples, 2)\n",
    "        特徴量\n",
    "    y : ndarray, shape(n_samples,)\n",
    "        ラベル\n",
    "    model : object\n",
    "        学習したモデルのインスンタスを入れる\n",
    "    step : float, (default : 0.1)\n",
    "        推定値を計算する間隔を設定する\n",
    "    title : str\n",
    "        グラフのタイトルの文章を与える\n",
    "    xlabel, ylabel : str\n",
    "        軸ラベルの文章を与える\n",
    "    target_names= : list of str\n",
    "        凡例の一覧を与える\n",
    "    \"\"\"\n",
    "    # setting\n",
    "    scatter_color = ['red', 'blue']\n",
    "    contourf_color = ['pink', 'skyblue']\n",
    "    n_class = 2\n",
    "\n",
    "    # pred\n",
    "    mesh_f0, mesh_f1  = np.meshgrid(np.arange(np.min(X[:,0])-0.5, np.max(X[:,0])+0.5, step), np.arange(np.min(X[:,1])-0.5, np.max(X[:,1])+0.5, step))\n",
    "    mesh = np.c_[np.ravel(mesh_f0),np.ravel(mesh_f1)]\n",
    "    y_pred = model.predict(mesh).reshape(mesh_f0.shape)\n",
    "\n",
    "    # plot\n",
    "    plt.title(title)\n",
    "    plt.xlabel(xlabel)\n",
    "    plt.ylabel(ylabel)\n",
    "    plt.contourf(mesh_f0, mesh_f1, y_pred, n_class-1, cmap=ListedColormap(contourf_color))\n",
    "    plt.contour(mesh_f0, mesh_f1, y_pred, n_class-1, colors='y', linewidths=3, alpha=0.5)\n",
    "    for i, target in enumerate(set(y)):\n",
    "        plt.scatter(X[y==target][:, 0], X[y==target][:, 1], s=80, color=scatter_color[i], label=target_names[i], marker='o')\n",
    "    patches = [mpatches.Patch(color=scatter_color[i], label=target_names[i]) for i in range(n_class)]\n",
    "    plt.legend(handles=patches)\n",
    "    plt.legend()\n",
    "    plt.show()"
   ]
  },
  {
   "cell_type": "code",
   "execution_count": 198,
   "metadata": {},
   "outputs": [],
   "source": [
    "sr_tt = ScratchLogisticRegression_t(num_iter=1000, lr=0.001, bias='Ture', verbose='F')"
   ]
  },
  {
   "cell_type": "code",
   "execution_count": 199,
   "metadata": {},
   "outputs": [],
   "source": [
    "a,b,c=sr_tt.fit(X_2b,y_train)\n",
    "#a,b,c=sr_t.fit(X_train,y_train)"
   ]
  },
  {
   "cell_type": "code",
   "execution_count": 203,
   "metadata": {},
   "outputs": [
    {
     "data": {
      "image/png": "[encoded data removed]",
      "text/plain": [
       "<Figure size 432x288 with 1 Axes>"
      ]
     },
     "metadata": {
      "needs_background": "light"
     },
     "output_type": "display_data"
    }
   ],
   "source": [
    "decision_region(X=X_train_2, y=y_train, model=sr_tt)"
   ]
  },
  {
   "cell_type": "code",
   "execution_count": 197,
   "metadata": {},
   "outputs": [
    {
     "name": "stdout",
     "output_type": "stream",
     "text": [
      "(75, 4)\n",
      "(75,)\n",
      "(75, 2)\n"
     ]
    }
   ],
   "source": [
    "print(X_train.shape)\n",
    "print(y_train.shape)\n",
    "print(X_train_2.shape)"
   ]
  },
  {
   "cell_type": "code",
   "execution_count": 205,
   "metadata": {},
   "outputs": [],
   "source": [
    "X_train_2=X_train[:,0:2]\n",
    "X_test_2=X_test[:,0:2]"
   ]
  }
 ],
 "metadata": {
  "kernelspec": {
   "display_name": "Python 3",
   "language": "python",
   "name": "python3"
  },
  "language_info": {
   "codemirror_mode": {
    "name": "ipython",
    "version": 3
   },
   "file_extension": ".py",
   "mimetype": "text/x-python",
   "name": "python",
   "nbconvert_exporter": "python",
   "pygments_lexer": "ipython3",
   "version": "3.7.3"
  },
  "toc": {
   "base_numbering": 1,
   "nav_menu": {},
   "number_sections": true,
   "sideBar": true,
   "skip_h1_title": false,
   "title_cell": "Table of Contents",
   "title_sidebar": "Contents",
   "toc_cell": false,
   "toc_position": {},
   "toc_section_display": true,
   "toc_window_display": true
  }
 },
 "nbformat": 4,
 "nbformat_minor": 2
}
