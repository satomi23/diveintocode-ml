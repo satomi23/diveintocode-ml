{
 "cells": [
  {
   "cell_type": "markdown",
   "metadata": {},
   "source": [
    "# week4 授業課題 信用情報"
   ]
  },
  {
   "cell_type": "markdown",
   "metadata": {},
   "source": [
    "## 【問題1】コンペティション内容の確認"
   ]
  },
  {
   "cell_type": "markdown",
   "metadata": {},
   "source": [
    "- 何を学習し、何を予測するのか\n",
    "\n",
    "貸し倒れに関する要素を学習、個人が貸し倒るかどうかを予測\n",
    "\n",
    "- どのようなファイルを作りKaggleに提出するか\n",
    ">For each SK_ID_CURR in the test set, you must predict a probability for the TARGET variable. The file should contain a header and have the following format:\n",
    "\n",
    "SK_ID_CURR,TARGET\n",
    "100001,0.1\n",
    "100005,0.9\n",
    "100013,0.2\n",
    "\n",
    "- 提出されたものはどういった指標値で評価されるのか\n",
    ">area under the ROC curve between the predicted probability and the observed target."
   ]
  },
  {
   "cell_type": "markdown",
   "metadata": {},
   "source": [
    "## 【問題2】学習と検証"
   ]
  },
  {
   "cell_type": "code",
   "execution_count": 1,
   "metadata": {},
   "outputs": [],
   "source": [
    "#データを簡単に分析、前処理し、学習、検証するまでの一連の流れを作成・実行\n",
    "import numpy as np\n",
    "import pandas as pd\n",
    "import missingno as msno\n",
    "import matplotlib.pyplot as plt\n",
    "import seaborn as sns\n",
    "\n",
    "path = '/Users/toyodasatomi/Desktop/DIC/data/application_train.csv'\n",
    "df = pd.read_csv(path)"
   ]
  },
  {
   "cell_type": "code",
   "execution_count": 2,
   "metadata": {},
   "outputs": [
    {
     "data": {
      "text/html": [
       "<div>\n",
       "<style scoped>\n",
       "    .dataframe tbody tr th:only-of-type {\n",
       "        vertical-align: middle;\n",
       "    }\n",
       "\n",
       "    .dataframe tbody tr th {\n",
       "        vertical-align: top;\n",
       "    }\n",
       "\n",
       "    .dataframe thead th {\n",
       "        text-align: right;\n",
       "    }\n",
       "</style>\n",
       "<table border=\"1\" class=\"dataframe\">\n",
       "  <thead>\n",
       "    <tr style=\"text-align: right;\">\n",
       "      <th></th>\n",
       "      <th>SK_ID_CURR</th>\n",
       "      <th>TARGET</th>\n",
       "      <th>NAME_CONTRACT_TYPE</th>\n",
       "      <th>CODE_GENDER</th>\n",
       "      <th>FLAG_OWN_CAR</th>\n",
       "      <th>FLAG_OWN_REALTY</th>\n",
       "      <th>CNT_CHILDREN</th>\n",
       "      <th>AMT_INCOME_TOTAL</th>\n",
       "      <th>AMT_CREDIT</th>\n",
       "      <th>AMT_ANNUITY</th>\n",
       "      <th>...</th>\n",
       "      <th>FLAG_DOCUMENT_18</th>\n",
       "      <th>FLAG_DOCUMENT_19</th>\n",
       "      <th>FLAG_DOCUMENT_20</th>\n",
       "      <th>FLAG_DOCUMENT_21</th>\n",
       "      <th>AMT_REQ_CREDIT_BUREAU_HOUR</th>\n",
       "      <th>AMT_REQ_CREDIT_BUREAU_DAY</th>\n",
       "      <th>AMT_REQ_CREDIT_BUREAU_WEEK</th>\n",
       "      <th>AMT_REQ_CREDIT_BUREAU_MON</th>\n",
       "      <th>AMT_REQ_CREDIT_BUREAU_QRT</th>\n",
       "      <th>AMT_REQ_CREDIT_BUREAU_YEAR</th>\n",
       "    </tr>\n",
       "  </thead>\n",
       "  <tbody>\n",
       "    <tr>\n",
       "      <th>0</th>\n",
       "      <td>100002</td>\n",
       "      <td>1</td>\n",
       "      <td>Cash loans</td>\n",
       "      <td>M</td>\n",
       "      <td>N</td>\n",
       "      <td>Y</td>\n",
       "      <td>0</td>\n",
       "      <td>202500.0</td>\n",
       "      <td>406597.5</td>\n",
       "      <td>24700.5</td>\n",
       "      <td>...</td>\n",
       "      <td>0</td>\n",
       "      <td>0</td>\n",
       "      <td>0</td>\n",
       "      <td>0</td>\n",
       "      <td>0.0</td>\n",
       "      <td>0.0</td>\n",
       "      <td>0.0</td>\n",
       "      <td>0.0</td>\n",
       "      <td>0.0</td>\n",
       "      <td>1.0</td>\n",
       "    </tr>\n",
       "    <tr>\n",
       "      <th>1</th>\n",
       "      <td>100003</td>\n",
       "      <td>0</td>\n",
       "      <td>Cash loans</td>\n",
       "      <td>F</td>\n",
       "      <td>N</td>\n",
       "      <td>N</td>\n",
       "      <td>0</td>\n",
       "      <td>270000.0</td>\n",
       "      <td>1293502.5</td>\n",
       "      <td>35698.5</td>\n",
       "      <td>...</td>\n",
       "      <td>0</td>\n",
       "      <td>0</td>\n",
       "      <td>0</td>\n",
       "      <td>0</td>\n",
       "      <td>0.0</td>\n",
       "      <td>0.0</td>\n",
       "      <td>0.0</td>\n",
       "      <td>0.0</td>\n",
       "      <td>0.0</td>\n",
       "      <td>0.0</td>\n",
       "    </tr>\n",
       "    <tr>\n",
       "      <th>2</th>\n",
       "      <td>100004</td>\n",
       "      <td>0</td>\n",
       "      <td>Revolving loans</td>\n",
       "      <td>M</td>\n",
       "      <td>Y</td>\n",
       "      <td>Y</td>\n",
       "      <td>0</td>\n",
       "      <td>67500.0</td>\n",
       "      <td>135000.0</td>\n",
       "      <td>6750.0</td>\n",
       "      <td>...</td>\n",
       "      <td>0</td>\n",
       "      <td>0</td>\n",
       "      <td>0</td>\n",
       "      <td>0</td>\n",
       "      <td>0.0</td>\n",
       "      <td>0.0</td>\n",
       "      <td>0.0</td>\n",
       "      <td>0.0</td>\n",
       "      <td>0.0</td>\n",
       "      <td>0.0</td>\n",
       "    </tr>\n",
       "    <tr>\n",
       "      <th>3</th>\n",
       "      <td>100006</td>\n",
       "      <td>0</td>\n",
       "      <td>Cash loans</td>\n",
       "      <td>F</td>\n",
       "      <td>N</td>\n",
       "      <td>Y</td>\n",
       "      <td>0</td>\n",
       "      <td>135000.0</td>\n",
       "      <td>312682.5</td>\n",
       "      <td>29686.5</td>\n",
       "      <td>...</td>\n",
       "      <td>0</td>\n",
       "      <td>0</td>\n",
       "      <td>0</td>\n",
       "      <td>0</td>\n",
       "      <td>NaN</td>\n",
       "      <td>NaN</td>\n",
       "      <td>NaN</td>\n",
       "      <td>NaN</td>\n",
       "      <td>NaN</td>\n",
       "      <td>NaN</td>\n",
       "    </tr>\n",
       "    <tr>\n",
       "      <th>4</th>\n",
       "      <td>100007</td>\n",
       "      <td>0</td>\n",
       "      <td>Cash loans</td>\n",
       "      <td>M</td>\n",
       "      <td>N</td>\n",
       "      <td>Y</td>\n",
       "      <td>0</td>\n",
       "      <td>121500.0</td>\n",
       "      <td>513000.0</td>\n",
       "      <td>21865.5</td>\n",
       "      <td>...</td>\n",
       "      <td>0</td>\n",
       "      <td>0</td>\n",
       "      <td>0</td>\n",
       "      <td>0</td>\n",
       "      <td>0.0</td>\n",
       "      <td>0.0</td>\n",
       "      <td>0.0</td>\n",
       "      <td>0.0</td>\n",
       "      <td>0.0</td>\n",
       "      <td>0.0</td>\n",
       "    </tr>\n",
       "    <tr>\n",
       "      <th>5</th>\n",
       "      <td>100008</td>\n",
       "      <td>0</td>\n",
       "      <td>Cash loans</td>\n",
       "      <td>M</td>\n",
       "      <td>N</td>\n",
       "      <td>Y</td>\n",
       "      <td>0</td>\n",
       "      <td>99000.0</td>\n",
       "      <td>490495.5</td>\n",
       "      <td>27517.5</td>\n",
       "      <td>...</td>\n",
       "      <td>0</td>\n",
       "      <td>0</td>\n",
       "      <td>0</td>\n",
       "      <td>0</td>\n",
       "      <td>0.0</td>\n",
       "      <td>0.0</td>\n",
       "      <td>0.0</td>\n",
       "      <td>0.0</td>\n",
       "      <td>1.0</td>\n",
       "      <td>1.0</td>\n",
       "    </tr>\n",
       "    <tr>\n",
       "      <th>6</th>\n",
       "      <td>100009</td>\n",
       "      <td>0</td>\n",
       "      <td>Cash loans</td>\n",
       "      <td>F</td>\n",
       "      <td>Y</td>\n",
       "      <td>Y</td>\n",
       "      <td>1</td>\n",
       "      <td>171000.0</td>\n",
       "      <td>1560726.0</td>\n",
       "      <td>41301.0</td>\n",
       "      <td>...</td>\n",
       "      <td>0</td>\n",
       "      <td>0</td>\n",
       "      <td>0</td>\n",
       "      <td>0</td>\n",
       "      <td>0.0</td>\n",
       "      <td>0.0</td>\n",
       "      <td>0.0</td>\n",
       "      <td>1.0</td>\n",
       "      <td>1.0</td>\n",
       "      <td>2.0</td>\n",
       "    </tr>\n",
       "    <tr>\n",
       "      <th>7</th>\n",
       "      <td>100010</td>\n",
       "      <td>0</td>\n",
       "      <td>Cash loans</td>\n",
       "      <td>M</td>\n",
       "      <td>Y</td>\n",
       "      <td>Y</td>\n",
       "      <td>0</td>\n",
       "      <td>360000.0</td>\n",
       "      <td>1530000.0</td>\n",
       "      <td>42075.0</td>\n",
       "      <td>...</td>\n",
       "      <td>0</td>\n",
       "      <td>0</td>\n",
       "      <td>0</td>\n",
       "      <td>0</td>\n",
       "      <td>0.0</td>\n",
       "      <td>0.0</td>\n",
       "      <td>0.0</td>\n",
       "      <td>0.0</td>\n",
       "      <td>0.0</td>\n",
       "      <td>0.0</td>\n",
       "    </tr>\n",
       "    <tr>\n",
       "      <th>8</th>\n",
       "      <td>100011</td>\n",
       "      <td>0</td>\n",
       "      <td>Cash loans</td>\n",
       "      <td>F</td>\n",
       "      <td>N</td>\n",
       "      <td>Y</td>\n",
       "      <td>0</td>\n",
       "      <td>112500.0</td>\n",
       "      <td>1019610.0</td>\n",
       "      <td>33826.5</td>\n",
       "      <td>...</td>\n",
       "      <td>0</td>\n",
       "      <td>0</td>\n",
       "      <td>0</td>\n",
       "      <td>0</td>\n",
       "      <td>0.0</td>\n",
       "      <td>0.0</td>\n",
       "      <td>0.0</td>\n",
       "      <td>0.0</td>\n",
       "      <td>0.0</td>\n",
       "      <td>1.0</td>\n",
       "    </tr>\n",
       "    <tr>\n",
       "      <th>9</th>\n",
       "      <td>100012</td>\n",
       "      <td>0</td>\n",
       "      <td>Revolving loans</td>\n",
       "      <td>M</td>\n",
       "      <td>N</td>\n",
       "      <td>Y</td>\n",
       "      <td>0</td>\n",
       "      <td>135000.0</td>\n",
       "      <td>405000.0</td>\n",
       "      <td>20250.0</td>\n",
       "      <td>...</td>\n",
       "      <td>0</td>\n",
       "      <td>0</td>\n",
       "      <td>0</td>\n",
       "      <td>0</td>\n",
       "      <td>NaN</td>\n",
       "      <td>NaN</td>\n",
       "      <td>NaN</td>\n",
       "      <td>NaN</td>\n",
       "      <td>NaN</td>\n",
       "      <td>NaN</td>\n",
       "    </tr>\n",
       "  </tbody>\n",
       "</table>\n",
       "<p>10 rows × 122 columns</p>\n",
       "</div>"
      ],
      "text/plain": [
       "   SK_ID_CURR  TARGET NAME_CONTRACT_TYPE CODE_GENDER FLAG_OWN_CAR  \\\n",
       "0      100002       1         Cash loans           M            N   \n",
       "1      100003       0         Cash loans           F            N   \n",
       "2      100004       0    Revolving loans           M            Y   \n",
       "3      100006       0         Cash loans           F            N   \n",
       "4      100007       0         Cash loans           M            N   \n",
       "5      100008       0         Cash loans           M            N   \n",
       "6      100009       0         Cash loans           F            Y   \n",
       "7      100010       0         Cash loans           M            Y   \n",
       "8      100011       0         Cash loans           F            N   \n",
       "9      100012       0    Revolving loans           M            N   \n",
       "\n",
       "  FLAG_OWN_REALTY  CNT_CHILDREN  AMT_INCOME_TOTAL  AMT_CREDIT  AMT_ANNUITY  \\\n",
       "0               Y             0          202500.0    406597.5      24700.5   \n",
       "1               N             0          270000.0   1293502.5      35698.5   \n",
       "2               Y             0           67500.0    135000.0       6750.0   \n",
       "3               Y             0          135000.0    312682.5      29686.5   \n",
       "4               Y             0          121500.0    513000.0      21865.5   \n",
       "5               Y             0           99000.0    490495.5      27517.5   \n",
       "6               Y             1          171000.0   1560726.0      41301.0   \n",
       "7               Y             0          360000.0   1530000.0      42075.0   \n",
       "8               Y             0          112500.0   1019610.0      33826.5   \n",
       "9               Y             0          135000.0    405000.0      20250.0   \n",
       "\n",
       "   ...  FLAG_DOCUMENT_18 FLAG_DOCUMENT_19 FLAG_DOCUMENT_20 FLAG_DOCUMENT_21  \\\n",
       "0  ...                 0                0                0                0   \n",
       "1  ...                 0                0                0                0   \n",
       "2  ...                 0                0                0                0   \n",
       "3  ...                 0                0                0                0   \n",
       "4  ...                 0                0                0                0   \n",
       "5  ...                 0                0                0                0   \n",
       "6  ...                 0                0                0                0   \n",
       "7  ...                 0                0                0                0   \n",
       "8  ...                 0                0                0                0   \n",
       "9  ...                 0                0                0                0   \n",
       "\n",
       "  AMT_REQ_CREDIT_BUREAU_HOUR AMT_REQ_CREDIT_BUREAU_DAY  \\\n",
       "0                        0.0                       0.0   \n",
       "1                        0.0                       0.0   \n",
       "2                        0.0                       0.0   \n",
       "3                        NaN                       NaN   \n",
       "4                        0.0                       0.0   \n",
       "5                        0.0                       0.0   \n",
       "6                        0.0                       0.0   \n",
       "7                        0.0                       0.0   \n",
       "8                        0.0                       0.0   \n",
       "9                        NaN                       NaN   \n",
       "\n",
       "   AMT_REQ_CREDIT_BUREAU_WEEK  AMT_REQ_CREDIT_BUREAU_MON  \\\n",
       "0                         0.0                        0.0   \n",
       "1                         0.0                        0.0   \n",
       "2                         0.0                        0.0   \n",
       "3                         NaN                        NaN   \n",
       "4                         0.0                        0.0   \n",
       "5                         0.0                        0.0   \n",
       "6                         0.0                        1.0   \n",
       "7                         0.0                        0.0   \n",
       "8                         0.0                        0.0   \n",
       "9                         NaN                        NaN   \n",
       "\n",
       "   AMT_REQ_CREDIT_BUREAU_QRT  AMT_REQ_CREDIT_BUREAU_YEAR  \n",
       "0                        0.0                         1.0  \n",
       "1                        0.0                         0.0  \n",
       "2                        0.0                         0.0  \n",
       "3                        NaN                         NaN  \n",
       "4                        0.0                         0.0  \n",
       "5                        1.0                         1.0  \n",
       "6                        1.0                         2.0  \n",
       "7                        0.0                         0.0  \n",
       "8                        0.0                         1.0  \n",
       "9                        NaN                         NaN  \n",
       "\n",
       "[10 rows x 122 columns]"
      ]
     },
     "metadata": {},
     "output_type": "display_data"
    },
    {
     "name": "stdout",
     "output_type": "stream",
     "text": [
      "<class 'pandas.core.frame.DataFrame'>\n",
      "RangeIndex: 307511 entries, 0 to 307510\n",
      "Columns: 122 entries, SK_ID_CURR to AMT_REQ_CREDIT_BUREAU_YEAR\n",
      "dtypes: float64(65), int64(41), object(16)\n",
      "memory usage: 286.2+ MB\n",
      "None\n"
     ]
    }
   ],
   "source": [
    "# .head()、.info()、describe()などを使う\n",
    "display(df.head(10))\n",
    "print(df.info())\n",
    "#print(df.describe())"
   ]
  },
  {
   "cell_type": "code",
   "execution_count": 54,
   "metadata": {},
   "outputs": [
    {
     "name": "stdout",
     "output_type": "stream",
     "text": [
      "SK_ID_CURR:0\n",
      "TARGET:0\n",
      "NAME_CONTRACT_TYPE:0\n",
      "CODE_GENDER:0\n",
      "FLAG_OWN_CAR:0\n",
      "FLAG_OWN_REALTY:0\n",
      "CNT_CHILDREN:0\n",
      "AMT_INCOME_TOTAL:0\n",
      "AMT_CREDIT:0\n",
      "AMT_ANNUITY:12\n",
      "AMT_GOODS_PRICE:278\n",
      "NAME_TYPE_SUITE:1292\n",
      "NAME_INCOME_TYPE:0\n",
      "NAME_EDUCATION_TYPE:0\n",
      "NAME_FAMILY_STATUS:0\n",
      "NAME_HOUSING_TYPE:0\n",
      "REGION_POPULATION_RELATIVE:0\n",
      "DAYS_BIRTH:0\n",
      "DAYS_EMPLOYED:0\n",
      "DAYS_REGISTRATION:0\n",
      "DAYS_ID_PUBLISH:0\n",
      "OWN_CAR_AGE:202929\n",
      "FLAG_MOBIL:0\n",
      "FLAG_EMP_PHONE:0\n",
      "FLAG_WORK_PHONE:0\n",
      "FLAG_CONT_MOBILE:0\n",
      "FLAG_PHONE:0\n",
      "FLAG_EMAIL:0\n",
      "OCCUPATION_TYPE:96391\n",
      "CNT_FAM_MEMBERS:2\n",
      "REGION_RATING_CLIENT:0\n",
      "REGION_RATING_CLIENT_W_CITY:0\n",
      "WEEKDAY_APPR_PROCESS_START:0\n",
      "HOUR_APPR_PROCESS_START:0\n",
      "REG_REGION_NOT_LIVE_REGION:0\n",
      "REG_REGION_NOT_WORK_REGION:0\n",
      "LIVE_REGION_NOT_WORK_REGION:0\n",
      "REG_CITY_NOT_LIVE_CITY:0\n",
      "REG_CITY_NOT_WORK_CITY:0\n",
      "LIVE_CITY_NOT_WORK_CITY:0\n",
      "ORGANIZATION_TYPE:0\n",
      "EXT_SOURCE_1:173378\n",
      "EXT_SOURCE_2:660\n",
      "EXT_SOURCE_3:60965\n",
      "APARTMENTS_AVG:156061\n",
      "BASEMENTAREA_AVG:179943\n",
      "YEARS_BEGINEXPLUATATION_AVG:150007\n",
      "YEARS_BUILD_AVG:204488\n",
      "COMMONAREA_AVG:214865\n",
      "ELEVATORS_AVG:163891\n",
      "ENTRANCES_AVG:154828\n",
      "FLOORSMAX_AVG:153020\n",
      "FLOORSMIN_AVG:208642\n",
      "LANDAREA_AVG:182590\n",
      "LIVINGAPARTMENTS_AVG:210199\n",
      "LIVINGAREA_AVG:154350\n",
      "NONLIVINGAPARTMENTS_AVG:213514\n",
      "NONLIVINGAREA_AVG:169682\n",
      "APARTMENTS_MODE:156061\n",
      "BASEMENTAREA_MODE:179943\n",
      "YEARS_BEGINEXPLUATATION_MODE:150007\n",
      "YEARS_BUILD_MODE:204488\n",
      "COMMONAREA_MODE:214865\n",
      "ELEVATORS_MODE:163891\n",
      "ENTRANCES_MODE:154828\n",
      "FLOORSMAX_MODE:153020\n",
      "FLOORSMIN_MODE:208642\n",
      "LANDAREA_MODE:182590\n",
      "LIVINGAPARTMENTS_MODE:210199\n",
      "LIVINGAREA_MODE:154350\n",
      "NONLIVINGAPARTMENTS_MODE:213514\n",
      "NONLIVINGAREA_MODE:169682\n",
      "APARTMENTS_MEDI:156061\n",
      "BASEMENTAREA_MEDI:179943\n",
      "YEARS_BEGINEXPLUATATION_MEDI:150007\n",
      "YEARS_BUILD_MEDI:204488\n",
      "COMMONAREA_MEDI:214865\n",
      "ELEVATORS_MEDI:163891\n",
      "ENTRANCES_MEDI:154828\n",
      "FLOORSMAX_MEDI:153020\n",
      "FLOORSMIN_MEDI:208642\n",
      "LANDAREA_MEDI:182590\n",
      "LIVINGAPARTMENTS_MEDI:210199\n",
      "LIVINGAREA_MEDI:154350\n",
      "NONLIVINGAPARTMENTS_MEDI:213514\n",
      "NONLIVINGAREA_MEDI:169682\n",
      "FONDKAPREMONT_MODE:210295\n",
      "HOUSETYPE_MODE:154297\n",
      "TOTALAREA_MODE:148431\n",
      "WALLSMATERIAL_MODE:156341\n",
      "EMERGENCYSTATE_MODE:145755\n",
      "OBS_30_CNT_SOCIAL_CIRCLE:1021\n",
      "DEF_30_CNT_SOCIAL_CIRCLE:1021\n",
      "OBS_60_CNT_SOCIAL_CIRCLE:1021\n",
      "DEF_60_CNT_SOCIAL_CIRCLE:1021\n",
      "DAYS_LAST_PHONE_CHANGE:1\n",
      "FLAG_DOCUMENT_2:0\n",
      "FLAG_DOCUMENT_3:0\n",
      "FLAG_DOCUMENT_4:0\n",
      "FLAG_DOCUMENT_5:0\n",
      "FLAG_DOCUMENT_6:0\n",
      "FLAG_DOCUMENT_7:0\n",
      "FLAG_DOCUMENT_8:0\n",
      "FLAG_DOCUMENT_9:0\n",
      "FLAG_DOCUMENT_10:0\n",
      "FLAG_DOCUMENT_11:0\n",
      "FLAG_DOCUMENT_12:0\n",
      "FLAG_DOCUMENT_13:0\n",
      "FLAG_DOCUMENT_14:0\n",
      "FLAG_DOCUMENT_15:0\n",
      "FLAG_DOCUMENT_16:0\n",
      "FLAG_DOCUMENT_17:0\n",
      "FLAG_DOCUMENT_18:0\n",
      "FLAG_DOCUMENT_19:0\n",
      "FLAG_DOCUMENT_20:0\n",
      "FLAG_DOCUMENT_21:0\n",
      "AMT_REQ_CREDIT_BUREAU_HOUR:41519\n",
      "AMT_REQ_CREDIT_BUREAU_DAY:41519\n",
      "AMT_REQ_CREDIT_BUREAU_WEEK:41519\n",
      "AMT_REQ_CREDIT_BUREAU_MON:41519\n",
      "AMT_REQ_CREDIT_BUREAU_QRT:41519\n",
      "AMT_REQ_CREDIT_BUREAU_YEAR:41519\n"
     ]
    }
   ],
   "source": [
    "#欠損値の有無を見る\n",
    "import missingno as msno\n",
    "import matplotlib.pyplot as plt\n",
    "\n",
    "%matplotlib inline\n",
    "for i in df.columns:\n",
    "    print(i, df[i].isnull().sum(), sep = \":\")"
   ]
  },
  {
   "cell_type": "code",
   "execution_count": 5,
   "metadata": {},
   "outputs": [
    {
     "name": "stdout",
     "output_type": "stream",
     "text": [
      "Requirement already satisfied: category_encoders in /Users/akishimasaki/.pyenv/versions/anaconda3-2019.03/lib/python3.7/site-packages (2.1.0)\n",
      "Requirement already satisfied: pandas>=0.21.1 in /Users/akishimasaki/.pyenv/versions/anaconda3-2019.03/lib/python3.7/site-packages (from category_encoders) (0.24.2)\n",
      "Requirement already satisfied: statsmodels>=0.6.1 in /Users/akishimasaki/.pyenv/versions/anaconda3-2019.03/lib/python3.7/site-packages (from category_encoders) (0.9.0)\n",
      "Requirement already satisfied: scikit-learn>=0.20.0 in /Users/akishimasaki/.pyenv/versions/anaconda3-2019.03/lib/python3.7/site-packages (from category_encoders) (0.20.3)\n",
      "Requirement already satisfied: patsy>=0.4.1 in /Users/akishimasaki/.pyenv/versions/anaconda3-2019.03/lib/python3.7/site-packages (from category_encoders) (0.5.1)\n",
      "Requirement already satisfied: numpy>=1.11.3 in /Users/akishimasaki/.pyenv/versions/anaconda3-2019.03/lib/python3.7/site-packages (from category_encoders) (1.16.2)\n",
      "Requirement already satisfied: scipy>=0.19.0 in /Users/akishimasaki/.pyenv/versions/anaconda3-2019.03/lib/python3.7/site-packages (from category_encoders) (1.2.1)\n",
      "Requirement already satisfied: pytz>=2011k in /Users/akishimasaki/.pyenv/versions/anaconda3-2019.03/lib/python3.7/site-packages (from pandas>=0.21.1->category_encoders) (2018.9)\n",
      "Requirement already satisfied: python-dateutil>=2.5.0 in /Users/akishimasaki/.pyenv/versions/anaconda3-2019.03/lib/python3.7/site-packages (from pandas>=0.21.1->category_encoders) (2.8.0)\n",
      "Requirement already satisfied: six in /Users/akishimasaki/.pyenv/versions/anaconda3-2019.03/lib/python3.7/site-packages (from patsy>=0.4.1->category_encoders) (1.12.0)\n",
      "Note: you may need to restart the kernel to use updated packages.\n"
     ]
    }
   ],
   "source": [
    "pip install category_encoders"
   ]
  },
  {
   "cell_type": "code",
   "execution_count": 3,
   "metadata": {},
   "outputs": [],
   "source": [
    "#ダミー変数化\n",
    "import category_encoders as ce\n",
    "\n",
    "#エンコードしたい列を指定　# Eoncodeしたい列をリストで指定。もちろん複数指定可能。\n",
    "#全て\n",
    "list_cols = ['NAME_CONTRACT_TYPE','CODE_GENDER','FLAG_OWN_CAR','FLAG_OWN_REALTY','CNT_CHILDREN'\n",
    "            ,'NAME_FAMILY_STATUS','NAME_HOUSING_TYPE','NAME_TYPE_SUITE','NAME_INCOME_TYPE'\n",
    "            ,'NAME_EDUCATION_TYPE','OCCUPATION_TYPE','WEEKDAY_APPR_PROCESS_START','ORGANIZATION_TYPE'\n",
    "            ,'FONDKAPREMONT_MODE','HOUSETYPE_MODE','WALLSMATERIAL_MODE','EMERGENCYSTATE_MODE']\n",
    "# OneHotEncodeしたい列を指定。Nullや不明の場合の補完方法も指定。\n",
    "ce_ohe = ce.OneHotEncoder(cols=list_cols,handle_unknown='impute')\n",
    "# pd.DataFrameをそのまま突っ込む\n",
    "df_gender_onehot = ce_ohe.fit_transform(df)"
   ]
  },
  {
   "cell_type": "code",
   "execution_count": 5,
   "metadata": {},
   "outputs": [
    {
     "data": {
      "text/html": [
       "<div>\n",
       "<style scoped>\n",
       "    .dataframe tbody tr th:only-of-type {\n",
       "        vertical-align: middle;\n",
       "    }\n",
       "\n",
       "    .dataframe tbody tr th {\n",
       "        vertical-align: top;\n",
       "    }\n",
       "\n",
       "    .dataframe thead th {\n",
       "        text-align: right;\n",
       "    }\n",
       "</style>\n",
       "<table border=\"1\" class=\"dataframe\">\n",
       "  <thead>\n",
       "    <tr style=\"text-align: right;\">\n",
       "      <th></th>\n",
       "      <th>SK_ID_CURR</th>\n",
       "      <th>TARGET</th>\n",
       "      <th>NAME_CONTRACT_TYPE_1</th>\n",
       "      <th>NAME_CONTRACT_TYPE_2</th>\n",
       "      <th>CODE_GENDER_1</th>\n",
       "      <th>CODE_GENDER_2</th>\n",
       "      <th>CODE_GENDER_3</th>\n",
       "      <th>FLAG_OWN_CAR_1</th>\n",
       "      <th>FLAG_OWN_CAR_2</th>\n",
       "      <th>FLAG_OWN_REALTY_1</th>\n",
       "      <th>...</th>\n",
       "      <th>FLAG_DOCUMENT_18</th>\n",
       "      <th>FLAG_DOCUMENT_19</th>\n",
       "      <th>FLAG_DOCUMENT_20</th>\n",
       "      <th>FLAG_DOCUMENT_21</th>\n",
       "      <th>AMT_REQ_CREDIT_BUREAU_HOUR</th>\n",
       "      <th>AMT_REQ_CREDIT_BUREAU_DAY</th>\n",
       "      <th>AMT_REQ_CREDIT_BUREAU_WEEK</th>\n",
       "      <th>AMT_REQ_CREDIT_BUREAU_MON</th>\n",
       "      <th>AMT_REQ_CREDIT_BUREAU_QRT</th>\n",
       "      <th>AMT_REQ_CREDIT_BUREAU_YEAR</th>\n",
       "    </tr>\n",
       "  </thead>\n",
       "  <tbody>\n",
       "    <tr>\n",
       "      <th>0</th>\n",
       "      <td>100002</td>\n",
       "      <td>1</td>\n",
       "      <td>1</td>\n",
       "      <td>0</td>\n",
       "      <td>1</td>\n",
       "      <td>0</td>\n",
       "      <td>0</td>\n",
       "      <td>1</td>\n",
       "      <td>0</td>\n",
       "      <td>1</td>\n",
       "      <td>...</td>\n",
       "      <td>0</td>\n",
       "      <td>0</td>\n",
       "      <td>0</td>\n",
       "      <td>0</td>\n",
       "      <td>0.0</td>\n",
       "      <td>0.0</td>\n",
       "      <td>0.0</td>\n",
       "      <td>0.0</td>\n",
       "      <td>0.0</td>\n",
       "      <td>1.0</td>\n",
       "    </tr>\n",
       "    <tr>\n",
       "      <th>1</th>\n",
       "      <td>100003</td>\n",
       "      <td>0</td>\n",
       "      <td>1</td>\n",
       "      <td>0</td>\n",
       "      <td>0</td>\n",
       "      <td>1</td>\n",
       "      <td>0</td>\n",
       "      <td>1</td>\n",
       "      <td>0</td>\n",
       "      <td>0</td>\n",
       "      <td>...</td>\n",
       "      <td>0</td>\n",
       "      <td>0</td>\n",
       "      <td>0</td>\n",
       "      <td>0</td>\n",
       "      <td>0.0</td>\n",
       "      <td>0.0</td>\n",
       "      <td>0.0</td>\n",
       "      <td>0.0</td>\n",
       "      <td>0.0</td>\n",
       "      <td>0.0</td>\n",
       "    </tr>\n",
       "    <tr>\n",
       "      <th>2</th>\n",
       "      <td>100004</td>\n",
       "      <td>0</td>\n",
       "      <td>0</td>\n",
       "      <td>1</td>\n",
       "      <td>1</td>\n",
       "      <td>0</td>\n",
       "      <td>0</td>\n",
       "      <td>0</td>\n",
       "      <td>1</td>\n",
       "      <td>1</td>\n",
       "      <td>...</td>\n",
       "      <td>0</td>\n",
       "      <td>0</td>\n",
       "      <td>0</td>\n",
       "      <td>0</td>\n",
       "      <td>0.0</td>\n",
       "      <td>0.0</td>\n",
       "      <td>0.0</td>\n",
       "      <td>0.0</td>\n",
       "      <td>0.0</td>\n",
       "      <td>0.0</td>\n",
       "    </tr>\n",
       "    <tr>\n",
       "      <th>3</th>\n",
       "      <td>100006</td>\n",
       "      <td>0</td>\n",
       "      <td>1</td>\n",
       "      <td>0</td>\n",
       "      <td>0</td>\n",
       "      <td>1</td>\n",
       "      <td>0</td>\n",
       "      <td>1</td>\n",
       "      <td>0</td>\n",
       "      <td>1</td>\n",
       "      <td>...</td>\n",
       "      <td>0</td>\n",
       "      <td>0</td>\n",
       "      <td>0</td>\n",
       "      <td>0</td>\n",
       "      <td>NaN</td>\n",
       "      <td>NaN</td>\n",
       "      <td>NaN</td>\n",
       "      <td>NaN</td>\n",
       "      <td>NaN</td>\n",
       "      <td>NaN</td>\n",
       "    </tr>\n",
       "    <tr>\n",
       "      <th>4</th>\n",
       "      <td>100007</td>\n",
       "      <td>0</td>\n",
       "      <td>1</td>\n",
       "      <td>0</td>\n",
       "      <td>1</td>\n",
       "      <td>0</td>\n",
       "      <td>0</td>\n",
       "      <td>1</td>\n",
       "      <td>0</td>\n",
       "      <td>1</td>\n",
       "      <td>...</td>\n",
       "      <td>0</td>\n",
       "      <td>0</td>\n",
       "      <td>0</td>\n",
       "      <td>0</td>\n",
       "      <td>0.0</td>\n",
       "      <td>0.0</td>\n",
       "      <td>0.0</td>\n",
       "      <td>0.0</td>\n",
       "      <td>0.0</td>\n",
       "      <td>0.0</td>\n",
       "    </tr>\n",
       "  </tbody>\n",
       "</table>\n",
       "<p>5 rows × 266 columns</p>\n",
       "</div>"
      ],
      "text/plain": [
       "   SK_ID_CURR  TARGET  NAME_CONTRACT_TYPE_1  NAME_CONTRACT_TYPE_2  \\\n",
       "0      100002       1                     1                     0   \n",
       "1      100003       0                     1                     0   \n",
       "2      100004       0                     0                     1   \n",
       "3      100006       0                     1                     0   \n",
       "4      100007       0                     1                     0   \n",
       "\n",
       "   CODE_GENDER_1  CODE_GENDER_2  CODE_GENDER_3  FLAG_OWN_CAR_1  \\\n",
       "0              1              0              0               1   \n",
       "1              0              1              0               1   \n",
       "2              1              0              0               0   \n",
       "3              0              1              0               1   \n",
       "4              1              0              0               1   \n",
       "\n",
       "   FLAG_OWN_CAR_2  FLAG_OWN_REALTY_1  ...  FLAG_DOCUMENT_18  FLAG_DOCUMENT_19  \\\n",
       "0               0                  1  ...                 0                 0   \n",
       "1               0                  0  ...                 0                 0   \n",
       "2               1                  1  ...                 0                 0   \n",
       "3               0                  1  ...                 0                 0   \n",
       "4               0                  1  ...                 0                 0   \n",
       "\n",
       "   FLAG_DOCUMENT_20  FLAG_DOCUMENT_21  AMT_REQ_CREDIT_BUREAU_HOUR  \\\n",
       "0                 0                 0                         0.0   \n",
       "1                 0                 0                         0.0   \n",
       "2                 0                 0                         0.0   \n",
       "3                 0                 0                         NaN   \n",
       "4                 0                 0                         0.0   \n",
       "\n",
       "   AMT_REQ_CREDIT_BUREAU_DAY  AMT_REQ_CREDIT_BUREAU_WEEK  \\\n",
       "0                        0.0                         0.0   \n",
       "1                        0.0                         0.0   \n",
       "2                        0.0                         0.0   \n",
       "3                        NaN                         NaN   \n",
       "4                        0.0                         0.0   \n",
       "\n",
       "   AMT_REQ_CREDIT_BUREAU_MON  AMT_REQ_CREDIT_BUREAU_QRT  \\\n",
       "0                        0.0                        0.0   \n",
       "1                        0.0                        0.0   \n",
       "2                        0.0                        0.0   \n",
       "3                        NaN                        NaN   \n",
       "4                        0.0                        0.0   \n",
       "\n",
       "   AMT_REQ_CREDIT_BUREAU_YEAR  \n",
       "0                         1.0  \n",
       "1                         0.0  \n",
       "2                         0.0  \n",
       "3                         NaN  \n",
       "4                         0.0  \n",
       "\n",
       "[5 rows x 266 columns]"
      ]
     },
     "metadata": {},
     "output_type": "display_data"
    }
   ],
   "source": [
    "display(df_gender_onehot.head())"
   ]
  },
  {
   "cell_type": "code",
   "execution_count": 7,
   "metadata": {},
   "outputs": [
    {
     "data": {
      "text/plain": [
       "<matplotlib.axes._subplots.AxesSubplot at 0x11013ac18>"
      ]
     },
     "execution_count": 7,
     "metadata": {},
     "output_type": "execute_result"
    },
    {
     "data": {
      "image/png": "[encoded data removed]",
      "text/plain": [
       "<Figure size 1800x720 with 2 Axes>"
      ]
     },
     "metadata": {
      "needs_background": "light"
     },
     "output_type": "display_data"
    }
   ],
   "source": [
    "#msno.matrix(df_gender_onehot)"
   ]
  },
  {
   "cell_type": "code",
   "execution_count": 6,
   "metadata": {},
   "outputs": [
    {
     "name": "stdout",
     "output_type": "stream",
     "text": [
      "SK_ID_CURR:0\n",
      "TARGET:0\n",
      "NAME_CONTRACT_TYPE_1:0\n",
      "NAME_CONTRACT_TYPE_2:0\n",
      "CODE_GENDER_1:0\n",
      "CODE_GENDER_2:0\n",
      "CODE_GENDER_3:0\n",
      "FLAG_OWN_CAR_1:0\n",
      "FLAG_OWN_CAR_2:0\n",
      "FLAG_OWN_REALTY_1:0\n",
      "FLAG_OWN_REALTY_2:0\n",
      "CNT_CHILDREN_1:0\n",
      "CNT_CHILDREN_2:0\n",
      "CNT_CHILDREN_3:0\n",
      "CNT_CHILDREN_4:0\n",
      "CNT_CHILDREN_5:0\n",
      "CNT_CHILDREN_6:0\n",
      "CNT_CHILDREN_7:0\n",
      "CNT_CHILDREN_8:0\n",
      "CNT_CHILDREN_9:0\n",
      "CNT_CHILDREN_10:0\n",
      "CNT_CHILDREN_11:0\n",
      "CNT_CHILDREN_12:0\n",
      "CNT_CHILDREN_13:0\n",
      "CNT_CHILDREN_14:0\n",
      "CNT_CHILDREN_15:0\n",
      "AMT_INCOME_TOTAL:0\n",
      "AMT_CREDIT:0\n",
      "AMT_ANNUITY:12\n",
      "AMT_GOODS_PRICE:278\n",
      "NAME_TYPE_SUITE_1:0\n",
      "NAME_TYPE_SUITE_2:0\n",
      "NAME_TYPE_SUITE_3:0\n",
      "NAME_TYPE_SUITE_4:0\n",
      "NAME_TYPE_SUITE_5:0\n",
      "NAME_TYPE_SUITE_6:0\n",
      "NAME_TYPE_SUITE_7:0\n",
      "NAME_TYPE_SUITE_8:0\n",
      "NAME_INCOME_TYPE_1:0\n",
      "NAME_INCOME_TYPE_2:0\n",
      "NAME_INCOME_TYPE_3:0\n",
      "NAME_INCOME_TYPE_4:0\n",
      "NAME_INCOME_TYPE_5:0\n",
      "NAME_INCOME_TYPE_6:0\n",
      "NAME_INCOME_TYPE_7:0\n",
      "NAME_INCOME_TYPE_8:0\n",
      "NAME_EDUCATION_TYPE_1:0\n",
      "NAME_EDUCATION_TYPE_2:0\n",
      "NAME_EDUCATION_TYPE_3:0\n",
      "NAME_EDUCATION_TYPE_4:0\n",
      "NAME_EDUCATION_TYPE_5:0\n",
      "NAME_FAMILY_STATUS_1:0\n",
      "NAME_FAMILY_STATUS_2:0\n",
      "NAME_FAMILY_STATUS_3:0\n",
      "NAME_FAMILY_STATUS_4:0\n",
      "NAME_FAMILY_STATUS_5:0\n",
      "NAME_FAMILY_STATUS_6:0\n",
      "NAME_HOUSING_TYPE_1:0\n",
      "NAME_HOUSING_TYPE_2:0\n",
      "NAME_HOUSING_TYPE_3:0\n",
      "NAME_HOUSING_TYPE_4:0\n",
      "NAME_HOUSING_TYPE_5:0\n",
      "NAME_HOUSING_TYPE_6:0\n",
      "REGION_POPULATION_RELATIVE:0\n",
      "DAYS_BIRTH:0\n",
      "DAYS_EMPLOYED:0\n",
      "DAYS_REGISTRATION:0\n",
      "DAYS_ID_PUBLISH:0\n",
      "OWN_CAR_AGE:202929\n",
      "FLAG_MOBIL:0\n",
      "FLAG_EMP_PHONE:0\n",
      "FLAG_WORK_PHONE:0\n",
      "FLAG_CONT_MOBILE:0\n",
      "FLAG_PHONE:0\n",
      "FLAG_EMAIL:0\n",
      "OCCUPATION_TYPE_1:0\n",
      "OCCUPATION_TYPE_2:0\n",
      "OCCUPATION_TYPE_3:0\n",
      "OCCUPATION_TYPE_4:0\n",
      "OCCUPATION_TYPE_5:0\n",
      "OCCUPATION_TYPE_6:0\n",
      "OCCUPATION_TYPE_7:0\n",
      "OCCUPATION_TYPE_8:0\n",
      "OCCUPATION_TYPE_9:0\n",
      "OCCUPATION_TYPE_10:0\n",
      "OCCUPATION_TYPE_11:0\n",
      "OCCUPATION_TYPE_12:0\n",
      "OCCUPATION_TYPE_13:0\n",
      "OCCUPATION_TYPE_14:0\n",
      "OCCUPATION_TYPE_15:0\n",
      "OCCUPATION_TYPE_16:0\n",
      "OCCUPATION_TYPE_17:0\n",
      "OCCUPATION_TYPE_18:0\n",
      "OCCUPATION_TYPE_19:0\n",
      "CNT_FAM_MEMBERS:2\n",
      "REGION_RATING_CLIENT:0\n",
      "REGION_RATING_CLIENT_W_CITY:0\n",
      "WEEKDAY_APPR_PROCESS_START_1:0\n",
      "WEEKDAY_APPR_PROCESS_START_2:0\n",
      "WEEKDAY_APPR_PROCESS_START_3:0\n",
      "WEEKDAY_APPR_PROCESS_START_4:0\n",
      "WEEKDAY_APPR_PROCESS_START_5:0\n",
      "WEEKDAY_APPR_PROCESS_START_6:0\n",
      "WEEKDAY_APPR_PROCESS_START_7:0\n",
      "HOUR_APPR_PROCESS_START:0\n",
      "REG_REGION_NOT_LIVE_REGION:0\n",
      "REG_REGION_NOT_WORK_REGION:0\n",
      "LIVE_REGION_NOT_WORK_REGION:0\n",
      "REG_CITY_NOT_LIVE_CITY:0\n",
      "REG_CITY_NOT_WORK_CITY:0\n",
      "LIVE_CITY_NOT_WORK_CITY:0\n",
      "ORGANIZATION_TYPE_1:0\n",
      "ORGANIZATION_TYPE_2:0\n",
      "ORGANIZATION_TYPE_3:0\n",
      "ORGANIZATION_TYPE_4:0\n",
      "ORGANIZATION_TYPE_5:0\n",
      "ORGANIZATION_TYPE_6:0\n",
      "ORGANIZATION_TYPE_7:0\n",
      "ORGANIZATION_TYPE_8:0\n",
      "ORGANIZATION_TYPE_9:0\n",
      "ORGANIZATION_TYPE_10:0\n",
      "ORGANIZATION_TYPE_11:0\n",
      "ORGANIZATION_TYPE_12:0\n",
      "ORGANIZATION_TYPE_13:0\n",
      "ORGANIZATION_TYPE_14:0\n",
      "ORGANIZATION_TYPE_15:0\n",
      "ORGANIZATION_TYPE_16:0\n",
      "ORGANIZATION_TYPE_17:0\n",
      "ORGANIZATION_TYPE_18:0\n",
      "ORGANIZATION_TYPE_19:0\n",
      "ORGANIZATION_TYPE_20:0\n",
      "ORGANIZATION_TYPE_21:0\n",
      "ORGANIZATION_TYPE_22:0\n",
      "ORGANIZATION_TYPE_23:0\n",
      "ORGANIZATION_TYPE_24:0\n",
      "ORGANIZATION_TYPE_25:0\n",
      "ORGANIZATION_TYPE_26:0\n",
      "ORGANIZATION_TYPE_27:0\n",
      "ORGANIZATION_TYPE_28:0\n",
      "ORGANIZATION_TYPE_29:0\n",
      "ORGANIZATION_TYPE_30:0\n",
      "ORGANIZATION_TYPE_31:0\n",
      "ORGANIZATION_TYPE_32:0\n",
      "ORGANIZATION_TYPE_33:0\n",
      "ORGANIZATION_TYPE_34:0\n",
      "ORGANIZATION_TYPE_35:0\n",
      "ORGANIZATION_TYPE_36:0\n",
      "ORGANIZATION_TYPE_37:0\n",
      "ORGANIZATION_TYPE_38:0\n",
      "ORGANIZATION_TYPE_39:0\n",
      "ORGANIZATION_TYPE_40:0\n",
      "ORGANIZATION_TYPE_41:0\n",
      "ORGANIZATION_TYPE_42:0\n",
      "ORGANIZATION_TYPE_43:0\n",
      "ORGANIZATION_TYPE_44:0\n",
      "ORGANIZATION_TYPE_45:0\n",
      "ORGANIZATION_TYPE_46:0\n",
      "ORGANIZATION_TYPE_47:0\n",
      "ORGANIZATION_TYPE_48:0\n",
      "ORGANIZATION_TYPE_49:0\n",
      "ORGANIZATION_TYPE_50:0\n",
      "ORGANIZATION_TYPE_51:0\n",
      "ORGANIZATION_TYPE_52:0\n",
      "ORGANIZATION_TYPE_53:0\n",
      "ORGANIZATION_TYPE_54:0\n",
      "ORGANIZATION_TYPE_55:0\n",
      "ORGANIZATION_TYPE_56:0\n",
      "ORGANIZATION_TYPE_57:0\n",
      "ORGANIZATION_TYPE_58:0\n",
      "EXT_SOURCE_1:173378\n",
      "EXT_SOURCE_2:660\n",
      "EXT_SOURCE_3:60965\n",
      "APARTMENTS_AVG:156061\n",
      "BASEMENTAREA_AVG:179943\n",
      "YEARS_BEGINEXPLUATATION_AVG:150007\n",
      "YEARS_BUILD_AVG:204488\n",
      "COMMONAREA_AVG:214865\n",
      "ELEVATORS_AVG:163891\n",
      "ENTRANCES_AVG:154828\n",
      "FLOORSMAX_AVG:153020\n",
      "FLOORSMIN_AVG:208642\n",
      "LANDAREA_AVG:182590\n",
      "LIVINGAPARTMENTS_AVG:210199\n",
      "LIVINGAREA_AVG:154350\n",
      "NONLIVINGAPARTMENTS_AVG:213514\n",
      "NONLIVINGAREA_AVG:169682\n",
      "APARTMENTS_MODE:156061\n",
      "BASEMENTAREA_MODE:179943\n",
      "YEARS_BEGINEXPLUATATION_MODE:150007\n",
      "YEARS_BUILD_MODE:204488\n",
      "COMMONAREA_MODE:214865\n",
      "ELEVATORS_MODE:163891\n",
      "ENTRANCES_MODE:154828\n",
      "FLOORSMAX_MODE:153020\n",
      "FLOORSMIN_MODE:208642\n",
      "LANDAREA_MODE:182590\n",
      "LIVINGAPARTMENTS_MODE:210199\n",
      "LIVINGAREA_MODE:154350\n",
      "NONLIVINGAPARTMENTS_MODE:213514\n",
      "NONLIVINGAREA_MODE:169682\n",
      "APARTMENTS_MEDI:156061\n",
      "BASEMENTAREA_MEDI:179943\n",
      "YEARS_BEGINEXPLUATATION_MEDI:150007\n",
      "YEARS_BUILD_MEDI:204488\n",
      "COMMONAREA_MEDI:214865\n",
      "ELEVATORS_MEDI:163891\n",
      "ENTRANCES_MEDI:154828\n",
      "FLOORSMAX_MEDI:153020\n",
      "FLOORSMIN_MEDI:208642\n",
      "LANDAREA_MEDI:182590\n",
      "LIVINGAPARTMENTS_MEDI:210199\n",
      "LIVINGAREA_MEDI:154350\n",
      "NONLIVINGAPARTMENTS_MEDI:213514\n",
      "NONLIVINGAREA_MEDI:169682\n",
      "FONDKAPREMONT_MODE_1:0\n",
      "FONDKAPREMONT_MODE_2:0\n",
      "FONDKAPREMONT_MODE_3:0\n",
      "FONDKAPREMONT_MODE_4:0\n",
      "FONDKAPREMONT_MODE_5:0\n",
      "HOUSETYPE_MODE_1:0\n",
      "HOUSETYPE_MODE_2:0\n",
      "HOUSETYPE_MODE_3:0\n",
      "HOUSETYPE_MODE_4:0\n",
      "TOTALAREA_MODE:148431\n",
      "WALLSMATERIAL_MODE_1:0\n",
      "WALLSMATERIAL_MODE_2:0\n",
      "WALLSMATERIAL_MODE_3:0\n",
      "WALLSMATERIAL_MODE_4:0\n",
      "WALLSMATERIAL_MODE_5:0\n",
      "WALLSMATERIAL_MODE_6:0\n",
      "WALLSMATERIAL_MODE_7:0\n",
      "WALLSMATERIAL_MODE_8:0\n",
      "EMERGENCYSTATE_MODE_1:0\n",
      "EMERGENCYSTATE_MODE_2:0\n",
      "EMERGENCYSTATE_MODE_3:0\n",
      "OBS_30_CNT_SOCIAL_CIRCLE:1021\n",
      "DEF_30_CNT_SOCIAL_CIRCLE:1021\n",
      "OBS_60_CNT_SOCIAL_CIRCLE:1021\n",
      "DEF_60_CNT_SOCIAL_CIRCLE:1021\n",
      "DAYS_LAST_PHONE_CHANGE:1\n",
      "FLAG_DOCUMENT_2:0\n",
      "FLAG_DOCUMENT_3:0\n",
      "FLAG_DOCUMENT_4:0\n",
      "FLAG_DOCUMENT_5:0\n",
      "FLAG_DOCUMENT_6:0\n",
      "FLAG_DOCUMENT_7:0\n",
      "FLAG_DOCUMENT_8:0\n",
      "FLAG_DOCUMENT_9:0\n",
      "FLAG_DOCUMENT_10:0\n",
      "FLAG_DOCUMENT_11:0\n",
      "FLAG_DOCUMENT_12:0\n",
      "FLAG_DOCUMENT_13:0\n",
      "FLAG_DOCUMENT_14:0\n",
      "FLAG_DOCUMENT_15:0\n",
      "FLAG_DOCUMENT_16:0\n",
      "FLAG_DOCUMENT_17:0\n",
      "FLAG_DOCUMENT_18:0\n",
      "FLAG_DOCUMENT_19:0\n",
      "FLAG_DOCUMENT_20:0\n",
      "FLAG_DOCUMENT_21:0\n",
      "AMT_REQ_CREDIT_BUREAU_HOUR:41519\n",
      "AMT_REQ_CREDIT_BUREAU_DAY:41519\n",
      "AMT_REQ_CREDIT_BUREAU_WEEK:41519\n",
      "AMT_REQ_CREDIT_BUREAU_MON:41519\n",
      "AMT_REQ_CREDIT_BUREAU_QRT:41519\n",
      "AMT_REQ_CREDIT_BUREAU_YEAR:41519\n"
     ]
    }
   ],
   "source": [
    "#欠損確認\n",
    "for i in df_gender_onehot.columns:\n",
    "    print(i, df_gender_onehot[i].isnull().sum(), sep = \":\")\n",
    "#display(df['OCCUPATION_TYPE'])"
   ]
  },
  {
   "cell_type": "code",
   "execution_count": 7,
   "metadata": {},
   "outputs": [],
   "source": [
    "df_sus_EXT = df_gender_onehot.loc[:,'EXT_SOURCE_1':'NONLIVINGAREA_MEDI']"
   ]
  },
  {
   "cell_type": "code",
   "execution_count": 8,
   "metadata": {},
   "outputs": [
    {
     "data": {
      "text/plain": [
       "<matplotlib.axes._subplots.AxesSubplot at 0x1a1e267588>"
      ]
     },
     "execution_count": 8,
     "metadata": {},
     "output_type": "execute_result"
    },
    {
     "data": {
      "image/png": "[encoded data removed]",
      "text/plain": [
       "<Figure size 864x648 with 2 Axes>"
      ]
     },
     "metadata": {
      "needs_background": "light"
     },
     "output_type": "display_data"
    }
   ],
   "source": [
    "corr_sus_EXT = df_sus_EXT.corr()\n",
    "plt.subplots(figsize=(12,9))\n",
    "sns.heatmap(corr_sus_EXT, vmax=0.9, square = True)"
   ]
  },
  {
   "cell_type": "code",
   "execution_count": 9,
   "metadata": {},
   "outputs": [
    {
     "data": {
      "text/plain": [
       "<matplotlib.axes._subplots.AxesSubplot at 0x1a1d3bc6a0>"
      ]
     },
     "execution_count": 9,
     "metadata": {},
     "output_type": "execute_result"
    },
    {
     "data": {
      "image/png": "[encoded data removed]",
      "text/plain": [
       "<Figure size 864x648 with 2 Axes>"
      ]
     },
     "metadata": {
      "needs_background": "light"
     },
     "output_type": "display_data"
    }
   ],
   "source": [
    "#見にくいので、一区画のみにする\n",
    "df_sus_EXT2 = df_gender_onehot.loc[:,'EXT_SOURCE_1':'NONLIVINGAREA_AVG']\n",
    "corr_sus_EXT2 = df_sus_EXT2.corr()\n",
    "plt.subplots(figsize=(12,9))\n",
    "sns.heatmap(corr_sus_EXT2, vmax=0.9, square = True, annot= True)"
   ]
  },
  {
   "cell_type": "code",
   "execution_count": 4,
   "metadata": {},
   "outputs": [],
   "source": [
    "#欠損を全部０で埋める\n",
    "df_gender_onehot_0 = df_gender_onehot.fillna(0)\n",
    "#display(df_gender_onehot_0)"
   ]
  },
  {
   "cell_type": "code",
   "execution_count": 5,
   "metadata": {},
   "outputs": [],
   "source": [
    "#平均で埋める\n",
    "#from sklearn.preprocessing import Imputer\n",
    "#imr = Imputer(missing_values='NaN',strategy='mean', axis = 0)\n",
    "#df_gender_onehot_mean = imr.fit_transform(df_gender_onehot)\n",
    "df_gender_onehot_mean = df_gender_onehot.fillna(df_gender_onehot.mean())\n",
    "#display(df_gender_onehot_mean)"
   ]
  },
  {
   "cell_type": "code",
   "execution_count": 6,
   "metadata": {},
   "outputs": [],
   "source": [
    "#線形補間で埋める?\n",
    "#とりあえず最頻値、中央値で埋める\n",
    "df_gender_onehot_med = df_gender_onehot.fillna(df_gender_onehot.median())\n",
    "df_gender_onehot_mode = df_gender_onehot.fillna(df_gender_onehot.mode())"
   ]
  },
  {
   "cell_type": "code",
   "execution_count": 12,
   "metadata": {},
   "outputs": [],
   "source": [
    "#データを結合 -> 処理大きすぎてカーネルが止まるので断念\n",
    "#df_mix_1 = pd.merge(df_gender_onehot_0, df_gender_onehot_mean,on=\"TARGET\", how = \"outer\")\n",
    "\n",
    "#df_gender_onehot_med, df_gender_onehot_mode\n",
    "#print(df_mix.shape)"
   ]
  },
  {
   "cell_type": "code",
   "execution_count": 35,
   "metadata": {},
   "outputs": [],
   "source": [
    "#ターゲットを分ける\n",
    "#pd.set_option('display.max_columns',1000)\n",
    "#display(df_mix.head(2)['WALLSMATERIAL_MODE_5'])\n",
    "from sklearn.model_selection import train_test_split\n",
    "\n",
    "X = df_gender_onehot_0.drop(\"TARGET\", axis = 1)\n",
    "y = df_gender_onehot_0.loc[:,'TARGET']\n",
    "X_0_train, X_0_test, y_0_train, y_0_test = train_test_split(X, y, test_size=0.25, shuffle= 'True',stratify=df_gender_onehot_0[\"TARGET\"])\n",
    "\n"
   ]
  },
  {
   "cell_type": "code",
   "execution_count": 36,
   "metadata": {},
   "outputs": [
    {
     "data": {
      "text/plain": [
       "(230633, 265)"
      ]
     },
     "metadata": {},
     "output_type": "display_data"
    }
   ],
   "source": [
    "display(X_0_train.shape)"
   ]
  },
  {
   "cell_type": "code",
   "execution_count": 24,
   "metadata": {},
   "outputs": [],
   "source": [
    "#print(y_0_test)"
   ]
  },
  {
   "cell_type": "code",
   "execution_count": 14,
   "metadata": {},
   "outputs": [
    {
     "name": "stdout",
     "output_type": "stream",
     "text": [
      "StandardScaler(copy=True, with_mean=True, with_std=True)\n"
     ]
    }
   ],
   "source": [
    "#標準化（必要？)\n",
    "from sklearn.preprocessing import StandardScaler\n",
    "scaler = StandardScaler()\n",
    "print(scaler.fit(X_0_train))"
   ]
  },
  {
   "cell_type": "code",
   "execution_count": 15,
   "metadata": {},
   "outputs": [],
   "source": [
    "X_0_trains = scaler.transform(X_0_train)\n",
    "X_0_tests = scaler.transform(X_0_test)"
   ]
  },
  {
   "cell_type": "code",
   "execution_count": 13,
   "metadata": {},
   "outputs": [],
   "source": [
    "#ランダムフォレスト \n",
    "from sklearn.ensemble import RandomForestClassifier\n",
    "\n",
    "rf = RandomForestClassifier(n_estimators=100, max_depth = 2, random_state = 0)\n"
   ]
  },
  {
   "cell_type": "code",
   "execution_count": 37,
   "metadata": {},
   "outputs": [
    {
     "data": {
      "text/plain": [
       "RandomForestClassifier(bootstrap=True, class_weight=None, criterion='gini',\n",
       "                       max_depth=2, max_features='auto', max_leaf_nodes=None,\n",
       "                       min_impurity_decrease=0.0, min_impurity_split=None,\n",
       "                       min_samples_leaf=1, min_samples_split=2,\n",
       "                       min_weight_fraction_leaf=0.0, n_estimators=100,\n",
       "                       n_jobs=None, oob_score=False, random_state=0, verbose=0,\n",
       "                       warm_start=False)"
      ]
     },
     "execution_count": 37,
     "metadata": {},
     "output_type": "execute_result"
    }
   ],
   "source": [
    "#標準化なしで学習\n",
    "rf.fit(X_0_train, y_0_train)"
   ]
  },
  {
   "cell_type": "code",
   "execution_count": 18,
   "metadata": {},
   "outputs": [],
   "source": [
    "#print(rf.feature_importances_)\n",
    "X_0_fi = rf.feature_importances_\n",
    "#予測\n",
    "y_0_pred = rf.predict(X_0_test)"
   ]
  },
  {
   "cell_type": "code",
   "execution_count": 19,
   "metadata": {},
   "outputs": [],
   "source": [
    "y_0_pred_proba = rf.predict_proba(X_0_test)"
   ]
  },
  {
   "cell_type": "code",
   "execution_count": 20,
   "metadata": {},
   "outputs": [
    {
     "data": {
      "text/plain": [
       "array([[0.92149488, 0.07850512],\n",
       "       [0.91897049, 0.08102951],\n",
       "       [0.92567902, 0.07432098],\n",
       "       ...,\n",
       "       [0.90873729, 0.09126271],\n",
       "       [0.89994759, 0.10005241],\n",
       "       [0.92120702, 0.07879298]])"
      ]
     },
     "metadata": {},
     "output_type": "display_data"
    }
   ],
   "source": [
    "display(y_0_pred_proba)"
   ]
  },
  {
   "cell_type": "code",
   "execution_count": 21,
   "metadata": {},
   "outputs": [
    {
     "name": "stdout",
     "output_type": "stream",
     "text": [
      "[0.92149488 0.91897049 0.92567902 ... 0.90873729 0.89994759 0.92120702]\n"
     ]
    }
   ],
   "source": [
    "print(y_0_pred_proba[:,0])"
   ]
  },
  {
   "cell_type": "code",
   "execution_count": 22,
   "metadata": {},
   "outputs": [
    {
     "name": "stdout",
     "output_type": "stream",
     "text": [
      "0.9192746949712531\n",
      "[[70672     0]\n",
      " [ 6206     0]]\n"
     ]
    }
   ],
   "source": [
    "from sklearn.metrics import accuracy_score\n",
    "print(accuracy_score(y_0_test,y_0_pred))\n",
    "\n",
    "#from sklearn.metrics import precision_score\n",
    "#from sklearn.metrics import recall_score\n",
    "#from sklearn.metrics import f1_score\n",
    "\n",
    "from sklearn.metrics import confusion_matrix\n",
    "print(confusion_matrix(y_0_test,y_0_pred))"
   ]
  },
  {
   "cell_type": "code",
   "execution_count": 23,
   "metadata": {},
   "outputs": [
    {
     "data": {
      "text/plain": [
       "0.7059841241589146"
      ]
     },
     "execution_count": 23,
     "metadata": {},
     "output_type": "execute_result"
    }
   ],
   "source": [
    "from sklearn.metrics import roc_auc_score\n",
    "roc_auc_score(y_0_test, y_0_pred_proba[:,1])"
   ]
  },
  {
   "cell_type": "code",
   "execution_count": 24,
   "metadata": {},
   "outputs": [
    {
     "data": {
      "image/png": "[encoded data removed]",
      "text/plain": [
       "<Figure size 432x288 with 1 Axes>"
      ]
     },
     "metadata": {
      "needs_background": "light"
     },
     "output_type": "display_data"
    }
   ],
   "source": [
    "#ROC曲線\n",
    "from sklearn.metrics import roc_curve\n",
    "#y_0_score = rf.score(X_0_test, y_0_test,sample_weight=None)\n",
    "\n",
    "fpr, tpr, thresholds = roc_curve(y_0_test, y_0_pred_proba[:,1])\n",
    "\n",
    "plt.plot(fpr, tpr, marker='o')\n",
    "plt.xlabel('FPR: False positive rate')\n",
    "plt.ylabel('TPR: True positive rate')\n",
    "plt.grid()"
   ]
  },
  {
   "cell_type": "code",
   "execution_count": 21,
   "metadata": {},
   "outputs": [],
   "source": [
    "from sklearn.metrics import roc_auc_score"
   ]
  },
  {
   "cell_type": "code",
   "execution_count": 26,
   "metadata": {},
   "outputs": [
    {
     "data": {
      "text/plain": [
       "0.5"
      ]
     },
     "execution_count": 26,
     "metadata": {},
     "output_type": "execute_result"
    }
   ],
   "source": [
    "roc_auc_score(y_0_test, y_0_pred)"
   ]
  },
  {
   "cell_type": "code",
   "execution_count": 27,
   "metadata": {},
   "outputs": [
    {
     "name": "stdout",
     "output_type": "stream",
     "text": [
      "(265,)\n",
      "(265,)\n"
     ]
    },
    {
     "data": {
      "image/png": "[encoded data removed]",
      "text/plain": [
       "<Figure size 432x288 with 1 Axes>"
      ]
     },
     "metadata": {
      "needs_background": "light"
     },
     "output_type": "display_data"
    }
   ],
   "source": [
    "print(X_0_train.columns.shape)\n",
    "print(X_0_fi.shape)\n",
    "#X_0_fi_data = pd.DataFrame(X_0_fi, columns = [X_0_train.columns])\n",
    "plt.bar(X_0_train.columns, X_0_fi)\n",
    "plt.show()"
   ]
  },
  {
   "cell_type": "code",
   "execution_count": 30,
   "metadata": {},
   "outputs": [
    {
     "data": {
      "text/html": [
       "<div>\n",
       "<style scoped>\n",
       "    .dataframe tbody tr th:only-of-type {\n",
       "        vertical-align: middle;\n",
       "    }\n",
       "\n",
       "    .dataframe tbody tr th {\n",
       "        vertical-align: top;\n",
       "    }\n",
       "\n",
       "    .dataframe thead th {\n",
       "        text-align: right;\n",
       "    }\n",
       "</style>\n",
       "<table border=\"1\" class=\"dataframe\">\n",
       "  <thead>\n",
       "    <tr style=\"text-align: right;\">\n",
       "      <th></th>\n",
       "      <th>0</th>\n",
       "      <th>1</th>\n",
       "      <th>2</th>\n",
       "      <th>3</th>\n",
       "      <th>4</th>\n",
       "      <th>5</th>\n",
       "      <th>6</th>\n",
       "      <th>7</th>\n",
       "      <th>8</th>\n",
       "      <th>9</th>\n",
       "      <th>...</th>\n",
       "      <th>255</th>\n",
       "      <th>256</th>\n",
       "      <th>257</th>\n",
       "      <th>258</th>\n",
       "      <th>259</th>\n",
       "      <th>260</th>\n",
       "      <th>261</th>\n",
       "      <th>262</th>\n",
       "      <th>263</th>\n",
       "      <th>264</th>\n",
       "    </tr>\n",
       "  </thead>\n",
       "  <tbody>\n",
       "    <tr>\n",
       "      <th>0</th>\n",
       "      <td>0</td>\n",
       "      <td>0</td>\n",
       "      <td>0</td>\n",
       "      <td>0</td>\n",
       "      <td>0</td>\n",
       "      <td>0</td>\n",
       "      <td>0</td>\n",
       "      <td>0</td>\n",
       "      <td>0</td>\n",
       "      <td>0</td>\n",
       "      <td>...</td>\n",
       "      <td>0.0302636</td>\n",
       "      <td>0.0311746</td>\n",
       "      <td>0.0331633</td>\n",
       "      <td>0.0382258</td>\n",
       "      <td>0.0400607</td>\n",
       "      <td>0.0483386</td>\n",
       "      <td>0.0564974</td>\n",
       "      <td>0.0677315</td>\n",
       "      <td>0.124588</td>\n",
       "      <td>0.127927</td>\n",
       "    </tr>\n",
       "    <tr>\n",
       "      <th>1</th>\n",
       "      <td>AMT_ANNUITY</td>\n",
       "      <td>AMT_CREDIT</td>\n",
       "      <td>AMT_GOODS_PRICE</td>\n",
       "      <td>AMT_INCOME_TOTAL</td>\n",
       "      <td>AMT_REQ_CREDIT_BUREAU_DAY</td>\n",
       "      <td>AMT_REQ_CREDIT_BUREAU_HOUR</td>\n",
       "      <td>AMT_REQ_CREDIT_BUREAU_MON</td>\n",
       "      <td>AMT_REQ_CREDIT_BUREAU_QRT</td>\n",
       "      <td>AMT_REQ_CREDIT_BUREAU_WEEK</td>\n",
       "      <td>AMT_REQ_CREDIT_BUREAU_YEAR</td>\n",
       "      <td>...</td>\n",
       "      <td>WEEKDAY_APPR_PROCESS_START_4</td>\n",
       "      <td>WEEKDAY_APPR_PROCESS_START_5</td>\n",
       "      <td>WEEKDAY_APPR_PROCESS_START_6</td>\n",
       "      <td>WEEKDAY_APPR_PROCESS_START_7</td>\n",
       "      <td>YEARS_BEGINEXPLUATATION_AVG</td>\n",
       "      <td>YEARS_BEGINEXPLUATATION_MEDI</td>\n",
       "      <td>YEARS_BEGINEXPLUATATION_MODE</td>\n",
       "      <td>YEARS_BUILD_AVG</td>\n",
       "      <td>YEARS_BUILD_MEDI</td>\n",
       "      <td>YEARS_BUILD_MODE</td>\n",
       "    </tr>\n",
       "  </tbody>\n",
       "</table>\n",
       "<p>2 rows × 265 columns</p>\n",
       "</div>"
      ],
      "text/plain": [
       "           0           1                2                 3    \\\n",
       "0            0           0                0                 0   \n",
       "1  AMT_ANNUITY  AMT_CREDIT  AMT_GOODS_PRICE  AMT_INCOME_TOTAL   \n",
       "\n",
       "                         4                           5    \\\n",
       "0                          0                           0   \n",
       "1  AMT_REQ_CREDIT_BUREAU_DAY  AMT_REQ_CREDIT_BUREAU_HOUR   \n",
       "\n",
       "                         6                          7    \\\n",
       "0                          0                          0   \n",
       "1  AMT_REQ_CREDIT_BUREAU_MON  AMT_REQ_CREDIT_BUREAU_QRT   \n",
       "\n",
       "                          8                           9    ...  \\\n",
       "0                           0                           0  ...   \n",
       "1  AMT_REQ_CREDIT_BUREAU_WEEK  AMT_REQ_CREDIT_BUREAU_YEAR  ...   \n",
       "\n",
       "                            255                           256  \\\n",
       "0                     0.0302636                     0.0311746   \n",
       "1  WEEKDAY_APPR_PROCESS_START_4  WEEKDAY_APPR_PROCESS_START_5   \n",
       "\n",
       "                            257                           258  \\\n",
       "0                     0.0331633                     0.0382258   \n",
       "1  WEEKDAY_APPR_PROCESS_START_6  WEEKDAY_APPR_PROCESS_START_7   \n",
       "\n",
       "                           259                           260  \\\n",
       "0                    0.0400607                     0.0483386   \n",
       "1  YEARS_BEGINEXPLUATATION_AVG  YEARS_BEGINEXPLUATATION_MEDI   \n",
       "\n",
       "                            261              262               263  \\\n",
       "0                     0.0564974        0.0677315          0.124588   \n",
       "1  YEARS_BEGINEXPLUATATION_MODE  YEARS_BUILD_AVG  YEARS_BUILD_MEDI   \n",
       "\n",
       "                264  \n",
       "0          0.127927  \n",
       "1  YEARS_BUILD_MODE  \n",
       "\n",
       "[2 rows x 265 columns]"
      ]
     },
     "metadata": {},
     "output_type": "display_data"
    }
   ],
   "source": [
    "X_0_ifarray = np.vstack([X_0_train.columns,X_0_fi])\n",
    "#display(X_0_ifcheck)\n",
    "X_0_ifcheck = np.sort(X_0_ifarray, axis=1)[::-1]\n",
    "#display(X_0_ifcheck)\n",
    "X_0_fi_data = pd.DataFrame(X_0_ifcheck)\n",
    "display(X_0_fi_data)\n",
    "X_0_fi_data_short = X_0_fi_data.loc[:,250:]"
   ]
  },
  {
   "cell_type": "markdown",
   "metadata": {},
   "source": [
    "## 【問題3】テストデータに対する推定"
   ]
  },
  {
   "cell_type": "code",
   "execution_count": 69,
   "metadata": {},
   "outputs": [],
   "source": [
    "df_sus_EXT2 = df_gender_onehot.loc[:,['TARGET','EXT_SOURCE_1','EXT_SOURCE_2','EXT_SOURCE_3']]"
   ]
  },
  {
   "cell_type": "code",
   "execution_count": 70,
   "metadata": {},
   "outputs": [],
   "source": [
    "df_test_sus_EXT2 = df_test_gender_onehot.loc[:,['EXT_SOURCE_1','EXT_SOURCE_2','EXT_SOURCE_3']]"
   ]
  },
  {
   "cell_type": "code",
   "execution_count": 71,
   "metadata": {},
   "outputs": [
    {
     "data": {
      "text/html": [
       "<div>\n",
       "<style scoped>\n",
       "    .dataframe tbody tr th:only-of-type {\n",
       "        vertical-align: middle;\n",
       "    }\n",
       "\n",
       "    .dataframe tbody tr th {\n",
       "        vertical-align: top;\n",
       "    }\n",
       "\n",
       "    .dataframe thead th {\n",
       "        text-align: right;\n",
       "    }\n",
       "</style>\n",
       "<table border=\"1\" class=\"dataframe\">\n",
       "  <thead>\n",
       "    <tr style=\"text-align: right;\">\n",
       "      <th></th>\n",
       "      <th>EXT_SOURCE_1</th>\n",
       "      <th>EXT_SOURCE_2</th>\n",
       "      <th>EXT_SOURCE_3</th>\n",
       "    </tr>\n",
       "  </thead>\n",
       "  <tbody>\n",
       "    <tr>\n",
       "      <th>0</th>\n",
       "      <td>0.752614</td>\n",
       "      <td>0.789654</td>\n",
       "      <td>0.159520</td>\n",
       "    </tr>\n",
       "    <tr>\n",
       "      <th>1</th>\n",
       "      <td>0.564990</td>\n",
       "      <td>0.291656</td>\n",
       "      <td>0.432962</td>\n",
       "    </tr>\n",
       "    <tr>\n",
       "      <th>2</th>\n",
       "      <td>NaN</td>\n",
       "      <td>0.699787</td>\n",
       "      <td>0.610991</td>\n",
       "    </tr>\n",
       "    <tr>\n",
       "      <th>3</th>\n",
       "      <td>0.525734</td>\n",
       "      <td>0.509677</td>\n",
       "      <td>0.612704</td>\n",
       "    </tr>\n",
       "    <tr>\n",
       "      <th>4</th>\n",
       "      <td>0.202145</td>\n",
       "      <td>0.425687</td>\n",
       "      <td>NaN</td>\n",
       "    </tr>\n",
       "  </tbody>\n",
       "</table>\n",
       "</div>"
      ],
      "text/plain": [
       "   EXT_SOURCE_1  EXT_SOURCE_2  EXT_SOURCE_3\n",
       "0      0.752614      0.789654      0.159520\n",
       "1      0.564990      0.291656      0.432962\n",
       "2           NaN      0.699787      0.610991\n",
       "3      0.525734      0.509677      0.612704\n",
       "4      0.202145      0.425687           NaN"
      ]
     },
     "metadata": {},
     "output_type": "display_data"
    }
   ],
   "source": [
    "display(df_test_sus_EXT2.head())"
   ]
  },
  {
   "cell_type": "code",
   "execution_count": 72,
   "metadata": {},
   "outputs": [
    {
     "data": {
      "text/html": [
       "<div>\n",
       "<style scoped>\n",
       "    .dataframe tbody tr th:only-of-type {\n",
       "        vertical-align: middle;\n",
       "    }\n",
       "\n",
       "    .dataframe tbody tr th {\n",
       "        vertical-align: top;\n",
       "    }\n",
       "\n",
       "    .dataframe thead th {\n",
       "        text-align: right;\n",
       "    }\n",
       "</style>\n",
       "<table border=\"1\" class=\"dataframe\">\n",
       "  <thead>\n",
       "    <tr style=\"text-align: right;\">\n",
       "      <th></th>\n",
       "      <th>TARGET</th>\n",
       "      <th>EXT_SOURCE_1</th>\n",
       "      <th>EXT_SOURCE_2</th>\n",
       "      <th>EXT_SOURCE_3</th>\n",
       "    </tr>\n",
       "  </thead>\n",
       "  <tbody>\n",
       "    <tr>\n",
       "      <th>0</th>\n",
       "      <td>1</td>\n",
       "      <td>0.083037</td>\n",
       "      <td>0.262949</td>\n",
       "      <td>0.139376</td>\n",
       "    </tr>\n",
       "    <tr>\n",
       "      <th>1</th>\n",
       "      <td>0</td>\n",
       "      <td>0.311267</td>\n",
       "      <td>0.622246</td>\n",
       "      <td>NaN</td>\n",
       "    </tr>\n",
       "    <tr>\n",
       "      <th>2</th>\n",
       "      <td>0</td>\n",
       "      <td>NaN</td>\n",
       "      <td>0.555912</td>\n",
       "      <td>0.729567</td>\n",
       "    </tr>\n",
       "    <tr>\n",
       "      <th>3</th>\n",
       "      <td>0</td>\n",
       "      <td>NaN</td>\n",
       "      <td>0.650442</td>\n",
       "      <td>NaN</td>\n",
       "    </tr>\n",
       "    <tr>\n",
       "      <th>4</th>\n",
       "      <td>0</td>\n",
       "      <td>NaN</td>\n",
       "      <td>0.322738</td>\n",
       "      <td>NaN</td>\n",
       "    </tr>\n",
       "  </tbody>\n",
       "</table>\n",
       "</div>"
      ],
      "text/plain": [
       "   TARGET  EXT_SOURCE_1  EXT_SOURCE_2  EXT_SOURCE_3\n",
       "0       1      0.083037      0.262949      0.139376\n",
       "1       0      0.311267      0.622246           NaN\n",
       "2       0           NaN      0.555912      0.729567\n",
       "3       0           NaN      0.650442           NaN\n",
       "4       0           NaN      0.322738           NaN"
      ]
     },
     "metadata": {},
     "output_type": "display_data"
    }
   ],
   "source": [
    "display(df_sus_EXT2.head())"
   ]
  },
  {
   "cell_type": "code",
   "execution_count": 77,
   "metadata": {},
   "outputs": [],
   "source": [
    "X = df_sus_EXT2.drop(\"TARGET\", axis = 1)\n",
    "y = df_sus_EXT2.loc[:,'TARGET']\n",
    "X_3_train, X_3_test, y_3_train, y_3_test = train_test_split(X, y, test_size=0.25, shuffle= 'True',stratify=df_gender_onehot_0[\"TARGET\"])"
   ]
  },
  {
   "cell_type": "code",
   "execution_count": 48,
   "metadata": {},
   "outputs": [
    {
     "data": {
      "text/plain": [
       "(48744, 17)"
      ]
     },
     "metadata": {},
     "output_type": "display_data"
    }
   ],
   "source": [
    "display(df_test_sus_EXT2.shape)"
   ]
  },
  {
   "cell_type": "code",
   "execution_count": 64,
   "metadata": {},
   "outputs": [],
   "source": [
    "path = '/Users/toyodasatomi/Desktop/DIC/data/application_test.csv'\n",
    "df_test = pd.read_csv(path)"
   ]
  },
  {
   "cell_type": "code",
   "execution_count": 68,
   "metadata": {},
   "outputs": [
    {
     "data": {
      "text/html": [
       "<div>\n",
       "<style scoped>\n",
       "    .dataframe tbody tr th:only-of-type {\n",
       "        vertical-align: middle;\n",
       "    }\n",
       "\n",
       "    .dataframe tbody tr th {\n",
       "        vertical-align: top;\n",
       "    }\n",
       "\n",
       "    .dataframe thead th {\n",
       "        text-align: right;\n",
       "    }\n",
       "</style>\n",
       "<table border=\"1\" class=\"dataframe\">\n",
       "  <thead>\n",
       "    <tr style=\"text-align: right;\">\n",
       "      <th></th>\n",
       "      <th>SK_ID_CURR</th>\n",
       "      <th>NAME_CONTRACT_TYPE</th>\n",
       "      <th>CODE_GENDER</th>\n",
       "      <th>FLAG_OWN_CAR</th>\n",
       "      <th>FLAG_OWN_REALTY</th>\n",
       "      <th>CNT_CHILDREN</th>\n",
       "      <th>AMT_INCOME_TOTAL</th>\n",
       "      <th>AMT_CREDIT</th>\n",
       "      <th>AMT_ANNUITY</th>\n",
       "      <th>AMT_GOODS_PRICE</th>\n",
       "      <th>...</th>\n",
       "      <th>FLAG_DOCUMENT_18</th>\n",
       "      <th>FLAG_DOCUMENT_19</th>\n",
       "      <th>FLAG_DOCUMENT_20</th>\n",
       "      <th>FLAG_DOCUMENT_21</th>\n",
       "      <th>AMT_REQ_CREDIT_BUREAU_HOUR</th>\n",
       "      <th>AMT_REQ_CREDIT_BUREAU_DAY</th>\n",
       "      <th>AMT_REQ_CREDIT_BUREAU_WEEK</th>\n",
       "      <th>AMT_REQ_CREDIT_BUREAU_MON</th>\n",
       "      <th>AMT_REQ_CREDIT_BUREAU_QRT</th>\n",
       "      <th>AMT_REQ_CREDIT_BUREAU_YEAR</th>\n",
       "    </tr>\n",
       "  </thead>\n",
       "  <tbody>\n",
       "    <tr>\n",
       "      <th>0</th>\n",
       "      <td>100001</td>\n",
       "      <td>Cash loans</td>\n",
       "      <td>F</td>\n",
       "      <td>N</td>\n",
       "      <td>Y</td>\n",
       "      <td>0</td>\n",
       "      <td>135000.0</td>\n",
       "      <td>568800.0</td>\n",
       "      <td>20560.5</td>\n",
       "      <td>450000.0</td>\n",
       "      <td>...</td>\n",
       "      <td>0</td>\n",
       "      <td>0</td>\n",
       "      <td>0</td>\n",
       "      <td>0</td>\n",
       "      <td>0.0</td>\n",
       "      <td>0.0</td>\n",
       "      <td>0.0</td>\n",
       "      <td>0.0</td>\n",
       "      <td>0.0</td>\n",
       "      <td>0.0</td>\n",
       "    </tr>\n",
       "    <tr>\n",
       "      <th>1</th>\n",
       "      <td>100005</td>\n",
       "      <td>Cash loans</td>\n",
       "      <td>M</td>\n",
       "      <td>N</td>\n",
       "      <td>Y</td>\n",
       "      <td>0</td>\n",
       "      <td>99000.0</td>\n",
       "      <td>222768.0</td>\n",
       "      <td>17370.0</td>\n",
       "      <td>180000.0</td>\n",
       "      <td>...</td>\n",
       "      <td>0</td>\n",
       "      <td>0</td>\n",
       "      <td>0</td>\n",
       "      <td>0</td>\n",
       "      <td>0.0</td>\n",
       "      <td>0.0</td>\n",
       "      <td>0.0</td>\n",
       "      <td>0.0</td>\n",
       "      <td>0.0</td>\n",
       "      <td>3.0</td>\n",
       "    </tr>\n",
       "    <tr>\n",
       "      <th>2</th>\n",
       "      <td>100013</td>\n",
       "      <td>Cash loans</td>\n",
       "      <td>M</td>\n",
       "      <td>Y</td>\n",
       "      <td>Y</td>\n",
       "      <td>0</td>\n",
       "      <td>202500.0</td>\n",
       "      <td>663264.0</td>\n",
       "      <td>69777.0</td>\n",
       "      <td>630000.0</td>\n",
       "      <td>...</td>\n",
       "      <td>0</td>\n",
       "      <td>0</td>\n",
       "      <td>0</td>\n",
       "      <td>0</td>\n",
       "      <td>0.0</td>\n",
       "      <td>0.0</td>\n",
       "      <td>0.0</td>\n",
       "      <td>0.0</td>\n",
       "      <td>1.0</td>\n",
       "      <td>4.0</td>\n",
       "    </tr>\n",
       "    <tr>\n",
       "      <th>3</th>\n",
       "      <td>100028</td>\n",
       "      <td>Cash loans</td>\n",
       "      <td>F</td>\n",
       "      <td>N</td>\n",
       "      <td>Y</td>\n",
       "      <td>2</td>\n",
       "      <td>315000.0</td>\n",
       "      <td>1575000.0</td>\n",
       "      <td>49018.5</td>\n",
       "      <td>1575000.0</td>\n",
       "      <td>...</td>\n",
       "      <td>0</td>\n",
       "      <td>0</td>\n",
       "      <td>0</td>\n",
       "      <td>0</td>\n",
       "      <td>0.0</td>\n",
       "      <td>0.0</td>\n",
       "      <td>0.0</td>\n",
       "      <td>0.0</td>\n",
       "      <td>0.0</td>\n",
       "      <td>3.0</td>\n",
       "    </tr>\n",
       "    <tr>\n",
       "      <th>4</th>\n",
       "      <td>100038</td>\n",
       "      <td>Cash loans</td>\n",
       "      <td>M</td>\n",
       "      <td>Y</td>\n",
       "      <td>N</td>\n",
       "      <td>1</td>\n",
       "      <td>180000.0</td>\n",
       "      <td>625500.0</td>\n",
       "      <td>32067.0</td>\n",
       "      <td>625500.0</td>\n",
       "      <td>...</td>\n",
       "      <td>0</td>\n",
       "      <td>0</td>\n",
       "      <td>0</td>\n",
       "      <td>0</td>\n",
       "      <td>NaN</td>\n",
       "      <td>NaN</td>\n",
       "      <td>NaN</td>\n",
       "      <td>NaN</td>\n",
       "      <td>NaN</td>\n",
       "      <td>NaN</td>\n",
       "    </tr>\n",
       "  </tbody>\n",
       "</table>\n",
       "<p>5 rows × 121 columns</p>\n",
       "</div>"
      ],
      "text/plain": [
       "   SK_ID_CURR NAME_CONTRACT_TYPE CODE_GENDER FLAG_OWN_CAR FLAG_OWN_REALTY  \\\n",
       "0      100001         Cash loans           F            N               Y   \n",
       "1      100005         Cash loans           M            N               Y   \n",
       "2      100013         Cash loans           M            Y               Y   \n",
       "3      100028         Cash loans           F            N               Y   \n",
       "4      100038         Cash loans           M            Y               N   \n",
       "\n",
       "   CNT_CHILDREN  AMT_INCOME_TOTAL  AMT_CREDIT  AMT_ANNUITY  AMT_GOODS_PRICE  \\\n",
       "0             0          135000.0    568800.0      20560.5         450000.0   \n",
       "1             0           99000.0    222768.0      17370.0         180000.0   \n",
       "2             0          202500.0    663264.0      69777.0         630000.0   \n",
       "3             2          315000.0   1575000.0      49018.5        1575000.0   \n",
       "4             1          180000.0    625500.0      32067.0         625500.0   \n",
       "\n",
       "   ... FLAG_DOCUMENT_18 FLAG_DOCUMENT_19 FLAG_DOCUMENT_20 FLAG_DOCUMENT_21  \\\n",
       "0  ...                0                0                0                0   \n",
       "1  ...                0                0                0                0   \n",
       "2  ...                0                0                0                0   \n",
       "3  ...                0                0                0                0   \n",
       "4  ...                0                0                0                0   \n",
       "\n",
       "  AMT_REQ_CREDIT_BUREAU_HOUR  AMT_REQ_CREDIT_BUREAU_DAY  \\\n",
       "0                        0.0                        0.0   \n",
       "1                        0.0                        0.0   \n",
       "2                        0.0                        0.0   \n",
       "3                        0.0                        0.0   \n",
       "4                        NaN                        NaN   \n",
       "\n",
       "   AMT_REQ_CREDIT_BUREAU_WEEK  AMT_REQ_CREDIT_BUREAU_MON  \\\n",
       "0                         0.0                        0.0   \n",
       "1                         0.0                        0.0   \n",
       "2                         0.0                        0.0   \n",
       "3                         0.0                        0.0   \n",
       "4                         NaN                        NaN   \n",
       "\n",
       "   AMT_REQ_CREDIT_BUREAU_QRT  AMT_REQ_CREDIT_BUREAU_YEAR  \n",
       "0                        0.0                         0.0  \n",
       "1                        0.0                         3.0  \n",
       "2                        1.0                         4.0  \n",
       "3                        0.0                         3.0  \n",
       "4                        NaN                         NaN  \n",
       "\n",
       "[5 rows x 121 columns]"
      ]
     },
     "metadata": {},
     "output_type": "display_data"
    }
   ],
   "source": [
    "display(df_test.head())"
   ]
  },
  {
   "cell_type": "code",
   "execution_count": 66,
   "metadata": {},
   "outputs": [],
   "source": [
    "# pd.DataFrameをそのまま突っ込む\n",
    "df_test_gender_onehot = ce_ohe.fit_transform(df_test)"
   ]
  },
  {
   "cell_type": "code",
   "execution_count": 76,
   "metadata": {},
   "outputs": [],
   "source": [
    "#欠損を全部０で埋める\n",
    "df_sus_EXT2 = df_sus_EXT2.fillna(0)\n"
   ]
  },
  {
   "cell_type": "code",
   "execution_count": 45,
   "metadata": {},
   "outputs": [
    {
     "data": {
      "text/plain": [
       "(48744, 258)"
      ]
     },
     "metadata": {},
     "output_type": "display_data"
    }
   ],
   "source": [
    "display(df_test_gender_onehot_0.shape)"
   ]
  },
  {
   "cell_type": "code",
   "execution_count": 34,
   "metadata": {},
   "outputs": [
    {
     "data": {
      "text/plain": [
       "(230633, 265)"
      ]
     },
     "metadata": {},
     "output_type": "display_data"
    }
   ],
   "source": [
    "display(X_0_train.shape)"
   ]
  },
  {
   "cell_type": "code",
   "execution_count": 78,
   "metadata": {},
   "outputs": [
    {
     "data": {
      "text/plain": [
       "RandomForestClassifier(bootstrap=True, class_weight=None, criterion='gini',\n",
       "                       max_depth=2, max_features='auto', max_leaf_nodes=None,\n",
       "                       min_impurity_decrease=0.0, min_impurity_split=None,\n",
       "                       min_samples_leaf=1, min_samples_split=2,\n",
       "                       min_weight_fraction_leaf=0.0, n_estimators=100,\n",
       "                       n_jobs=None, oob_score=False, random_state=0, verbose=0,\n",
       "                       warm_start=False)"
      ]
     },
     "execution_count": 78,
     "metadata": {},
     "output_type": "execute_result"
    }
   ],
   "source": [
    "rf3 = RandomForestClassifier(n_estimators=100, max_depth = 2, random_state = 0)\n",
    "rf3.fit(X_3_train, y_3_train)\n"
   ]
  },
  {
   "cell_type": "code",
   "execution_count": 80,
   "metadata": {},
   "outputs": [],
   "source": [
    "y_3_pred = rf3.predict(X_3_test)"
   ]
  },
  {
   "cell_type": "code",
   "execution_count": 81,
   "metadata": {},
   "outputs": [],
   "source": [
    "y_3_pred_proba = rf3.predict_proba(X_3_test)"
   ]
  },
  {
   "cell_type": "code",
   "execution_count": 82,
   "metadata": {},
   "outputs": [
    {
     "name": "stdout",
     "output_type": "stream",
     "text": [
      "0.9192746949712531\n"
     ]
    }
   ],
   "source": [
    "print(accuracy_score(y_3_test,y_3_pred))"
   ]
  },
  {
   "cell_type": "code",
   "execution_count": 83,
   "metadata": {},
   "outputs": [
    {
     "data": {
      "text/plain": [
       "0.7024394275887897"
      ]
     },
     "execution_count": 83,
     "metadata": {},
     "output_type": "execute_result"
    }
   ],
   "source": [
    "roc_auc_score(y_3_test, y_3_pred_proba[:,1])"
   ]
  },
  {
   "cell_type": "markdown",
   "metadata": {},
   "source": [
    "#### テストデータで"
   ]
  },
  {
   "cell_type": "code",
   "execution_count": 84,
   "metadata": {},
   "outputs": [],
   "source": [
    "#欠損を全部０で埋める\n",
    "df_sus_EXT2 = df_test_sus_EXT2.fillna(0)\n"
   ]
  },
  {
   "cell_type": "code",
   "execution_count": 85,
   "metadata": {},
   "outputs": [],
   "source": [
    "y_3_test_pred = rf3.predict(df_sus_EXT2)"
   ]
  },
  {
   "cell_type": "code",
   "execution_count": 86,
   "metadata": {},
   "outputs": [
    {
     "name": "stdout",
     "output_type": "stream",
     "text": [
      "[0 0 0 ... 0 0 0]\n"
     ]
    }
   ],
   "source": [
    "print(y_3_test_pred)"
   ]
  },
  {
   "cell_type": "code",
   "execution_count": 87,
   "metadata": {},
   "outputs": [],
   "source": [
    "y_3_test_pred_proba = rf3.predict_proba(df_sus_EXT2)"
   ]
  },
  {
   "cell_type": "code",
   "execution_count": 90,
   "metadata": {},
   "outputs": [
    {
     "name": "stdout",
     "output_type": "stream",
     "text": [
      "[[0.93614239 0.06385761]\n",
      " [0.91186502 0.08813498]\n",
      " [0.94513411 0.05486589]\n",
      " ...\n",
      " [0.93551084 0.06448916]\n",
      " [0.93791036 0.06208964]\n",
      " [0.90289292 0.09710708]]\n"
     ]
    }
   ],
   "source": [
    "print(y_3_test_pred_proba)"
   ]
  },
  {
   "cell_type": "code",
   "execution_count": 92,
   "metadata": {},
   "outputs": [],
   "source": [
    "a=df_test['SK_ID_CURR']"
   ]
  },
  {
   "cell_type": "code",
   "execution_count": 93,
   "metadata": {},
   "outputs": [],
   "source": [
    "aa = np.array(a, dtype = 'int32')"
   ]
  },
  {
   "cell_type": "code",
   "execution_count": 94,
   "metadata": {},
   "outputs": [
    {
     "name": "stdout",
     "output_type": "stream",
     "text": [
      "[100001 100005 100013 ... 456223 456224 456250]\n"
     ]
    }
   ],
   "source": [
    "print(aa)"
   ]
  },
  {
   "cell_type": "code",
   "execution_count": 95,
   "metadata": {},
   "outputs": [],
   "source": [
    "b=y_3_test_pred_proba[:,1]"
   ]
  },
  {
   "cell_type": "code",
   "execution_count": 96,
   "metadata": {},
   "outputs": [],
   "source": [
    "c = np.stack([aa, b],1)"
   ]
  },
  {
   "cell_type": "code",
   "execution_count": null,
   "metadata": {},
   "outputs": [],
   "source": [
    "#CSVで出力する\n",
    "import csv\n",
    "header = [ 'SK_ID_CURR', 'TARGET']\n",
    "\n",
    "with open('/Users/toyodasatomi/Desktop/DIC/data/file.csv', 'w') as f:\n",
    "    writer = csv.writer(f)\n",
    "    writer.writerow(header)\n",
    "    writer.writerows(c)  "
   ]
  },
  {
   "cell_type": "code",
   "execution_count": 97,
   "metadata": {},
   "outputs": [
    {
     "data": {
      "image/png": "[encoded data removed]",
      "text/plain": [
       "<PIL.PngImagePlugin.PngImageFile image mode=RGBA size=1598x306 at 0x1A1DEF6400>"
      ]
     },
     "metadata": {},
     "output_type": "display_data"
    }
   ],
   "source": [
    "from IPython.display import display\n",
    "from PIL import Image\n",
    "Pred = \"スクリーンショット 2019-12-27 14.59.56.png\"\n",
    "display(Image.open(Pred))"
   ]
  },
  {
   "cell_type": "markdown",
   "metadata": {},
   "source": [
    "## 【問題4】特徴量エンジニアリング"
   ]
  },
  {
   "cell_type": "markdown",
   "metadata": {},
   "source": [
    "#### 特徴量を任意のものだけに絞ってみる"
   ]
  },
  {
   "cell_type": "code",
   "execution_count": 63,
   "metadata": {},
   "outputs": [],
   "source": [
    "df_corr = df_gender_onehot.corr()"
   ]
  },
  {
   "cell_type": "code",
   "execution_count": 86,
   "metadata": {},
   "outputs": [],
   "source": [
    "#df_corr.sort_values('TARGET')"
   ]
  },
  {
   "cell_type": "markdown",
   "metadata": {},
   "source": [
    "#### ①TARGETと相関の高い変数上位5つに絞ってみる"
   ]
  },
  {
   "cell_type": "code",
   "execution_count": 66,
   "metadata": {},
   "outputs": [],
   "source": [
    "df_sus_top5 = df_gender_onehot.loc[:,['TARGET','EXT_SOURCE_1','EXT_SOURCE_2','EXT_SOURCE_3','NAME_EDUCATION_TYPE_2','CODE_GENDER_2']]"
   ]
  },
  {
   "cell_type": "code",
   "execution_count": 70,
   "metadata": {},
   "outputs": [],
   "source": [
    "#欠損を全部０で埋める\n",
    "df_sus_top5 = df_sus_top5.fillna(0)\n"
   ]
  },
  {
   "cell_type": "code",
   "execution_count": 71,
   "metadata": {},
   "outputs": [],
   "source": [
    "X = df_sus_top5.drop(\"TARGET\", axis = 1)\n",
    "y = df_sus_top5.loc[:,'TARGET']\n",
    "X_5_train, X_5_test, y_5_train, y_5_test = train_test_split(X, y, test_size=0.25, shuffle= 'True',stratify=df_sus_top5[\"TARGET\"])\n"
   ]
  },
  {
   "cell_type": "code",
   "execution_count": 72,
   "metadata": {},
   "outputs": [],
   "source": [
    "rf_5 = RandomForestClassifier(n_estimators=100, max_depth = 2, random_state = 0)"
   ]
  },
  {
   "cell_type": "code",
   "execution_count": 73,
   "metadata": {},
   "outputs": [
    {
     "data": {
      "text/plain": [
       "RandomForestClassifier(bootstrap=True, class_weight=None, criterion='gini',\n",
       "                       max_depth=2, max_features='auto', max_leaf_nodes=None,\n",
       "                       min_impurity_decrease=0.0, min_impurity_split=None,\n",
       "                       min_samples_leaf=1, min_samples_split=2,\n",
       "                       min_weight_fraction_leaf=0.0, n_estimators=100,\n",
       "                       n_jobs=None, oob_score=False, random_state=0, verbose=0,\n",
       "                       warm_start=False)"
      ]
     },
     "execution_count": 73,
     "metadata": {},
     "output_type": "execute_result"
    }
   ],
   "source": [
    "rf_5.fit(X_5_train, y_5_train)"
   ]
  },
  {
   "cell_type": "code",
   "execution_count": 74,
   "metadata": {},
   "outputs": [],
   "source": [
    "y_d_5_pred = rf_5.predict(X_5_test)"
   ]
  },
  {
   "cell_type": "code",
   "execution_count": 76,
   "metadata": {},
   "outputs": [],
   "source": [
    "y_d_5_prba= rf_5.predict_proba(X_5_test)"
   ]
  },
  {
   "cell_type": "code",
   "execution_count": 77,
   "metadata": {},
   "outputs": [
    {
     "data": {
      "text/plain": [
       "0.6977765568310437"
      ]
     },
     "execution_count": 77,
     "metadata": {},
     "output_type": "execute_result"
    }
   ],
   "source": [
    "roc_auc_score(y_5_test, y_d_5_prba[:,1])"
   ]
  },
  {
   "cell_type": "markdown",
   "metadata": {},
   "source": [
    "#### ②TARGETと相関が負の方向と正の方向に高いものそれぞれ3つずつピックアップしてみる"
   ]
  },
  {
   "cell_type": "code",
   "execution_count": 78,
   "metadata": {},
   "outputs": [],
   "source": [
    "df_sus_top33 = df_gender_onehot.loc[:,['TARGET','EXT_SOURCE_1','EXT_SOURCE_2','EXT_SOURCE_3','DAYS_BIRTH','REGION_RATING_CLIENT_W_CITY','REGION_RATING_CLIENT']]"
   ]
  },
  {
   "cell_type": "code",
   "execution_count": 79,
   "metadata": {},
   "outputs": [],
   "source": [
    "#欠損を全部０で埋める\n",
    "df_sus_top33 = df_sus_top33.fillna(0)\n",
    "\n"
   ]
  },
  {
   "cell_type": "code",
   "execution_count": 80,
   "metadata": {},
   "outputs": [],
   "source": [
    "X = df_sus_top33.drop(\"TARGET\", axis = 1)\n",
    "y = df_sus_top33.loc[:,'TARGET']\n",
    "X_33_train, X_33_test, y_33_train, y_33_test = train_test_split(X, y, test_size=0.25, shuffle= 'True',stratify=df_sus_top33[\"TARGET\"])\n",
    "\n"
   ]
  },
  {
   "cell_type": "code",
   "execution_count": 81,
   "metadata": {},
   "outputs": [],
   "source": [
    "rf_33 = RandomForestClassifier(n_estimators=100, max_depth = 2, random_state = 0)"
   ]
  },
  {
   "cell_type": "code",
   "execution_count": 82,
   "metadata": {},
   "outputs": [
    {
     "data": {
      "text/plain": [
       "RandomForestClassifier(bootstrap=True, class_weight=None, criterion='gini',\n",
       "                       max_depth=2, max_features='auto', max_leaf_nodes=None,\n",
       "                       min_impurity_decrease=0.0, min_impurity_split=None,\n",
       "                       min_samples_leaf=1, min_samples_split=2,\n",
       "                       min_weight_fraction_leaf=0.0, n_estimators=100,\n",
       "                       n_jobs=None, oob_score=False, random_state=0, verbose=0,\n",
       "                       warm_start=False)"
      ]
     },
     "execution_count": 82,
     "metadata": {},
     "output_type": "execute_result"
    }
   ],
   "source": [
    "rf_33.fit(X_33_train, y_33_train)"
   ]
  },
  {
   "cell_type": "code",
   "execution_count": 83,
   "metadata": {},
   "outputs": [],
   "source": [
    "y_d_33_pred = rf_33.predict(X_33_test)"
   ]
  },
  {
   "cell_type": "code",
   "execution_count": 84,
   "metadata": {},
   "outputs": [],
   "source": [
    "y_d_33_prba= rf_33.predict_proba(X_33_test)"
   ]
  },
  {
   "cell_type": "code",
   "execution_count": 85,
   "metadata": {},
   "outputs": [
    {
     "data": {
      "text/plain": [
       "0.7027831480373015"
      ]
     },
     "execution_count": 85,
     "metadata": {},
     "output_type": "execute_result"
    }
   ],
   "source": [
    "roc_auc_score(y_33_test, y_d_33_prba[:,1])"
   ]
  },
  {
   "cell_type": "markdown",
   "metadata": {},
   "source": [
    "#### 前処理の欠損値を変え方にこだわってみる"
   ]
  },
  {
   "cell_type": "markdown",
   "metadata": {},
   "source": [
    "#### データの欠損を削除してやってみる"
   ]
  },
  {
   "cell_type": "code",
   "execution_count": 15,
   "metadata": {},
   "outputs": [],
   "source": [
    "df_d_na_pre = df_gender_onehot.dropna()"
   ]
  },
  {
   "cell_type": "code",
   "execution_count": 16,
   "metadata": {},
   "outputs": [],
   "source": [
    "df_d_na = df_d_na_pre.dropna(axis=1)"
   ]
  },
  {
   "cell_type": "code",
   "execution_count": 17,
   "metadata": {},
   "outputs": [
    {
     "data": {
      "text/html": [
       "<div>\n",
       "<style scoped>\n",
       "    .dataframe tbody tr th:only-of-type {\n",
       "        vertical-align: middle;\n",
       "    }\n",
       "\n",
       "    .dataframe tbody tr th {\n",
       "        vertical-align: top;\n",
       "    }\n",
       "\n",
       "    .dataframe thead th {\n",
       "        text-align: right;\n",
       "    }\n",
       "</style>\n",
       "<table border=\"1\" class=\"dataframe\">\n",
       "  <thead>\n",
       "    <tr style=\"text-align: right;\">\n",
       "      <th></th>\n",
       "      <th>SK_ID_CURR</th>\n",
       "      <th>TARGET</th>\n",
       "      <th>NAME_CONTRACT_TYPE_1</th>\n",
       "      <th>NAME_CONTRACT_TYPE_2</th>\n",
       "      <th>CODE_GENDER_1</th>\n",
       "      <th>CODE_GENDER_2</th>\n",
       "      <th>CODE_GENDER_3</th>\n",
       "      <th>FLAG_OWN_CAR_1</th>\n",
       "      <th>FLAG_OWN_CAR_2</th>\n",
       "      <th>FLAG_OWN_REALTY_1</th>\n",
       "      <th>...</th>\n",
       "      <th>FLAG_DOCUMENT_18</th>\n",
       "      <th>FLAG_DOCUMENT_19</th>\n",
       "      <th>FLAG_DOCUMENT_20</th>\n",
       "      <th>FLAG_DOCUMENT_21</th>\n",
       "      <th>AMT_REQ_CREDIT_BUREAU_HOUR</th>\n",
       "      <th>AMT_REQ_CREDIT_BUREAU_DAY</th>\n",
       "      <th>AMT_REQ_CREDIT_BUREAU_WEEK</th>\n",
       "      <th>AMT_REQ_CREDIT_BUREAU_MON</th>\n",
       "      <th>AMT_REQ_CREDIT_BUREAU_QRT</th>\n",
       "      <th>AMT_REQ_CREDIT_BUREAU_YEAR</th>\n",
       "    </tr>\n",
       "  </thead>\n",
       "  <tbody>\n",
       "    <tr>\n",
       "      <th>71</th>\n",
       "      <td>100083</td>\n",
       "      <td>0</td>\n",
       "      <td>1</td>\n",
       "      <td>0</td>\n",
       "      <td>1</td>\n",
       "      <td>0</td>\n",
       "      <td>0</td>\n",
       "      <td>0</td>\n",
       "      <td>1</td>\n",
       "      <td>1</td>\n",
       "      <td>...</td>\n",
       "      <td>0</td>\n",
       "      <td>0</td>\n",
       "      <td>0</td>\n",
       "      <td>0</td>\n",
       "      <td>0.0</td>\n",
       "      <td>0.0</td>\n",
       "      <td>0.0</td>\n",
       "      <td>0.0</td>\n",
       "      <td>0.0</td>\n",
       "      <td>3.0</td>\n",
       "    </tr>\n",
       "    <tr>\n",
       "      <th>124</th>\n",
       "      <td>100145</td>\n",
       "      <td>0</td>\n",
       "      <td>1</td>\n",
       "      <td>0</td>\n",
       "      <td>0</td>\n",
       "      <td>1</td>\n",
       "      <td>0</td>\n",
       "      <td>0</td>\n",
       "      <td>1</td>\n",
       "      <td>1</td>\n",
       "      <td>...</td>\n",
       "      <td>0</td>\n",
       "      <td>0</td>\n",
       "      <td>0</td>\n",
       "      <td>0</td>\n",
       "      <td>0.0</td>\n",
       "      <td>0.0</td>\n",
       "      <td>0.0</td>\n",
       "      <td>0.0</td>\n",
       "      <td>0.0</td>\n",
       "      <td>3.0</td>\n",
       "    </tr>\n",
       "    <tr>\n",
       "      <th>143</th>\n",
       "      <td>100165</td>\n",
       "      <td>0</td>\n",
       "      <td>1</td>\n",
       "      <td>0</td>\n",
       "      <td>0</td>\n",
       "      <td>1</td>\n",
       "      <td>0</td>\n",
       "      <td>0</td>\n",
       "      <td>1</td>\n",
       "      <td>1</td>\n",
       "      <td>...</td>\n",
       "      <td>0</td>\n",
       "      <td>0</td>\n",
       "      <td>0</td>\n",
       "      <td>0</td>\n",
       "      <td>0.0</td>\n",
       "      <td>0.0</td>\n",
       "      <td>0.0</td>\n",
       "      <td>0.0</td>\n",
       "      <td>0.0</td>\n",
       "      <td>2.0</td>\n",
       "    </tr>\n",
       "    <tr>\n",
       "      <th>152</th>\n",
       "      <td>100179</td>\n",
       "      <td>0</td>\n",
       "      <td>1</td>\n",
       "      <td>0</td>\n",
       "      <td>0</td>\n",
       "      <td>1</td>\n",
       "      <td>0</td>\n",
       "      <td>0</td>\n",
       "      <td>1</td>\n",
       "      <td>0</td>\n",
       "      <td>...</td>\n",
       "      <td>0</td>\n",
       "      <td>0</td>\n",
       "      <td>0</td>\n",
       "      <td>0</td>\n",
       "      <td>0.0</td>\n",
       "      <td>0.0</td>\n",
       "      <td>0.0</td>\n",
       "      <td>1.0</td>\n",
       "      <td>0.0</td>\n",
       "      <td>4.0</td>\n",
       "    </tr>\n",
       "    <tr>\n",
       "      <th>161</th>\n",
       "      <td>100190</td>\n",
       "      <td>0</td>\n",
       "      <td>1</td>\n",
       "      <td>0</td>\n",
       "      <td>1</td>\n",
       "      <td>0</td>\n",
       "      <td>0</td>\n",
       "      <td>0</td>\n",
       "      <td>1</td>\n",
       "      <td>0</td>\n",
       "      <td>...</td>\n",
       "      <td>0</td>\n",
       "      <td>0</td>\n",
       "      <td>0</td>\n",
       "      <td>0</td>\n",
       "      <td>0.0</td>\n",
       "      <td>0.0</td>\n",
       "      <td>0.0</td>\n",
       "      <td>0.0</td>\n",
       "      <td>0.0</td>\n",
       "      <td>3.0</td>\n",
       "    </tr>\n",
       "  </tbody>\n",
       "</table>\n",
       "<p>5 rows × 266 columns</p>\n",
       "</div>"
      ],
      "text/plain": [
       "     SK_ID_CURR  TARGET  NAME_CONTRACT_TYPE_1  NAME_CONTRACT_TYPE_2  \\\n",
       "71       100083       0                     1                     0   \n",
       "124      100145       0                     1                     0   \n",
       "143      100165       0                     1                     0   \n",
       "152      100179       0                     1                     0   \n",
       "161      100190       0                     1                     0   \n",
       "\n",
       "     CODE_GENDER_1  CODE_GENDER_2  CODE_GENDER_3  FLAG_OWN_CAR_1  \\\n",
       "71               1              0              0               0   \n",
       "124              0              1              0               0   \n",
       "143              0              1              0               0   \n",
       "152              0              1              0               0   \n",
       "161              1              0              0               0   \n",
       "\n",
       "     FLAG_OWN_CAR_2  FLAG_OWN_REALTY_1  ...  FLAG_DOCUMENT_18  \\\n",
       "71                1                  1  ...                 0   \n",
       "124               1                  1  ...                 0   \n",
       "143               1                  1  ...                 0   \n",
       "152               1                  0  ...                 0   \n",
       "161               1                  0  ...                 0   \n",
       "\n",
       "     FLAG_DOCUMENT_19  FLAG_DOCUMENT_20  FLAG_DOCUMENT_21  \\\n",
       "71                  0                 0                 0   \n",
       "124                 0                 0                 0   \n",
       "143                 0                 0                 0   \n",
       "152                 0                 0                 0   \n",
       "161                 0                 0                 0   \n",
       "\n",
       "     AMT_REQ_CREDIT_BUREAU_HOUR  AMT_REQ_CREDIT_BUREAU_DAY  \\\n",
       "71                          0.0                        0.0   \n",
       "124                         0.0                        0.0   \n",
       "143                         0.0                        0.0   \n",
       "152                         0.0                        0.0   \n",
       "161                         0.0                        0.0   \n",
       "\n",
       "     AMT_REQ_CREDIT_BUREAU_WEEK  AMT_REQ_CREDIT_BUREAU_MON  \\\n",
       "71                          0.0                        0.0   \n",
       "124                         0.0                        0.0   \n",
       "143                         0.0                        0.0   \n",
       "152                         0.0                        1.0   \n",
       "161                         0.0                        0.0   \n",
       "\n",
       "     AMT_REQ_CREDIT_BUREAU_QRT  AMT_REQ_CREDIT_BUREAU_YEAR  \n",
       "71                         0.0                         3.0  \n",
       "124                        0.0                         3.0  \n",
       "143                        0.0                         2.0  \n",
       "152                        0.0                         4.0  \n",
       "161                        0.0                         3.0  \n",
       "\n",
       "[5 rows x 266 columns]"
      ]
     },
     "metadata": {},
     "output_type": "display_data"
    }
   ],
   "source": [
    "display(df_d_na.head())"
   ]
  },
  {
   "cell_type": "code",
   "execution_count": 19,
   "metadata": {},
   "outputs": [],
   "source": [
    "#ターゲットを分ける\n",
    "from sklearn.model_selection import train_test_split\n",
    "\n",
    "X = df_d_na.drop(\"TARGET\", axis = 1)\n",
    "y = df_d_na.loc[:,'TARGET']\n",
    "X_d_na_train, X_d_na_test, y_d_na_train, y_d_na_test = train_test_split(X, y, test_size=0.25, stratify=df_d_na[\"TARGET\"])\n",
    "\n"
   ]
  },
  {
   "cell_type": "code",
   "execution_count": 23,
   "metadata": {},
   "outputs": [],
   "source": [
    "rf_na = RandomForestClassifier(n_estimators=100, max_depth = 2, random_state = 0)"
   ]
  },
  {
   "cell_type": "code",
   "execution_count": 24,
   "metadata": {},
   "outputs": [
    {
     "data": {
      "text/plain": [
       "RandomForestClassifier(bootstrap=True, class_weight=None, criterion='gini',\n",
       "                       max_depth=2, max_features='auto', max_leaf_nodes=None,\n",
       "                       min_impurity_decrease=0.0, min_impurity_split=None,\n",
       "                       min_samples_leaf=1, min_samples_split=2,\n",
       "                       min_weight_fraction_leaf=0.0, n_estimators=100,\n",
       "                       n_jobs=None, oob_score=False, random_state=0, verbose=0,\n",
       "                       warm_start=False)"
      ]
     },
     "execution_count": 24,
     "metadata": {},
     "output_type": "execute_result"
    }
   ],
   "source": [
    "rf_na.fit(X_d_na_train, y_d_na_train)"
   ]
  },
  {
   "cell_type": "code",
   "execution_count": 25,
   "metadata": {},
   "outputs": [],
   "source": [
    "y_d_na_pred = rf_na.predict(X_d_na_test)"
   ]
  },
  {
   "cell_type": "code",
   "execution_count": 26,
   "metadata": {},
   "outputs": [],
   "source": [
    "yyyy= rf_na.predict_proba(X_d_na_test)"
   ]
  },
  {
   "cell_type": "code",
   "execution_count": 47,
   "metadata": {},
   "outputs": [
    {
     "data": {
      "text/plain": [
       "(2838, 2)"
      ]
     },
     "execution_count": 47,
     "metadata": {},
     "output_type": "execute_result"
    }
   ],
   "source": [
    "yyyy.shape"
   ]
  },
  {
   "cell_type": "code",
   "execution_count": 45,
   "metadata": {},
   "outputs": [
    {
     "name": "stdout",
     "output_type": "stream",
     "text": [
      "[[0.9381614  0.94296105 0.9193234  ... 0.94116989 0.92722859 0.93499174]\n",
      " [0.0618386  0.05703895 0.0806766  ... 0.05883011 0.07277141 0.06500826]]\n"
     ]
    }
   ],
   "source": [
    "print(yyyy.T)"
   ]
  },
  {
   "cell_type": "code",
   "execution_count": 41,
   "metadata": {},
   "outputs": [
    {
     "data": {
      "text/plain": [
       "(2838,)"
      ]
     },
     "execution_count": 41,
     "metadata": {},
     "output_type": "execute_result"
    }
   ],
   "source": [
    "y_d_na_test.shape"
   ]
  },
  {
   "cell_type": "code",
   "execution_count": 27,
   "metadata": {},
   "outputs": [
    {
     "data": {
      "text/plain": [
       "0.70390762558189"
      ]
     },
     "execution_count": 27,
     "metadata": {},
     "output_type": "execute_result"
    }
   ],
   "source": [
    "roc_auc_score(y_d_na_test, yyyy[:,1])"
   ]
  },
  {
   "cell_type": "markdown",
   "metadata": {},
   "source": [
    "#### 欠損を平均で埋める"
   ]
  },
  {
   "cell_type": "code",
   "execution_count": 28,
   "metadata": {},
   "outputs": [],
   "source": [
    "#平均で埋める\n",
    "#from sklearn.preprocessing import Imputer\n",
    "#imr = Imputer(missing_values='NaN',strategy='mean', axis = 0)\n",
    "#df_gender_onehot_mean = imr.fit_transform(df_gender_onehot)\n",
    "df_gender_onehot_mean = df_gender_onehot.fillna(df_gender_onehot.mean())\n",
    "#display(df_gender_onehot_mean)"
   ]
  },
  {
   "cell_type": "code",
   "execution_count": 29,
   "metadata": {},
   "outputs": [],
   "source": [
    "X = df_gender_onehot_mean.drop(\"TARGET\", axis = 1)\n",
    "y = df_gender_onehot_mean.loc[:,'TARGET']\n",
    "X_d_mean_train, X_d_mean_test, y_d_mean_train, y_d_mean_test = train_test_split(X, y, test_size=0.25, stratify=df_gender_onehot_mean[\"TARGET\"])"
   ]
  },
  {
   "cell_type": "code",
   "execution_count": 30,
   "metadata": {},
   "outputs": [],
   "source": [
    "rf_mean = RandomForestClassifier(n_estimators=100, max_depth = 2, random_state = 0)"
   ]
  },
  {
   "cell_type": "code",
   "execution_count": 32,
   "metadata": {},
   "outputs": [
    {
     "data": {
      "text/plain": [
       "RandomForestClassifier(bootstrap=True, class_weight=None, criterion='gini',\n",
       "                       max_depth=2, max_features='auto', max_leaf_nodes=None,\n",
       "                       min_impurity_decrease=0.0, min_impurity_split=None,\n",
       "                       min_samples_leaf=1, min_samples_split=2,\n",
       "                       min_weight_fraction_leaf=0.0, n_estimators=100,\n",
       "                       n_jobs=None, oob_score=False, random_state=0, verbose=0,\n",
       "                       warm_start=False)"
      ]
     },
     "execution_count": 32,
     "metadata": {},
     "output_type": "execute_result"
    }
   ],
   "source": [
    "rf_mean.fit(X_d_mean_train, y_d_mean_train)"
   ]
  },
  {
   "cell_type": "code",
   "execution_count": 33,
   "metadata": {},
   "outputs": [],
   "source": [
    "y_d_mean_pred = rf_mean.predict(X_d_mean_test)"
   ]
  },
  {
   "cell_type": "code",
   "execution_count": 36,
   "metadata": {},
   "outputs": [],
   "source": [
    "y_d_mean_prba= rf_mean.predict_proba(X_d_mean_test)"
   ]
  },
  {
   "cell_type": "code",
   "execution_count": 37,
   "metadata": {},
   "outputs": [
    {
     "data": {
      "text/plain": [
       "0.710386210613915"
      ]
     },
     "execution_count": 37,
     "metadata": {},
     "output_type": "execute_result"
    }
   ],
   "source": [
    "roc_auc_score(y_d_mean_test, y_d_mean_prba[:,1])"
   ]
  },
  {
   "cell_type": "markdown",
   "metadata": {},
   "source": [
    "#### 最頻値で埋める"
   ]
  },
  {
   "cell_type": "code",
   "execution_count": 50,
   "metadata": {},
   "outputs": [],
   "source": [
    "#線形補間で埋める?\n",
    "#とりあえず最頻値、中央値で埋める\n",
    "df_gender_onehot_med = df_gender_onehot.fillna(df_gender_onehot.median())\n",
    "df_gender_onehot_mode = df_gender_onehot.fillna(df_gender_onehot.mode())"
   ]
  },
  {
   "cell_type": "code",
   "execution_count": 41,
   "metadata": {},
   "outputs": [],
   "source": [
    "X = df_gender_onehot_med.drop(\"TARGET\", axis = 1)\n",
    "y = df_gender_onehot_med.loc[:,'TARGET']\n",
    "X_d_med_train, X_d_med_test, y_d_med_train, y_d_med_test = train_test_split(X, y, test_size=0.25, stratify=df_gender_onehot_med[\"TARGET\"])"
   ]
  },
  {
   "cell_type": "code",
   "execution_count": 42,
   "metadata": {},
   "outputs": [],
   "source": [
    "rf_med = RandomForestClassifier(n_estimators=100, max_depth = 2, random_state = 0)"
   ]
  },
  {
   "cell_type": "code",
   "execution_count": 43,
   "metadata": {},
   "outputs": [
    {
     "data": {
      "text/plain": [
       "RandomForestClassifier(bootstrap=True, class_weight=None, criterion='gini',\n",
       "                       max_depth=2, max_features='auto', max_leaf_nodes=None,\n",
       "                       min_impurity_decrease=0.0, min_impurity_split=None,\n",
       "                       min_samples_leaf=1, min_samples_split=2,\n",
       "                       min_weight_fraction_leaf=0.0, n_estimators=100,\n",
       "                       n_jobs=None, oob_score=False, random_state=0, verbose=0,\n",
       "                       warm_start=False)"
      ]
     },
     "execution_count": 43,
     "metadata": {},
     "output_type": "execute_result"
    }
   ],
   "source": [
    "rf_med.fit(X_d_med_train, y_d_med_train)"
   ]
  },
  {
   "cell_type": "code",
   "execution_count": 44,
   "metadata": {},
   "outputs": [],
   "source": [
    "y_d_med_pred = rf_med.predict(X_d_med_test)"
   ]
  },
  {
   "cell_type": "code",
   "execution_count": 45,
   "metadata": {},
   "outputs": [],
   "source": [
    "y_d_med_prba= rf_med.predict_proba(X_d_med_test)"
   ]
  },
  {
   "cell_type": "code",
   "execution_count": 46,
   "metadata": {},
   "outputs": [
    {
     "data": {
      "text/plain": [
       "0.7150194044816737"
      ]
     },
     "execution_count": 46,
     "metadata": {},
     "output_type": "execute_result"
    }
   ],
   "source": [
    "roc_auc_score(y_d_med_test, y_d_med_prba[:,1])"
   ]
  },
  {
   "cell_type": "markdown",
   "metadata": {},
   "source": [
    "#### 中央値で埋める エラー解決できず実行できなかった・・"
   ]
  },
  {
   "cell_type": "code",
   "execution_count": 57,
   "metadata": {},
   "outputs": [],
   "source": [
    "X = df_gender_onehot_mode.drop(\"TARGET\", axis = 1)\n",
    "y = df_gender_onehot_mode.loc[:,'TARGET']"
   ]
  },
  {
   "cell_type": "code",
   "execution_count": 62,
   "metadata": {},
   "outputs": [],
   "source": [
    "#X.drop(X.columns[np.isnan(X).any()], axis=1)"
   ]
  },
  {
   "cell_type": "code",
   "execution_count": 59,
   "metadata": {},
   "outputs": [],
   "source": [
    "X_d_mode_train, X_d_mode_test, y_d_mode_train, y_d_mode_test = train_test_split(X, y, test_size=0.25, stratify=df_gender_onehot_mode[\"TARGET\"])"
   ]
  },
  {
   "cell_type": "code",
   "execution_count": 60,
   "metadata": {},
   "outputs": [],
   "source": [
    "rf_mode = RandomForestClassifier(n_estimators=100, max_depth = 2, random_state = 0)"
   ]
  },
  {
   "cell_type": "code",
   "execution_count": 61,
   "metadata": {},
   "outputs": [
    {
     "ename": "ValueError",
     "evalue": "Input contains NaN, infinity or a value too large for dtype('float32').",
     "output_type": "error",
     "traceback": [
      "\u001b[0;31m---------------------------------------------------------------------------\u001b[0m",
      "\u001b[0;31mValueError\u001b[0m                                Traceback (most recent call last)",
      "\u001b[0;32m<ipython-input-61-13ce029e2d52>\u001b[0m in \u001b[0;36m<module>\u001b[0;34m\u001b[0m\n\u001b[0;32m----> 1\u001b[0;31m \u001b[0mrf_mode\u001b[0m\u001b[0;34m.\u001b[0m\u001b[0mfit\u001b[0m\u001b[0;34m(\u001b[0m\u001b[0mX_d_mode_train\u001b[0m\u001b[0;34m,\u001b[0m \u001b[0my_d_mode_train\u001b[0m\u001b[0;34m)\u001b[0m\u001b[0;34m\u001b[0m\u001b[0;34m\u001b[0m\u001b[0m\n\u001b[0m",
      "\u001b[0;32m//anaconda3/lib/python3.7/site-packages/sklearn/ensemble/forest.py\u001b[0m in \u001b[0;36mfit\u001b[0;34m(self, X, y, sample_weight)\u001b[0m\n\u001b[1;32m    247\u001b[0m \u001b[0;34m\u001b[0m\u001b[0m\n\u001b[1;32m    248\u001b[0m         \u001b[0;31m# Validate or convert input data\u001b[0m\u001b[0;34m\u001b[0m\u001b[0;34m\u001b[0m\u001b[0;34m\u001b[0m\u001b[0m\n\u001b[0;32m--> 249\u001b[0;31m         \u001b[0mX\u001b[0m \u001b[0;34m=\u001b[0m \u001b[0mcheck_array\u001b[0m\u001b[0;34m(\u001b[0m\u001b[0mX\u001b[0m\u001b[0;34m,\u001b[0m \u001b[0maccept_sparse\u001b[0m\u001b[0;34m=\u001b[0m\u001b[0;34m\"csc\"\u001b[0m\u001b[0;34m,\u001b[0m \u001b[0mdtype\u001b[0m\u001b[0;34m=\u001b[0m\u001b[0mDTYPE\u001b[0m\u001b[0;34m)\u001b[0m\u001b[0;34m\u001b[0m\u001b[0;34m\u001b[0m\u001b[0m\n\u001b[0m\u001b[1;32m    250\u001b[0m         \u001b[0my\u001b[0m \u001b[0;34m=\u001b[0m \u001b[0mcheck_array\u001b[0m\u001b[0;34m(\u001b[0m\u001b[0my\u001b[0m\u001b[0;34m,\u001b[0m \u001b[0maccept_sparse\u001b[0m\u001b[0;34m=\u001b[0m\u001b[0;34m'csc'\u001b[0m\u001b[0;34m,\u001b[0m \u001b[0mensure_2d\u001b[0m\u001b[0;34m=\u001b[0m\u001b[0;32mFalse\u001b[0m\u001b[0;34m,\u001b[0m \u001b[0mdtype\u001b[0m\u001b[0;34m=\u001b[0m\u001b[0;32mNone\u001b[0m\u001b[0;34m)\u001b[0m\u001b[0;34m\u001b[0m\u001b[0;34m\u001b[0m\u001b[0m\n\u001b[1;32m    251\u001b[0m         \u001b[0;32mif\u001b[0m \u001b[0msample_weight\u001b[0m \u001b[0;32mis\u001b[0m \u001b[0;32mnot\u001b[0m \u001b[0;32mNone\u001b[0m\u001b[0;34m:\u001b[0m\u001b[0;34m\u001b[0m\u001b[0;34m\u001b[0m\u001b[0m\n",
      "\u001b[0;32m//anaconda3/lib/python3.7/site-packages/sklearn/utils/validation.py\u001b[0m in \u001b[0;36mcheck_array\u001b[0;34m(array, accept_sparse, accept_large_sparse, dtype, order, copy, force_all_finite, ensure_2d, allow_nd, ensure_min_samples, ensure_min_features, warn_on_dtype, estimator)\u001b[0m\n\u001b[1;32m    540\u001b[0m         \u001b[0;32mif\u001b[0m \u001b[0mforce_all_finite\u001b[0m\u001b[0;34m:\u001b[0m\u001b[0;34m\u001b[0m\u001b[0;34m\u001b[0m\u001b[0m\n\u001b[1;32m    541\u001b[0m             _assert_all_finite(array,\n\u001b[0;32m--> 542\u001b[0;31m                                allow_nan=force_all_finite == 'allow-nan')\n\u001b[0m\u001b[1;32m    543\u001b[0m \u001b[0;34m\u001b[0m\u001b[0m\n\u001b[1;32m    544\u001b[0m     \u001b[0;32mif\u001b[0m \u001b[0mensure_min_samples\u001b[0m \u001b[0;34m>\u001b[0m \u001b[0;36m0\u001b[0m\u001b[0;34m:\u001b[0m\u001b[0;34m\u001b[0m\u001b[0;34m\u001b[0m\u001b[0m\n",
      "\u001b[0;32m//anaconda3/lib/python3.7/site-packages/sklearn/utils/validation.py\u001b[0m in \u001b[0;36m_assert_all_finite\u001b[0;34m(X, allow_nan)\u001b[0m\n\u001b[1;32m     54\u001b[0m                 not allow_nan and not np.isfinite(X).all()):\n\u001b[1;32m     55\u001b[0m             \u001b[0mtype_err\u001b[0m \u001b[0;34m=\u001b[0m \u001b[0;34m'infinity'\u001b[0m \u001b[0;32mif\u001b[0m \u001b[0mallow_nan\u001b[0m \u001b[0;32melse\u001b[0m \u001b[0;34m'NaN, infinity'\u001b[0m\u001b[0;34m\u001b[0m\u001b[0;34m\u001b[0m\u001b[0m\n\u001b[0;32m---> 56\u001b[0;31m             \u001b[0;32mraise\u001b[0m \u001b[0mValueError\u001b[0m\u001b[0;34m(\u001b[0m\u001b[0mmsg_err\u001b[0m\u001b[0;34m.\u001b[0m\u001b[0mformat\u001b[0m\u001b[0;34m(\u001b[0m\u001b[0mtype_err\u001b[0m\u001b[0;34m,\u001b[0m \u001b[0mX\u001b[0m\u001b[0;34m.\u001b[0m\u001b[0mdtype\u001b[0m\u001b[0;34m)\u001b[0m\u001b[0;34m)\u001b[0m\u001b[0;34m\u001b[0m\u001b[0;34m\u001b[0m\u001b[0m\n\u001b[0m\u001b[1;32m     57\u001b[0m     \u001b[0;31m# for object dtype data, we only check for NaNs (GH-13254)\u001b[0m\u001b[0;34m\u001b[0m\u001b[0;34m\u001b[0m\u001b[0;34m\u001b[0m\u001b[0m\n\u001b[1;32m     58\u001b[0m     \u001b[0;32melif\u001b[0m \u001b[0mX\u001b[0m\u001b[0;34m.\u001b[0m\u001b[0mdtype\u001b[0m \u001b[0;34m==\u001b[0m \u001b[0mnp\u001b[0m\u001b[0;34m.\u001b[0m\u001b[0mdtype\u001b[0m\u001b[0;34m(\u001b[0m\u001b[0;34m'object'\u001b[0m\u001b[0;34m)\u001b[0m \u001b[0;32mand\u001b[0m \u001b[0;32mnot\u001b[0m \u001b[0mallow_nan\u001b[0m\u001b[0;34m:\u001b[0m\u001b[0;34m\u001b[0m\u001b[0;34m\u001b[0m\u001b[0m\n",
      "\u001b[0;31mValueError\u001b[0m: Input contains NaN, infinity or a value too large for dtype('float32')."
     ]
    }
   ],
   "source": [
    "rf_mode.fit(X_d_mode_train, y_d_mode_train)"
   ]
  },
  {
   "cell_type": "code",
   "execution_count": null,
   "metadata": {},
   "outputs": [],
   "source": [
    "y_d_mode_pred = rf_mode.predict(X_d_mode_test)"
   ]
  },
  {
   "cell_type": "code",
   "execution_count": null,
   "metadata": {},
   "outputs": [],
   "source": [
    "y_d_mode_prba= rf_mode.predict_proba(X_d_mode_test)"
   ]
  },
  {
   "cell_type": "code",
   "execution_count": null,
   "metadata": {},
   "outputs": [],
   "source": [
    "roc_auc_score(y_d_mode_test, y_d_mode_prba[:,1])"
   ]
  },
  {
   "cell_type": "code",
   "execution_count": 56,
   "metadata": {},
   "outputs": [
    {
     "name": "stdout",
     "output_type": "stream",
     "text": [
      "SK_ID_CURR:0\n",
      "TARGET:0\n",
      "NAME_CONTRACT_TYPE_1:0\n",
      "NAME_CONTRACT_TYPE_2:0\n",
      "CODE_GENDER_1:0\n",
      "CODE_GENDER_2:0\n",
      "CODE_GENDER_3:0\n",
      "FLAG_OWN_CAR_1:0\n",
      "FLAG_OWN_CAR_2:0\n",
      "FLAG_OWN_REALTY_1:0\n",
      "FLAG_OWN_REALTY_2:0\n",
      "CNT_CHILDREN_1:0\n",
      "CNT_CHILDREN_2:0\n",
      "CNT_CHILDREN_3:0\n",
      "CNT_CHILDREN_4:0\n",
      "CNT_CHILDREN_5:0\n",
      "CNT_CHILDREN_6:0\n",
      "CNT_CHILDREN_7:0\n",
      "CNT_CHILDREN_8:0\n",
      "CNT_CHILDREN_9:0\n",
      "CNT_CHILDREN_10:0\n",
      "CNT_CHILDREN_11:0\n",
      "CNT_CHILDREN_12:0\n",
      "CNT_CHILDREN_13:0\n",
      "CNT_CHILDREN_14:0\n",
      "CNT_CHILDREN_15:0\n",
      "AMT_INCOME_TOTAL:0\n",
      "AMT_CREDIT:0\n",
      "AMT_ANNUITY:0\n",
      "AMT_GOODS_PRICE:0\n",
      "NAME_TYPE_SUITE_1:0\n",
      "NAME_TYPE_SUITE_2:0\n",
      "NAME_TYPE_SUITE_3:0\n",
      "NAME_TYPE_SUITE_4:0\n",
      "NAME_TYPE_SUITE_5:0\n",
      "NAME_TYPE_SUITE_6:0\n",
      "NAME_TYPE_SUITE_7:0\n",
      "NAME_TYPE_SUITE_8:0\n",
      "NAME_INCOME_TYPE_1:0\n",
      "NAME_INCOME_TYPE_2:0\n",
      "NAME_INCOME_TYPE_3:0\n",
      "NAME_INCOME_TYPE_4:0\n",
      "NAME_INCOME_TYPE_5:0\n",
      "NAME_INCOME_TYPE_6:0\n",
      "NAME_INCOME_TYPE_7:0\n",
      "NAME_INCOME_TYPE_8:0\n",
      "NAME_EDUCATION_TYPE_1:0\n",
      "NAME_EDUCATION_TYPE_2:0\n",
      "NAME_EDUCATION_TYPE_3:0\n",
      "NAME_EDUCATION_TYPE_4:0\n",
      "NAME_EDUCATION_TYPE_5:0\n",
      "NAME_FAMILY_STATUS_1:0\n",
      "NAME_FAMILY_STATUS_2:0\n",
      "NAME_FAMILY_STATUS_3:0\n",
      "NAME_FAMILY_STATUS_4:0\n",
      "NAME_FAMILY_STATUS_5:0\n",
      "NAME_FAMILY_STATUS_6:0\n",
      "NAME_HOUSING_TYPE_1:0\n",
      "NAME_HOUSING_TYPE_2:0\n",
      "NAME_HOUSING_TYPE_3:0\n",
      "NAME_HOUSING_TYPE_4:0\n",
      "NAME_HOUSING_TYPE_5:0\n",
      "NAME_HOUSING_TYPE_6:0\n",
      "REGION_POPULATION_RELATIVE:0\n",
      "DAYS_BIRTH:0\n",
      "DAYS_EMPLOYED:0\n",
      "DAYS_REGISTRATION:0\n",
      "DAYS_ID_PUBLISH:0\n",
      "OWN_CAR_AGE:0\n",
      "FLAG_MOBIL:0\n",
      "FLAG_EMP_PHONE:0\n",
      "FLAG_WORK_PHONE:0\n",
      "FLAG_CONT_MOBILE:0\n",
      "FLAG_PHONE:0\n",
      "FLAG_EMAIL:0\n",
      "OCCUPATION_TYPE_1:0\n",
      "OCCUPATION_TYPE_2:0\n",
      "OCCUPATION_TYPE_3:0\n",
      "OCCUPATION_TYPE_4:0\n",
      "OCCUPATION_TYPE_5:0\n",
      "OCCUPATION_TYPE_6:0\n",
      "OCCUPATION_TYPE_7:0\n",
      "OCCUPATION_TYPE_8:0\n",
      "OCCUPATION_TYPE_9:0\n",
      "OCCUPATION_TYPE_10:0\n",
      "OCCUPATION_TYPE_11:0\n",
      "OCCUPATION_TYPE_12:0\n",
      "OCCUPATION_TYPE_13:0\n",
      "OCCUPATION_TYPE_14:0\n",
      "OCCUPATION_TYPE_15:0\n",
      "OCCUPATION_TYPE_16:0\n",
      "OCCUPATION_TYPE_17:0\n",
      "OCCUPATION_TYPE_18:0\n",
      "OCCUPATION_TYPE_19:0\n",
      "CNT_FAM_MEMBERS:0\n",
      "REGION_RATING_CLIENT:0\n",
      "REGION_RATING_CLIENT_W_CITY:0\n",
      "WEEKDAY_APPR_PROCESS_START_1:0\n",
      "WEEKDAY_APPR_PROCESS_START_2:0\n",
      "WEEKDAY_APPR_PROCESS_START_3:0\n",
      "WEEKDAY_APPR_PROCESS_START_4:0\n",
      "WEEKDAY_APPR_PROCESS_START_5:0\n",
      "WEEKDAY_APPR_PROCESS_START_6:0\n",
      "WEEKDAY_APPR_PROCESS_START_7:0\n",
      "HOUR_APPR_PROCESS_START:0\n",
      "REG_REGION_NOT_LIVE_REGION:0\n",
      "REG_REGION_NOT_WORK_REGION:0\n",
      "LIVE_REGION_NOT_WORK_REGION:0\n",
      "REG_CITY_NOT_LIVE_CITY:0\n",
      "REG_CITY_NOT_WORK_CITY:0\n",
      "LIVE_CITY_NOT_WORK_CITY:0\n",
      "ORGANIZATION_TYPE_1:0\n",
      "ORGANIZATION_TYPE_2:0\n",
      "ORGANIZATION_TYPE_3:0\n",
      "ORGANIZATION_TYPE_4:0\n",
      "ORGANIZATION_TYPE_5:0\n",
      "ORGANIZATION_TYPE_6:0\n",
      "ORGANIZATION_TYPE_7:0\n",
      "ORGANIZATION_TYPE_8:0\n",
      "ORGANIZATION_TYPE_9:0\n",
      "ORGANIZATION_TYPE_10:0\n",
      "ORGANIZATION_TYPE_11:0\n",
      "ORGANIZATION_TYPE_12:0\n",
      "ORGANIZATION_TYPE_13:0\n",
      "ORGANIZATION_TYPE_14:0\n",
      "ORGANIZATION_TYPE_15:0\n",
      "ORGANIZATION_TYPE_16:0\n",
      "ORGANIZATION_TYPE_17:0\n",
      "ORGANIZATION_TYPE_18:0\n",
      "ORGANIZATION_TYPE_19:0\n",
      "ORGANIZATION_TYPE_20:0\n",
      "ORGANIZATION_TYPE_21:0\n",
      "ORGANIZATION_TYPE_22:0\n",
      "ORGANIZATION_TYPE_23:0\n",
      "ORGANIZATION_TYPE_24:0\n",
      "ORGANIZATION_TYPE_25:0\n",
      "ORGANIZATION_TYPE_26:0\n",
      "ORGANIZATION_TYPE_27:0\n",
      "ORGANIZATION_TYPE_28:0\n",
      "ORGANIZATION_TYPE_29:0\n",
      "ORGANIZATION_TYPE_30:0\n",
      "ORGANIZATION_TYPE_31:0\n",
      "ORGANIZATION_TYPE_32:0\n",
      "ORGANIZATION_TYPE_33:0\n",
      "ORGANIZATION_TYPE_34:0\n",
      "ORGANIZATION_TYPE_35:0\n",
      "ORGANIZATION_TYPE_36:0\n",
      "ORGANIZATION_TYPE_37:0\n",
      "ORGANIZATION_TYPE_38:0\n",
      "ORGANIZATION_TYPE_39:0\n",
      "ORGANIZATION_TYPE_40:0\n",
      "ORGANIZATION_TYPE_41:0\n",
      "ORGANIZATION_TYPE_42:0\n",
      "ORGANIZATION_TYPE_43:0\n",
      "ORGANIZATION_TYPE_44:0\n",
      "ORGANIZATION_TYPE_45:0\n",
      "ORGANIZATION_TYPE_46:0\n",
      "ORGANIZATION_TYPE_47:0\n",
      "ORGANIZATION_TYPE_48:0\n",
      "ORGANIZATION_TYPE_49:0\n",
      "ORGANIZATION_TYPE_50:0\n",
      "ORGANIZATION_TYPE_51:0\n",
      "ORGANIZATION_TYPE_52:0\n",
      "ORGANIZATION_TYPE_53:0\n",
      "ORGANIZATION_TYPE_54:0\n",
      "ORGANIZATION_TYPE_55:0\n",
      "ORGANIZATION_TYPE_56:0\n",
      "ORGANIZATION_TYPE_57:0\n",
      "ORGANIZATION_TYPE_58:0\n",
      "EXT_SOURCE_1:0\n",
      "EXT_SOURCE_2:0\n",
      "EXT_SOURCE_3:0\n",
      "APARTMENTS_AVG:0\n",
      "BASEMENTAREA_AVG:0\n",
      "YEARS_BEGINEXPLUATATION_AVG:0\n",
      "YEARS_BUILD_AVG:0\n",
      "COMMONAREA_AVG:0\n",
      "ELEVATORS_AVG:0\n",
      "ENTRANCES_AVG:0\n",
      "FLOORSMAX_AVG:0\n",
      "FLOORSMIN_AVG:0\n",
      "LANDAREA_AVG:0\n",
      "LIVINGAPARTMENTS_AVG:0\n",
      "LIVINGAREA_AVG:0\n",
      "NONLIVINGAPARTMENTS_AVG:0\n",
      "NONLIVINGAREA_AVG:0\n",
      "APARTMENTS_MODE:0\n",
      "BASEMENTAREA_MODE:0\n",
      "YEARS_BEGINEXPLUATATION_MODE:0\n",
      "YEARS_BUILD_MODE:0\n",
      "COMMONAREA_MODE:0\n",
      "ELEVATORS_MODE:0\n",
      "ENTRANCES_MODE:0\n",
      "FLOORSMAX_MODE:0\n",
      "FLOORSMIN_MODE:0\n",
      "LANDAREA_MODE:0\n",
      "LIVINGAPARTMENTS_MODE:0\n",
      "LIVINGAREA_MODE:0\n",
      "NONLIVINGAPARTMENTS_MODE:0\n",
      "NONLIVINGAREA_MODE:0\n",
      "APARTMENTS_MEDI:0\n",
      "BASEMENTAREA_MEDI:0\n",
      "YEARS_BEGINEXPLUATATION_MEDI:0\n",
      "YEARS_BUILD_MEDI:0\n",
      "COMMONAREA_MEDI:0\n",
      "ELEVATORS_MEDI:0\n",
      "ENTRANCES_MEDI:0\n",
      "FLOORSMAX_MEDI:0\n",
      "FLOORSMIN_MEDI:0\n",
      "LANDAREA_MEDI:0\n",
      "LIVINGAPARTMENTS_MEDI:0\n",
      "LIVINGAREA_MEDI:0\n",
      "NONLIVINGAPARTMENTS_MEDI:0\n",
      "NONLIVINGAREA_MEDI:0\n",
      "FONDKAPREMONT_MODE_1:0\n",
      "FONDKAPREMONT_MODE_2:0\n",
      "FONDKAPREMONT_MODE_3:0\n",
      "FONDKAPREMONT_MODE_4:0\n",
      "FONDKAPREMONT_MODE_5:0\n",
      "HOUSETYPE_MODE_1:0\n",
      "HOUSETYPE_MODE_2:0\n",
      "HOUSETYPE_MODE_3:0\n",
      "HOUSETYPE_MODE_4:0\n",
      "TOTALAREA_MODE:0\n",
      "WALLSMATERIAL_MODE_1:0\n",
      "WALLSMATERIAL_MODE_2:0\n",
      "WALLSMATERIAL_MODE_3:0\n",
      "WALLSMATERIAL_MODE_4:0\n",
      "WALLSMATERIAL_MODE_5:0\n",
      "WALLSMATERIAL_MODE_6:0\n",
      "WALLSMATERIAL_MODE_7:0\n",
      "WALLSMATERIAL_MODE_8:0\n",
      "EMERGENCYSTATE_MODE_1:0\n",
      "EMERGENCYSTATE_MODE_2:0\n",
      "EMERGENCYSTATE_MODE_3:0\n",
      "OBS_30_CNT_SOCIAL_CIRCLE:0\n",
      "DEF_30_CNT_SOCIAL_CIRCLE:0\n",
      "OBS_60_CNT_SOCIAL_CIRCLE:0\n",
      "DEF_60_CNT_SOCIAL_CIRCLE:0\n",
      "DAYS_LAST_PHONE_CHANGE:0\n",
      "FLAG_DOCUMENT_2:0\n",
      "FLAG_DOCUMENT_3:0\n",
      "FLAG_DOCUMENT_4:0\n",
      "FLAG_DOCUMENT_5:0\n",
      "FLAG_DOCUMENT_6:0\n",
      "FLAG_DOCUMENT_7:0\n",
      "FLAG_DOCUMENT_8:0\n",
      "FLAG_DOCUMENT_9:0\n",
      "FLAG_DOCUMENT_10:0\n",
      "FLAG_DOCUMENT_11:0\n",
      "FLAG_DOCUMENT_12:0\n",
      "FLAG_DOCUMENT_13:0\n",
      "FLAG_DOCUMENT_14:0\n",
      "FLAG_DOCUMENT_15:0\n",
      "FLAG_DOCUMENT_16:0\n",
      "FLAG_DOCUMENT_17:0\n",
      "FLAG_DOCUMENT_18:0\n",
      "FLAG_DOCUMENT_19:0\n",
      "FLAG_DOCUMENT_20:0\n",
      "FLAG_DOCUMENT_21:0\n",
      "AMT_REQ_CREDIT_BUREAU_HOUR:0\n",
      "AMT_REQ_CREDIT_BUREAU_DAY:0\n",
      "AMT_REQ_CREDIT_BUREAU_WEEK:0\n",
      "AMT_REQ_CREDIT_BUREAU_MON:0\n",
      "AMT_REQ_CREDIT_BUREAU_QRT:0\n",
      "AMT_REQ_CREDIT_BUREAU_YEAR:0\n"
     ]
    }
   ],
   "source": [
    "for i in df_gender_onehot_med.columns:\n",
    "    print(i, df_gender_onehot_med[i].isnull().sum(), sep = \":\")"
   ]
  },
  {
   "cell_type": "markdown",
   "metadata": {},
   "source": [
    "#### 結論　今回のコンペについては欠損の埋め方でそれほど精度は変わらなそう"
   ]
  }
 ],
 "metadata": {
  "kernelspec": {
   "display_name": "Python 3",
   "language": "python",
   "name": "python3"
  },
  "language_info": {
   "codemirror_mode": {
    "name": "ipython",
    "version": 3
   },
   "file_extension": ".py",
   "mimetype": "text/x-python",
   "name": "python",
   "nbconvert_exporter": "python",
   "pygments_lexer": "ipython3",
   "version": "3.7.3"
  },
  "toc": {
   "base_numbering": 1,
   "nav_menu": {},
   "number_sections": true,
   "sideBar": true,
   "skip_h1_title": false,
   "title_cell": "Table of Contents",
   "title_sidebar": "Contents",
   "toc_cell": false,
   "toc_position": {
    "height": "calc(100% - 180px)",
    "left": "10px",
    "top": "150px",
    "width": "225.88233947753906px"
   },
   "toc_section_display": true,
   "toc_window_display": true
  },
  "varInspector": {
   "cols": {
    "lenName": 16,
    "lenType": 16,
    "lenVar": 40
   },
   "kernels_config": {
    "python": {
     "delete_cmd_postfix": "",
     "delete_cmd_prefix": "del ",
     "library": "var_list.py",
     "varRefreshCmd": "print(var_dic_list())"
    },
    "r": {
     "delete_cmd_postfix": ") ",
     "delete_cmd_prefix": "rm(",
     "library": "var_list.r",
     "varRefreshCmd": "cat(var_dic_list()) "
    }
   },
   "types_to_exclude": [
    "module",
    "function",
    "builtin_function_or_method",
    "instance",
    "_Feature"
   ],
   "window_display": false
  }
 },
 "nbformat": 4,
 "nbformat_minor": 2
}
