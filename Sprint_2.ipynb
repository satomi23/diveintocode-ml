{
 "cells": [
  {
   "cell_type": "markdown",
   "metadata": {},
   "source": [
    "# Sprint 機械学習スクラッチ"
   ]
  },
  {
   "cell_type": "markdown",
   "metadata": {},
   "source": [
    "## 【問題1】train_test_splitのスクラッチ"
   ]
  },
  {
   "cell_type": "code",
   "execution_count": 53,
   "metadata": {},
   "outputs": [],
   "source": [
    "def scratch_train_test_split(X, y, train_size=0.8,):\n",
    "    \"\"\"\n",
    "    検証用データを分割する。\n",
    "\n",
    "    Parameters\n",
    "    ----------\n",
    "    X : 次の形のndarray, shape (n_samples, n_features)\n",
    "      学習データ\n",
    "    y : 次の形のndarray, shape (n_samples, )\n",
    "      正解値\n",
    "    train_size : float (0<train_size<1)\n",
    "      何割をtrainとするか指定\n",
    "\n",
    "    Returns\n",
    "    ----------\n",
    "    X_train : 次の形のndarray, shape (n_samples, n_features)\n",
    "      学習データ\n",
    "    X_test : 次の形のndarray, shape (n_samples, n_features)\n",
    "      検証データ\n",
    "    y_train : 次の形のndarray, shape (n_samples, )\n",
    "      学習データの正解値\n",
    "    y_test : 次の形のndarray, shape (n_samples, )\n",
    "      検証データの正解値\n",
    "    \"\"\"\n",
    "    #ここにコードを書く\n",
    "    n_samples = X.shape[0]\n",
    "    n_test = np.round((1-train_size) * n_samples).astype(int)\n",
    "    n_train= n_samples - n_test\n",
    "    \n",
    "    rng = np.random.RandomState(seed=None)\n",
    "    permutation = rng.permutation(n_samples)\n",
    "    ind_test = permutation[:n_test]\n",
    "    ind_train = permutation[n_test:(n_test + n_train)]\n",
    "\n",
    "    X_train = X[ind_train]\n",
    "    X_test = X[ind_test]\n",
    "    y_train = y[ind_train]\n",
    "    y_test = y[ind_test]\n",
    "\n",
    "        \n",
    "    pass\n",
    "\n",
    "    return X_train, X_test, y_train, y_test"
   ]
  },
  {
   "cell_type": "markdown",
   "metadata": {},
   "source": [
    "    def _iter_indices(self, X, y=None, groups=None):\n",
    "        n_samples = _num_samples(X)\n",
    "        n_train, n_test = _validate_shuffle_split(\n",
    "            n_samples, self.test_size, self.train_size,\n",
    "            default_test_size=self._default_test_size)\n",
    "\n",
    "        rng = check_random_state(self.random_state)\n",
    "        for i in range(self.n_splits):\n",
    "            # random partition\n",
    "            permutation = rng.permutation(n_samples)\n",
    "            ind_test = permutation[:n_test]\n",
    "            ind_train = permutation[n_test:(n_test + n_train)]\n",
    "            yield ind_train, ind_test"
   ]
  },
  {
   "cell_type": "markdown",
   "metadata": {},
   "source": [
    "### train_test_splitのソースの中\n",
    "    if shuffle is False:\n",
    "        if stratify is not None:\n",
    "            raise ValueError(\n",
    "                \"Stratified train/test split is not implemented for \"\n",
    "                \"shuffle=False\")\n",
    "\n",
    "        train = np.arange(n_train)\n",
    "        test = np.arange(n_train, n_train + n_test)\n",
    "\n",
    "    else:\n",
    "        if stratify is not None:\n",
    "            CVClass = StratifiedShuffleSplit\n",
    "        else:\n",
    "            CVClass = ShuffleSplit\n",
    "\n",
    "        cv = CVClass(test_size=n_test,\n",
    "                     train_size=n_train,\n",
    "                     random_state=random_state)\n",
    "\n",
    "        train, test = next(cv.split(X=arrays[0], y=stratify))\n",
    "\n",
    "    return list(chain.from_iterable((safe_indexing(a, train),\n",
    "                                     safe_indexing(a, test)) for a in arrays))"
   ]
  },
  {
   "cell_type": "markdown",
   "metadata": {},
   "source": [
    "#### ShuffleSplitの中\n",
    "　def __init__(self, n_splits=10, test_size=None, train_size=None,\n",
    "                 random_state=None):\n",
    "        super().__init__(\n",
    "            n_splits=n_splits,\n",
    "            test_size=test_size,\n",
    "            train_size=train_size,\n",
    "            random_state=random_state)\n",
    "        self._default_test_size = 0.1\n",
    "\n",
    "    def _iter_indices(self, X, y=None, groups=None):\n",
    "        n_samples = _num_samples(X)\n",
    "        n_train, n_test = _validate_shuffle_split(\n",
    "            n_samples, self.test_size, self.train_size,\n",
    "            default_test_size=self._default_test_size)\n",
    "\n",
    "        rng = check_random_state(self.random_state)\n",
    "        for i in range(self.n_splits):\n",
    "            # random partition\n",
    "            permutation = rng.permutation(n_samples)\n",
    "            ind_test = permutation[:n_test]\n",
    "            ind_train = permutation[n_test:(n_test + n_train)]\n",
    "            yield ind_train, ind_test"
   ]
  },
  {
   "cell_type": "code",
   "execution_count": null,
   "metadata": {},
   "outputs": [],
   "source": [
    "#試してみる"
   ]
  },
  {
   "cell_type": "code",
   "execution_count": 2,
   "metadata": {},
   "outputs": [],
   "source": [
    "import numpy as np\n",
    "X = np.array([[-0.44699 , -2.8073  ],[-1.4621  , -2.4586  ],\n",
    "       [ 0.10645 ,  1.9242  ],[-3.5944  , -4.0112  ],\n",
    "       [-0.9888  ,  4.5718  ],[-3.1625  , -3.9606  ],\n",
    "       [ 0.56421 ,  0.72888 ],[-0.60216 ,  8.4636  ],\n",
    "       [-0.61251 , -0.75345 ],[-0.73535 , -2.2718  ],\n",
    "       [-0.80647 , -2.2135  ],[ 0.86291 ,  2.3946  ],\n",
    "       [-3.1108  ,  0.15394 ],[-2.9362  ,  2.5462  ],\n",
    "       [-0.57242 , -2.9915  ],[ 1.4771  ,  3.4896  ],\n",
    "       [ 0.58619 ,  0.37158 ],[ 0.6017  ,  4.3439  ],\n",
    "       [-2.1086  ,  8.3428  ],[-4.1013  , -4.353   ],\n",
    "       [-1.9948  , -1.3927  ],[ 0.35084 , -0.031994],\n",
    "       [ 0.96765 ,  7.8929  ],[-1.281   , 15.6824  ],\n",
    "       [ 0.96765 , 10.083   ],[ 1.3763  ,  1.3347  ],\n",
    "       [-2.234   , -2.5323  ],[-2.9452  , -1.8219  ],\n",
    "       [ 0.14654 , -0.28733 ],[ 0.5461  ,  5.8245  ],\n",
    "       [-0.65259 ,  9.3444  ],[ 0.59912 ,  5.3524  ],\n",
    "       [ 0.50214 , -0.31818 ],[-3.0603  , -3.6461  ],\n",
    "       [-6.6797  ,  0.67661 ],[-2.353   , -0.72261 ],\n",
    "       [ 1.1319  ,  2.4023  ],[-0.12243 ,  9.0162  ],\n",
    "       [-2.5677  , 13.1779  ],[ 0.057313,  5.4681  ]])\n",
    "y = np.array([0, 0, 0, 0, 0, 0, 0, 0, 0, 0, 0, 0, 0, 0, 0, 0, 0, 0, 0, 0, 1, 1,\n",
    "       1, 1, 1, 1, 1, 1, 1, 1, 1, 1, 1, 1, 1, 1, 1, 1, 1, 1])"
   ]
  },
  {
   "cell_type": "code",
   "execution_count": 3,
   "metadata": {},
   "outputs": [],
   "source": [
    "from sklearn.model_selection import train_test_split"
   ]
  },
  {
   "cell_type": "code",
   "execution_count": 56,
   "metadata": {},
   "outputs": [],
   "source": [
    "X_train, X_test, y_train, y_test = train_test_split(X, y, train_size=0.8,)"
   ]
  },
  {
   "cell_type": "code",
   "execution_count": 54,
   "metadata": {},
   "outputs": [],
   "source": [
    "X_train_1, X_test_1, y_train_1, y_test_1 = scratch_train_test_split(X, y, train_size=0.8,)"
   ]
  },
  {
   "cell_type": "code",
   "execution_count": 57,
   "metadata": {},
   "outputs": [
    {
     "name": "stdout",
     "output_type": "stream",
     "text": [
      "[0 1 1 0 0 0 0 0 1 1 0 0 1 1 1 0 1 0 0 1 1 0 0 0 1 1 1 1 1 0 1 0]\n"
     ]
    }
   ],
   "source": [
    "print(y_train)"
   ]
  },
  {
   "cell_type": "code",
   "execution_count": 55,
   "metadata": {},
   "outputs": [
    {
     "name": "stdout",
     "output_type": "stream",
     "text": [
      "[0 0 0 1 1 0 0 1 0 0 1 1 1 1 1 1 0 0 1 1 1 1 1 1 0 0 0 0 1 0 0 0]\n"
     ]
    }
   ],
   "source": [
    "print(y_train_1)"
   ]
  },
  {
   "cell_type": "code",
   "execution_count": 28,
   "metadata": {},
   "outputs": [
    {
     "data": {
      "text/plain": [
       "40"
      ]
     },
     "execution_count": 28,
     "metadata": {},
     "output_type": "execute_result"
    }
   ],
   "source": [
    "X.shape[0]"
   ]
  },
  {
   "cell_type": "code",
   "execution_count": 40,
   "metadata": {},
   "outputs": [],
   "source": [
    "train_size = 0.8\n",
    "n_samples = X.shape[0]\n",
    "n_test = np.floor((1-train_size) * n_samples).astype(int)\n",
    "n_train= n_samples - n_test"
   ]
  },
  {
   "cell_type": "code",
   "execution_count": 32,
   "metadata": {},
   "outputs": [
    {
     "name": "stdout",
     "output_type": "stream",
     "text": [
      "40\n"
     ]
    }
   ],
   "source": [
    "print(n_samples)"
   ]
  },
  {
   "cell_type": "code",
   "execution_count": 41,
   "metadata": {},
   "outputs": [],
   "source": [
    "rng = np.random.RandomState(seed=None)\n",
    "permutation = rng.permutation(n_samples)\n",
    "ind_test = permutation[:n_test]\n",
    "ind_train = permutation[n_test:(n_test + n_train)]"
   ]
  },
  {
   "cell_type": "code",
   "execution_count": 44,
   "metadata": {},
   "outputs": [
    {
     "name": "stdout",
     "output_type": "stream",
     "text": [
      "<mtrand.RandomState object at 0x1a14caa558>\n"
     ]
    }
   ],
   "source": [
    "print(rng)"
   ]
  },
  {
   "cell_type": "code",
   "execution_count": 49,
   "metadata": {},
   "outputs": [],
   "source": [
    "#np.random.permutationでも書き換えられそう\n",
    "a=np.random.permutation(n_samples)\n",
    "b=rng.permutation(n_samples)"
   ]
  },
  {
   "cell_type": "markdown",
   "metadata": {},
   "source": [
    "備忘とメモ：  \n",
    "RandomState  \n",
    "https://docs.scipy.org/doc/numpy-1.15.0/reference/generated/numpy.random.RandomState.html\n",
    "\n",
    "random.permutation  \n",
    "https://docs.scipy.org/doc/numpy-1.14.0/reference/generated/numpy.random.permutation.html  \n",
    "\n",
    "参考:https://qiita.com/kztsh/items/5afae48b2c2fd7dc20a5  "
   ]
  },
  {
   "cell_type": "code",
   "execution_count": 52,
   "metadata": {},
   "outputs": [
    {
     "name": "stdout",
     "output_type": "stream",
     "text": [
      "[24 15 25 33 28 23  0 20 39 30 27 37  4 13 10  1  5  9 36 32  6 38 12  7\n",
      " 17 18  8 11 19 14 16 26 22 34 21 35  3 31 29  2]\n",
      "[26 35  4 31 29 17 39 28 37 30  2 10 11  5 36 38 19 25 32 22 16 27  6 15\n",
      "  7 18 14 24  9 21 23  1 33 12  8  0 13  3 20 34]\n"
     ]
    }
   ],
   "source": [
    "print(a)\n",
    "print(b)"
   ]
  },
  {
   "cell_type": "markdown",
   "metadata": {},
   "source": [
    "## 【問題2】 分類問題を解くコードの作成"
   ]
  },
  {
   "cell_type": "code",
   "execution_count": 169,
   "metadata": {},
   "outputs": [],
   "source": [
    "##アイリスのデータセット\n",
    "from sklearn.datasets import load_iris\n",
    "a = load_iris()\n",
    "import pandas as pd\n",
    "X = pd.DataFrame(a.data,columns=[\"sepal_length\",\"sepal_width\",\"petal_length\",\"petal_width\"])\n",
    "y = pd.DataFrame(a.target,columns=[\"Species\"])\n",
    "df = pd.concat([X,y],axis=1)\n",
    "df_12 =df[df['Species'].isin([1,2])]\n",
    "X =df_12.drop(\"Species\", axis=1).values\n",
    "y = df_12.Species.values"
   ]
  },
  {
   "cell_type": "code",
   "execution_count": 107,
   "metadata": {},
   "outputs": [
    {
     "name": "stdout",
     "output_type": "stream",
     "text": [
      "150\n"
     ]
    }
   ],
   "source": [
    "#print(X)\n",
    "#print(df[df['Species']==1])\n",
    "#print(df[df['Species'].isin([1,2])].head())\n",
    "#display(df_12.Species.values)\n",
    "#display(df.drop(\"Species\", axis=1))\n",
    "print(len(X))"
   ]
  },
  {
   "cell_type": "code",
   "execution_count": 133,
   "metadata": {},
   "outputs": [],
   "source": [
    "##シンプルデータセット1作成コード\n",
    "import numpy as np\n",
    "\n",
    "np.random.seed(seed=0)\n",
    "n_samples = 500\n",
    "f0 = [-1, 2]\n",
    "f1 = [2, -1]\n",
    "cov = [[1.0,0.8], [0.8, 1.0]]\n",
    "\n",
    "f0 = np.random.multivariate_normal(f0, cov, int(n_samples/2))\n",
    "f1 = np.random.multivariate_normal(f1, cov, int(n_samples/2))\n",
    "\n",
    "X = np.concatenate((f0, f1))\n",
    "y = np.concatenate((np.ones((int(n_samples/2))), np.ones((int(n_samples/2))) *(-1))).astype(np.int)\n",
    "\n",
    "random_index = np.random.permutation(np.arange(n_samples))\n",
    "X = X[random_index]\n",
    "y = y[random_index]"
   ]
  },
  {
   "cell_type": "code",
   "execution_count": 128,
   "metadata": {},
   "outputs": [],
   "source": [
    "##シンプルデータセット2作成コード\n",
    "X = np.array([[-0.44699 , -2.8073  ],[-1.4621  , -2.4586  ],\n",
    "       [ 0.10645 ,  1.9242  ],[-3.5944  , -4.0112  ],\n",
    "       [-0.9888  ,  4.5718  ],[-3.1625  , -3.9606  ],\n",
    "       [ 0.56421 ,  0.72888 ],[-0.60216 ,  8.4636  ],\n",
    "       [-0.61251 , -0.75345 ],[-0.73535 , -2.2718  ],\n",
    "       [-0.80647 , -2.2135  ],[ 0.86291 ,  2.3946  ],\n",
    "       [-3.1108  ,  0.15394 ],[-2.9362  ,  2.5462  ],\n",
    "       [-0.57242 , -2.9915  ],[ 1.4771  ,  3.4896  ],\n",
    "       [ 0.58619 ,  0.37158 ],[ 0.6017  ,  4.3439  ],\n",
    "       [-2.1086  ,  8.3428  ],[-4.1013  , -4.353   ],\n",
    "       [-1.9948  , -1.3927  ],[ 0.35084 , -0.031994],\n",
    "       [ 0.96765 ,  7.8929  ],[-1.281   , 15.6824  ],\n",
    "       [ 0.96765 , 10.083   ],[ 1.3763  ,  1.3347  ],\n",
    "       [-2.234   , -2.5323  ],[-2.9452  , -1.8219  ],\n",
    "       [ 0.14654 , -0.28733 ],[ 0.5461  ,  5.8245  ],\n",
    "       [-0.65259 ,  9.3444  ],[ 0.59912 ,  5.3524  ],\n",
    "       [ 0.50214 , -0.31818 ],[-3.0603  , -3.6461  ],\n",
    "       [-6.6797  ,  0.67661 ],[-2.353   , -0.72261 ],\n",
    "       [ 1.1319  ,  2.4023  ],[-0.12243 ,  9.0162  ],\n",
    "       [-2.5677  , 13.1779  ],[ 0.057313,  5.4681  ]])\n",
    "y = np.array([0, 0, 0, 0, 0, 0, 0, 0, 0, 0, 0, 0, 0, 0, 0, 0, 0, 0, 0, 0, 1, 1,\n",
    "       1, 1, 1, 1, 1, 1, 1, 1, 1, 1, 1, 1, 1, 1, 1, 1, 1, 1])"
   ]
  },
  {
   "cell_type": "code",
   "execution_count": 170,
   "metadata": {},
   "outputs": [],
   "source": [
    "#訓練データとテストデータに分割\n",
    "X_train, X_test, y_train, y_test = scratch_train_test_split(X, y)"
   ]
  },
  {
   "cell_type": "code",
   "execution_count": 171,
   "metadata": {},
   "outputs": [
    {
     "data": {
      "text/plain": [
       "0.95"
      ]
     },
     "execution_count": 171,
     "metadata": {},
     "output_type": "execute_result"
    }
   ],
   "source": [
    "#ロジスティック回帰\n",
    "from sklearn import linear_model\n",
    "#インスタンス化　引数でloss=\"log\" 他の引数はサンプル通り\n",
    "lg = linear_model.SGDClassifier(loss=\"log\",max_iter=1000, tol=1e-3)\n",
    "#訓練\n",
    "lg.fit(X_train, y_train)\n",
    "#予測\n",
    "y_pred = lg.predict(X_test)\n",
    "# スコア\n",
    "lg.score(X_test,y_test)"
   ]
  },
  {
   "cell_type": "code",
   "execution_count": 172,
   "metadata": {},
   "outputs": [
    {
     "data": {
      "text/plain": [
       "1.0"
      ]
     },
     "execution_count": 172,
     "metadata": {},
     "output_type": "execute_result"
    }
   ],
   "source": [
    "#SVM\n",
    "from sklearn.svm import SVC\n",
    "#インスタンス化\n",
    "svc = SVC(gamma='auto')\n",
    "#訓練\n",
    "svc.fit(X_train, y_train)\n",
    "#予測\n",
    "y_pred = svc.predict(X_test)\n",
    "# スコア\n",
    "svc.score(X_test,y_test)"
   ]
  },
  {
   "cell_type": "code",
   "execution_count": 173,
   "metadata": {},
   "outputs": [
    {
     "data": {
      "text/plain": [
       "0.95"
      ]
     },
     "execution_count": 173,
     "metadata": {},
     "output_type": "execute_result"
    }
   ],
   "source": [
    "#決定木\n",
    "from sklearn.tree import DecisionTreeClassifier\n",
    "#インスタンス化\n",
    "dt =DecisionTreeClassifier(random_state=0)\n",
    "#訓練\n",
    "dt.fit(X_train, y_train)\n",
    "#予測\n",
    "y_pred = dt.predict(X_test)\n",
    "# スコア\n",
    "dt.score(X_test,y_test)"
   ]
  },
  {
   "cell_type": "markdown",
   "metadata": {},
   "source": [
    "## 【問題3】 回帰問題を解くコードの作成"
   ]
  },
  {
   "cell_type": "code",
   "execution_count": 180,
   "metadata": {},
   "outputs": [],
   "source": [
    "#HOUSEのデータ取り込み\n",
    "path ='/Users/toyodasatomi/Desktop/DIC/data/train.csv'\n",
    "df = pd.read_csv(path)\n",
    "X_k=df[['GrLivArea','YearBuilt']].values\n",
    "y_k =df.SalePrice.values"
   ]
  },
  {
   "cell_type": "code",
   "execution_count": 181,
   "metadata": {},
   "outputs": [],
   "source": [
    "#訓練データとテストデータに分割\n",
    "X_train_k, X_test_k, y_train_k, y_test_k = scratch_train_test_split(X_k, y_k)"
   ]
  },
  {
   "cell_type": "code",
   "execution_count": 167,
   "metadata": {},
   "outputs": [],
   "source": [
    "#display(df.SalePrice.head())\n",
    "#display(df[['GrLivArea','YearBuilt']])"
   ]
  },
  {
   "cell_type": "code",
   "execution_count": 192,
   "metadata": {},
   "outputs": [
    {
     "data": {
      "text/plain": [
       "-1.705021127961164e+20"
      ]
     },
     "execution_count": 192,
     "metadata": {},
     "output_type": "execute_result"
    }
   ],
   "source": [
    "from sklearn import linear_model\n",
    "#インスタンス化\n",
    "sg = linear_model.SGDRegressor(max_iter=1000, tol=1e-3)\n",
    "#学習\n",
    "sg.fit(X_train_k, y_train_k)\n",
    "#予測\n",
    "y_pred_k = sg.predict(X_test_k)\n",
    "# スコア\n",
    "sg.score(X_test_k,y_test_k)"
   ]
  },
  {
   "cell_type": "code",
   "execution_count": 1,
   "metadata": {},
   "outputs": [],
   "source": [
    "#print(y_pred_k)"
   ]
  },
  {
   "cell_type": "code",
   "execution_count": 187,
   "metadata": {},
   "outputs": [
    {
     "name": "stdout",
     "output_type": "stream",
     "text": [
      "[208500 181500 223500 ... 266500 142125 147500]\n"
     ]
    }
   ],
   "source": [
    "print(y_k)"
   ]
  }
 ],
 "metadata": {
  "kernelspec": {
   "display_name": "Python 3",
   "language": "python",
   "name": "python3"
  },
  "language_info": {
   "codemirror_mode": {
    "name": "ipython",
    "version": 3
   },
   "file_extension": ".py",
   "mimetype": "text/x-python",
   "name": "python",
   "nbconvert_exporter": "python",
   "pygments_lexer": "ipython3",
   "version": "3.7.3"
  }
 },
 "nbformat": 4,
 "nbformat_minor": 2
}
