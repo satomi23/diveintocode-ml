{
 "cells": [
  {
   "cell_type": "markdown",
   "metadata": {},
   "source": [
    "# Week4授業前課題3 オブジェクト指向の活用"
   ]
  },
  {
   "cell_type": "markdown",
   "metadata": {},
   "source": [
    "## 【問題1】これまで利用してきたクラスの列挙"
   ]
  },
  {
   "cell_type": "markdown",
   "metadata": {},
   "source": [
    "#### pandas.DataFrame  \n",
    "class pandas.DataFrame(data=None, index=None, columns=None, dtype=None, copy=False)[source]  \n",
    "https://pandas.pydata.org/pandas-docs/stable/reference/api/pandas.DataFrame.html"
   ]
  },
  {
   "cell_type": "markdown",
   "metadata": {},
   "source": [
    "#### matplotlibにおいて、グラフを作成するための主なクラスは、figureとaxesである  \n",
    "figureオブジェクトは、グラフを表示するためのウィンドウに相当する。\n",
    "axesオブジェクトはグラフそのものである。  \n",
    "https://helve-python.hatenablog.jp/entry/2017/11/05/000000"
   ]
  },
  {
   "cell_type": "markdown",
   "metadata": {},
   "source": [
    "#### scikit-learn  \n",
    "StandardScaler(標準化),LinearRegression(回帰)"
   ]
  },
  {
   "cell_type": "markdown",
   "metadata": {},
   "source": [
    "ついでに  \n",
    "https://deepage.net/features/pandas-numpy.html"
   ]
  },
  {
   "cell_type": "markdown",
   "metadata": {},
   "source": [
    "疑問  \n",
    "：クラスをインスタンス化して利用する場合とそのまま利用(Dataframe)するものの違いは？？\n",
    "：matplotlibは命名規則に準じていない気持ち  "
   ]
  },
  {
   "cell_type": "markdown",
   "metadata": {},
   "source": [
    "## 【問題2】これまで利用してきたメソッドやインスタンス変数の列挙"
   ]
  },
  {
   "cell_type": "markdown",
   "metadata": {},
   "source": [
    "メソッド  \n",
    ".head,.mean,.describe,.sum,info,.fit"
   ]
  },
  {
   "cell_type": "markdown",
   "metadata": {},
   "source": [
    "インスタンス変数  \n",
    "columns,  \n",
    "**わからなかったので回答から**\n",
    "DataFrame.head.loc,matplotlib.lines.Line2D. _linestyle, matplotlib.lines.Line2D._marker,KNeighborsClassifier.weights, KNeighborsClassifier.classes_,StandardScaler.mean_, StandardScaler.var_\n"
   ]
  },
  {
   "cell_type": "markdown",
   "metadata": {},
   "source": [
    "インスタンス変数とは？？  \n",
    "オブジェクトの中で値を保存しておくための利用されるのがインスタンス変数です。\n",
    "\n",
    "ローカル変数をメソッド内で使用することも可能です。ただしローカル変数は一度メソッドを抜けてしまえば値は消えてしまいます。\n",
    "\n",
    "インスタンス変数はクラス内で全メソッドで共通して使用することが出来ます。最初にどこかのメソッドで使用された時点でインスタンス変数は作成され、一度作成されたインスタンス変数は他のメソッドで値を取り出したり格納したりすることが出来るようになります。\n",
    "\n",
    "---------\n",
    "インスタンス変数とは、それぞれのインスタンスごとに独立した変数です。たとえば、クラスはいくつもインスタンスを生成することができますが、それぞれのインスタンス変数は別のものとして扱われ変数に値を代入しても、インスタンスごとに別々の値が保存されています。\n",
    "\n",
    "\n",
    "参考：https://www.javadrive.jp/ruby/class/index4.html  \n",
    "https://uxmilk.jp/41600"
   ]
  },
  {
   "cell_type": "code",
   "execution_count": 15,
   "metadata": {},
   "outputs": [
    {
     "name": "stdout",
     "output_type": "stream",
     "text": [
      "<class 'pandas.core.frame.DataFrame'>\n",
      "RangeIndex: 3 entries, 0 to 2\n",
      "Data columns (total 1 columns):\n",
      "0    3 non-null int64\n",
      "dtypes: int64(1)\n",
      "memory usage: 104.0 bytes\n",
      "<class 'NoneType'>\n"
     ]
    }
   ],
   "source": [
    "import pandas as pd\n",
    "df = pd.DataFrame([0, 1, 2])\n",
    "print(type(df.info()))"
   ]
  },
  {
   "cell_type": "markdown",
   "metadata": {},
   "source": [
    "## 【問題3】標準化クラスをスクラッチで作成"
   ]
  },
  {
   "cell_type": "code",
   "execution_count": 18,
   "metadata": {},
   "outputs": [],
   "source": [
    "class ScratchStandardScaler():\n",
    "    \"\"\"\n",
    "    標準化のためのクラス\n",
    "\n",
    "    Attributes\n",
    "    ----------\n",
    "    mean_ : 次の形のndarray, shape(n_features,)\n",
    "        平均\n",
    "    var_ : 次の形のndarray, shape(n_features,)\n",
    "        分散\n",
    "    \"\"\"\n",
    "\n",
    "    def fit(self, X):\n",
    "        \"\"\"\n",
    "        標準化のために平均と標準偏差を計算する。\n",
    "\n",
    "        Parameters\n",
    "        ----------\n",
    "        X : 次の形のndarray, shape (n_samples, n_features)\n",
    "            学習データ\n",
    "        \"\"\"\n",
    "\n",
    "        self.mean_ = X.mean(axis=0)\n",
    "        self.var_ = X.var(axis=0)\n",
    "\n",
    "    def transform(self, X):\n",
    "        \"\"\"\n",
    "        fitで求めた値を使い標準化を行う。\n",
    "\n",
    "        Parameters\n",
    "        ----------\n",
    "        X : 次の形のndarray, shape (n_samples, n_features)\n",
    "            特徴量\n",
    "\n",
    "        Returns\n",
    "        ----------\n",
    "        X_scaled : 次の形のndarray, shape (n_samples, n_features)\n",
    "            標準化された特緒量\n",
    "        \"\"\"\n",
    "        X_scaled = (X-self.mean_) / np.sqrt(self.var_)\n",
    "        return X_scaled"
   ]
  },
  {
   "cell_type": "code",
   "execution_count": 19,
   "metadata": {},
   "outputs": [
    {
     "name": "stdout",
     "output_type": "stream",
     "text": [
      "平均 : [4.86 3.31 1.45 0.22]\n",
      "分散 : [0.0764 0.0849 0.0105 0.0056]\n",
      "[[ 0.86828953  0.65207831 -0.48795004 -0.26726124]\n",
      " [ 0.14471492 -1.06391725 -0.48795004 -0.26726124]\n",
      " [-0.57885968 -0.37751902 -1.46385011 -0.26726124]\n",
      " [-0.94064699 -0.72071813  0.48795004 -0.26726124]\n",
      " [ 0.50650222  0.99527742 -0.48795004 -0.26726124]\n",
      " [ 1.95365143  2.02487476  2.43975018  2.40535118]\n",
      " [-0.94064699  0.3088792  -0.48795004  1.06904497]\n",
      " [ 0.50650222  0.3088792   0.48795004 -0.26726124]\n",
      " [-1.66422159 -1.40711636 -0.48795004 -0.26726124]\n",
      " [ 0.14471492 -0.72071813  0.48795004 -1.60356745]]\n"
     ]
    }
   ],
   "source": [
    "import numpy as np\n",
    "from sklearn.datasets import load_iris\n",
    "\n",
    "data = load_iris()\n",
    "X = data.data[:10]\n",
    "\n",
    "scratch_scaler = ScratchStandardScaler()\n",
    "scratch_scaler.fit(X)\n",
    "print(\"平均 : {}\".format(scratch_scaler.mean_))\n",
    "print(\"分散 : {}\".format(scratch_scaler.var_))\n",
    "X_std = scratch_scaler.transform(X)\n",
    "print(X_std)"
   ]
  },
  {
   "cell_type": "markdown",
   "metadata": {},
   "source": [
    "### ソースから"
   ]
  },
  {
   "cell_type": "markdown",
   "metadata": {},
   "source": [
    "    def __init__(self, copy=True, with_mean=True, with_std=True):\n",
    "        self.with_mean = with_mean\n",
    "        self.with_std = with_std\n",
    "        self.copy = copy"
   ]
  },
  {
   "cell_type": "markdown",
   "metadata": {},
   "source": [
    "    def fit(self, X, y=None):\n",
    "        \"\"\"Compute the mean and std to be used for later scaling.\n",
    "        Parameters\n",
    "        ----------\n",
    "        X : {array-like, sparse matrix}, shape [n_samples, n_features]\n",
    "            The data used to compute the mean and standard deviation\n",
    "            used for later scaling along the features axis.\n",
    "        y\n",
    "            Ignored\n",
    "        \"\"\"\n",
    "\n",
    "        # Reset internal state before fitting\n",
    "        self._reset()\n",
    "        return self.partial_fit(X, y)"
   ]
  },
  {
   "cell_type": "markdown",
   "metadata": {},
   "source": [
    "    def transform(self, X, y='deprecated', copy=None):\n",
    "        \"\"\"Perform standardization by centering and scaling\n",
    "        Parameters\n",
    "        ----------\n",
    "        X : array-like, shape [n_samples, n_features]\n",
    "            The data used to scale along the features axis.\n",
    "        y : (ignored)\n",
    "            .. deprecated:: 0.19\n",
    "               This parameter will be removed in 0.21.\n",
    "        copy : bool, optional (default: None)\n",
    "            Copy the input X or not.\n",
    "        \"\"\"\n",
    "        if not isinstance(y, string_types) or y != 'deprecated':\n",
    "            warnings.warn(\"The parameter y on transform() is \"\n",
    "                          \"deprecated since 0.19 and will be removed in 0.21\",\n",
    "                          DeprecationWarning)\n",
    "\n",
    "        check_is_fitted(self, 'scale_')\n",
    "\n",
    "        copy = copy if copy is not None else self.copy\n",
    "        X = check_array(X, accept_sparse='csr', copy=copy, warn_on_dtype=True,\n",
    "                        estimator=self, dtype=FLOAT_DTYPES,\n",
    "                        force_all_finite='allow-nan')\n",
    "\n",
    "        if sparse.issparse(X):\n",
    "            if self.with_mean:\n",
    "                raise ValueError(\n",
    "                    \"Cannot center sparse matrices: pass `with_mean=False` \"\n",
    "                    \"instead. See docstring for motivation and alternatives.\")\n",
    "            if self.scale_ is not None:\n",
    "                inplace_column_scale(X, 1 / self.scale_)\n",
    "        else:\n",
    "            if self.with_mean:\n",
    "                X -= self.mean_\n",
    "            if self.with_std:\n",
    "                X /= self.scale_\n",
    "        return X"
   ]
  },
  {
   "cell_type": "markdown",
   "metadata": {},
   "source": [
    "## 【問題4】 四則演算を行うクラスの作成"
   ]
  },
  {
   "cell_type": "markdown",
   "metadata": {},
   "source": [
    "上記ExampleClassは足し算のメソッドを持っていますが、これに引き算、掛け算、割り算のメソッドを加えてください。\n",
    "\n",
    "コンストラクタに入力されたvalueが文字列や配列など数値以外だった場合にはエラーを出すようにしてください。\n",
    "\n",
    "クラス名や説明文も適切に書き換えてください。"
   ]
  },
  {
   "cell_type": "code",
   "execution_count": 20,
   "metadata": {},
   "outputs": [],
   "source": [
    "class ExampleClass():\n",
    "    \"\"\"\n",
    "    説明用の簡単なクラス\n",
    "\n",
    "    Parameters\n",
    "    ----------\n",
    "    value : float or int\n",
    "        初期値\n",
    "\n",
    "    Attributes\n",
    "    ----------\n",
    "    value : float or int\n",
    "        計算結果\n",
    "    \"\"\"\n",
    "    def __init__(self, value):\n",
    "        if type(value) not in (float, int):\n",
    "            print(\"数字ではありません\")\n",
    "            return None\n",
    "        else:\n",
    "            self.value = value\n",
    "            print(\"初期値{}が設定されました\".format(self.value))\n",
    "            \n",
    "            \n",
    "    def add(self, value2):\n",
    "        \"\"\"\n",
    "        受け取った引数をself.valueに加える\n",
    "        \"\"\"\n",
    "        self.value += value2\n",
    "    def sub(self, value2):\n",
    "        \"\"\"\n",
    "        受け取った引数をself.valueから引く\n",
    "        \"\"\"\n",
    "        self.value -= value2\n",
    "    def mul(self, value2):\n",
    "        \"\"\"\n",
    "        受け取った引数をself.valueでかける\n",
    "        \"\"\"\n",
    "        self.value *= value2\n",
    "\n",
    "    def div(self, value2):\n",
    "        \"\"\"\n",
    "        受け取った引数をself.valueでわる\n",
    "        \"\"\"\n",
    "        self.value /= value2"
   ]
  },
  {
   "cell_type": "code",
   "execution_count": 21,
   "metadata": {},
   "outputs": [],
   "source": [
    "a = 1\n",
    "b = 1.1\n",
    "c = 'aaa'"
   ]
  },
  {
   "cell_type": "code",
   "execution_count": 10,
   "metadata": {},
   "outputs": [
    {
     "name": "stdout",
     "output_type": "stream",
     "text": [
      "<class 'int'>\n",
      "<class 'float'>\n",
      "<class 'str'>\n"
     ]
    }
   ],
   "source": [
    "print(type(a))\n",
    "print(type(b))\n",
    "print(type(c))"
   ]
  },
  {
   "cell_type": "code",
   "execution_count": 22,
   "metadata": {},
   "outputs": [
    {
     "name": "stdout",
     "output_type": "stream",
     "text": [
      "初期値5が設定されました\n",
      "value : 5\n"
     ]
    }
   ],
   "source": [
    "example = ExampleClass(5)\n",
    "print(\"value : {}\".format(example.value))"
   ]
  },
  {
   "cell_type": "code",
   "execution_count": 20,
   "metadata": {},
   "outputs": [
    {
     "name": "stdout",
     "output_type": "stream",
     "text": [
      "value : 6\n"
     ]
    }
   ],
   "source": [
    "example.add(3)\n",
    "print(\"value : {}\".format(example.value))"
   ]
  },
  {
   "cell_type": "code",
   "execution_count": 19,
   "metadata": {},
   "outputs": [
    {
     "name": "stdout",
     "output_type": "stream",
     "text": [
      "value : 3\n"
     ]
    }
   ],
   "source": [
    "example.sub(2)\n",
    "print(\"value : {}\".format(example.value))"
   ]
  },
  {
   "cell_type": "code",
   "execution_count": 24,
   "metadata": {},
   "outputs": [
    {
     "name": "stdout",
     "output_type": "stream",
     "text": [
      "value : 10\n"
     ]
    }
   ],
   "source": [
    "example.mul(2)\n",
    "print(\"value : {}\".format(example.value))"
   ]
  },
  {
   "cell_type": "code",
   "execution_count": 23,
   "metadata": {},
   "outputs": [
    {
     "name": "stdout",
     "output_type": "stream",
     "text": [
      "数字ではありません\n"
     ]
    },
    {
     "ename": "AttributeError",
     "evalue": "'ExampleClass' object has no attribute 'value'",
     "output_type": "error",
     "traceback": [
      "\u001b[0;31m---------------------------------------------------------------------------\u001b[0m",
      "\u001b[0;31mAttributeError\u001b[0m                            Traceback (most recent call last)",
      "\u001b[0;32m<ipython-input-23-278630d3aba6>\u001b[0m in \u001b[0;36m<module>\u001b[0;34m\u001b[0m\n\u001b[1;32m      1\u001b[0m \u001b[0mexample\u001b[0m \u001b[0;34m=\u001b[0m \u001b[0mExampleClass\u001b[0m\u001b[0;34m(\u001b[0m\u001b[0;34m'aaa'\u001b[0m\u001b[0;34m)\u001b[0m\u001b[0;34m\u001b[0m\u001b[0;34m\u001b[0m\u001b[0m\n\u001b[0;32m----> 2\u001b[0;31m \u001b[0mprint\u001b[0m\u001b[0;34m(\u001b[0m\u001b[0;34m\"value : {}\"\u001b[0m\u001b[0;34m.\u001b[0m\u001b[0mformat\u001b[0m\u001b[0;34m(\u001b[0m\u001b[0mexample\u001b[0m\u001b[0;34m.\u001b[0m\u001b[0mvalue\u001b[0m\u001b[0;34m)\u001b[0m\u001b[0;34m)\u001b[0m\u001b[0;34m\u001b[0m\u001b[0;34m\u001b[0m\u001b[0m\n\u001b[0m",
      "\u001b[0;31mAttributeError\u001b[0m: 'ExampleClass' object has no attribute 'value'"
     ]
    }
   ],
   "source": [
    "example = ExampleClass('aaa')\n",
    "print(\"value : {}\".format(example.value))"
   ]
  }
 ],
 "metadata": {
  "kernelspec": {
   "display_name": "Python 3",
   "language": "python",
   "name": "python3"
  },
  "language_info": {
   "codemirror_mode": {
    "name": "ipython",
    "version": 3
   },
   "file_extension": ".py",
   "mimetype": "text/x-python",
   "name": "python",
   "nbconvert_exporter": "python",
   "pygments_lexer": "ipython3",
   "version": "3.7.3"
  }
 },
 "nbformat": 4,
 "nbformat_minor": 2
}
