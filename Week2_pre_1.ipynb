{
 "cells": [
  {
   "cell_type": "markdown",
   "metadata": {},
   "source": [
    "**課題の前に試し打ち**"
   ]
  },
  {
   "cell_type": "code",
   "execution_count": 2,
   "metadata": {},
   "outputs": [
    {
     "name": "stdout",
     "output_type": "stream",
     "text": [
      "4マスの板に小麦を並べる（リスト）：[1, 2, 4, 8]\n"
     ]
    }
   ],
   "source": [
    "n_squares = 4\n",
    "small_board_list = [1]\n",
    "for _ in range(n_squares - 1):\n",
    "    small_board_list.append(2*small_board_list[-1])\n",
    "print(\"4マスの板に小麦を並べる（リスト）：{}\".format(small_board_list))"
   ]
  },
  {
   "cell_type": "code",
   "execution_count": 3,
   "metadata": {},
   "outputs": [
    {
     "name": "stdout",
     "output_type": "stream",
     "text": [
      "4マスの板に小麦を並べる（ndarray）：[1 2 4 8]\n"
     ]
    }
   ],
   "source": [
    "import numpy as np\n",
    "\n",
    "small_board_ndarray = np.array(small_board_list)\n",
    "print(\"4マスの板に小麦を並べる（ndarray）：{}\".format(small_board_ndarray))"
   ]
  },
  {
   "cell_type": "code",
   "execution_count": 4,
   "metadata": {
    "scrolled": true
   },
   "outputs": [
    {
     "name": "stdout",
     "output_type": "stream",
     "text": [
      "[0 1 2 3]\n",
      "(4,)\n",
      "[[0 1]\n",
      " [2 3]]\n",
      "(2, 2)\n"
     ]
    }
   ],
   "source": [
    "a_ndarray = np.arange(4)\n",
    "print(a_ndarray) # (4,\n",
    "print(a_ndarray.shape) # (4,)\n",
    "b_ndarray = a_ndarray.reshape(2, 2)\n",
    "print(b_ndarray)\n",
    "print(b_ndarray.shape) # (2, 2)"
   ]
  },
  {
   "cell_type": "markdown",
   "metadata": {},
   "source": [
    "# Week2授業前課題1 小麦とチェス盤問題"
   ]
  },
  {
   "cell_type": "markdown",
   "metadata": {},
   "source": [
    "## 【問題1】2×2マスのチェス盤の小麦の数"
   ]
  },
  {
   "cell_type": "markdown",
   "metadata": {},
   "source": [
    "2×2マスのチェス盤をndarrayによって表現し、各マスの小麦の数を計算してください。左上のマスに小麦を1つ置いた後、その右が2つ、左下が4つ、右下が8つという風に進みます。\n",
    "サンプルコードで作成したndarrayのshapeの変形を行ってください。"
   ]
  },
  {
   "cell_type": "code",
   "execution_count": 6,
   "metadata": {},
   "outputs": [
    {
     "name": "stdout",
     "output_type": "stream",
     "text": [
      "4マスの板に小麦を並べる（リスト）：[1, 2, 4, 8]\n"
     ]
    }
   ],
   "source": [
    "n_squares = 4\n",
    "small_board_list = [1]\n",
    "for _ in range(n_squares - 1):\n",
    "    small_board_list.append(2*small_board_list[-1])\n",
    "print(\"4マスの板に小麦を並べる（リスト）：{}\".format(small_board_list))"
   ]
  },
  {
   "cell_type": "code",
   "execution_count": 8,
   "metadata": {},
   "outputs": [
    {
     "name": "stdout",
     "output_type": "stream",
     "text": [
      "2×2マスのチェス盤：\n",
      "[[1 2]\n",
      " [4 8]]\n"
     ]
    }
   ],
   "source": [
    "a_small_board_ndarray = small_board_ndarray.reshape(2, 2)\n",
    "print(\"2×2マスのチェス盤：\\n{}\".format(a_small_board_ndarray))"
   ]
  },
  {
   "cell_type": "markdown",
   "metadata": {},
   "source": [
    "## 【問題2】n×mマスへの拡張"
   ]
  },
  {
   "cell_type": "markdown",
   "metadata": {},
   "source": [
    "関数作成"
   ]
  },
  {
   "cell_type": "code",
   "execution_count": 68,
   "metadata": {},
   "outputs": [],
   "source": [
    "def compute_mas (n=8,m=8):\n",
    "    import numpy as np\n",
    "    \n",
    "    n_squares = n*m\n",
    "    small_board_list = [1]\n",
    "    \n",
    "    for _ in range(n_squares - 1):\n",
    "        small_board_list.append(2*small_board_list[-1])\n",
    "    #print(\"4マスの板に小麦を並べる（リスト）：{}\".format(small_board_list))\n",
    "        \n",
    "    small_board_ndarray = np.array(small_board_list)\n",
    "    #print(\"4マスの板に小麦を並べる（ndarray）：{}\".format(small_board_ndarray))\n",
    " \n",
    "    b_ndarray = small_board_ndarray.reshape(n, m)\n",
    "    \n",
    "    return b_ndarray\n",
    "    \n",
    "    #return b_ndarray　= compute_mas(8,8)"
   ]
  },
  {
   "cell_type": "markdown",
   "metadata": {},
   "source": [
    "**8マス×8マスの小麦の数を関数で計算**"
   ]
  },
  {
   "cell_type": "code",
   "execution_count": 70,
   "metadata": {},
   "outputs": [
    {
     "name": "stdout",
     "output_type": "stream",
     "text": [
      "[[1.0e+00 2.0e+00 4.0e+00 8.0e+00 1.6e+01 3.2e+01 6.4e+01 1.3e+02]\n",
      " [2.6e+02 5.1e+02 1.0e+03 2.0e+03 4.1e+03 8.2e+03 1.6e+04 3.3e+04]\n",
      " [6.6e+04 1.3e+05 2.6e+05 5.2e+05 1.0e+06 2.1e+06 4.2e+06 8.4e+06]\n",
      " [1.7e+07 3.4e+07 6.7e+07 1.3e+08 2.7e+08 5.4e+08 1.1e+09 2.1e+09]\n",
      " [4.3e+09 8.6e+09 1.7e+10 3.4e+10 6.9e+10 1.4e+11 2.7e+11 5.5e+11]\n",
      " [1.1e+12 2.2e+12 4.4e+12 8.8e+12 1.8e+13 3.5e+13 7.0e+13 1.4e+14]\n",
      " [2.8e+14 5.6e+14 1.1e+15 2.3e+15 4.5e+15 9.0e+15 1.8e+16 3.6e+16]\n",
      " [7.2e+16 1.4e+17 2.9e+17 5.8e+17 1.2e+18 2.3e+18 4.6e+18 9.2e+18]]\n"
     ]
    }
   ],
   "source": [
    "b_ndarray = compute_mas (8,8)\n",
    "print(b_ndarray)"
   ]
  },
  {
   "cell_type": "code",
   "execution_count": 66,
   "metadata": {},
   "outputs": [
    {
     "name": "stdout",
     "output_type": "stream",
     "text": [
      "[[1.0e+00 2.0e+00 4.0e+00 8.0e+00 1.6e+01 3.2e+01 6.4e+01 1.3e+02]\n",
      " [2.6e+02 5.1e+02 1.0e+03 2.0e+03 4.1e+03 8.2e+03 1.6e+04 3.3e+04]\n",
      " [6.6e+04 1.3e+05 2.6e+05 5.2e+05 1.0e+06 2.1e+06 4.2e+06 8.4e+06]\n",
      " [1.7e+07 3.4e+07 6.7e+07 1.3e+08 2.7e+08 5.4e+08 1.1e+09 2.1e+09]\n",
      " [4.3e+09 8.6e+09 1.7e+10 3.4e+10 6.9e+10 1.4e+11 2.7e+11 5.5e+11]\n",
      " [1.1e+12 2.2e+12 4.4e+12 8.8e+12 1.8e+13 3.5e+13 7.0e+13 1.4e+14]\n",
      " [2.8e+14 5.6e+14 1.1e+15 2.3e+15 4.5e+15 9.0e+15 1.8e+16 3.6e+16]\n",
      " [7.2e+16 1.4e+17 2.9e+17 5.8e+17 1.2e+18 2.3e+18 4.6e+18 9.2e+18]]\n"
     ]
    }
   ],
   "source": [
    "    n_squares = 64\n",
    "    small_board_list = [1]\n",
    "\n",
    "    for _ in range(n_squares - 1):\n",
    "        small_board_list.append(2*small_board_list[-1])\n",
    "    #print(\"4マスの板に小麦を並べる（リスト）：{}\".format(small_board_list))\n",
    "        \n",
    "    small_board_ndarray = np.array(small_board_list)\n",
    "    #print(\"4マスの板に小麦を並べる（ndarray）：{}\".format(small_board_ndarray))\n",
    " \n",
    "    b_ndarray = small_board_ndarray.reshape(8, 8)\n",
    "    np.set_printoptions(precision=1)\n",
    "    print(b_ndarray)"
   ]
  },
  {
   "cell_type": "markdown",
   "metadata": {},
   "source": [
    "## 【問題3】小麦の数の合計"
   ]
  },
  {
   "cell_type": "code",
   "execution_count": null,
   "metadata": {},
   "outputs": [],
   "source": [
    "小麦の合計"
   ]
  },
  {
   "cell_type": "code",
   "execution_count": 10,
   "metadata": {},
   "outputs": [
    {
     "name": "stdout",
     "output_type": "stream",
     "text": [
      "8×8マスのチェス盤の上の小麦の合計は1.8446744073709552e+19です\n"
     ]
    }
   ],
   "source": [
    "print(\"8×8マスのチェス盤の上の小麦の合計は{}です\".format(b_ndarray.sum()))"
   ]
  },
  {
   "cell_type": "code",
   "execution_count": 11,
   "metadata": {},
   "outputs": [
    {
     "name": "stdout",
     "output_type": "stream",
     "text": [
      "[9.0e+15 1.8e+16 3.6e+16 7.2e+16 1.4e+17 2.9e+17 5.8e+17 1.2e+18]\n",
      "[9.0e+15 1.8e+16 3.6e+16 7.2e+16 1.4e+17 2.9e+17 5.8e+17 1.2e+18]\n"
     ]
    }
   ],
   "source": [
    "print(b_ndarray.mean(axis=0))\n",
    "c_ndarray = b_ndarray.mean(axis=0)\n",
    "print(c_ndarray)"
   ]
  },
  {
   "cell_type": "markdown",
   "metadata": {},
   "source": [
    "棒グラフ"
   ]
  },
  {
   "cell_type": "code",
   "execution_count": 12,
   "metadata": {},
   "outputs": [
    {
     "data": {
      "image/png": "[encoded data removed]",
      "text/plain": [
       "<Figure size 432x288 with 1 Axes>"
      ]
     },
     "metadata": {
      "needs_background": "light"
     },
     "output_type": "display_data"
    }
   ],
   "source": [
    "import matplotlib.pyplot as plt\n",
    "%matplotlib inline\n",
    "\n",
    "left = np.arange(1,9)\n",
    "height = c_ndarray\n",
    "\n",
    "plt.xlabel(\"column\")\n",
    "plt.ylabel(\"number\")\n",
    "plt.title(\"number in each column\")\n",
    "plt.bar(left, height)\n",
    "plt.show()"
   ]
  },
  {
   "cell_type": "markdown",
   "metadata": {},
   "source": [
    "## 【問題4】小麦の数のヒートマップ"
   ]
  },
  {
   "cell_type": "code",
   "execution_count": 16,
   "metadata": {
    "scrolled": true
   },
   "outputs": [
    {
     "data": {
      "image/png": "[encoded data removed]",
      "text/plain": [
       "<Figure size 432x288 with 1 Axes>"
      ]
     },
     "metadata": {
      "needs_background": "light"
     },
     "output_type": "display_data"
    }
   ],
   "source": [
    "plt.xlabel(\"column\")\n",
    "plt.ylabel(\"row\")\n",
    "plt.title(\"heatmap\")\n",
    "plt.pcolor(b_ndarray)\n",
    "plt.show()"
   ]
  },
  {
   "cell_type": "markdown",
   "metadata": {},
   "source": [
    "## 【問題5】後半は前半の何倍か"
   ]
  },
  {
   "cell_type": "code",
   "execution_count": 14,
   "metadata": {},
   "outputs": [
    {
     "name": "stdout",
     "output_type": "stream",
     "text": [
      "[[2.00000000e+00 4.00000000e+00 8.00000000e+00 1.60000000e+01\n",
      "  3.20000000e+01 6.40000000e+01 1.28000000e+02]\n",
      " [5.12000000e+02 1.02400000e+03 2.04800000e+03 4.09600000e+03\n",
      "  8.19200000e+03 1.63840000e+04 3.27680000e+04]\n",
      " [1.31072000e+05 2.62144000e+05 5.24288000e+05 1.04857600e+06\n",
      "  2.09715200e+06 4.19430400e+06 8.38860800e+06]\n",
      " [3.35544320e+07 6.71088640e+07 1.34217728e+08 2.68435456e+08\n",
      "  5.36870912e+08 1.07374182e+09 2.14748365e+09]\n",
      " [8.58993459e+09 1.71798692e+10 3.43597384e+10 6.87194767e+10\n",
      "  1.37438953e+11 2.74877907e+11 5.49755814e+11]\n",
      " [2.19902326e+12 4.39804651e+12 8.79609302e+12 1.75921860e+13\n",
      "  3.51843721e+13 7.03687442e+13 1.40737488e+14]\n",
      " [5.62949953e+14 1.12589991e+15 2.25179981e+15 4.50359963e+15\n",
      "  9.00719925e+15 1.80143985e+16 3.60287970e+16]\n",
      " [1.44115188e+17 2.88230376e+17 5.76460752e+17 1.15292150e+18\n",
      "  2.30584301e+18 4.61168602e+18 9.22337204e+18]]\n"
     ]
    }
   ],
   "source": [
    "print(b_ndarray[:, 1:])"
   ]
  },
  {
   "cell_type": "code",
   "execution_count": 13,
   "metadata": {},
   "outputs": [
    {
     "name": "stdout",
     "output_type": "stream",
     "text": [
      "後半は前半の4294967296.0倍です\n"
     ]
    }
   ],
   "source": [
    "#面倒な足し方をしてたので・・・\n",
    "mae = np.sum(b_ndarray[0,:]+b_ndarray[1,:]+b_ndarray[2,:]+b_ndarray[3,:])\n",
    "ushieo = np.sum(b_ndarray[4,:]+b_ndarray[5,:]+b_ndarray[6,:]+b_ndarray[7,:])\n",
    "\n",
    "#→ [:4,:].sum　前半\n",
    "#→ [4:,:].sum　後半\n",
    "\n",
    "nanbai = ushieo/mae\n",
    "#print(mae)\n",
    "#print(ushieo)\n",
    "print(\"後半は前半の{}倍です\".format(nanbai))"
   ]
  },
  {
   "cell_type": "code",
   "execution_count": 14,
   "metadata": {},
   "outputs": [
    {
     "name": "stdout",
     "output_type": "stream",
     "text": [
      "後半は前半の4294967296.0倍です\n"
     ]
    }
   ],
   "source": [
    "#面倒な足し方をしてたので・・・シンプルに書き換えてみる\n",
    "mae2 = np.sum(b_ndarray[:4,:])\n",
    "ushieo2 = np.sum(b_ndarray[4:,:])\n",
    "nanbai2 = ushieo/mae\n",
    "print(\"後半は前半の{}倍です\".format(nanbai2))"
   ]
  },
  {
   "cell_type": "code",
   "execution_count": 28,
   "metadata": {},
   "outputs": [
    {
     "name": "stdout",
     "output_type": "stream",
     "text": [
      "4マスの板に小麦を並べる（ndarray）：[1 2 4 8]\n"
     ]
    }
   ],
   "source": [
    "n_squares = 4\n",
    "indices_of_squares = np.arange(n_squares)\n",
    "small_board_ndarray = 2**indices_of_squares\n",
    "print(\"4マスの板に小麦を並べる（ndarray）：{}\".format(small_board_ndarray))"
   ]
  },
  {
   "cell_type": "code",
   "execution_count": 30,
   "metadata": {},
   "outputs": [
    {
     "name": "stdout",
     "output_type": "stream",
     "text": [
      "3\n",
      "12\n",
      "後半は前半の4.0倍です\n"
     ]
    }
   ],
   "source": [
    "#試し打ち\n",
    "a = small_board_ndarray.reshape(2, 2)\n",
    "mae = np.sum(a[0,:])\n",
    "ushieo = np.sum(a[1,:])\n",
    "nanbai = ushieo/mae\n",
    "print(mae)\n",
    "print(ushieo)\n",
    "print(\"後半は前半の{}倍です\".format(nanbai))"
   ]
  },
  {
   "cell_type": "markdown",
   "metadata": {},
   "source": [
    "## 【問題6】他の計算方法によるn×mマスへの拡張"
   ]
  },
  {
   "cell_type": "markdown",
   "metadata": {},
   "source": [
    "**書き方3パターン**"
   ]
  },
  {
   "cell_type": "code",
   "execution_count": 37,
   "metadata": {
    "scrolled": true
   },
   "outputs": [
    {
     "name": "stdout",
     "output_type": "stream",
     "text": [
      "最後のマスの小麦の数：9223372036854775808\n"
     ]
    },
    {
     "name": "stderr",
     "output_type": "stream",
     "text": [
      "//anaconda3/lib/python3.7/site-packages/ipykernel_launcher.py:4: RuntimeWarning: overflow encountered in long_scalars\n",
      "  after removing the cwd from sys.path.\n"
     ]
    }
   ],
   "source": [
    "n_squares = 64\n",
    "board_ndarray = np.array([1])\n",
    "for _ in range(n_squares - 1):\n",
    "    board_ndarray = np.append(board_ndarray, 2*board_ndarray[-1])\n",
    "print(\"最後のマスの小麦の数：{}\".format(board_ndarray[-1].astype(np.uint64))) "
   ]
  },
  {
   "cell_type": "code",
   "execution_count": 31,
   "metadata": {},
   "outputs": [
    {
     "name": "stdout",
     "output_type": "stream",
     "text": [
      "最後のマスの小麦の数：9223372036854775808\n"
     ]
    }
   ],
   "source": [
    "n_squares = 64\n",
    "indices_of_squares = np.arange(n_squares)\n",
    "board_ndarray = 2**indices_of_squares\n",
    "print(\"最後のマスの小麦の数：{}\".format(board_ndarray[-1].astype(np.uint64))) # -9223372036854775808"
   ]
  },
  {
   "cell_type": "code",
   "execution_count": 26,
   "metadata": {},
   "outputs": [
    {
     "name": "stdout",
     "output_type": "stream",
     "text": [
      "最後のマスの小麦の数：9223372036854775808\n"
     ]
    }
   ],
   "source": [
    "n_squares = 64\n",
    "indices_of_squares = np.arange(n_squares).astype(np.uint64)\n",
    "board_ndarray = 2**indices_of_squares\n",
    "print(\"最後のマスの小麦の数：{}\".format(board_ndarray[-1])) # 9223372036854775808"
   ]
  },
  {
   "cell_type": "markdown",
   "metadata": {},
   "source": [
    "**np.append()を利用した新しい関数**"
   ]
  },
  {
   "cell_type": "code",
   "execution_count": 56,
   "metadata": {},
   "outputs": [],
   "source": [
    "def compute_mas_new (n=8,m=8):\n",
    "\n",
    "    n_squares = n*m\n",
    "    board_ndarray = np.array([1])\n",
    "\n",
    "    for _ in range(n_squares - 1):\n",
    "        board_ndarray = np.append(board_ndarray, 2*board_ndarray[-1])\n",
    "    \n",
    "    board_ndarray = board_ndarray.reshape(n,m)\n",
    "    \n",
    "    return board_ndarray.astype(np.uint64)\n",
    "    \n",
    "    #print(\"最後のマスの小麦の数：{}\".format(board_ndarray[-1].astype(np.uint64))) "
   ]
  },
  {
   "cell_type": "code",
   "execution_count": 57,
   "metadata": {
    "scrolled": true
   },
   "outputs": [
    {
     "name": "stdout",
     "output_type": "stream",
     "text": [
      "最後のマスの小麦の数：[  72057594037927936  144115188075855872  288230376151711744\n",
      "  576460752303423488 1152921504606846976 2305843009213693952\n",
      " 4611686018427387904 9223372036854775808]\n",
      "小麦のマス：[[                  1                   2                   4\n",
      "                    8                  16                  32\n",
      "                   64                 128]\n",
      " [                256                 512                1024\n",
      "                 2048                4096                8192\n",
      "                16384               32768]\n",
      " [              65536              131072              262144\n",
      "               524288             1048576             2097152\n",
      "              4194304             8388608]\n",
      " [           16777216            33554432            67108864\n",
      "            134217728           268435456           536870912\n",
      "           1073741824          2147483648]\n",
      " [         4294967296          8589934592         17179869184\n",
      "          34359738368         68719476736        137438953472\n",
      "         274877906944        549755813888]\n",
      " [      1099511627776       2199023255552       4398046511104\n",
      "        8796093022208      17592186044416      35184372088832\n",
      "       70368744177664     140737488355328]\n",
      " [    281474976710656     562949953421312    1125899906842624\n",
      "     2251799813685248    4503599627370496    9007199254740992\n",
      "    18014398509481984   36028797018963968]\n",
      " [  72057594037927936  144115188075855872  288230376151711744\n",
      "   576460752303423488 1152921504606846976 2305843009213693952\n",
      "  4611686018427387904 9223372036854775808]]\n"
     ]
    },
    {
     "name": "stderr",
     "output_type": "stream",
     "text": [
      "//anaconda3/lib/python3.7/site-packages/ipykernel_launcher.py:7: RuntimeWarning: overflow encountered in long_scalars\n",
      "  import sys\n"
     ]
    }
   ],
   "source": [
    "board_ndarray = compute_mas_new (8,8)\n",
    "print(\"最後のマスの小麦の数：{}\".format(board_ndarray[-1].astype(np.uint64))) \n",
    "print(\"小麦のマス：{}\".format(board_ndarray))\n",
    "#print(board_ndarray.shape)\n",
    "#board_ndarray = board_ndarray.reshape(8,8)\n",
    "#print(board_ndarray.shape)"
   ]
  },
  {
   "cell_type": "markdown",
   "metadata": {},
   "source": [
    "**ブロードキャストを利用した新しい関数**"
   ]
  },
  {
   "cell_type": "code",
   "execution_count": 60,
   "metadata": {},
   "outputs": [],
   "source": [
    "def compute_mas_new_bro (n=8,m=8):\n",
    "\n",
    "    n_squares = n*m\n",
    "    \n",
    "    ndices_of_squares = np.arange(n_squares).astype(np.uint64)\n",
    "    board_ndarray = 2**ndices_of_squares\n",
    "    \n",
    "    board_ndarray = board_ndarray.reshape(n,m)\n",
    "\n",
    "    return board_ndarray.astype(np.uint64)"
   ]
  },
  {
   "cell_type": "code",
   "execution_count": 61,
   "metadata": {
    "scrolled": true
   },
   "outputs": [
    {
     "name": "stdout",
     "output_type": "stream",
     "text": [
      "最後のマスの小麦の数：[  72057594037927936  144115188075855872  288230376151711744\n",
      "  576460752303423488 1152921504606846976 2305843009213693952\n",
      " 4611686018427387904 9223372036854775808]\n",
      "小麦のマス：[[                  1                   2                   4\n",
      "                    8                  16                  32\n",
      "                   64                 128]\n",
      " [                256                 512                1024\n",
      "                 2048                4096                8192\n",
      "                16384               32768]\n",
      " [              65536              131072              262144\n",
      "               524288             1048576             2097152\n",
      "              4194304             8388608]\n",
      " [           16777216            33554432            67108864\n",
      "            134217728           268435456           536870912\n",
      "           1073741824          2147483648]\n",
      " [         4294967296          8589934592         17179869184\n",
      "          34359738368         68719476736        137438953472\n",
      "         274877906944        549755813888]\n",
      " [      1099511627776       2199023255552       4398046511104\n",
      "        8796093022208      17592186044416      35184372088832\n",
      "       70368744177664     140737488355328]\n",
      " [    281474976710656     562949953421312    1125899906842624\n",
      "     2251799813685248    4503599627370496    9007199254740992\n",
      "    18014398509481984   36028797018963968]\n",
      " [  72057594037927936  144115188075855872  288230376151711744\n",
      "   576460752303423488 1152921504606846976 2305843009213693952\n",
      "  4611686018427387904 9223372036854775808]]\n"
     ]
    }
   ],
   "source": [
    "board_ndarray_2 = compute_mas_new_bro()\n",
    "print(\"最後のマスの小麦の数：{}\".format(board_ndarray_2[-1].astype(np.uint64))) \n",
    "print(\"小麦のマス：{}\".format(board_ndarray_2))"
   ]
  },
  {
   "cell_type": "markdown",
   "metadata": {},
   "source": [
    "## 【問題7】計算時間の比較"
   ]
  },
  {
   "cell_type": "markdown",
   "metadata": {},
   "source": [
    "**forとarray使った関数**"
   ]
  },
  {
   "cell_type": "code",
   "execution_count": 71,
   "metadata": {
    "scrolled": false
   },
   "outputs": [
    {
     "name": "stdout",
     "output_type": "stream",
     "text": [
      "14.4 µs ± 96.2 ns per loop (mean ± std. dev. of 7 runs, 100000 loops each)\n"
     ]
    }
   ],
   "source": [
    "%%timeit\n",
    "compute_mas()"
   ]
  },
  {
   "cell_type": "markdown",
   "metadata": {},
   "source": [
    "**forとappend使った関数**"
   ]
  },
  {
   "cell_type": "code",
   "execution_count": 62,
   "metadata": {},
   "outputs": [
    {
     "name": "stderr",
     "output_type": "stream",
     "text": [
      "//anaconda3/lib/python3.7/site-packages/ipykernel_launcher.py:7: RuntimeWarning: overflow encountered in long_scalars\n",
      "  import sys\n"
     ]
    },
    {
     "name": "stdout",
     "output_type": "stream",
     "text": [
      "250 µs ± 13.1 µs per loop (mean ± std. dev. of 7 runs, 1000 loops each)\n"
     ]
    }
   ],
   "source": [
    "%%timeit\n",
    "compute_mas_new()"
   ]
  },
  {
   "cell_type": "markdown",
   "metadata": {},
   "source": [
    "**ブロードキャスト使った関数**"
   ]
  },
  {
   "cell_type": "code",
   "execution_count": 63,
   "metadata": {},
   "outputs": [
    {
     "name": "stdout",
     "output_type": "stream",
     "text": [
      "3.74 µs ± 87.1 ns per loop (mean ± std. dev. of 7 runs, 100000 loops each)\n"
     ]
    }
   ],
   "source": [
    "%%timeit\n",
    "compute_mas_new_bro()"
   ]
  }
 ],
 "metadata": {
  "kernelspec": {
   "display_name": "Python 3",
   "language": "python",
   "name": "python3"
  },
  "language_info": {
   "codemirror_mode": {
    "name": "ipython",
    "version": 3
   },
   "file_extension": ".py",
   "mimetype": "text/x-python",
   "name": "python",
   "nbconvert_exporter": "python",
   "pygments_lexer": "ipython3",
   "version": "3.7.3"
  }
 },
 "nbformat": 4,
 "nbformat_minor": 2
}
