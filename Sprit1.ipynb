{
 "cells": [
  {
   "cell_type": "markdown",
   "metadata": {},
   "source": [
    "# Sprint 機械学習フロー"
   ]
  },
  {
   "cell_type": "markdown",
   "metadata": {},
   "source": [
    "## 【問題1】クロスバリデーション"
   ]
  },
  {
   "cell_type": "code",
   "execution_count": 1,
   "metadata": {},
   "outputs": [],
   "source": [
    "import numpy as np\n",
    "import pandas as pd\n",
    "import missingno as msno\n",
    "import matplotlib.pyplot as plt\n",
    "import seaborn as sns"
   ]
  },
  {
   "cell_type": "code",
   "execution_count": 2,
   "metadata": {},
   "outputs": [],
   "source": [
    "path = '/Users/toyodasatomi/Desktop/DIC/data/application_train.csv'\n",
    "df = pd.read_csv(path)"
   ]
  },
  {
   "cell_type": "code",
   "execution_count": 3,
   "metadata": {},
   "outputs": [
    {
     "data": {
      "text/html": [
       "<div>\n",
       "<style scoped>\n",
       "    .dataframe tbody tr th:only-of-type {\n",
       "        vertical-align: middle;\n",
       "    }\n",
       "\n",
       "    .dataframe tbody tr th {\n",
       "        vertical-align: top;\n",
       "    }\n",
       "\n",
       "    .dataframe thead th {\n",
       "        text-align: right;\n",
       "    }\n",
       "</style>\n",
       "<table border=\"1\" class=\"dataframe\">\n",
       "  <thead>\n",
       "    <tr style=\"text-align: right;\">\n",
       "      <th></th>\n",
       "      <th>SK_ID_CURR</th>\n",
       "      <th>TARGET</th>\n",
       "      <th>NAME_CONTRACT_TYPE</th>\n",
       "      <th>CODE_GENDER</th>\n",
       "      <th>FLAG_OWN_CAR</th>\n",
       "      <th>FLAG_OWN_REALTY</th>\n",
       "      <th>CNT_CHILDREN</th>\n",
       "      <th>AMT_INCOME_TOTAL</th>\n",
       "      <th>AMT_CREDIT</th>\n",
       "      <th>AMT_ANNUITY</th>\n",
       "      <th>...</th>\n",
       "      <th>FLAG_DOCUMENT_18</th>\n",
       "      <th>FLAG_DOCUMENT_19</th>\n",
       "      <th>FLAG_DOCUMENT_20</th>\n",
       "      <th>FLAG_DOCUMENT_21</th>\n",
       "      <th>AMT_REQ_CREDIT_BUREAU_HOUR</th>\n",
       "      <th>AMT_REQ_CREDIT_BUREAU_DAY</th>\n",
       "      <th>AMT_REQ_CREDIT_BUREAU_WEEK</th>\n",
       "      <th>AMT_REQ_CREDIT_BUREAU_MON</th>\n",
       "      <th>AMT_REQ_CREDIT_BUREAU_QRT</th>\n",
       "      <th>AMT_REQ_CREDIT_BUREAU_YEAR</th>\n",
       "    </tr>\n",
       "  </thead>\n",
       "  <tbody>\n",
       "    <tr>\n",
       "      <th>0</th>\n",
       "      <td>100002</td>\n",
       "      <td>1</td>\n",
       "      <td>Cash loans</td>\n",
       "      <td>M</td>\n",
       "      <td>N</td>\n",
       "      <td>Y</td>\n",
       "      <td>0</td>\n",
       "      <td>202500.0</td>\n",
       "      <td>406597.5</td>\n",
       "      <td>24700.5</td>\n",
       "      <td>...</td>\n",
       "      <td>0</td>\n",
       "      <td>0</td>\n",
       "      <td>0</td>\n",
       "      <td>0</td>\n",
       "      <td>0.0</td>\n",
       "      <td>0.0</td>\n",
       "      <td>0.0</td>\n",
       "      <td>0.0</td>\n",
       "      <td>0.0</td>\n",
       "      <td>1.0</td>\n",
       "    </tr>\n",
       "    <tr>\n",
       "      <th>1</th>\n",
       "      <td>100003</td>\n",
       "      <td>0</td>\n",
       "      <td>Cash loans</td>\n",
       "      <td>F</td>\n",
       "      <td>N</td>\n",
       "      <td>N</td>\n",
       "      <td>0</td>\n",
       "      <td>270000.0</td>\n",
       "      <td>1293502.5</td>\n",
       "      <td>35698.5</td>\n",
       "      <td>...</td>\n",
       "      <td>0</td>\n",
       "      <td>0</td>\n",
       "      <td>0</td>\n",
       "      <td>0</td>\n",
       "      <td>0.0</td>\n",
       "      <td>0.0</td>\n",
       "      <td>0.0</td>\n",
       "      <td>0.0</td>\n",
       "      <td>0.0</td>\n",
       "      <td>0.0</td>\n",
       "    </tr>\n",
       "    <tr>\n",
       "      <th>2</th>\n",
       "      <td>100004</td>\n",
       "      <td>0</td>\n",
       "      <td>Revolving loans</td>\n",
       "      <td>M</td>\n",
       "      <td>Y</td>\n",
       "      <td>Y</td>\n",
       "      <td>0</td>\n",
       "      <td>67500.0</td>\n",
       "      <td>135000.0</td>\n",
       "      <td>6750.0</td>\n",
       "      <td>...</td>\n",
       "      <td>0</td>\n",
       "      <td>0</td>\n",
       "      <td>0</td>\n",
       "      <td>0</td>\n",
       "      <td>0.0</td>\n",
       "      <td>0.0</td>\n",
       "      <td>0.0</td>\n",
       "      <td>0.0</td>\n",
       "      <td>0.0</td>\n",
       "      <td>0.0</td>\n",
       "    </tr>\n",
       "    <tr>\n",
       "      <th>3</th>\n",
       "      <td>100006</td>\n",
       "      <td>0</td>\n",
       "      <td>Cash loans</td>\n",
       "      <td>F</td>\n",
       "      <td>N</td>\n",
       "      <td>Y</td>\n",
       "      <td>0</td>\n",
       "      <td>135000.0</td>\n",
       "      <td>312682.5</td>\n",
       "      <td>29686.5</td>\n",
       "      <td>...</td>\n",
       "      <td>0</td>\n",
       "      <td>0</td>\n",
       "      <td>0</td>\n",
       "      <td>0</td>\n",
       "      <td>NaN</td>\n",
       "      <td>NaN</td>\n",
       "      <td>NaN</td>\n",
       "      <td>NaN</td>\n",
       "      <td>NaN</td>\n",
       "      <td>NaN</td>\n",
       "    </tr>\n",
       "    <tr>\n",
       "      <th>4</th>\n",
       "      <td>100007</td>\n",
       "      <td>0</td>\n",
       "      <td>Cash loans</td>\n",
       "      <td>M</td>\n",
       "      <td>N</td>\n",
       "      <td>Y</td>\n",
       "      <td>0</td>\n",
       "      <td>121500.0</td>\n",
       "      <td>513000.0</td>\n",
       "      <td>21865.5</td>\n",
       "      <td>...</td>\n",
       "      <td>0</td>\n",
       "      <td>0</td>\n",
       "      <td>0</td>\n",
       "      <td>0</td>\n",
       "      <td>0.0</td>\n",
       "      <td>0.0</td>\n",
       "      <td>0.0</td>\n",
       "      <td>0.0</td>\n",
       "      <td>0.0</td>\n",
       "      <td>0.0</td>\n",
       "    </tr>\n",
       "  </tbody>\n",
       "</table>\n",
       "<p>5 rows × 122 columns</p>\n",
       "</div>"
      ],
      "text/plain": [
       "   SK_ID_CURR  TARGET NAME_CONTRACT_TYPE CODE_GENDER FLAG_OWN_CAR  \\\n",
       "0      100002       1         Cash loans           M            N   \n",
       "1      100003       0         Cash loans           F            N   \n",
       "2      100004       0    Revolving loans           M            Y   \n",
       "3      100006       0         Cash loans           F            N   \n",
       "4      100007       0         Cash loans           M            N   \n",
       "\n",
       "  FLAG_OWN_REALTY  CNT_CHILDREN  AMT_INCOME_TOTAL  AMT_CREDIT  AMT_ANNUITY  \\\n",
       "0               Y             0          202500.0    406597.5      24700.5   \n",
       "1               N             0          270000.0   1293502.5      35698.5   \n",
       "2               Y             0           67500.0    135000.0       6750.0   \n",
       "3               Y             0          135000.0    312682.5      29686.5   \n",
       "4               Y             0          121500.0    513000.0      21865.5   \n",
       "\n",
       "   ...  FLAG_DOCUMENT_18 FLAG_DOCUMENT_19 FLAG_DOCUMENT_20 FLAG_DOCUMENT_21  \\\n",
       "0  ...                 0                0                0                0   \n",
       "1  ...                 0                0                0                0   \n",
       "2  ...                 0                0                0                0   \n",
       "3  ...                 0                0                0                0   \n",
       "4  ...                 0                0                0                0   \n",
       "\n",
       "  AMT_REQ_CREDIT_BUREAU_HOUR AMT_REQ_CREDIT_BUREAU_DAY  \\\n",
       "0                        0.0                       0.0   \n",
       "1                        0.0                       0.0   \n",
       "2                        0.0                       0.0   \n",
       "3                        NaN                       NaN   \n",
       "4                        0.0                       0.0   \n",
       "\n",
       "   AMT_REQ_CREDIT_BUREAU_WEEK  AMT_REQ_CREDIT_BUREAU_MON  \\\n",
       "0                         0.0                        0.0   \n",
       "1                         0.0                        0.0   \n",
       "2                         0.0                        0.0   \n",
       "3                         NaN                        NaN   \n",
       "4                         0.0                        0.0   \n",
       "\n",
       "   AMT_REQ_CREDIT_BUREAU_QRT  AMT_REQ_CREDIT_BUREAU_YEAR  \n",
       "0                        0.0                         1.0  \n",
       "1                        0.0                         0.0  \n",
       "2                        0.0                         0.0  \n",
       "3                        NaN                         NaN  \n",
       "4                        0.0                         0.0  \n",
       "\n",
       "[5 rows x 122 columns]"
      ]
     },
     "metadata": {},
     "output_type": "display_data"
    }
   ],
   "source": [
    "display(df.head())"
   ]
  },
  {
   "cell_type": "code",
   "execution_count": 4,
   "metadata": {},
   "outputs": [],
   "source": [
    "#ダミー変数化\n",
    "import category_encoders as ce\n",
    "\n",
    "#エンコードしたい列を指定　# Eoncodeしたい列をリストで指定。もちろん複数指定可能。\n",
    "#全て\n",
    "list_cols = ['NAME_CONTRACT_TYPE','CODE_GENDER','FLAG_OWN_CAR','FLAG_OWN_REALTY','CNT_CHILDREN'\n",
    "            ,'NAME_FAMILY_STATUS','NAME_HOUSING_TYPE','NAME_TYPE_SUITE','NAME_INCOME_TYPE'\n",
    "            ,'NAME_EDUCATION_TYPE','OCCUPATION_TYPE','WEEKDAY_APPR_PROCESS_START','ORGANIZATION_TYPE'\n",
    "            ,'FONDKAPREMONT_MODE','HOUSETYPE_MODE','WALLSMATERIAL_MODE','EMERGENCYSTATE_MODE']\n",
    "# OneHotEncodeしたい列を指定。Nullや不明の場合の補完方法も指定。\n",
    "ce_ohe = ce.OneHotEncoder(cols=list_cols,handle_unknown='impute')\n",
    "# pd.DataFrameをそのまま突っ込む\n",
    "df_onehot = ce_ohe.fit_transform(df)"
   ]
  },
  {
   "cell_type": "code",
   "execution_count": 5,
   "metadata": {},
   "outputs": [],
   "source": [
    "#全部０で埋める\n",
    "df_onehot_nonan = df_onehot.fillna(0)"
   ]
  },
  {
   "cell_type": "code",
   "execution_count": 6,
   "metadata": {},
   "outputs": [],
   "source": [
    "#Xとyにデータ入れる\n",
    "X = df_onehot_nonan.drop(\"TARGET\", axis = 1)\n",
    "y = df_onehot_nonan.iloc[:,1]"
   ]
  },
  {
   "cell_type": "code",
   "execution_count": 15,
   "metadata": {},
   "outputs": [
    {
     "data": {
      "text/html": [
       "<div>\n",
       "<style scoped>\n",
       "    .dataframe tbody tr th:only-of-type {\n",
       "        vertical-align: middle;\n",
       "    }\n",
       "\n",
       "    .dataframe tbody tr th {\n",
       "        vertical-align: top;\n",
       "    }\n",
       "\n",
       "    .dataframe thead th {\n",
       "        text-align: right;\n",
       "    }\n",
       "</style>\n",
       "<table border=\"1\" class=\"dataframe\">\n",
       "  <thead>\n",
       "    <tr style=\"text-align: right;\">\n",
       "      <th></th>\n",
       "      <th>SK_ID_CURR</th>\n",
       "      <th>NAME_CONTRACT_TYPE_1</th>\n",
       "      <th>NAME_CONTRACT_TYPE_2</th>\n",
       "      <th>CODE_GENDER_1</th>\n",
       "      <th>CODE_GENDER_2</th>\n",
       "      <th>CODE_GENDER_3</th>\n",
       "      <th>FLAG_OWN_CAR_1</th>\n",
       "      <th>FLAG_OWN_CAR_2</th>\n",
       "      <th>FLAG_OWN_REALTY_1</th>\n",
       "      <th>FLAG_OWN_REALTY_2</th>\n",
       "      <th>...</th>\n",
       "      <th>FLAG_DOCUMENT_18</th>\n",
       "      <th>FLAG_DOCUMENT_19</th>\n",
       "      <th>FLAG_DOCUMENT_20</th>\n",
       "      <th>FLAG_DOCUMENT_21</th>\n",
       "      <th>AMT_REQ_CREDIT_BUREAU_HOUR</th>\n",
       "      <th>AMT_REQ_CREDIT_BUREAU_DAY</th>\n",
       "      <th>AMT_REQ_CREDIT_BUREAU_WEEK</th>\n",
       "      <th>AMT_REQ_CREDIT_BUREAU_MON</th>\n",
       "      <th>AMT_REQ_CREDIT_BUREAU_QRT</th>\n",
       "      <th>AMT_REQ_CREDIT_BUREAU_YEAR</th>\n",
       "    </tr>\n",
       "  </thead>\n",
       "  <tbody>\n",
       "    <tr>\n",
       "      <th>0</th>\n",
       "      <td>100002</td>\n",
       "      <td>1</td>\n",
       "      <td>0</td>\n",
       "      <td>1</td>\n",
       "      <td>0</td>\n",
       "      <td>0</td>\n",
       "      <td>1</td>\n",
       "      <td>0</td>\n",
       "      <td>1</td>\n",
       "      <td>0</td>\n",
       "      <td>...</td>\n",
       "      <td>0</td>\n",
       "      <td>0</td>\n",
       "      <td>0</td>\n",
       "      <td>0</td>\n",
       "      <td>0.0</td>\n",
       "      <td>0.0</td>\n",
       "      <td>0.0</td>\n",
       "      <td>0.0</td>\n",
       "      <td>0.0</td>\n",
       "      <td>1.0</td>\n",
       "    </tr>\n",
       "    <tr>\n",
       "      <th>1</th>\n",
       "      <td>100003</td>\n",
       "      <td>1</td>\n",
       "      <td>0</td>\n",
       "      <td>0</td>\n",
       "      <td>1</td>\n",
       "      <td>0</td>\n",
       "      <td>1</td>\n",
       "      <td>0</td>\n",
       "      <td>0</td>\n",
       "      <td>1</td>\n",
       "      <td>...</td>\n",
       "      <td>0</td>\n",
       "      <td>0</td>\n",
       "      <td>0</td>\n",
       "      <td>0</td>\n",
       "      <td>0.0</td>\n",
       "      <td>0.0</td>\n",
       "      <td>0.0</td>\n",
       "      <td>0.0</td>\n",
       "      <td>0.0</td>\n",
       "      <td>0.0</td>\n",
       "    </tr>\n",
       "    <tr>\n",
       "      <th>2</th>\n",
       "      <td>100004</td>\n",
       "      <td>0</td>\n",
       "      <td>1</td>\n",
       "      <td>1</td>\n",
       "      <td>0</td>\n",
       "      <td>0</td>\n",
       "      <td>0</td>\n",
       "      <td>1</td>\n",
       "      <td>1</td>\n",
       "      <td>0</td>\n",
       "      <td>...</td>\n",
       "      <td>0</td>\n",
       "      <td>0</td>\n",
       "      <td>0</td>\n",
       "      <td>0</td>\n",
       "      <td>0.0</td>\n",
       "      <td>0.0</td>\n",
       "      <td>0.0</td>\n",
       "      <td>0.0</td>\n",
       "      <td>0.0</td>\n",
       "      <td>0.0</td>\n",
       "    </tr>\n",
       "    <tr>\n",
       "      <th>3</th>\n",
       "      <td>100006</td>\n",
       "      <td>1</td>\n",
       "      <td>0</td>\n",
       "      <td>0</td>\n",
       "      <td>1</td>\n",
       "      <td>0</td>\n",
       "      <td>1</td>\n",
       "      <td>0</td>\n",
       "      <td>1</td>\n",
       "      <td>0</td>\n",
       "      <td>...</td>\n",
       "      <td>0</td>\n",
       "      <td>0</td>\n",
       "      <td>0</td>\n",
       "      <td>0</td>\n",
       "      <td>0.0</td>\n",
       "      <td>0.0</td>\n",
       "      <td>0.0</td>\n",
       "      <td>0.0</td>\n",
       "      <td>0.0</td>\n",
       "      <td>0.0</td>\n",
       "    </tr>\n",
       "    <tr>\n",
       "      <th>4</th>\n",
       "      <td>100007</td>\n",
       "      <td>1</td>\n",
       "      <td>0</td>\n",
       "      <td>1</td>\n",
       "      <td>0</td>\n",
       "      <td>0</td>\n",
       "      <td>1</td>\n",
       "      <td>0</td>\n",
       "      <td>1</td>\n",
       "      <td>0</td>\n",
       "      <td>...</td>\n",
       "      <td>0</td>\n",
       "      <td>0</td>\n",
       "      <td>0</td>\n",
       "      <td>0</td>\n",
       "      <td>0.0</td>\n",
       "      <td>0.0</td>\n",
       "      <td>0.0</td>\n",
       "      <td>0.0</td>\n",
       "      <td>0.0</td>\n",
       "      <td>0.0</td>\n",
       "    </tr>\n",
       "  </tbody>\n",
       "</table>\n",
       "<p>5 rows × 265 columns</p>\n",
       "</div>"
      ],
      "text/plain": [
       "   SK_ID_CURR  NAME_CONTRACT_TYPE_1  NAME_CONTRACT_TYPE_2  CODE_GENDER_1  \\\n",
       "0      100002                     1                     0              1   \n",
       "1      100003                     1                     0              0   \n",
       "2      100004                     0                     1              1   \n",
       "3      100006                     1                     0              0   \n",
       "4      100007                     1                     0              1   \n",
       "\n",
       "   CODE_GENDER_2  CODE_GENDER_3  FLAG_OWN_CAR_1  FLAG_OWN_CAR_2  \\\n",
       "0              0              0               1               0   \n",
       "1              1              0               1               0   \n",
       "2              0              0               0               1   \n",
       "3              1              0               1               0   \n",
       "4              0              0               1               0   \n",
       "\n",
       "   FLAG_OWN_REALTY_1  FLAG_OWN_REALTY_2  ...  FLAG_DOCUMENT_18  \\\n",
       "0                  1                  0  ...                 0   \n",
       "1                  0                  1  ...                 0   \n",
       "2                  1                  0  ...                 0   \n",
       "3                  1                  0  ...                 0   \n",
       "4                  1                  0  ...                 0   \n",
       "\n",
       "   FLAG_DOCUMENT_19  FLAG_DOCUMENT_20  FLAG_DOCUMENT_21  \\\n",
       "0                 0                 0                 0   \n",
       "1                 0                 0                 0   \n",
       "2                 0                 0                 0   \n",
       "3                 0                 0                 0   \n",
       "4                 0                 0                 0   \n",
       "\n",
       "   AMT_REQ_CREDIT_BUREAU_HOUR  AMT_REQ_CREDIT_BUREAU_DAY  \\\n",
       "0                         0.0                        0.0   \n",
       "1                         0.0                        0.0   \n",
       "2                         0.0                        0.0   \n",
       "3                         0.0                        0.0   \n",
       "4                         0.0                        0.0   \n",
       "\n",
       "   AMT_REQ_CREDIT_BUREAU_WEEK  AMT_REQ_CREDIT_BUREAU_MON  \\\n",
       "0                         0.0                        0.0   \n",
       "1                         0.0                        0.0   \n",
       "2                         0.0                        0.0   \n",
       "3                         0.0                        0.0   \n",
       "4                         0.0                        0.0   \n",
       "\n",
       "   AMT_REQ_CREDIT_BUREAU_QRT  AMT_REQ_CREDIT_BUREAU_YEAR  \n",
       "0                        0.0                         1.0  \n",
       "1                        0.0                         0.0  \n",
       "2                        0.0                         0.0  \n",
       "3                        0.0                         0.0  \n",
       "4                        0.0                         0.0  \n",
       "\n",
       "[5 rows x 265 columns]"
      ]
     },
     "metadata": {},
     "output_type": "display_data"
    },
    {
     "data": {
      "text/plain": [
       "0    1\n",
       "1    0\n",
       "2    0\n",
       "3    0\n",
       "4    0\n",
       "Name: TARGET, dtype: int64"
      ]
     },
     "metadata": {},
     "output_type": "display_data"
    }
   ],
   "source": [
    "display(X.head())\n",
    "display(y.head())"
   ]
  },
  {
   "cell_type": "code",
   "execution_count": null,
   "metadata": {},
   "outputs": [],
   "source": [
    "#sklearn.model_selection.KFoldのサンプルコード\n",
    "''''\n",
    "Examples\n",
    "\n",
    ">>>\n",
    ">>> import numpy as np\n",
    ">>> from sklearn.model_selection import KFold\n",
    ">>> X = np.array([[1, 2], [3, 4], [1, 2], [3, 4]])\n",
    ">>> y = np.array([1, 2, 3, 4])\n",
    ">>> kf = KFold(n_splits=2)\n",
    ">>> kf.get_n_splits(X)\n",
    "2\n",
    ">>> print(kf)  \n",
    "KFold(n_splits=2, random_state=None, shuffle=False)\n",
    ">>> for train_index, test_index in kf.split(X):\n",
    "...    print(\"TRAIN:\", train_index, \"TEST:\", test_index)\n",
    "...    X_train, X_test = X[train_index], X[test_index]\n",
    "...    y_train, y_test = y[train_index], y[test_index]\n",
    "TRAIN: [2 3] TEST: [0 1]\n",
    "TRAIN: [0 1] TEST: [2 3]\n",
    "Methods\n",
    "''''"
   ]
  },
  {
   "cell_type": "code",
   "execution_count": 20,
   "metadata": {},
   "outputs": [],
   "source": [
    "from sklearn.model_selection import KFold"
   ]
  },
  {
   "cell_type": "code",
   "execution_count": 9,
   "metadata": {},
   "outputs": [],
   "source": [
    "#インスタンス化\n",
    "kf = KFold(n_splits=2)"
   ]
  },
  {
   "cell_type": "code",
   "execution_count": 10,
   "metadata": {},
   "outputs": [
    {
     "data": {
      "text/plain": [
       "2"
      ]
     },
     "execution_count": 10,
     "metadata": {},
     "output_type": "execute_result"
    }
   ],
   "source": [
    "#やってみる：クロスバリデーターの分割反復の数を返します\n",
    "kf.get_n_splits(X)"
   ]
  },
  {
   "cell_type": "code",
   "execution_count": 12,
   "metadata": {},
   "outputs": [],
   "source": [
    "#やってみる　スプリット実行　\n",
    "#入れる変数が必要\n",
    "a,b=kf.split(X)"
   ]
  },
  {
   "cell_type": "code",
   "execution_count": 13,
   "metadata": {},
   "outputs": [
    {
     "name": "stdout",
     "output_type": "stream",
     "text": [
      "(array([153756, 153757, 153758, ..., 307508, 307509, 307510]), array([     0,      1,      2, ..., 153753, 153754, 153755]))\n"
     ]
    }
   ],
   "source": [
    "print(a)"
   ]
  },
  {
   "cell_type": "code",
   "execution_count": 25,
   "metadata": {},
   "outputs": [
    {
     "data": {
      "text/plain": [
       "KFold(n_splits=2, random_state=None, shuffle=False)"
      ]
     },
     "execution_count": 25,
     "metadata": {},
     "output_type": "execute_result"
    }
   ],
   "source": [
    "KFold(n_splits=2, random_state=None, shuffle=False)"
   ]
  },
  {
   "cell_type": "markdown",
   "metadata": {},
   "source": [
    "参考  \n",
    "https://blog.amedama.jp/entry/2018/06/21/235951"
   ]
  },
  {
   "cell_type": "code",
   "execution_count": 14,
   "metadata": {},
   "outputs": [
    {
     "name": "stdout",
     "output_type": "stream",
     "text": [
      "train_index: [153756 153757 153758 ... 307508 307509 307510] test_index: [     0      1      2 ... 153753 153754 153755]\n",
      "train_index: [     0      1      2 ... 153753 153754 153755] test_index: [153756 153757 153758 ... 307508 307509 307510]\n"
     ]
    }
   ],
   "source": [
    "#splitではデータフレームのインデックスを抽出できるみたい\n",
    "for train_index, test_index in kf.split(X, y):\n",
    "    train_df = df_onehot.iloc[train_index]\n",
    "    test_df = df_onehot.iloc[test_index]\n",
    "    print(\"train_index:\", train_index, \"test_index:\", test_index)"
   ]
  },
  {
   "cell_type": "code",
   "execution_count": 28,
   "metadata": {},
   "outputs": [
    {
     "name": "stdout",
     "output_type": "stream",
     "text": [
      "[     0      1      2 ... 205005 205006 205007]\n"
     ]
    }
   ],
   "source": [
    "print(train_index)"
   ]
  },
  {
   "cell_type": "code",
   "execution_count": 15,
   "metadata": {},
   "outputs": [
    {
     "data": {
      "text/html": [
       "<div>\n",
       "<style scoped>\n",
       "    .dataframe tbody tr th:only-of-type {\n",
       "        vertical-align: middle;\n",
       "    }\n",
       "\n",
       "    .dataframe tbody tr th {\n",
       "        vertical-align: top;\n",
       "    }\n",
       "\n",
       "    .dataframe thead th {\n",
       "        text-align: right;\n",
       "    }\n",
       "</style>\n",
       "<table border=\"1\" class=\"dataframe\">\n",
       "  <thead>\n",
       "    <tr style=\"text-align: right;\">\n",
       "      <th></th>\n",
       "      <th>SK_ID_CURR</th>\n",
       "      <th>TARGET</th>\n",
       "      <th>NAME_CONTRACT_TYPE_1</th>\n",
       "      <th>NAME_CONTRACT_TYPE_2</th>\n",
       "      <th>CODE_GENDER_1</th>\n",
       "      <th>CODE_GENDER_2</th>\n",
       "      <th>CODE_GENDER_3</th>\n",
       "      <th>FLAG_OWN_CAR_1</th>\n",
       "      <th>FLAG_OWN_CAR_2</th>\n",
       "      <th>FLAG_OWN_REALTY_1</th>\n",
       "      <th>...</th>\n",
       "      <th>FLAG_DOCUMENT_18</th>\n",
       "      <th>FLAG_DOCUMENT_19</th>\n",
       "      <th>FLAG_DOCUMENT_20</th>\n",
       "      <th>FLAG_DOCUMENT_21</th>\n",
       "      <th>AMT_REQ_CREDIT_BUREAU_HOUR</th>\n",
       "      <th>AMT_REQ_CREDIT_BUREAU_DAY</th>\n",
       "      <th>AMT_REQ_CREDIT_BUREAU_WEEK</th>\n",
       "      <th>AMT_REQ_CREDIT_BUREAU_MON</th>\n",
       "      <th>AMT_REQ_CREDIT_BUREAU_QRT</th>\n",
       "      <th>AMT_REQ_CREDIT_BUREAU_YEAR</th>\n",
       "    </tr>\n",
       "  </thead>\n",
       "  <tbody>\n",
       "    <tr>\n",
       "      <th>0</th>\n",
       "      <td>100002</td>\n",
       "      <td>1</td>\n",
       "      <td>1</td>\n",
       "      <td>0</td>\n",
       "      <td>1</td>\n",
       "      <td>0</td>\n",
       "      <td>0</td>\n",
       "      <td>1</td>\n",
       "      <td>0</td>\n",
       "      <td>1</td>\n",
       "      <td>...</td>\n",
       "      <td>0</td>\n",
       "      <td>0</td>\n",
       "      <td>0</td>\n",
       "      <td>0</td>\n",
       "      <td>0.0</td>\n",
       "      <td>0.0</td>\n",
       "      <td>0.0</td>\n",
       "      <td>0.0</td>\n",
       "      <td>0.0</td>\n",
       "      <td>1.0</td>\n",
       "    </tr>\n",
       "    <tr>\n",
       "      <th>1</th>\n",
       "      <td>100003</td>\n",
       "      <td>0</td>\n",
       "      <td>1</td>\n",
       "      <td>0</td>\n",
       "      <td>0</td>\n",
       "      <td>1</td>\n",
       "      <td>0</td>\n",
       "      <td>1</td>\n",
       "      <td>0</td>\n",
       "      <td>0</td>\n",
       "      <td>...</td>\n",
       "      <td>0</td>\n",
       "      <td>0</td>\n",
       "      <td>0</td>\n",
       "      <td>0</td>\n",
       "      <td>0.0</td>\n",
       "      <td>0.0</td>\n",
       "      <td>0.0</td>\n",
       "      <td>0.0</td>\n",
       "      <td>0.0</td>\n",
       "      <td>0.0</td>\n",
       "    </tr>\n",
       "    <tr>\n",
       "      <th>2</th>\n",
       "      <td>100004</td>\n",
       "      <td>0</td>\n",
       "      <td>0</td>\n",
       "      <td>1</td>\n",
       "      <td>1</td>\n",
       "      <td>0</td>\n",
       "      <td>0</td>\n",
       "      <td>0</td>\n",
       "      <td>1</td>\n",
       "      <td>1</td>\n",
       "      <td>...</td>\n",
       "      <td>0</td>\n",
       "      <td>0</td>\n",
       "      <td>0</td>\n",
       "      <td>0</td>\n",
       "      <td>0.0</td>\n",
       "      <td>0.0</td>\n",
       "      <td>0.0</td>\n",
       "      <td>0.0</td>\n",
       "      <td>0.0</td>\n",
       "      <td>0.0</td>\n",
       "    </tr>\n",
       "    <tr>\n",
       "      <th>3</th>\n",
       "      <td>100006</td>\n",
       "      <td>0</td>\n",
       "      <td>1</td>\n",
       "      <td>0</td>\n",
       "      <td>0</td>\n",
       "      <td>1</td>\n",
       "      <td>0</td>\n",
       "      <td>1</td>\n",
       "      <td>0</td>\n",
       "      <td>1</td>\n",
       "      <td>...</td>\n",
       "      <td>0</td>\n",
       "      <td>0</td>\n",
       "      <td>0</td>\n",
       "      <td>0</td>\n",
       "      <td>NaN</td>\n",
       "      <td>NaN</td>\n",
       "      <td>NaN</td>\n",
       "      <td>NaN</td>\n",
       "      <td>NaN</td>\n",
       "      <td>NaN</td>\n",
       "    </tr>\n",
       "    <tr>\n",
       "      <th>4</th>\n",
       "      <td>100007</td>\n",
       "      <td>0</td>\n",
       "      <td>1</td>\n",
       "      <td>0</td>\n",
       "      <td>1</td>\n",
       "      <td>0</td>\n",
       "      <td>0</td>\n",
       "      <td>1</td>\n",
       "      <td>0</td>\n",
       "      <td>1</td>\n",
       "      <td>...</td>\n",
       "      <td>0</td>\n",
       "      <td>0</td>\n",
       "      <td>0</td>\n",
       "      <td>0</td>\n",
       "      <td>0.0</td>\n",
       "      <td>0.0</td>\n",
       "      <td>0.0</td>\n",
       "      <td>0.0</td>\n",
       "      <td>0.0</td>\n",
       "      <td>0.0</td>\n",
       "    </tr>\n",
       "  </tbody>\n",
       "</table>\n",
       "<p>5 rows × 266 columns</p>\n",
       "</div>"
      ],
      "text/plain": [
       "   SK_ID_CURR  TARGET  NAME_CONTRACT_TYPE_1  NAME_CONTRACT_TYPE_2  \\\n",
       "0      100002       1                     1                     0   \n",
       "1      100003       0                     1                     0   \n",
       "2      100004       0                     0                     1   \n",
       "3      100006       0                     1                     0   \n",
       "4      100007       0                     1                     0   \n",
       "\n",
       "   CODE_GENDER_1  CODE_GENDER_2  CODE_GENDER_3  FLAG_OWN_CAR_1  \\\n",
       "0              1              0              0               1   \n",
       "1              0              1              0               1   \n",
       "2              1              0              0               0   \n",
       "3              0              1              0               1   \n",
       "4              1              0              0               1   \n",
       "\n",
       "   FLAG_OWN_CAR_2  FLAG_OWN_REALTY_1  ...  FLAG_DOCUMENT_18  FLAG_DOCUMENT_19  \\\n",
       "0               0                  1  ...                 0                 0   \n",
       "1               0                  0  ...                 0                 0   \n",
       "2               1                  1  ...                 0                 0   \n",
       "3               0                  1  ...                 0                 0   \n",
       "4               0                  1  ...                 0                 0   \n",
       "\n",
       "   FLAG_DOCUMENT_20  FLAG_DOCUMENT_21  AMT_REQ_CREDIT_BUREAU_HOUR  \\\n",
       "0                 0                 0                         0.0   \n",
       "1                 0                 0                         0.0   \n",
       "2                 0                 0                         0.0   \n",
       "3                 0                 0                         NaN   \n",
       "4                 0                 0                         0.0   \n",
       "\n",
       "   AMT_REQ_CREDIT_BUREAU_DAY  AMT_REQ_CREDIT_BUREAU_WEEK  \\\n",
       "0                        0.0                         0.0   \n",
       "1                        0.0                         0.0   \n",
       "2                        0.0                         0.0   \n",
       "3                        NaN                         NaN   \n",
       "4                        0.0                         0.0   \n",
       "\n",
       "   AMT_REQ_CREDIT_BUREAU_MON  AMT_REQ_CREDIT_BUREAU_QRT  \\\n",
       "0                        0.0                        0.0   \n",
       "1                        0.0                        0.0   \n",
       "2                        0.0                        0.0   \n",
       "3                        NaN                        NaN   \n",
       "4                        0.0                        0.0   \n",
       "\n",
       "   AMT_REQ_CREDIT_BUREAU_YEAR  \n",
       "0                         1.0  \n",
       "1                         0.0  \n",
       "2                         0.0  \n",
       "3                         NaN  \n",
       "4                         0.0  \n",
       "\n",
       "[5 rows x 266 columns]"
      ]
     },
     "metadata": {},
     "output_type": "display_data"
    }
   ],
   "source": [
    "display(train_df.head())"
   ]
  },
  {
   "cell_type": "code",
   "execution_count": 38,
   "metadata": {},
   "outputs": [
    {
     "ename": "SyntaxError",
     "evalue": "EOL while scanning string literal (<ipython-input-38-cff7efad1523>, line 14)",
     "output_type": "error",
     "traceback": [
      "\u001b[0;36m  File \u001b[0;32m\"<ipython-input-38-cff7efad1523>\"\u001b[0;36m, line \u001b[0;32m14\u001b[0m\n\u001b[0;31m    ''''\u001b[0m\n\u001b[0m        \n^\u001b[0m\n\u001b[0;31mSyntaxError\u001b[0m\u001b[0;31m:\u001b[0m EOL while scanning string literal\n"
     ]
    }
   ],
   "source": [
    "''''\n",
    "sklearn.model_selection.cross_val_score\n",
    "Examples\n",
    "\n",
    ">>>\n",
    ">>> from sklearn import datasets, linear_model\n",
    ">>> from sklearn.model_selection import cross_val_score\n",
    ">>> diabetes = datasets.load_diabetes()\n",
    ">>> X = diabetes.data[:150]\n",
    ">>> y = diabetes.target[:150]\n",
    ">>> lasso = linear_model.Lasso()\n",
    ">>> print(cross_val_score(lasso, X, y, cv=3))  \n",
    "[0.33150734 0.08022311 0.03531764]\n",
    "''''"
   ]
  },
  {
   "cell_type": "code",
   "execution_count": 7,
   "metadata": {},
   "outputs": [],
   "source": [
    "# 交差検証\n",
    "from sklearn.model_selection import cross_val_score\n",
    "# ロジスティック回帰\n",
    "from sklearn.linear_model import LogisticRegression\n",
    "# SVM\n",
    "from sklearn.svm import LinearSVC\n",
    "# 決定木\n",
    "from sklearn.tree import  DecisionTreeClassifier\n",
    "# k-NN\n",
    "from sklearn.neighbors import  KNeighborsClassifier\n",
    "# ランダムフォレスト\n",
    "from sklearn.ensemble import RandomForestClassifier"
   ]
  },
  {
   "cell_type": "code",
   "execution_count": 8,
   "metadata": {},
   "outputs": [],
   "source": [
    "from sklearn.metrics import roc_auc_score"
   ]
  },
  {
   "cell_type": "code",
   "execution_count": null,
   "metadata": {},
   "outputs": [],
   "source": [
    "#終わらない\n",
    "#models = [LogisticRegression(),LinearSVC(),DecisionTreeClassifier(),KNeighborsClassifier(n_neighbors = 6),RandomForestClassifier()]\n",
    "scores = {}\n",
    "for model in models:\n",
    "    scores[str(model).split('(')[0]] = cross_val_score(model, X, y, cv=5)\n",
    "df_scores = pd.DataFrame(scores)"
   ]
  },
  {
   "cell_type": "code",
   "execution_count": 67,
   "metadata": {},
   "outputs": [
    {
     "name": "stderr",
     "output_type": "stream",
     "text": [
      "//anaconda3/lib/python3.7/site-packages/sklearn/ensemble/forest.py:245: FutureWarning: The default value of n_estimators will change from 10 in version 0.20 to 100 in 0.22.\n",
      "  \"10 in version 0.20 to 100 in 0.22.\", FutureWarning)\n",
      "//anaconda3/lib/python3.7/site-packages/sklearn/ensemble/forest.py:245: FutureWarning: The default value of n_estimators will change from 10 in version 0.20 to 100 in 0.22.\n",
      "  \"10 in version 0.20 to 100 in 0.22.\", FutureWarning)\n"
     ]
    }
   ],
   "source": [
    "#cvを数字指定\n",
    "models = [RandomForestClassifier()]\n",
    "scores = {}\n",
    "for model in models:\n",
    "    scores[str(model).split('(')[0]] = cross_val_score(model, X, y, cv=2,scoring='roc_auc')\n",
    "df_scores = pd.DataFrame(scores)"
   ]
  },
  {
   "cell_type": "code",
   "execution_count": 68,
   "metadata": {},
   "outputs": [
    {
     "data": {
      "text/html": [
       "<div>\n",
       "<style scoped>\n",
       "    .dataframe tbody tr th:only-of-type {\n",
       "        vertical-align: middle;\n",
       "    }\n",
       "\n",
       "    .dataframe tbody tr th {\n",
       "        vertical-align: top;\n",
       "    }\n",
       "\n",
       "    .dataframe thead th {\n",
       "        text-align: right;\n",
       "    }\n",
       "</style>\n",
       "<table border=\"1\" class=\"dataframe\">\n",
       "  <thead>\n",
       "    <tr style=\"text-align: right;\">\n",
       "      <th></th>\n",
       "      <th>RandomForestClassifier</th>\n",
       "    </tr>\n",
       "  </thead>\n",
       "  <tbody>\n",
       "    <tr>\n",
       "      <th>0</th>\n",
       "      <td>0.561223</td>\n",
       "    </tr>\n",
       "    <tr>\n",
       "      <th>1</th>\n",
       "      <td>0.607978</td>\n",
       "    </tr>\n",
       "  </tbody>\n",
       "</table>\n",
       "</div>"
      ],
      "text/plain": [
       "   RandomForestClassifier\n",
       "0                0.561223\n",
       "1                0.607978"
      ]
     },
     "metadata": {},
     "output_type": "display_data"
    }
   ],
   "source": [
    "display(df_scores)"
   ]
  },
  {
   "cell_type": "code",
   "execution_count": 84,
   "metadata": {},
   "outputs": [
    {
     "name": "stderr",
     "output_type": "stream",
     "text": [
      "//anaconda3/lib/python3.7/site-packages/sklearn/ensemble/forest.py:245: FutureWarning: The default value of n_estimators will change from 10 in version 0.20 to 100 in 0.22.\n",
      "  \"10 in version 0.20 to 100 in 0.22.\", FutureWarning)\n",
      "//anaconda3/lib/python3.7/site-packages/sklearn/ensemble/forest.py:245: FutureWarning: The default value of n_estimators will change from 10 in version 0.20 to 100 in 0.22.\n",
      "  \"10 in version 0.20 to 100 in 0.22.\", FutureWarning)\n"
     ]
    }
   ],
   "source": [
    "#cvをインスタンスで指定\n",
    "models = [RandomForestClassifier()]\n",
    "scores = {}\n",
    "for model in models:\n",
    "    scores[str(model).split('(')[0]] = cross_val_score(model, X, y, cv=kf,scoring='roc_auc')\n",
    "df_scores = pd.DataFrame(scores)"
   ]
  },
  {
   "cell_type": "code",
   "execution_count": 85,
   "metadata": {},
   "outputs": [
    {
     "data": {
      "text/html": [
       "<div>\n",
       "<style scoped>\n",
       "    .dataframe tbody tr th:only-of-type {\n",
       "        vertical-align: middle;\n",
       "    }\n",
       "\n",
       "    .dataframe tbody tr th {\n",
       "        vertical-align: top;\n",
       "    }\n",
       "\n",
       "    .dataframe thead th {\n",
       "        text-align: right;\n",
       "    }\n",
       "</style>\n",
       "<table border=\"1\" class=\"dataframe\">\n",
       "  <thead>\n",
       "    <tr style=\"text-align: right;\">\n",
       "      <th></th>\n",
       "      <th>RandomForestClassifier</th>\n",
       "    </tr>\n",
       "  </thead>\n",
       "  <tbody>\n",
       "    <tr>\n",
       "      <th>0</th>\n",
       "      <td>0.609041</td>\n",
       "    </tr>\n",
       "    <tr>\n",
       "      <th>1</th>\n",
       "      <td>0.617293</td>\n",
       "    </tr>\n",
       "  </tbody>\n",
       "</table>\n",
       "</div>"
      ],
      "text/plain": [
       "   RandomForestClassifier\n",
       "0                0.609041\n",
       "1                0.617293"
      ]
     },
     "metadata": {},
     "output_type": "display_data"
    }
   ],
   "source": [
    "display(df_scores)"
   ]
  },
  {
   "cell_type": "markdown",
   "metadata": {},
   "source": [
    "## 【問題2】グリッドサーチ"
   ]
  },
  {
   "cell_type": "markdown",
   "metadata": {},
   "source": [
    "sklearn.model_selection.GridSearchCV\n",
    "\n",
    "Examples\n",
    "\n",
    ">>>\n",
    ">>> from sklearn import svm, datasets\n",
    ">>> from sklearn.model_selection import GridSearchCV\n",
    ">>> iris = datasets.load_iris()\n",
    ">>> parameters = {'kernel':('linear', 'rbf'), 'C':[1, 10]}\n",
    ">>> svc = svm.SVC(gamma=\"scale\")\n",
    ">>> clf = GridSearchCV(svc, parameters, cv=5)\n",
    ">>> clf.fit(iris.data, iris.target)\n",
    "...                             \n",
    "GridSearchCV(cv=5, error_score=...,\n",
    "       estimator=SVC(C=1.0, cache_size=..., class_weight=..., coef0=...,\n",
    "                     decision_function_shape='ovr', degree=..., gamma=...,\n",
    "                     kernel='rbf', max_iter=-1, probability=False,\n",
    "                     random_state=None, shrinking=True, tol=...,\n",
    "                     verbose=False),\n",
    "       iid=..., n_jobs=None,\n",
    "       param_grid=..., pre_dispatch=..., refit=..., return_train_score=...,\n",
    "       scoring=..., verbose=...)\n",
    ">>> sorted(clf.cv_results_.keys())\n",
    "...                             \n",
    "['mean_fit_time', 'mean_score_time', 'mean_test_score',...\n",
    " 'param_C', 'param_kernel', 'params',...\n",
    " 'rank_test_score', 'split0_test_score',...\n",
    " 'split2_test_score', ...\n",
    " 'std_fit_time', 'std_score_time', 'std_test_score']"
   ]
  },
  {
   "cell_type": "code",
   "execution_count": 48,
   "metadata": {},
   "outputs": [],
   "source": [
    "from sklearn.model_selection import train_test_split\n",
    "\n",
    "X_train, X_test, y_train, y_test = train_test_split(X, y, test_size=0.25, random_state=42)"
   ]
  },
  {
   "cell_type": "markdown",
   "metadata": {},
   "source": [
    "参考：  \n",
    "https://blog.amedama.jp/entry/2017/09/05/221037"
   ]
  },
  {
   "cell_type": "code",
   "execution_count": 23,
   "metadata": {},
   "outputs": [],
   "source": [
    "from sklearn.model_selection import GridSearchCV"
   ]
  },
  {
   "cell_type": "code",
   "execution_count": 12,
   "metadata": {},
   "outputs": [],
   "source": [
    "def main():\n",
    "    # 優れたハイパーパラメータを見つけたいモデル\n",
    "    clf = DecisionTreeClassifier()\n",
    "\n",
    "    # 試行するパラメータを羅列する\n",
    "    params = {\n",
    "        'max_depth': list(range(1, 20)),\n",
    "        'criterion': ['gini', 'entropy'],\n",
    "    }\n",
    "    grid_search = GridSearchCV(clf,  # 分類器を渡す\n",
    "                               param_grid=params,  # 試行してほしいパラメータを渡す\n",
    "                               cv=10,  # 10-Fold CV で汎化性能を調べる\n",
    "                               )\n",
    "\n",
    "    # グリッドサーチで優れたハイパーパラメータを探す\n",
    "    grid_search.fit(X, y)\n",
    "\n",
    "    print(grid_search.best_score_)  # 最も良かったスコア\n",
    "    print(grid_search.best_params_)  # 上記を記録したパラメータの組み合わせ"
   ]
  },
  {
   "cell_type": "markdown",
   "metadata": {},
   "source": [
    "#### 関数終わらなかったから一旦それぞれで実行"
   ]
  },
  {
   "cell_type": "code",
   "execution_count": 40,
   "metadata": {},
   "outputs": [],
   "source": [
    "clf = DecisionTreeClassifier()"
   ]
  },
  {
   "cell_type": "code",
   "execution_count": 44,
   "metadata": {},
   "outputs": [],
   "source": [
    "# 試行するパラメータとその値\n",
    "params = {\n",
    "        'max_depth': list(range(1, 20)),\n",
    "        'criterion': ['gini', 'entropy'],\n",
    "}"
   ]
  },
  {
   "cell_type": "code",
   "execution_count": 69,
   "metadata": {},
   "outputs": [],
   "source": [
    "# グリッドサーチする。\n",
    "grid_search = GridSearchCV(clf,  # 分類器を渡す\n",
    "                               param_grid=params,  # 試行してほしいパラメータを渡す\n",
    "                               cv=3,scoring='roc_auc') # 10-Fold CV で汎化性能を調べる"
   ]
  },
  {
   "cell_type": "code",
   "execution_count": 73,
   "metadata": {},
   "outputs": [
    {
     "data": {
      "text/plain": [
       "GridSearchCV(cv=3, error_score='raise-deprecating',\n",
       "             estimator=DecisionTreeClassifier(class_weight=None,\n",
       "                                              criterion='gini', max_depth=None,\n",
       "                                              max_features=None,\n",
       "                                              max_leaf_nodes=None,\n",
       "                                              min_impurity_decrease=0.0,\n",
       "                                              min_impurity_split=None,\n",
       "                                              min_samples_leaf=1,\n",
       "                                              min_samples_split=2,\n",
       "                                              min_weight_fraction_leaf=0.0,\n",
       "                                              presort=False, random_state=None,\n",
       "                                              splitter='best'),\n",
       "             iid='warn', n_jobs=None,\n",
       "             param_grid={'criterion': ['gini', 'entropy'],\n",
       "                         'max_depth': [1, 2, 3, 4, 5, 6, 7, 8, 9, 10, 11, 12,\n",
       "                                       13, 14, 15, 16, 17, 18, 19]},\n",
       "             pre_dispatch='2*n_jobs', refit=True, return_train_score=False,\n",
       "             scoring='roc_auc', verbose=0)"
      ]
     },
     "execution_count": 73,
     "metadata": {},
     "output_type": "execute_result"
    }
   ],
   "source": [
    "grid_search.fit(X, y)"
   ]
  },
  {
   "cell_type": "markdown",
   "metadata": {},
   "source": [
    "参考:グリットサーチの結果確認方法  \n",
    "https://www.pynote.info/entry/sklearn-grid-search-cv"
   ]
  },
  {
   "cell_type": "code",
   "execution_count": 78,
   "metadata": {},
   "outputs": [],
   "source": [
    "#best_clf = grid_search.best_estimator_\n",
    "#print('score: {:.2%}'.format(best_clf.score(X, y))) "
   ]
  },
  {
   "cell_type": "code",
   "execution_count": 81,
   "metadata": {},
   "outputs": [
    {
     "name": "stdout",
     "output_type": "stream",
     "text": [
      "{'mean_fit_time': array([ 1.96289062,  2.84831142,  3.83667843,  5.45137493,  5.61042595,\n",
      "        7.50240636,  8.59300065,  9.04312634, 10.17886162, 12.85689592,\n",
      "       15.98131069, 16.99116278, 18.77810605, 18.78292267, 18.98106432,\n",
      "       22.0993189 , 24.553629  , 24.99065272, 31.12113388,  2.85601624,\n",
      "        2.52803365,  3.80237826,  5.56648501,  7.23089918,  8.10569406,\n",
      "       10.37443225, 12.36495209, 13.02636894, 13.8431507 , 16.4672722 ,\n",
      "       16.50469645, 17.59974154, 20.00292977, 22.03358142, 21.59485356,\n",
      "       20.81186183, 31.07043831, 33.48317957]),\n",
      " 'mean_score_time': array([0.33533971, 0.31088765, 0.35028489, 0.31990631, 0.31165202,\n",
      "       0.32848072, 0.340837  , 0.30622164, 0.31175629, 0.37568402,\n",
      "       0.42333674, 0.36688232, 0.36187657, 0.38457068, 0.31967338,\n",
      "       0.55854567, 0.56329838, 0.3857336 , 0.70259221, 0.5063866 ,\n",
      "       0.32547967, 0.34042597, 0.34272122, 0.34358446, 0.45000148,\n",
      "       0.49778565, 0.40383387, 0.32766644, 0.35579904, 0.40183647,\n",
      "       0.35615619, 0.41042074, 0.50906396, 0.36230302, 0.36630599,\n",
      "       0.41010674, 0.94059173, 0.58525936]),\n",
      " 'mean_test_score': array([0.60063189, 0.66024893, 0.60339689, 0.6136854 , 0.61356184,\n",
      "       0.61565464, 0.61861294, 0.62077354, 0.61851831, 0.61463046,\n",
      "       0.6127174 , 0.6058799 , 0.59913982, 0.59350348, 0.58517063,\n",
      "       0.57266749, 0.56412388, 0.55370064, 0.54559274, 0.61009221,\n",
      "       0.66462028, 0.68535603, 0.69597655, 0.70406025, 0.70991073,\n",
      "       0.70530883, 0.7043713 , 0.6944798 , 0.68327665, 0.67253138,\n",
      "       0.65893509, 0.64512675, 0.63168726, 0.61804286, 0.60714613,\n",
      "       0.59801748, 0.59035213, 0.58037625]),\n",
      " 'param_criterion': masked_array(data=['gini', 'gini', 'gini', 'gini', 'gini', 'gini', 'gini',\n",
      "                   'gini', 'gini', 'gini', 'gini', 'gini', 'gini', 'gini',\n",
      "                   'gini', 'gini', 'gini', 'gini', 'gini', 'entropy',\n",
      "                   'entropy', 'entropy', 'entropy', 'entropy', 'entropy',\n",
      "                   'entropy', 'entropy', 'entropy', 'entropy', 'entropy',\n",
      "                   'entropy', 'entropy', 'entropy', 'entropy', 'entropy',\n",
      "                   'entropy', 'entropy', 'entropy'],\n",
      "             mask=[False, False, False, False, False, False, False, False,\n",
      "                   False, False, False, False, False, False, False, False,\n",
      "                   False, False, False, False, False, False, False, False,\n",
      "                   False, False, False, False, False, False, False, False,\n",
      "                   False, False, False, False, False, False],\n",
      "       fill_value='?',\n",
      "            dtype=object),\n",
      " 'param_max_depth': masked_array(data=[1, 2, 3, 4, 5, 6, 7, 8, 9, 10, 11, 12, 13, 14, 15, 16,\n",
      "                   17, 18, 19, 1, 2, 3, 4, 5, 6, 7, 8, 9, 10, 11, 12, 13,\n",
      "                   14, 15, 16, 17, 18, 19],\n",
      "             mask=[False, False, False, False, False, False, False, False,\n",
      "                   False, False, False, False, False, False, False, False,\n",
      "                   False, False, False, False, False, False, False, False,\n",
      "                   False, False, False, False, False, False, False, False,\n",
      "                   False, False, False, False, False, False],\n",
      "       fill_value='?',\n",
      "            dtype=object),\n",
      " 'params': [{'criterion': 'gini', 'max_depth': 1},\n",
      "            {'criterion': 'gini', 'max_depth': 2},\n",
      "            {'criterion': 'gini', 'max_depth': 3},\n",
      "            {'criterion': 'gini', 'max_depth': 4},\n",
      "            {'criterion': 'gini', 'max_depth': 5},\n",
      "            {'criterion': 'gini', 'max_depth': 6},\n",
      "            {'criterion': 'gini', 'max_depth': 7},\n",
      "            {'criterion': 'gini', 'max_depth': 8},\n",
      "            {'criterion': 'gini', 'max_depth': 9},\n",
      "            {'criterion': 'gini', 'max_depth': 10},\n",
      "            {'criterion': 'gini', 'max_depth': 11},\n",
      "            {'criterion': 'gini', 'max_depth': 12},\n",
      "            {'criterion': 'gini', 'max_depth': 13},\n",
      "            {'criterion': 'gini', 'max_depth': 14},\n",
      "            {'criterion': 'gini', 'max_depth': 15},\n",
      "            {'criterion': 'gini', 'max_depth': 16},\n",
      "            {'criterion': 'gini', 'max_depth': 17},\n",
      "            {'criterion': 'gini', 'max_depth': 18},\n",
      "            {'criterion': 'gini', 'max_depth': 19},\n",
      "            {'criterion': 'entropy', 'max_depth': 1},\n",
      "            {'criterion': 'entropy', 'max_depth': 2},\n",
      "            {'criterion': 'entropy', 'max_depth': 3},\n",
      "            {'criterion': 'entropy', 'max_depth': 4},\n",
      "            {'criterion': 'entropy', 'max_depth': 5},\n",
      "            {'criterion': 'entropy', 'max_depth': 6},\n",
      "            {'criterion': 'entropy', 'max_depth': 7},\n",
      "            {'criterion': 'entropy', 'max_depth': 8},\n",
      "            {'criterion': 'entropy', 'max_depth': 9},\n",
      "            {'criterion': 'entropy', 'max_depth': 10},\n",
      "            {'criterion': 'entropy', 'max_depth': 11},\n",
      "            {'criterion': 'entropy', 'max_depth': 12},\n",
      "            {'criterion': 'entropy', 'max_depth': 13},\n",
      "            {'criterion': 'entropy', 'max_depth': 14},\n",
      "            {'criterion': 'entropy', 'max_depth': 15},\n",
      "            {'criterion': 'entropy', 'max_depth': 16},\n",
      "            {'criterion': 'entropy', 'max_depth': 17},\n",
      "            {'criterion': 'entropy', 'max_depth': 18},\n",
      "            {'criterion': 'entropy', 'max_depth': 19}],\n",
      " 'rank_test_score': array([28, 11, 27, 21, 22, 19, 16, 15, 17, 20, 23, 26, 29, 31, 33, 35, 36,\n",
      "       37, 38, 24, 10,  7,  5,  4,  1,  2,  3,  6,  8,  9, 12, 13, 14, 18,\n",
      "       25, 30, 32, 34], dtype=int32),\n",
      " 'split0_test_score': array([0.60628573, 0.66258743, 0.44097359, 0.4490801 , 0.43219062,\n",
      "       0.42576574, 0.42729287, 0.43490972, 0.42951052, 0.42766192,\n",
      "       0.43047267, 0.42276179, 0.420426  , 0.4244444 , 0.42529295,\n",
      "       0.42101151, 0.42251325, 0.42212019, 0.42109354, 0.61409893,\n",
      "       0.66529249, 0.68424836, 0.6951769 , 0.70250584, 0.708246  ,\n",
      "       0.68825708, 0.68718131, 0.67219076, 0.65700845, 0.64397456,\n",
      "       0.63340156, 0.61606694, 0.60506343, 0.59525349, 0.58437582,\n",
      "       0.57754679, 0.5739155 , 0.56680021]),\n",
      " 'split1_test_score': array([0.59830881, 0.65720392, 0.68186782, 0.69212032, 0.700881  ,\n",
      "       0.70680005, 0.71052939, 0.71021785, 0.71005677, 0.70554998,\n",
      "       0.69996208, 0.69404416, 0.68353352, 0.67244089, 0.65981528,\n",
      "       0.64328607, 0.63090875, 0.61791877, 0.60900924, 0.60955113,\n",
      "       0.65850768, 0.68193945, 0.69226843, 0.70110392, 0.70843453,\n",
      "       0.71133285, 0.71042957, 0.70551981, 0.69842325, 0.6885656 ,\n",
      "       0.67542381, 0.66176866, 0.64753599, 0.63472946, 0.62211964,\n",
      "       0.61017308, 0.60319848, 0.5888    ]),\n",
      " 'split2_test_score': array([0.5973011 , 0.66095544, 0.68735008, 0.69985663, 0.70761482,\n",
      "       0.7143991 , 0.71801751, 0.71719397, 0.71598859, 0.71068042,\n",
      "       0.70771838, 0.70083466, 0.69346086, 0.68362602, 0.6704045 ,\n",
      "       0.65370569, 0.63895037, 0.62106361, 0.60667604, 0.60662654,\n",
      "       0.67006072, 0.68988032, 0.70048437, 0.70857103, 0.71305169,\n",
      "       0.71633666, 0.71550314, 0.70572893, 0.69439837, 0.6850541 ,\n",
      "       0.66797998, 0.65754477, 0.64246245, 0.62414568, 0.61494299,\n",
      "       0.60633265, 0.59394245, 0.58552859]),\n",
      " 'std_fit_time': array([0.33195137, 0.13599613, 0.14868733, 0.55141796, 0.09325134,\n",
      "       0.89876781, 0.17006336, 0.12288447, 0.02434758, 0.38310238,\n",
      "       1.55675592, 0.99716392, 0.52295142, 0.48066768, 0.4238178 ,\n",
      "       0.6600516 , 2.35133467, 0.9292351 , 1.58974784, 0.53735867,\n",
      "       0.02510173, 0.0529471 , 0.3710723 , 0.92440008, 0.29079037,\n",
      "       0.8376977 , 1.43798049, 0.93404094, 0.5173709 , 0.37738838,\n",
      "       0.27014169, 0.28143652, 0.90358074, 1.01458979, 0.22613853,\n",
      "       0.8876237 , 3.91085136, 1.12269642]),\n",
      " 'std_score_time': array([0.03642623, 0.0097854 , 0.03544123, 0.01013503, 0.00420288,\n",
      "       0.00284995, 0.05073025, 0.00413847, 0.00752154, 0.08033219,\n",
      "       0.07833146, 0.03344377, 0.00769036, 0.07789356, 0.00675524,\n",
      "       0.27108738, 0.26754285, 0.05213344, 0.06759066, 0.13678091,\n",
      "       0.03411401, 0.03057593, 0.04068457, 0.06535798, 0.16866951,\n",
      "       0.14002118, 0.06514824, 0.00962396, 0.03333172, 0.08808823,\n",
      "       0.03176439, 0.04382654, 0.21665113, 0.02580935, 0.02825224,\n",
      "       0.1181698 , 0.48504681, 0.13395916]),\n",
      " 'std_test_score': array([0.00401899, 0.00225388, 0.1148727 , 0.11643665, 0.12827859,\n",
      "       0.13430789, 0.13531858, 0.13145674, 0.13367095, 0.13222364,\n",
      "       0.1289057 , 0.12951404, 0.12643503, 0.11963029, 0.11313349,\n",
      "       0.10732157, 0.10018789, 0.09305051, 0.0880396 , 0.00307449,\n",
      "       0.0047404 , 0.00333512, 0.00340147, 0.00324053, 0.00222232,\n",
      "       0.01222926, 0.0123304 , 0.015761  , 0.01864701, 0.02024359,\n",
      "       0.01830894, 0.02062067, 0.01893953, 0.01668377, 0.01636547,\n",
      "       0.01455966, 0.01222134, 0.00969219])}\n"
     ]
    }
   ],
   "source": [
    "from pprint import pprint\n",
    "pprint(grid_search.cv_results_)\n",
    "\n",
    "cv_result = pd.DataFrame(grid_search.cv_results_)"
   ]
  },
  {
   "cell_type": "code",
   "execution_count": 18,
   "metadata": {},
   "outputs": [],
   "source": [
    "#display(cv_result)"
   ]
  },
  {
   "cell_type": "code",
   "execution_count": 83,
   "metadata": {},
   "outputs": [
    {
     "data": {
      "text/plain": [
       "mean_fit_time                                         8.10569\n",
       "std_fit_time                                          0.29079\n",
       "mean_score_time                                      0.450001\n",
       "std_score_time                                        0.16867\n",
       "param_criterion                                       entropy\n",
       "param_max_depth                                             6\n",
       "params               {'criterion': 'entropy', 'max_depth': 6}\n",
       "split0_test_score                                    0.708246\n",
       "split1_test_score                                    0.708435\n",
       "split2_test_score                                    0.713052\n",
       "mean_test_score                                      0.709911\n",
       "std_test_score                                     0.00222232\n",
       "rank_test_score                                             1\n",
       "Name: 24, dtype: object"
      ]
     },
     "execution_count": 83,
     "metadata": {},
     "output_type": "execute_result"
    }
   ],
   "source": [
    "cv_result.loc[grid_search.best_index_]"
   ]
  },
  {
   "cell_type": "code",
   "execution_count": 77,
   "metadata": {},
   "outputs": [
    {
     "name": "stdout",
     "output_type": "stream",
     "text": [
      "clf.best_params_ {'criterion': 'entropy', 'max_depth': 6}\n"
     ]
    }
   ],
   "source": [
    "print('clf.best_params_', grid_search.best_params_)  # clf.best_params_ {'kernel': 'linear', 'C': 1}"
   ]
  },
  {
   "cell_type": "markdown",
   "metadata": {},
   "source": [
    "## 【問題3】Kernelからの調査"
   ]
  },
  {
   "cell_type": "markdown",
   "metadata": {},
   "source": [
    "#### アイディアの列挙"
   ]
  },
  {
   "cell_type": "markdown",
   "metadata": {},
   "source": [
    "①変数重要度の上位にくる変数を絞ってモデルの作成を実施してみる  \n",
    "参考：https://www.kaggle.com/codename007/home-credit-complete-eda-feature-importance  \n",
    "7.Feature Importance using Ramdom Forest  \n",
    "変数トップ6\n",
    "<EXT_SOURCE_2,EXT_SOURCE_3,EXT_SOURCE_1,DAY_BIRTH,DAY_EMPLOYED>  "
   ]
  },
  {
   "cell_type": "markdown",
   "metadata": {},
   "source": [
    "②TARGETと相関の高い変数のみでモデルの作成を実施してみる  \n",
    "参考：https://www.kaggle.com/willkoehrsen/introduction-to-manual-feature-engineering  \n",
    "（ただし、このカーネルでは相関の低い変数を削除している)"
   ]
  },
  {
   "cell_type": "markdown",
   "metadata": {},
   "source": [
    "③利用するモデルをいいスコアを出している人のものに変えてみる  \n",
    "参考 https://www.kaggle.com/willkoehrsen/introduction-to-manual-feature-engineering  \n",
    "https://www.kaggle.com/jsaguiar/lightgbm-with-simple-features  \n",
    "    LGBMClassifier  "
   ]
  },
  {
   "cell_type": "markdown",
   "metadata": {},
   "source": [
    "④変数同士を組み合わせて新しい変数を作ってみる  \n",
    "参考:https://www.kaggle.com/jsaguiar/lightgbm-with-simple-features  \n",
    "年齢やら、労働やら、年収やら、それに対するローンの金額など  "
   ]
  },
  {
   "cell_type": "markdown",
   "metadata": {},
   "source": [
    "## 【問題4】高い汎化性能のモデル作成"
   ]
  },
  {
   "cell_type": "markdown",
   "metadata": {},
   "source": [
    "#### RandomForestClassifierとLinearSVCの2モデルで検証"
   ]
  },
  {
   "cell_type": "markdown",
   "metadata": {},
   "source": [
    "### 基準をXの全変数を利用するモデルの精度にする"
   ]
  },
  {
   "cell_type": "code",
   "execution_count": 46,
   "metadata": {},
   "outputs": [
    {
     "name": "stderr",
     "output_type": "stream",
     "text": [
      "//anaconda3/lib/python3.7/site-packages/sklearn/ensemble/forest.py:245: FutureWarning: The default value of n_estimators will change from 10 in version 0.20 to 100 in 0.22.\n",
      "  \"10 in version 0.20 to 100 in 0.22.\", FutureWarning)\n",
      "//anaconda3/lib/python3.7/site-packages/sklearn/ensemble/forest.py:245: FutureWarning: The default value of n_estimators will change from 10 in version 0.20 to 100 in 0.22.\n",
      "  \"10 in version 0.20 to 100 in 0.22.\", FutureWarning)\n",
      "//anaconda3/lib/python3.7/site-packages/sklearn/ensemble/forest.py:245: FutureWarning: The default value of n_estimators will change from 10 in version 0.20 to 100 in 0.22.\n",
      "  \"10 in version 0.20 to 100 in 0.22.\", FutureWarning)\n",
      "//anaconda3/lib/python3.7/site-packages/sklearn/ensemble/forest.py:245: FutureWarning: The default value of n_estimators will change from 10 in version 0.20 to 100 in 0.22.\n",
      "  \"10 in version 0.20 to 100 in 0.22.\", FutureWarning)\n",
      "//anaconda3/lib/python3.7/site-packages/sklearn/ensemble/forest.py:245: FutureWarning: The default value of n_estimators will change from 10 in version 0.20 to 100 in 0.22.\n",
      "  \"10 in version 0.20 to 100 in 0.22.\", FutureWarning)\n"
     ]
    }
   ],
   "source": [
    "models = [RandomForestClassifier()]\n",
    "scores = {}\n",
    "for model in models:\n",
    "    scores[str(model).split('(')[0]] = cross_val_score(model, X, y, cv=5,scoring='roc_auc')\n",
    "df_scores_base_r = pd.DataFrame(scores)"
   ]
  },
  {
   "cell_type": "code",
   "execution_count": 51,
   "metadata": {},
   "outputs": [
    {
     "data": {
      "text/html": [
       "<div>\n",
       "<style scoped>\n",
       "    .dataframe tbody tr th:only-of-type {\n",
       "        vertical-align: middle;\n",
       "    }\n",
       "\n",
       "    .dataframe tbody tr th {\n",
       "        vertical-align: top;\n",
       "    }\n",
       "\n",
       "    .dataframe thead th {\n",
       "        text-align: right;\n",
       "    }\n",
       "</style>\n",
       "<table border=\"1\" class=\"dataframe\">\n",
       "  <thead>\n",
       "    <tr style=\"text-align: right;\">\n",
       "      <th></th>\n",
       "      <th>RandomForestClassifier</th>\n",
       "    </tr>\n",
       "  </thead>\n",
       "  <tbody>\n",
       "    <tr>\n",
       "      <th>0</th>\n",
       "      <td>0.625362</td>\n",
       "    </tr>\n",
       "    <tr>\n",
       "      <th>1</th>\n",
       "      <td>0.622117</td>\n",
       "    </tr>\n",
       "    <tr>\n",
       "      <th>2</th>\n",
       "      <td>0.621703</td>\n",
       "    </tr>\n",
       "    <tr>\n",
       "      <th>3</th>\n",
       "      <td>0.614009</td>\n",
       "    </tr>\n",
       "    <tr>\n",
       "      <th>4</th>\n",
       "      <td>0.620622</td>\n",
       "    </tr>\n",
       "  </tbody>\n",
       "</table>\n",
       "</div>"
      ],
      "text/plain": [
       "   RandomForestClassifier\n",
       "0                0.625362\n",
       "1                0.622117\n",
       "2                0.621703\n",
       "3                0.614009\n",
       "4                0.620622"
      ]
     },
     "metadata": {},
     "output_type": "display_data"
    }
   ],
   "source": [
    "display(df_scores_base_r)"
   ]
  },
  {
   "cell_type": "markdown",
   "metadata": {},
   "source": [
    "### ①変数重要度の上位にくる変数を絞ってモデルの作成を実施してみる"
   ]
  },
  {
   "cell_type": "code",
   "execution_count": 24,
   "metadata": {},
   "outputs": [],
   "source": [
    "X_1=X[['EXT_SOURCE_2','EXT_SOURCE_3','EXT_SOURCE_1','DAYS_BIRTH','DAYS_EMPLOYED']]"
   ]
  },
  {
   "cell_type": "code",
   "execution_count": 47,
   "metadata": {
    "scrolled": true
   },
   "outputs": [
    {
     "name": "stderr",
     "output_type": "stream",
     "text": [
      "//anaconda3/lib/python3.7/site-packages/sklearn/svm/base.py:929: ConvergenceWarning: Liblinear failed to converge, increase the number of iterations.\n",
      "  \"the number of iterations.\", ConvergenceWarning)\n",
      "//anaconda3/lib/python3.7/site-packages/sklearn/svm/base.py:929: ConvergenceWarning: Liblinear failed to converge, increase the number of iterations.\n",
      "  \"the number of iterations.\", ConvergenceWarning)\n",
      "//anaconda3/lib/python3.7/site-packages/sklearn/svm/base.py:929: ConvergenceWarning: Liblinear failed to converge, increase the number of iterations.\n",
      "  \"the number of iterations.\", ConvergenceWarning)\n",
      "//anaconda3/lib/python3.7/site-packages/sklearn/svm/base.py:929: ConvergenceWarning: Liblinear failed to converge, increase the number of iterations.\n",
      "  \"the number of iterations.\", ConvergenceWarning)\n",
      "//anaconda3/lib/python3.7/site-packages/sklearn/svm/base.py:929: ConvergenceWarning: Liblinear failed to converge, increase the number of iterations.\n",
      "  \"the number of iterations.\", ConvergenceWarning)\n"
     ]
    }
   ],
   "source": [
    "models =[LinearSVC()]\n",
    "scores = {}\n",
    "for model in models:\n",
    "    scores[str(model).split('(')[0]] = cross_val_score(model, X_1, y, cv=5,scoring='roc_auc')\n",
    "df_scores_1s = pd.DataFrame(scores)"
   ]
  },
  {
   "cell_type": "code",
   "execution_count": 40,
   "metadata": {},
   "outputs": [
    {
     "name": "stderr",
     "output_type": "stream",
     "text": [
      "//anaconda3/lib/python3.7/site-packages/sklearn/ensemble/forest.py:245: FutureWarning: The default value of n_estimators will change from 10 in version 0.20 to 100 in 0.22.\n",
      "  \"10 in version 0.20 to 100 in 0.22.\", FutureWarning)\n",
      "//anaconda3/lib/python3.7/site-packages/sklearn/ensemble/forest.py:245: FutureWarning: The default value of n_estimators will change from 10 in version 0.20 to 100 in 0.22.\n",
      "  \"10 in version 0.20 to 100 in 0.22.\", FutureWarning)\n",
      "//anaconda3/lib/python3.7/site-packages/sklearn/ensemble/forest.py:245: FutureWarning: The default value of n_estimators will change from 10 in version 0.20 to 100 in 0.22.\n",
      "  \"10 in version 0.20 to 100 in 0.22.\", FutureWarning)\n",
      "//anaconda3/lib/python3.7/site-packages/sklearn/ensemble/forest.py:245: FutureWarning: The default value of n_estimators will change from 10 in version 0.20 to 100 in 0.22.\n",
      "  \"10 in version 0.20 to 100 in 0.22.\", FutureWarning)\n",
      "//anaconda3/lib/python3.7/site-packages/sklearn/ensemble/forest.py:245: FutureWarning: The default value of n_estimators will change from 10 in version 0.20 to 100 in 0.22.\n",
      "  \"10 in version 0.20 to 100 in 0.22.\", FutureWarning)\n"
     ]
    }
   ],
   "source": [
    "models = [RandomForestClassifier()]\n",
    "scores = {}\n",
    "for model in models:\n",
    "    scores[str(model).split('(')[0]] = cross_val_score(model, X_1, y, cv=5,scoring='roc_auc')\n",
    "df_scores_1r = pd.DataFrame(scores)"
   ]
  },
  {
   "cell_type": "code",
   "execution_count": 49,
   "metadata": {},
   "outputs": [
    {
     "data": {
      "text/html": [
       "<div>\n",
       "<style scoped>\n",
       "    .dataframe tbody tr th:only-of-type {\n",
       "        vertical-align: middle;\n",
       "    }\n",
       "\n",
       "    .dataframe tbody tr th {\n",
       "        vertical-align: top;\n",
       "    }\n",
       "\n",
       "    .dataframe thead th {\n",
       "        text-align: right;\n",
       "    }\n",
       "</style>\n",
       "<table border=\"1\" class=\"dataframe\">\n",
       "  <thead>\n",
       "    <tr style=\"text-align: right;\">\n",
       "      <th></th>\n",
       "      <th>LinearSVC</th>\n",
       "    </tr>\n",
       "  </thead>\n",
       "  <tbody>\n",
       "    <tr>\n",
       "      <th>0</th>\n",
       "      <td>0.479480</td>\n",
       "    </tr>\n",
       "    <tr>\n",
       "      <th>1</th>\n",
       "      <td>0.518983</td>\n",
       "    </tr>\n",
       "    <tr>\n",
       "      <th>2</th>\n",
       "      <td>0.591451</td>\n",
       "    </tr>\n",
       "    <tr>\n",
       "      <th>3</th>\n",
       "      <td>0.580907</td>\n",
       "    </tr>\n",
       "    <tr>\n",
       "      <th>4</th>\n",
       "      <td>0.583249</td>\n",
       "    </tr>\n",
       "  </tbody>\n",
       "</table>\n",
       "</div>"
      ],
      "text/plain": [
       "   LinearSVC\n",
       "0   0.479480\n",
       "1   0.518983\n",
       "2   0.591451\n",
       "3   0.580907\n",
       "4   0.583249"
      ]
     },
     "metadata": {},
     "output_type": "display_data"
    }
   ],
   "source": [
    "display(df_scores_1s)"
   ]
  },
  {
   "cell_type": "code",
   "execution_count": 47,
   "metadata": {},
   "outputs": [
    {
     "data": {
      "text/html": [
       "<div>\n",
       "<style scoped>\n",
       "    .dataframe tbody tr th:only-of-type {\n",
       "        vertical-align: middle;\n",
       "    }\n",
       "\n",
       "    .dataframe tbody tr th {\n",
       "        vertical-align: top;\n",
       "    }\n",
       "\n",
       "    .dataframe thead th {\n",
       "        text-align: right;\n",
       "    }\n",
       "</style>\n",
       "<table border=\"1\" class=\"dataframe\">\n",
       "  <thead>\n",
       "    <tr style=\"text-align: right;\">\n",
       "      <th></th>\n",
       "      <th>RandomForestClassifier</th>\n",
       "    </tr>\n",
       "  </thead>\n",
       "  <tbody>\n",
       "    <tr>\n",
       "      <th>0</th>\n",
       "      <td>0.630152</td>\n",
       "    </tr>\n",
       "    <tr>\n",
       "      <th>1</th>\n",
       "      <td>0.634162</td>\n",
       "    </tr>\n",
       "    <tr>\n",
       "      <th>2</th>\n",
       "      <td>0.631386</td>\n",
       "    </tr>\n",
       "    <tr>\n",
       "      <th>3</th>\n",
       "      <td>0.629085</td>\n",
       "    </tr>\n",
       "    <tr>\n",
       "      <th>4</th>\n",
       "      <td>0.631269</td>\n",
       "    </tr>\n",
       "  </tbody>\n",
       "</table>\n",
       "</div>"
      ],
      "text/plain": [
       "   RandomForestClassifier\n",
       "0                0.630152\n",
       "1                0.634162\n",
       "2                0.631386\n",
       "3                0.629085\n",
       "4                0.631269"
      ]
     },
     "metadata": {},
     "output_type": "display_data"
    }
   ],
   "source": [
    "display(df_scores_1r)"
   ]
  },
  {
   "cell_type": "markdown",
   "metadata": {},
   "source": [
    "### ①結論：0.01くらいスコア上がった"
   ]
  },
  {
   "cell_type": "markdown",
   "metadata": {},
   "source": [
    "### ②TARGETと相関の高い変数のみでモデルの作成を実施してみる "
   ]
  },
  {
   "cell_type": "code",
   "execution_count": 44,
   "metadata": {},
   "outputs": [
    {
     "data": {
      "text/html": [
       "<div>\n",
       "<style scoped>\n",
       "    .dataframe tbody tr th:only-of-type {\n",
       "        vertical-align: middle;\n",
       "    }\n",
       "\n",
       "    .dataframe tbody tr th {\n",
       "        vertical-align: top;\n",
       "    }\n",
       "\n",
       "    .dataframe thead th {\n",
       "        text-align: right;\n",
       "    }\n",
       "</style>\n",
       "<table border=\"1\" class=\"dataframe\">\n",
       "  <thead>\n",
       "    <tr style=\"text-align: right;\">\n",
       "      <th></th>\n",
       "      <th>SK_ID_CURR</th>\n",
       "      <th>TARGET</th>\n",
       "      <th>CNT_CHILDREN</th>\n",
       "      <th>AMT_INCOME_TOTAL</th>\n",
       "      <th>AMT_CREDIT</th>\n",
       "      <th>AMT_ANNUITY</th>\n",
       "      <th>AMT_GOODS_PRICE</th>\n",
       "      <th>REGION_POPULATION_RELATIVE</th>\n",
       "      <th>DAYS_BIRTH</th>\n",
       "      <th>DAYS_EMPLOYED</th>\n",
       "      <th>...</th>\n",
       "      <th>FLAG_DOCUMENT_18</th>\n",
       "      <th>FLAG_DOCUMENT_19</th>\n",
       "      <th>FLAG_DOCUMENT_20</th>\n",
       "      <th>FLAG_DOCUMENT_21</th>\n",
       "      <th>AMT_REQ_CREDIT_BUREAU_HOUR</th>\n",
       "      <th>AMT_REQ_CREDIT_BUREAU_DAY</th>\n",
       "      <th>AMT_REQ_CREDIT_BUREAU_WEEK</th>\n",
       "      <th>AMT_REQ_CREDIT_BUREAU_MON</th>\n",
       "      <th>AMT_REQ_CREDIT_BUREAU_QRT</th>\n",
       "      <th>AMT_REQ_CREDIT_BUREAU_YEAR</th>\n",
       "    </tr>\n",
       "  </thead>\n",
       "  <tbody>\n",
       "    <tr>\n",
       "      <th>EXT_SOURCE_3</th>\n",
       "      <td>0.000222</td>\n",
       "      <td>-0.178919</td>\n",
       "      <td>-0.042710</td>\n",
       "      <td>-0.030229</td>\n",
       "      <td>0.043516</td>\n",
       "      <td>0.030752</td>\n",
       "      <td>0.047717</td>\n",
       "      <td>-0.006001</td>\n",
       "      <td>-0.205478</td>\n",
       "      <td>0.113434</td>\n",
       "      <td>...</td>\n",
       "      <td>-0.016152</td>\n",
       "      <td>-0.002590</td>\n",
       "      <td>-0.013837</td>\n",
       "      <td>-0.013058</td>\n",
       "      <td>-0.001193</td>\n",
       "      <td>-0.007190</td>\n",
       "      <td>-0.021258</td>\n",
       "      <td>-0.007856</td>\n",
       "      <td>-0.025131</td>\n",
       "      <td>-0.071449</td>\n",
       "    </tr>\n",
       "    <tr>\n",
       "      <th>EXT_SOURCE_2</th>\n",
       "      <td>0.002342</td>\n",
       "      <td>-0.160472</td>\n",
       "      <td>-0.018015</td>\n",
       "      <td>0.060925</td>\n",
       "      <td>0.131228</td>\n",
       "      <td>0.125804</td>\n",
       "      <td>0.139367</td>\n",
       "      <td>0.198924</td>\n",
       "      <td>-0.091996</td>\n",
       "      <td>-0.020767</td>\n",
       "      <td>...</td>\n",
       "      <td>0.001874</td>\n",
       "      <td>0.003256</td>\n",
       "      <td>0.000614</td>\n",
       "      <td>-0.007236</td>\n",
       "      <td>-0.004077</td>\n",
       "      <td>0.000553</td>\n",
       "      <td>0.001507</td>\n",
       "      <td>0.051981</td>\n",
       "      <td>-0.002849</td>\n",
       "      <td>-0.021984</td>\n",
       "    </tr>\n",
       "    <tr>\n",
       "      <th>EXT_SOURCE_1</th>\n",
       "      <td>0.000082</td>\n",
       "      <td>-0.155317</td>\n",
       "      <td>-0.138470</td>\n",
       "      <td>0.026232</td>\n",
       "      <td>0.168429</td>\n",
       "      <td>0.119398</td>\n",
       "      <td>0.175502</td>\n",
       "      <td>0.099997</td>\n",
       "      <td>-0.600610</td>\n",
       "      <td>0.289848</td>\n",
       "      <td>...</td>\n",
       "      <td>-0.025739</td>\n",
       "      <td>0.005131</td>\n",
       "      <td>-0.005102</td>\n",
       "      <td>-0.019208</td>\n",
       "      <td>-0.003963</td>\n",
       "      <td>-0.005087</td>\n",
       "      <td>-0.001801</td>\n",
       "      <td>0.030820</td>\n",
       "      <td>-0.003631</td>\n",
       "      <td>0.006562</td>\n",
       "    </tr>\n",
       "    <tr>\n",
       "      <th>DAYS_EMPLOYED</th>\n",
       "      <td>0.001366</td>\n",
       "      <td>-0.044932</td>\n",
       "      <td>-0.239818</td>\n",
       "      <td>-0.064223</td>\n",
       "      <td>-0.066838</td>\n",
       "      <td>-0.104332</td>\n",
       "      <td>-0.064842</td>\n",
       "      <td>-0.003980</td>\n",
       "      <td>-0.615864</td>\n",
       "      <td>1.000000</td>\n",
       "      <td>...</td>\n",
       "      <td>-0.040396</td>\n",
       "      <td>-0.010040</td>\n",
       "      <td>-0.010135</td>\n",
       "      <td>-0.008396</td>\n",
       "      <td>-0.004735</td>\n",
       "      <td>0.000472</td>\n",
       "      <td>0.003072</td>\n",
       "      <td>-0.034457</td>\n",
       "      <td>0.015345</td>\n",
       "      <td>0.049988</td>\n",
       "    </tr>\n",
       "    <tr>\n",
       "      <th>FLOORSMAX_AVG</th>\n",
       "      <td>0.004851</td>\n",
       "      <td>-0.044003</td>\n",
       "      <td>-0.009705</td>\n",
       "      <td>0.060171</td>\n",
       "      <td>0.103296</td>\n",
       "      <td>0.130174</td>\n",
       "      <td>0.108512</td>\n",
       "      <td>0.322652</td>\n",
       "      <td>0.001634</td>\n",
       "      <td>-0.015970</td>\n",
       "      <td>...</td>\n",
       "      <td>0.012230</td>\n",
       "      <td>0.000900</td>\n",
       "      <td>-0.002702</td>\n",
       "      <td>-0.005814</td>\n",
       "      <td>0.003101</td>\n",
       "      <td>0.002946</td>\n",
       "      <td>-0.000050</td>\n",
       "      <td>0.046762</td>\n",
       "      <td>-0.000841</td>\n",
       "      <td>-0.019750</td>\n",
       "    </tr>\n",
       "  </tbody>\n",
       "</table>\n",
       "<p>5 rows × 106 columns</p>\n",
       "</div>"
      ],
      "text/plain": [
       "               SK_ID_CURR    TARGET  CNT_CHILDREN  AMT_INCOME_TOTAL  \\\n",
       "EXT_SOURCE_3     0.000222 -0.178919     -0.042710         -0.030229   \n",
       "EXT_SOURCE_2     0.002342 -0.160472     -0.018015          0.060925   \n",
       "EXT_SOURCE_1     0.000082 -0.155317     -0.138470          0.026232   \n",
       "DAYS_EMPLOYED    0.001366 -0.044932     -0.239818         -0.064223   \n",
       "FLOORSMAX_AVG    0.004851 -0.044003     -0.009705          0.060171   \n",
       "\n",
       "               AMT_CREDIT  AMT_ANNUITY  AMT_GOODS_PRICE  \\\n",
       "EXT_SOURCE_3     0.043516     0.030752         0.047717   \n",
       "EXT_SOURCE_2     0.131228     0.125804         0.139367   \n",
       "EXT_SOURCE_1     0.168429     0.119398         0.175502   \n",
       "DAYS_EMPLOYED   -0.066838    -0.104332        -0.064842   \n",
       "FLOORSMAX_AVG    0.103296     0.130174         0.108512   \n",
       "\n",
       "               REGION_POPULATION_RELATIVE  DAYS_BIRTH  DAYS_EMPLOYED  ...  \\\n",
       "EXT_SOURCE_3                    -0.006001   -0.205478       0.113434  ...   \n",
       "EXT_SOURCE_2                     0.198924   -0.091996      -0.020767  ...   \n",
       "EXT_SOURCE_1                     0.099997   -0.600610       0.289848  ...   \n",
       "DAYS_EMPLOYED                   -0.003980   -0.615864       1.000000  ...   \n",
       "FLOORSMAX_AVG                    0.322652    0.001634      -0.015970  ...   \n",
       "\n",
       "               FLAG_DOCUMENT_18  FLAG_DOCUMENT_19  FLAG_DOCUMENT_20  \\\n",
       "EXT_SOURCE_3          -0.016152         -0.002590         -0.013837   \n",
       "EXT_SOURCE_2           0.001874          0.003256          0.000614   \n",
       "EXT_SOURCE_1          -0.025739          0.005131         -0.005102   \n",
       "DAYS_EMPLOYED         -0.040396         -0.010040         -0.010135   \n",
       "FLOORSMAX_AVG          0.012230          0.000900         -0.002702   \n",
       "\n",
       "               FLAG_DOCUMENT_21  AMT_REQ_CREDIT_BUREAU_HOUR  \\\n",
       "EXT_SOURCE_3          -0.013058                   -0.001193   \n",
       "EXT_SOURCE_2          -0.007236                   -0.004077   \n",
       "EXT_SOURCE_1          -0.019208                   -0.003963   \n",
       "DAYS_EMPLOYED         -0.008396                   -0.004735   \n",
       "FLOORSMAX_AVG         -0.005814                    0.003101   \n",
       "\n",
       "               AMT_REQ_CREDIT_BUREAU_DAY  AMT_REQ_CREDIT_BUREAU_WEEK  \\\n",
       "EXT_SOURCE_3                   -0.007190                   -0.021258   \n",
       "EXT_SOURCE_2                    0.000553                    0.001507   \n",
       "EXT_SOURCE_1                   -0.005087                   -0.001801   \n",
       "DAYS_EMPLOYED                   0.000472                    0.003072   \n",
       "FLOORSMAX_AVG                   0.002946                   -0.000050   \n",
       "\n",
       "               AMT_REQ_CREDIT_BUREAU_MON  AMT_REQ_CREDIT_BUREAU_QRT  \\\n",
       "EXT_SOURCE_3                   -0.007856                  -0.025131   \n",
       "EXT_SOURCE_2                    0.051981                  -0.002849   \n",
       "EXT_SOURCE_1                    0.030820                  -0.003631   \n",
       "DAYS_EMPLOYED                  -0.034457                   0.015345   \n",
       "FLOORSMAX_AVG                   0.046762                  -0.000841   \n",
       "\n",
       "               AMT_REQ_CREDIT_BUREAU_YEAR  \n",
       "EXT_SOURCE_3                    -0.071449  \n",
       "EXT_SOURCE_2                    -0.021984  \n",
       "EXT_SOURCE_1                     0.006562  \n",
       "DAYS_EMPLOYED                    0.049988  \n",
       "FLOORSMAX_AVG                   -0.019750  \n",
       "\n",
       "[5 rows x 106 columns]"
      ]
     },
     "execution_count": 44,
     "metadata": {},
     "output_type": "execute_result"
    }
   ],
   "source": [
    "df_crr = df.corr()\n",
    "df_crr.sort_values('TARGET').head()"
   ]
  },
  {
   "cell_type": "markdown",
   "metadata": {},
   "source": [
    "相関係数 0.05(絶対値)以上の変数  \n",
    "EXT_SOURCE_3　EXT_SOURCE_2 EXT_SOURCE_1 DAYS_BIRTH  \n",
    "REGION_RATING_CLIENT_W_CITY REGION_RATING_CLIENT  \n",
    "DAYS_LAST_PHONE_CHANGE DAYS_ID_PUBLISH REG_CITY_NOT_WORK_CITY  "
   ]
  },
  {
   "cell_type": "code",
   "execution_count": 8,
   "metadata": {},
   "outputs": [],
   "source": [
    "X_2=X[['EXT_SOURCE_2','EXT_SOURCE_3','EXT_SOURCE_1','DAYS_BIRTH','REGION_RATING_CLIENT_W_CITY'\n",
    "       ,'REGION_RATING_CLIENT','DAYS_LAST_PHONE_CHANGE','DAYS_ID_PUBLISH','REG_CITY_NOT_WORK_CITY']]"
   ]
  },
  {
   "cell_type": "code",
   "execution_count": 31,
   "metadata": {},
   "outputs": [
    {
     "name": "stderr",
     "output_type": "stream",
     "text": [
      "//anaconda3/lib/python3.7/site-packages/sklearn/ensemble/forest.py:245: FutureWarning: The default value of n_estimators will change from 10 in version 0.20 to 100 in 0.22.\n",
      "  \"10 in version 0.20 to 100 in 0.22.\", FutureWarning)\n",
      "//anaconda3/lib/python3.7/site-packages/sklearn/ensemble/forest.py:245: FutureWarning: The default value of n_estimators will change from 10 in version 0.20 to 100 in 0.22.\n",
      "  \"10 in version 0.20 to 100 in 0.22.\", FutureWarning)\n",
      "//anaconda3/lib/python3.7/site-packages/sklearn/ensemble/forest.py:245: FutureWarning: The default value of n_estimators will change from 10 in version 0.20 to 100 in 0.22.\n",
      "  \"10 in version 0.20 to 100 in 0.22.\", FutureWarning)\n",
      "//anaconda3/lib/python3.7/site-packages/sklearn/ensemble/forest.py:245: FutureWarning: The default value of n_estimators will change from 10 in version 0.20 to 100 in 0.22.\n",
      "  \"10 in version 0.20 to 100 in 0.22.\", FutureWarning)\n",
      "//anaconda3/lib/python3.7/site-packages/sklearn/ensemble/forest.py:245: FutureWarning: The default value of n_estimators will change from 10 in version 0.20 to 100 in 0.22.\n",
      "  \"10 in version 0.20 to 100 in 0.22.\", FutureWarning)\n"
     ]
    }
   ],
   "source": [
    "models = [RandomForestClassifier()]\n",
    "scores = {}\n",
    "for model in models:\n",
    "    scores[str(model).split('(')[0]] = cross_val_score(model, X_2, y, cv=5,scoring='roc_auc')\n",
    "df_scores_2 = pd.DataFrame(scores)"
   ]
  },
  {
   "cell_type": "code",
   "execution_count": 27,
   "metadata": {},
   "outputs": [
    {
     "name": "stderr",
     "output_type": "stream",
     "text": [
      "//anaconda3/lib/python3.7/site-packages/sklearn/svm/base.py:929: ConvergenceWarning: Liblinear failed to converge, increase the number of iterations.\n",
      "  \"the number of iterations.\", ConvergenceWarning)\n",
      "//anaconda3/lib/python3.7/site-packages/sklearn/svm/base.py:929: ConvergenceWarning: Liblinear failed to converge, increase the number of iterations.\n",
      "  \"the number of iterations.\", ConvergenceWarning)\n",
      "//anaconda3/lib/python3.7/site-packages/sklearn/svm/base.py:929: ConvergenceWarning: Liblinear failed to converge, increase the number of iterations.\n",
      "  \"the number of iterations.\", ConvergenceWarning)\n",
      "//anaconda3/lib/python3.7/site-packages/sklearn/svm/base.py:929: ConvergenceWarning: Liblinear failed to converge, increase the number of iterations.\n",
      "  \"the number of iterations.\", ConvergenceWarning)\n",
      "//anaconda3/lib/python3.7/site-packages/sklearn/svm/base.py:929: ConvergenceWarning: Liblinear failed to converge, increase the number of iterations.\n",
      "  \"the number of iterations.\", ConvergenceWarning)\n"
     ]
    }
   ],
   "source": [
    "models =[LinearSVC()]\n",
    "scores = {}\n",
    "for model in models:\n",
    "    scores[str(model).split('(')[0]] = cross_val_score(model, X_2, y, cv=5,scoring='roc_auc')\n",
    "df_scores_2s = pd.DataFrame(scores)"
   ]
  },
  {
   "cell_type": "code",
   "execution_count": 29,
   "metadata": {},
   "outputs": [
    {
     "data": {
      "text/html": [
       "<div>\n",
       "<style scoped>\n",
       "    .dataframe tbody tr th:only-of-type {\n",
       "        vertical-align: middle;\n",
       "    }\n",
       "\n",
       "    .dataframe tbody tr th {\n",
       "        vertical-align: top;\n",
       "    }\n",
       "\n",
       "    .dataframe thead th {\n",
       "        text-align: right;\n",
       "    }\n",
       "</style>\n",
       "<table border=\"1\" class=\"dataframe\">\n",
       "  <thead>\n",
       "    <tr style=\"text-align: right;\">\n",
       "      <th></th>\n",
       "      <th>LinearSVC</th>\n",
       "    </tr>\n",
       "  </thead>\n",
       "  <tbody>\n",
       "    <tr>\n",
       "      <th>0</th>\n",
       "      <td>0.584465</td>\n",
       "    </tr>\n",
       "    <tr>\n",
       "      <th>1</th>\n",
       "      <td>0.424172</td>\n",
       "    </tr>\n",
       "    <tr>\n",
       "      <th>2</th>\n",
       "      <td>0.591367</td>\n",
       "    </tr>\n",
       "    <tr>\n",
       "      <th>3</th>\n",
       "      <td>0.586200</td>\n",
       "    </tr>\n",
       "    <tr>\n",
       "      <th>4</th>\n",
       "      <td>0.425027</td>\n",
       "    </tr>\n",
       "  </tbody>\n",
       "</table>\n",
       "</div>"
      ],
      "text/plain": [
       "   LinearSVC\n",
       "0   0.584465\n",
       "1   0.424172\n",
       "2   0.591367\n",
       "3   0.586200\n",
       "4   0.425027"
      ]
     },
     "metadata": {},
     "output_type": "display_data"
    }
   ],
   "source": [
    "display(df_scores_2s)"
   ]
  },
  {
   "cell_type": "code",
   "execution_count": 42,
   "metadata": {},
   "outputs": [
    {
     "data": {
      "text/html": [
       "<div>\n",
       "<style scoped>\n",
       "    .dataframe tbody tr th:only-of-type {\n",
       "        vertical-align: middle;\n",
       "    }\n",
       "\n",
       "    .dataframe tbody tr th {\n",
       "        vertical-align: top;\n",
       "    }\n",
       "\n",
       "    .dataframe thead th {\n",
       "        text-align: right;\n",
       "    }\n",
       "</style>\n",
       "<table border=\"1\" class=\"dataframe\">\n",
       "  <thead>\n",
       "    <tr style=\"text-align: right;\">\n",
       "      <th></th>\n",
       "      <th>RandomForestClassifier</th>\n",
       "    </tr>\n",
       "  </thead>\n",
       "  <tbody>\n",
       "    <tr>\n",
       "      <th>0</th>\n",
       "      <td>0.633612</td>\n",
       "    </tr>\n",
       "    <tr>\n",
       "      <th>1</th>\n",
       "      <td>0.638588</td>\n",
       "    </tr>\n",
       "    <tr>\n",
       "      <th>2</th>\n",
       "      <td>0.633895</td>\n",
       "    </tr>\n",
       "    <tr>\n",
       "      <th>3</th>\n",
       "      <td>0.629869</td>\n",
       "    </tr>\n",
       "    <tr>\n",
       "      <th>4</th>\n",
       "      <td>0.637837</td>\n",
       "    </tr>\n",
       "  </tbody>\n",
       "</table>\n",
       "</div>"
      ],
      "text/plain": [
       "   RandomForestClassifier\n",
       "0                0.633612\n",
       "1                0.638588\n",
       "2                0.633895\n",
       "3                0.629869\n",
       "4                0.637837"
      ]
     },
     "metadata": {},
     "output_type": "display_data"
    }
   ],
   "source": [
    "display(df_scores_2)"
   ]
  },
  {
   "cell_type": "markdown",
   "metadata": {},
   "source": [
    "### ③利用するモデルをいいスコアを出している人のものに変えてみる\n",
    "(比較のために①のデータを使ってみる)"
   ]
  },
  {
   "cell_type": "code",
   "execution_count": 20,
   "metadata": {},
   "outputs": [],
   "source": [
    "import lightgbm as lgb\n",
    "#エラーで実行できない\n",
    "#エラー解消したけど、Warningが治らない・・・\n",
    "#brew install libompしたら治った"
   ]
  },
  {
   "cell_type": "code",
   "execution_count": 24,
   "metadata": {},
   "outputs": [],
   "source": [
    "models =[LGBMClassifier()]\n",
    "scores = {}\n",
    "for model in models:\n",
    "    scores[str(model).split('(')[0]] = cross_val_score(model, X_1, y, cv=5,scoring='roc_auc')\n",
    "df_scores_1l = pd.DataFrame(scores)"
   ]
  },
  {
   "cell_type": "code",
   "execution_count": 18,
   "metadata": {},
   "outputs": [
    {
     "name": "stderr",
     "output_type": "stream",
     "text": [
      "//anaconda3/lib/python3.7/site-packages/lightgbm/__init__.py:46: UserWarning: Starting from version 2.2.1, the library file in distribution wheels for macOS is built by the Apple Clang (Xcode_8.3.3) compiler.\n",
      "This means that in case of installing LightGBM from PyPI via the ``pip install lightgbm`` command, you don't need to install the gcc compiler anymore.\n",
      "Instead of that, you need to install the OpenMP library, which is required for running LightGBM on the system with the Apple Clang compiler.\n",
      "You can install the OpenMP library by the following command: ``brew install libomp``.\n",
      "  \"You can install the OpenMP library by the following command: ``brew install libomp``.\", UserWarning)\n"
     ]
    }
   ],
   "source": [
    "from lightgbm import LGBMClassifier"
   ]
  },
  {
   "cell_type": "code",
   "execution_count": 25,
   "metadata": {},
   "outputs": [
    {
     "data": {
      "text/html": [
       "<div>\n",
       "<style scoped>\n",
       "    .dataframe tbody tr th:only-of-type {\n",
       "        vertical-align: middle;\n",
       "    }\n",
       "\n",
       "    .dataframe tbody tr th {\n",
       "        vertical-align: top;\n",
       "    }\n",
       "\n",
       "    .dataframe thead th {\n",
       "        text-align: right;\n",
       "    }\n",
       "</style>\n",
       "<table border=\"1\" class=\"dataframe\">\n",
       "  <thead>\n",
       "    <tr style=\"text-align: right;\">\n",
       "      <th></th>\n",
       "      <th>LGBMClassifier</th>\n",
       "    </tr>\n",
       "  </thead>\n",
       "  <tbody>\n",
       "    <tr>\n",
       "      <th>0</th>\n",
       "      <td>0.731151</td>\n",
       "    </tr>\n",
       "    <tr>\n",
       "      <th>1</th>\n",
       "      <td>0.733630</td>\n",
       "    </tr>\n",
       "    <tr>\n",
       "      <th>2</th>\n",
       "      <td>0.727659</td>\n",
       "    </tr>\n",
       "    <tr>\n",
       "      <th>3</th>\n",
       "      <td>0.733026</td>\n",
       "    </tr>\n",
       "    <tr>\n",
       "      <th>4</th>\n",
       "      <td>0.736603</td>\n",
       "    </tr>\n",
       "  </tbody>\n",
       "</table>\n",
       "</div>"
      ],
      "text/plain": [
       "   LGBMClassifier\n",
       "0        0.731151\n",
       "1        0.733630\n",
       "2        0.727659\n",
       "3        0.733026\n",
       "4        0.736603"
      ]
     },
     "metadata": {},
     "output_type": "display_data"
    }
   ],
   "source": [
    "display(df_scores_1l)"
   ]
  },
  {
   "cell_type": "markdown",
   "metadata": {},
   "source": [
    "#### かなり精度が上がった"
   ]
  },
  {
   "cell_type": "markdown",
   "metadata": {},
   "source": [
    "（データを②にして実施してみる）"
   ]
  },
  {
   "cell_type": "code",
   "execution_count": 27,
   "metadata": {},
   "outputs": [],
   "source": [
    "models =[LGBMClassifier()]\n",
    "scores = {}\n",
    "for model in models:\n",
    "    scores[str(model).split('(')[0]] = cross_val_score(model, X_2, y, cv=5,scoring='roc_auc')\n",
    "df_scores_2l = pd.DataFrame(scores)"
   ]
  },
  {
   "cell_type": "code",
   "execution_count": 33,
   "metadata": {},
   "outputs": [
    {
     "data": {
      "text/html": [
       "<div>\n",
       "<style scoped>\n",
       "    .dataframe tbody tr th:only-of-type {\n",
       "        vertical-align: middle;\n",
       "    }\n",
       "\n",
       "    .dataframe tbody tr th {\n",
       "        vertical-align: top;\n",
       "    }\n",
       "\n",
       "    .dataframe thead th {\n",
       "        text-align: right;\n",
       "    }\n",
       "</style>\n",
       "<table border=\"1\" class=\"dataframe\">\n",
       "  <thead>\n",
       "    <tr style=\"text-align: right;\">\n",
       "      <th></th>\n",
       "      <th>LGBMClassifier</th>\n",
       "    </tr>\n",
       "  </thead>\n",
       "  <tbody>\n",
       "    <tr>\n",
       "      <th>0</th>\n",
       "      <td>0.730940</td>\n",
       "    </tr>\n",
       "    <tr>\n",
       "      <th>1</th>\n",
       "      <td>0.732689</td>\n",
       "    </tr>\n",
       "    <tr>\n",
       "      <th>2</th>\n",
       "      <td>0.727169</td>\n",
       "    </tr>\n",
       "    <tr>\n",
       "      <th>3</th>\n",
       "      <td>0.735186</td>\n",
       "    </tr>\n",
       "    <tr>\n",
       "      <th>4</th>\n",
       "      <td>0.736467</td>\n",
       "    </tr>\n",
       "  </tbody>\n",
       "</table>\n",
       "</div>"
      ],
      "text/plain": [
       "   LGBMClassifier\n",
       "0        0.730940\n",
       "1        0.732689\n",
       "2        0.727169\n",
       "3        0.735186\n",
       "4        0.736467"
      ]
     },
     "metadata": {},
     "output_type": "display_data"
    }
   ],
   "source": [
    "display(df_scores_2l)"
   ]
  },
  {
   "cell_type": "markdown",
   "metadata": {},
   "source": [
    "### ③結論：総じて精度上がった"
   ]
  },
  {
   "cell_type": "markdown",
   "metadata": {},
   "source": [
    "### ④変数同士を組み合わせて新しい変数を作ってみる"
   ]
  },
  {
   "cell_type": "code",
   "execution_count": 9,
   "metadata": {},
   "outputs": [],
   "source": [
    "#変数を増やすためのDFを作成\n",
    "X_C= X"
   ]
  },
  {
   "cell_type": "code",
   "execution_count": 10,
   "metadata": {},
   "outputs": [],
   "source": [
    "#年齢と労働日数\n",
    "X_C['DAYS_EMPLOYED_PERC'] = X_C['DAYS_EMPLOYED'] / X_C['DAYS_BIRTH']\n",
    "#年収と\n",
    "X_C['INCOME_CREDIT_PERC'] = X_C['AMT_INCOME_TOTAL'] / X_C['AMT_CREDIT']\n",
    "\n",
    "X_C['INCOME_PER_PERSON'] = X_C['AMT_INCOME_TOTAL'] / X_C['CNT_FAM_MEMBERS']\n",
    "X_C['ANNUITY_INCOME_PERC'] = X_C['AMT_ANNUITY'] / X_C['AMT_INCOME_TOTAL']\n",
    "X_C['PAYMENT_RATE'] = X_C['AMT_ANNUITY'] / X_C['AMT_CREDIT']"
   ]
  },
  {
   "cell_type": "code",
   "execution_count": 11,
   "metadata": {},
   "outputs": [
    {
     "data": {
      "text/html": [
       "<div>\n",
       "<style scoped>\n",
       "    .dataframe tbody tr th:only-of-type {\n",
       "        vertical-align: middle;\n",
       "    }\n",
       "\n",
       "    .dataframe tbody tr th {\n",
       "        vertical-align: top;\n",
       "    }\n",
       "\n",
       "    .dataframe thead th {\n",
       "        text-align: right;\n",
       "    }\n",
       "</style>\n",
       "<table border=\"1\" class=\"dataframe\">\n",
       "  <thead>\n",
       "    <tr style=\"text-align: right;\">\n",
       "      <th></th>\n",
       "      <th>SK_ID_CURR</th>\n",
       "      <th>NAME_CONTRACT_TYPE_1</th>\n",
       "      <th>NAME_CONTRACT_TYPE_2</th>\n",
       "      <th>CODE_GENDER_1</th>\n",
       "      <th>CODE_GENDER_2</th>\n",
       "      <th>CODE_GENDER_3</th>\n",
       "      <th>FLAG_OWN_CAR_1</th>\n",
       "      <th>FLAG_OWN_CAR_2</th>\n",
       "      <th>FLAG_OWN_REALTY_1</th>\n",
       "      <th>FLAG_OWN_REALTY_2</th>\n",
       "      <th>...</th>\n",
       "      <th>AMT_REQ_CREDIT_BUREAU_DAY</th>\n",
       "      <th>AMT_REQ_CREDIT_BUREAU_WEEK</th>\n",
       "      <th>AMT_REQ_CREDIT_BUREAU_MON</th>\n",
       "      <th>AMT_REQ_CREDIT_BUREAU_QRT</th>\n",
       "      <th>AMT_REQ_CREDIT_BUREAU_YEAR</th>\n",
       "      <th>DAYS_EMPLOYED_PERC</th>\n",
       "      <th>INCOME_CREDIT_PERC</th>\n",
       "      <th>INCOME_PER_PERSON</th>\n",
       "      <th>ANNUITY_INCOME_PERC</th>\n",
       "      <th>PAYMENT_RATE</th>\n",
       "    </tr>\n",
       "  </thead>\n",
       "  <tbody>\n",
       "    <tr>\n",
       "      <th>0</th>\n",
       "      <td>100002</td>\n",
       "      <td>1</td>\n",
       "      <td>0</td>\n",
       "      <td>1</td>\n",
       "      <td>0</td>\n",
       "      <td>0</td>\n",
       "      <td>1</td>\n",
       "      <td>0</td>\n",
       "      <td>1</td>\n",
       "      <td>0</td>\n",
       "      <td>...</td>\n",
       "      <td>0.0</td>\n",
       "      <td>0.0</td>\n",
       "      <td>0.0</td>\n",
       "      <td>0.0</td>\n",
       "      <td>1.0</td>\n",
       "      <td>0.067329</td>\n",
       "      <td>0.498036</td>\n",
       "      <td>202500.0</td>\n",
       "      <td>0.121978</td>\n",
       "      <td>0.060749</td>\n",
       "    </tr>\n",
       "    <tr>\n",
       "      <th>1</th>\n",
       "      <td>100003</td>\n",
       "      <td>1</td>\n",
       "      <td>0</td>\n",
       "      <td>0</td>\n",
       "      <td>1</td>\n",
       "      <td>0</td>\n",
       "      <td>1</td>\n",
       "      <td>0</td>\n",
       "      <td>0</td>\n",
       "      <td>1</td>\n",
       "      <td>...</td>\n",
       "      <td>0.0</td>\n",
       "      <td>0.0</td>\n",
       "      <td>0.0</td>\n",
       "      <td>0.0</td>\n",
       "      <td>0.0</td>\n",
       "      <td>0.070862</td>\n",
       "      <td>0.208736</td>\n",
       "      <td>135000.0</td>\n",
       "      <td>0.132217</td>\n",
       "      <td>0.027598</td>\n",
       "    </tr>\n",
       "    <tr>\n",
       "      <th>2</th>\n",
       "      <td>100004</td>\n",
       "      <td>0</td>\n",
       "      <td>1</td>\n",
       "      <td>1</td>\n",
       "      <td>0</td>\n",
       "      <td>0</td>\n",
       "      <td>0</td>\n",
       "      <td>1</td>\n",
       "      <td>1</td>\n",
       "      <td>0</td>\n",
       "      <td>...</td>\n",
       "      <td>0.0</td>\n",
       "      <td>0.0</td>\n",
       "      <td>0.0</td>\n",
       "      <td>0.0</td>\n",
       "      <td>0.0</td>\n",
       "      <td>0.011814</td>\n",
       "      <td>0.500000</td>\n",
       "      <td>67500.0</td>\n",
       "      <td>0.100000</td>\n",
       "      <td>0.050000</td>\n",
       "    </tr>\n",
       "    <tr>\n",
       "      <th>3</th>\n",
       "      <td>100006</td>\n",
       "      <td>1</td>\n",
       "      <td>0</td>\n",
       "      <td>0</td>\n",
       "      <td>1</td>\n",
       "      <td>0</td>\n",
       "      <td>1</td>\n",
       "      <td>0</td>\n",
       "      <td>1</td>\n",
       "      <td>0</td>\n",
       "      <td>...</td>\n",
       "      <td>0.0</td>\n",
       "      <td>0.0</td>\n",
       "      <td>0.0</td>\n",
       "      <td>0.0</td>\n",
       "      <td>0.0</td>\n",
       "      <td>0.159905</td>\n",
       "      <td>0.431748</td>\n",
       "      <td>67500.0</td>\n",
       "      <td>0.219900</td>\n",
       "      <td>0.094941</td>\n",
       "    </tr>\n",
       "    <tr>\n",
       "      <th>4</th>\n",
       "      <td>100007</td>\n",
       "      <td>1</td>\n",
       "      <td>0</td>\n",
       "      <td>1</td>\n",
       "      <td>0</td>\n",
       "      <td>0</td>\n",
       "      <td>1</td>\n",
       "      <td>0</td>\n",
       "      <td>1</td>\n",
       "      <td>0</td>\n",
       "      <td>...</td>\n",
       "      <td>0.0</td>\n",
       "      <td>0.0</td>\n",
       "      <td>0.0</td>\n",
       "      <td>0.0</td>\n",
       "      <td>0.0</td>\n",
       "      <td>0.152418</td>\n",
       "      <td>0.236842</td>\n",
       "      <td>121500.0</td>\n",
       "      <td>0.179963</td>\n",
       "      <td>0.042623</td>\n",
       "    </tr>\n",
       "  </tbody>\n",
       "</table>\n",
       "<p>5 rows × 270 columns</p>\n",
       "</div>"
      ],
      "text/plain": [
       "   SK_ID_CURR  NAME_CONTRACT_TYPE_1  NAME_CONTRACT_TYPE_2  CODE_GENDER_1  \\\n",
       "0      100002                     1                     0              1   \n",
       "1      100003                     1                     0              0   \n",
       "2      100004                     0                     1              1   \n",
       "3      100006                     1                     0              0   \n",
       "4      100007                     1                     0              1   \n",
       "\n",
       "   CODE_GENDER_2  CODE_GENDER_3  FLAG_OWN_CAR_1  FLAG_OWN_CAR_2  \\\n",
       "0              0              0               1               0   \n",
       "1              1              0               1               0   \n",
       "2              0              0               0               1   \n",
       "3              1              0               1               0   \n",
       "4              0              0               1               0   \n",
       "\n",
       "   FLAG_OWN_REALTY_1  FLAG_OWN_REALTY_2  ...  AMT_REQ_CREDIT_BUREAU_DAY  \\\n",
       "0                  1                  0  ...                        0.0   \n",
       "1                  0                  1  ...                        0.0   \n",
       "2                  1                  0  ...                        0.0   \n",
       "3                  1                  0  ...                        0.0   \n",
       "4                  1                  0  ...                        0.0   \n",
       "\n",
       "   AMT_REQ_CREDIT_BUREAU_WEEK  AMT_REQ_CREDIT_BUREAU_MON  \\\n",
       "0                         0.0                        0.0   \n",
       "1                         0.0                        0.0   \n",
       "2                         0.0                        0.0   \n",
       "3                         0.0                        0.0   \n",
       "4                         0.0                        0.0   \n",
       "\n",
       "   AMT_REQ_CREDIT_BUREAU_QRT  AMT_REQ_CREDIT_BUREAU_YEAR  DAYS_EMPLOYED_PERC  \\\n",
       "0                        0.0                         1.0            0.067329   \n",
       "1                        0.0                         0.0            0.070862   \n",
       "2                        0.0                         0.0            0.011814   \n",
       "3                        0.0                         0.0            0.159905   \n",
       "4                        0.0                         0.0            0.152418   \n",
       "\n",
       "   INCOME_CREDIT_PERC  INCOME_PER_PERSON  ANNUITY_INCOME_PERC  PAYMENT_RATE  \n",
       "0            0.498036           202500.0             0.121978      0.060749  \n",
       "1            0.208736           135000.0             0.132217      0.027598  \n",
       "2            0.500000            67500.0             0.100000      0.050000  \n",
       "3            0.431748            67500.0             0.219900      0.094941  \n",
       "4            0.236842           121500.0             0.179963      0.042623  \n",
       "\n",
       "[5 rows x 270 columns]"
      ]
     },
     "metadata": {},
     "output_type": "display_data"
    }
   ],
   "source": [
    "display(X_C.head())"
   ]
  },
  {
   "cell_type": "markdown",
   "metadata": {},
   "source": [
    "#### 比較のために①のデータセットに追加した変数を加えたものをデータセットとして利用する"
   ]
  },
  {
   "cell_type": "code",
   "execution_count": 11,
   "metadata": {},
   "outputs": [],
   "source": [
    "X_1_C=X_C[['SK_ID_CURR','EXT_SOURCE_2','EXT_SOURCE_3','EXT_SOURCE_1','DAYS_BIRTH','DAYS_EMPLOYED'\n",
    "      ,'DAYS_EMPLOYED_PERC','INCOME_CREDIT_PERC','INCOME_PER_PERSON','ANNUITY_INCOME_PERC'\n",
    "        ,'PAYMENT_RATE']]"
   ]
  },
  {
   "cell_type": "code",
   "execution_count": 13,
   "metadata": {},
   "outputs": [
    {
     "data": {
      "text/html": [
       "<div>\n",
       "<style scoped>\n",
       "    .dataframe tbody tr th:only-of-type {\n",
       "        vertical-align: middle;\n",
       "    }\n",
       "\n",
       "    .dataframe tbody tr th {\n",
       "        vertical-align: top;\n",
       "    }\n",
       "\n",
       "    .dataframe thead th {\n",
       "        text-align: right;\n",
       "    }\n",
       "</style>\n",
       "<table border=\"1\" class=\"dataframe\">\n",
       "  <thead>\n",
       "    <tr style=\"text-align: right;\">\n",
       "      <th></th>\n",
       "      <th>EXT_SOURCE_2</th>\n",
       "      <th>EXT_SOURCE_3</th>\n",
       "      <th>EXT_SOURCE_1</th>\n",
       "      <th>DAYS_BIRTH</th>\n",
       "      <th>DAYS_EMPLOYED</th>\n",
       "      <th>DAYS_EMPLOYED_PERC</th>\n",
       "      <th>INCOME_CREDIT_PERC</th>\n",
       "      <th>INCOME_PER_PERSON</th>\n",
       "      <th>ANNUITY_INCOME_PERC</th>\n",
       "      <th>PAYMENT_RATE</th>\n",
       "    </tr>\n",
       "  </thead>\n",
       "  <tbody>\n",
       "    <tr>\n",
       "      <th>0</th>\n",
       "      <td>0.262949</td>\n",
       "      <td>0.139376</td>\n",
       "      <td>0.083037</td>\n",
       "      <td>-9461</td>\n",
       "      <td>-637</td>\n",
       "      <td>0.067329</td>\n",
       "      <td>0.498036</td>\n",
       "      <td>202500.0</td>\n",
       "      <td>0.121978</td>\n",
       "      <td>0.060749</td>\n",
       "    </tr>\n",
       "    <tr>\n",
       "      <th>1</th>\n",
       "      <td>0.622246</td>\n",
       "      <td>0.000000</td>\n",
       "      <td>0.311267</td>\n",
       "      <td>-16765</td>\n",
       "      <td>-1188</td>\n",
       "      <td>0.070862</td>\n",
       "      <td>0.208736</td>\n",
       "      <td>135000.0</td>\n",
       "      <td>0.132217</td>\n",
       "      <td>0.027598</td>\n",
       "    </tr>\n",
       "    <tr>\n",
       "      <th>2</th>\n",
       "      <td>0.555912</td>\n",
       "      <td>0.729567</td>\n",
       "      <td>0.000000</td>\n",
       "      <td>-19046</td>\n",
       "      <td>-225</td>\n",
       "      <td>0.011814</td>\n",
       "      <td>0.500000</td>\n",
       "      <td>67500.0</td>\n",
       "      <td>0.100000</td>\n",
       "      <td>0.050000</td>\n",
       "    </tr>\n",
       "    <tr>\n",
       "      <th>3</th>\n",
       "      <td>0.650442</td>\n",
       "      <td>0.000000</td>\n",
       "      <td>0.000000</td>\n",
       "      <td>-19005</td>\n",
       "      <td>-3039</td>\n",
       "      <td>0.159905</td>\n",
       "      <td>0.431748</td>\n",
       "      <td>67500.0</td>\n",
       "      <td>0.219900</td>\n",
       "      <td>0.094941</td>\n",
       "    </tr>\n",
       "    <tr>\n",
       "      <th>4</th>\n",
       "      <td>0.322738</td>\n",
       "      <td>0.000000</td>\n",
       "      <td>0.000000</td>\n",
       "      <td>-19932</td>\n",
       "      <td>-3038</td>\n",
       "      <td>0.152418</td>\n",
       "      <td>0.236842</td>\n",
       "      <td>121500.0</td>\n",
       "      <td>0.179963</td>\n",
       "      <td>0.042623</td>\n",
       "    </tr>\n",
       "  </tbody>\n",
       "</table>\n",
       "</div>"
      ],
      "text/plain": [
       "   EXT_SOURCE_2  EXT_SOURCE_3  EXT_SOURCE_1  DAYS_BIRTH  DAYS_EMPLOYED  \\\n",
       "0      0.262949      0.139376      0.083037       -9461           -637   \n",
       "1      0.622246      0.000000      0.311267      -16765          -1188   \n",
       "2      0.555912      0.729567      0.000000      -19046           -225   \n",
       "3      0.650442      0.000000      0.000000      -19005          -3039   \n",
       "4      0.322738      0.000000      0.000000      -19932          -3038   \n",
       "\n",
       "   DAYS_EMPLOYED_PERC  INCOME_CREDIT_PERC  INCOME_PER_PERSON  \\\n",
       "0            0.067329            0.498036           202500.0   \n",
       "1            0.070862            0.208736           135000.0   \n",
       "2            0.011814            0.500000            67500.0   \n",
       "3            0.159905            0.431748            67500.0   \n",
       "4            0.152418            0.236842           121500.0   \n",
       "\n",
       "   ANNUITY_INCOME_PERC  PAYMENT_RATE  \n",
       "0             0.121978      0.060749  \n",
       "1             0.132217      0.027598  \n",
       "2             0.100000      0.050000  \n",
       "3             0.219900      0.094941  \n",
       "4             0.179963      0.042623  "
      ]
     },
     "metadata": {},
     "output_type": "display_data"
    }
   ],
   "source": [
    "display(X_1_C.head())"
   ]
  },
  {
   "cell_type": "code",
   "execution_count": 35,
   "metadata": {},
   "outputs": [
    {
     "name": "stderr",
     "output_type": "stream",
     "text": [
      "//anaconda3/lib/python3.7/site-packages/sklearn/svm/base.py:929: ConvergenceWarning: Liblinear failed to converge, increase the number of iterations.\n",
      "  \"the number of iterations.\", ConvergenceWarning)\n",
      "//anaconda3/lib/python3.7/site-packages/sklearn/svm/base.py:929: ConvergenceWarning: Liblinear failed to converge, increase the number of iterations.\n",
      "  \"the number of iterations.\", ConvergenceWarning)\n",
      "//anaconda3/lib/python3.7/site-packages/sklearn/svm/base.py:929: ConvergenceWarning: Liblinear failed to converge, increase the number of iterations.\n",
      "  \"the number of iterations.\", ConvergenceWarning)\n",
      "//anaconda3/lib/python3.7/site-packages/sklearn/svm/base.py:929: ConvergenceWarning: Liblinear failed to converge, increase the number of iterations.\n",
      "  \"the number of iterations.\", ConvergenceWarning)\n",
      "//anaconda3/lib/python3.7/site-packages/sklearn/svm/base.py:929: ConvergenceWarning: Liblinear failed to converge, increase the number of iterations.\n",
      "  \"the number of iterations.\", ConvergenceWarning)\n"
     ]
    }
   ],
   "source": [
    "models =[LinearSVC()]\n",
    "scores = {}\n",
    "for model in models:\n",
    "    scores[str(model).split('(')[0]] = cross_val_score(model, X_1_C, y, cv=5,scoring='roc_auc')\n",
    "df_scores_1sc = pd.DataFrame(scores)\n",
    "\n",
    "#inf のエラーが発生する"
   ]
  },
  {
   "cell_type": "code",
   "execution_count": 36,
   "metadata": {},
   "outputs": [
    {
     "name": "stderr",
     "output_type": "stream",
     "text": [
      "//anaconda3/lib/python3.7/site-packages/sklearn/ensemble/forest.py:245: FutureWarning: The default value of n_estimators will change from 10 in version 0.20 to 100 in 0.22.\n",
      "  \"10 in version 0.20 to 100 in 0.22.\", FutureWarning)\n",
      "//anaconda3/lib/python3.7/site-packages/sklearn/ensemble/forest.py:245: FutureWarning: The default value of n_estimators will change from 10 in version 0.20 to 100 in 0.22.\n",
      "  \"10 in version 0.20 to 100 in 0.22.\", FutureWarning)\n",
      "//anaconda3/lib/python3.7/site-packages/sklearn/ensemble/forest.py:245: FutureWarning: The default value of n_estimators will change from 10 in version 0.20 to 100 in 0.22.\n",
      "  \"10 in version 0.20 to 100 in 0.22.\", FutureWarning)\n",
      "//anaconda3/lib/python3.7/site-packages/sklearn/ensemble/forest.py:245: FutureWarning: The default value of n_estimators will change from 10 in version 0.20 to 100 in 0.22.\n",
      "  \"10 in version 0.20 to 100 in 0.22.\", FutureWarning)\n",
      "//anaconda3/lib/python3.7/site-packages/sklearn/ensemble/forest.py:245: FutureWarning: The default value of n_estimators will change from 10 in version 0.20 to 100 in 0.22.\n",
      "  \"10 in version 0.20 to 100 in 0.22.\", FutureWarning)\n"
     ]
    }
   ],
   "source": [
    "models = [RandomForestClassifier()]\n",
    "scores = {}\n",
    "for model in models:\n",
    "    scores[str(model).split('(')[0]] = cross_val_score(model, X_1_C, y, cv=5,scoring='roc_auc')\n",
    "df_scores_1rc = pd.DataFrame(scores)"
   ]
  },
  {
   "cell_type": "code",
   "execution_count": 37,
   "metadata": {},
   "outputs": [
    {
     "data": {
      "text/html": [
       "<div>\n",
       "<style scoped>\n",
       "    .dataframe tbody tr th:only-of-type {\n",
       "        vertical-align: middle;\n",
       "    }\n",
       "\n",
       "    .dataframe tbody tr th {\n",
       "        vertical-align: top;\n",
       "    }\n",
       "\n",
       "    .dataframe thead th {\n",
       "        text-align: right;\n",
       "    }\n",
       "</style>\n",
       "<table border=\"1\" class=\"dataframe\">\n",
       "  <thead>\n",
       "    <tr style=\"text-align: right;\">\n",
       "      <th></th>\n",
       "      <th>LinearSVC</th>\n",
       "    </tr>\n",
       "  </thead>\n",
       "  <tbody>\n",
       "    <tr>\n",
       "      <th>0</th>\n",
       "      <td>0.566712</td>\n",
       "    </tr>\n",
       "    <tr>\n",
       "      <th>1</th>\n",
       "      <td>0.513533</td>\n",
       "    </tr>\n",
       "    <tr>\n",
       "      <th>2</th>\n",
       "      <td>0.522142</td>\n",
       "    </tr>\n",
       "    <tr>\n",
       "      <th>3</th>\n",
       "      <td>0.513061</td>\n",
       "    </tr>\n",
       "    <tr>\n",
       "      <th>4</th>\n",
       "      <td>0.538766</td>\n",
       "    </tr>\n",
       "  </tbody>\n",
       "</table>\n",
       "</div>"
      ],
      "text/plain": [
       "   LinearSVC\n",
       "0   0.566712\n",
       "1   0.513533\n",
       "2   0.522142\n",
       "3   0.513061\n",
       "4   0.538766"
      ]
     },
     "metadata": {},
     "output_type": "display_data"
    }
   ],
   "source": [
    "display(df_scores_1sc)"
   ]
  },
  {
   "cell_type": "code",
   "execution_count": 38,
   "metadata": {},
   "outputs": [
    {
     "data": {
      "text/html": [
       "<div>\n",
       "<style scoped>\n",
       "    .dataframe tbody tr th:only-of-type {\n",
       "        vertical-align: middle;\n",
       "    }\n",
       "\n",
       "    .dataframe tbody tr th {\n",
       "        vertical-align: top;\n",
       "    }\n",
       "\n",
       "    .dataframe thead th {\n",
       "        text-align: right;\n",
       "    }\n",
       "</style>\n",
       "<table border=\"1\" class=\"dataframe\">\n",
       "  <thead>\n",
       "    <tr style=\"text-align: right;\">\n",
       "      <th></th>\n",
       "      <th>RandomForestClassifier</th>\n",
       "    </tr>\n",
       "  </thead>\n",
       "  <tbody>\n",
       "    <tr>\n",
       "      <th>0</th>\n",
       "      <td>0.643930</td>\n",
       "    </tr>\n",
       "    <tr>\n",
       "      <th>1</th>\n",
       "      <td>0.647353</td>\n",
       "    </tr>\n",
       "    <tr>\n",
       "      <th>2</th>\n",
       "      <td>0.644814</td>\n",
       "    </tr>\n",
       "    <tr>\n",
       "      <th>3</th>\n",
       "      <td>0.648487</td>\n",
       "    </tr>\n",
       "    <tr>\n",
       "      <th>4</th>\n",
       "      <td>0.648469</td>\n",
       "    </tr>\n",
       "  </tbody>\n",
       "</table>\n",
       "</div>"
      ],
      "text/plain": [
       "   RandomForestClassifier\n",
       "0                0.643930\n",
       "1                0.647353\n",
       "2                0.644814\n",
       "3                0.648487\n",
       "4                0.648469"
      ]
     },
     "metadata": {},
     "output_type": "display_data"
    }
   ],
   "source": [
    "display(df_scores_1rc)"
   ]
  },
  {
   "cell_type": "markdown",
   "metadata": {},
   "source": [
    "#### ①の結果と比較"
   ]
  },
  {
   "cell_type": "code",
   "execution_count": 43,
   "metadata": {},
   "outputs": [
    {
     "data": {
      "text/html": [
       "<div>\n",
       "<style scoped>\n",
       "    .dataframe tbody tr th:only-of-type {\n",
       "        vertical-align: middle;\n",
       "    }\n",
       "\n",
       "    .dataframe tbody tr th {\n",
       "        vertical-align: top;\n",
       "    }\n",
       "\n",
       "    .dataframe thead th {\n",
       "        text-align: right;\n",
       "    }\n",
       "</style>\n",
       "<table border=\"1\" class=\"dataframe\">\n",
       "  <thead>\n",
       "    <tr style=\"text-align: right;\">\n",
       "      <th></th>\n",
       "      <th>RandomForestClassifier</th>\n",
       "    </tr>\n",
       "  </thead>\n",
       "  <tbody>\n",
       "    <tr>\n",
       "      <th>0</th>\n",
       "      <td>0.630366</td>\n",
       "    </tr>\n",
       "    <tr>\n",
       "      <th>1</th>\n",
       "      <td>0.630562</td>\n",
       "    </tr>\n",
       "    <tr>\n",
       "      <th>2</th>\n",
       "      <td>0.624335</td>\n",
       "    </tr>\n",
       "    <tr>\n",
       "      <th>3</th>\n",
       "      <td>0.632672</td>\n",
       "    </tr>\n",
       "    <tr>\n",
       "      <th>4</th>\n",
       "      <td>0.634328</td>\n",
       "    </tr>\n",
       "  </tbody>\n",
       "</table>\n",
       "</div>"
      ],
      "text/plain": [
       "   RandomForestClassifier\n",
       "0                0.630366\n",
       "1                0.630562\n",
       "2                0.624335\n",
       "3                0.632672\n",
       "4                0.634328"
      ]
     },
     "metadata": {},
     "output_type": "display_data"
    }
   ],
   "source": [
    "display(df_scores_1r)"
   ]
  },
  {
   "cell_type": "code",
   "execution_count": 50,
   "metadata": {},
   "outputs": [
    {
     "data": {
      "text/html": [
       "<div>\n",
       "<style scoped>\n",
       "    .dataframe tbody tr th:only-of-type {\n",
       "        vertical-align: middle;\n",
       "    }\n",
       "\n",
       "    .dataframe tbody tr th {\n",
       "        vertical-align: top;\n",
       "    }\n",
       "\n",
       "    .dataframe thead th {\n",
       "        text-align: right;\n",
       "    }\n",
       "</style>\n",
       "<table border=\"1\" class=\"dataframe\">\n",
       "  <thead>\n",
       "    <tr style=\"text-align: right;\">\n",
       "      <th></th>\n",
       "      <th>LinearSVC</th>\n",
       "    </tr>\n",
       "  </thead>\n",
       "  <tbody>\n",
       "    <tr>\n",
       "      <th>0</th>\n",
       "      <td>0.479480</td>\n",
       "    </tr>\n",
       "    <tr>\n",
       "      <th>1</th>\n",
       "      <td>0.518983</td>\n",
       "    </tr>\n",
       "    <tr>\n",
       "      <th>2</th>\n",
       "      <td>0.591451</td>\n",
       "    </tr>\n",
       "    <tr>\n",
       "      <th>3</th>\n",
       "      <td>0.580907</td>\n",
       "    </tr>\n",
       "    <tr>\n",
       "      <th>4</th>\n",
       "      <td>0.583249</td>\n",
       "    </tr>\n",
       "  </tbody>\n",
       "</table>\n",
       "</div>"
      ],
      "text/plain": [
       "   LinearSVC\n",
       "0   0.479480\n",
       "1   0.518983\n",
       "2   0.591451\n",
       "3   0.580907\n",
       "4   0.583249"
      ]
     },
     "metadata": {},
     "output_type": "display_data"
    }
   ],
   "source": [
    "display(df_scores_1s)"
   ]
  },
  {
   "cell_type": "markdown",
   "metadata": {},
   "source": [
    "### ④結論：ランダムフォレストはスコアが上がったが、SVCはスコアが下がった。"
   ]
  },
  {
   "cell_type": "code",
   "execution_count": null,
   "metadata": {},
   "outputs": [],
   "source": [
    "#試しにLGBMも試してみる\n",
    "models =[LGBMClassifier()]\n",
    "scores = {}\n",
    "for model in models:\n",
    "    scores[str(model).split('(')[0]] = cross_val_score(model, X_2, y, cv=5,scoring='roc_auc')\n",
    "df_scores_2l = pd.DataFrame(scores)"
   ]
  },
  {
   "cell_type": "code",
   "execution_count": 31,
   "metadata": {},
   "outputs": [
    {
     "data": {
      "text/plain": [
       "<matplotlib.axes._subplots.AxesSubplot at 0x1a1700e630>"
      ]
     },
     "execution_count": 31,
     "metadata": {},
     "output_type": "execute_result"
    },
    {
     "data": {
      "image/png": "[encoded data removed]",
      "text/plain": [
       "<Figure size 1728x720 with 3 Axes>"
      ]
     },
     "metadata": {
      "needs_background": "light"
     },
     "output_type": "display_data"
    }
   ],
   "source": [
    "import missingno as msno\n",
    "msno.bar(X_1_C)\n",
    "#null原因じゃない"
   ]
  },
  {
   "cell_type": "code",
   "execution_count": 33,
   "metadata": {},
   "outputs": [
    {
     "name": "stdout",
     "output_type": "stream",
     "text": [
      "        EXT_SOURCE_2  EXT_SOURCE_3  EXT_SOURCE_1  DAYS_BIRTH  DAYS_EMPLOYED  \\\n",
      "0              False         False         False       False          False   \n",
      "1              False         False         False       False          False   \n",
      "2              False         False         False       False          False   \n",
      "3              False         False         False       False          False   \n",
      "4              False         False         False       False          False   \n",
      "5              False         False         False       False          False   \n",
      "6              False         False         False       False          False   \n",
      "7              False         False         False       False          False   \n",
      "8              False         False         False       False          False   \n",
      "9              False         False         False       False          False   \n",
      "10             False         False         False       False          False   \n",
      "11             False         False         False       False          False   \n",
      "12             False         False         False       False          False   \n",
      "13             False         False         False       False          False   \n",
      "14             False         False         False       False          False   \n",
      "15             False         False         False       False          False   \n",
      "16             False         False         False       False          False   \n",
      "17             False         False         False       False          False   \n",
      "18             False         False         False       False          False   \n",
      "19             False         False         False       False          False   \n",
      "20             False         False         False       False          False   \n",
      "21             False         False         False       False          False   \n",
      "22             False         False         False       False          False   \n",
      "23             False         False         False       False          False   \n",
      "24             False         False         False       False          False   \n",
      "25             False         False         False       False          False   \n",
      "26             False         False         False       False          False   \n",
      "27             False         False         False       False          False   \n",
      "28             False         False         False       False          False   \n",
      "29             False         False         False       False          False   \n",
      "...              ...           ...           ...         ...            ...   \n",
      "307481         False         False         False       False          False   \n",
      "307482         False         False         False       False          False   \n",
      "307483         False         False         False       False          False   \n",
      "307484         False         False         False       False          False   \n",
      "307485         False         False         False       False          False   \n",
      "307486         False         False         False       False          False   \n",
      "307487         False         False         False       False          False   \n",
      "307488         False         False         False       False          False   \n",
      "307489         False         False         False       False          False   \n",
      "307490         False         False         False       False          False   \n",
      "307491         False         False         False       False          False   \n",
      "307492         False         False         False       False          False   \n",
      "307493         False         False         False       False          False   \n",
      "307494         False         False         False       False          False   \n",
      "307495         False         False         False       False          False   \n",
      "307496         False         False         False       False          False   \n",
      "307497         False         False         False       False          False   \n",
      "307498         False         False         False       False          False   \n",
      "307499         False         False         False       False          False   \n",
      "307500         False         False         False       False          False   \n",
      "307501         False         False         False       False          False   \n",
      "307502         False         False         False       False          False   \n",
      "307503         False         False         False       False          False   \n",
      "307504         False         False         False       False          False   \n",
      "307505         False         False         False       False          False   \n",
      "307506         False         False         False       False          False   \n",
      "307507         False         False         False       False          False   \n",
      "307508         False         False         False       False          False   \n",
      "307509         False         False         False       False          False   \n",
      "307510         False         False         False       False          False   \n",
      "\n",
      "        DAYS_EMPLOYED_PERC  INCOME_CREDIT_PERC  INCOME_PER_PERSON  \\\n",
      "0                    False               False              False   \n",
      "1                    False               False              False   \n",
      "2                    False               False              False   \n",
      "3                    False               False              False   \n",
      "4                    False               False              False   \n",
      "5                    False               False              False   \n",
      "6                    False               False              False   \n",
      "7                    False               False              False   \n",
      "8                    False               False              False   \n",
      "9                    False               False              False   \n",
      "10                   False               False              False   \n",
      "11                   False               False              False   \n",
      "12                   False               False              False   \n",
      "13                   False               False              False   \n",
      "14                   False               False              False   \n",
      "15                   False               False              False   \n",
      "16                   False               False              False   \n",
      "17                   False               False              False   \n",
      "18                   False               False              False   \n",
      "19                   False               False              False   \n",
      "20                   False               False              False   \n",
      "21                   False               False              False   \n",
      "22                   False               False              False   \n",
      "23                   False               False              False   \n",
      "24                   False               False              False   \n",
      "25                   False               False              False   \n",
      "26                   False               False              False   \n",
      "27                   False               False              False   \n",
      "28                   False               False              False   \n",
      "29                   False               False              False   \n",
      "...                    ...                 ...                ...   \n",
      "307481               False               False              False   \n",
      "307482               False               False              False   \n",
      "307483               False               False              False   \n",
      "307484               False               False              False   \n",
      "307485               False               False              False   \n",
      "307486               False               False              False   \n",
      "307487               False               False              False   \n",
      "307488               False               False              False   \n",
      "307489               False               False              False   \n",
      "307490               False               False              False   \n",
      "307491               False               False              False   \n",
      "307492               False               False              False   \n",
      "307493               False               False              False   \n",
      "307494               False               False              False   \n",
      "307495               False               False              False   \n",
      "307496               False               False              False   \n",
      "307497               False               False              False   \n",
      "307498               False               False              False   \n",
      "307499               False               False              False   \n",
      "307500               False               False              False   \n",
      "307501               False               False              False   \n",
      "307502               False               False              False   \n",
      "307503               False               False              False   \n",
      "307504               False               False              False   \n",
      "307505               False               False              False   \n",
      "307506               False               False              False   \n",
      "307507               False               False              False   \n",
      "307508               False               False              False   \n",
      "307509               False               False              False   \n",
      "307510               False               False              False   \n",
      "\n",
      "        ANNUITY_INCOME_PERC  PAYMENT_RATE  \n",
      "0                     False         False  \n",
      "1                     False         False  \n",
      "2                     False         False  \n",
      "3                     False         False  \n",
      "4                     False         False  \n",
      "5                     False         False  \n",
      "6                     False         False  \n",
      "7                     False         False  \n",
      "8                     False         False  \n",
      "9                     False         False  \n",
      "10                    False         False  \n",
      "11                    False         False  \n",
      "12                    False         False  \n",
      "13                    False         False  \n",
      "14                    False         False  \n",
      "15                    False         False  \n",
      "16                    False         False  \n",
      "17                    False         False  \n",
      "18                    False         False  \n",
      "19                    False         False  \n",
      "20                    False         False  \n",
      "21                    False         False  \n",
      "22                    False         False  \n",
      "23                    False         False  \n",
      "24                    False         False  \n",
      "25                    False         False  \n",
      "26                    False         False  \n",
      "27                    False         False  \n",
      "28                    False         False  \n",
      "29                    False         False  \n",
      "...                     ...           ...  \n",
      "307481                False         False  \n",
      "307482                False         False  \n",
      "307483                False         False  \n",
      "307484                False         False  \n",
      "307485                False         False  \n",
      "307486                False         False  \n",
      "307487                False         False  \n",
      "307488                False         False  \n",
      "307489                False         False  \n",
      "307490                False         False  \n",
      "307491                False         False  \n",
      "307492                False         False  \n",
      "307493                False         False  \n",
      "307494                False         False  \n",
      "307495                False         False  \n",
      "307496                False         False  \n",
      "307497                False         False  \n",
      "307498                False         False  \n",
      "307499                False         False  \n",
      "307500                False         False  \n",
      "307501                False         False  \n",
      "307502                False         False  \n",
      "307503                False         False  \n",
      "307504                False         False  \n",
      "307505                False         False  \n",
      "307506                False         False  \n",
      "307507                False         False  \n",
      "307508                False         False  \n",
      "307509                False         False  \n",
      "307510                False         False  \n",
      "\n",
      "[307511 rows x 10 columns]\n"
     ]
    },
    {
     "name": "stderr",
     "output_type": "stream",
     "text": [
      "//anaconda3/lib/python3.7/site-packages/pandas/core/ops.py:1649: FutureWarning: elementwise comparison failed; returning scalar instead, but in the future will perform elementwise comparison\n",
      "  result = method(y)\n"
     ]
    }
   ],
   "source": [
    "print(np.isinf(X_1_C)=='True')"
   ]
  },
  {
   "cell_type": "code",
   "execution_count": 22,
   "metadata": {},
   "outputs": [],
   "source": [
    "#inf(無限大野数)を0にリプレイス\n",
    "X_1_C = X_1_C.replace([np.inf, -np.inf], 0)\n",
    "#エラー解決"
   ]
  },
  {
   "cell_type": "code",
   "execution_count": null,
   "metadata": {},
   "outputs": [],
   "source": []
  },
  {
   "cell_type": "markdown",
   "metadata": {},
   "source": [
    "# 【問題5】最終的なモデルの選定"
   ]
  },
  {
   "cell_type": "markdown",
   "metadata": {},
   "source": [
    "最終的にこれは良いというモデルを選び、推定した結果をKaggleに提出してスコアを確認してください。どういったアイデアを取り入れ、どの程度のスコアになったかを記載してください。"
   ]
  },
  {
   "cell_type": "markdown",
   "metadata": {},
   "source": [
    "predictだけ実施すると思うが、OneHotEncodeは必要かと思うが、nullの補完は必要なのか・・・・？両方で試してみる。"
   ]
  },
  {
   "cell_type": "code",
   "execution_count": 12,
   "metadata": {},
   "outputs": [],
   "source": [
    "path_test = '/Users/toyodasatomi/Downloads/application_test.csv'"
   ]
  },
  {
   "cell_type": "code",
   "execution_count": 13,
   "metadata": {},
   "outputs": [],
   "source": [
    "df_test = pd.read_csv(path_test)"
   ]
  },
  {
   "cell_type": "code",
   "execution_count": 14,
   "metadata": {},
   "outputs": [],
   "source": [
    "list_cols = ['NAME_CONTRACT_TYPE','CODE_GENDER','FLAG_OWN_CAR','FLAG_OWN_REALTY','CNT_CHILDREN'\n",
    "            ,'NAME_FAMILY_STATUS','NAME_HOUSING_TYPE','NAME_TYPE_SUITE','NAME_INCOME_TYPE'\n",
    "            ,'NAME_EDUCATION_TYPE','OCCUPATION_TYPE','WEEKDAY_APPR_PROCESS_START','ORGANIZATION_TYPE'\n",
    "            ,'FONDKAPREMONT_MODE','HOUSETYPE_MODE','WALLSMATERIAL_MODE','EMERGENCYSTATE_MODE']\n",
    "# OneHotEncodeしたい列を指定。Nullや不明の場合の補完方法も指定。\n",
    "ce_ohe = ce.OneHotEncoder(cols=list_cols,handle_unknown='impute')\n",
    "# pd.DataFrameをそのまま突っ込む\n",
    "df_onehot_test = ce_ohe.fit_transform(df_test)"
   ]
  },
  {
   "cell_type": "code",
   "execution_count": 15,
   "metadata": {},
   "outputs": [],
   "source": [
    "#0うめ\n",
    "df_onehot_nonan_test = df_onehot_test.fillna(0)"
   ]
  },
  {
   "cell_type": "code",
   "execution_count": 63,
   "metadata": {},
   "outputs": [
    {
     "data": {
      "text/html": [
       "<div>\n",
       "<style scoped>\n",
       "    .dataframe tbody tr th:only-of-type {\n",
       "        vertical-align: middle;\n",
       "    }\n",
       "\n",
       "    .dataframe tbody tr th {\n",
       "        vertical-align: top;\n",
       "    }\n",
       "\n",
       "    .dataframe thead th {\n",
       "        text-align: right;\n",
       "    }\n",
       "</style>\n",
       "<table border=\"1\" class=\"dataframe\">\n",
       "  <thead>\n",
       "    <tr style=\"text-align: right;\">\n",
       "      <th></th>\n",
       "      <th>SK_ID_CURR</th>\n",
       "      <th>NAME_CONTRACT_TYPE_1</th>\n",
       "      <th>NAME_CONTRACT_TYPE_2</th>\n",
       "      <th>CODE_GENDER_1</th>\n",
       "      <th>CODE_GENDER_2</th>\n",
       "      <th>FLAG_OWN_CAR_1</th>\n",
       "      <th>FLAG_OWN_CAR_2</th>\n",
       "      <th>FLAG_OWN_REALTY_1</th>\n",
       "      <th>FLAG_OWN_REALTY_2</th>\n",
       "      <th>CNT_CHILDREN_1</th>\n",
       "      <th>...</th>\n",
       "      <th>AMT_REQ_CREDIT_BUREAU_DAY</th>\n",
       "      <th>AMT_REQ_CREDIT_BUREAU_WEEK</th>\n",
       "      <th>AMT_REQ_CREDIT_BUREAU_MON</th>\n",
       "      <th>AMT_REQ_CREDIT_BUREAU_QRT</th>\n",
       "      <th>AMT_REQ_CREDIT_BUREAU_YEAR</th>\n",
       "      <th>DAYS_EMPLOYED_PERC</th>\n",
       "      <th>INCOME_CREDIT_PERC</th>\n",
       "      <th>INCOME_PER_PERSON</th>\n",
       "      <th>ANNUITY_INCOME_PERC</th>\n",
       "      <th>PAYMENT_RATE</th>\n",
       "    </tr>\n",
       "  </thead>\n",
       "  <tbody>\n",
       "    <tr>\n",
       "      <th>0</th>\n",
       "      <td>100001</td>\n",
       "      <td>1</td>\n",
       "      <td>0</td>\n",
       "      <td>1</td>\n",
       "      <td>0</td>\n",
       "      <td>1</td>\n",
       "      <td>0</td>\n",
       "      <td>1</td>\n",
       "      <td>0</td>\n",
       "      <td>1</td>\n",
       "      <td>...</td>\n",
       "      <td>0.0</td>\n",
       "      <td>0.0</td>\n",
       "      <td>0.0</td>\n",
       "      <td>0.0</td>\n",
       "      <td>0.0</td>\n",
       "      <td>0.121044</td>\n",
       "      <td>0.237342</td>\n",
       "      <td>67500.0</td>\n",
       "      <td>0.152300</td>\n",
       "      <td>0.036147</td>\n",
       "    </tr>\n",
       "    <tr>\n",
       "      <th>1</th>\n",
       "      <td>100005</td>\n",
       "      <td>1</td>\n",
       "      <td>0</td>\n",
       "      <td>0</td>\n",
       "      <td>1</td>\n",
       "      <td>1</td>\n",
       "      <td>0</td>\n",
       "      <td>1</td>\n",
       "      <td>0</td>\n",
       "      <td>1</td>\n",
       "      <td>...</td>\n",
       "      <td>0.0</td>\n",
       "      <td>0.0</td>\n",
       "      <td>0.0</td>\n",
       "      <td>0.0</td>\n",
       "      <td>3.0</td>\n",
       "      <td>0.247398</td>\n",
       "      <td>0.444409</td>\n",
       "      <td>49500.0</td>\n",
       "      <td>0.175455</td>\n",
       "      <td>0.077973</td>\n",
       "    </tr>\n",
       "    <tr>\n",
       "      <th>2</th>\n",
       "      <td>100013</td>\n",
       "      <td>1</td>\n",
       "      <td>0</td>\n",
       "      <td>0</td>\n",
       "      <td>1</td>\n",
       "      <td>0</td>\n",
       "      <td>1</td>\n",
       "      <td>1</td>\n",
       "      <td>0</td>\n",
       "      <td>1</td>\n",
       "      <td>...</td>\n",
       "      <td>0.0</td>\n",
       "      <td>0.0</td>\n",
       "      <td>0.0</td>\n",
       "      <td>1.0</td>\n",
       "      <td>4.0</td>\n",
       "      <td>0.222477</td>\n",
       "      <td>0.305308</td>\n",
       "      <td>101250.0</td>\n",
       "      <td>0.344578</td>\n",
       "      <td>0.105202</td>\n",
       "    </tr>\n",
       "    <tr>\n",
       "      <th>3</th>\n",
       "      <td>100028</td>\n",
       "      <td>1</td>\n",
       "      <td>0</td>\n",
       "      <td>1</td>\n",
       "      <td>0</td>\n",
       "      <td>1</td>\n",
       "      <td>0</td>\n",
       "      <td>1</td>\n",
       "      <td>0</td>\n",
       "      <td>0</td>\n",
       "      <td>...</td>\n",
       "      <td>0.0</td>\n",
       "      <td>0.0</td>\n",
       "      <td>0.0</td>\n",
       "      <td>0.0</td>\n",
       "      <td>3.0</td>\n",
       "      <td>0.133515</td>\n",
       "      <td>0.200000</td>\n",
       "      <td>78750.0</td>\n",
       "      <td>0.155614</td>\n",
       "      <td>0.031123</td>\n",
       "    </tr>\n",
       "    <tr>\n",
       "      <th>4</th>\n",
       "      <td>100038</td>\n",
       "      <td>1</td>\n",
       "      <td>0</td>\n",
       "      <td>0</td>\n",
       "      <td>1</td>\n",
       "      <td>0</td>\n",
       "      <td>1</td>\n",
       "      <td>0</td>\n",
       "      <td>1</td>\n",
       "      <td>0</td>\n",
       "      <td>...</td>\n",
       "      <td>0.0</td>\n",
       "      <td>0.0</td>\n",
       "      <td>0.0</td>\n",
       "      <td>0.0</td>\n",
       "      <td>0.0</td>\n",
       "      <td>0.168021</td>\n",
       "      <td>0.287770</td>\n",
       "      <td>60000.0</td>\n",
       "      <td>0.178150</td>\n",
       "      <td>0.051266</td>\n",
       "    </tr>\n",
       "  </tbody>\n",
       "</table>\n",
       "<p>5 rows × 263 columns</p>\n",
       "</div>"
      ],
      "text/plain": [
       "   SK_ID_CURR  NAME_CONTRACT_TYPE_1  NAME_CONTRACT_TYPE_2  CODE_GENDER_1  \\\n",
       "0      100001                     1                     0              1   \n",
       "1      100005                     1                     0              0   \n",
       "2      100013                     1                     0              0   \n",
       "3      100028                     1                     0              1   \n",
       "4      100038                     1                     0              0   \n",
       "\n",
       "   CODE_GENDER_2  FLAG_OWN_CAR_1  FLAG_OWN_CAR_2  FLAG_OWN_REALTY_1  \\\n",
       "0              0               1               0                  1   \n",
       "1              1               1               0                  1   \n",
       "2              1               0               1                  1   \n",
       "3              0               1               0                  1   \n",
       "4              1               0               1                  0   \n",
       "\n",
       "   FLAG_OWN_REALTY_2  CNT_CHILDREN_1  ...  AMT_REQ_CREDIT_BUREAU_DAY  \\\n",
       "0                  0               1  ...                        0.0   \n",
       "1                  0               1  ...                        0.0   \n",
       "2                  0               1  ...                        0.0   \n",
       "3                  0               0  ...                        0.0   \n",
       "4                  1               0  ...                        0.0   \n",
       "\n",
       "   AMT_REQ_CREDIT_BUREAU_WEEK  AMT_REQ_CREDIT_BUREAU_MON  \\\n",
       "0                         0.0                        0.0   \n",
       "1                         0.0                        0.0   \n",
       "2                         0.0                        0.0   \n",
       "3                         0.0                        0.0   \n",
       "4                         0.0                        0.0   \n",
       "\n",
       "   AMT_REQ_CREDIT_BUREAU_QRT  AMT_REQ_CREDIT_BUREAU_YEAR  DAYS_EMPLOYED_PERC  \\\n",
       "0                        0.0                         0.0            0.121044   \n",
       "1                        0.0                         3.0            0.247398   \n",
       "2                        1.0                         4.0            0.222477   \n",
       "3                        0.0                         3.0            0.133515   \n",
       "4                        0.0                         0.0            0.168021   \n",
       "\n",
       "   INCOME_CREDIT_PERC  INCOME_PER_PERSON  ANNUITY_INCOME_PERC  PAYMENT_RATE  \n",
       "0            0.237342            67500.0             0.152300      0.036147  \n",
       "1            0.444409            49500.0             0.175455      0.077973  \n",
       "2            0.305308           101250.0             0.344578      0.105202  \n",
       "3            0.200000            78750.0             0.155614      0.031123  \n",
       "4            0.287770            60000.0             0.178150      0.051266  \n",
       "\n",
       "[5 rows x 263 columns]"
      ]
     },
     "metadata": {},
     "output_type": "display_data"
    }
   ],
   "source": [
    "display(df_onehot_nonan_test.head())"
   ]
  },
  {
   "cell_type": "code",
   "execution_count": 64,
   "metadata": {},
   "outputs": [
    {
     "data": {
      "text/html": [
       "<div>\n",
       "<style scoped>\n",
       "    .dataframe tbody tr th:only-of-type {\n",
       "        vertical-align: middle;\n",
       "    }\n",
       "\n",
       "    .dataframe tbody tr th {\n",
       "        vertical-align: top;\n",
       "    }\n",
       "\n",
       "    .dataframe thead th {\n",
       "        text-align: right;\n",
       "    }\n",
       "</style>\n",
       "<table border=\"1\" class=\"dataframe\">\n",
       "  <thead>\n",
       "    <tr style=\"text-align: right;\">\n",
       "      <th></th>\n",
       "      <th>EXT_SOURCE_2</th>\n",
       "      <th>EXT_SOURCE_3</th>\n",
       "      <th>EXT_SOURCE_1</th>\n",
       "      <th>DAYS_BIRTH</th>\n",
       "      <th>DAYS_EMPLOYED</th>\n",
       "      <th>DAYS_EMPLOYED_PERC</th>\n",
       "      <th>INCOME_CREDIT_PERC</th>\n",
       "      <th>INCOME_PER_PERSON</th>\n",
       "      <th>ANNUITY_INCOME_PERC</th>\n",
       "      <th>PAYMENT_RATE</th>\n",
       "    </tr>\n",
       "  </thead>\n",
       "  <tbody>\n",
       "    <tr>\n",
       "      <th>0</th>\n",
       "      <td>0.789654</td>\n",
       "      <td>0.159520</td>\n",
       "      <td>0.752614</td>\n",
       "      <td>-19241</td>\n",
       "      <td>-2329</td>\n",
       "      <td>0.121044</td>\n",
       "      <td>0.237342</td>\n",
       "      <td>67500.0</td>\n",
       "      <td>0.152300</td>\n",
       "      <td>0.036147</td>\n",
       "    </tr>\n",
       "    <tr>\n",
       "      <th>1</th>\n",
       "      <td>0.291656</td>\n",
       "      <td>0.432962</td>\n",
       "      <td>0.564990</td>\n",
       "      <td>-18064</td>\n",
       "      <td>-4469</td>\n",
       "      <td>0.247398</td>\n",
       "      <td>0.444409</td>\n",
       "      <td>49500.0</td>\n",
       "      <td>0.175455</td>\n",
       "      <td>0.077973</td>\n",
       "    </tr>\n",
       "    <tr>\n",
       "      <th>2</th>\n",
       "      <td>0.699787</td>\n",
       "      <td>0.610991</td>\n",
       "      <td>0.000000</td>\n",
       "      <td>-20038</td>\n",
       "      <td>-4458</td>\n",
       "      <td>0.222477</td>\n",
       "      <td>0.305308</td>\n",
       "      <td>101250.0</td>\n",
       "      <td>0.344578</td>\n",
       "      <td>0.105202</td>\n",
       "    </tr>\n",
       "    <tr>\n",
       "      <th>3</th>\n",
       "      <td>0.509677</td>\n",
       "      <td>0.612704</td>\n",
       "      <td>0.525734</td>\n",
       "      <td>-13976</td>\n",
       "      <td>-1866</td>\n",
       "      <td>0.133515</td>\n",
       "      <td>0.200000</td>\n",
       "      <td>78750.0</td>\n",
       "      <td>0.155614</td>\n",
       "      <td>0.031123</td>\n",
       "    </tr>\n",
       "    <tr>\n",
       "      <th>4</th>\n",
       "      <td>0.425687</td>\n",
       "      <td>0.000000</td>\n",
       "      <td>0.202145</td>\n",
       "      <td>-13040</td>\n",
       "      <td>-2191</td>\n",
       "      <td>0.168021</td>\n",
       "      <td>0.287770</td>\n",
       "      <td>60000.0</td>\n",
       "      <td>0.178150</td>\n",
       "      <td>0.051266</td>\n",
       "    </tr>\n",
       "  </tbody>\n",
       "</table>\n",
       "</div>"
      ],
      "text/plain": [
       "   EXT_SOURCE_2  EXT_SOURCE_3  EXT_SOURCE_1  DAYS_BIRTH  DAYS_EMPLOYED  \\\n",
       "0      0.789654      0.159520      0.752614      -19241          -2329   \n",
       "1      0.291656      0.432962      0.564990      -18064          -4469   \n",
       "2      0.699787      0.610991      0.000000      -20038          -4458   \n",
       "3      0.509677      0.612704      0.525734      -13976          -1866   \n",
       "4      0.425687      0.000000      0.202145      -13040          -2191   \n",
       "\n",
       "   DAYS_EMPLOYED_PERC  INCOME_CREDIT_PERC  INCOME_PER_PERSON  \\\n",
       "0            0.121044            0.237342            67500.0   \n",
       "1            0.247398            0.444409            49500.0   \n",
       "2            0.222477            0.305308           101250.0   \n",
       "3            0.133515            0.200000            78750.0   \n",
       "4            0.168021            0.287770            60000.0   \n",
       "\n",
       "   ANNUITY_INCOME_PERC  PAYMENT_RATE  \n",
       "0             0.152300      0.036147  \n",
       "1             0.175455      0.077973  \n",
       "2             0.344578      0.105202  \n",
       "3             0.155614      0.031123  \n",
       "4             0.178150      0.051266  "
      ]
     },
     "metadata": {},
     "output_type": "display_data"
    }
   ],
   "source": [
    "display(X_1_C_test.head())"
   ]
  },
  {
   "cell_type": "code",
   "execution_count": 16,
   "metadata": {},
   "outputs": [],
   "source": [
    "#変数追加\n",
    "df_onehot_nonan_test['DAYS_EMPLOYED_PERC'] = df_onehot_nonan_test['DAYS_EMPLOYED'] / df_onehot_nonan_test['DAYS_BIRTH']\n",
    "#年収と\n",
    "df_onehot_nonan_test['INCOME_CREDIT_PERC'] = df_onehot_nonan_test['AMT_INCOME_TOTAL'] / df_onehot_nonan_test['AMT_CREDIT']\n",
    "\n",
    "df_onehot_nonan_test['INCOME_PER_PERSON'] = df_onehot_nonan_test['AMT_INCOME_TOTAL'] / df_onehot_nonan_test['CNT_FAM_MEMBERS']\n",
    "df_onehot_nonan_test['ANNUITY_INCOME_PERC'] = df_onehot_nonan_test['AMT_ANNUITY'] / df_onehot_nonan_test['AMT_INCOME_TOTAL']\n",
    "df_onehot_nonan_test['PAYMENT_RATE'] = df_onehot_nonan_test['AMT_ANNUITY'] / df_onehot_nonan_test['AMT_CREDIT']\n"
   ]
  },
  {
   "cell_type": "code",
   "execution_count": 20,
   "metadata": {},
   "outputs": [],
   "source": [
    "X_1_C_test=df_onehot_nonan_test[['SK_ID_CURR','EXT_SOURCE_2','EXT_SOURCE_3','EXT_SOURCE_1','DAYS_BIRTH','DAYS_EMPLOYED'\n",
    "      ,'DAYS_EMPLOYED_PERC','INCOME_CREDIT_PERC','INCOME_PER_PERSON','ANNUITY_INCOME_PERC'\n",
    "        ,'PAYMENT_RATE']]"
   ]
  },
  {
   "cell_type": "code",
   "execution_count": 21,
   "metadata": {},
   "outputs": [],
   "source": [
    "#inf(無限大野数)を0にリプレイス\n",
    "X_1_C_test = X_1_C_test.replace([np.inf, -np.inf], 0)"
   ]
  },
  {
   "cell_type": "code",
   "execution_count": 23,
   "metadata": {},
   "outputs": [],
   "source": [
    "#ランダムフォレストのモデルで実施してみる\n",
    "#一番スコアの良かったパターン③のX_1_C, yで\n",
    "rf = RandomForestClassifier(n_estimators=100, max_depth=2,random_state=0)\n",
    "#学習\n",
    "rf.fit(X_1_C, y)\n",
    "#予測\n",
    "Y_pred_rf = rf.predict(X_1_C_test)\n",
    "#prob\n",
    "y_pred_proba = rf.predict_proba(X_1_C_test)"
   ]
  },
  {
   "cell_type": "code",
   "execution_count": 71,
   "metadata": {},
   "outputs": [
    {
     "data": {
      "text/plain": [
       "array([[0.92588223, 0.07411777],\n",
       "       [0.91304601, 0.08695399],\n",
       "       [0.94465696, 0.05534304],\n",
       "       ...,\n",
       "       [0.92570476, 0.07429524],\n",
       "       [0.93331477, 0.06668523],\n",
       "       [0.90033049, 0.09966951]])"
      ]
     },
     "metadata": {},
     "output_type": "display_data"
    }
   ],
   "source": [
    "display(y_pred_proba)"
   ]
  },
  {
   "cell_type": "code",
   "execution_count": 73,
   "metadata": {},
   "outputs": [
    {
     "data": {
      "text/plain": [
       "array([0, 0, 0, ..., 0, 0, 0])"
      ]
     },
     "metadata": {},
     "output_type": "display_data"
    }
   ],
   "source": [
    "display(Y_pred_rf)"
   ]
  },
  {
   "cell_type": "code",
   "execution_count": 25,
   "metadata": {},
   "outputs": [],
   "source": [
    "a=df_onehot_nonan_test['SK_ID_CURR'].values"
   ]
  },
  {
   "cell_type": "code",
   "execution_count": 26,
   "metadata": {},
   "outputs": [
    {
     "data": {
      "text/plain": [
       "(48744,)"
      ]
     },
     "execution_count": 26,
     "metadata": {},
     "output_type": "execute_result"
    }
   ],
   "source": [
    "a.shape"
   ]
  },
  {
   "cell_type": "code",
   "execution_count": 27,
   "metadata": {},
   "outputs": [
    {
     "data": {
      "text/plain": [
       "dtype('int64')"
      ]
     },
     "execution_count": 27,
     "metadata": {},
     "output_type": "execute_result"
    }
   ],
   "source": [
    "#提出時にint32でって怒られる\n",
    "a.dtype"
   ]
  },
  {
   "cell_type": "code",
   "execution_count": 28,
   "metadata": {},
   "outputs": [],
   "source": [
    "aa = np.array(a, dtype = 'int32')"
   ]
  },
  {
   "cell_type": "code",
   "execution_count": 29,
   "metadata": {},
   "outputs": [
    {
     "name": "stdout",
     "output_type": "stream",
     "text": [
      "[100001 100005 100013 ... 456223 456224 456250]\n"
     ]
    }
   ],
   "source": [
    "print(aa)"
   ]
  },
  {
   "cell_type": "code",
   "execution_count": 30,
   "metadata": {},
   "outputs": [
    {
     "data": {
      "text/plain": [
       "dtype('int32')"
      ]
     },
     "execution_count": 30,
     "metadata": {},
     "output_type": "execute_result"
    }
   ],
   "source": [
    "#int32に変換したけど、csv出力すると「.0」がID後に入り込んでいることがそもそも問題？\n",
    "#結局「ID」に「.0」が入っていたことが原因のエラーだった。\n",
    "aa.dtype"
   ]
  },
  {
   "cell_type": "code",
   "execution_count": 88,
   "metadata": {},
   "outputs": [
    {
     "name": "stdout",
     "output_type": "stream",
     "text": [
      "[100001 100005 100013 ... 456223 456224 456250]\n"
     ]
    }
   ],
   "source": [
    "print(a)"
   ]
  },
  {
   "cell_type": "code",
   "execution_count": 32,
   "metadata": {},
   "outputs": [],
   "source": [
    "b=y_pred_proba[:,1]"
   ]
  },
  {
   "cell_type": "code",
   "execution_count": 33,
   "metadata": {},
   "outputs": [
    {
     "data": {
      "text/plain": [
       "(48744,)"
      ]
     },
     "execution_count": 33,
     "metadata": {},
     "output_type": "execute_result"
    }
   ],
   "source": [
    "b.shape"
   ]
  },
  {
   "cell_type": "code",
   "execution_count": 34,
   "metadata": {},
   "outputs": [],
   "source": [
    "c = np.stack([aa, b],1)"
   ]
  },
  {
   "cell_type": "code",
   "execution_count": 35,
   "metadata": {},
   "outputs": [
    {
     "data": {
      "text/plain": [
       "(2, 48744)"
      ]
     },
     "execution_count": 35,
     "metadata": {},
     "output_type": "execute_result"
    }
   ],
   "source": [
    "c.T.shape"
   ]
  },
  {
   "cell_type": "code",
   "execution_count": 37,
   "metadata": {},
   "outputs": [
    {
     "data": {
      "text/plain": [
       "dtype('float64')"
      ]
     },
     "execution_count": 37,
     "metadata": {},
     "output_type": "execute_result"
    }
   ],
   "source": [
    "c.dtype"
   ]
  },
  {
   "cell_type": "code",
   "execution_count": 100,
   "metadata": {},
   "outputs": [
    {
     "name": "stdout",
     "output_type": "stream",
     "text": [
      "[[1.00001000e+05 7.41177717e-02]\n",
      " [1.00005000e+05 8.69539863e-02]\n",
      " [1.00013000e+05 5.53430441e-02]\n",
      " ...\n",
      " [4.56223000e+05 7.42952366e-02]\n",
      " [4.56224000e+05 6.66852280e-02]\n",
      " [4.56250000e+05 9.96695088e-02]]\n"
     ]
    }
   ],
   "source": [
    "print(c)"
   ]
  },
  {
   "cell_type": "code",
   "execution_count": 36,
   "metadata": {},
   "outputs": [],
   "source": [
    "#CSVで出力する\n",
    "import csv\n",
    "header = [ 'SK_ID_CURR', 'TARGET']\n",
    "\n",
    "with open('/Users/toyodasatomi/Desktop/DIC/data/file.csv', 'w') as f:\n",
    "    writer = csv.writer(f)\n",
    "    writer.writerow(header)\n",
    "    writer.writerows(c)  "
   ]
  },
  {
   "cell_type": "markdown",
   "metadata": {},
   "source": [
    "＜Kaggle提出結果＞  \n",
    "Private Score　0.68623  \n",
    "Public Score　0.70017"
   ]
  }
 ],
 "metadata": {
  "kernelspec": {
   "display_name": "Python 3",
   "language": "python",
   "name": "python3"
  },
  "language_info": {
   "codemirror_mode": {
    "name": "ipython",
    "version": 3
   },
   "file_extension": ".py",
   "mimetype": "text/x-python",
   "name": "python",
   "nbconvert_exporter": "python",
   "pygments_lexer": "ipython3",
   "version": "3.7.3"
  }
 },
 "nbformat": 4,
 "nbformat_minor": 2
}
