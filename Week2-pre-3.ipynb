{
 "cells": [
  {
   "cell_type": "markdown",
   "metadata": {},
   "source": [
    "## Week2授業前課題3 行列積のスクラッチ"
   ]
  },
  {
   "cell_type": "markdown",
   "metadata": {},
   "source": [
    "## 【問題1】行列積を手計算する"
   ]
  },
  {
   "cell_type": "markdown",
   "metadata": {},
   "source": [
    "<計算方法>  \n",
    "①Aの配列の1行目＆1列目(0.0)とBの配列の1列目＆1列目(0.0)を掛け合わせる\n",
    "②Aの配列は「行方向」、Bは「列方向」に1づつ進み掛け合わせる  \n",
    "   A(0,1)×B(1,0)  \n",
    "③それぞれの方向に行と列が終わるまで繰り返し、終わったら合算する  \n",
    "④③が終わったら次の行にうつり行が繰り返す。  \n",
    "\n",
    "\n",
    "<問題の計算過程>  \n",
    "(-1×0)+(2×0)+(3×2) (-1×-1)+(2×2)+(3×9) (-1×-1)+(2×-8)+(3×-1)  \n",
    "(4×0)+(-5×0)+(6×2) (4×2)+(-5×2)+(6×9) (4×1)+(-5×-8)+(6×-1)  \n",
    "(7×0)+(8×0)+(2×-9) (7×2)+(8×2)+(-9×9) (7×1)+(8×-8)+(-9×-1)  \n",
    "  \n",
    "\n",
    "<回答>  \n",
    "  6 29 -20  \n",
    "  12 52 38    \n",
    "  -18 -51 -48  \n"
   ]
  },
  {
   "cell_type": "markdown",
   "metadata": {},
   "source": [
    "## 【問題2】NumPyの関数による計算"
   ]
  },
  {
   "cell_type": "code",
   "execution_count": 2,
   "metadata": {},
   "outputs": [],
   "source": [
    "import numpy as np\n",
    "a_ndarray = np.array([[-1, 2, 3], [4, -5, 6], [7, 8, -9]])\n",
    "b_ndarray = np.array([[0, 2, 1], [0, 2, -8], [2, 9, -1]])"
   ]
  },
  {
   "cell_type": "code",
   "execution_count": 5,
   "metadata": {},
   "outputs": [
    {
     "name": "stdout",
     "output_type": "stream",
     "text": [
      "[[  6  29 -20]\n",
      " [ 12  52  38]\n",
      " [-18 -51 -48]]\n"
     ]
    }
   ],
   "source": [
    "print(np.dot(a_ndarray,b_ndarray))"
   ]
  },
  {
   "cell_type": "code",
   "execution_count": 7,
   "metadata": {},
   "outputs": [
    {
     "name": "stdout",
     "output_type": "stream",
     "text": [
      "[[  6  29 -20]\n",
      " [ 12  52  38]\n",
      " [-18 -51 -48]]\n"
     ]
    }
   ],
   "source": [
    "print(np.matmul(a_ndarray,b_ndarray))"
   ]
  },
  {
   "cell_type": "code",
   "execution_count": 8,
   "metadata": {},
   "outputs": [
    {
     "name": "stdout",
     "output_type": "stream",
     "text": [
      "[[  6  29 -20]\n",
      " [ 12  52  38]\n",
      " [-18 -51 -48]]\n"
     ]
    }
   ],
   "source": [
    "print(a_ndarray@b_ndarray)"
   ]
  },
  {
   "cell_type": "markdown",
   "metadata": {},
   "source": [
    "## 【問題3】ある要素の計算を実装"
   ]
  },
  {
   "cell_type": "code",
   "execution_count": 116,
   "metadata": {},
   "outputs": [
    {
     "name": "stdout",
     "output_type": "stream",
     "text": [
      "[[-1  2  3]\n",
      " [ 4 -5  6]\n",
      " [ 7  8 -9]]\n"
     ]
    }
   ],
   "source": [
    "print(a_ndarray)"
   ]
  },
  {
   "cell_type": "code",
   "execution_count": 117,
   "metadata": {},
   "outputs": [
    {
     "name": "stdout",
     "output_type": "stream",
     "text": [
      "[[ 0  2  1]\n",
      " [ 0  2 -8]\n",
      " [ 2  9 -1]]\n"
     ]
    }
   ],
   "source": [
    "print(b_ndarray)"
   ]
  },
  {
   "cell_type": "code",
   "execution_count": 101,
   "metadata": {},
   "outputs": [
    {
     "name": "stdout",
     "output_type": "stream",
     "text": [
      "-1\n"
     ]
    }
   ],
   "source": [
    "print(a_ndarray[0,0])"
   ]
  },
  {
   "cell_type": "markdown",
   "metadata": {},
   "source": [
    "**回答**"
   ]
  },
  {
   "cell_type": "code",
   "execution_count": 114,
   "metadata": {},
   "outputs": [
    {
     "name": "stdout",
     "output_type": "stream",
     "text": [
      "6\n",
      "[6]\n",
      "[6]\n"
     ]
    }
   ],
   "source": [
    "k = 0\n",
    "s = 3\n",
    "c = 0\n",
    "c_list=[]\n",
    "\n",
    "    \n",
    "for _ in range(s):\n",
    "    c += a_ndarray[0,k]*b_ndarray[k,0]\n",
    "    k +=1\n",
    "c_list.append(c)\n",
    "ab_ndarray = np.array(c_list)\n",
    "print(c)\n",
    "print(c_list)\n",
    "print(ab_ndarray)"
   ]
  },
  {
   "cell_type": "markdown",
   "metadata": {},
   "source": [
    "## 【問題4】行列積を行う関数の作成"
   ]
  },
  {
   "cell_type": "code",
   "execution_count": 25,
   "metadata": {},
   "outputs": [],
   "source": [
    "def compute_gyo_seki (x,y):\n",
    "    k = 0\n",
    "    s = 3\n",
    "    c = 0\n",
    "    j =0\n",
    "    i = 0\n",
    "    \n",
    "    c_list=np.zeros((x.shape[0], y.shape[1]))\n",
    "    \n",
    "    for i in range (x.shape[0]):\n",
    "        for j in range (y.shape[1]):\n",
    "            for k in range (x.shape[0]):\n",
    "                c_list[i,j] += x[i, k]*y[k, j]\n",
    "                \n",
    "    return(c_list)"
   ]
  },
  {
   "cell_type": "code",
   "execution_count": 26,
   "metadata": {},
   "outputs": [
    {
     "data": {
      "text/plain": [
       "array([[  6.,  29., -20.],\n",
       "       [ 12.,  52.,  38.],\n",
       "       [-18., -51., -48.]])"
      ]
     },
     "execution_count": 26,
     "metadata": {},
     "output_type": "execute_result"
    }
   ],
   "source": [
    "x = np.array([[-1, 2, 3], [4, -5, 6], [7, 8, -9]])\n",
    "y= np.array([[0, 2, 1], [0, 2, -8], [2, 9, -1]])\n",
    "compute_gyo_seki (x,y)"
   ]
  },
  {
   "cell_type": "code",
   "execution_count": 47,
   "metadata": {},
   "outputs": [
    {
     "name": "stdout",
     "output_type": "stream",
     "text": [
      "[[7, 10], [15, 22]]\n"
     ]
    }
   ],
   "source": [
    "#参考\n",
    "list_arr1 = [[1, 2], [3, 4]]\n",
    "list_arr2 = [[1, 2], [3, 4]]\n",
    " \n",
    "result = []\n",
    "for k, v in list_arr1:\n",
    "    tmp = []\n",
    "    for kk, vv in zip(*list_arr2):\n",
    "        tmp.append(k * kk + v * vv)\n",
    "    result.append(tmp)\n",
    "print(result)"
   ]
  },
  {
   "cell_type": "markdown",
   "metadata": {},
   "source": [
    "## 【問題5】計算が定義されない入力を判定する"
   ]
  },
  {
   "cell_type": "code",
   "execution_count": 30,
   "metadata": {},
   "outputs": [],
   "source": [
    "def compute_gyo_seki_err (x,y):\n",
    "    k = 0\n",
    "    s = 3\n",
    "    c = 0\n",
    "    j =0\n",
    "    i = 0\n",
    "    \n",
    "    c_list=np.zeros((x.shape[0], y.shape[1]))\n",
    "    \n",
    "    if x.shape[1] == y.shape[0]:\n",
    "        for i in range (x.shape[0]):\n",
    "            for j in range (y.shape[1]):\n",
    "                for k in range (x.shape[0]):\n",
    "                    c_list[i,j] += x[i, k]*y[k, j]\n",
    "        return(c_list)\n",
    "    else:\n",
    "        print(\"配列の数が合いません\")\n",
    "        return None"
   ]
  },
  {
   "cell_type": "code",
   "execution_count": 31,
   "metadata": {},
   "outputs": [
    {
     "name": "stdout",
     "output_type": "stream",
     "text": [
      "配列の数が合いません\n"
     ]
    }
   ],
   "source": [
    "x_2 = np.array([[-1, 2, 3], [4, -5, 6], [7, 8, -9]])\n",
    "y_2= np.array([[0, 2, 1], [0, 2, -8]])\n",
    "compute_gyo_seki_err(x_2,y_2)"
   ]
  },
  {
   "cell_type": "markdown",
   "metadata": {},
   "source": [
    "## 【問題6】転置"
   ]
  },
  {
   "cell_type": "code",
   "execution_count": 32,
   "metadata": {},
   "outputs": [
    {
     "name": "stdout",
     "output_type": "stream",
     "text": [
      "[[-1  2  3]\n",
      " [ 4 -5  6]]\n",
      "[[-9  8  7]\n",
      " [ 6 -5  4]]\n"
     ]
    }
   ],
   "source": [
    "d_ndarray = np.array([[-1, 2, 3], [4, -5, 6]])\n",
    "e_ndarray = np.array([[-9, 8, 7], [6, -5, 4]])\n",
    "print(d_ndarray)\n",
    "print(e_ndarray)"
   ]
  },
  {
   "cell_type": "code",
   "execution_count": 36,
   "metadata": {},
   "outputs": [
    {
     "ename": "ValueError",
     "evalue": "matmul: Input operand 1 has a mismatch in its core dimension 0, with gufunc signature (n?,k),(k,m?)->(n?,m?) (size 2 is different from 3)",
     "output_type": "error",
     "traceback": [
      "\u001b[0;31m---------------------------------------------------------------------------\u001b[0m",
      "\u001b[0;31mValueError\u001b[0m                                Traceback (most recent call last)",
      "\u001b[0;32m<ipython-input-36-ac917b08911f>\u001b[0m in \u001b[0;36m<module>\u001b[0;34m\u001b[0m\n\u001b[0;32m----> 1\u001b[0;31m \u001b[0mprint\u001b[0m\u001b[0;34m(\u001b[0m\u001b[0md_ndarray\u001b[0m\u001b[0;34m@\u001b[0m\u001b[0me_ndarray\u001b[0m\u001b[0;34m)\u001b[0m\u001b[0;34m\u001b[0m\u001b[0;34m\u001b[0m\u001b[0m\n\u001b[0m",
      "\u001b[0;31mValueError\u001b[0m: matmul: Input operand 1 has a mismatch in its core dimension 0, with gufunc signature (n?,k),(k,m?)->(n?,m?) (size 2 is different from 3)"
     ]
    }
   ],
   "source": [
    "# エラーになる\n",
    "print(d_ndarray@e_ndarray)"
   ]
  },
  {
   "cell_type": "code",
   "execution_count": 10,
   "metadata": {},
   "outputs": [
    {
     "data": {
      "text/plain": [
       "array([[-9,  6],\n",
       "       [ 8, -5],\n",
       "       [ 7,  4]])"
      ]
     },
     "execution_count": 10,
     "metadata": {},
     "output_type": "execute_result"
    }
   ],
   "source": [
    "e_ndarray.transpose()"
   ]
  },
  {
   "cell_type": "code",
   "execution_count": 11,
   "metadata": {
    "scrolled": true
   },
   "outputs": [
    {
     "data": {
      "text/plain": [
       "array([[-9,  6],\n",
       "       [ 8, -5],\n",
       "       [ 7,  4]])"
      ]
     },
     "execution_count": 11,
     "metadata": {},
     "output_type": "execute_result"
    }
   ],
   "source": [
    "e_ndarray.T"
   ]
  },
  {
   "cell_type": "code",
   "execution_count": 37,
   "metadata": {},
   "outputs": [
    {
     "name": "stdout",
     "output_type": "stream",
     "text": [
      "[[-9  8  7]\n",
      " [ 6 -5  4]]\n"
     ]
    }
   ],
   "source": [
    "# ひっくり返して\n",
    "e_ndarray_t = e_ndarray.T\n",
    "print(e_ndarray)"
   ]
  },
  {
   "cell_type": "code",
   "execution_count": 39,
   "metadata": {},
   "outputs": [
    {
     "name": "stdout",
     "output_type": "stream",
     "text": [
      "[[ 46  -4]\n",
      " [-34  73]]\n"
     ]
    }
   ],
   "source": [
    "#計算\n",
    "print(np.dot(d_ndarray,e_ndarray_t))"
   ]
  }
 ],
 "metadata": {
  "kernelspec": {
   "display_name": "Python 3",
   "language": "python",
   "name": "python3"
  },
  "language_info": {
   "codemirror_mode": {
    "name": "ipython",
    "version": 3
   },
   "file_extension": ".py",
   "mimetype": "text/x-python",
   "name": "python",
   "nbconvert_exporter": "python",
   "pygments_lexer": "ipython3",
   "version": "3.7.3"
  }
 },
 "nbformat": 4,
 "nbformat_minor": 2
}
