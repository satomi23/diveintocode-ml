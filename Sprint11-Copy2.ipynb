{
 "cells": [
  {
   "cell_type": "markdown",
   "metadata": {},
   "source": [
    "# Sprint 深層学習スクラッチ　畳み込みニューラルネットワーク1"
   ]
  },
  {
   "cell_type": "markdown",
   "metadata": {},
   "source": [
    "### インポート"
   ]
  },
  {
   "cell_type": "code",
   "execution_count": 4,
   "metadata": {},
   "outputs": [],
   "source": [
    "import numpy as np"
   ]
  },
  {
   "cell_type": "markdown",
   "metadata": {},
   "source": [
    "### データ"
   ]
  },
  {
   "cell_type": "code",
   "execution_count": null,
   "metadata": {},
   "outputs": [],
   "source": [
    "aaa"
   ]
  },
  {
   "cell_type": "code",
   "execution_count": 5,
   "metadata": {},
   "outputs": [],
   "source": [
    "#小さな配列\n",
    "x = np.array([1,2,3,4])\n",
    "w = np.array([3, 5, 7])\n",
    "b = np.array([1])\n",
    "#誤差　Loss\n",
    "delta_a = np.array([10, 20])"
   ]
  },
  {
   "cell_type": "code",
   "execution_count": null,
   "metadata": {},
   "outputs": [],
   "source": []
  },
  {
   "cell_type": "markdown",
   "metadata": {},
   "source": [
    "## 【問題1】チャンネル数を1に限定した1次元畳み込み層クラスの作成"
   ]
  },
  {
   "cell_type": "code",
   "execution_count": 98,
   "metadata": {
    "code_folding": [
     0,
     10
    ]
   },
   "outputs": [],
   "source": [
    "#まとめるクラス\n",
    "class Scratch1dCNNClassifier():\n",
    "\n",
    "    #def __init__(self,):\n",
    "        #self.W = w\n",
    "        #self.B = b\n",
    "        #self.lr = lr\n",
    "        #self.B = b\n",
    "        #self.W = w\n",
    "        \n",
    "    def fit(self,):\n",
    "        #インスタンス化\n",
    "        #optimizer = SGD(self.lr)\n",
    "        self.FC1 = FC(w,b,N_in=4,Pading=0,Fil=3,Slide=1)\n",
    "        \n",
    "        #フォワードとバックフォワード\n",
    "        A = self.FC1.forward(x)\n",
    "        delta_b_1d,delta_w_1d,delta_x_list = self.FC1.backward(delta_a)\n",
    "        \n",
    "        #Z = self.FC3.backward(A)\n",
    "        \n",
    "        return A,delta_b_1d,delta_w_1d,delta_x_list"
   ]
  },
  {
   "cell_type": "code",
   "execution_count": 97,
   "metadata": {
    "code_folding": []
   },
   "outputs": [],
   "source": [
    "#フォワード\n",
    "class FC:\n",
    "    \"\"\"\n",
    "    ノード数n_nodes1からn_nodes2への全結合層\n",
    "    Parameters\n",
    "    ----------\n",
    "    n_nodes1 : int\n",
    "      前の層のノード数\n",
    "    n_nodes2 : int\n",
    "      後の層のノード数\n",
    "    initializer : 初期化方法のインスタンス\n",
    "    optimizer : 最適化手法のインスタンス\n",
    "    \"\"\"\n",
    "    def __init__(self,w,b,N_in,Pading,Fil,Slide):\n",
    "        #self.optimizer = optimizer\n",
    "        # 指定の重みとバイアスを代入\n",
    "        # initializerのメソッドを使い、self.Wとself.Bを初期化する\n",
    "        self.W=w\n",
    "        self.B =b\n",
    "        self.N_in = N_in\n",
    "        self.Pading = Pading\n",
    "        self.Fil = Fil\n",
    "        self.Slide = Slide\n",
    "    \n",
    "    def output_size(self,N_in,Pading,Fil,Slide):\n",
    "        N_ount = (N_in+2*Pading-Fil/Slide)+1\n",
    "        return N_ount\n",
    "\n",
    "\n",
    "    def forward(self, X):\n",
    "        \"\"\"\n",
    "        フォワード\n",
    "        Parameters\n",
    "        ----------\n",
    "        X : 次の形のndarray, shape (batch_size, n_nodes1)\n",
    "            入力\n",
    "        Returns\n",
    "        ----------\n",
    "        A : 次の形のndarray, shape (batch_size, n_nodes2)\n",
    "            出力\n",
    "        \"\"\"        \n",
    "        self.X = X\n",
    "        \n",
    "        #アウトプットサイズ\n",
    "        self.N_out = self.output_size(self.N_in,self.Pading,self.Fil,self.Slide)\n",
    "        self.N_out_int = np.array(self.N_out).astype(np.int)\n",
    "\n",
    "\n",
    "        \n",
    "        a_1d=np.arange(self.N_out_int )\n",
    "        \n",
    "        for k in range(self.N_out_int):\n",
    "            a = 0\n",
    "            ab = 0\n",
    "            for i in range(len(self.W)):\n",
    "                a += self.X[k+i] * self.W[i] \n",
    "            ab = a+self.B\n",
    "            np.put(a_1d,k,ab)      \n",
    "        return a_1d\n",
    "      \n",
    "    def backward(self, delta_a):\n",
    "        \"\"\"\n",
    "        バックワード\n",
    "        Parameters\n",
    "        ----------\n",
    "        dA : 次の形のndarray, shape (batch_size, n_nodes2)\n",
    "            後ろから流れてきた勾配\n",
    "        Returns\n",
    "        ----------\n",
    "        dZ : 次の形のndarray, shape (batch_size, n_nodes1)\n",
    "            前に流す勾配\n",
    "        \"\"\"\n",
    " \n",
    "        #バイアスの更新\n",
    "        delta_b_1d = delta_a[0]+delta_a[1]\n",
    "        \n",
    "        #重み（フィルタ）の結果格納のリスト\n",
    "        delta_w_1d =np.arange(len(self.W))\n",
    "        \n",
    "        for k in range(len(self.W)):\n",
    "            w_new = 0\n",
    "            for i in range(self.N_out_int):\n",
    "                w_new += delta_a[i] * self.X[i+k]\n",
    "            np.put(delta_w_1d,k,w_new)\n",
    "            \n",
    "        #Xの更新\n",
    "        #Xのアウトプットのリスト\n",
    "        delta_x_list =  np.arange(len(self.X))\n",
    "        \n",
    "        for j in range(len(self.X)):\n",
    "            delta_x = 0\n",
    "            for s in range(len(self.W)):\n",
    "                js=j-s\n",
    "                if js < 0:\n",
    "                    delta_x += 0*self.W[s]\n",
    "                else:\n",
    "                    if  js > self.N_out_int-1:\n",
    "                        delta_x += 0*self.W[s]\n",
    "                    else:\n",
    "                        delta_x += delta_a[js]*self.W[s]\n",
    "            np.put(delta_x_list,j,delta_x)\n",
    "        \n",
    "        # 更新\n",
    "        #self = self.optimizer.update(self)\n",
    "        \n",
    "        return delta_b_1d,delta_w_1d,delta_x_list"
   ]
  },
  {
   "cell_type": "code",
   "execution_count": 62,
   "metadata": {
    "code_folding": [
     0
    ]
   },
   "outputs": [],
   "source": [
    "# 更新式　いらない？\n",
    "class SGD:\n",
    "    \"\"\"\n",
    "    確率的勾配降下法\n",
    "    Parameters\n",
    "    ----------\n",
    "    lr : 学習率\n",
    "    \"\"\"\n",
    "    def __init__(self, lr):\n",
    "        self.lr = lr\n",
    "    def update(self, layer):\n",
    "        \"\"\"\n",
    "        ある層の重みやバイアスの更新\n",
    "        Parameters\n",
    "        ----------\n",
    "        layer : 更新前の層のインスタンス\n",
    "        \"\"\"\n",
    "        layer.W -= self.lr*layer.W_new\n",
    "        layer.B -=  self.lr*layer.B_new"
   ]
  },
  {
   "cell_type": "code",
   "execution_count": 78,
   "metadata": {
    "code_folding": [
     0
    ]
   },
   "outputs": [],
   "source": [
    "class SimpleInitializer:\n",
    "    \"\"\"\n",
    "    変数代入によるシンプルな初期化\n",
    "    Parameters\n",
    "    ----------\n",
    "    sigma : float\n",
    "      ガウス分布の標準偏差\n",
    "    \"\"\"\n",
    "    #def __init__(self):\n",
    "        #self.sigma = sigma\n",
    "    \n",
    "    def W(self, w):\n",
    "        \"\"\"\n",
    "        重みの初期化\n",
    "        Parameters\n",
    "        ----------\n",
    "        n_nodes1 : int\n",
    "          前の層のノード数\n",
    "        n_nodes2 : int\n",
    "          後の層のノード数\n",
    "\n",
    "        Returns\n",
    "        ----------\n",
    "        W :\n",
    "        \"\"\"\n",
    "        W= w\n",
    "        return W\n",
    "    \n",
    "    def B(self, b):\n",
    "        \"\"\"\n",
    "        バイアスの初期化\n",
    "        Parameters\n",
    "        ----------\n",
    "        n_nodes2 : int\n",
    "          後の層のノード数\n",
    "\n",
    "        Returns\n",
    "        ----------\n",
    "        B :\n",
    "        \"\"\"\n",
    "        B = b\n",
    "        return B"
   ]
  },
  {
   "cell_type": "markdown",
   "metadata": {},
   "source": [
    "## 【問題2】1次元畳み込み後の出力サイズの計算"
   ]
  },
  {
   "cell_type": "code",
   "execution_count": 124,
   "metadata": {},
   "outputs": [],
   "source": [
    "def output_size_2(N,P,F,S):\n",
    "    N_out = (N+2*P-F/S)+1\n",
    "    return N_out"
   ]
  },
  {
   "cell_type": "code",
   "execution_count": 125,
   "metadata": {},
   "outputs": [],
   "source": [
    "N_out = output_size_2(4,0,3,1)"
   ]
  },
  {
   "cell_type": "code",
   "execution_count": 11,
   "metadata": {},
   "outputs": [
    {
     "name": "stdout",
     "output_type": "stream",
     "text": [
      "2.0\n"
     ]
    }
   ],
   "source": [
    "print(N_out)"
   ]
  },
  {
   "cell_type": "code",
   "execution_count": 147,
   "metadata": {},
   "outputs": [
    {
     "data": {
      "text/plain": [
       "2.0"
      ]
     },
     "execution_count": 147,
     "metadata": {},
     "output_type": "execute_result"
    }
   ],
   "source": [
    "4+2*0-3/1+1"
   ]
  },
  {
   "cell_type": "markdown",
   "metadata": {},
   "source": [
    "## 【問題3】小さな配列での1次元畳み込み層の実験"
   ]
  },
  {
   "cell_type": "code",
   "execution_count": 120,
   "metadata": {},
   "outputs": [],
   "source": [
    "#小さな配列\n",
    "x = np.array([1,2,3,4])\n",
    "w = np.array([3, 5, 7])\n",
    "b = np.array([1])\n",
    "#誤差　Loss\n",
    "delta_a = np.array([10, 20])"
   ]
  },
  {
   "cell_type": "code",
   "execution_count": 126,
   "metadata": {},
   "outputs": [],
   "source": [
    "list_A=np.arange(N_out)"
   ]
  },
  {
   "cell_type": "code",
   "execution_count": 121,
   "metadata": {},
   "outputs": [
    {
     "data": {
      "text/plain": [
       "2"
      ]
     },
     "execution_count": 121,
     "metadata": {},
     "output_type": "execute_result"
    }
   ],
   "source": [
    "len(w)-1"
   ]
  },
  {
   "cell_type": "code",
   "execution_count": 127,
   "metadata": {},
   "outputs": [],
   "source": [
    "#手計算でフォワード\n",
    "a = 0\n",
    "for k in range(N_out_int):\n",
    "    a = 0\n",
    "    ab = 0\n",
    "    for i in range(len(w)):\n",
    "        a += x[k+i] * w[i] \n",
    "    ab = a+b\n",
    "    np.put(list_A,k,ab)"
   ]
  },
  {
   "cell_type": "code",
   "execution_count": 45,
   "metadata": {},
   "outputs": [
    {
     "name": "stdout",
     "output_type": "stream",
     "text": [
      "[35. 50.]\n"
     ]
    }
   ],
   "source": [
    "print(list_A)"
   ]
  },
  {
   "cell_type": "code",
   "execution_count": 39,
   "metadata": {},
   "outputs": [
    {
     "name": "stdout",
     "output_type": "stream",
     "text": [
      "[1 2 3 4]\n"
     ]
    }
   ],
   "source": [
    "print(x)"
   ]
  },
  {
   "cell_type": "code",
   "execution_count": 28,
   "metadata": {},
   "outputs": [
    {
     "name": "stdout",
     "output_type": "stream",
     "text": [
      "2\n"
     ]
    }
   ],
   "source": [
    "print(len(w)-1)"
   ]
  },
  {
   "cell_type": "code",
   "execution_count": 15,
   "metadata": {},
   "outputs": [],
   "source": [
    "sli = 1\n",
    "list_w =np.arange(len(w))"
   ]
  },
  {
   "cell_type": "code",
   "execution_count": 30,
   "metadata": {},
   "outputs": [],
   "source": [
    "#print(np.round(test_out))\n",
    "#print(N_out*1)\n",
    "N_out_int = np.array(N_out).astype(np.int)"
   ]
  },
  {
   "cell_type": "code",
   "execution_count": 28,
   "metadata": {},
   "outputs": [
    {
     "name": "stdout",
     "output_type": "stream",
     "text": [
      "3\n"
     ]
    }
   ],
   "source": [
    "print(len(w))"
   ]
  },
  {
   "cell_type": "code",
   "execution_count": 31,
   "metadata": {},
   "outputs": [
    {
     "name": "stdout",
     "output_type": "stream",
     "text": [
      "2\n"
     ]
    }
   ],
   "source": [
    "print(N_out_int)"
   ]
  },
  {
   "cell_type": "code",
   "execution_count": 32,
   "metadata": {},
   "outputs": [],
   "source": [
    "#手計算でバックフォワード [W]\n",
    "B = delta_a[0]+delta_a[1]\n",
    "#print(B)\n",
    "\n",
    "for k in range(len(w)):\n",
    "    w_new = 0\n",
    "    for i in range(N_out_int):\n",
    "        w_new += delta_a[i] * x[i+k]\n",
    "    np.put(list_w,k,w_new)\n",
    "\n",
    "#list_A[]"
   ]
  },
  {
   "cell_type": "code",
   "execution_count": 33,
   "metadata": {},
   "outputs": [
    {
     "name": "stdout",
     "output_type": "stream",
     "text": [
      "[ 50  80 110]\n"
     ]
    }
   ],
   "source": [
    "print(list_w)"
   ]
  },
  {
   "cell_type": "code",
   "execution_count": 69,
   "metadata": {},
   "outputs": [
    {
     "name": "stdout",
     "output_type": "stream",
     "text": [
      "js 0\n",
      "3 30\n",
      "js -1\n",
      "1 30\n",
      "js -2\n",
      "1 30\n",
      "4 30\n",
      "js 1\n",
      "3 60\n",
      "js 0\n",
      "3 110\n",
      "js -1\n",
      "1 110\n",
      "4 110\n",
      "js 2\n",
      "2 0\n",
      "js 1\n",
      "3 100\n",
      "js 0\n",
      "3 170\n",
      "4 170\n",
      "js 3\n",
      "2 0\n",
      "js 2\n",
      "2 0\n",
      "js 1\n",
      "3 140\n",
      "4 140\n"
     ]
    }
   ],
   "source": [
    "#手計算でバックフォワード [X]\n",
    "#X = delta_a[0]+delta_a[1]\n",
    "#print(B)\n",
    "\n",
    "list_x =  np.arange(len(x))\n",
    "\n",
    "for j in range(len(x)):\n",
    "    delta_x = 0\n",
    "    for s in range(len(w)):\n",
    "        js=j-s\n",
    "        print('js',js)\n",
    "        if js < 0:\n",
    "            delta_x += 0*w[s]\n",
    "            print('1',delta_x)\n",
    "        else:\n",
    "            if  js > N_out_int-1:\n",
    "                delta_x += 0*w[s]\n",
    "                print('2',delta_x)\n",
    "            else:\n",
    "                delta_x += delta_a[js]*w[s]\n",
    "                print('3',delta_x)\n",
    "    print('4',delta_x)\n",
    "    np.put(list_x,j,delta_x)\n",
    "\n",
    "#list_A[]"
   ]
  },
  {
   "cell_type": "code",
   "execution_count": 43,
   "metadata": {},
   "outputs": [
    {
     "name": "stdout",
     "output_type": "stream",
     "text": [
      "4\n"
     ]
    }
   ],
   "source": [
    "print(len(x))"
   ]
  },
  {
   "cell_type": "code",
   "execution_count": 45,
   "metadata": {},
   "outputs": [
    {
     "name": "stdout",
     "output_type": "stream",
     "text": [
      "3\n"
     ]
    }
   ],
   "source": [
    "print(len(w))"
   ]
  },
  {
   "cell_type": "code",
   "execution_count": 46,
   "metadata": {},
   "outputs": [
    {
     "name": "stdout",
     "output_type": "stream",
     "text": [
      "2\n"
     ]
    }
   ],
   "source": [
    "print(N_out_int)"
   ]
  },
  {
   "cell_type": "code",
   "execution_count": 70,
   "metadata": {},
   "outputs": [
    {
     "name": "stdout",
     "output_type": "stream",
     "text": [
      "[ 30 110 170 140]\n"
     ]
    }
   ],
   "source": [
    "print(list_x)"
   ]
  },
  {
   "cell_type": "markdown",
   "metadata": {},
   "source": [
    "### クラス化したもので実行してみる。"
   ]
  },
  {
   "cell_type": "code",
   "execution_count": 99,
   "metadata": {},
   "outputs": [],
   "source": [
    "S1C = Scratch1dCNNClassifier()"
   ]
  },
  {
   "cell_type": "code",
   "execution_count": 100,
   "metadata": {},
   "outputs": [],
   "source": [
    "A_t,delta_b_1d_t,delta_w_1d_t,delta_x_list_t = S1C.fit()"
   ]
  },
  {
   "cell_type": "code",
   "execution_count": 101,
   "metadata": {},
   "outputs": [
    {
     "name": "stdout",
     "output_type": "stream",
     "text": [
      "[35 50]\n"
     ]
    }
   ],
   "source": [
    "print(A_t)"
   ]
  },
  {
   "cell_type": "code",
   "execution_count": 102,
   "metadata": {},
   "outputs": [
    {
     "name": "stdout",
     "output_type": "stream",
     "text": [
      "30\n"
     ]
    }
   ],
   "source": [
    "print(delta_b_1d_t)"
   ]
  },
  {
   "cell_type": "code",
   "execution_count": 103,
   "metadata": {},
   "outputs": [
    {
     "name": "stdout",
     "output_type": "stream",
     "text": [
      "[ 50  80 110]\n"
     ]
    }
   ],
   "source": [
    "print(delta_w_1d_t)"
   ]
  },
  {
   "cell_type": "code",
   "execution_count": 105,
   "metadata": {},
   "outputs": [
    {
     "name": "stdout",
     "output_type": "stream",
     "text": [
      "[ 30 110 170 140]\n"
     ]
    }
   ],
   "source": [
    "print(delta_x_list_t)"
   ]
  },
  {
   "cell_type": "code",
   "execution_count": 106,
   "metadata": {},
   "outputs": [],
   "source": [
    "#イマイチなクラスの作りになったがとりあえずは想定するものは算出できた"
   ]
  },
  {
   "cell_type": "code",
   "execution_count": 21,
   "metadata": {},
   "outputs": [],
   "source": [
    "#工夫\n",
    "x_k = np.array([1, 2, 3, 4])\n",
    "w_k = np.array([3, 5, 7])\n",
    "\n",
    "a = np.empty((2, 3))\n",
    "\n",
    "indexes0 = np.array([0, 1, 2]).astype(np.int)\n",
    "indexes1 = np.array([1, 2, 3]).astype(np.int)"
   ]
  },
  {
   "cell_type": "code",
   "execution_count": 22,
   "metadata": {},
   "outputs": [
    {
     "name": "stdout",
     "output_type": "stream",
     "text": [
      "[[1 2 3]\n",
      " [2 3 4]]\n"
     ]
    }
   ],
   "source": [
    "x = np.array([1, 2, 3, 4])\n",
    "indexes = np.array([[0, 1, 2], [1, 2, 3]]).astype(np.int)\n",
    "\n",
    "print(x[indexes])"
   ]
  },
  {
   "cell_type": "code",
   "execution_count": 23,
   "metadata": {},
   "outputs": [
    {
     "name": "stdout",
     "output_type": "stream",
     "text": [
      "idx1 [0 1 2]\n",
      "idx2 [[0]\n",
      " [1]]\n",
      "index [[0 1 2]\n",
      " [1 2 3]]\n"
     ]
    },
    {
     "data": {
      "text/plain": [
       "array([35, 50])"
      ]
     },
     "execution_count": 23,
     "metadata": {},
     "output_type": "execute_result"
    }
   ],
   "source": [
    "x = np.array([1,2,3,4])\n",
    "w = np.array([3, 5, 7])\n",
    "b = np.array([1])\n",
    "idx1 = np.arange(w.shape[0])\n",
    "idx2 = np.arange(w.shape[0] - 1).reshape(-1, 1)\n",
    "index = idx1 + idx2\n",
    "print('idx1',idx1)\n",
    "print('idx2',idx2)\n",
    "print('index',index)\n",
    "a = np.dot(x[index], w.T) + b\n",
    "a"
   ]
  },
  {
   "cell_type": "markdown",
   "metadata": {},
   "source": [
    "## 【問題4】チャンネル数を限定しない1次元畳み込み層クラスの作成"
   ]
  },
  {
   "cell_type": "code",
   "execution_count": 109,
   "metadata": {},
   "outputs": [],
   "source": [
    "x_4 = np.array([[1, 2, 3, 4], [2, 3, 4, 5]]) # shape(2, 4)で、（入力チャンネル数、特徴量数）である。\n",
    "w_4 = np.ones((3, 2, 3))\n",
    "b_4 = np.array([1, 2, 3]) #"
   ]
  },
  {
   "cell_type": "code",
   "execution_count": 108,
   "metadata": {},
   "outputs": [
    {
     "name": "stdout",
     "output_type": "stream",
     "text": [
      "[[[1. 1. 1.]\n",
      "  [1. 1. 1.]]\n",
      "\n",
      " [[1. 1. 1.]\n",
      "  [1. 1. 1.]]\n",
      "\n",
      " [[1. 1. 1.]\n",
      "  [1. 1. 1.]]]\n"
     ]
    }
   ],
   "source": [
    "print(w_4)"
   ]
  },
  {
   "cell_type": "code",
   "execution_count": 148,
   "metadata": {},
   "outputs": [
    {
     "name": "stdout",
     "output_type": "stream",
     "text": [
      "1\n"
     ]
    }
   ],
   "source": [
    "print(b_4[0])"
   ]
  },
  {
   "cell_type": "markdown",
   "metadata": {},
   "source": [
    "### フォワード手計算"
   ]
  },
  {
   "cell_type": "code",
   "execution_count": 113,
   "metadata": {},
   "outputs": [
    {
     "name": "stdout",
     "output_type": "stream",
     "text": [
      "[1 2 3 4]\n"
     ]
    }
   ],
   "source": [
    "#手計算してみる：　フォワード\n",
    "print(x_4[0])"
   ]
  },
  {
   "cell_type": "code",
   "execution_count": 117,
   "metadata": {},
   "outputs": [
    {
     "name": "stdout",
     "output_type": "stream",
     "text": [
      "2\n"
     ]
    }
   ],
   "source": [
    "#チャネル数\n",
    "print(x_4.shape[0])"
   ]
  },
  {
   "cell_type": "code",
   "execution_count": 118,
   "metadata": {},
   "outputs": [
    {
     "name": "stdout",
     "output_type": "stream",
     "text": [
      "3\n"
     ]
    }
   ],
   "source": [
    "#フィルタ数\n",
    "print(w_4.shape[0])"
   ]
  },
  {
   "cell_type": "code",
   "execution_count": 143,
   "metadata": {},
   "outputs": [
    {
     "name": "stdout",
     "output_type": "stream",
     "text": [
      "1.0\n",
      "1.0\n"
     ]
    }
   ],
   "source": [
    "#チャンネル1のフィルタ\n",
    "print(w_4[0,0,0])\n",
    "print(w_4[0,0,1])"
   ]
  },
  {
   "cell_type": "code",
   "execution_count": 116,
   "metadata": {},
   "outputs": [
    {
     "name": "stdout",
     "output_type": "stream",
     "text": [
      "[1. 1. 1.]\n"
     ]
    }
   ],
   "source": [
    "#チャンネル2のフィルタ\n",
    "print(w_4[0,1])"
   ]
  },
  {
   "cell_type": "code",
   "execution_count": 140,
   "metadata": {},
   "outputs": [],
   "source": [
    "test =np.arange(3)\n",
    "test2 =np.arange(3)"
   ]
  },
  {
   "cell_type": "code",
   "execution_count": 150,
   "metadata": {},
   "outputs": [
    {
     "name": "stdout",
     "output_type": "stream",
     "text": [
      "[1]\n"
     ]
    }
   ],
   "source": [
    "print(b)"
   ]
  },
  {
   "cell_type": "code",
   "execution_count": 162,
   "metadata": {},
   "outputs": [
    {
     "name": "stdout",
     "output_type": "stream",
     "text": [
      "a 1.0\n",
      "a 3.0\n",
      "a 6.0\n",
      "a_c_list1 [6. 0.]\n",
      "a 2.0\n",
      "a 5.0\n",
      "a 9.0\n",
      "a_c_list1 [6. 9.]\n",
      "a_c_list2 [6. 9.]\n",
      "a 2.0\n",
      "a 5.0\n",
      "a 9.0\n",
      "a_c_list1 [9. 9.]\n",
      "a 3.0\n",
      "a 7.0\n",
      "a 12.0\n",
      "a_c_list1 [ 9. 12.]\n",
      "a_c_list2 [ 9. 12.]\n",
      "a_c_list3 [ 9. 12.]\n",
      "ab_c_list [16. 22.]\n"
     ]
    }
   ],
   "source": [
    "#一旦チャネル数１→2\n",
    "#チャネルの数　 = 2\n",
    "len_x_4 = x_4.shape[0]\n",
    "#出力の数 (N,P,F,S):\n",
    "N_out_c = output_size_2(4,0,3,1)\n",
    "N_out_c_int = np.array(N_out_c).astype(np.int)\n",
    "\n",
    "#返すリスト\n",
    "a_c_list=np.zeros(N_out_int)\n",
    "ab_c_list=np.zeros(N_out_int)\n",
    "a = []\n",
    "\n",
    "#繰り返す\n",
    "for c in range(len_x_4):\n",
    "    for k in range(N_out_c_int):\n",
    "        a = 0\n",
    "        ab = 0\n",
    "        for i in range(len(w)):\n",
    "            a += x_4[c,k+i] * w_4[0,c,i] \n",
    "            print('a',a)\n",
    "            #ab = a+b_4[0]\n",
    "        np.put(a_c_list,k,a)\n",
    "        print('a_c_list1',a_c_list)\n",
    "    #a.append(a_c_list1)\n",
    "    print('a_c_list2',a_c_list)\n",
    "    ab_c_list += a_c_list\n",
    "print('a_c_list3',a_c_list)    \n",
    "ab_c_list += b_4[0]\n",
    "print('ab_c_list',ab_c_list)"
   ]
  },
  {
   "cell_type": "code",
   "execution_count": 232,
   "metadata": {},
   "outputs": [
    {
     "name": "stdout",
     "output_type": "stream",
     "text": [
      "a 1.0\n",
      "a 3.0\n",
      "a 6.0\n",
      "a_c_list1 [6. 0.]\n",
      "a 2.0\n",
      "a 5.0\n",
      "a 9.0\n",
      "a_c_list1 [6. 9.]\n",
      "a_c_list2 [6. 9.]\n",
      "a 2.0\n",
      "a 5.0\n",
      "a 9.0\n",
      "a_c_list1 [9. 9.]\n",
      "a 3.0\n",
      "a 7.0\n",
      "a 12.0\n",
      "a_c_list1 [ 9. 12.]\n",
      "a_c_list2 [ 9. 12.]\n",
      "a_c_list3 [ 9. 12.]\n",
      "ab_c_list4 [16. 22.]\n",
      "arr [[16. 22.]]\n",
      "a 1.0\n",
      "a 3.0\n",
      "a 6.0\n",
      "a_c_list1 [ 6. 12.]\n",
      "a 2.0\n",
      "a 5.0\n",
      "a 9.0\n",
      "a_c_list1 [6. 9.]\n",
      "a_c_list2 [6. 9.]\n",
      "a 2.0\n",
      "a 5.0\n",
      "a 9.0\n",
      "a_c_list1 [9. 9.]\n",
      "a 3.0\n",
      "a 7.0\n",
      "a 12.0\n",
      "a_c_list1 [ 9. 12.]\n",
      "a_c_list2 [ 9. 12.]\n",
      "a_c_list3 [ 9. 12.]\n",
      "ab_c_list4 [17. 23.]\n",
      "arr [[16. 22.]\n",
      " [17. 23.]]\n",
      "a 1.0\n",
      "a 3.0\n",
      "a 6.0\n",
      "a_c_list1 [ 6. 12.]\n",
      "a 2.0\n",
      "a 5.0\n",
      "a 9.0\n",
      "a_c_list1 [6. 9.]\n",
      "a_c_list2 [6. 9.]\n",
      "a 2.0\n",
      "a 5.0\n",
      "a 9.0\n",
      "a_c_list1 [9. 9.]\n",
      "a 3.0\n",
      "a 7.0\n",
      "a 12.0\n",
      "a_c_list1 [ 9. 12.]\n",
      "a_c_list2 [ 9. 12.]\n",
      "a_c_list3 [ 9. 12.]\n",
      "ab_c_list4 [18. 24.]\n",
      "arr [[16. 22.]\n",
      " [17. 23.]\n",
      " [18. 24.]]\n"
     ]
    }
   ],
   "source": [
    "#一旦チャネル数１→2 とフィルタ数　３\n",
    "#フィルタ数\n",
    "len_w_4=w_4.shape[0]\n",
    "#チャネルの数　 = 2\n",
    "len_x_4 = x_4.shape[0]\n",
    "#出力の数 (N,P,F,S):\n",
    "N_out_c = output_size_2(4,0,3,1)\n",
    "N_out_c_int = np.array(N_out_c).astype(np.int)\n",
    "\n",
    "#返すリスト\n",
    "a_c_list=np.zeros(N_out_int)\n",
    "#サムして、バイアス足したもの\n",
    "ab_c_list=np.zeros(N_out_int)\n",
    "#フィルタ分貯めたもの\n",
    "arr = np.empty((0,2), int)\n",
    "\n",
    "a = []\n",
    "\n",
    "#繰り返す\n",
    "for f in range(len_w_4):\n",
    "    for c in range(len_x_4):\n",
    "        for k in range(N_out_c_int):\n",
    "            a = 0\n",
    "            ab = 0\n",
    "            for i in range(len(w)):\n",
    "                a += x_4[c,k+i] * w_4[f,c,i] \n",
    "                print('a',a)\n",
    "                #ab = a+b_4[0]\n",
    "            np.put(a_c_list,k,a)\n",
    "            print('a_c_list1',a_c_list)\n",
    "        #a.append(a_c_list1)\n",
    "        print('a_c_list2',a_c_list)\n",
    "        ab_c_list += a_c_list\n",
    "    print('a_c_list3',a_c_list)    \n",
    "    ab_c_list += b_4[f]\n",
    "    print('ab_c_list4',ab_c_list)\n",
    "    arr = np.append(arr,np.array([ab_c_list]), axis=0)\n",
    "    print('arr',arr)\n",
    "    ab_c_list = 0"
   ]
  },
  {
   "cell_type": "code",
   "execution_count": 172,
   "metadata": {},
   "outputs": [],
   "source": [
    "b = []"
   ]
  },
  {
   "cell_type": "code",
   "execution_count": 177,
   "metadata": {},
   "outputs": [
    {
     "name": "stdout",
     "output_type": "stream",
     "text": [
      "[ 9. 12.]\n",
      "[ 9. 12.]\n"
     ]
    }
   ],
   "source": [
    "c = np.append(b,a_c_list,axis=0)\n",
    "print(c)\n",
    "print(a_c_list)"
   ]
  },
  {
   "cell_type": "code",
   "execution_count": 175,
   "metadata": {},
   "outputs": [
    {
     "data": {
      "text/plain": [
       "array([ 9., 12.,  9., 12.])"
      ]
     },
     "execution_count": 175,
     "metadata": {},
     "output_type": "execute_result"
    }
   ],
   "source": [
    "np.append(c,a_c_list,axis=0)"
   ]
  },
  {
   "cell_type": "code",
   "execution_count": 184,
   "metadata": {},
   "outputs": [
    {
     "data": {
      "text/plain": [
       "array([ 9., 12.,  9., 12.])"
      ]
     },
     "execution_count": 184,
     "metadata": {},
     "output_type": "execute_result"
    }
   ],
   "source": [
    "np.hstack([c,a_c_list])"
   ]
  },
  {
   "cell_type": "code",
   "execution_count": 213,
   "metadata": {},
   "outputs": [
    {
     "name": "stdout",
     "output_type": "stream",
     "text": [
      "[]\n",
      "[ 9. 12.]\n"
     ]
    }
   ],
   "source": [
    "c =np.array([])\n",
    "print(c)\n",
    "print(a_c_list)"
   ]
  },
  {
   "cell_type": "code",
   "execution_count": 205,
   "metadata": {},
   "outputs": [],
   "source": [
    "c =np.append(c,np.array([[a_c_list]]))"
   ]
  },
  {
   "cell_type": "code",
   "execution_count": 221,
   "metadata": {},
   "outputs": [
    {
     "name": "stdout",
     "output_type": "stream",
     "text": [
      "[ 9. 12.]\n"
     ]
    }
   ],
   "source": [
    "print(a_c_list)"
   ]
  },
  {
   "cell_type": "code",
   "execution_count": 223,
   "metadata": {},
   "outputs": [
    {
     "name": "stdout",
     "output_type": "stream",
     "text": [
      "[]\n",
      "[[ 9. 12.]]\n",
      "[[ 9. 12.]\n",
      " [ 9. 12.]]\n"
     ]
    }
   ],
   "source": [
    "arr = np.empty((0,2), int)\n",
    "print(arr)\n",
    "arr = np.append(arr,np.array([a_c_list]), axis=0)\n",
    "print(arr)\n",
    "arr = np.append(arr,np.array([a_c_list]), axis=0)\n",
    "print(arr)"
   ]
  },
  {
   "cell_type": "code",
   "execution_count": 233,
   "metadata": {},
   "outputs": [
    {
     "data": {
      "text/plain": [
       "(3, 2)"
      ]
     },
     "execution_count": 233,
     "metadata": {},
     "output_type": "execute_result"
    }
   ],
   "source": [
    "arr.shape"
   ]
  },
  {
   "cell_type": "code",
   "execution_count": 235,
   "metadata": {},
   "outputs": [
    {
     "name": "stdout",
     "output_type": "stream",
     "text": [
      "16.0\n"
     ]
    }
   ],
   "source": [
    "print(arr[0,0])"
   ]
  },
  {
   "cell_type": "code",
   "execution_count": 239,
   "metadata": {},
   "outputs": [
    {
     "name": "stdout",
     "output_type": "stream",
     "text": [
      "[1. 1. 1.]\n"
     ]
    }
   ],
   "source": [
    "print(w_4[0,1])"
   ]
  },
  {
   "cell_type": "markdown",
   "metadata": {},
   "source": [
    "### バックフォワード[W]手計算"
   ]
  },
  {
   "cell_type": "code",
   "execution_count": 251,
   "metadata": {},
   "outputs": [],
   "source": [
    "#仮のロス 設定\n",
    "loss_test = np.array([[9,11],[32,35],[52,56]])\n",
    "loss_w2 = np.array([32,35])\n",
    "loss_w3 = np.array([52,56])"
   ]
  },
  {
   "cell_type": "code",
   "execution_count": 272,
   "metadata": {},
   "outputs": [
    {
     "name": "stdout",
     "output_type": "stream",
     "text": [
      "11\n",
      "(3, 2)\n"
     ]
    }
   ],
   "source": [
    "print(loss_test[0,1])\n",
    "print(loss_test.shape)"
   ]
  },
  {
   "cell_type": "code",
   "execution_count": 281,
   "metadata": {},
   "outputs": [
    {
     "name": "stdout",
     "output_type": "stream",
     "text": [
      "3\n"
     ]
    }
   ],
   "source": [
    "#フィルタ1つ\n",
    "loss_test[0,0]\n",
    "\n",
    "#ロスのシャープ\n",
    "len_loss_test =  loss_test.shape\n",
    "#フィルタの長さ　3\n",
    "len_w_4=w_4.shape[0]\n",
    "print(len_w_4)\n",
    "#チャネルの数　 = 2\n",
    "len_x_4 = x_4.shape"
   ]
  },
  {
   "cell_type": "code",
   "execution_count": 279,
   "metadata": {},
   "outputs": [
    {
     "name": "stdout",
     "output_type": "stream",
     "text": [
      "2\n"
     ]
    }
   ],
   "source": [
    "print(len_x_4[0])"
   ]
  },
  {
   "cell_type": "code",
   "execution_count": 296,
   "metadata": {},
   "outputs": [
    {
     "name": "stdout",
     "output_type": "stream",
     "text": [
      "loss_0 [ 9 18 27]\n",
      "loss_out_arr [[0. 0. 0.]\n",
      " [0. 0. 0.]]\n",
      "loss_0 [18 27 36]\n",
      "loss_out_arr [[0. 0. 0.]\n",
      " [0. 0. 0.]]\n",
      "loss_out_arr [[ 9. 18. 27.]\n",
      " [18. 27. 36.]]\n",
      "loss_0 [22 33 44]\n",
      "loss_out_arr [[ 9. 18. 27.]\n",
      " [18. 27. 36.]]\n",
      "loss_0 [33 44 55]\n",
      "loss_out_arr [[ 9. 18. 27.]\n",
      " [18. 27. 36.]]\n",
      "loss_out_arr [[31. 51. 71.]\n",
      " [51. 71. 91.]]\n"
     ]
    }
   ],
   "source": [
    "#フィルタ1\n",
    "#loss_out_arr= np.empty((0,len_w_4), int)\n",
    "loss_out_arr= np.zeros([2,3])\n",
    "loss_out_arr_cul= np.empty((0,len_w_4), int)\n",
    "\n",
    "for k in range(len_loss_test[1]):\n",
    "    loss_out_arr_cul= np.empty((0,len_w_4), int)\n",
    "    for i in range(len_x_4[0]):\n",
    "        loss_0 = loss_test[0,k]*x_4[i,k:k+len_w_4]\n",
    "        print('loss_0',loss_0)\n",
    "        loss_out_arr_cul=np.append(loss_out_arr_cul,np.array([loss_0]), axis=0)\n",
    "        print('loss_out_arr',loss_out_arr)\n",
    "    loss_out_arr +=loss_out_arr_cul\n",
    "    print('loss_out_arr',loss_out_arr)"
   ]
  },
  {
   "cell_type": "code",
   "execution_count": null,
   "metadata": {},
   "outputs": [],
   "source": [
    "arr = np.empty((0,2), int)"
   ]
  },
  {
   "cell_type": "code",
   "execution_count": 266,
   "metadata": {},
   "outputs": [],
   "source": [
    "aaa = np.zeros([0,2])"
   ]
  },
  {
   "cell_type": "code",
   "execution_count": 291,
   "metadata": {},
   "outputs": [
    {
     "name": "stdout",
     "output_type": "stream",
     "text": [
      "[[ 9 18 27]\n",
      " [18 27 36]\n",
      " [22 33 44]\n",
      " [33 44 55]]\n"
     ]
    }
   ],
   "source": [
    "print(loss_out_arr)"
   ]
  },
  {
   "cell_type": "code",
   "execution_count": null,
   "metadata": {},
   "outputs": [],
   "source": [
    "#フィルタ１→3\n",
    "#loss_out_arr= np.empty((0,len_w_4), int)\n",
    "loss_out_arr= np.zeros([2,3])\n",
    "loss_out_arr_cul= np.empty((0,len_w_4), int)\n",
    "\n",
    "for k in range(len_loss_test[1]):\n",
    "    loss_out_arr_cul= np.empty((0,len_w_4), int)\n",
    "    for i in range(len_x_4[0]):\n",
    "        loss_0 = loss_test[0,k]*x_4[i,k:k+len_w_4]\n",
    "        print('loss_0',loss_0)\n",
    "        loss_out_arr_cul=np.append(loss_out_arr_cul,np.array([loss_0]), axis=0)\n",
    "        print('loss_out_arr',loss_out_arr)\n",
    "    loss_out_arr +=loss_out_arr_cul\n",
    "    print('loss_out_arr',loss_out_arr)"
   ]
  },
  {
   "cell_type": "code",
   "execution_count": 406,
   "metadata": {},
   "outputs": [
    {
     "name": "stdout",
     "output_type": "stream",
     "text": [
      "[[0. 0. 0.]\n",
      " [0. 0. 0.]]\n"
     ]
    }
   ],
   "source": [
    "dd = np.zeros((w_4.shape))\n",
    "print(dd[0])"
   ]
  },
  {
   "cell_type": "code",
   "execution_count": 300,
   "metadata": {},
   "outputs": [
    {
     "data": {
      "text/plain": [
       "(3, 2, 3)"
      ]
     },
     "execution_count": 300,
     "metadata": {},
     "output_type": "execute_result"
    }
   ],
   "source": [
    "w_4.shape"
   ]
  },
  {
   "cell_type": "code",
   "execution_count": 370,
   "metadata": {},
   "outputs": [
    {
     "name": "stdout",
     "output_type": "stream",
     "text": [
      "(2, 3)\n"
     ]
    }
   ],
   "source": [
    "print(loss_out_arr.shape)"
   ]
  },
  {
   "cell_type": "code",
   "execution_count": 350,
   "metadata": {},
   "outputs": [
    {
     "name": "stdout",
     "output_type": "stream",
     "text": [
      "[[[ 0. 51. 71.]\n",
      "  [51. 71. 91.]]\n",
      "\n",
      " [[ 0.  0.  0.]\n",
      "  [ 0.  0.  0.]]\n",
      "\n",
      " [[ 0.  0.  0.]\n",
      "  [ 0.  0.  0.]]]\n"
     ]
    }
   ],
   "source": [
    "np.putmask(dd[0],[0,1,2,3,4,5],loss_out_arr) \n",
    "print(dd)"
   ]
  },
  {
   "cell_type": "code",
   "execution_count": 387,
   "metadata": {},
   "outputs": [],
   "source": [
    "arr_w= np.empty((0,len_w_4), int)\n",
    "arr_w = np.append(arr_w,np.array(loss_out_arr), axis=0)\n",
    "#arr_w = np.append(arr_w,np.array([loss_out_arr[1]]), axis=0)"
   ]
  },
  {
   "cell_type": "code",
   "execution_count": 402,
   "metadata": {},
   "outputs": [
    {
     "name": "stdout",
     "output_type": "stream",
     "text": [
      "[[31. 51. 71.]\n",
      " [51. 71. 91.]\n",
      " [31. 51. 71.]\n",
      " [51. 71. 91.]\n",
      " [31. 51. 71.]\n",
      " [51. 71. 91.]]\n"
     ]
    }
   ],
   "source": [
    "print(arr_w)"
   ]
  },
  {
   "cell_type": "code",
   "execution_count": 401,
   "metadata": {},
   "outputs": [],
   "source": [
    "arr_w = np.vstack((arr_w,loss_out_arr))"
   ]
  },
  {
   "cell_type": "code",
   "execution_count": 2,
   "metadata": {},
   "outputs": [
    {
     "name": "stdout",
     "output_type": "stream",
     "text": [
      "%history\n",
      "%history\n"
     ]
    }
   ],
   "source": [
    "%history"
   ]
  }
 ],
 "metadata": {
  "kernelspec": {
   "display_name": "Python 3",
   "language": "python",
   "name": "python3"
  },
  "language_info": {
   "codemirror_mode": {
    "name": "ipython",
    "version": 3
   },
   "file_extension": ".py",
   "mimetype": "text/x-python",
   "name": "python",
   "nbconvert_exporter": "python",
   "pygments_lexer": "ipython3",
   "version": "3.7.3"
  },
  "toc": {
   "base_numbering": 1,
   "nav_menu": {},
   "number_sections": true,
   "sideBar": true,
   "skip_h1_title": false,
   "title_cell": "Table of Contents",
   "title_sidebar": "Contents",
   "toc_cell": false,
   "toc_position": {
    "height": "calc(100% - 180px)",
    "left": "10px",
    "top": "150px",
    "width": "269.4117431640625px"
   },
   "toc_section_display": true,
   "toc_window_display": true
  },
  "varInspector": {
   "cols": {
    "lenName": 16,
    "lenType": 16,
    "lenVar": 40
   },
   "kernels_config": {
    "python": {
     "delete_cmd_postfix": "",
     "delete_cmd_prefix": "del ",
     "library": "var_list.py",
     "varRefreshCmd": "print(var_dic_list())"
    },
    "r": {
     "delete_cmd_postfix": ") ",
     "delete_cmd_prefix": "rm(",
     "library": "var_list.r",
     "varRefreshCmd": "cat(var_dic_list()) "
    }
   },
   "types_to_exclude": [
    "module",
    "function",
    "builtin_function_or_method",
    "instance",
    "_Feature"
   ],
   "window_display": false
  }
 },
 "nbformat": 4,
 "nbformat_minor": 2
}
