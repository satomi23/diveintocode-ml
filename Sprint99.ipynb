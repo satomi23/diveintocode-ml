{
 "cells": [
  {
   "cell_type": "markdown",
   "metadata": {},
   "source": [
    "# Sprint 深層学習スクラッチ　ニューラルネットワーク"
   ]
  },
  {
   "cell_type": "markdown",
   "metadata": {},
   "source": [
    " ### データセット"
   ]
  },
  {
   "cell_type": "code",
   "execution_count": 1,
   "metadata": {},
   "outputs": [],
   "source": [
    "from keras.datasets import mnist"
   ]
  },
  {
   "cell_type": "code",
   "execution_count": 2,
   "metadata": {},
   "outputs": [],
   "source": [
    "(X_train, y_train), (X_test, y_test) = mnist.load_data()"
   ]
  },
  {
   "cell_type": "code",
   "execution_count": 8,
   "metadata": {},
   "outputs": [],
   "source": [
    "#print(X_train[0])"
   ]
  },
  {
   "cell_type": "code",
   "execution_count": 3,
   "metadata": {},
   "outputs": [
    {
     "name": "stdout",
     "output_type": "stream",
     "text": [
      "5\n"
     ]
    }
   ],
   "source": [
    "print(y_train[0])"
   ]
  },
  {
   "cell_type": "markdown",
   "metadata": {},
   "source": [
    "### インポート"
   ]
  },
  {
   "cell_type": "code",
   "execution_count": 4,
   "metadata": {},
   "outputs": [],
   "source": [
    "import matplotlib.pyplot as plt"
   ]
  },
  {
   "cell_type": "markdown",
   "metadata": {},
   "source": [
    "#### 可視化"
   ]
  },
  {
   "cell_type": "code",
   "execution_count": 5,
   "metadata": {},
   "outputs": [
    {
     "data": {
      "image/png": "[encoded data removed]",
      "text/plain": [
       "<Figure size 432x288 with 1 Axes>"
      ]
     },
     "metadata": {
      "needs_background": "light"
     },
     "output_type": "display_data"
    }
   ],
   "source": [
    "%matplotlib inline\n",
    "index = 0\n",
    "image = X_train[0].reshape(28,28)\n",
    "# X_train[index]: (784,)\n",
    "# image: (28, 28)\n",
    "plt.imshow(image, 'gray')\n",
    "plt.title('label : {}'.format(y_train[index]))\n",
    "plt.show()"
   ]
  },
  {
   "cell_type": "code",
   "execution_count": 16,
   "metadata": {},
   "outputs": [
    {
     "data": {
      "image/png": "[encoded data removed]",
      "text/plain": [
       "<Figure size 432x288 with 1 Axes>"
      ]
     },
     "metadata": {
      "needs_background": "light"
     },
     "output_type": "display_data"
    }
   ],
   "source": [
    "%matplotlib inline\n",
    "index = 0\n",
    "image = X_train[1].reshape(28,28)\n",
    "# X_train[index]: (784,)\n",
    "# image: (28, 28)\n",
    "plt.imshow(image, 'gray')\n",
    "plt.title('label : {}'.format(y_train[index]))\n",
    "plt.show()"
   ]
  },
  {
   "cell_type": "code",
   "execution_count": 13,
   "metadata": {},
   "outputs": [
    {
     "data": {
      "image/png": "[encoded data removed]",
      "text/plain": [
       "<Figure size 432x288 with 1 Axes>"
      ]
     },
     "metadata": {
      "needs_background": "light"
     },
     "output_type": "display_data"
    },
    {
     "name": "stdout",
     "output_type": "stream",
     "text": [
      "[[-105.35 -105.35 -105.35 -105.35 -105.35 -105.35 -105.35 -105.35 -105.35\n",
      "  -105.35 -105.35 -105.35 -105.35 -105.35 -105.35 -105.35 -105.35 -105.35\n",
      "  -105.35 -105.35 -105.35 -105.35 -105.35 -105.35 -105.35 -105.35 -105.35\n",
      "  -105.35]\n",
      " [-105.35 -105.35 -105.35 -105.35 -105.35 -105.35 -105.35 -105.35 -105.35\n",
      "  -105.35 -105.35 -105.35 -105.35 -105.35 -105.35 -105.35 -105.35 -105.35\n",
      "  -105.35 -105.35 -105.35 -105.35 -105.35 -105.35 -105.35 -105.35 -105.35\n",
      "  -105.35]\n",
      " [-105.35 -105.35 -105.35 -105.35 -105.35 -105.35 -105.35 -105.35 -105.35\n",
      "  -105.35 -105.35 -105.35 -105.35 -105.35 -105.35 -105.35 -105.35 -105.35\n",
      "  -105.35 -105.35 -105.35 -105.35 -105.35 -105.35 -105.35 -105.35 -105.35\n",
      "  -105.35]\n",
      " [-105.35 -105.35 -105.35 -105.35 -105.35 -105.35 -105.35 -105.35 -105.35\n",
      "  -105.35 -105.35 -105.35 -105.35 -105.35 -105.35 -105.35 -105.35 -105.35\n",
      "  -105.35 -105.35 -105.35 -105.35 -105.35 -105.35 -105.35 -105.35 -105.35\n",
      "  -105.35]\n",
      " [-105.35 -105.35 -105.35 -105.35 -105.35 -105.35 -105.35 -105.35 -105.35\n",
      "  -105.35 -105.35 -105.35 -105.35 -105.35 -105.35 -105.35 -105.35 -105.35\n",
      "  -105.35 -105.35 -105.35 -105.35 -105.35 -105.35 -105.35 -105.35 -105.35\n",
      "  -105.35]\n",
      " [-105.35 -105.35 -105.35 -105.35 -105.35 -105.35 -105.35 -105.35 -105.35\n",
      "  -105.35 -105.35 -105.35 -102.35  -87.35  -87.35  -87.35   20.65   30.65\n",
      "    69.65  -79.35   60.65  149.65  141.65   21.65 -105.35 -105.35 -105.35\n",
      "  -105.35]\n",
      " [-105.35 -105.35 -105.35 -105.35 -105.35 -105.35 -105.35 -105.35  -75.35\n",
      "   -69.35  -11.35   48.65   64.65  147.65  147.65  147.65  147.65  147.65\n",
      "   119.65   66.65  147.65  136.65   89.65  -41.35 -105.35 -105.35 -105.35\n",
      "  -105.35]\n",
      " [-105.35 -105.35 -105.35 -105.35 -105.35 -105.35 -105.35  -56.35  132.65\n",
      "   147.65  147.65  147.65  147.65  147.65  147.65  147.65  147.65  145.65\n",
      "   -12.35  -23.35  -23.35  -49.35  -66.35 -105.35 -105.35 -105.35 -105.35\n",
      "  -105.35]\n",
      " [-105.35 -105.35 -105.35 -105.35 -105.35 -105.35 -105.35  -87.35  113.65\n",
      "   147.65  147.65  147.65  147.65  147.65   92.65   76.65  141.65  135.65\n",
      "  -105.35 -105.35 -105.35 -105.35 -105.35 -105.35 -105.35 -105.35 -105.35\n",
      "  -105.35]\n",
      " [-105.35 -105.35 -105.35 -105.35 -105.35 -105.35 -105.35 -105.35  -25.35\n",
      "    50.65    1.65  147.65  147.65   99.65  -94.35 -105.35  -62.35   48.65\n",
      "  -105.35 -105.35 -105.35 -105.35 -105.35 -105.35 -105.35 -105.35 -105.35\n",
      "  -105.35]\n",
      " [-105.35 -105.35 -105.35 -105.35 -105.35 -105.35 -105.35 -105.35 -105.35\n",
      "   -91.35 -104.35   48.65  147.65  -15.35 -105.35 -105.35 -105.35 -105.35\n",
      "  -105.35 -105.35 -105.35 -105.35 -105.35 -105.35 -105.35 -105.35 -105.35\n",
      "  -105.35]\n",
      " [-105.35 -105.35 -105.35 -105.35 -105.35 -105.35 -105.35 -105.35 -105.35\n",
      "  -105.35 -105.35   33.65  147.65   84.65 -103.35 -105.35 -105.35 -105.35\n",
      "  -105.35 -105.35 -105.35 -105.35 -105.35 -105.35 -105.35 -105.35 -105.35\n",
      "  -105.35]\n",
      " [-105.35 -105.35 -105.35 -105.35 -105.35 -105.35 -105.35 -105.35 -105.35\n",
      "  -105.35 -105.35  -94.35   84.65  147.65  -35.35 -105.35 -105.35 -105.35\n",
      "  -105.35 -105.35 -105.35 -105.35 -105.35 -105.35 -105.35 -105.35 -105.35\n",
      "  -105.35]\n",
      " [-105.35 -105.35 -105.35 -105.35 -105.35 -105.35 -105.35 -105.35 -105.35\n",
      "  -105.35 -105.35 -105.35  -70.35  135.65  119.65   54.65    2.65 -104.35\n",
      "  -105.35 -105.35 -105.35 -105.35 -105.35 -105.35 -105.35 -105.35 -105.35\n",
      "  -105.35]\n",
      " [-105.35 -105.35 -105.35 -105.35 -105.35 -105.35 -105.35 -105.35 -105.35\n",
      "  -105.35 -105.35 -105.35 -105.35  -24.35  134.65  147.65  147.65   13.65\n",
      "   -80.35 -105.35 -105.35 -105.35 -105.35 -105.35 -105.35 -105.35 -105.35\n",
      "  -105.35]\n",
      " [-105.35 -105.35 -105.35 -105.35 -105.35 -105.35 -105.35 -105.35 -105.35\n",
      "  -105.35 -105.35 -105.35 -105.35 -105.35  -60.35   80.65  147.65  147.65\n",
      "    44.65  -78.35 -105.35 -105.35 -105.35 -105.35 -105.35 -105.35 -105.35\n",
      "  -105.35]\n",
      " [-105.35 -105.35 -105.35 -105.35 -105.35 -105.35 -105.35 -105.35 -105.35\n",
      "  -105.35 -105.35 -105.35 -105.35 -105.35 -105.35  -89.35  -12.35  146.65\n",
      "   147.65   81.65 -105.35 -105.35 -105.35 -105.35 -105.35 -105.35 -105.35\n",
      "  -105.35]\n",
      " [-105.35 -105.35 -105.35 -105.35 -105.35 -105.35 -105.35 -105.35 -105.35\n",
      "  -105.35 -105.35 -105.35 -105.35 -105.35 -105.35 -105.35 -105.35  143.65\n",
      "   147.65  143.65  -41.35 -105.35 -105.35 -105.35 -105.35 -105.35 -105.35\n",
      "  -105.35]\n",
      " [-105.35 -105.35 -105.35 -105.35 -105.35 -105.35 -105.35 -105.35 -105.35\n",
      "  -105.35 -105.35 -105.35 -105.35 -105.35  -59.35   24.65   77.65  147.65\n",
      "   147.65  101.65 -103.35 -105.35 -105.35 -105.35 -105.35 -105.35 -105.35\n",
      "  -105.35]\n",
      " [-105.35 -105.35 -105.35 -105.35 -105.35 -105.35 -105.35 -105.35 -105.35\n",
      "  -105.35 -105.35 -105.35  -66.35   42.65  123.65  147.65  147.65  147.65\n",
      "   144.65   76.65 -105.35 -105.35 -105.35 -105.35 -105.35 -105.35 -105.35\n",
      "  -105.35]\n",
      " [-105.35 -105.35 -105.35 -105.35 -105.35 -105.35 -105.35 -105.35 -105.35\n",
      "  -105.35  -81.35    8.65  115.65  147.65  147.65  147.65  147.65   95.65\n",
      "   -27.35 -105.35 -105.35 -105.35 -105.35 -105.35 -105.35 -105.35 -105.35\n",
      "  -105.35]\n",
      " [-105.35 -105.35 -105.35 -105.35 -105.35 -105.35 -105.35 -105.35  -82.35\n",
      "   -39.35  107.65  147.65  147.65  147.65  147.65   92.65  -24.35 -103.35\n",
      "  -105.35 -105.35 -105.35 -105.35 -105.35 -105.35 -105.35 -105.35 -105.35\n",
      "  -105.35]\n",
      " [-105.35 -105.35 -105.35 -105.35 -105.35 -105.35  -87.35   65.65  113.65\n",
      "   147.65  147.65  147.65  147.65   89.65  -25.35  -96.35 -105.35 -105.35\n",
      "  -105.35 -105.35 -105.35 -105.35 -105.35 -105.35 -105.35 -105.35 -105.35\n",
      "  -105.35]\n",
      " [-105.35 -105.35 -105.35 -105.35  -50.35   66.65  120.65  147.65  147.65\n",
      "   147.65  147.65  138.65   27.65  -94.35 -105.35 -105.35 -105.35 -105.35\n",
      "  -105.35 -105.35 -105.35 -105.35 -105.35 -105.35 -105.35 -105.35 -105.35\n",
      "  -105.35]\n",
      " [-105.35 -105.35 -105.35 -105.35   30.65  147.65  147.65  147.65  106.65\n",
      "    29.65   26.65  -89.35 -105.35 -105.35 -105.35 -105.35 -105.35 -105.35\n",
      "  -105.35 -105.35 -105.35 -105.35 -105.35 -105.35 -105.35 -105.35 -105.35\n",
      "  -105.35]\n",
      " [-105.35 -105.35 -105.35 -105.35 -105.35 -105.35 -105.35 -105.35 -105.35\n",
      "  -105.35 -105.35 -105.35 -105.35 -105.35 -105.35 -105.35 -105.35 -105.35\n",
      "  -105.35 -105.35 -105.35 -105.35 -105.35 -105.35 -105.35 -105.35 -105.35\n",
      "  -105.35]\n",
      " [-105.35 -105.35 -105.35 -105.35 -105.35 -105.35 -105.35 -105.35 -105.35\n",
      "  -105.35 -105.35 -105.35 -105.35 -105.35 -105.35 -105.35 -105.35 -105.35\n",
      "  -105.35 -105.35 -105.35 -105.35 -105.35 -105.35 -105.35 -105.35 -105.35\n",
      "  -105.35]\n",
      " [-105.35 -105.35 -105.35 -105.35 -105.35 -105.35 -105.35 -105.35 -105.35\n",
      "  -105.35 -105.35 -105.35 -105.35 -105.35 -105.35 -105.35 -105.35 -105.35\n",
      "  -105.35 -105.35 -105.35 -105.35 -105.35 -105.35 -105.35 -105.35 -105.35\n",
      "  -105.35]]\n"
     ]
    }
   ],
   "source": [
    "index = 0\n",
    "image = X_train[0].reshape(28,28)\n",
    "image = image.astype(np.float) # float型に変換\n",
    "image -= 105.35 # 意図的に負の小数値を作り出してみる\n",
    "plt.imshow(image, 'gray')\n",
    "plt.title('label : {}'.format(y_train[index]))\n",
    "plt.show()\n",
    "print(image) "
   ]
  },
  {
   "cell_type": "markdown",
   "metadata": {},
   "source": [
    "### インポート"
   ]
  },
  {
   "cell_type": "code",
   "execution_count": 10,
   "metadata": {},
   "outputs": [],
   "source": [
    "import matplotlib.pyplot as plt"
   ]
  },
  {
   "cell_type": "code",
   "execution_count": 6,
   "metadata": {},
   "outputs": [],
   "source": [
    "from sklearn.preprocessing import OneHotEncoder"
   ]
  },
  {
   "cell_type": "code",
   "execution_count": 7,
   "metadata": {},
   "outputs": [],
   "source": [
    "from sklearn.model_selection import train_test_split"
   ]
  },
  {
   "cell_type": "code",
   "execution_count": 8,
   "metadata": {},
   "outputs": [],
   "source": [
    "import numpy as np"
   ]
  },
  {
   "cell_type": "markdown",
   "metadata": {},
   "source": [
    "### 前処理"
   ]
  },
  {
   "cell_type": "code",
   "execution_count": 9,
   "metadata": {},
   "outputs": [],
   "source": [
    "X_train = X_train.reshape(-1, 784)\n",
    "X_test = X_test.reshape(-1, 784)"
   ]
  },
  {
   "cell_type": "code",
   "execution_count": 10,
   "metadata": {},
   "outputs": [
    {
     "name": "stdout",
     "output_type": "stream",
     "text": [
      "1.0\n",
      "0.0\n"
     ]
    }
   ],
   "source": [
    "#念の為変数名を変更\n",
    "X_train = X_train.astype(np.float)\n",
    "X_test = X_test.astype(np.float)\n",
    "X_train /= 255\n",
    "X_test /= 255\n",
    "print(X_train.max()) # 1.0\n",
    "print(X_train.min()) # 0.0"
   ]
  },
  {
   "cell_type": "code",
   "execution_count": 11,
   "metadata": {},
   "outputs": [
    {
     "name": "stdout",
     "output_type": "stream",
     "text": [
      "(60000,)\n",
      "(60000, 10)\n",
      "float64\n"
     ]
    }
   ],
   "source": [
    "enc = OneHotEncoder(handle_unknown='ignore', sparse=False)\n",
    "y_train_one_hot = enc.fit_transform(y_train[:, np.newaxis])\n",
    "y_test_one_hot = enc.transform(y_test[:, np.newaxis])\n",
    "print(y_train.shape) # (60000,)\n",
    "print(y_train_one_hot.shape) # (60000, 10)\n",
    "print(y_train_one_hot.dtype) # float64"
   ]
  },
  {
   "cell_type": "code",
   "execution_count": 12,
   "metadata": {},
   "outputs": [
    {
     "name": "stdout",
     "output_type": "stream",
     "text": [
      "(48000, 784)\n",
      "(12000, 784)\n"
     ]
    }
   ],
   "source": [
    "X_train, X_val, y_train, y_val = train_test_split(X_train, y_train_one_hot, test_size=0.2)\n",
    "print(X_train.shape) # (48000, 784)\n",
    "print(X_val.shape) # (12000, 784)"
   ]
  },
  {
   "cell_type": "markdown",
   "metadata": {},
   "source": [
    "### ミニバッチ"
   ]
  },
  {
   "cell_type": "code",
   "execution_count": 13,
   "metadata": {
    "code_folding": [
     0
    ]
   },
   "outputs": [],
   "source": [
    "class GetMiniBatch:\n",
    "    \"\"\"\n",
    "    ミニバッチを取得するイテレータ\n",
    "\n",
    "    Parameters\n",
    "    ----------\n",
    "    X : 次の形のndarray, shape (n_samples, n_features)\n",
    "      訓練用データ\n",
    "    y : 次の形のndarray, shape (n_samples, 1)\n",
    "      正解値\n",
    "    batch_size : int\n",
    "      バッチサイズ\n",
    "    seed : int\n",
    "      NumPyの乱数のシード\n",
    "    \"\"\"\n",
    "    def __init__(self, X, y, batch_size = 20, seed=0):\n",
    "        self.batch_size = batch_size\n",
    "        np.random.seed(seed)\n",
    "        shuffle_index = np.random.permutation(np.arange(X.shape[0]))\n",
    "        self._X = X[shuffle_index]\n",
    "        self._y = y[shuffle_index]\n",
    "        self._stop = np.ceil(X.shape[0]/self.batch_size).astype(np.int)\n",
    "\n",
    "    def __len__(self):\n",
    "        return self._stop\n",
    "\n",
    "    def __getitem__(self,item):\n",
    "        p0 = item*self.batch_size\n",
    "        p1 = item*self.batch_size + self.batch_size\n",
    "        return self._X[p0:p1], self._y[p0:p1]        \n",
    "\n",
    "    def __iter__(self):\n",
    "        self._counter = 0\n",
    "        return self\n",
    "\n",
    "    def __next__(self):\n",
    "        if self._counter >= self._stop:\n",
    "            raise StopIteration()\n",
    "        p0 = self._counter*self.batch_size\n",
    "        p1 = self._counter*self.batch_size + self.batch_size\n",
    "        self._counter += 1\n",
    "        return self._X[p0:p1], self._y[p0:p1]"
   ]
  },
  {
   "cell_type": "code",
   "execution_count": 15,
   "metadata": {},
   "outputs": [],
   "source": [
    "get_mini_batch = GetMiniBatch(X_train, y_train, batch_size=20)\n",
    "\n",
    "#print(len(get_mini_batch)) # 2400\n",
    "#print(get_mini_batch[6]) "
   ]
  },
  {
   "cell_type": "markdown",
   "metadata": {},
   "source": [
    "## 【問題1】重みの初期値を決めるコードの作成"
   ]
  },
  {
   "cell_type": "code",
   "execution_count": 46,
   "metadata": {},
   "outputs": [],
   "source": [
    "n_features = 784\n",
    "n_nodes1 = 400\n",
    "sigma = 0.01 # ガウス分布の標準偏差\n",
    "W1 = sigma * np.random.randn(n_features, n_nodes1)\n",
    "# W1: (784, 400)"
   ]
  },
  {
   "cell_type": "markdown",
   "metadata": {},
   "source": [
    "## 【問題2】フォワードプロパゲーションの実装"
   ]
  },
  {
   "cell_type": "markdown",
   "metadata": {},
   "source": [
    "### 計算の流れ"
   ]
  },
  {
   "cell_type": "code",
   "execution_count": 64,
   "metadata": {},
   "outputs": [
    {
     "name": "stdout",
     "output_type": "stream",
     "text": [
      "[[0. 0. 0. ... 0. 0. 0.]\n",
      " [0. 0. 0. ... 0. 0. 0.]\n",
      " [0. 0. 0. ... 0. 0. 0.]\n",
      " ...\n",
      " [0. 0. 0. ... 0. 0. 0.]\n",
      " [0. 0. 0. ... 0. 0. 0.]\n",
      " [0. 0. 0. ... 0. 0. 0.]]\n"
     ]
    }
   ],
   "source": [
    "print(get_mini_batch[6][0]) "
   ]
  },
  {
   "cell_type": "code",
   "execution_count": 65,
   "metadata": {},
   "outputs": [],
   "source": [
    "xx = get_mini_batch[6][0]"
   ]
  },
  {
   "cell_type": "code",
   "execution_count": 66,
   "metadata": {},
   "outputs": [],
   "source": [
    "xxx = get_mini_batch[6]"
   ]
  },
  {
   "cell_type": "markdown",
   "metadata": {},
   "source": [
    "1層目  \n",
    "\n",
    "X : 特徴量ベクトル (batch_size, n_features) →(20,784)\n",
    "\n",
    "W1: 1層目の重み (n_features, n_nodes1)　→(784,400)\n",
    "\n",
    "B1: 1層目のバイアス (n_nodes1,) →(400,)\n",
    "\n",
    "A1: 出力 (batch_size, n_nodes1) →(20,400)"
   ]
  },
  {
   "cell_type": "code",
   "execution_count": 55,
   "metadata": {},
   "outputs": [],
   "source": [
    "#1層目の重みとバイアス作成\n",
    "n_features = 784\n",
    "n_nodes1 = 400\n",
    "sigma = 0.01 # ガウス分布の標準偏差\n",
    "\n",
    "W1 = sigma * np.random.randn(n_features, n_nodes1)\n",
    "B1 =  sigma * np.random.randn(n_nodes1,)"
   ]
  },
  {
   "cell_type": "code",
   "execution_count": 70,
   "metadata": {},
   "outputs": [],
   "source": [
    "#1層目の一次関数の計算\n",
    "x_1_k = np.dot(get_mini_batch[6][0],W1)+B1\n",
    "#(20,400)"
   ]
  },
  {
   "cell_type": "code",
   "execution_count": 71,
   "metadata": {},
   "outputs": [],
   "source": [
    "#1層目の活性化関数　ハイパポリックタンジェント関数で\n",
    "x_1_h =np.tanh(x_1_k)\n",
    "#(20,400)"
   ]
  },
  {
   "cell_type": "markdown",
   "metadata": {},
   "source": [
    "2層目  \n",
    "\n",
    "Z1 出力 (batch_size, n_nodes1) → (20,400)\n",
    "\n",
    "W2: 2層目の重み (n_nodes1, n_nodes2) →(400,200)\n",
    "\n",
    "B2: 2層目のバイアス (n_nodes2,) →(200,)\n",
    "\n",
    "A2: 出力 (batch_size, n_nodes2) →(20,200)"
   ]
  },
  {
   "cell_type": "code",
   "execution_count": 74,
   "metadata": {},
   "outputs": [],
   "source": [
    "#2層目の重みとバイアス作成\n",
    "n_nodes2 = 200\n",
    "W2 = sigma * np.random.randn(n_nodes1, n_nodes2)\n",
    "B2 =  sigma * np.random.randn(n_nodes2,)"
   ]
  },
  {
   "cell_type": "code",
   "execution_count": 75,
   "metadata": {},
   "outputs": [],
   "source": [
    "#2層目の一次関数\n",
    "x_2_k = np.dot(x_1_h,W2)+B2\n",
    "#(20,200)"
   ]
  },
  {
   "cell_type": "code",
   "execution_count": 76,
   "metadata": {},
   "outputs": [],
   "source": [
    "#2層目の活性化関数　ハイパポリックタンジェント関数で\n",
    "x_2_h =np.tanh(x_2_k)\n",
    "#(20,200)"
   ]
  },
  {
   "cell_type": "markdown",
   "metadata": {},
   "source": [
    "3層目  \n",
    "\n",
    "W3: 3層目の重み (n_nodes2, n_output) →(20,10)\n",
    "\n",
    "B3: 3層目のバイアス (n_output,) →(10,)\n",
    "\n",
    "A3: 出力 (batch_size, n_output) →(20,10)\n",
    "\n",
    "Z3出力 (batch_size, n_output) → (20,10)\n",
    "\n",
    "Z3 は各ラベル（0〜9）に対する確率の配列である。"
   ]
  },
  {
   "cell_type": "code",
   "execution_count": 77,
   "metadata": {},
   "outputs": [],
   "source": [
    "#3層目の重みとバイアス作成\n",
    "n_output = 10\n",
    "W3 = sigma * np.random.randn(n_nodes2, n_output)\n",
    "B3 =  sigma * np.random.randn(n_output,)"
   ]
  },
  {
   "cell_type": "code",
   "execution_count": 78,
   "metadata": {},
   "outputs": [],
   "source": [
    "#3層目の一次関数\n",
    "x_3_k = np.dot(x_2_k,W3)+B3\n",
    "#(20,10)"
   ]
  },
  {
   "cell_type": "code",
   "execution_count": 130,
   "metadata": {},
   "outputs": [
    {
     "name": "stdout",
     "output_type": "stream",
     "text": [
      "[ 0.10431231  0.37155489 -0.00936853 -0.07258711  0.02297094  0.1211413\n",
      " -0.00542453  0.52240477 -0.21663972  0.12684287]\n"
     ]
    }
   ],
   "source": [
    "print(sum(x_3_k))"
   ]
  },
  {
   "cell_type": "code",
   "execution_count": 160,
   "metadata": {},
   "outputs": [
    {
     "name": "stdout",
     "output_type": "stream",
     "text": [
      "[10.05101109 10.04335151 10.05356184 10.04881747 10.04348482 10.05665696\n",
      " 10.04085914 10.05580735 10.05770566 10.0456764  10.04727047 10.04451966\n",
      " 10.05081791 10.05219628 10.06296394 10.04504005 10.04997155 10.0473981\n",
      " 10.04568993 10.03561789]\n"
     ]
    }
   ],
   "source": [
    "print(np.sum(np.exp(x_3_k),axis=1))"
   ]
  },
  {
   "cell_type": "code",
   "execution_count": 141,
   "metadata": {},
   "outputs": [],
   "source": [
    "#20サンプルの分子作成\n",
    "bunbo = np.sum(np.exp(x_3_k),axis=1)"
   ]
  },
  {
   "cell_type": "code",
   "execution_count": 146,
   "metadata": {},
   "outputs": [],
   "source": [
    "#20サンプル、10クラスと割り算できるようにリシェーぷ\n",
    "bunboT = np.reshape(bunbo,[20,1]) "
   ]
  },
  {
   "cell_type": "code",
   "execution_count": 148,
   "metadata": {},
   "outputs": [],
   "source": [
    "#わりざん\n",
    "soft = np.exp(x_3_k)/bunboT"
   ]
  },
  {
   "cell_type": "code",
   "execution_count": 140,
   "metadata": {},
   "outputs": [
    {
     "data": {
      "text/plain": [
       "0.10029007041917413"
      ]
     },
     "execution_count": 140,
     "metadata": {},
     "output_type": "execute_result"
    }
   ],
   "source": [
    "1.00801661/10.05101109"
   ]
  },
  {
   "cell_type": "code",
   "execution_count": 157,
   "metadata": {},
   "outputs": [],
   "source": [
    "#print(np.exp(x_3_k))"
   ]
  },
  {
   "cell_type": "code",
   "execution_count": 102,
   "metadata": {},
   "outputs": [],
   "source": [
    "aaa = np.exp(x_3_k)"
   ]
  },
  {
   "cell_type": "code",
   "execution_count": 128,
   "metadata": {},
   "outputs": [],
   "source": [
    "#print(aaa)"
   ]
  },
  {
   "cell_type": "code",
   "execution_count": 125,
   "metadata": {},
   "outputs": [
    {
     "name": "stdout",
     "output_type": "stream",
     "text": [
      "546.3525700096318\n"
     ]
    }
   ],
   "source": [
    "print(np.sum(np.exp(aaa)))"
   ]
  },
  {
   "cell_type": "code",
   "execution_count": 103,
   "metadata": {},
   "outputs": [],
   "source": [
    "bbb = aaa/sum(aaa)"
   ]
  },
  {
   "cell_type": "code",
   "execution_count": 123,
   "metadata": {},
   "outputs": [],
   "source": [
    "ss = np.sum(np.exp(x_3_k[0]))"
   ]
  },
  {
   "cell_type": "code",
   "execution_count": 124,
   "metadata": {},
   "outputs": [
    {
     "name": "stdout",
     "output_type": "stream",
     "text": [
      "10.051011092105199\n"
     ]
    }
   ],
   "source": [
    "print(ss)"
   ]
  },
  {
   "cell_type": "code",
   "execution_count": 109,
   "metadata": {},
   "outputs": [],
   "source": [
    "#print(bbb)"
   ]
  },
  {
   "cell_type": "code",
   "execution_count": 156,
   "metadata": {
    "code_folding": [
     0
    ]
   },
   "outputs": [
    {
     "name": "stdout",
     "output_type": "stream",
     "text": [
      "0.10029006990824695\n",
      "0.10145088085936989\n",
      "0.09979313697749465\n",
      "0.09884243708463092\n",
      "0.09947079903281272\n",
      "0.10012640417296462\n",
      "0.09938001276910127\n",
      "0.10185332713015385\n",
      "0.09842671994610942\n",
      "0.10036621211911576\n"
     ]
    }
   ],
   "source": [
    "#3層目のソフトマックスアウトプット 　手計算してみる\n",
    "#10クラス分計算\n",
    "\n",
    "#0番目のサンプルのクラス0\n",
    "z_3_0 = np.exp(x_3_k[0,0])/np.sum(np.exp(x_3_k[0]))\n",
    "print(z_3_0)\n",
    "\n",
    "#0番目のサンプルのクラス1\n",
    "z_3_1 = np.exp(x_3_k[0,1])/np.sum(np.exp(x_3_k[0]))\n",
    "print(z_3_1)\n",
    "\n",
    "#0番目のサンプルのクラス2\n",
    "z_3_2 = np.exp(x_3_k[0,2])/np.sum(np.exp(x_3_k[0]))\n",
    "print(z_3_2)\n",
    "\n",
    "#0番目のサンプルのクラス3\n",
    "z_3_3 = np.exp(x_3_k[0,3])/np.sum(np.exp(x_3_k[0]))\n",
    "print(z_3_3)\n",
    "\n",
    "#0番目のサンプルのクラス4\n",
    "z_3_4 = np.exp(x_3_k[0,4])/np.sum(np.exp(x_3_k[0]))\n",
    "print(z_3_4)\n",
    "\n",
    "#0番目のサンプルのクラス5\n",
    "z_3_5 = np.exp(x_3_k[0,5])/np.sum(np.exp(x_3_k[0]))\n",
    "print(z_3_5)\n",
    "\n",
    "#0番目のサンプルのクラス6\n",
    "z_3_6 = np.exp(x_3_k[0,6])/np.sum(np.exp(x_3_k[0]))\n",
    "print(z_3_6)\n",
    "\n",
    "#0番目のサンプルのクラス7\n",
    "z_3_7 = np.exp(x_3_k[0,7])/np.sum(np.exp(x_3_k[0]))\n",
    "print(z_3_7)\n",
    "\n",
    "#0番目のサンプルのクラス8\n",
    "z_3_8 = np.exp(x_3_k[0,8])/np.sum(np.exp(x_3_k[0]))\n",
    "print(z_3_8)\n",
    "\n",
    "#0番目のサンプルのクラス9\n",
    "z_3_9 = np.exp(x_3_k[0,9])/np.sum(np.exp(x_3_k[0]))\n",
    "print(z_3_9)"
   ]
  },
  {
   "cell_type": "code",
   "execution_count": 154,
   "metadata": {},
   "outputs": [],
   "source": [
    "y_get_0 = get_mini_batch[0][1]"
   ]
  },
  {
   "cell_type": "code",
   "execution_count": 166,
   "metadata": {},
   "outputs": [],
   "source": [
    "#引き算\n",
    "#y_get_0-soft"
   ]
  },
  {
   "cell_type": "code",
   "execution_count": 179,
   "metadata": {},
   "outputs": [],
   "source": [
    "#print(y_train)"
   ]
  },
  {
   "cell_type": "code",
   "execution_count": null,
   "metadata": {},
   "outputs": [],
   "source": [
    "-np.sum(t*np.log(y))/batchsaiz"
   ]
  },
  {
   "cell_type": "code",
   "execution_count": 97,
   "metadata": {},
   "outputs": [
    {
     "name": "stdout",
     "output_type": "stream",
     "text": [
      "1.0\n"
     ]
    }
   ],
   "source": [
    "z_3 = z_3_0+z_3_1+z_3_2+z_3_3+z_3_4+z_3_5+z_3_6+z_3_7+z_3_8+z_3_9\n",
    "print(z_3)\n",
    "#合わせて1になった"
   ]
  },
  {
   "cell_type": "code",
   "execution_count": 101,
   "metadata": {},
   "outputs": [
    {
     "name": "stdout",
     "output_type": "stream",
     "text": [
      "[0.10029007 0.10145088 0.09979314 0.09884244 0.0994708  0.1001264\n",
      " 0.09938001 0.10185333 0.09842672 0.10036621]\n"
     ]
    }
   ],
   "source": [
    "#上記を20サンプル分合わせる\n",
    "Z3 = np.array([z_3_0,z_3_1,z_3_2,z_3_3,z_3_4,z_3_5,z_3_6,z_3_7,z_3_8,z_3_9])\n",
    "print(Z3)\n"
   ]
  },
  {
   "cell_type": "code",
   "execution_count": 178,
   "metadata": {},
   "outputs": [
    {
     "name": "stdout",
     "output_type": "stream",
     "text": [
      "[0.10029007 0.10145088 0.09979314 0.09884244 0.0994708  0.1001264\n",
      " 0.09938001 0.10185333 0.09842672 0.10036621]\n"
     ]
    }
   ],
   "source": [
    "#手計算したものと合致した\n",
    "print(soft[0])"
   ]
  },
  {
   "cell_type": "markdown",
   "metadata": {},
   "source": [
    "### 関数化"
   ]
  },
  {
   "cell_type": "code",
   "execution_count": 219,
   "metadata": {},
   "outputs": [],
   "source": [
    "B1 =  sigma * np.random.randn(n_nodes1,)\n",
    "B2 =  sigma * np.random.randn(n_nodes2,)\n",
    "B3 =  sigma * np.random.randn(n_output,)"
   ]
  },
  {
   "cell_type": "code",
   "execution_count": 185,
   "metadata": {
    "code_folding": []
   },
   "outputs": [],
   "source": [
    "#関数化\n",
    "def forward(X):\n",
    "    #一層目の変数作成\n",
    "    n_features = 784\n",
    "    n_nodes1 = 400\n",
    "    sigma = 0.01 # ガウス分布の標準偏差\n",
    "    W1 = sigma * np.random.randn(n_features, n_nodes1)\n",
    "    B1 =  sigma * np.random.randn(n_nodes1,)\n",
    "    \n",
    "    #1層目の一次関数の計算\n",
    "    A1 = np.dot(X,W1)+B1\n",
    "    #(20,400)\n",
    "    #1層目の活性化関数　ハイパポリックタンジェント関数で\n",
    "    Z1 =np.tanh(A1)\n",
    "    #(20,400)\n",
    "    \n",
    "    #2層目の重みとバイアス作成\n",
    "    n_nodes2 = 200\n",
    "    W2 = sigma * np.random.randn(n_nodes1, n_nodes2)\n",
    "    B2 =  sigma * np.random.randn(n_nodes2,)\n",
    "    \n",
    "    #2層目の一次関数\n",
    "    A2 = np.dot(x_1_h,W2)+B2\n",
    "    #(20,200)\n",
    "    \n",
    "    #2層目の活性化関数　ハイパポリックタンジェント関数で\n",
    "    Z2 =np.tanh(A2)\n",
    "    #(20,200)\n",
    "    \n",
    "    #3層目の重みとバイアス作成\n",
    "    n_output = 10\n",
    "    W3 = sigma * np.random.randn(n_nodes2, n_output)\n",
    "    B3 =  sigma * np.random.randn(n_output,)\n",
    "    \n",
    "    #3層目の一次関数\n",
    "    A3 = np.dot(x_2_k,W3)+B3\n",
    "    #(20,10)\n",
    "    \n",
    "    batchi_sumple = 20\n",
    "    #20サンプルのソフトマックス分子作成\n",
    "    bunbo = np.sum(np.exp(A3),axis=1)\n",
    "    #20サンプル、10クラスと割り算できるようにリシェーぷ\n",
    "    bunboT = np.reshape(bunbo,[batchi_sumple,1])\n",
    "    #ソフトマックス計算\n",
    "    Z3 = np.exp(A3)/bunboT\n",
    "    \n",
    "    return Z3,W3,Z2,A2,W2,Z1,A1,W1"
   ]
  },
  {
   "cell_type": "code",
   "execution_count": 186,
   "metadata": {},
   "outputs": [],
   "source": [
    "Z3,W3,Z2,A2,W2,Z1,A1,W1 = forward(get_mini_batch[6][0])"
   ]
  },
  {
   "cell_type": "code",
   "execution_count": 165,
   "metadata": {
    "code_folding": []
   },
   "outputs": [],
   "source": [
    "#print(Z)"
   ]
  },
  {
   "cell_type": "code",
   "execution_count": 168,
   "metadata": {},
   "outputs": [],
   "source": [
    "get_mini_batch = GetMiniBatch(X_train, y_train, batch_size=20)"
   ]
  },
  {
   "cell_type": "code",
   "execution_count": 171,
   "metadata": {
    "code_folding": []
   },
   "outputs": [],
   "source": [
    "for mini_X_train, mini_y_train in get_mini_batch:\n",
    "    # このfor文内でミニバッチが使える\n",
    "    forward(get_mini_batch)\n",
    "    pass"
   ]
  },
  {
   "cell_type": "markdown",
   "metadata": {},
   "source": [
    "## 【問題3】交差エントロピー誤差の実装"
   ]
  },
  {
   "cell_type": "code",
   "execution_count": 177,
   "metadata": {},
   "outputs": [
    {
     "data": {
      "text/plain": [
       "4.612628397726519"
      ]
     },
     "execution_count": 177,
     "metadata": {},
     "output_type": "execute_result"
    }
   ],
   "source": [
    "#とりあえず計算\n",
    "-np.sum(Z_y6*np.log(Z))/n_output"
   ]
  },
  {
   "cell_type": "code",
   "execution_count": 202,
   "metadata": {},
   "outputs": [],
   "source": [
    "#print(get_mini_batch[6][1])"
   ]
  },
  {
   "cell_type": "code",
   "execution_count": 175,
   "metadata": {},
   "outputs": [],
   "source": [
    "Z_y6 = get_mini_batch[6][1]"
   ]
  },
  {
   "cell_type": "markdown",
   "metadata": {},
   "source": [
    "## 【問題4】バックプロパゲーションの実装"
   ]
  },
  {
   "cell_type": "markdown",
   "metadata": {},
   "source": [
    "**備忘：それぞれの勾配を計算して、勾配に学習率αを掛けたものを、元の重みとバイアスからひく**"
   ]
  },
  {
   "cell_type": "markdown",
   "metadata": {},
   "source": [
    "### 計算の流れ"
   ]
  },
  {
   "cell_type": "markdown",
   "metadata": {},
   "source": [
    "#### 3層目"
   ]
  },
  {
   "cell_type": "code",
   "execution_count": 107,
   "metadata": {},
   "outputs": [
    {
     "name": "stdout",
     "output_type": "stream",
     "text": [
      "[0. 0. 0. 0. 1. 0. 0. 0. 0. 0.]\n"
     ]
    }
   ],
   "source": [
    "#A3の勾配 →Z3-Y\n",
    "print(y_train[6])\n",
    "y6 = get_mini_batch[6][1]\n",
    "#A3_new = Z3-y6 #(20,10)"
   ]
  },
  {
   "cell_type": "code",
   "execution_count": 222,
   "metadata": {
    "code_folding": []
   },
   "outputs": [],
   "source": [
    "#B3 → A3_new のJ番目のサンプルをバッチサイズ分sum  =  A3_new\n",
    "#(20,10) →＃(10,)\n",
    "B3_new = np.sum(A3_new,axis = 0)"
   ]
  },
  {
   "cell_type": "code",
   "execution_count": 189,
   "metadata": {},
   "outputs": [],
   "source": [
    "#W3 → Z2のT dot A3_new\n",
    "#(200,10)\n",
    "W3_new = np.dot(Z2.T,A3_new)"
   ]
  },
  {
   "cell_type": "code",
   "execution_count": 191,
   "metadata": {},
   "outputs": [],
   "source": [
    "#Z2 →A3new dot W3.T\n",
    "#(20,200)\n",
    "Z2_new = np.dot(A3_new,W3.T)"
   ]
  },
  {
   "cell_type": "markdown",
   "metadata": {},
   "source": [
    "#### 2層目"
   ]
  },
  {
   "cell_type": "code",
   "execution_count": 193,
   "metadata": {},
   "outputs": [],
   "source": [
    "#A2 →Z2 アマダーる（1-tan2(A2))\n",
    "#(20,200)\n",
    "A2_new = Z2_new*(1-np.tanh(A2)**2)"
   ]
  },
  {
   "cell_type": "code",
   "execution_count": 223,
   "metadata": {},
   "outputs": [],
   "source": [
    "#B2 → A2_new のJ番目のサンプルをバッチサイズ分sum  =  A2_new\n",
    "#(20,200) →200\n",
    "B2_new = np.sum(A2_new,axis = 0)"
   ]
  },
  {
   "cell_type": "code",
   "execution_count": 195,
   "metadata": {},
   "outputs": [],
   "source": [
    "#W2 → Z1.T dot A2_new\n",
    "# (400,200)\n",
    "W2_new = np.dot(Z1.T,A2_new)"
   ]
  },
  {
   "cell_type": "code",
   "execution_count": 196,
   "metadata": {},
   "outputs": [],
   "source": [
    "#Z1 = A2_new dot W2.T\n",
    "# (20,400)\n",
    "Z1_new = np.dot(A2_new,W2.T)"
   ]
  },
  {
   "cell_type": "markdown",
   "metadata": {},
   "source": [
    "#### 1層目"
   ]
  },
  {
   "cell_type": "code",
   "execution_count": 198,
   "metadata": {},
   "outputs": [
    {
     "name": "stderr",
     "output_type": "stream",
     "text": [
      "//anaconda3/lib/python3.7/site-packages/ipykernel_launcher.py:3: RuntimeWarning: invalid value encountered in power\n",
      "  This is separate from the ipykernel package so we can avoid doing imports until\n"
     ]
    }
   ],
   "source": [
    "#A1 = Z1 アダマール (1-tan(A1)**2)\n",
    "#(20,400)\n",
    "A1_new  = Z1_new**(1-np.tanh(A1)**2)"
   ]
  },
  {
   "cell_type": "code",
   "execution_count": 224,
   "metadata": {},
   "outputs": [],
   "source": [
    "#B1 =  A1_new のJ番目のサンプルをバッチサイズ分sum  =  A1_new\n",
    "#(20,400)\n",
    "B1_new = np.sum(A1_new,axis = 0)"
   ]
  },
  {
   "cell_type": "code",
   "execution_count": 33,
   "metadata": {},
   "outputs": [],
   "source": [
    "#W1 = X.T dot A1_new\n",
    "#(784,400)\n",
    "X6 = get_mini_batch[6][0]\n",
    "#W1_new = np.dot(X6.T,A1_new)"
   ]
  },
  {
   "cell_type": "code",
   "execution_count": 203,
   "metadata": {},
   "outputs": [],
   "source": [
    "#バイアス更新\n",
    "α = 0.0001\n",
    "W3 -= α*W3_new"
   ]
  },
  {
   "cell_type": "code",
   "execution_count": 206,
   "metadata": {},
   "outputs": [],
   "source": [
    "#print(W3)"
   ]
  },
  {
   "cell_type": "markdown",
   "metadata": {},
   "source": [
    "### 関数化"
   ]
  },
  {
   "cell_type": "code",
   "execution_count": 225,
   "metadata": {},
   "outputs": [],
   "source": [
    "def backpro(X,y,α,Z3,W3,Z2,A2,W2,Z1,A1,W1,B3,B2,B1):\n",
    "    #3層目\n",
    "    A3_new = Z3-y    \n",
    "    B3_new = np.sum(A3_new,axis = 0)\n",
    "    W3_new = np.dot(Z2.T,A3_new)\n",
    "    Z2_new = np.dot(A3_new,W3.T)\n",
    "    #2層目\n",
    "    A2_new = Z2_new*(1-np.tanh(A2)**2)\n",
    "    B2_new = np.sum(A2_new,axis = 0)\n",
    "    W2_new = np.dot(Z1.T,A2_new)\n",
    "    Z1_new = np.dot(A2_new,W2.T)\n",
    "    #1層目\n",
    "    A1_new  = Z1_new**(1-np.tanh(A1)**2)\n",
    "    B1_new = np.sum(A1_new,axis = 0)\n",
    "    W1_new = np.dot(X.T,A1_new)\n",
    "    \n",
    "    #バイアス更新\n",
    "    W3 -= α*W3_new\n",
    "    B3 -= α*B3_new\n",
    "    W2 -= α*W2_new\n",
    "    B2 -= α*B2_new\n",
    "    W1 -= α*W1_new\n",
    "    B1 -= α*B1_new\n",
    "    \n",
    "    return W3,B3,W2,B2,W1,B1    "
   ]
  },
  {
   "cell_type": "markdown",
   "metadata": {},
   "source": [
    "## 【問題5】推定"
   ]
  },
  {
   "cell_type": "code",
   "execution_count": 228,
   "metadata": {},
   "outputs": [],
   "source": [
    "def pred(X):\n",
    "    Z3,W3,Z2,A2,W2,Z1,A1,W1=forward(X)\n",
    "    pred = np.argmax(Z3,axis = 1)\n",
    "    return pred"
   ]
  },
  {
   "cell_type": "code",
   "execution_count": 229,
   "metadata": {},
   "outputs": [
    {
     "data": {
      "text/plain": [
       "array([8, 8, 8, 8, 8, 8, 8, 8, 8, 8, 8, 8, 8, 8, 8, 8, 8, 8, 8, 8])"
      ]
     },
     "execution_count": 229,
     "metadata": {},
     "output_type": "execute_result"
    }
   ],
   "source": [
    "pred(X6)"
   ]
  },
  {
   "cell_type": "markdown",
   "metadata": {},
   "source": [
    "## 【問題6】学習と推定"
   ]
  },
  {
   "cell_type": "markdown",
   "metadata": {},
   "source": [
    "### 全て合わせてクラス化"
   ]
  },
  {
   "cell_type": "code",
   "execution_count": 144,
   "metadata": {
    "code_folding": []
   },
   "outputs": [],
   "source": [
    "class ScratchSimpleNeuralNetrowkClassifier():\n",
    "    \n",
    "    def __init__(self, iter_num = 100,verbose = True,α=0.00001,n_features = 784,n_nodes1 = 400,sigma = 0.01,n_nodes2 = 200,n_output = 10,batchi_sumple=20):\n",
    "        self.verbose = verbose\n",
    "        self.α = α\n",
    "        self.n_features =n_features\n",
    "        self.n_nodes1 = n_nodes1\n",
    "        self.sigma = sigma\n",
    "        self.n_nodes2=n_nodes2\n",
    "        self.n_output=n_output\n",
    "        self.batchi_sumple =batchi_sumple\n",
    "        self.iter_num = iter_num\n",
    "        \n",
    "        pass\n",
    "    \n",
    "    def _first_set(self):\n",
    "        #一層目の変数作成\n",
    "        self.W1= self.sigma * np.random.randn(self.n_features, self.n_nodes1)\n",
    "        self.B1 =  np.random.randn(self.n_nodes1,)\n",
    "        \n",
    "        #2層目の重みとバイアス作成\n",
    "        self.W2 = self.sigma * np.random.randn(self.n_nodes1, self.n_nodes2)\n",
    "        self.B2 =  np.random.randn(self.n_nodes2,)\n",
    "        \n",
    "        #3層目の重みとバイアス作成\n",
    "        self.W3 = self.sigma * np.random.randn(self.n_nodes2, self.n_output)\n",
    "        self.B3 =  np.random.randn(self.n_output,)\n",
    "        pass\n",
    "        \n",
    "    def _forward(self,X):    \n",
    "        #1層目の一次関数の計算\n",
    "        A1 = np.dot(X,self.W1)+self.B1\n",
    "        #1層目の活性化関数　ハイパポリックタンジェント関数で\n",
    "        Z1 =np.tanh(A1)\n",
    "\n",
    "        #2層目の一次関数\n",
    "        A2 = np.dot(Z1,self.W2)+self.B2\n",
    "        #2層目の活性化関数　ハイパポリックタンジェント関数で\n",
    "        Z2 =np.tanh(A2)\n",
    "        \n",
    "        #3層目の一次関数\n",
    "        A3 = np.dot(A2,self.W3)+self.B3\n",
    "        \n",
    "        #20サンプルのソフトマックス分子作成\n",
    "        bunbo = np.sum(np.exp(A3),axis=1)\n",
    "        #20サンプル、10クラスと割り算できるようにリシェーぷ\n",
    "        bunboT = np.reshape(bunbo,[X.shape[0],1])\n",
    "        #ソフトマックス計算でZ3算出\n",
    "        Z3 = np.exp(A3)/bunboT\n",
    "        \n",
    "        return Z3,Z2,A2,Z1,A1\n",
    "    \n",
    "    def _backpro(self,X,y,Z3,Z2,A2,Z1,A1):\n",
    "        #3層目\n",
    "        A3_new = Z3-y    \n",
    "        B3_new = np.sum(A3_new,axis = 0)\n",
    "        W3_new = np.dot(Z2.T,A3_new)\n",
    "        Z2_new = np.dot(A3_new,self.W3.T)\n",
    "        #2層目\n",
    "        A2_new = Z2_new*(1-np.tanh(A2)**2)\n",
    "        B2_new = np.sum(A2_new,axis = 0)\n",
    "        W2_new = np.dot(Z1.T,A2_new)\n",
    "        Z1_new = np.dot(A2_new,self.W2.T)\n",
    "        #1層目\n",
    "        A1_new  = Z1_new*(1-np.tanh(A1)**2)\n",
    "        B1_new = np.sum(A1_new,axis = 0)\n",
    "        W1_new = np.dot(X.T,A1_new)\n",
    "        #バイアス更新\n",
    "        self.W3 -= self.α*W3_new\n",
    "        self.B3 -= self.α*B3_new\n",
    "        self.W2 -= self.α*W2_new\n",
    "        self.B2 -= self.α*B2_new\n",
    "        self.W1 -= self.α*W1_new\n",
    "        self.B1 -= self.α*B1_new\n",
    "        \n",
    "        pass   \n",
    "    \n",
    "    \n",
    "    def fit(self, X, y, X_val=None, y_val=None):\n",
    "        \"\"\"\n",
    "        ニューラルネットワーク分類器を学習する。\n",
    "\n",
    "        Parameters\n",
    "        ----------\n",
    "        X : 次の形のndarray, shape (n_samples, n_features)\n",
    "            訓練用データの特徴量\n",
    "        y : 次の形のndarray, shape (n_samples, )\n",
    "            訓練用データの正解値\n",
    "        X_val : 次の形のndarray, shape (n_samples, n_features)\n",
    "            検証用データの特徴量\n",
    "        y_val : 次の形のndarray, shape (n_samples, )\n",
    "            検証用データの正解値\n",
    "        \"\"\"\n",
    "        self._first_set()\n",
    "        \n",
    "        get_mini_batch = GetMiniBatch(X, y, batch_size=self.batchi_sumple)\n",
    "        loss_list = []\n",
    "        \n",
    "        if self.verbose == True:\n",
    "            for i in range(self.iter_num):\n",
    "                for mini_X_train, mini_y_train in get_mini_batch:\n",
    "                    #verboseをTrueにした際は学習過程などを出力する\n",
    "                    Z3,Z2,A2,Z1,A1=self._forward(mini_X_train)\n",
    "                    self._backpro(mini_X_train,mini_y_train,Z3,Z2,A2,Z1,A1)\n",
    "                loss = -np.sum(mini_y_train*np.log(Z3))/self.n_output\n",
    "                loss_list.append(loss)\n",
    "            return loss_list\n",
    "        else:\n",
    "            for i in range(self.iter_num):\n",
    "                for mini_X_train, mini_y_train in get_mini_batch:\n",
    "                    Z3,Z2,A2,Z1,A1=self._forward(mini_X_train)\n",
    "                    self._backpro(mini_X_train,mini_y_train,Z3,Z2,A2,Z1,A1)\n",
    "            pass\n",
    "\n",
    "    def predict(self, X):\n",
    "        \"\"\"\n",
    "        ニューラルネットワーク分類器を使い推定する。\n",
    "\n",
    "        Parameters\n",
    "        ----------\n",
    "        X : 次の形のndarray, shape (n_samples, n_features)\n",
    "            サンプル\n",
    "\n",
    "        Returns\n",
    "        -------\n",
    "            次の形のndarray, shape (n_samples, 1)\n",
    "            推定結果\n",
    "        \"\"\"\n",
    "        Z3,Z2,A2,Z1,A1=self._forward(X)\n",
    "        pred = np.argmax(Z3,axis = 1)\n",
    "        \n",
    "        return pred,Z3"
   ]
  },
  {
   "cell_type": "code",
   "execution_count": 145,
   "metadata": {},
   "outputs": [],
   "source": [
    "NN =ScratchSimpleNeuralNetrowkClassifier()"
   ]
  },
  {
   "cell_type": "code",
   "execution_count": 146,
   "metadata": {},
   "outputs": [],
   "source": [
    "loss_list = NN.fit(X_train, y_train)"
   ]
  },
  {
   "cell_type": "code",
   "execution_count": 148,
   "metadata": {},
   "outputs": [],
   "source": [
    "pred6,Z3 = NN.predict(X6)"
   ]
  },
  {
   "cell_type": "code",
   "execution_count": 149,
   "metadata": {},
   "outputs": [
    {
     "name": "stdout",
     "output_type": "stream",
     "text": [
      "[4 8 6 3 3 7 1 7 7 6 2 2 9 0 9 1 4 1 6 0]\n"
     ]
    }
   ],
   "source": [
    "print(pred6)"
   ]
  },
  {
   "cell_type": "code",
   "execution_count": 123,
   "metadata": {},
   "outputs": [
    {
     "name": "stdout",
     "output_type": "stream",
     "text": [
      "[4 8 2 3 3 7 1 7 7 6 2 2 9 0 9 1 4 1 6 0]\n"
     ]
    }
   ],
   "source": [
    "print(y6_pre)\n",
    "y6_pre = np.argmax(y6,axis = 1)"
   ]
  },
  {
   "cell_type": "code",
   "execution_count": 139,
   "metadata": {},
   "outputs": [],
   "source": [
    "y_val\n",
    "y_test = np.argmax(y_val,axis = 1)"
   ]
  },
  {
   "cell_type": "code",
   "execution_count": 150,
   "metadata": {},
   "outputs": [],
   "source": [
    "pred_val,Z3_val = NN.predict(X_val)\n",
    "#X_val,, y_val"
   ]
  },
  {
   "cell_type": "code",
   "execution_count": 127,
   "metadata": {},
   "outputs": [
    {
     "data": {
      "text/plain": [
       "12000"
      ]
     },
     "execution_count": 127,
     "metadata": {},
     "output_type": "execute_result"
    }
   ],
   "source": [
    "X_val.shape[0]"
   ]
  },
  {
   "cell_type": "code",
   "execution_count": 135,
   "metadata": {},
   "outputs": [],
   "source": [
    "from sklearn.metrics import accuracy_score"
   ]
  },
  {
   "cell_type": "code",
   "execution_count": 151,
   "metadata": {},
   "outputs": [
    {
     "name": "stdout",
     "output_type": "stream",
     "text": [
      "0.86\n"
     ]
    }
   ],
   "source": [
    "#アキュラシー算出\n",
    "print(accuracy_score(y_test, pred_val))"
   ]
  },
  {
   "cell_type": "markdown",
   "metadata": {},
   "source": [
    "## 【問題7】学習曲線のプロット"
   ]
  },
  {
   "cell_type": "code",
   "execution_count": 124,
   "metadata": {},
   "outputs": [],
   "source": [
    "#print(y6)"
   ]
  },
  {
   "cell_type": "code",
   "execution_count": 152,
   "metadata": {},
   "outputs": [
    {
     "name": "stdout",
     "output_type": "stream",
     "text": [
      "100\n"
     ]
    }
   ],
   "source": [
    "print(len(loss_list))"
   ]
  },
  {
   "cell_type": "code",
   "execution_count": 105,
   "metadata": {},
   "outputs": [],
   "source": [
    "#print(Z3)"
   ]
  },
  {
   "cell_type": "code",
   "execution_count": 153,
   "metadata": {},
   "outputs": [],
   "source": [
    "aaaa = np.arange(0,len(loss_list))"
   ]
  },
  {
   "cell_type": "code",
   "execution_count": 154,
   "metadata": {},
   "outputs": [
    {
     "data": {
      "image/png": "[encoded data removed]",
      "text/plain": [
       "<Figure size 432x288 with 1 Axes>"
      ]
     },
     "metadata": {
      "needs_background": "light"
     },
     "output_type": "display_data"
    }
   ],
   "source": [
    "plt.title(\"sonsitu\")\n",
    "plt.xlabel('kaisu')\n",
    "plt.ylabel('son')\n",
    "plt.grid()\n",
    "plt.plot(aaaa,loss_list)\n",
    "plt.show()"
   ]
  },
  {
   "cell_type": "markdown",
   "metadata": {},
   "source": [
    "## 【問題8】（アドバンス課題）誤分類の確認"
   ]
  },
  {
   "cell_type": "code",
   "execution_count": 156,
   "metadata": {},
   "outputs": [
    {
     "data": {
      "image/png": "[encoded data removed]",
      "text/plain": [
       "<Figure size 432x432 with 10 Axes>"
      ]
     },
     "metadata": {},
     "output_type": "display_data"
    }
   ],
   "source": [
    "import numpy as np\n",
    "import matplotlib.pyplot as plt\n",
    "\n",
    "num = 10 # いくつ表示するか\n",
    "\n",
    "true_false = y_test==pred_val\n",
    "false_list = np.where(true_false==False)[0].astype(np.int)\n",
    "\n",
    "if false_list.shape[0] < num:\n",
    "    num = false_list.shape[0]\n",
    "fig = plt.figure(figsize=(6, 6))\n",
    "fig.subplots_adjust(left=0, right=0.8,  bottom=0, top=0.8, hspace=1, wspace=0.5)\n",
    "for i in range(num):\n",
    "    ax = fig.add_subplot(6, 6, i + 1, xticks=[], yticks=[])\n",
    "    ax.set_title(\"{} / {}\".format(pred_val[false_list[i]],y_val[false_list[i]]))\n",
    "    ax.imshow(X_val.reshape(-1,28,28)[false_list[i]], cmap='gray')"
   ]
  },
  {
   "cell_type": "markdown",
   "metadata": {},
   "source": [
    "## 色々検証"
   ]
  },
  {
   "cell_type": "code",
   "execution_count": 157,
   "metadata": {
    "code_folding": [
     0
    ]
   },
   "outputs": [],
   "source": [
    "class ScratchSimpleNeuralNetrowkClassifier_K():\n",
    "    \n",
    "    def __init__(self, iter_num = 200,verbose = True,α=0.00001,n_features = 784,n_nodes1 = 400,sigma = 0.01,n_nodes2 = 200,n_output = 10,batchi_sumple=20):\n",
    "        self.verbose = verbose\n",
    "        self.α = α\n",
    "        self.n_features =n_features\n",
    "        self.n_nodes1 = n_nodes1\n",
    "        self.sigma = sigma\n",
    "        self.n_nodes2=n_nodes2\n",
    "        self.n_output=n_output\n",
    "        self.batchi_sumple =batchi_sumple\n",
    "        self.iter_num = iter_num\n",
    "        \n",
    "        pass\n",
    "    \n",
    "    def _first_set(self):\n",
    "        #一層目の変数作成\n",
    "        self.W1= self.sigma * np.random.randn(self.n_features, self.n_nodes1)\n",
    "        self.B1 =  np.random.randn(self.n_nodes1,)\n",
    "        \n",
    "        #2層目の重みとバイアス作成\n",
    "        self.W2 = self.sigma * np.random.randn(self.n_nodes1, self.n_nodes2)\n",
    "        self.B2 =  np.random.randn(self.n_nodes2,)\n",
    "        \n",
    "        #3層目の重みとバイアス作成\n",
    "        self.W3 = self.sigma * np.random.randn(self.n_nodes2, self.n_output)\n",
    "        self.B3 =  np.random.randn(self.n_output,)\n",
    "        pass\n",
    "        \n",
    "    def _forward(self,X):    \n",
    "        #1層目の一次関数の計算\n",
    "        A1 = np.dot(X,self.W1)+self.B1\n",
    "        #1層目の活性化関数　ハイパポリックタンジェント関数で\n",
    "        Z1 =np.tanh(A1)\n",
    "\n",
    "        #2層目の一次関数\n",
    "        A2 = np.dot(Z1,self.W2)+self.B2\n",
    "        #2層目の活性化関数　ハイパポリックタンジェント関数で\n",
    "        Z2 =np.tanh(A2)\n",
    "        \n",
    "        #3層目の一次関数\n",
    "        A3 = np.dot(A2,self.W3)+self.B3\n",
    "        \n",
    "        #20サンプルのソフトマックス分子作成\n",
    "        bunbo = np.sum(np.exp(A3),axis=1)\n",
    "        #20サンプル、10クラスと割り算できるようにリシェーぷ\n",
    "        bunboT = np.reshape(bunbo,[X.shape[0],1])\n",
    "        #ソフトマックス計算でZ3算出\n",
    "        Z3 = np.exp(A3)/bunboT\n",
    "        \n",
    "        return Z3,Z2,A2,Z1,A1\n",
    "    \n",
    "    def _backpro(self,X,y,Z3,Z2,A2,Z1,A1):\n",
    "        #3層目\n",
    "        A3_new = Z3-y    \n",
    "        B3_new = np.sum(A3_new,axis = 0)\n",
    "        W3_new = np.dot(Z2.T,A3_new)\n",
    "        Z2_new = np.dot(A3_new,self.W3.T)\n",
    "        #2層目\n",
    "        A2_new = Z2_new*(1-np.tanh(A2)**2)\n",
    "        B2_new = np.sum(A2_new,axis = 0)\n",
    "        W2_new = np.dot(Z1.T,A2_new)\n",
    "        Z1_new = np.dot(A2_new,self.W2.T)\n",
    "        #1層目\n",
    "        A1_new  = Z1_new*(1-np.tanh(A1)**2)\n",
    "        B1_new = np.sum(A1_new,axis = 0)\n",
    "        W1_new = np.dot(X.T,A1_new)\n",
    "        #バイアス更新\n",
    "        self.W3 -= self.α*W3_new\n",
    "        self.B3 -= self.α*B3_new\n",
    "        self.W2 -= self.α*W2_new\n",
    "        self.B2 -= self.α*B2_new\n",
    "        self.W1 -= self.α*W1_new\n",
    "        self.B1 -= self.α*B1_new\n",
    "        \n",
    "        pass   \n",
    "    \n",
    "    \n",
    "    def fit(self, X, y, X_val=None, y_val=None):\n",
    "        \"\"\"\n",
    "        ニューラルネットワーク分類器を学習する。\n",
    "\n",
    "        Parameters\n",
    "        ----------\n",
    "        X : 次の形のndarray, shape (n_samples, n_features)\n",
    "            訓練用データの特徴量\n",
    "        y : 次の形のndarray, shape (n_samples, )\n",
    "            訓練用データの正解値\n",
    "        X_val : 次の形のndarray, shape (n_samples, n_features)\n",
    "            検証用データの特徴量\n",
    "        y_val : 次の形のndarray, shape (n_samples, )\n",
    "            検証用データの正解値\n",
    "        \"\"\"\n",
    "        self._first_set()\n",
    "        \n",
    "        get_mini_batch = GetMiniBatch(X, y, batch_size=self.batchi_sumple)\n",
    "        loss_list = []\n",
    "        \n",
    "        if self.verbose == True:\n",
    "            for i in range(self.iter_num):\n",
    "                for mini_X_train, mini_y_train in get_mini_batch:\n",
    "                    #verboseをTrueにした際は学習過程などを出力する\n",
    "                    Z3,Z2,A2,Z1,A1=self._forward(mini_X_train)\n",
    "                    self._backpro(mini_X_train,mini_y_train,Z3,Z2,A2,Z1,A1)\n",
    "                loss = -np.sum(mini_y_train*np.log(Z3))/self.n_output\n",
    "                loss_list.append(loss)\n",
    "            return loss_list\n",
    "        else:\n",
    "            for i in range(self.iter_num):\n",
    "                for mini_X_train, mini_y_train in get_mini_batch:\n",
    "                    Z3,Z2,A2,Z1,A1=self._forward(mini_X_train)\n",
    "                    self._backpro(mini_X_train,mini_y_train,Z3,Z2,A2,Z1,A1)\n",
    "            pass\n",
    "\n",
    "    def predict(self, X):\n",
    "        \"\"\"\n",
    "        ニューラルネットワーク分類器を使い推定する。\n",
    "\n",
    "        Parameters\n",
    "        ----------\n",
    "        X : 次の形のndarray, shape (n_samples, n_features)\n",
    "            サンプル\n",
    "\n",
    "        Returns\n",
    "        -------\n",
    "            次の形のndarray, shape (n_samples, 1)\n",
    "            推定結果\n",
    "        \"\"\"\n",
    "        Z3,Z2,A2,Z1,A1=self._forward(X)\n",
    "        pred = np.argmax(Z3,axis = 1)\n",
    "        \n",
    "        return pred,Z3"
   ]
  },
  {
   "cell_type": "code",
   "execution_count": null,
   "metadata": {},
   "outputs": [],
   "source": [
    "#200回にしてみる"
   ]
  },
  {
   "cell_type": "code",
   "execution_count": 158,
   "metadata": {},
   "outputs": [],
   "source": [
    "NN_K =ScratchSimpleNeuralNetrowkClassifier_K()"
   ]
  },
  {
   "cell_type": "code",
   "execution_count": 162,
   "metadata": {},
   "outputs": [],
   "source": [
    "loss_list_K = NN_K.fit(X_train, y_train)"
   ]
  },
  {
   "cell_type": "code",
   "execution_count": 163,
   "metadata": {},
   "outputs": [],
   "source": [
    "pred_val_k,Z3_val_k = NN_K.predict(X_val)"
   ]
  },
  {
   "cell_type": "code",
   "execution_count": 164,
   "metadata": {},
   "outputs": [
    {
     "name": "stdout",
     "output_type": "stream",
     "text": [
      "0.90125\n"
     ]
    }
   ],
   "source": [
    "#アキュラシー算出\n",
    "print(accuracy_score(y_test, pred_val_k))\n",
    "#200回にすると90超えるまで上がったけども、実行時間がかかりすぎなので200までで断念する"
   ]
  },
  {
   "cell_type": "code",
   "execution_count": 165,
   "metadata": {},
   "outputs": [],
   "source": [
    "aaaa_k = np.arange(0,len(loss_list_K))"
   ]
  },
  {
   "cell_type": "code",
   "execution_count": 166,
   "metadata": {},
   "outputs": [
    {
     "data": {
      "image/png": "[encoded data removed]",
      "text/plain": [
       "<Figure size 432x288 with 1 Axes>"
      ]
     },
     "metadata": {
      "needs_background": "light"
     },
     "output_type": "display_data"
    }
   ],
   "source": [
    "plt.title(\"sonsitu\")\n",
    "plt.xlabel('kaisu')\n",
    "plt.ylabel('son')\n",
    "plt.grid()\n",
    "plt.plot(aaaa_k,loss_list_K)\n",
    "plt.show()"
   ]
  }
 ],
 "metadata": {
  "kernelspec": {
   "display_name": "Python 3",
   "language": "python",
   "name": "python3"
  },
  "language_info": {
   "codemirror_mode": {
    "name": "ipython",
    "version": 3
   },
   "file_extension": ".py",
   "mimetype": "text/x-python",
   "name": "python",
   "nbconvert_exporter": "python",
   "pygments_lexer": "ipython3",
   "version": "3.7.3"
  },
  "toc": {
   "base_numbering": 1,
   "nav_menu": {},
   "number_sections": true,
   "sideBar": true,
   "skip_h1_title": false,
   "title_cell": "Table of Contents",
   "title_sidebar": "Contents",
   "toc_cell": false,
   "toc_position": {
    "height": "calc(100% - 180px)",
    "left": "10px",
    "top": "150px",
    "width": "329.4117431640625px"
   },
   "toc_section_display": true,
   "toc_window_display": true
  },
  "varInspector": {
   "cols": {
    "lenName": 16,
    "lenType": 16,
    "lenVar": 40
   },
   "kernels_config": {
    "python": {
     "delete_cmd_postfix": "",
     "delete_cmd_prefix": "del ",
     "library": "var_list.py",
     "varRefreshCmd": "print(var_dic_list())"
    },
    "r": {
     "delete_cmd_postfix": ") ",
     "delete_cmd_prefix": "rm(",
     "library": "var_list.r",
     "varRefreshCmd": "cat(var_dic_list()) "
    }
   },
   "oldHeight": 281,
   "position": {
    "height": "262.9963073730469px",
    "left": "17.952205657958984px",
    "right": "20px",
    "top": "556.8896484375px",
    "width": "350px"
   },
   "types_to_exclude": [
    "module",
    "function",
    "builtin_function_or_method",
    "instance",
    "_Feature"
   ],
   "varInspector_section_display": "block",
   "window_display": false
  }
 },
 "nbformat": 4,
 "nbformat_minor": 2
}
