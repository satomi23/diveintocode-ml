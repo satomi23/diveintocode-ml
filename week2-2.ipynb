{
 "cells": [
  {
   "cell_type": "markdown",
   "metadata": {},
   "source": [
    "# Week2授業課題2 富士下山問題"
   ]
  },
  {
   "cell_type": "markdown",
   "metadata": {},
   "source": [
    "## 【問題1】データの可視化"
   ]
  },
  {
   "cell_type": "code",
   "execution_count": 31,
   "metadata": {},
   "outputs": [
    {
     "name": "stdout",
     "output_type": "stream",
     "text": [
      "[[  130.          35.352505   138.756638  2563.4      41888.      ]\n",
      " [  131.          35.35418    138.753742  2703.1      42210.      ]\n",
      " [  132.          35.355855   138.750846  2825.55     42532.      ]\n",
      " [  133.          35.35753    138.74795   2967.9      42854.      ]\n",
      " [  134.          35.359205   138.745054  3087.81     43177.      ]\n",
      " [  135.          35.36088    138.742157  3266.24     43499.      ]\n",
      " [  136.          35.362555   138.739261  3434.59     43821.      ]\n",
      " [  137.          35.36423    138.736364  3600.08     44143.      ]\n",
      " [  138.          35.365904   138.733468  3679.96     44466.      ]\n",
      " [  139.          35.367579   138.730571  3664.9      44788.      ]]\n"
     ]
    }
   ],
   "source": [
    "import numpy as np\n",
    "\n",
    "csv_path = \"/Users/toyodasatomi/Downloads/mtfuji_data.csv\"\n",
    "\n",
    "np.set_printoptions(suppress=True)\n",
    "fuji = np.loadtxt(csv_path, delimiter=\",\", skiprows=1)\n",
    "print(fuji[130:140])"
   ]
  },
  {
   "cell_type": "code",
   "execution_count": 32,
   "metadata": {},
   "outputs": [
    {
     "data": {
      "image/png": "[encoded data removed]",
      "text/plain": [
       "<Figure size 432x288 with 1 Axes>"
      ]
     },
     "metadata": {
      "needs_background": "light"
     },
     "output_type": "display_data"
    }
   ],
   "source": [
    "import matplotlib.pyplot as plt\n",
    "\n",
    "plt.title(\"Mt.fuji\")\n",
    "plt.xlabel('now')\n",
    "plt.ylabel('hyokou')\n",
    "\n",
    "plt.plot(fuji[:, 0], fuji[:, 3])\n",
    "plt.show()"
   ]
  },
  {
   "cell_type": "markdown",
   "metadata": {},
   "source": [
    "## 【問題2】ある地点の勾配を計算する関数を作成"
   ]
  },
  {
   "cell_type": "markdown",
   "metadata": {},
   "source": [
    "左から順番に「その地点の番号」「緯度」「経度」「標高」「地点0からの距離」  \n",
    "「今いる地点の番号」と「今いる隣の地点の番号（今いる地点の番号-1）」の関係による勾配を求める関数を作成してください。\n",
    "勾配は以下の式で求まりましたが、このデータでは「標高」がy、「その地点の番号」がxに相当します。"
   ]
  },
  {
   "cell_type": "code",
   "execution_count": 33,
   "metadata": {},
   "outputs": [
    {
     "name": "stdout",
     "output_type": "stream",
     "text": [
      "[[   1.          0.001685   -0.00288     0.        322.      ]\n",
      " [   1.          0.001684   -0.00288     0.        322.      ]\n",
      " [   1.          0.001684   -0.002881    0.        322.      ]\n",
      " ...\n",
      " [   1.          0.001664   -0.002916   29.36      322.      ]\n",
      " [   1.          0.001663   -0.002916 -132.63      322.      ]\n",
      " [   1.          0.001663   -0.002916 -115.56      323.      ]]\n"
     ]
    }
   ],
   "source": [
    "x = fuji[1:]- fuji[:-1]\n",
    "print(x)"
   ]
  },
  {
   "cell_type": "code",
   "execution_count": 34,
   "metadata": {},
   "outputs": [
    {
     "name": "stdout",
     "output_type": "stream",
     "text": [
      "[1. 1. 1. 1. 1. 1. 1. 1. 1. 1. 1. 1. 1. 1. 1. 1. 1. 1. 1. 1. 1. 1. 1. 1.\n",
      " 1. 1. 1. 1. 1. 1. 1. 1. 1. 1. 1. 1. 1. 1. 1. 1. 1. 1. 1. 1. 1. 1. 1. 1.\n",
      " 1. 1. 1. 1. 1. 1. 1. 1. 1. 1. 1. 1. 1. 1. 1. 1. 1. 1. 1. 1. 1. 1. 1. 1.\n",
      " 1. 1. 1. 1. 1. 1. 1. 1. 1. 1. 1. 1. 1. 1. 1. 1. 1. 1. 1. 1. 1. 1. 1. 1.\n",
      " 1. 1. 1. 1. 1. 1. 1. 1. 1. 1. 1. 1. 1. 1. 1. 1. 1. 1. 1. 1. 1. 1. 1. 1.\n",
      " 1. 1. 1. 1. 1. 1. 1. 1. 1. 1. 1. 1. 1. 1. 1. 1. 1. 1. 1. 1. 1. 1. 1. 1.\n",
      " 1. 1. 1. 1. 1. 1. 1. 1. 1. 1. 1. 1. 1. 1. 1. 1. 1. 1. 1. 1. 1. 1. 1. 1.\n",
      " 1. 1. 1. 1. 1. 1. 1. 1. 1. 1. 1. 1. 1. 1. 1. 1. 1. 1. 1. 1. 1. 1. 1. 1.\n",
      " 1. 1. 1. 1. 1. 1. 1. 1. 1. 1. 1. 1. 1. 1. 1. 1. 1. 1. 1. 1. 1. 1. 1. 1.\n",
      " 1. 1. 1. 1. 1. 1. 1. 1. 1. 1. 1. 1. 1. 1. 1. 1. 1. 1. 1. 1. 1. 1. 1. 1.\n",
      " 1. 1. 1. 1. 1. 1. 1. 1. 1. 1. 1. 1. 1. 1. 1. 1. 1. 1. 1. 1. 1. 1. 1. 1.\n",
      " 1. 1. 1. 1. 1. 1. 1. 1. 1. 1. 1. 1. 1. 1. 1. 1. 1. 1. 1. 1. 1. 1. 1. 1.\n",
      " 1. 1. 1. 1. 1. 1. 1. 1. 1. 1. 1.]\n"
     ]
    }
   ],
   "source": [
    "#print(x[:,0])\n",
    "now = x[:,0]\n",
    "print(now)"
   ]
  },
  {
   "cell_type": "code",
   "execution_count": 35,
   "metadata": {},
   "outputs": [
    {
     "name": "stdout",
     "output_type": "stream",
     "text": [
      "[   0.      0.      0.      0.      0.      6.62    0.59    4.99   42.21\n",
      "  117.15    6.28   50.37   47.17  158.38  -62.02    8.32  123.34  -18.01\n",
      "   -7.57  102.68   30.42   44.04  -26.74   -1.58  -54.09  151.4   -22.01\n",
      "  177.53   96.7   -57.01 -102.16  -73.94   27.86   93.14  -37.54  -78.13\n",
      "    7.72  -31.61    0.      0.      0.      0.      0.      0.      0.\n",
      "    0.      0.    127.68   -0.82  -20.36   49.44   74.7  -105.62  -17.92\n",
      "  -41.59  -51.04  109.86 -110.53   -1.82  -64.24 -108.22  -11.79  -54.82\n",
      "   60.87  -55.26  -40.69    7.33  -40.17   24.72  -41.94  -49.98   -6.61\n",
      "   13.23    2.13    0.15    6.43    9.02    3.5    28.27    2.19   22.4\n",
      "   15.66   13.16   16.58   16.7    14.44   17.     17.1    21.43   13.92\n",
      "   13.37   10.68   18.67   28.72   11.93   27.79   25.57   15.45   12.51\n",
      "   18.9    22.67   22.37   41.     25.27   26.61   22.24   40.58   26.92\n",
      "   34.1    25.35   46.11   60.78   53.28   20.11   52.55   67.58   69.65\n",
      "   76.91   55.28   36.42   61.07   67.07   55.48   68.04  103.46  122.67\n",
      "  120.38  110.32  119.25  137.3   139.7   122.45  142.35  119.91  178.43\n",
      "  168.35  165.49   79.88  -15.06  -97.14 -219.33 -176.9  -151.73 -155.24\n",
      " -151.53 -146.43 -116.37 -115.81  -93.44  -94.97  -84.38  -97.9   -59.53\n",
      " -105.21  -50.88  -68.86  -55.52  -32.76  -65.4   -40.85  -55.69  -44.96\n",
      "  -50.56  -27.05  -33.48  -13.74  -36.76  -21.17  -18.99  -21.47  -36.02\n",
      "  -29.1   -14.66  -13.02  -14.77   -3.95   -5.42  -10.39  -11.42  -28.47\n",
      "   -7.97  -15.08  -10.06   -2.08  135.84  109.64  117.28   30.44 -136.51\n",
      " -158.14  -83.38  -73.61    0.      0.    120.79  105.77   29.14 -165.65\n",
      "  -94.89 -171.5  -106.81  -60.06  -54.54   84.98   33.      2.66    8.52\n",
      " -151.73  -52.61  -13.67  -51.91  143.93   86.9   -65.81 -120.55  -14.24\n",
      "  -37.33  133.11   94.66   13.37  -31.83 -138.66  -85.83  -26.45   20.12\n",
      "  -62.55   62.06  108.22   74.36  -92.79  -77.74   79.28  -60.47  -84.3\n",
      "  -16.95   39.    108.72   27.98   53.34   10.93  -71.01   32.03   -6.89\n",
      "   46.83   39.07  207.23  105.92  -33.83   94.6   -14.35  177.7    81.87\n",
      "   29.91  -46.79 -157.68  -57.25  -19.44   62.82  169.09  101.86  112.17\n",
      "  175.05   68.55  134.46   21.92  122.75 -160.94   27.42   31.87 -160.1\n",
      "   63.2   -35.87   -8.86  -68.49 -128.4   -47.47 -108.29   66.07   27.47\n",
      "  -66.71   27.99 -137.47 -283.68  121.63  116.97  217.68  137.64  170.79\n",
      "   51.78  185.89  183.99  110.36  -54.32  -74.2  -166.27   26.39   29.36\n",
      " -132.63 -115.56]\n"
     ]
    }
   ],
   "source": [
    "#print(x[:,3])\n",
    "hyokou = x[:,3]\n",
    "print (hyokou)"
   ]
  },
  {
   "cell_type": "code",
   "execution_count": 36,
   "metadata": {},
   "outputs": [
    {
     "name": "stdout",
     "output_type": "stream",
     "text": [
      "[   0.      0.      0.      0.      0.      6.62    0.59    4.99   42.21\n",
      "  117.15    6.28   50.37   47.17  158.38  -62.02    8.32  123.34  -18.01\n",
      "   -7.57  102.68   30.42   44.04  -26.74   -1.58  -54.09  151.4   -22.01\n",
      "  177.53   96.7   -57.01 -102.16  -73.94   27.86   93.14  -37.54  -78.13\n",
      "    7.72  -31.61    0.      0.      0.      0.      0.      0.      0.\n",
      "    0.      0.    127.68   -0.82  -20.36   49.44   74.7  -105.62  -17.92\n",
      "  -41.59  -51.04  109.86 -110.53   -1.82  -64.24 -108.22  -11.79  -54.82\n",
      "   60.87  -55.26  -40.69    7.33  -40.17   24.72  -41.94  -49.98   -6.61\n",
      "   13.23    2.13    0.15    6.43    9.02    3.5    28.27    2.19   22.4\n",
      "   15.66   13.16   16.58   16.7    14.44   17.     17.1    21.43   13.92\n",
      "   13.37   10.68   18.67   28.72   11.93   27.79   25.57   15.45   12.51\n",
      "   18.9    22.67   22.37   41.     25.27   26.61   22.24   40.58   26.92\n",
      "   34.1    25.35   46.11   60.78   53.28   20.11   52.55   67.58   69.65\n",
      "   76.91   55.28   36.42   61.07   67.07   55.48   68.04  103.46  122.67\n",
      "  120.38  110.32  119.25  137.3   139.7   122.45  142.35  119.91  178.43\n",
      "  168.35  165.49   79.88  -15.06  -97.14 -219.33 -176.9  -151.73 -155.24\n",
      " -151.53 -146.43 -116.37 -115.81  -93.44  -94.97  -84.38  -97.9   -59.53\n",
      " -105.21  -50.88  -68.86  -55.52  -32.76  -65.4   -40.85  -55.69  -44.96\n",
      "  -50.56  -27.05  -33.48  -13.74  -36.76  -21.17  -18.99  -21.47  -36.02\n",
      "  -29.1   -14.66  -13.02  -14.77   -3.95   -5.42  -10.39  -11.42  -28.47\n",
      "   -7.97  -15.08  -10.06   -2.08  135.84  109.64  117.28   30.44 -136.51\n",
      " -158.14  -83.38  -73.61    0.      0.    120.79  105.77   29.14 -165.65\n",
      "  -94.89 -171.5  -106.81  -60.06  -54.54   84.98   33.      2.66    8.52\n",
      " -151.73  -52.61  -13.67  -51.91  143.93   86.9   -65.81 -120.55  -14.24\n",
      "  -37.33  133.11   94.66   13.37  -31.83 -138.66  -85.83  -26.45   20.12\n",
      "  -62.55   62.06  108.22   74.36  -92.79  -77.74   79.28  -60.47  -84.3\n",
      "  -16.95   39.    108.72   27.98   53.34   10.93  -71.01   32.03   -6.89\n",
      "   46.83   39.07  207.23  105.92  -33.83   94.6   -14.35  177.7    81.87\n",
      "   29.91  -46.79 -157.68  -57.25  -19.44   62.82  169.09  101.86  112.17\n",
      "  175.05   68.55  134.46   21.92  122.75 -160.94   27.42   31.87 -160.1\n",
      "   63.2   -35.87   -8.86  -68.49 -128.4   -47.47 -108.29   66.07   27.47\n",
      "  -66.71   27.99 -137.47 -283.68  121.63  116.97  217.68  137.64  170.79\n",
      "   51.78  185.89  183.99  110.36  -54.32  -74.2  -166.27   26.39   29.36\n",
      " -132.63 -115.56]\n"
     ]
    }
   ],
   "source": [
    "koubai = hyokou/now\n",
    "print(koubai)"
   ]
  },
  {
   "cell_type": "code",
   "execution_count": 52,
   "metadata": {},
   "outputs": [],
   "source": [
    "#各地点の勾配の数値をリスト化する関数\n",
    "def conpute_koubai(x=0,y=3):\n",
    "    s = fuji[1:]- fuji[:-1]\n",
    "    now = s[:,x] #xの変化量\n",
    "    hyokou = s[:,y]\n",
    "    koubai = hyokou/now\n",
    "    return koubai\n",
    "#koubai = conpute_koubai(x,y)"
   ]
  },
  {
   "cell_type": "code",
   "execution_count": 53,
   "metadata": {},
   "outputs": [
    {
     "data": {
      "text/plain": [
       "array([   0.  ,    0.  ,    0.  ,    0.  ,    0.  ,    6.62,    0.59,\n",
       "          4.99,   42.21,  117.15,    6.28,   50.37,   47.17,  158.38,\n",
       "        -62.02,    8.32,  123.34,  -18.01,   -7.57,  102.68,   30.42,\n",
       "         44.04,  -26.74,   -1.58,  -54.09,  151.4 ,  -22.01,  177.53,\n",
       "         96.7 ,  -57.01, -102.16,  -73.94,   27.86,   93.14,  -37.54,\n",
       "        -78.13,    7.72,  -31.61,    0.  ,    0.  ,    0.  ,    0.  ,\n",
       "          0.  ,    0.  ,    0.  ,    0.  ,    0.  ,  127.68,   -0.82,\n",
       "        -20.36,   49.44,   74.7 , -105.62,  -17.92,  -41.59,  -51.04,\n",
       "        109.86, -110.53,   -1.82,  -64.24, -108.22,  -11.79,  -54.82,\n",
       "         60.87,  -55.26,  -40.69,    7.33,  -40.17,   24.72,  -41.94,\n",
       "        -49.98,   -6.61,   13.23,    2.13,    0.15,    6.43,    9.02,\n",
       "          3.5 ,   28.27,    2.19,   22.4 ,   15.66,   13.16,   16.58,\n",
       "         16.7 ,   14.44,   17.  ,   17.1 ,   21.43,   13.92,   13.37,\n",
       "         10.68,   18.67,   28.72,   11.93,   27.79,   25.57,   15.45,\n",
       "         12.51,   18.9 ,   22.67,   22.37,   41.  ,   25.27,   26.61,\n",
       "         22.24,   40.58,   26.92,   34.1 ,   25.35,   46.11,   60.78,\n",
       "         53.28,   20.11,   52.55,   67.58,   69.65,   76.91,   55.28,\n",
       "         36.42,   61.07,   67.07,   55.48,   68.04,  103.46,  122.67,\n",
       "        120.38,  110.32,  119.25,  137.3 ,  139.7 ,  122.45,  142.35,\n",
       "        119.91,  178.43,  168.35,  165.49,   79.88,  -15.06,  -97.14,\n",
       "       -219.33, -176.9 , -151.73, -155.24, -151.53, -146.43, -116.37,\n",
       "       -115.81,  -93.44,  -94.97,  -84.38,  -97.9 ,  -59.53, -105.21,\n",
       "        -50.88,  -68.86,  -55.52,  -32.76,  -65.4 ,  -40.85,  -55.69,\n",
       "        -44.96,  -50.56,  -27.05,  -33.48,  -13.74,  -36.76,  -21.17,\n",
       "        -18.99,  -21.47,  -36.02,  -29.1 ,  -14.66,  -13.02,  -14.77,\n",
       "         -3.95,   -5.42,  -10.39,  -11.42,  -28.47,   -7.97,  -15.08,\n",
       "        -10.06,   -2.08,  135.84,  109.64,  117.28,   30.44, -136.51,\n",
       "       -158.14,  -83.38,  -73.61,    0.  ,    0.  ,  120.79,  105.77,\n",
       "         29.14, -165.65,  -94.89, -171.5 , -106.81,  -60.06,  -54.54,\n",
       "         84.98,   33.  ,    2.66,    8.52, -151.73,  -52.61,  -13.67,\n",
       "        -51.91,  143.93,   86.9 ,  -65.81, -120.55,  -14.24,  -37.33,\n",
       "        133.11,   94.66,   13.37,  -31.83, -138.66,  -85.83,  -26.45,\n",
       "         20.12,  -62.55,   62.06,  108.22,   74.36,  -92.79,  -77.74,\n",
       "         79.28,  -60.47,  -84.3 ,  -16.95,   39.  ,  108.72,   27.98,\n",
       "         53.34,   10.93,  -71.01,   32.03,   -6.89,   46.83,   39.07,\n",
       "        207.23,  105.92,  -33.83,   94.6 ,  -14.35,  177.7 ,   81.87,\n",
       "         29.91,  -46.79, -157.68,  -57.25,  -19.44,   62.82,  169.09,\n",
       "        101.86,  112.17,  175.05,   68.55,  134.46,   21.92,  122.75,\n",
       "       -160.94,   27.42,   31.87, -160.1 ,   63.2 ,  -35.87,   -8.86,\n",
       "        -68.49, -128.4 ,  -47.47, -108.29,   66.07,   27.47,  -66.71,\n",
       "         27.99, -137.47, -283.68,  121.63,  116.97,  217.68,  137.64,\n",
       "        170.79,   51.78,  185.89,  183.99,  110.36,  -54.32,  -74.2 ,\n",
       "       -166.27,   26.39,   29.36, -132.63, -115.56])"
      ]
     },
     "execution_count": 53,
     "metadata": {},
     "output_type": "execute_result"
    }
   ],
   "source": [
    "conpute_koubai(0,3)"
   ]
  },
  {
   "cell_type": "code",
   "execution_count": 54,
   "metadata": {},
   "outputs": [],
   "source": [
    "#特定の場所から勾配を求める関数\n",
    "def conpute_koubai_n (x=0,y=3,n=136):\n",
    "    a = fuji[1:]- fuji[:-1]\n",
    "    now = a[:,x]\n",
    "    hyokou = a[:,y]\n",
    "    koubai = hyokou/now\n",
    "    koubai_n = koubai[n]\n",
    "    return koubai_n"
   ]
  },
  {
   "cell_type": "code",
   "execution_count": 55,
   "metadata": {},
   "outputs": [
    {
     "data": {
      "text/plain": [
       "165.48999999999978"
      ]
     },
     "execution_count": 55,
     "metadata": {},
     "output_type": "execute_result"
    }
   ],
   "source": [
    "conpute_koubai_n()"
   ]
  },
  {
   "cell_type": "markdown",
   "metadata": {},
   "source": [
    "## 【問題3】移動先の地点を計算する関数を作成"
   ]
  },
  {
   "cell_type": "code",
   "execution_count": 56,
   "metadata": {},
   "outputs": [
    {
     "data": {
      "text/plain": [
       "9.0"
      ]
     },
     "execution_count": 56,
     "metadata": {},
     "output_type": "execute_result"
    }
   ],
   "source": [
    "def jiten(ban):\n",
    "    \n",
    "    number = conpute_koubai()\n",
    "    result = ban - 0.2 * number[ban]\n",
    "    \n",
    "    return round(result)\n",
    "    \n",
    "jiten(10)"
   ]
  },
  {
   "cell_type": "code",
   "execution_count": 57,
   "metadata": {},
   "outputs": [
    {
     "data": {
      "text/plain": [
       "103.0"
      ]
     },
     "execution_count": 57,
     "metadata": {},
     "output_type": "execute_result"
    }
   ],
   "source": [
    "jiten(136)"
   ]
  },
  {
   "cell_type": "markdown",
   "metadata": {},
   "source": [
    "## 【問題4】山を下る関数を作成"
   ]
  },
  {
   "cell_type": "code",
   "execution_count": 58,
   "metadata": {},
   "outputs": [],
   "source": [
    "def gezan(a=136):\n",
    "    \n",
    "    gezan_list = [a]\n",
    "    number = conpute_koubai()\n",
    "    v = fuji[a:,3]\n",
    "    result_a = a\n",
    "    \n",
    "    while True:\n",
    "        result_b = result_a - 0.2 * number[result_a]\n",
    "        result = round(result_b)\n",
    "        result_a = int(result)\n",
    "        \n",
    "        gezan_list.append(result_a)\n",
    "        v = fuji[result_a,3]\n",
    "        \n",
    "        b = result_a - 0.2 * number[result_a]\n",
    "        b_1 = round(b)\n",
    "        b_2 = int(b_1)\n",
    "        \n",
    "        if  b_2 in gezan_list:\n",
    "            break\n",
    "            \n",
    "    return gezan_list  \n",
    "\n",
    "    gezan_list  = gezan(a)\n",
    "    #print(fuji)\n",
    "    #print(v)"
   ]
  },
  {
   "cell_type": "code",
   "execution_count": 59,
   "metadata": {},
   "outputs": [
    {
     "data": {
      "text/plain": [
       "[136, 103, 98, 95, 89, 86, 83, 80, 76, 74]"
      ]
     },
     "execution_count": 59,
     "metadata": {},
     "output_type": "execute_result"
    }
   ],
   "source": [
    "gezan()"
   ]
  },
  {
   "cell_type": "code",
   "execution_count": 60,
   "metadata": {},
   "outputs": [
    {
     "name": "stdout",
     "output_type": "stream",
     "text": [
      "[136, 103, 98, 95, 89, 86, 83, 80, 76, 74]\n"
     ]
    }
   ],
   "source": [
    "gezan_list  = gezan(136)\n",
    "print(gezan_list)"
   ]
  },
  {
   "cell_type": "markdown",
   "metadata": {},
   "source": [
    "## 【問題5】下山過程の可視化"
   ]
  },
  {
   "cell_type": "code",
   "execution_count": 61,
   "metadata": {},
   "outputs": [],
   "source": [
    "#fujiのデータから特定の列：デフォルトは標高(y=3)の特定の位置(n)のデータを抽出する関数\n",
    "def conpute_some_n_fuji (y=3,n=[gezan_list]):\n",
    "    some_data_list= []\n",
    "    for i in range(len(n)):\n",
    "        m = n[i]\n",
    "        some_data_list.append(fuji[m,y])\n",
    "    return some_data_list"
   ]
  },
  {
   "cell_type": "code",
   "execution_count": 62,
   "metadata": {},
   "outputs": [
    {
     "name": "stdout",
     "output_type": "stream",
     "text": [
      "[array([3434.59,  858.62,  741.17,  672.36,  575.07,  519.54,  471.82,\n",
      "        420.6 ,  377.62,  371.04])]\n"
     ]
    }
   ],
   "source": [
    "conpute_some_n_fuji(3,[gezan_list])\n",
    "some_data_list = conpute_some_n_fuji(3,[gezan_list])\n",
    "print(some_data_list)"
   ]
  },
  {
   "cell_type": "code",
   "execution_count": 63,
   "metadata": {},
   "outputs": [
    {
     "name": "stdout",
     "output_type": "stream",
     "text": [
      "[136, 103, 98, 95, 89, 86, 83, 80, 76, 74]\n"
     ]
    }
   ],
   "source": [
    "print(gezan_list)"
   ]
  },
  {
   "cell_type": "code",
   "execution_count": 67,
   "metadata": {},
   "outputs": [
    {
     "name": "stdout",
     "output_type": "stream",
     "text": [
      "[array([3434.59,  858.62,  741.17,  672.36,  575.07,  519.54,  471.82,\n",
      "        420.6 ,  377.62,  371.04])]\n",
      "<class 'list'>\n"
     ]
    }
   ],
   "source": [
    "print(some_data_list) #このリストに「array」つくのか謎」\n",
    "print(type(some_data_list)) "
   ]
  },
  {
   "cell_type": "code",
   "execution_count": 68,
   "metadata": {},
   "outputs": [
    {
     "name": "stdout",
     "output_type": "stream",
     "text": [
      "[136 103  98  95  89  86  83  80  76  74]\n",
      "[[3434.59  858.62  741.17  672.36  575.07  519.54  471.82  420.6   377.62\n",
      "   371.04]]\n",
      "[array([3434.59,  858.62,  741.17,  672.36,  575.07,  519.54,  471.82,\n",
      "        420.6 ,  377.62,  371.04])]\n",
      "(10,)\n",
      "(1, 10)\n",
      "(10, 1)\n"
     ]
    }
   ],
   "source": [
    "import numpy as np\n",
    "\n",
    "x = np.array(gezan_list)\n",
    "y = np.array(some_data_list)\n",
    "print(x)\n",
    "print(y)\n",
    "print(some_data_list)\n",
    "print(x.shape)\n",
    "print(y.shape) # これが謎\n",
    "print(y.T.shape)"
   ]
  },
  {
   "cell_type": "code",
   "execution_count": 132,
   "metadata": {},
   "outputs": [
    {
     "name": "stdout",
     "output_type": "stream",
     "text": [
      "[array([858.62, 741.17, 672.36, 575.07, 519.54, 471.82, 420.6 , 377.62,\n",
      "       371.04])]\n"
     ]
    }
   ],
   "source": [
    "print(some_data_list)"
   ]
  },
  {
   "cell_type": "code",
   "execution_count": 77,
   "metadata": {},
   "outputs": [
    {
     "data": {
      "image/png": "[encoded data removed]",
      "text/plain": [
       "<Figure size 432x288 with 1 Axes>"
      ]
     },
     "metadata": {
      "needs_background": "light"
     },
     "output_type": "display_data"
    }
   ],
   "source": [
    "# 富士山の標高と136の時点からハイパーパラメータ「0.2」で下山した時の標高を比較\n",
    "plt.title(\"Mt.fuji\")\n",
    "plt.xlabel('now')\n",
    "plt.ylabel('hyokou')\n",
    "\n",
    "plt.plot(x[:],y.T[:,0],label=\"gezan\")\n",
    "plt.plot(fuji[:, 0], fuji[:, 3],label=\"fuji\")\n",
    "plt.legend()\n",
    "\n",
    "plt.show()"
   ]
  },
  {
   "cell_type": "markdown",
   "metadata": {},
   "source": [
    "## 【問題6】初期値の変更"
   ]
  },
  {
   "cell_type": "code",
   "execution_count": 78,
   "metadata": {},
   "outputs": [
    {
     "name": "stdout",
     "output_type": "stream",
     "text": [
      "[142, 172, 175, 176, 177, 179, 185, 163, 168]\n",
      "[array([3171.53, 1095.73, 1053.28, 1049.33, 1043.91, 1022.1 , 1094.28,\n",
      "       1333.51, 1201.31])]\n"
     ]
    }
   ],
   "source": [
    "#今いる時点を136から142に変更\n",
    "gezan_list_142  = gezan(142)\n",
    "print(gezan_list_142)\n",
    "some_data_list_142 = conpute_some_n_fuji(3,[gezan_list_142])\n",
    "print(some_data_list_142)"
   ]
  },
  {
   "cell_type": "code",
   "execution_count": 79,
   "metadata": {},
   "outputs": [
    {
     "name": "stdout",
     "output_type": "stream",
     "text": [
      "[136 103  98  95  89  86  83  80  76  74]\n",
      "[[3434.59  858.62  741.17  672.36  575.07  519.54  471.82  420.6   377.62\n",
      "   371.04]]\n"
     ]
    }
   ],
   "source": [
    "x_142 = np.array(gezan_list_142)\n",
    "y_142 = np.array(some_data_list_142)\n",
    "print(x)\n",
    "print(y)"
   ]
  },
  {
   "cell_type": "code",
   "execution_count": 83,
   "metadata": {},
   "outputs": [
    {
     "data": {
      "image/png": "[encoded data removed]",
      "text/plain": [
       "<Figure size 432x288 with 1 Axes>"
      ]
     },
     "metadata": {
      "needs_background": "light"
     },
     "output_type": "display_data"
    }
   ],
   "source": [
    "# 富士山の標高と136と142の時点からハイパーパラメータ「0.2」で下山した時の標高を比較\n",
    "plt.title(\"Mt.fuji\")\n",
    "plt.xlabel('now')\n",
    "plt.ylabel('hyokou')\n",
    "\n",
    "plt.plot(x_142[:],y_142.T[:,0],label=\"from142\")\n",
    "plt.plot(x[:],y.T[:,0],label=\"from136\")\n",
    "plt.plot(fuji[:, 0], fuji[:, 3],label=\"fuji\")\n",
    "plt.legend()\n",
    "\n",
    "plt.show()"
   ]
  },
  {
   "cell_type": "markdown",
   "metadata": {},
   "source": [
    "## 【問題7】（アドバンス問題）ハイパーパラメータの変更"
   ]
  },
  {
   "cell_type": "code",
   "execution_count": 84,
   "metadata": {},
   "outputs": [],
   "source": [
    "# ハイパーパラメータも引数に加えられる関数に変更\n",
    "def gezan_hyper(a=136,hyper=0.2):\n",
    "    \n",
    "    gezan_list = [a]\n",
    "    number = conpute_koubai()\n",
    "    v = fuji[a:,3]\n",
    "    result_a = a\n",
    "    \n",
    "    while True:\n",
    "        result_b = result_a - hyper * number[result_a]\n",
    "        result = round(result_b)\n",
    "        result_a = int(result)\n",
    "        \n",
    "        gezan_list.append(result_a)\n",
    "        v = fuji[result_a,3]\n",
    "        \n",
    "        b = result_a - hyper * number[result_a]\n",
    "        b_1 = round(b)\n",
    "        b_2 = int(b_1)\n",
    "        \n",
    "        if  b_2 in gezan_list:\n",
    "            break\n",
    "            \n",
    "    return gezan_list  "
   ]
  },
  {
   "cell_type": "code",
   "execution_count": 85,
   "metadata": {},
   "outputs": [
    {
     "data": {
      "text/plain": [
       "[136,\n",
       " 119,\n",
       " 115,\n",
       " 108,\n",
       " 105,\n",
       " 103,\n",
       " 100,\n",
       " 98,\n",
       " 97,\n",
       " 95,\n",
       " 92,\n",
       " 90,\n",
       " 89,\n",
       " 88,\n",
       " 86,\n",
       " 84,\n",
       " 82,\n",
       " 81,\n",
       " 79]"
      ]
     },
     "execution_count": 85,
     "metadata": {},
     "output_type": "execute_result"
    }
   ],
   "source": [
    "gezan_hyper(136,0.1)"
   ]
  },
  {
   "cell_type": "code",
   "execution_count": 86,
   "metadata": {},
   "outputs": [],
   "source": [
    "# 136の時点からhyperパラメータを0.1に変更\n",
    "gezan_list_136_01  = gezan_hyper(136,0.1)\n",
    "some_data_list_136_01 = conpute_some_n_fuji(3,[gezan_list_136_01])\n",
    "\n",
    "x_136_01 = np.array(gezan_list_136_01)\n",
    "y_136_01 = np.array(some_data_list_136_01)"
   ]
  },
  {
   "cell_type": "code",
   "execution_count": 87,
   "metadata": {},
   "outputs": [],
   "source": [
    "# 136の時点からhyperパラメータを0.3に変更\n",
    "gezan_list_136_03  = gezan_hyper(136,0.3)\n",
    "some_data_list_136_03 = conpute_some_n_fuji(3,[gezan_list_136_03])\n",
    "\n",
    "x_136_03 = np.array(gezan_list_136_03)\n",
    "y_136_03 = np.array(some_data_list_136_03)"
   ]
  },
  {
   "cell_type": "code",
   "execution_count": 88,
   "metadata": {},
   "outputs": [
    {
     "data": {
      "image/png": "[encoded data removed]",
      "text/plain": [
       "<Figure size 432x288 with 1 Axes>"
      ]
     },
     "metadata": {
      "needs_background": "light"
     },
     "output_type": "display_data"
    }
   ],
   "source": [
    "# ハイパーパラメータ「0.1,0.2,0.3で変化を比較」\n",
    "plt.plot(x_136_01[:],y_136_01.T[:,0],label=\"0.1\",color=\"r\")\n",
    "plt.plot(x[:],y.T[:,0],label=\"0.2\")\n",
    "plt.plot(x_136_03[:],y_136_03.T[:,0],label=\"0.3\")\n",
    "#plt.plot(x_142[:],y_142.T[:,0])\n",
    "plt.plot(fuji[:, 0], fuji[:, 3],label=\"fuji\",color=\"b\",alpha=0.2)\n",
    "plt.legend()\n",
    "plt.show()"
   ]
  }
 ],
 "metadata": {
  "kernelspec": {
   "display_name": "Python 3",
   "language": "python",
   "name": "python3"
  },
  "language_info": {
   "codemirror_mode": {
    "name": "ipython",
    "version": 3
   },
   "file_extension": ".py",
   "mimetype": "text/x-python",
   "name": "python",
   "nbconvert_exporter": "python",
   "pygments_lexer": "ipython3",
   "version": "3.7.3"
  }
 },
 "nbformat": 4,
 "nbformat_minor": 2
}
