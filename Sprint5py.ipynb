{
 "cells": [
  {
   "cell_type": "code",
   "execution_count": null,
   "metadata": {},
   "outputs": [],
   "source": [
    "class ScratchSVMClassifier():\n",
    "        \n",
    "    def __init__(self, num_iter, lr):\n",
    "        # ハイパーパラメータを属性として記録\n",
    "        self.iter = num_iter\n",
    "        self.lr = lr\n",
    "     \n",
    "    def _kanel(self,X):\n",
    "        Xk = np.dot(X,X.T)\n",
    "        return Xk\n",
    "\n",
    "\n",
    "    def _lamda(self,X):\n",
    "        sm_n = X.shape[0]\n",
    "        self.lamda = np.random.randn(sm_n)\n",
    "        return self.lamda\n",
    "\n",
    "\n",
    "    def _new_lamda(self,X,y):\n",
    "        y_r=np.reshape(y,(y.shape[0],1))\n",
    "        \n",
    "        y_ij = np.dot(y_r,y_r.T)\n",
    "        X_ij = self._kanel(X)\n",
    "        \n",
    "        Xy_amad = X_ij*y_ij\n",
    "        Xy_sum = (self.lamda*Xy_amad).sum(1)\n",
    "        self.lamda +=  self.lr*(1-Xy_sum)\n",
    "        #0以下は0にする\n",
    "        self.lamda[self.lamda<=0]= 0\n",
    "        \n",
    "        return self.lamda\n",
    "       \n",
    "    def fit(self, X, y, X_val=None, y_val=None):\n",
    "        #predictで利用するXとyをselfで\n",
    "        self.X_train = X\n",
    "        self.y_train = y\n",
    "        \n",
    "        self.lamda = self._lamda(X)\n",
    "        \n",
    "        for i in range(self.iter):\n",
    "            self.lamda=self._new_lamda(X,y)            \n",
    "        return  self.lamda\n",
    "    \n",
    "    def predict(self,X):\n",
    "        index = self.lamda > 0.00001\n",
    "        #サポートベクトルのXとyとる\n",
    "        sb_X = self.X_train[index]\n",
    "        sb_y = self.y_train[index]\n",
    "        #計算\n",
    "        xxx = np.dot(X,sb_X.T)\n",
    "        #リシェーぷ\n",
    "        yyy_r=np.reshape(sb_y,(sb_y.shape[0],1))\n",
    "        yyy = lamda*yyy_r\n",
    "        #計算\n",
    "        y_pre = np.dot(xxx,yyy).sum(1)\n",
    "\n",
    "        #予測値「-1」or「1」を返す\n",
    "        n_p = y_pre.shape[0]\n",
    "        y_pre_k = np.arange(n_p)\n",
    "\n",
    "        for i in range(n_p):\n",
    "            if y_pre[i] > 0:\n",
    "                np.put(y_pre_k,[i],[1])\n",
    "            else:\n",
    "                np.put(y_pre_k,[i],[-1])\n",
    "        return y_pre_k"
   ]
  }
 ],
 "metadata": {
  "kernelspec": {
   "display_name": "Python 3",
   "language": "python",
   "name": "python3"
  },
  "language_info": {
   "codemirror_mode": {
    "name": "ipython",
    "version": 3
   },
   "file_extension": ".py",
   "mimetype": "text/x-python",
   "name": "python",
   "nbconvert_exporter": "python",
   "pygments_lexer": "ipython3",
   "version": "3.7.3"
  },
  "toc": {
   "base_numbering": 1,
   "nav_menu": {},
   "number_sections": true,
   "sideBar": true,
   "skip_h1_title": false,
   "title_cell": "Table of Contents",
   "title_sidebar": "Contents",
   "toc_cell": false,
   "toc_position": {},
   "toc_section_display": true,
   "toc_window_display": false
  },
  "varInspector": {
   "cols": {
    "lenName": 16,
    "lenType": 16,
    "lenVar": 40
   },
   "kernels_config": {
    "python": {
     "delete_cmd_postfix": "",
     "delete_cmd_prefix": "del ",
     "library": "var_list.py",
     "varRefreshCmd": "print(var_dic_list())"
    },
    "r": {
     "delete_cmd_postfix": ") ",
     "delete_cmd_prefix": "rm(",
     "library": "var_list.r",
     "varRefreshCmd": "cat(var_dic_list()) "
    }
   },
   "types_to_exclude": [
    "module",
    "function",
    "builtin_function_or_method",
    "instance",
    "_Feature"
   ],
   "window_display": false
  }
 },
 "nbformat": 4,
 "nbformat_minor": 2
}
